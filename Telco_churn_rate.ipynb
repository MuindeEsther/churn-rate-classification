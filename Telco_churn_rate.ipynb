{
  "nbformat": 4,
  "nbformat_minor": 0,
  "metadata": {
    "colab": {
      "provenance": [],
      "authorship_tag": "ABX9TyOskW9tLrPRy7lgeXsks5vJ",
      "include_colab_link": true
    },
    "kernelspec": {
      "name": "python3",
      "display_name": "Python 3"
    },
    "language_info": {
      "name": "python"
    }
  },
  "cells": [
    {
      "cell_type": "markdown",
      "metadata": {
        "id": "view-in-github",
        "colab_type": "text"
      },
      "source": [
        "<a href=\"https://colab.research.google.com/github/MuindeEsther/churn-rate-classification/blob/main/Telco_churn_rate.ipynb\" target=\"_parent\"><img src=\"https://colab.research.google.com/assets/colab-badge.svg\" alt=\"Open In Colab\"/></a>"
      ]
    },
    {
      "cell_type": "markdown",
      "source": [
        "## Telco-Churn Rate\n",
        " In this project we will build a classification model to predict churn rate for customers who churn that is if customer's are going to leave or not?\n",
        "\n",
        "\n",
        " ## Load dataset"
      ],
      "metadata": {
        "id": "ytsvPJw7-be6"
      }
    },
    {
      "cell_type": "code",
      "source": [
        "# Import Libraries\n",
        "import pandas as pd\n",
        "import numpy as np\n",
        "import seaborn as sns\n",
        "import matplotlib.pyplot as plt\n",
        "import matplotlib.pyplot as pl\n",
        "import plotly.express as px\n",
        "from sklearn.preprocessing import LabelEncoder\n",
        "import imblearn\n",
        "from collections import Counter\n",
        "from imblearn.over_sampling import SMOTE\n",
        "from imblearn.pipeline import Pipeline\n",
        "from sklearn.tree import DecisionTreeClassifier\n",
        "from sklearn.ensemble import RandomForestClassifier\n",
        "from sklearn.model_selection import train_test_split\n",
        "from sklearn.metrics import confusion_matrix, classification_report\n",
        "from sklearn.metrics import accuracy_score, f1_score,recall_score, precision_score\n",
        "from sklearn.metrics import average_precision_score, roc_auc_score, roc_curve, auc\n",
        "from xgboost import XGBClassifier"
      ],
      "metadata": {
        "id": "Hxc7kMRYJH-7"
      },
      "execution_count": 60,
      "outputs": []
    },
    {
      "cell_type": "code",
      "execution_count": 61,
      "metadata": {
        "colab": {
          "base_uri": "https://localhost:8080/"
        },
        "id": "CY2ZfSwhG4sW",
        "outputId": "c2bbbc77-ee6e-4dd2-b087-73d92464aaad"
      },
      "outputs": [
        {
          "output_type": "stream",
          "name": "stdout",
          "text": [
            "Requirement already satisfied: kaggle in /usr/local/lib/python3.10/dist-packages (1.6.12)\n",
            "Requirement already satisfied: six>=1.10 in /usr/local/lib/python3.10/dist-packages (from kaggle) (1.16.0)\n",
            "Requirement already satisfied: certifi>=2023.7.22 in /usr/local/lib/python3.10/dist-packages (from kaggle) (2024.2.2)\n",
            "Requirement already satisfied: python-dateutil in /usr/local/lib/python3.10/dist-packages (from kaggle) (2.8.2)\n",
            "Requirement already satisfied: requests in /usr/local/lib/python3.10/dist-packages (from kaggle) (2.31.0)\n",
            "Requirement already satisfied: tqdm in /usr/local/lib/python3.10/dist-packages (from kaggle) (4.66.4)\n",
            "Requirement already satisfied: python-slugify in /usr/local/lib/python3.10/dist-packages (from kaggle) (8.0.4)\n",
            "Requirement already satisfied: urllib3 in /usr/local/lib/python3.10/dist-packages (from kaggle) (2.0.7)\n",
            "Requirement already satisfied: bleach in /usr/local/lib/python3.10/dist-packages (from kaggle) (6.1.0)\n",
            "Requirement already satisfied: webencodings in /usr/local/lib/python3.10/dist-packages (from bleach->kaggle) (0.5.1)\n",
            "Requirement already satisfied: text-unidecode>=1.3 in /usr/local/lib/python3.10/dist-packages (from python-slugify->kaggle) (1.3)\n",
            "Requirement already satisfied: charset-normalizer<4,>=2 in /usr/local/lib/python3.10/dist-packages (from requests->kaggle) (3.3.2)\n",
            "Requirement already satisfied: idna<4,>=2.5 in /usr/local/lib/python3.10/dist-packages (from requests->kaggle) (3.7)\n"
          ]
        }
      ],
      "source": [
        "!pip install kaggle"
      ]
    },
    {
      "cell_type": "code",
      "source": [
        "# Make a directory named.kaggle\n",
        "!mkdir /root/.kaggle"
      ],
      "metadata": {
        "id": "khDlYndBHpEU",
        "colab": {
          "base_uri": "https://localhost:8080/"
        },
        "outputId": "3865ff86-7688-417c-9b51-30dd2b862089"
      },
      "execution_count": 62,
      "outputs": [
        {
          "output_type": "stream",
          "name": "stdout",
          "text": [
            "mkdir: cannot create directory ‘/root/.kaggle’: File exists\n"
          ]
        }
      ]
    },
    {
      "cell_type": "code",
      "source": [
        "# Download the dataset\n",
        "!kaggle datasets download blastchar/telco-customer-churn"
      ],
      "metadata": {
        "colab": {
          "base_uri": "https://localhost:8080/"
        },
        "id": "lL5gfKW-IL1P",
        "outputId": "72767bac-4db8-4003-91a5-673f4f083dbf"
      },
      "execution_count": 63,
      "outputs": [
        {
          "output_type": "stream",
          "name": "stdout",
          "text": [
            "Dataset URL: https://www.kaggle.com/datasets/blastchar/telco-customer-churn\n",
            "License(s): copyright-authors\n",
            "telco-customer-churn.zip: Skipping, found more recently modified local copy (use --force to force download)\n"
          ]
        }
      ]
    },
    {
      "cell_type": "code",
      "source": [
        "!unzip telco-customer-churn.zip"
      ],
      "metadata": {
        "colab": {
          "base_uri": "https://localhost:8080/"
        },
        "id": "NhOQq-RwIQ-5",
        "outputId": "eb6d80ef-a775-40f8-e13b-202fbaeff5c5"
      },
      "execution_count": 64,
      "outputs": [
        {
          "output_type": "stream",
          "name": "stdout",
          "text": [
            "Archive:  telco-customer-churn.zip\n",
            "replace WA_Fn-UseC_-Telco-Customer-Churn.csv? [y]es, [n]o, [A]ll, [N]one, [r]ename: y\n",
            "  inflating: WA_Fn-UseC_-Telco-Customer-Churn.csv  \n"
          ]
        }
      ]
    },
    {
      "cell_type": "code",
      "source": [
        "df = pd.read_csv('/content/WA_Fn-UseC_-Telco-Customer-Churn.csv')"
      ],
      "metadata": {
        "id": "GKbtjT0tJAlp"
      },
      "execution_count": 65,
      "outputs": []
    },
    {
      "cell_type": "code",
      "source": [
        "df.head()"
      ],
      "metadata": {
        "colab": {
          "base_uri": "https://localhost:8080/",
          "height": 342
        },
        "id": "dRE9dV3zLHKo",
        "outputId": "749f2b5f-493e-4ef7-f090-6b6c269b44bf"
      },
      "execution_count": 66,
      "outputs": [
        {
          "output_type": "execute_result",
          "data": {
            "text/plain": [
              "   customerID  gender  SeniorCitizen Partner Dependents  tenure PhoneService  \\\n",
              "0  7590-VHVEG  Female              0     Yes         No       1           No   \n",
              "1  5575-GNVDE    Male              0      No         No      34          Yes   \n",
              "2  3668-QPYBK    Male              0      No         No       2          Yes   \n",
              "3  7795-CFOCW    Male              0      No         No      45           No   \n",
              "4  9237-HQITU  Female              0      No         No       2          Yes   \n",
              "\n",
              "      MultipleLines InternetService OnlineSecurity  ... DeviceProtection  \\\n",
              "0  No phone service             DSL             No  ...               No   \n",
              "1                No             DSL            Yes  ...              Yes   \n",
              "2                No             DSL            Yes  ...               No   \n",
              "3  No phone service             DSL            Yes  ...              Yes   \n",
              "4                No     Fiber optic             No  ...               No   \n",
              "\n",
              "  TechSupport StreamingTV StreamingMovies        Contract PaperlessBilling  \\\n",
              "0          No          No              No  Month-to-month              Yes   \n",
              "1          No          No              No        One year               No   \n",
              "2          No          No              No  Month-to-month              Yes   \n",
              "3         Yes          No              No        One year               No   \n",
              "4          No          No              No  Month-to-month              Yes   \n",
              "\n",
              "               PaymentMethod MonthlyCharges  TotalCharges Churn  \n",
              "0           Electronic check          29.85         29.85    No  \n",
              "1               Mailed check          56.95        1889.5    No  \n",
              "2               Mailed check          53.85        108.15   Yes  \n",
              "3  Bank transfer (automatic)          42.30       1840.75    No  \n",
              "4           Electronic check          70.70        151.65   Yes  \n",
              "\n",
              "[5 rows x 21 columns]"
            ],
            "text/html": [
              "\n",
              "  <div id=\"df-9c84a618-98a7-4f0c-aa70-b8534c0626fd\" class=\"colab-df-container\">\n",
              "    <div>\n",
              "<style scoped>\n",
              "    .dataframe tbody tr th:only-of-type {\n",
              "        vertical-align: middle;\n",
              "    }\n",
              "\n",
              "    .dataframe tbody tr th {\n",
              "        vertical-align: top;\n",
              "    }\n",
              "\n",
              "    .dataframe thead th {\n",
              "        text-align: right;\n",
              "    }\n",
              "</style>\n",
              "<table border=\"1\" class=\"dataframe\">\n",
              "  <thead>\n",
              "    <tr style=\"text-align: right;\">\n",
              "      <th></th>\n",
              "      <th>customerID</th>\n",
              "      <th>gender</th>\n",
              "      <th>SeniorCitizen</th>\n",
              "      <th>Partner</th>\n",
              "      <th>Dependents</th>\n",
              "      <th>tenure</th>\n",
              "      <th>PhoneService</th>\n",
              "      <th>MultipleLines</th>\n",
              "      <th>InternetService</th>\n",
              "      <th>OnlineSecurity</th>\n",
              "      <th>...</th>\n",
              "      <th>DeviceProtection</th>\n",
              "      <th>TechSupport</th>\n",
              "      <th>StreamingTV</th>\n",
              "      <th>StreamingMovies</th>\n",
              "      <th>Contract</th>\n",
              "      <th>PaperlessBilling</th>\n",
              "      <th>PaymentMethod</th>\n",
              "      <th>MonthlyCharges</th>\n",
              "      <th>TotalCharges</th>\n",
              "      <th>Churn</th>\n",
              "    </tr>\n",
              "  </thead>\n",
              "  <tbody>\n",
              "    <tr>\n",
              "      <th>0</th>\n",
              "      <td>7590-VHVEG</td>\n",
              "      <td>Female</td>\n",
              "      <td>0</td>\n",
              "      <td>Yes</td>\n",
              "      <td>No</td>\n",
              "      <td>1</td>\n",
              "      <td>No</td>\n",
              "      <td>No phone service</td>\n",
              "      <td>DSL</td>\n",
              "      <td>No</td>\n",
              "      <td>...</td>\n",
              "      <td>No</td>\n",
              "      <td>No</td>\n",
              "      <td>No</td>\n",
              "      <td>No</td>\n",
              "      <td>Month-to-month</td>\n",
              "      <td>Yes</td>\n",
              "      <td>Electronic check</td>\n",
              "      <td>29.85</td>\n",
              "      <td>29.85</td>\n",
              "      <td>No</td>\n",
              "    </tr>\n",
              "    <tr>\n",
              "      <th>1</th>\n",
              "      <td>5575-GNVDE</td>\n",
              "      <td>Male</td>\n",
              "      <td>0</td>\n",
              "      <td>No</td>\n",
              "      <td>No</td>\n",
              "      <td>34</td>\n",
              "      <td>Yes</td>\n",
              "      <td>No</td>\n",
              "      <td>DSL</td>\n",
              "      <td>Yes</td>\n",
              "      <td>...</td>\n",
              "      <td>Yes</td>\n",
              "      <td>No</td>\n",
              "      <td>No</td>\n",
              "      <td>No</td>\n",
              "      <td>One year</td>\n",
              "      <td>No</td>\n",
              "      <td>Mailed check</td>\n",
              "      <td>56.95</td>\n",
              "      <td>1889.5</td>\n",
              "      <td>No</td>\n",
              "    </tr>\n",
              "    <tr>\n",
              "      <th>2</th>\n",
              "      <td>3668-QPYBK</td>\n",
              "      <td>Male</td>\n",
              "      <td>0</td>\n",
              "      <td>No</td>\n",
              "      <td>No</td>\n",
              "      <td>2</td>\n",
              "      <td>Yes</td>\n",
              "      <td>No</td>\n",
              "      <td>DSL</td>\n",
              "      <td>Yes</td>\n",
              "      <td>...</td>\n",
              "      <td>No</td>\n",
              "      <td>No</td>\n",
              "      <td>No</td>\n",
              "      <td>No</td>\n",
              "      <td>Month-to-month</td>\n",
              "      <td>Yes</td>\n",
              "      <td>Mailed check</td>\n",
              "      <td>53.85</td>\n",
              "      <td>108.15</td>\n",
              "      <td>Yes</td>\n",
              "    </tr>\n",
              "    <tr>\n",
              "      <th>3</th>\n",
              "      <td>7795-CFOCW</td>\n",
              "      <td>Male</td>\n",
              "      <td>0</td>\n",
              "      <td>No</td>\n",
              "      <td>No</td>\n",
              "      <td>45</td>\n",
              "      <td>No</td>\n",
              "      <td>No phone service</td>\n",
              "      <td>DSL</td>\n",
              "      <td>Yes</td>\n",
              "      <td>...</td>\n",
              "      <td>Yes</td>\n",
              "      <td>Yes</td>\n",
              "      <td>No</td>\n",
              "      <td>No</td>\n",
              "      <td>One year</td>\n",
              "      <td>No</td>\n",
              "      <td>Bank transfer (automatic)</td>\n",
              "      <td>42.30</td>\n",
              "      <td>1840.75</td>\n",
              "      <td>No</td>\n",
              "    </tr>\n",
              "    <tr>\n",
              "      <th>4</th>\n",
              "      <td>9237-HQITU</td>\n",
              "      <td>Female</td>\n",
              "      <td>0</td>\n",
              "      <td>No</td>\n",
              "      <td>No</td>\n",
              "      <td>2</td>\n",
              "      <td>Yes</td>\n",
              "      <td>No</td>\n",
              "      <td>Fiber optic</td>\n",
              "      <td>No</td>\n",
              "      <td>...</td>\n",
              "      <td>No</td>\n",
              "      <td>No</td>\n",
              "      <td>No</td>\n",
              "      <td>No</td>\n",
              "      <td>Month-to-month</td>\n",
              "      <td>Yes</td>\n",
              "      <td>Electronic check</td>\n",
              "      <td>70.70</td>\n",
              "      <td>151.65</td>\n",
              "      <td>Yes</td>\n",
              "    </tr>\n",
              "  </tbody>\n",
              "</table>\n",
              "<p>5 rows × 21 columns</p>\n",
              "</div>\n",
              "    <div class=\"colab-df-buttons\">\n",
              "\n",
              "  <div class=\"colab-df-container\">\n",
              "    <button class=\"colab-df-convert\" onclick=\"convertToInteractive('df-9c84a618-98a7-4f0c-aa70-b8534c0626fd')\"\n",
              "            title=\"Convert this dataframe to an interactive table.\"\n",
              "            style=\"display:none;\">\n",
              "\n",
              "  <svg xmlns=\"http://www.w3.org/2000/svg\" height=\"24px\" viewBox=\"0 -960 960 960\">\n",
              "    <path d=\"M120-120v-720h720v720H120Zm60-500h600v-160H180v160Zm220 220h160v-160H400v160Zm0 220h160v-160H400v160ZM180-400h160v-160H180v160Zm440 0h160v-160H620v160ZM180-180h160v-160H180v160Zm440 0h160v-160H620v160Z\"/>\n",
              "  </svg>\n",
              "    </button>\n",
              "\n",
              "  <style>\n",
              "    .colab-df-container {\n",
              "      display:flex;\n",
              "      gap: 12px;\n",
              "    }\n",
              "\n",
              "    .colab-df-convert {\n",
              "      background-color: #E8F0FE;\n",
              "      border: none;\n",
              "      border-radius: 50%;\n",
              "      cursor: pointer;\n",
              "      display: none;\n",
              "      fill: #1967D2;\n",
              "      height: 32px;\n",
              "      padding: 0 0 0 0;\n",
              "      width: 32px;\n",
              "    }\n",
              "\n",
              "    .colab-df-convert:hover {\n",
              "      background-color: #E2EBFA;\n",
              "      box-shadow: 0px 1px 2px rgba(60, 64, 67, 0.3), 0px 1px 3px 1px rgba(60, 64, 67, 0.15);\n",
              "      fill: #174EA6;\n",
              "    }\n",
              "\n",
              "    .colab-df-buttons div {\n",
              "      margin-bottom: 4px;\n",
              "    }\n",
              "\n",
              "    [theme=dark] .colab-df-convert {\n",
              "      background-color: #3B4455;\n",
              "      fill: #D2E3FC;\n",
              "    }\n",
              "\n",
              "    [theme=dark] .colab-df-convert:hover {\n",
              "      background-color: #434B5C;\n",
              "      box-shadow: 0px 1px 3px 1px rgba(0, 0, 0, 0.15);\n",
              "      filter: drop-shadow(0px 1px 2px rgba(0, 0, 0, 0.3));\n",
              "      fill: #FFFFFF;\n",
              "    }\n",
              "  </style>\n",
              "\n",
              "    <script>\n",
              "      const buttonEl =\n",
              "        document.querySelector('#df-9c84a618-98a7-4f0c-aa70-b8534c0626fd button.colab-df-convert');\n",
              "      buttonEl.style.display =\n",
              "        google.colab.kernel.accessAllowed ? 'block' : 'none';\n",
              "\n",
              "      async function convertToInteractive(key) {\n",
              "        const element = document.querySelector('#df-9c84a618-98a7-4f0c-aa70-b8534c0626fd');\n",
              "        const dataTable =\n",
              "          await google.colab.kernel.invokeFunction('convertToInteractive',\n",
              "                                                    [key], {});\n",
              "        if (!dataTable) return;\n",
              "\n",
              "        const docLinkHtml = 'Like what you see? Visit the ' +\n",
              "          '<a target=\"_blank\" href=https://colab.research.google.com/notebooks/data_table.ipynb>data table notebook</a>'\n",
              "          + ' to learn more about interactive tables.';\n",
              "        element.innerHTML = '';\n",
              "        dataTable['output_type'] = 'display_data';\n",
              "        await google.colab.output.renderOutput(dataTable, element);\n",
              "        const docLink = document.createElement('div');\n",
              "        docLink.innerHTML = docLinkHtml;\n",
              "        element.appendChild(docLink);\n",
              "      }\n",
              "    </script>\n",
              "  </div>\n",
              "\n",
              "\n",
              "<div id=\"df-716b51d8-dae0-4112-9266-488d1e454b90\">\n",
              "  <button class=\"colab-df-quickchart\" onclick=\"quickchart('df-716b51d8-dae0-4112-9266-488d1e454b90')\"\n",
              "            title=\"Suggest charts\"\n",
              "            style=\"display:none;\">\n",
              "\n",
              "<svg xmlns=\"http://www.w3.org/2000/svg\" height=\"24px\"viewBox=\"0 0 24 24\"\n",
              "     width=\"24px\">\n",
              "    <g>\n",
              "        <path d=\"M19 3H5c-1.1 0-2 .9-2 2v14c0 1.1.9 2 2 2h14c1.1 0 2-.9 2-2V5c0-1.1-.9-2-2-2zM9 17H7v-7h2v7zm4 0h-2V7h2v10zm4 0h-2v-4h2v4z\"/>\n",
              "    </g>\n",
              "</svg>\n",
              "  </button>\n",
              "\n",
              "<style>\n",
              "  .colab-df-quickchart {\n",
              "      --bg-color: #E8F0FE;\n",
              "      --fill-color: #1967D2;\n",
              "      --hover-bg-color: #E2EBFA;\n",
              "      --hover-fill-color: #174EA6;\n",
              "      --disabled-fill-color: #AAA;\n",
              "      --disabled-bg-color: #DDD;\n",
              "  }\n",
              "\n",
              "  [theme=dark] .colab-df-quickchart {\n",
              "      --bg-color: #3B4455;\n",
              "      --fill-color: #D2E3FC;\n",
              "      --hover-bg-color: #434B5C;\n",
              "      --hover-fill-color: #FFFFFF;\n",
              "      --disabled-bg-color: #3B4455;\n",
              "      --disabled-fill-color: #666;\n",
              "  }\n",
              "\n",
              "  .colab-df-quickchart {\n",
              "    background-color: var(--bg-color);\n",
              "    border: none;\n",
              "    border-radius: 50%;\n",
              "    cursor: pointer;\n",
              "    display: none;\n",
              "    fill: var(--fill-color);\n",
              "    height: 32px;\n",
              "    padding: 0;\n",
              "    width: 32px;\n",
              "  }\n",
              "\n",
              "  .colab-df-quickchart:hover {\n",
              "    background-color: var(--hover-bg-color);\n",
              "    box-shadow: 0 1px 2px rgba(60, 64, 67, 0.3), 0 1px 3px 1px rgba(60, 64, 67, 0.15);\n",
              "    fill: var(--button-hover-fill-color);\n",
              "  }\n",
              "\n",
              "  .colab-df-quickchart-complete:disabled,\n",
              "  .colab-df-quickchart-complete:disabled:hover {\n",
              "    background-color: var(--disabled-bg-color);\n",
              "    fill: var(--disabled-fill-color);\n",
              "    box-shadow: none;\n",
              "  }\n",
              "\n",
              "  .colab-df-spinner {\n",
              "    border: 2px solid var(--fill-color);\n",
              "    border-color: transparent;\n",
              "    border-bottom-color: var(--fill-color);\n",
              "    animation:\n",
              "      spin 1s steps(1) infinite;\n",
              "  }\n",
              "\n",
              "  @keyframes spin {\n",
              "    0% {\n",
              "      border-color: transparent;\n",
              "      border-bottom-color: var(--fill-color);\n",
              "      border-left-color: var(--fill-color);\n",
              "    }\n",
              "    20% {\n",
              "      border-color: transparent;\n",
              "      border-left-color: var(--fill-color);\n",
              "      border-top-color: var(--fill-color);\n",
              "    }\n",
              "    30% {\n",
              "      border-color: transparent;\n",
              "      border-left-color: var(--fill-color);\n",
              "      border-top-color: var(--fill-color);\n",
              "      border-right-color: var(--fill-color);\n",
              "    }\n",
              "    40% {\n",
              "      border-color: transparent;\n",
              "      border-right-color: var(--fill-color);\n",
              "      border-top-color: var(--fill-color);\n",
              "    }\n",
              "    60% {\n",
              "      border-color: transparent;\n",
              "      border-right-color: var(--fill-color);\n",
              "    }\n",
              "    80% {\n",
              "      border-color: transparent;\n",
              "      border-right-color: var(--fill-color);\n",
              "      border-bottom-color: var(--fill-color);\n",
              "    }\n",
              "    90% {\n",
              "      border-color: transparent;\n",
              "      border-bottom-color: var(--fill-color);\n",
              "    }\n",
              "  }\n",
              "</style>\n",
              "\n",
              "  <script>\n",
              "    async function quickchart(key) {\n",
              "      const quickchartButtonEl =\n",
              "        document.querySelector('#' + key + ' button');\n",
              "      quickchartButtonEl.disabled = true;  // To prevent multiple clicks.\n",
              "      quickchartButtonEl.classList.add('colab-df-spinner');\n",
              "      try {\n",
              "        const charts = await google.colab.kernel.invokeFunction(\n",
              "            'suggestCharts', [key], {});\n",
              "      } catch (error) {\n",
              "        console.error('Error during call to suggestCharts:', error);\n",
              "      }\n",
              "      quickchartButtonEl.classList.remove('colab-df-spinner');\n",
              "      quickchartButtonEl.classList.add('colab-df-quickchart-complete');\n",
              "    }\n",
              "    (() => {\n",
              "      let quickchartButtonEl =\n",
              "        document.querySelector('#df-716b51d8-dae0-4112-9266-488d1e454b90 button');\n",
              "      quickchartButtonEl.style.display =\n",
              "        google.colab.kernel.accessAllowed ? 'block' : 'none';\n",
              "    })();\n",
              "  </script>\n",
              "</div>\n",
              "\n",
              "    </div>\n",
              "  </div>\n"
            ],
            "application/vnd.google.colaboratory.intrinsic+json": {
              "type": "dataframe",
              "variable_name": "df"
            }
          },
          "metadata": {},
          "execution_count": 66
        }
      ]
    },
    {
      "cell_type": "code",
      "source": [
        "df.info()"
      ],
      "metadata": {
        "colab": {
          "base_uri": "https://localhost:8080/"
        },
        "id": "-YuYOnwKLJLJ",
        "outputId": "d0a719c9-cb0d-477f-c4d0-69cba6a574fa"
      },
      "execution_count": 67,
      "outputs": [
        {
          "output_type": "stream",
          "name": "stdout",
          "text": [
            "<class 'pandas.core.frame.DataFrame'>\n",
            "RangeIndex: 7043 entries, 0 to 7042\n",
            "Data columns (total 21 columns):\n",
            " #   Column            Non-Null Count  Dtype  \n",
            "---  ------            --------------  -----  \n",
            " 0   customerID        7043 non-null   object \n",
            " 1   gender            7043 non-null   object \n",
            " 2   SeniorCitizen     7043 non-null   int64  \n",
            " 3   Partner           7043 non-null   object \n",
            " 4   Dependents        7043 non-null   object \n",
            " 5   tenure            7043 non-null   int64  \n",
            " 6   PhoneService      7043 non-null   object \n",
            " 7   MultipleLines     7043 non-null   object \n",
            " 8   InternetService   7043 non-null   object \n",
            " 9   OnlineSecurity    7043 non-null   object \n",
            " 10  OnlineBackup      7043 non-null   object \n",
            " 11  DeviceProtection  7043 non-null   object \n",
            " 12  TechSupport       7043 non-null   object \n",
            " 13  StreamingTV       7043 non-null   object \n",
            " 14  StreamingMovies   7043 non-null   object \n",
            " 15  Contract          7043 non-null   object \n",
            " 16  PaperlessBilling  7043 non-null   object \n",
            " 17  PaymentMethod     7043 non-null   object \n",
            " 18  MonthlyCharges    7043 non-null   float64\n",
            " 19  TotalCharges      7043 non-null   object \n",
            " 20  Churn             7043 non-null   object \n",
            "dtypes: float64(1), int64(2), object(18)\n",
            "memory usage: 1.1+ MB\n"
          ]
        }
      ]
    },
    {
      "cell_type": "code",
      "source": [
        "df.shape"
      ],
      "metadata": {
        "colab": {
          "base_uri": "https://localhost:8080/"
        },
        "id": "j4ZDVXlzLXD-",
        "outputId": "b2ec8880-5757-4cb6-845c-1a331f23064e"
      },
      "execution_count": 68,
      "outputs": [
        {
          "output_type": "execute_result",
          "data": {
            "text/plain": [
              "(7043, 21)"
            ]
          },
          "metadata": {},
          "execution_count": 68
        }
      ]
    },
    {
      "cell_type": "markdown",
      "source": [
        "## Data Preprocessing\n",
        "\n",
        "**Checking for missing values**"
      ],
      "metadata": {
        "id": "VogFy9ynMNxB"
      }
    },
    {
      "cell_type": "code",
      "source": [
        "df.isna().sum()"
      ],
      "metadata": {
        "colab": {
          "base_uri": "https://localhost:8080/"
        },
        "id": "579DzUuvMGjc",
        "outputId": "dee9eb28-00f8-4ce8-9f6d-bf204a75bd24"
      },
      "execution_count": 69,
      "outputs": [
        {
          "output_type": "execute_result",
          "data": {
            "text/plain": [
              "customerID          0\n",
              "gender              0\n",
              "SeniorCitizen       0\n",
              "Partner             0\n",
              "Dependents          0\n",
              "tenure              0\n",
              "PhoneService        0\n",
              "MultipleLines       0\n",
              "InternetService     0\n",
              "OnlineSecurity      0\n",
              "OnlineBackup        0\n",
              "DeviceProtection    0\n",
              "TechSupport         0\n",
              "StreamingTV         0\n",
              "StreamingMovies     0\n",
              "Contract            0\n",
              "PaperlessBilling    0\n",
              "PaymentMethod       0\n",
              "MonthlyCharges      0\n",
              "TotalCharges        0\n",
              "Churn               0\n",
              "dtype: int64"
            ]
          },
          "metadata": {},
          "execution_count": 69
        }
      ]
    },
    {
      "cell_type": "code",
      "source": [
        "df.groupby('Churn')['customerID'].nunique()"
      ],
      "metadata": {
        "colab": {
          "base_uri": "https://localhost:8080/"
        },
        "id": "HfQAifQnMJhZ",
        "outputId": "9af822f2-497e-4a71-b4f5-1c38a45575dd"
      },
      "execution_count": 70,
      "outputs": [
        {
          "output_type": "execute_result",
          "data": {
            "text/plain": [
              "Churn\n",
              "No     5174\n",
              "Yes    1869\n",
              "Name: customerID, dtype: int64"
            ]
          },
          "metadata": {},
          "execution_count": 70
        }
      ]
    },
    {
      "cell_type": "markdown",
      "source": [
        "Viola we have no missing values. Let us proceed to Exploratoy Data Analysis"
      ],
      "metadata": {
        "id": "H8AaIv71M_L5"
      }
    },
    {
      "cell_type": "markdown",
      "source": [
        "## Exploratory Data Analysis\n",
        "\n",
        "1. **General Churn Rate**\n",
        "\n",
        "To build a model that predicts customer churn rate, first we need to understand what factors have the greatest impact on the churn of customers from the service. Let's introduce a churn rate(the percentage of customers who churned) and look at it in terms of the characteristics of the customers we have."
      ],
      "metadata": {
        "id": "pqfIKAs0NKtv"
      }
    },
    {
      "cell_type": "code",
      "source": [
        "fig = px.pie(df.groupby('Churn')['customerID'].nunique().reset_index(),\n",
        "             values='customerID',\n",
        "             names='Churn')\n",
        "fig.show()\n"
      ],
      "metadata": {
        "colab": {
          "base_uri": "https://localhost:8080/",
          "height": 542
        },
        "id": "S3N453jgMi0-",
        "outputId": "9b2549a4-882e-43c7-b93e-13b832b309e8"
      },
      "execution_count": 71,
      "outputs": [
        {
          "output_type": "display_data",
          "data": {
            "text/html": [
              "<html>\n",
              "<head><meta charset=\"utf-8\" /></head>\n",
              "<body>\n",
              "    <div>            <script src=\"https://cdnjs.cloudflare.com/ajax/libs/mathjax/2.7.5/MathJax.js?config=TeX-AMS-MML_SVG\"></script><script type=\"text/javascript\">if (window.MathJax && window.MathJax.Hub && window.MathJax.Hub.Config) {window.MathJax.Hub.Config({SVG: {font: \"STIX-Web\"}});}</script>                <script type=\"text/javascript\">window.PlotlyConfig = {MathJaxConfig: 'local'};</script>\n",
              "        <script charset=\"utf-8\" src=\"https://cdn.plot.ly/plotly-2.24.1.min.js\"></script>                <div id=\"583edcd5-ca95-4fdc-b858-6cbb618e1772\" class=\"plotly-graph-div\" style=\"height:525px; width:100%;\"></div>            <script type=\"text/javascript\">                                    window.PLOTLYENV=window.PLOTLYENV || {};                                    if (document.getElementById(\"583edcd5-ca95-4fdc-b858-6cbb618e1772\")) {                    Plotly.newPlot(                        \"583edcd5-ca95-4fdc-b858-6cbb618e1772\",                        [{\"domain\":{\"x\":[0.0,1.0],\"y\":[0.0,1.0]},\"hovertemplate\":\"Churn=%{label}\\u003cbr\\u003ecustomerID=%{value}\\u003cextra\\u003e\\u003c\\u002fextra\\u003e\",\"labels\":[\"No\",\"Yes\"],\"legendgroup\":\"\",\"name\":\"\",\"showlegend\":true,\"values\":[5174,1869],\"type\":\"pie\"}],                        {\"template\":{\"data\":{\"histogram2dcontour\":[{\"type\":\"histogram2dcontour\",\"colorbar\":{\"outlinewidth\":0,\"ticks\":\"\"},\"colorscale\":[[0.0,\"#0d0887\"],[0.1111111111111111,\"#46039f\"],[0.2222222222222222,\"#7201a8\"],[0.3333333333333333,\"#9c179e\"],[0.4444444444444444,\"#bd3786\"],[0.5555555555555556,\"#d8576b\"],[0.6666666666666666,\"#ed7953\"],[0.7777777777777778,\"#fb9f3a\"],[0.8888888888888888,\"#fdca26\"],[1.0,\"#f0f921\"]]}],\"choropleth\":[{\"type\":\"choropleth\",\"colorbar\":{\"outlinewidth\":0,\"ticks\":\"\"}}],\"histogram2d\":[{\"type\":\"histogram2d\",\"colorbar\":{\"outlinewidth\":0,\"ticks\":\"\"},\"colorscale\":[[0.0,\"#0d0887\"],[0.1111111111111111,\"#46039f\"],[0.2222222222222222,\"#7201a8\"],[0.3333333333333333,\"#9c179e\"],[0.4444444444444444,\"#bd3786\"],[0.5555555555555556,\"#d8576b\"],[0.6666666666666666,\"#ed7953\"],[0.7777777777777778,\"#fb9f3a\"],[0.8888888888888888,\"#fdca26\"],[1.0,\"#f0f921\"]]}],\"heatmap\":[{\"type\":\"heatmap\",\"colorbar\":{\"outlinewidth\":0,\"ticks\":\"\"},\"colorscale\":[[0.0,\"#0d0887\"],[0.1111111111111111,\"#46039f\"],[0.2222222222222222,\"#7201a8\"],[0.3333333333333333,\"#9c179e\"],[0.4444444444444444,\"#bd3786\"],[0.5555555555555556,\"#d8576b\"],[0.6666666666666666,\"#ed7953\"],[0.7777777777777778,\"#fb9f3a\"],[0.8888888888888888,\"#fdca26\"],[1.0,\"#f0f921\"]]}],\"heatmapgl\":[{\"type\":\"heatmapgl\",\"colorbar\":{\"outlinewidth\":0,\"ticks\":\"\"},\"colorscale\":[[0.0,\"#0d0887\"],[0.1111111111111111,\"#46039f\"],[0.2222222222222222,\"#7201a8\"],[0.3333333333333333,\"#9c179e\"],[0.4444444444444444,\"#bd3786\"],[0.5555555555555556,\"#d8576b\"],[0.6666666666666666,\"#ed7953\"],[0.7777777777777778,\"#fb9f3a\"],[0.8888888888888888,\"#fdca26\"],[1.0,\"#f0f921\"]]}],\"contourcarpet\":[{\"type\":\"contourcarpet\",\"colorbar\":{\"outlinewidth\":0,\"ticks\":\"\"}}],\"contour\":[{\"type\":\"contour\",\"colorbar\":{\"outlinewidth\":0,\"ticks\":\"\"},\"colorscale\":[[0.0,\"#0d0887\"],[0.1111111111111111,\"#46039f\"],[0.2222222222222222,\"#7201a8\"],[0.3333333333333333,\"#9c179e\"],[0.4444444444444444,\"#bd3786\"],[0.5555555555555556,\"#d8576b\"],[0.6666666666666666,\"#ed7953\"],[0.7777777777777778,\"#fb9f3a\"],[0.8888888888888888,\"#fdca26\"],[1.0,\"#f0f921\"]]}],\"surface\":[{\"type\":\"surface\",\"colorbar\":{\"outlinewidth\":0,\"ticks\":\"\"},\"colorscale\":[[0.0,\"#0d0887\"],[0.1111111111111111,\"#46039f\"],[0.2222222222222222,\"#7201a8\"],[0.3333333333333333,\"#9c179e\"],[0.4444444444444444,\"#bd3786\"],[0.5555555555555556,\"#d8576b\"],[0.6666666666666666,\"#ed7953\"],[0.7777777777777778,\"#fb9f3a\"],[0.8888888888888888,\"#fdca26\"],[1.0,\"#f0f921\"]]}],\"mesh3d\":[{\"type\":\"mesh3d\",\"colorbar\":{\"outlinewidth\":0,\"ticks\":\"\"}}],\"scatter\":[{\"fillpattern\":{\"fillmode\":\"overlay\",\"size\":10,\"solidity\":0.2},\"type\":\"scatter\"}],\"parcoords\":[{\"type\":\"parcoords\",\"line\":{\"colorbar\":{\"outlinewidth\":0,\"ticks\":\"\"}}}],\"scatterpolargl\":[{\"type\":\"scatterpolargl\",\"marker\":{\"colorbar\":{\"outlinewidth\":0,\"ticks\":\"\"}}}],\"bar\":[{\"error_x\":{\"color\":\"#2a3f5f\"},\"error_y\":{\"color\":\"#2a3f5f\"},\"marker\":{\"line\":{\"color\":\"#E5ECF6\",\"width\":0.5},\"pattern\":{\"fillmode\":\"overlay\",\"size\":10,\"solidity\":0.2}},\"type\":\"bar\"}],\"scattergeo\":[{\"type\":\"scattergeo\",\"marker\":{\"colorbar\":{\"outlinewidth\":0,\"ticks\":\"\"}}}],\"scatterpolar\":[{\"type\":\"scatterpolar\",\"marker\":{\"colorbar\":{\"outlinewidth\":0,\"ticks\":\"\"}}}],\"histogram\":[{\"marker\":{\"pattern\":{\"fillmode\":\"overlay\",\"size\":10,\"solidity\":0.2}},\"type\":\"histogram\"}],\"scattergl\":[{\"type\":\"scattergl\",\"marker\":{\"colorbar\":{\"outlinewidth\":0,\"ticks\":\"\"}}}],\"scatter3d\":[{\"type\":\"scatter3d\",\"line\":{\"colorbar\":{\"outlinewidth\":0,\"ticks\":\"\"}},\"marker\":{\"colorbar\":{\"outlinewidth\":0,\"ticks\":\"\"}}}],\"scattermapbox\":[{\"type\":\"scattermapbox\",\"marker\":{\"colorbar\":{\"outlinewidth\":0,\"ticks\":\"\"}}}],\"scatterternary\":[{\"type\":\"scatterternary\",\"marker\":{\"colorbar\":{\"outlinewidth\":0,\"ticks\":\"\"}}}],\"scattercarpet\":[{\"type\":\"scattercarpet\",\"marker\":{\"colorbar\":{\"outlinewidth\":0,\"ticks\":\"\"}}}],\"carpet\":[{\"aaxis\":{\"endlinecolor\":\"#2a3f5f\",\"gridcolor\":\"white\",\"linecolor\":\"white\",\"minorgridcolor\":\"white\",\"startlinecolor\":\"#2a3f5f\"},\"baxis\":{\"endlinecolor\":\"#2a3f5f\",\"gridcolor\":\"white\",\"linecolor\":\"white\",\"minorgridcolor\":\"white\",\"startlinecolor\":\"#2a3f5f\"},\"type\":\"carpet\"}],\"table\":[{\"cells\":{\"fill\":{\"color\":\"#EBF0F8\"},\"line\":{\"color\":\"white\"}},\"header\":{\"fill\":{\"color\":\"#C8D4E3\"},\"line\":{\"color\":\"white\"}},\"type\":\"table\"}],\"barpolar\":[{\"marker\":{\"line\":{\"color\":\"#E5ECF6\",\"width\":0.5},\"pattern\":{\"fillmode\":\"overlay\",\"size\":10,\"solidity\":0.2}},\"type\":\"barpolar\"}],\"pie\":[{\"automargin\":true,\"type\":\"pie\"}]},\"layout\":{\"autotypenumbers\":\"strict\",\"colorway\":[\"#636efa\",\"#EF553B\",\"#00cc96\",\"#ab63fa\",\"#FFA15A\",\"#19d3f3\",\"#FF6692\",\"#B6E880\",\"#FF97FF\",\"#FECB52\"],\"font\":{\"color\":\"#2a3f5f\"},\"hovermode\":\"closest\",\"hoverlabel\":{\"align\":\"left\"},\"paper_bgcolor\":\"white\",\"plot_bgcolor\":\"#E5ECF6\",\"polar\":{\"bgcolor\":\"#E5ECF6\",\"angularaxis\":{\"gridcolor\":\"white\",\"linecolor\":\"white\",\"ticks\":\"\"},\"radialaxis\":{\"gridcolor\":\"white\",\"linecolor\":\"white\",\"ticks\":\"\"}},\"ternary\":{\"bgcolor\":\"#E5ECF6\",\"aaxis\":{\"gridcolor\":\"white\",\"linecolor\":\"white\",\"ticks\":\"\"},\"baxis\":{\"gridcolor\":\"white\",\"linecolor\":\"white\",\"ticks\":\"\"},\"caxis\":{\"gridcolor\":\"white\",\"linecolor\":\"white\",\"ticks\":\"\"}},\"coloraxis\":{\"colorbar\":{\"outlinewidth\":0,\"ticks\":\"\"}},\"colorscale\":{\"sequential\":[[0.0,\"#0d0887\"],[0.1111111111111111,\"#46039f\"],[0.2222222222222222,\"#7201a8\"],[0.3333333333333333,\"#9c179e\"],[0.4444444444444444,\"#bd3786\"],[0.5555555555555556,\"#d8576b\"],[0.6666666666666666,\"#ed7953\"],[0.7777777777777778,\"#fb9f3a\"],[0.8888888888888888,\"#fdca26\"],[1.0,\"#f0f921\"]],\"sequentialminus\":[[0.0,\"#0d0887\"],[0.1111111111111111,\"#46039f\"],[0.2222222222222222,\"#7201a8\"],[0.3333333333333333,\"#9c179e\"],[0.4444444444444444,\"#bd3786\"],[0.5555555555555556,\"#d8576b\"],[0.6666666666666666,\"#ed7953\"],[0.7777777777777778,\"#fb9f3a\"],[0.8888888888888888,\"#fdca26\"],[1.0,\"#f0f921\"]],\"diverging\":[[0,\"#8e0152\"],[0.1,\"#c51b7d\"],[0.2,\"#de77ae\"],[0.3,\"#f1b6da\"],[0.4,\"#fde0ef\"],[0.5,\"#f7f7f7\"],[0.6,\"#e6f5d0\"],[0.7,\"#b8e186\"],[0.8,\"#7fbc41\"],[0.9,\"#4d9221\"],[1,\"#276419\"]]},\"xaxis\":{\"gridcolor\":\"white\",\"linecolor\":\"white\",\"ticks\":\"\",\"title\":{\"standoff\":15},\"zerolinecolor\":\"white\",\"automargin\":true,\"zerolinewidth\":2},\"yaxis\":{\"gridcolor\":\"white\",\"linecolor\":\"white\",\"ticks\":\"\",\"title\":{\"standoff\":15},\"zerolinecolor\":\"white\",\"automargin\":true,\"zerolinewidth\":2},\"scene\":{\"xaxis\":{\"backgroundcolor\":\"#E5ECF6\",\"gridcolor\":\"white\",\"linecolor\":\"white\",\"showbackground\":true,\"ticks\":\"\",\"zerolinecolor\":\"white\",\"gridwidth\":2},\"yaxis\":{\"backgroundcolor\":\"#E5ECF6\",\"gridcolor\":\"white\",\"linecolor\":\"white\",\"showbackground\":true,\"ticks\":\"\",\"zerolinecolor\":\"white\",\"gridwidth\":2},\"zaxis\":{\"backgroundcolor\":\"#E5ECF6\",\"gridcolor\":\"white\",\"linecolor\":\"white\",\"showbackground\":true,\"ticks\":\"\",\"zerolinecolor\":\"white\",\"gridwidth\":2}},\"shapedefaults\":{\"line\":{\"color\":\"#2a3f5f\"}},\"annotationdefaults\":{\"arrowcolor\":\"#2a3f5f\",\"arrowhead\":0,\"arrowwidth\":1},\"geo\":{\"bgcolor\":\"white\",\"landcolor\":\"#E5ECF6\",\"subunitcolor\":\"white\",\"showland\":true,\"showlakes\":true,\"lakecolor\":\"white\"},\"title\":{\"x\":0.05},\"mapbox\":{\"style\":\"light\"}}},\"legend\":{\"tracegroupgap\":0},\"margin\":{\"t\":60}},                        {\"responsive\": true}                    ).then(function(){\n",
              "                            \n",
              "var gd = document.getElementById('583edcd5-ca95-4fdc-b858-6cbb618e1772');\n",
              "var x = new MutationObserver(function (mutations, observer) {{\n",
              "        var display = window.getComputedStyle(gd).display;\n",
              "        if (!display || display === 'none') {{\n",
              "            console.log([gd, 'removed!']);\n",
              "            Plotly.purge(gd);\n",
              "            observer.disconnect();\n",
              "        }}\n",
              "}});\n",
              "\n",
              "// Listen for the removal of the full notebook cells\n",
              "var notebookContainer = gd.closest('#notebook-container');\n",
              "if (notebookContainer) {{\n",
              "    x.observe(notebookContainer, {childList: true});\n",
              "}}\n",
              "\n",
              "// Listen for the clearing of the current output cell\n",
              "var outputEl = gd.closest('.output');\n",
              "if (outputEl) {{\n",
              "    x.observe(outputEl, {childList: true});\n",
              "}}\n",
              "\n",
              "                        })                };                            </script>        </div>\n",
              "</body>\n",
              "</html>"
            ]
          },
          "metadata": {}
        }
      ]
    },
    {
      "cell_type": "markdown",
      "source": [
        "26.5% customers churned while 73.5% didn't"
      ],
      "metadata": {
        "id": "dCdaIAgTOd1A"
      }
    },
    {
      "cell_type": "markdown",
      "source": [
        "2. **Customer's lifetime in the service**\n",
        "\n",
        "Let's see how many months the clients who are in the churn used our service and is there a point when the largest number of customers stop using the service"
      ],
      "metadata": {
        "id": "l-xFYOEzO39F"
      }
    },
    {
      "cell_type": "code",
      "source": [
        "fig = px.histogram(df, x=\"tenure\", color=\"Churn\", marginal=\"box\")\n",
        "fig.show()"
      ],
      "metadata": {
        "colab": {
          "base_uri": "https://localhost:8080/",
          "height": 542
        },
        "id": "ECZM7fbLOmXP",
        "outputId": "039645f5-37a0-479e-bc67-cec5989a49b7"
      },
      "execution_count": 72,
      "outputs": [
        {
          "output_type": "display_data",
          "data": {
            "text/html": [
              "<html>\n",
              "<head><meta charset=\"utf-8\" /></head>\n",
              "<body>\n",
              "    <div>            <script src=\"https://cdnjs.cloudflare.com/ajax/libs/mathjax/2.7.5/MathJax.js?config=TeX-AMS-MML_SVG\"></script><script type=\"text/javascript\">if (window.MathJax && window.MathJax.Hub && window.MathJax.Hub.Config) {window.MathJax.Hub.Config({SVG: {font: \"STIX-Web\"}});}</script>                <script type=\"text/javascript\">window.PlotlyConfig = {MathJaxConfig: 'local'};</script>\n",
              "        <script charset=\"utf-8\" src=\"https://cdn.plot.ly/plotly-2.24.1.min.js\"></script>                <div id=\"e6951e70-d7f3-47a4-9f72-31bd4bc6081e\" class=\"plotly-graph-div\" style=\"height:525px; width:100%;\"></div>            <script type=\"text/javascript\">                                    window.PLOTLYENV=window.PLOTLYENV || {};                                    if (document.getElementById(\"e6951e70-d7f3-47a4-9f72-31bd4bc6081e\")) {                    Plotly.newPlot(                        \"e6951e70-d7f3-47a4-9f72-31bd4bc6081e\",                        [{\"alignmentgroup\":\"True\",\"bingroup\":\"x\",\"hovertemplate\":\"Churn=No\\u003cbr\\u003etenure=%{x}\\u003cbr\\u003ecount=%{y}\\u003cextra\\u003e\\u003c\\u002fextra\\u003e\",\"legendgroup\":\"No\",\"marker\":{\"color\":\"#636efa\",\"pattern\":{\"shape\":\"\"}},\"name\":\"No\",\"offsetgroup\":\"No\",\"orientation\":\"v\",\"showlegend\":true,\"x\":[1,34,45,22,10,62,13,16,58,25,69,52,71,21,12,58,49,30,72,71,2,27,1,1,72,46,10,70,17,63,13,49,2,52,69,43,25,60,63,66,34,72,47,60,72,18,3,47,31,50,10,1,52,64,62,3,56,46,8,30,45,11,42,49,9,35,48,46,29,30,1,66,65,72,71,52,1,1,38,66,5,72,32,43,72,52,43,64,3,36,41,27,56,6,7,4,33,72,1,71,13,67,43,23,64,57,72,61,64,71,65,3,30,15,8,70,62,6,14,22,22,16,10,13,2,53,11,69,72,16,43,14,32,34,15,61,1,33,20,3,13,40,43,69,72,59,20,24,59,72,1,27,14,71,13,44,33,72,64,1,61,29,23,57,72,66,65,8,71,1,12,24,31,30,47,54,50,72,29,10,18,16,72,72,41,65,13,4,41,42,51,32,10,67,61,50,29,57,31,45,61,50,19,71,57,20,21,14,5,6,10,1,68,22,20,35,23,6,12,1,71,35,40,23,4,68,38,52,29,38,48,1,22,43,5,51,71,35,72,1,9,69,52,11,28,17,35,8,46,68,36,32,71,66,63,41,1,70,23,64,37,17,7,16,64,42,5,41,58,47,18,23,1,71,72,33,24,56,37,43,1,61,17,41,72,48,42,44,1,27,27,2,19,42,66,33,33,23,32,11,68,20,72,60,32,46,29,51,48,16,70,40,5,7,29,44,10,55,52,10,18,68,72,2,41,26,36,72,35,1,16,49,54,18,36,52,8,72,64,22,60,61,24,28,30,2,1,6,24,72,70,64,72,44,17,9,24,35,7,11,20,72,72,15,72,0,63,2,61,1,28,70,34,71,70,52,69,11,1,20,61,56,30,28,5,12,67,29,55,52,72,58,35,56,24,70,2,68,12,63,33,69,60,72,11,1,34,65,50,15,72,72,55,23,56,1,38,11,1,56,3,7,59,7,71,15,71,11,60,47,11,28,61,31,9,35,2,1,3,52,5,72,71,72,46,63,30,1,16,4,51,65,16,2,66,46,32,72,38,51,72,66,44,50,15,8,66,57,7,10,62,40,20,25,23,66,72,46,72,10,40,31,68,68,49,15,50,24,35,17,10,68,45,37,10,1,65,57,3,49,70,53,53,22,65,48,3,45,61,3,40,1,1,51,52,51,1,31,47,22,1,72,47,72,66,35,29,2,4,65,27,29,29,20,58,14,72,46,71,32,26,68,2,61,9,22,5,65,5,25,72,27,32,30,70,42,72,47,2,61,5,72,72,3,48,63,27,70,7,0,2,66,3,72,1,72,65,11,22,14,41,17,11,72,3,59,71,5,27,63,72,34,24,72,60,68,8,34,6,2,31,20,1,70,39,46,72,18,71,42,34,5,25,55,70,61,43,47,5,62,14,34,38,70,37,60,62,36,44,72,13,15,65,12,72,72,72,52,2,5,68,72,66,72,26,64,62,5,3,72,57,66,45,3,51,60,33,26,67,49,1,7,27,37,31,32,63,30,71,53,50,2,56,67,4,19,8,71,15,72,12,72,23,72,26,21,60,12,16,63,22,32,68,30,16,33,72,12,4,0,65,15,24,13,24,72,54,4,32,35,8,22,15,22,71,4,25,32,7,17,8,56,3,71,49,58,59,11,35,20,40,39,72,12,1,27,34,56,58,22,10,13,72,2,4,37,21,53,23,3,71,9,1,71,64,4,23,39,28,5,45,37,60,47,50,27,62,71,66,68,13,56,16,14,8,43,52,3,29,16,40,36,26,72,34,10,14,47,24,20,22,1,59,58,59,3,32,46,0,52,32,16,51,29,70,71,41,1,7,67,5,15,20,54,42,9,63,69,69,40,60,71,32,39,38,52,48,70,20,50,25,12,23,27,47,26,2,26,72,63,71,11,14,13,6,11,18,32,29,3,41,1,7,52,45,70,53,62,60,23,67,71,25,5,26,1,70,72,32,14,13,46,43,39,57,53,18,58,71,35,3,38,35,47,14,20,66,15,42,17,37,12,60,18,3,9,56,7,69,54,62,62,17,9,64,72,30,49,61,47,20,70,54,61,13,3,25,30,21,23,45,24,56,1,55,72,45,47,2,2,12,69,56,4,64,62,63,53,5,49,62,55,71,72,36,25,72,36,1,72,59,1,30,64,63,72,62,67,70,20,5,24,72,66,45,69,28,36,42,48,11,7,3,8,32,60,10,71,43,23,72,22,1,69,50,15,31,0,8,64,28,57,19,51,67,11,72,66,9,9,48,10,72,51,61,54,33,27,23,1,45,39,72,58,70,61,2,46,48,64,72,12,72,29,33,1,62,4,24,14,3,8,35,66,8,71,43,29,65,35,64,58,18,67,63,60,70,48,12,71,44,45,23,43,35,9,65,27,40,8,58,52,3,41,20,1,23,6,8,18,52,31,29,36,42,60,22,36,9,1,12,23,62,8,31,45,69,2,44,39,72,13,51,71,56,1,23,66,1,11,52,3,51,64,37,13,49,45,18,68,54,23,71,67,14,63,41,17,56,5,3,37,8,63,7,3,72,19,59,35,14,69,7,69,72,4,63,72,46,30,63,60,25,6,22,31,39,26,12,2,39,7,4,55,72,10,11,15,23,1,47,15,68,21,21,56,6,65,42,68,48,50,7,63,17,4,62,2,48,27,70,46,69,65,72,17,51,51,72,34,67,49,53,27,69,2,46,54,20,11,30,68,38,1,63,3,48,66,68,7,72,29,37,59,60,27,17,58,1,53,35,68,47,65,9,8,14,45,8,66,72,23,4,6,67,7,56,72,72,23,35,27,12,40,7,70,60,39,72,54,63,71,42,47,11,55,69,3,30,5,71,29,52,68,46,8,72,17,3,2,51,6,3,17,30,31,45,64,61,1,72,7,66,40,16,67,41,56,72,54,52,50,27,72,62,12,44,54,68,20,50,58,35,2,63,58,27,71,63,71,68,1,65,72,28,72,2,60,26,68,42,57,54,44,42,72,71,23,30,35,1,22,7,36,34,72,36,71,23,17,1,12,72,1,72,60,61,6,72,32,65,45,42,8,32,22,1,1,54,4,56,45,71,59,69,19,55,38,47,46,65,71,52,6,26,48,64,1,72,1,51,41,72,43,72,47,72,3,26,29,27,24,67,23,14,4,16,46,68,38,17,4,12,72,3,41,40,7,69,7,5,72,44,65,3,24,72,24,22,70,25,37,22,59,1,3,53,1,20,51,51,13,1,1,63,3,46,1,71,55,70,67,14,20,49,72,46,24,5,33,42,23,8,66,24,53,60,20,23,72,21,31,57,45,10,14,27,69,35,45,17,22,67,67,9,5,54,70,53,31,13,28,38,52,62,16,12,72,71,24,15,2,5,41,43,1,1,71,7,28,16,7,69,1,3,69,71,69,48,45,51,72,37,71,66,51,30,34,64,65,47,67,39,14,56,14,16,70,72,23,21,36,50,48,50,72,10,18,9,2,40,69,18,11,55,33,46,34,3,30,33,45,40,71,72,22,46,55,1,12,31,67,1,41,42,23,1,56,15,12,54,7,16,21,30,3,11,62,18,6,46,21,68,1,25,24,51,57,15,72,28,70,13,59,62,21,2,1,4,19,67,72,53,5,71,50,56,2,46,71,29,69,71,56,56,28,19,66,17,52,19,36,72,34,8,69,50,10,12,70,64,66,71,20,72,71,38,33,23,58,70,4,45,36,54,23,41,5,27,1,67,72,56,44,66,69,40,30,11,15,11,64,72,72,1,15,60,56,8,49,70,52,72,40,40,1,30,44,7,72,8,3,8,5,72,54,72,1,69,48,8,71,67,34,3,9,71,57,72,48,18,43,72,35,4,49,71,11,63,65,49,4,72,26,35,57,28,25,47,57,16,5,72,48,68,30,3,14,4,71,8,61,72,5,49,8,3,9,67,46,67,55,33,62,49,1,14,18,72,64,69,1,71,66,2,71,11,47,60,11,29,21,48,3,43,5,1,71,8,8,20,71,31,38,2,12,9,11,6,71,42,45,28,43,60,7,25,27,10,27,11,4,68,1,18,26,17,59,30,50,9,3,14,31,7,17,32,2,72,27,7,11,72,4,71,47,57,50,8,48,70,1,8,60,49,29,67,67,6,47,53,69,3,4,56,61,2,12,28,24,68,39,42,6,38,18,4,27,41,50,72,70,44,34,72,71,64,72,29,23,52,64,24,2,34,53,47,72,72,7,71,41,67,69,70,72,34,65,70,72,35,12,62,25,52,8,2,56,12,47,2,18,8,45,3,38,72,71,66,13,65,15,72,42,71,35,53,48,30,10,12,57,58,37,44,27,8,25,57,12,62,65,71,21,71,7,72,1,72,64,72,29,13,31,14,72,25,18,71,28,2,17,56,60,33,1,63,55,65,63,70,36,22,5,1,56,2,35,64,15,1,70,39,29,14,61,13,66,59,62,33,66,72,51,63,27,4,42,29,30,71,46,69,72,28,72,7,22,72,8,52,68,71,2,34,35,61,1,53,72,41,24,8,1,54,41,19,72,62,56,32,21,62,2,27,25,49,63,4,1,11,52,60,64,43,61,66,67,42,31,7,34,3,19,3,46,69,5,1,26,25,64,30,13,64,46,12,13,67,24,6,10,13,7,38,43,25,27,72,71,24,57,15,4,28,55,55,20,62,43,60,58,7,2,37,65,39,68,62,72,41,4,53,39,63,15,13,1,1,60,40,66,42,66,49,41,41,23,3,4,52,11,2,26,24,12,60,64,66,60,17,42,1,47,10,70,67,1,4,66,12,24,26,57,42,64,19,22,12,31,11,68,72,67,60,58,1,37,13,43,6,71,72,6,12,21,6,43,35,32,52,32,72,51,68,8,49,72,54,50,69,1,68,40,31,33,55,68,12,71,40,64,53,72,46,40,12,9,51,49,56,4,20,26,51,4,1,27,12,34,24,14,59,3,65,59,72,3,19,1,24,57,72,67,52,71,26,35,55,33,72,1,37,12,1,62,1,18,2,19,9,27,24,11,1,38,9,54,29,44,59,18,67,33,5,2,72,9,67,8,17,68,25,67,32,67,72,1,48,61,2,71,37,65,67,50,25,64,25,24,37,21,1,10,51,10,6,47,61,52,35,71,45,2,51,60,9,17,46,68,4,28,39,11,71,2,17,55,58,9,26,50,72,43,56,1,72,36,5,44,70,44,69,68,16,68,4,26,5,70,24,72,1,70,36,41,14,13,6,15,47,8,17,15,26,23,4,29,25,3,69,14,19,39,31,24,14,64,50,52,28,21,17,58,51,72,27,3,64,45,71,58,34,15,66,12,58,3,9,3,40,68,50,1,72,40,72,6,5,48,64,17,40,41,51,41,2,68,24,70,3,2,3,13,7,12,53,63,15,36,4,24,61,16,65,26,16,5,19,10,72,10,11,17,36,17,66,61,22,1,6,68,52,10,72,47,24,65,4,34,14,13,65,23,55,49,60,69,40,67,13,41,4,24,5,5,72,24,42,4,68,33,69,38,3,48,15,25,48,1,1,37,66,26,63,18,64,28,1,66,1,18,0,12,12,55,7,68,49,40,16,72,2,23,71,12,54,68,27,21,64,57,19,31,52,46,11,53,57,71,1,68,72,2,41,72,58,7,65,1,56,4,58,62,26,62,58,68,61,42,18,56,4,35,64,31,67,70,2,29,47,12,8,54,69,26,72,70,28,21,53,53,70,61,11,2,25,41,71,34,29,40,36,46,58,39,52,70,65,1,70,29,67,1,30,48,55,37,31,4,72,1,15,8,35,56,65,2,65,18,23,70,4,19,18,38,47,52,9,26,44,3,2,25,2,58,59,44,66,68,9,19,4,70,1,8,53,51,11,60,17,1,43,16,57,37,72,2,17,16,10,64,1,25,71,72,49,29,72,50,71,70,71,61,68,62,7,6,33,28,27,7,30,63,53,21,17,16,35,32,28,1,59,72,40,40,63,3,40,8,34,9,31,50,9,25,1,45,55,38,38,34,70,13,61,41,21,55,69,69,47,72,33,72,37,62,71,23,16,9,17,24,1,72,72,11,60,49,30,53,39,9,39,8,51,71,71,70,38,28,32,49,37,10,67,7,51,9,4,71,24,22,44,33,1,30,1,16,71,43,50,41,40,3,37,32,32,59,30,27,9,68,69,26,69,11,1,10,55,44,69,11,29,57,28,42,23,18,62,67,62,2,23,25,72,2,8,35,24,2,72,41,26,4,48,12,60,55,1,1,42,1,3,72,15,11,5,72,55,40,57,52,43,47,3,55,29,12,66,27,58,9,6,9,8,12,43,42,66,1,10,18,3,50,1,2,17,69,72,50,53,58,46,72,6,72,4,52,0,2,65,51,12,24,64,26,15,64,27,8,10,2,51,46,1,46,50,53,61,5,47,54,19,26,70,17,1,19,26,50,68,9,51,9,22,71,26,71,4,12,18,3,72,13,42,17,7,68,56,38,72,48,52,35,67,1,53,34,19,60,11,60,72,39,59,2,71,24,67,37,11,18,50,67,25,9,10,70,9,4,2,19,7,1,9,5,56,18,70,72,17,29,63,59,3,8,68,68,52,72,32,72,1,42,45,43,37,63,3,66,8,71,72,16,66,51,8,14,70,70,24,69,42,39,45,72,38,72,72,55,51,63,1,23,2,52,36,1,28,7,72,10,42,7,72,63,56,5,72,68,67,8,52,18,59,60,7,59,46,5,59,70,44,64,58,46,58,72,11,34,54,72,54,14,1,56,68,14,68,55,16,9,53,70,14,10,29,30,72,10,1,20,1,29,1,3,20,64,6,50,6,7,72,8,67,72,33,70,22,59,36,51,53,20,63,40,35,26,53,34,19,43,6,56,34,10,56,55,36,47,12,24,35,67,21,13,71,29,7,57,65,27,72,1,11,39,59,26,2,72,65,72,6,32,50,61,72,1,12,61,18,21,68,12,62,1,1,62,36,69,63,23,10,71,45,70,22,52,65,72,10,7,5,24,72,21,69,44,61,72,72,14,7,48,55,1,45,3,71,8,69,72,71,33,16,56,1,57,56,1,40,46,63,68,69,56,10,63,24,19,22,70,49,42,57,72,46,72,35,72,28,45,1,6,48,25,64,50,52,4,32,45,9,54,64,12,67,45,10,29,24,66,51,45,49,29,40,25,22,72,33,23,69,3,56,65,71,14,2,40,1,7,15,71,54,31,11,18,72,71,5,38,5,52,68,69,42,50,33,7,64,59,6,3,15,13,23,31,29,49,56,63,63,24,36,21,13,1,25,71,66,45,22,67,68,0,4,63,21,1,17,30,22,9,1,19,72,70,66,7,46,32,24,37,8,72,71,16,57,66,21,66,17,8,27,34,30,33,14,16,49,70,32,18,37,4,16,17,19,60,51,28,43,42,1,63,68,60,45,70,4,68,22,18,29,31,48,50,7,68,26,57,3,19,3,59,42,67,1,66,61,4,64,54,1,54,18,3,72,60,11,61,39,37,72,72,8,22,38,17,70,28,15,72,57,46,30,10,32,13,44,9,67,71,1,17,1,32,41,1,62,17,72,56,9,72,20,19,53,6,9,8,71,71,68,34,26,7,20,60,72,72,4,16,62,10,31,71,58,70,71,69,72,26,33,10,57,10,39,11,68,18,18,52,56,45,67,3,65,63,11,1,55,25,72,65,7,72,21,2,4,72,6,52,69,8,63,60,12,13,22,72,2,40,44,71,26,1,3,13,1,4,2,72,37,23,42,32,22,42,8,65,70,22,67,25,20,2,51,46,13,26,19,72,18,24,46,72,70,2,31,16,52,13,35,59,72,49,2,21,54,1,6,49,56,56,6,32,50,58,65,64,66,38,20,64,60,50,72,60,46,69,31,19,71,12,44,56,72,11,15,72,56,64,34,35,22,9,23,68,33,31,56,66,72,34,58,37,71,1,71,35,6,69,53,5,2,62,19,9,53,5,71,1,72,4,59,31,3,49,2,55,72,36,10,72,28,38,61,52,67,34,54,1,46,55,1,64,58,56,72,72,22,39,12,54,18,32,41,67,65,25,67,43,24,69,37,20,7,41,54,69,53,18,64,20,57,63,13,48,57,71,7,16,34,16,48,58,72,7,30,31,46,50,28,66,41,72,7,38,44,47,53,4,20,57,44,24,15,24,33,58,72,71,51,72,14,72,22,2,15,51,70,71,39,61,52,64,62,30,63,1,15,27,4,72,45,45,36,1,16,71,10,20,4,29,2,29,13,59,18,17,47,19,68,2,7,18,71,13,72,66,24,56,22,42,72,12,71,26,7,6,51,72,47,62,16,6,69,64,25,6,66,61,43,12,23,71,34,41,72,14,41,23,71,72,6,23,72,7,9,12,1,48,20,10,20,20,19,22,35,1,39,54,56,18,16,68,53,72,9,30,18,55,33,44,30,71,1,23,22,49,42,7,67,15,67,53,21,40,22,39,2,57,8,7,49,65,55,71,35,17,72,28,18,52,47,23,66,8,71,50,46,66,42,5,29,27,25,57,47,13,71,1,2,55,71,50,1,5,66,49,3,66,11,28,65,62,2,2,55,41,30,17,16,72,9,1,23,8,19,7,61,57,15,1,12,54,4,20,26,53,68,72,12,68,50,41,30,1,29,23,60,72,72,66,72,51,70,9,59,3,38,37,37,14,72,72,17,10,0,1,29,65,8,61,45,72,12,7,9,58,2,40,9,41,26,33,68,65,55,19,45,70,12,72,12,71,35,70,31,30,33,54,59,55,69,66,37,9,69,10,13,69,66,46,56,70,33,72,19,71,1,61,71,68,46,33,53,50,57,54,60,10,43,13,43,1,69,61,43,56,70,49,32,72,37,69,26,58,24,5,30,55,44,47,64,1,20,37,30,38,52,71,66,72,25,69,53,26,21,1,48,26,60,18,4,65,70,62,66,65,34,16,50,71,18,4,58,56,56,4,10,4,51,6,63,48,35,2,50,33,31,9,54,46,34,71,63,51,64,61,15,18,57,14,18,72,70,38,68,65,30,51,31,72,37,55,33,46,1,19,61,26,45,62,3,41,67,71,37,60,6,11,10,34,62,64,25,26,10,53,33,71,29,24,20,1,72,52,9,1,69,1,54,33,45,11,6,21,65,43,60,17,35,12,1,28,70,18,70,9,67,1,18,71,1,55,59,7,45,54,51,72,44,2,66,68,31,21,21,55,71,22,67,14,21,4,70,21,20,22,63,70,5,72,13,61,1,56,4,35,72,49,44,37,61,70,41,70,51,42,48,48,27,46,25,13,31,23,2,65,55,35,6,17,10,15,13,58,45,72,68,38,2,11,20,72,40,62,22,11,7,3,58,6,22,64,6,39,20,64,46,28,33,39,1,70,65,1,18,24,63,44,4,37,34,35,4,39,43,61,49,4,64,3,1,40,34,1,45,43,41,5,72,4,9,72,33,72,15,29,15,72,19,1,2,11,12,70,23,49,2,69,24,32,27,58,18,47,70,36,67,10,19,71,72,48,1,18,67,69,72,38,40,61,32,21,59,47,69,2,22,15,53,28,22,16,48,30,3,57,23,65,44,71,37,12,69,35,5,58,72,72,1,53,27,18,46,72,4,25,40,63,14,72,39,47,19,17,34,42,71,19,57,72,6,61,48,16,3,65,70,60,69,35,22,66,34,72,31,30,19,65,30,6,2,53,7,61,13,35,2,3,62,72,63,35,62,15,55,11,61,71,35,17,47,3,3,44,1,44,18,65,3,33,34,14,13,23,47,17,59,69,10,12,39,71,71,33,67,9,52,70,1,1,52,6,7,26,25,69,72,4,59,67,26,27,72,6,62,20,6,51,61,62,72,13,38,34,18,56,36,57,70,68,1,37,4,1,20,72,11,33,62,1,16,22,49,36,31,5,66,64,10,29,57,46,53,17,38,15,22,57,11,1,12,36,2,72,62,6,48,35,52,1,71,67,60,23,39,15,24,37,50,54,3,5,33,41,34,13,20,51,41,13,35,4,12,7,53,63,5,37,12,38,9,13,47,61,16,41,43,6,58,19,11,39,8,26,53,70,59,7,59,61,72,13,64,10,65,62,55,25,1,64,36,61,26,68,72,71,57,4,1,72,21,71,69,64,16,4,1,18,2,19,40,66,21,8,72,48,69,72,14,6,8,17,65,57,56,14,52,58,67,2,6,71,46,67,3,3,50,23,67,39,69,1,32,60,72,26,2,2,36,7,60,19,45,4,47,1,59,35,32,54,66,61,72,44,41,50,8,18,72,42,18,13,68,69,25,59,5,69,13,52,61,29,25,15,19,44,58,62,70,10,26,66,51,72,65,70,72,1,3,58,33,54,72,72,72,54,59,54,60,60,3,69,1,50,56,60,69,3,60,13,62,45,25,44,2,22,35,29,27,54,57,62,15,70,21,23,6,4,23,26,8,2,59,39,21,48,31,64,46,52,67,67,71,71,32,2,71,60,55,6,48,63,12,54,30,40,9,62,28,70,46,23,47,68,67,14,57,55,1,23,47,38,2,15,26,35,3,42,10,61,68,10,72,55,7,2,9,27,64,70,67,24,4,44,72,66,65,1,38,23,10,72,35,58,70,38,60,26,8,36,54,55,72,54,72,52,60,39,15,43,63,2,72,40,58,67,31,69,32,21,52,72,52,41,41,67,16,17,35,58,52,70,19,35,32,17,67,9,4,58,60,1,27,66,15,41,59,50,17,6,51,49,59,50,59,18,10,14,35,8,18,60,6,19,53,72,60,13,5,13,37,64,61,26,24,17,26,52,1,21,67,44,70,56,46,63,11,15,72,6,63,18,43,15,55,70,63,25,18,28,53,1,26,34,19,62,24,68,31,63,61,18,6,33,56,23,9,5,61,70,15,8,8,4,34,68,45,9,22,2,70,10,72,49,54,71,22,50,43,45,64,23,68,26,14,71,64,57,72,40,14,2,5,29,3,71,9,48,26,9,46,64,59,7,72,16,25,24,10,69,57,50,28,25,3,61,2,51,71,20,6,6,29,36,28,63,48,49,72,72,47,1,36,43,27,38,35,0,59,27,2,7,36,41,13,19,60,69,43,11,45,72,12,67,37,39,41,25,8,71,5,30,40,54,72,28,18,59,22,1,72,50,48,49,28,68,13,11,72,70,49,67,46,37,13,72,68,15,24,24,27,71,67,63,1,4,52,10,68,52,70,43,52,12,56,0,42,22,27,51,1,71,69,14,57,72,48,4,31,1,57,62,3,72,29,13,11,21,19,35,25,67,72,43,55,27,13,70,19,20,43,5,70,40,6,39,45,57,72,72,3,59,4,27,4,60,8,8,35,53,18,15,67,6,1,5,13,29,1,18,2,30,66,38,44,2,42,58,58,71,48,8,67,49,52,63,68,31,64,62,21,72,32,71,34,35,3,3,53,4,48,54,62,22,51,30,56,35,64,30,25,1,70,57,9,69,72,44,72,54,27,54,3,53,15,5,48,25,58,10,71,65,28,67,35,72,61,68,3,48,68,47,32,5,49,15,12,67,9,13,38,42,9,49,61,50,53,51,24,62,24,70,1,8,72,23,31,37,35,23,20,36,71,43,57,27,13,67,64,26,38,23,72,62,40,41,34,1,51,39,12,72,63,44,18,13,68,6,2,55,38,19,12,72,24,72,11,66],\"xaxis\":\"x\",\"yaxis\":\"y\",\"type\":\"histogram\"},{\"alignmentgroup\":\"True\",\"hovertemplate\":\"Churn=No\\u003cbr\\u003etenure=%{x}\\u003cextra\\u003e\\u003c\\u002fextra\\u003e\",\"legendgroup\":\"No\",\"marker\":{\"color\":\"#636efa\"},\"name\":\"No\",\"notched\":true,\"offsetgroup\":\"No\",\"showlegend\":false,\"x\":[1,34,45,22,10,62,13,16,58,25,69,52,71,21,12,58,49,30,72,71,2,27,1,1,72,46,10,70,17,63,13,49,2,52,69,43,25,60,63,66,34,72,47,60,72,18,3,47,31,50,10,1,52,64,62,3,56,46,8,30,45,11,42,49,9,35,48,46,29,30,1,66,65,72,71,52,1,1,38,66,5,72,32,43,72,52,43,64,3,36,41,27,56,6,7,4,33,72,1,71,13,67,43,23,64,57,72,61,64,71,65,3,30,15,8,70,62,6,14,22,22,16,10,13,2,53,11,69,72,16,43,14,32,34,15,61,1,33,20,3,13,40,43,69,72,59,20,24,59,72,1,27,14,71,13,44,33,72,64,1,61,29,23,57,72,66,65,8,71,1,12,24,31,30,47,54,50,72,29,10,18,16,72,72,41,65,13,4,41,42,51,32,10,67,61,50,29,57,31,45,61,50,19,71,57,20,21,14,5,6,10,1,68,22,20,35,23,6,12,1,71,35,40,23,4,68,38,52,29,38,48,1,22,43,5,51,71,35,72,1,9,69,52,11,28,17,35,8,46,68,36,32,71,66,63,41,1,70,23,64,37,17,7,16,64,42,5,41,58,47,18,23,1,71,72,33,24,56,37,43,1,61,17,41,72,48,42,44,1,27,27,2,19,42,66,33,33,23,32,11,68,20,72,60,32,46,29,51,48,16,70,40,5,7,29,44,10,55,52,10,18,68,72,2,41,26,36,72,35,1,16,49,54,18,36,52,8,72,64,22,60,61,24,28,30,2,1,6,24,72,70,64,72,44,17,9,24,35,7,11,20,72,72,15,72,0,63,2,61,1,28,70,34,71,70,52,69,11,1,20,61,56,30,28,5,12,67,29,55,52,72,58,35,56,24,70,2,68,12,63,33,69,60,72,11,1,34,65,50,15,72,72,55,23,56,1,38,11,1,56,3,7,59,7,71,15,71,11,60,47,11,28,61,31,9,35,2,1,3,52,5,72,71,72,46,63,30,1,16,4,51,65,16,2,66,46,32,72,38,51,72,66,44,50,15,8,66,57,7,10,62,40,20,25,23,66,72,46,72,10,40,31,68,68,49,15,50,24,35,17,10,68,45,37,10,1,65,57,3,49,70,53,53,22,65,48,3,45,61,3,40,1,1,51,52,51,1,31,47,22,1,72,47,72,66,35,29,2,4,65,27,29,29,20,58,14,72,46,71,32,26,68,2,61,9,22,5,65,5,25,72,27,32,30,70,42,72,47,2,61,5,72,72,3,48,63,27,70,7,0,2,66,3,72,1,72,65,11,22,14,41,17,11,72,3,59,71,5,27,63,72,34,24,72,60,68,8,34,6,2,31,20,1,70,39,46,72,18,71,42,34,5,25,55,70,61,43,47,5,62,14,34,38,70,37,60,62,36,44,72,13,15,65,12,72,72,72,52,2,5,68,72,66,72,26,64,62,5,3,72,57,66,45,3,51,60,33,26,67,49,1,7,27,37,31,32,63,30,71,53,50,2,56,67,4,19,8,71,15,72,12,72,23,72,26,21,60,12,16,63,22,32,68,30,16,33,72,12,4,0,65,15,24,13,24,72,54,4,32,35,8,22,15,22,71,4,25,32,7,17,8,56,3,71,49,58,59,11,35,20,40,39,72,12,1,27,34,56,58,22,10,13,72,2,4,37,21,53,23,3,71,9,1,71,64,4,23,39,28,5,45,37,60,47,50,27,62,71,66,68,13,56,16,14,8,43,52,3,29,16,40,36,26,72,34,10,14,47,24,20,22,1,59,58,59,3,32,46,0,52,32,16,51,29,70,71,41,1,7,67,5,15,20,54,42,9,63,69,69,40,60,71,32,39,38,52,48,70,20,50,25,12,23,27,47,26,2,26,72,63,71,11,14,13,6,11,18,32,29,3,41,1,7,52,45,70,53,62,60,23,67,71,25,5,26,1,70,72,32,14,13,46,43,39,57,53,18,58,71,35,3,38,35,47,14,20,66,15,42,17,37,12,60,18,3,9,56,7,69,54,62,62,17,9,64,72,30,49,61,47,20,70,54,61,13,3,25,30,21,23,45,24,56,1,55,72,45,47,2,2,12,69,56,4,64,62,63,53,5,49,62,55,71,72,36,25,72,36,1,72,59,1,30,64,63,72,62,67,70,20,5,24,72,66,45,69,28,36,42,48,11,7,3,8,32,60,10,71,43,23,72,22,1,69,50,15,31,0,8,64,28,57,19,51,67,11,72,66,9,9,48,10,72,51,61,54,33,27,23,1,45,39,72,58,70,61,2,46,48,64,72,12,72,29,33,1,62,4,24,14,3,8,35,66,8,71,43,29,65,35,64,58,18,67,63,60,70,48,12,71,44,45,23,43,35,9,65,27,40,8,58,52,3,41,20,1,23,6,8,18,52,31,29,36,42,60,22,36,9,1,12,23,62,8,31,45,69,2,44,39,72,13,51,71,56,1,23,66,1,11,52,3,51,64,37,13,49,45,18,68,54,23,71,67,14,63,41,17,56,5,3,37,8,63,7,3,72,19,59,35,14,69,7,69,72,4,63,72,46,30,63,60,25,6,22,31,39,26,12,2,39,7,4,55,72,10,11,15,23,1,47,15,68,21,21,56,6,65,42,68,48,50,7,63,17,4,62,2,48,27,70,46,69,65,72,17,51,51,72,34,67,49,53,27,69,2,46,54,20,11,30,68,38,1,63,3,48,66,68,7,72,29,37,59,60,27,17,58,1,53,35,68,47,65,9,8,14,45,8,66,72,23,4,6,67,7,56,72,72,23,35,27,12,40,7,70,60,39,72,54,63,71,42,47,11,55,69,3,30,5,71,29,52,68,46,8,72,17,3,2,51,6,3,17,30,31,45,64,61,1,72,7,66,40,16,67,41,56,72,54,52,50,27,72,62,12,44,54,68,20,50,58,35,2,63,58,27,71,63,71,68,1,65,72,28,72,2,60,26,68,42,57,54,44,42,72,71,23,30,35,1,22,7,36,34,72,36,71,23,17,1,12,72,1,72,60,61,6,72,32,65,45,42,8,32,22,1,1,54,4,56,45,71,59,69,19,55,38,47,46,65,71,52,6,26,48,64,1,72,1,51,41,72,43,72,47,72,3,26,29,27,24,67,23,14,4,16,46,68,38,17,4,12,72,3,41,40,7,69,7,5,72,44,65,3,24,72,24,22,70,25,37,22,59,1,3,53,1,20,51,51,13,1,1,63,3,46,1,71,55,70,67,14,20,49,72,46,24,5,33,42,23,8,66,24,53,60,20,23,72,21,31,57,45,10,14,27,69,35,45,17,22,67,67,9,5,54,70,53,31,13,28,38,52,62,16,12,72,71,24,15,2,5,41,43,1,1,71,7,28,16,7,69,1,3,69,71,69,48,45,51,72,37,71,66,51,30,34,64,65,47,67,39,14,56,14,16,70,72,23,21,36,50,48,50,72,10,18,9,2,40,69,18,11,55,33,46,34,3,30,33,45,40,71,72,22,46,55,1,12,31,67,1,41,42,23,1,56,15,12,54,7,16,21,30,3,11,62,18,6,46,21,68,1,25,24,51,57,15,72,28,70,13,59,62,21,2,1,4,19,67,72,53,5,71,50,56,2,46,71,29,69,71,56,56,28,19,66,17,52,19,36,72,34,8,69,50,10,12,70,64,66,71,20,72,71,38,33,23,58,70,4,45,36,54,23,41,5,27,1,67,72,56,44,66,69,40,30,11,15,11,64,72,72,1,15,60,56,8,49,70,52,72,40,40,1,30,44,7,72,8,3,8,5,72,54,72,1,69,48,8,71,67,34,3,9,71,57,72,48,18,43,72,35,4,49,71,11,63,65,49,4,72,26,35,57,28,25,47,57,16,5,72,48,68,30,3,14,4,71,8,61,72,5,49,8,3,9,67,46,67,55,33,62,49,1,14,18,72,64,69,1,71,66,2,71,11,47,60,11,29,21,48,3,43,5,1,71,8,8,20,71,31,38,2,12,9,11,6,71,42,45,28,43,60,7,25,27,10,27,11,4,68,1,18,26,17,59,30,50,9,3,14,31,7,17,32,2,72,27,7,11,72,4,71,47,57,50,8,48,70,1,8,60,49,29,67,67,6,47,53,69,3,4,56,61,2,12,28,24,68,39,42,6,38,18,4,27,41,50,72,70,44,34,72,71,64,72,29,23,52,64,24,2,34,53,47,72,72,7,71,41,67,69,70,72,34,65,70,72,35,12,62,25,52,8,2,56,12,47,2,18,8,45,3,38,72,71,66,13,65,15,72,42,71,35,53,48,30,10,12,57,58,37,44,27,8,25,57,12,62,65,71,21,71,7,72,1,72,64,72,29,13,31,14,72,25,18,71,28,2,17,56,60,33,1,63,55,65,63,70,36,22,5,1,56,2,35,64,15,1,70,39,29,14,61,13,66,59,62,33,66,72,51,63,27,4,42,29,30,71,46,69,72,28,72,7,22,72,8,52,68,71,2,34,35,61,1,53,72,41,24,8,1,54,41,19,72,62,56,32,21,62,2,27,25,49,63,4,1,11,52,60,64,43,61,66,67,42,31,7,34,3,19,3,46,69,5,1,26,25,64,30,13,64,46,12,13,67,24,6,10,13,7,38,43,25,27,72,71,24,57,15,4,28,55,55,20,62,43,60,58,7,2,37,65,39,68,62,72,41,4,53,39,63,15,13,1,1,60,40,66,42,66,49,41,41,23,3,4,52,11,2,26,24,12,60,64,66,60,17,42,1,47,10,70,67,1,4,66,12,24,26,57,42,64,19,22,12,31,11,68,72,67,60,58,1,37,13,43,6,71,72,6,12,21,6,43,35,32,52,32,72,51,68,8,49,72,54,50,69,1,68,40,31,33,55,68,12,71,40,64,53,72,46,40,12,9,51,49,56,4,20,26,51,4,1,27,12,34,24,14,59,3,65,59,72,3,19,1,24,57,72,67,52,71,26,35,55,33,72,1,37,12,1,62,1,18,2,19,9,27,24,11,1,38,9,54,29,44,59,18,67,33,5,2,72,9,67,8,17,68,25,67,32,67,72,1,48,61,2,71,37,65,67,50,25,64,25,24,37,21,1,10,51,10,6,47,61,52,35,71,45,2,51,60,9,17,46,68,4,28,39,11,71,2,17,55,58,9,26,50,72,43,56,1,72,36,5,44,70,44,69,68,16,68,4,26,5,70,24,72,1,70,36,41,14,13,6,15,47,8,17,15,26,23,4,29,25,3,69,14,19,39,31,24,14,64,50,52,28,21,17,58,51,72,27,3,64,45,71,58,34,15,66,12,58,3,9,3,40,68,50,1,72,40,72,6,5,48,64,17,40,41,51,41,2,68,24,70,3,2,3,13,7,12,53,63,15,36,4,24,61,16,65,26,16,5,19,10,72,10,11,17,36,17,66,61,22,1,6,68,52,10,72,47,24,65,4,34,14,13,65,23,55,49,60,69,40,67,13,41,4,24,5,5,72,24,42,4,68,33,69,38,3,48,15,25,48,1,1,37,66,26,63,18,64,28,1,66,1,18,0,12,12,55,7,68,49,40,16,72,2,23,71,12,54,68,27,21,64,57,19,31,52,46,11,53,57,71,1,68,72,2,41,72,58,7,65,1,56,4,58,62,26,62,58,68,61,42,18,56,4,35,64,31,67,70,2,29,47,12,8,54,69,26,72,70,28,21,53,53,70,61,11,2,25,41,71,34,29,40,36,46,58,39,52,70,65,1,70,29,67,1,30,48,55,37,31,4,72,1,15,8,35,56,65,2,65,18,23,70,4,19,18,38,47,52,9,26,44,3,2,25,2,58,59,44,66,68,9,19,4,70,1,8,53,51,11,60,17,1,43,16,57,37,72,2,17,16,10,64,1,25,71,72,49,29,72,50,71,70,71,61,68,62,7,6,33,28,27,7,30,63,53,21,17,16,35,32,28,1,59,72,40,40,63,3,40,8,34,9,31,50,9,25,1,45,55,38,38,34,70,13,61,41,21,55,69,69,47,72,33,72,37,62,71,23,16,9,17,24,1,72,72,11,60,49,30,53,39,9,39,8,51,71,71,70,38,28,32,49,37,10,67,7,51,9,4,71,24,22,44,33,1,30,1,16,71,43,50,41,40,3,37,32,32,59,30,27,9,68,69,26,69,11,1,10,55,44,69,11,29,57,28,42,23,18,62,67,62,2,23,25,72,2,8,35,24,2,72,41,26,4,48,12,60,55,1,1,42,1,3,72,15,11,5,72,55,40,57,52,43,47,3,55,29,12,66,27,58,9,6,9,8,12,43,42,66,1,10,18,3,50,1,2,17,69,72,50,53,58,46,72,6,72,4,52,0,2,65,51,12,24,64,26,15,64,27,8,10,2,51,46,1,46,50,53,61,5,47,54,19,26,70,17,1,19,26,50,68,9,51,9,22,71,26,71,4,12,18,3,72,13,42,17,7,68,56,38,72,48,52,35,67,1,53,34,19,60,11,60,72,39,59,2,71,24,67,37,11,18,50,67,25,9,10,70,9,4,2,19,7,1,9,5,56,18,70,72,17,29,63,59,3,8,68,68,52,72,32,72,1,42,45,43,37,63,3,66,8,71,72,16,66,51,8,14,70,70,24,69,42,39,45,72,38,72,72,55,51,63,1,23,2,52,36,1,28,7,72,10,42,7,72,63,56,5,72,68,67,8,52,18,59,60,7,59,46,5,59,70,44,64,58,46,58,72,11,34,54,72,54,14,1,56,68,14,68,55,16,9,53,70,14,10,29,30,72,10,1,20,1,29,1,3,20,64,6,50,6,7,72,8,67,72,33,70,22,59,36,51,53,20,63,40,35,26,53,34,19,43,6,56,34,10,56,55,36,47,12,24,35,67,21,13,71,29,7,57,65,27,72,1,11,39,59,26,2,72,65,72,6,32,50,61,72,1,12,61,18,21,68,12,62,1,1,62,36,69,63,23,10,71,45,70,22,52,65,72,10,7,5,24,72,21,69,44,61,72,72,14,7,48,55,1,45,3,71,8,69,72,71,33,16,56,1,57,56,1,40,46,63,68,69,56,10,63,24,19,22,70,49,42,57,72,46,72,35,72,28,45,1,6,48,25,64,50,52,4,32,45,9,54,64,12,67,45,10,29,24,66,51,45,49,29,40,25,22,72,33,23,69,3,56,65,71,14,2,40,1,7,15,71,54,31,11,18,72,71,5,38,5,52,68,69,42,50,33,7,64,59,6,3,15,13,23,31,29,49,56,63,63,24,36,21,13,1,25,71,66,45,22,67,68,0,4,63,21,1,17,30,22,9,1,19,72,70,66,7,46,32,24,37,8,72,71,16,57,66,21,66,17,8,27,34,30,33,14,16,49,70,32,18,37,4,16,17,19,60,51,28,43,42,1,63,68,60,45,70,4,68,22,18,29,31,48,50,7,68,26,57,3,19,3,59,42,67,1,66,61,4,64,54,1,54,18,3,72,60,11,61,39,37,72,72,8,22,38,17,70,28,15,72,57,46,30,10,32,13,44,9,67,71,1,17,1,32,41,1,62,17,72,56,9,72,20,19,53,6,9,8,71,71,68,34,26,7,20,60,72,72,4,16,62,10,31,71,58,70,71,69,72,26,33,10,57,10,39,11,68,18,18,52,56,45,67,3,65,63,11,1,55,25,72,65,7,72,21,2,4,72,6,52,69,8,63,60,12,13,22,72,2,40,44,71,26,1,3,13,1,4,2,72,37,23,42,32,22,42,8,65,70,22,67,25,20,2,51,46,13,26,19,72,18,24,46,72,70,2,31,16,52,13,35,59,72,49,2,21,54,1,6,49,56,56,6,32,50,58,65,64,66,38,20,64,60,50,72,60,46,69,31,19,71,12,44,56,72,11,15,72,56,64,34,35,22,9,23,68,33,31,56,66,72,34,58,37,71,1,71,35,6,69,53,5,2,62,19,9,53,5,71,1,72,4,59,31,3,49,2,55,72,36,10,72,28,38,61,52,67,34,54,1,46,55,1,64,58,56,72,72,22,39,12,54,18,32,41,67,65,25,67,43,24,69,37,20,7,41,54,69,53,18,64,20,57,63,13,48,57,71,7,16,34,16,48,58,72,7,30,31,46,50,28,66,41,72,7,38,44,47,53,4,20,57,44,24,15,24,33,58,72,71,51,72,14,72,22,2,15,51,70,71,39,61,52,64,62,30,63,1,15,27,4,72,45,45,36,1,16,71,10,20,4,29,2,29,13,59,18,17,47,19,68,2,7,18,71,13,72,66,24,56,22,42,72,12,71,26,7,6,51,72,47,62,16,6,69,64,25,6,66,61,43,12,23,71,34,41,72,14,41,23,71,72,6,23,72,7,9,12,1,48,20,10,20,20,19,22,35,1,39,54,56,18,16,68,53,72,9,30,18,55,33,44,30,71,1,23,22,49,42,7,67,15,67,53,21,40,22,39,2,57,8,7,49,65,55,71,35,17,72,28,18,52,47,23,66,8,71,50,46,66,42,5,29,27,25,57,47,13,71,1,2,55,71,50,1,5,66,49,3,66,11,28,65,62,2,2,55,41,30,17,16,72,9,1,23,8,19,7,61,57,15,1,12,54,4,20,26,53,68,72,12,68,50,41,30,1,29,23,60,72,72,66,72,51,70,9,59,3,38,37,37,14,72,72,17,10,0,1,29,65,8,61,45,72,12,7,9,58,2,40,9,41,26,33,68,65,55,19,45,70,12,72,12,71,35,70,31,30,33,54,59,55,69,66,37,9,69,10,13,69,66,46,56,70,33,72,19,71,1,61,71,68,46,33,53,50,57,54,60,10,43,13,43,1,69,61,43,56,70,49,32,72,37,69,26,58,24,5,30,55,44,47,64,1,20,37,30,38,52,71,66,72,25,69,53,26,21,1,48,26,60,18,4,65,70,62,66,65,34,16,50,71,18,4,58,56,56,4,10,4,51,6,63,48,35,2,50,33,31,9,54,46,34,71,63,51,64,61,15,18,57,14,18,72,70,38,68,65,30,51,31,72,37,55,33,46,1,19,61,26,45,62,3,41,67,71,37,60,6,11,10,34,62,64,25,26,10,53,33,71,29,24,20,1,72,52,9,1,69,1,54,33,45,11,6,21,65,43,60,17,35,12,1,28,70,18,70,9,67,1,18,71,1,55,59,7,45,54,51,72,44,2,66,68,31,21,21,55,71,22,67,14,21,4,70,21,20,22,63,70,5,72,13,61,1,56,4,35,72,49,44,37,61,70,41,70,51,42,48,48,27,46,25,13,31,23,2,65,55,35,6,17,10,15,13,58,45,72,68,38,2,11,20,72,40,62,22,11,7,3,58,6,22,64,6,39,20,64,46,28,33,39,1,70,65,1,18,24,63,44,4,37,34,35,4,39,43,61,49,4,64,3,1,40,34,1,45,43,41,5,72,4,9,72,33,72,15,29,15,72,19,1,2,11,12,70,23,49,2,69,24,32,27,58,18,47,70,36,67,10,19,71,72,48,1,18,67,69,72,38,40,61,32,21,59,47,69,2,22,15,53,28,22,16,48,30,3,57,23,65,44,71,37,12,69,35,5,58,72,72,1,53,27,18,46,72,4,25,40,63,14,72,39,47,19,17,34,42,71,19,57,72,6,61,48,16,3,65,70,60,69,35,22,66,34,72,31,30,19,65,30,6,2,53,7,61,13,35,2,3,62,72,63,35,62,15,55,11,61,71,35,17,47,3,3,44,1,44,18,65,3,33,34,14,13,23,47,17,59,69,10,12,39,71,71,33,67,9,52,70,1,1,52,6,7,26,25,69,72,4,59,67,26,27,72,6,62,20,6,51,61,62,72,13,38,34,18,56,36,57,70,68,1,37,4,1,20,72,11,33,62,1,16,22,49,36,31,5,66,64,10,29,57,46,53,17,38,15,22,57,11,1,12,36,2,72,62,6,48,35,52,1,71,67,60,23,39,15,24,37,50,54,3,5,33,41,34,13,20,51,41,13,35,4,12,7,53,63,5,37,12,38,9,13,47,61,16,41,43,6,58,19,11,39,8,26,53,70,59,7,59,61,72,13,64,10,65,62,55,25,1,64,36,61,26,68,72,71,57,4,1,72,21,71,69,64,16,4,1,18,2,19,40,66,21,8,72,48,69,72,14,6,8,17,65,57,56,14,52,58,67,2,6,71,46,67,3,3,50,23,67,39,69,1,32,60,72,26,2,2,36,7,60,19,45,4,47,1,59,35,32,54,66,61,72,44,41,50,8,18,72,42,18,13,68,69,25,59,5,69,13,52,61,29,25,15,19,44,58,62,70,10,26,66,51,72,65,70,72,1,3,58,33,54,72,72,72,54,59,54,60,60,3,69,1,50,56,60,69,3,60,13,62,45,25,44,2,22,35,29,27,54,57,62,15,70,21,23,6,4,23,26,8,2,59,39,21,48,31,64,46,52,67,67,71,71,32,2,71,60,55,6,48,63,12,54,30,40,9,62,28,70,46,23,47,68,67,14,57,55,1,23,47,38,2,15,26,35,3,42,10,61,68,10,72,55,7,2,9,27,64,70,67,24,4,44,72,66,65,1,38,23,10,72,35,58,70,38,60,26,8,36,54,55,72,54,72,52,60,39,15,43,63,2,72,40,58,67,31,69,32,21,52,72,52,41,41,67,16,17,35,58,52,70,19,35,32,17,67,9,4,58,60,1,27,66,15,41,59,50,17,6,51,49,59,50,59,18,10,14,35,8,18,60,6,19,53,72,60,13,5,13,37,64,61,26,24,17,26,52,1,21,67,44,70,56,46,63,11,15,72,6,63,18,43,15,55,70,63,25,18,28,53,1,26,34,19,62,24,68,31,63,61,18,6,33,56,23,9,5,61,70,15,8,8,4,34,68,45,9,22,2,70,10,72,49,54,71,22,50,43,45,64,23,68,26,14,71,64,57,72,40,14,2,5,29,3,71,9,48,26,9,46,64,59,7,72,16,25,24,10,69,57,50,28,25,3,61,2,51,71,20,6,6,29,36,28,63,48,49,72,72,47,1,36,43,27,38,35,0,59,27,2,7,36,41,13,19,60,69,43,11,45,72,12,67,37,39,41,25,8,71,5,30,40,54,72,28,18,59,22,1,72,50,48,49,28,68,13,11,72,70,49,67,46,37,13,72,68,15,24,24,27,71,67,63,1,4,52,10,68,52,70,43,52,12,56,0,42,22,27,51,1,71,69,14,57,72,48,4,31,1,57,62,3,72,29,13,11,21,19,35,25,67,72,43,55,27,13,70,19,20,43,5,70,40,6,39,45,57,72,72,3,59,4,27,4,60,8,8,35,53,18,15,67,6,1,5,13,29,1,18,2,30,66,38,44,2,42,58,58,71,48,8,67,49,52,63,68,31,64,62,21,72,32,71,34,35,3,3,53,4,48,54,62,22,51,30,56,35,64,30,25,1,70,57,9,69,72,44,72,54,27,54,3,53,15,5,48,25,58,10,71,65,28,67,35,72,61,68,3,48,68,47,32,5,49,15,12,67,9,13,38,42,9,49,61,50,53,51,24,62,24,70,1,8,72,23,31,37,35,23,20,36,71,43,57,27,13,67,64,26,38,23,72,62,40,41,34,1,51,39,12,72,63,44,18,13,68,6,2,55,38,19,12,72,24,72,11,66],\"xaxis\":\"x2\",\"yaxis\":\"y2\",\"type\":\"box\"},{\"alignmentgroup\":\"True\",\"bingroup\":\"x\",\"hovertemplate\":\"Churn=Yes\\u003cbr\\u003etenure=%{x}\\u003cbr\\u003ecount=%{y}\\u003cextra\\u003e\\u003c\\u002fextra\\u003e\",\"legendgroup\":\"Yes\",\"marker\":{\"color\":\"#EF553B\",\"pattern\":{\"shape\":\"\"}},\"name\":\"Yes\",\"offsetgroup\":\"Yes\",\"orientation\":\"v\",\"showlegend\":true,\"x\":[2,2,8,28,49,10,1,1,47,1,17,5,34,11,2,15,8,18,9,1,7,12,5,25,68,55,37,10,3,27,25,1,2,1,8,1,7,20,4,58,2,53,15,7,1,8,13,1,6,1,19,2,4,4,1,1,2,11,15,1,2,1,2,3,13,59,16,1,1,5,52,18,1,8,10,24,1,4,32,5,38,24,54,2,7,2,68,43,63,2,4,21,10,27,5,2,25,1,1,11,55,34,69,1,1,3,22,1,61,12,60,1,28,4,7,13,1,1,24,5,15,48,8,1,2,22,5,12,20,2,6,5,40,27,23,34,1,10,13,39,32,35,56,12,1,4,1,12,65,9,9,7,49,43,65,56,10,43,1,20,1,2,3,1,8,2,4,2,4,1,52,2,1,2,3,3,25,1,4,3,33,30,45,10,20,15,22,3,15,1,5,33,2,2,1,46,62,10,6,40,1,58,70,2,21,16,7,60,50,4,1,55,12,1,62,1,20,3,22,4,59,60,15,10,6,63,50,1,12,9,17,9,10,1,3,13,4,6,3,35,2,1,1,8,7,2,1,44,71,1,62,1,33,35,34,4,7,27,18,2,32,18,12,8,26,3,8,38,14,32,1,12,5,40,5,10,2,23,23,49,2,2,7,41,2,13,11,17,25,3,4,37,19,39,7,14,11,1,2,13,3,1,12,60,1,6,15,21,1,7,53,1,1,17,11,19,3,24,2,1,16,34,3,16,1,15,11,1,1,7,2,46,68,59,7,8,6,11,15,70,16,18,34,47,39,1,4,1,59,1,2,1,66,3,14,10,18,9,13,4,4,59,10,1,5,1,22,34,41,64,4,18,1,2,15,9,15,1,12,2,5,4,16,1,5,4,37,13,24,61,41,22,2,19,8,15,1,17,1,2,29,2,14,8,5,63,1,53,1,16,1,10,3,66,17,7,12,42,2,1,30,15,13,67,23,35,56,9,17,48,17,34,42,11,1,1,3,50,5,51,46,1,41,29,26,1,3,66,21,1,4,9,1,1,9,1,1,2,3,14,41,13,2,18,1,4,38,12,19,10,1,23,32,32,31,19,57,1,24,1,65,10,2,1,1,1,38,19,52,1,3,1,2,35,16,1,1,30,5,56,44,1,49,47,31,3,8,2,65,1,1,24,69,7,11,1,58,14,12,25,58,16,1,1,2,23,57,24,49,5,2,4,5,47,10,1,67,5,67,15,1,26,22,21,47,2,22,7,1,49,43,1,1,1,32,17,4,1,1,37,8,3,1,5,40,1,51,1,33,30,2,2,29,13,7,30,2,24,1,1,7,67,57,7,1,14,28,17,10,34,1,3,2,6,12,1,3,23,1,65,16,66,1,53,69,13,4,12,1,54,48,2,29,15,17,56,21,1,1,1,35,32,33,1,8,5,2,42,40,57,1,38,2,8,7,31,18,14,28,15,5,1,1,4,53,59,46,14,31,13,35,2,1,25,16,1,36,1,9,8,45,25,13,46,25,18,60,30,1,39,1,31,3,1,7,61,39,10,1,67,6,1,33,2,7,1,52,22,47,33,18,24,1,4,2,1,19,22,4,4,4,7,19,5,8,1,2,3,13,28,15,10,5,2,1,5,1,4,31,1,1,10,15,17,53,16,9,25,4,50,9,3,10,32,9,66,3,29,1,41,8,12,1,4,1,7,6,14,25,22,61,70,1,1,47,1,22,48,1,25,20,18,1,9,28,11,12,53,41,20,7,7,22,3,51,5,62,28,10,69,12,27,1,14,32,3,22,16,5,23,1,50,1,71,46,2,1,32,3,5,49,17,23,6,6,2,4,4,3,8,1,1,30,5,1,72,13,32,16,29,38,17,1,2,2,1,4,5,9,18,25,17,52,3,1,8,43,22,54,1,1,7,12,54,1,23,3,10,37,31,34,29,12,1,33,4,35,19,1,1,31,4,1,10,2,9,4,38,51,1,41,12,5,10,11,1,16,1,4,1,13,1,21,11,2,2,1,6,4,12,4,4,3,53,68,1,10,1,51,24,18,72,4,1,26,7,5,42,4,2,8,9,1,43,1,3,70,11,50,5,1,16,15,46,8,31,32,1,20,26,5,1,14,36,9,5,9,2,1,8,2,3,51,2,39,12,26,18,2,4,1,9,2,29,1,9,50,1,54,42,1,1,9,46,1,13,19,1,24,67,6,20,20,46,11,2,1,16,3,57,5,4,7,1,2,4,1,7,4,1,1,1,1,41,66,35,10,54,2,26,15,31,18,61,1,24,3,1,43,4,25,57,4,36,1,35,4,58,30,21,3,41,21,1,11,1,72,3,1,47,18,1,20,6,1,48,3,2,1,1,3,9,49,6,6,16,7,25,20,4,28,1,11,4,54,28,2,1,1,14,1,4,20,14,30,3,40,2,1,10,1,14,58,22,1,49,68,1,7,9,1,24,2,27,57,1,13,1,63,25,35,71,6,15,9,37,2,29,5,28,11,55,24,1,6,4,3,1,11,1,5,8,22,29,13,43,3,2,66,62,17,56,31,2,66,3,1,31,14,35,37,7,24,1,32,1,17,19,2,8,1,1,1,9,3,49,2,55,21,69,1,39,6,17,1,58,1,19,3,3,3,30,15,10,1,38,1,16,1,12,4,15,41,1,1,7,42,1,12,55,17,1,72,11,8,1,23,39,9,15,30,1,3,67,1,1,12,22,2,27,10,1,22,1,21,6,72,54,3,8,5,1,2,1,65,33,15,30,2,4,2,25,25,43,10,2,9,27,69,22,56,66,24,1,36,1,1,1,39,5,24,2,5,11,4,1,1,2,3,44,24,18,1,65,53,1,15,4,9,22,38,53,1,8,16,1,7,9,37,5,3,31,2,37,38,48,10,8,2,3,4,37,1,5,28,30,36,1,4,17,3,4,4,26,5,4,1,1,8,1,50,26,6,3,3,1,14,61,40,58,18,7,2,19,11,39,15,5,1,10,6,16,2,2,19,1,66,36,39,21,2,4,35,33,45,7,6,3,11,1,40,47,7,1,7,15,11,67,8,44,24,15,17,1,9,7,36,3,34,1,22,47,24,53,8,2,8,48,43,16,8,20,2,27,5,52,37,69,40,6,11,6,3,5,8,1,28,1,29,19,6,1,1,6,15,25,10,13,49,1,37,26,12,10,5,18,3,54,10,1,2,32,36,53,1,12,1,5,6,26,1,64,13,9,10,2,20,9,32,70,1,1,1,13,7,1,7,54,5,1,33,55,6,8,11,49,1,15,16,44,5,4,30,1,9,1,1,61,59,3,3,1,13,18,3,1,1,70,68,26,11,1,1,46,4,22,9,7,1,40,29,3,1,3,23,13,1,39,1,14,1,1,1,1,1,42,7,1,10,17,1,8,1,39,58,6,22,70,21,71,1,20,4,32,6,27,1,13,1,19,10,13,1,68,39,1,1,36,15,5,13,5,2,17,1,9,1,1,1,9,20,70,3,20,21,17,2,21,5,24,1,10,1,53,3,46,49,11,45,37,49,14,1,47,13,5,3,26,8,9,1,12,42,33,31,18,42,4,12,15,7,14,3,16,65,42,6,53,5,68,3,12,43,68,25,66,70,27,1,3,29,36,1,2,12,1,1,59,3,1,1,2,29,52,2,13,19,47,5,52,42,25,9,16,5,3,31,1,1,10,4,43,4,11,47,1,4,17,43,21,42,46,5,6,1,7,2,1,5,22,1,1,3,1,1,33,1,2,2,3,26,67,71,1,5,9,26,54,2,1,30,4,17,60,1,13,38,1,50,65,1,7,2,45,1,1,13,10,4,1,41,71,3,69,32,51,72,6,1,1,31,58,47,44,2,1,1,1,5,1,1,1,1,40,1,3,13,58,42,1,29,1,1,2,10,49,6,2,35,70,2,15,42,9,1,21,2,1,16,14,15,1,2,55,7,13,3,66,38,1,22,1,1,43,1,2,1,12,6,34,1,10,16,7,27,1,9,48,3,2,2,14,3,57,3,64,2,12,40,12,54,4,1,51,4,35,1,38,37,3,61,11,1,19,56,2,14,4,15,1,64,1,55,18,32,66,7,6,13,11,9,1,54,25,37,14,4,3,1,13,45,1,6,3,12,8,6,3,1,1,41,9,43,33,1,56,3,1,5,1,70,48,13,24,27,25,22,1,4,18,56,16,30,8,50,41,3,3,40,3,23,1,4,1,12,9,1,67,4],\"xaxis\":\"x\",\"yaxis\":\"y\",\"type\":\"histogram\"},{\"alignmentgroup\":\"True\",\"hovertemplate\":\"Churn=Yes\\u003cbr\\u003etenure=%{x}\\u003cextra\\u003e\\u003c\\u002fextra\\u003e\",\"legendgroup\":\"Yes\",\"marker\":{\"color\":\"#EF553B\"},\"name\":\"Yes\",\"notched\":true,\"offsetgroup\":\"Yes\",\"showlegend\":false,\"x\":[2,2,8,28,49,10,1,1,47,1,17,5,34,11,2,15,8,18,9,1,7,12,5,25,68,55,37,10,3,27,25,1,2,1,8,1,7,20,4,58,2,53,15,7,1,8,13,1,6,1,19,2,4,4,1,1,2,11,15,1,2,1,2,3,13,59,16,1,1,5,52,18,1,8,10,24,1,4,32,5,38,24,54,2,7,2,68,43,63,2,4,21,10,27,5,2,25,1,1,11,55,34,69,1,1,3,22,1,61,12,60,1,28,4,7,13,1,1,24,5,15,48,8,1,2,22,5,12,20,2,6,5,40,27,23,34,1,10,13,39,32,35,56,12,1,4,1,12,65,9,9,7,49,43,65,56,10,43,1,20,1,2,3,1,8,2,4,2,4,1,52,2,1,2,3,3,25,1,4,3,33,30,45,10,20,15,22,3,15,1,5,33,2,2,1,46,62,10,6,40,1,58,70,2,21,16,7,60,50,4,1,55,12,1,62,1,20,3,22,4,59,60,15,10,6,63,50,1,12,9,17,9,10,1,3,13,4,6,3,35,2,1,1,8,7,2,1,44,71,1,62,1,33,35,34,4,7,27,18,2,32,18,12,8,26,3,8,38,14,32,1,12,5,40,5,10,2,23,23,49,2,2,7,41,2,13,11,17,25,3,4,37,19,39,7,14,11,1,2,13,3,1,12,60,1,6,15,21,1,7,53,1,1,17,11,19,3,24,2,1,16,34,3,16,1,15,11,1,1,7,2,46,68,59,7,8,6,11,15,70,16,18,34,47,39,1,4,1,59,1,2,1,66,3,14,10,18,9,13,4,4,59,10,1,5,1,22,34,41,64,4,18,1,2,15,9,15,1,12,2,5,4,16,1,5,4,37,13,24,61,41,22,2,19,8,15,1,17,1,2,29,2,14,8,5,63,1,53,1,16,1,10,3,66,17,7,12,42,2,1,30,15,13,67,23,35,56,9,17,48,17,34,42,11,1,1,3,50,5,51,46,1,41,29,26,1,3,66,21,1,4,9,1,1,9,1,1,2,3,14,41,13,2,18,1,4,38,12,19,10,1,23,32,32,31,19,57,1,24,1,65,10,2,1,1,1,38,19,52,1,3,1,2,35,16,1,1,30,5,56,44,1,49,47,31,3,8,2,65,1,1,24,69,7,11,1,58,14,12,25,58,16,1,1,2,23,57,24,49,5,2,4,5,47,10,1,67,5,67,15,1,26,22,21,47,2,22,7,1,49,43,1,1,1,32,17,4,1,1,37,8,3,1,5,40,1,51,1,33,30,2,2,29,13,7,30,2,24,1,1,7,67,57,7,1,14,28,17,10,34,1,3,2,6,12,1,3,23,1,65,16,66,1,53,69,13,4,12,1,54,48,2,29,15,17,56,21,1,1,1,35,32,33,1,8,5,2,42,40,57,1,38,2,8,7,31,18,14,28,15,5,1,1,4,53,59,46,14,31,13,35,2,1,25,16,1,36,1,9,8,45,25,13,46,25,18,60,30,1,39,1,31,3,1,7,61,39,10,1,67,6,1,33,2,7,1,52,22,47,33,18,24,1,4,2,1,19,22,4,4,4,7,19,5,8,1,2,3,13,28,15,10,5,2,1,5,1,4,31,1,1,10,15,17,53,16,9,25,4,50,9,3,10,32,9,66,3,29,1,41,8,12,1,4,1,7,6,14,25,22,61,70,1,1,47,1,22,48,1,25,20,18,1,9,28,11,12,53,41,20,7,7,22,3,51,5,62,28,10,69,12,27,1,14,32,3,22,16,5,23,1,50,1,71,46,2,1,32,3,5,49,17,23,6,6,2,4,4,3,8,1,1,30,5,1,72,13,32,16,29,38,17,1,2,2,1,4,5,9,18,25,17,52,3,1,8,43,22,54,1,1,7,12,54,1,23,3,10,37,31,34,29,12,1,33,4,35,19,1,1,31,4,1,10,2,9,4,38,51,1,41,12,5,10,11,1,16,1,4,1,13,1,21,11,2,2,1,6,4,12,4,4,3,53,68,1,10,1,51,24,18,72,4,1,26,7,5,42,4,2,8,9,1,43,1,3,70,11,50,5,1,16,15,46,8,31,32,1,20,26,5,1,14,36,9,5,9,2,1,8,2,3,51,2,39,12,26,18,2,4,1,9,2,29,1,9,50,1,54,42,1,1,9,46,1,13,19,1,24,67,6,20,20,46,11,2,1,16,3,57,5,4,7,1,2,4,1,7,4,1,1,1,1,41,66,35,10,54,2,26,15,31,18,61,1,24,3,1,43,4,25,57,4,36,1,35,4,58,30,21,3,41,21,1,11,1,72,3,1,47,18,1,20,6,1,48,3,2,1,1,3,9,49,6,6,16,7,25,20,4,28,1,11,4,54,28,2,1,1,14,1,4,20,14,30,3,40,2,1,10,1,14,58,22,1,49,68,1,7,9,1,24,2,27,57,1,13,1,63,25,35,71,6,15,9,37,2,29,5,28,11,55,24,1,6,4,3,1,11,1,5,8,22,29,13,43,3,2,66,62,17,56,31,2,66,3,1,31,14,35,37,7,24,1,32,1,17,19,2,8,1,1,1,9,3,49,2,55,21,69,1,39,6,17,1,58,1,19,3,3,3,30,15,10,1,38,1,16,1,12,4,15,41,1,1,7,42,1,12,55,17,1,72,11,8,1,23,39,9,15,30,1,3,67,1,1,12,22,2,27,10,1,22,1,21,6,72,54,3,8,5,1,2,1,65,33,15,30,2,4,2,25,25,43,10,2,9,27,69,22,56,66,24,1,36,1,1,1,39,5,24,2,5,11,4,1,1,2,3,44,24,18,1,65,53,1,15,4,9,22,38,53,1,8,16,1,7,9,37,5,3,31,2,37,38,48,10,8,2,3,4,37,1,5,28,30,36,1,4,17,3,4,4,26,5,4,1,1,8,1,50,26,6,3,3,1,14,61,40,58,18,7,2,19,11,39,15,5,1,10,6,16,2,2,19,1,66,36,39,21,2,4,35,33,45,7,6,3,11,1,40,47,7,1,7,15,11,67,8,44,24,15,17,1,9,7,36,3,34,1,22,47,24,53,8,2,8,48,43,16,8,20,2,27,5,52,37,69,40,6,11,6,3,5,8,1,28,1,29,19,6,1,1,6,15,25,10,13,49,1,37,26,12,10,5,18,3,54,10,1,2,32,36,53,1,12,1,5,6,26,1,64,13,9,10,2,20,9,32,70,1,1,1,13,7,1,7,54,5,1,33,55,6,8,11,49,1,15,16,44,5,4,30,1,9,1,1,61,59,3,3,1,13,18,3,1,1,70,68,26,11,1,1,46,4,22,9,7,1,40,29,3,1,3,23,13,1,39,1,14,1,1,1,1,1,42,7,1,10,17,1,8,1,39,58,6,22,70,21,71,1,20,4,32,6,27,1,13,1,19,10,13,1,68,39,1,1,36,15,5,13,5,2,17,1,9,1,1,1,9,20,70,3,20,21,17,2,21,5,24,1,10,1,53,3,46,49,11,45,37,49,14,1,47,13,5,3,26,8,9,1,12,42,33,31,18,42,4,12,15,7,14,3,16,65,42,6,53,5,68,3,12,43,68,25,66,70,27,1,3,29,36,1,2,12,1,1,59,3,1,1,2,29,52,2,13,19,47,5,52,42,25,9,16,5,3,31,1,1,10,4,43,4,11,47,1,4,17,43,21,42,46,5,6,1,7,2,1,5,22,1,1,3,1,1,33,1,2,2,3,26,67,71,1,5,9,26,54,2,1,30,4,17,60,1,13,38,1,50,65,1,7,2,45,1,1,13,10,4,1,41,71,3,69,32,51,72,6,1,1,31,58,47,44,2,1,1,1,5,1,1,1,1,40,1,3,13,58,42,1,29,1,1,2,10,49,6,2,35,70,2,15,42,9,1,21,2,1,16,14,15,1,2,55,7,13,3,66,38,1,22,1,1,43,1,2,1,12,6,34,1,10,16,7,27,1,9,48,3,2,2,14,3,57,3,64,2,12,40,12,54,4,1,51,4,35,1,38,37,3,61,11,1,19,56,2,14,4,15,1,64,1,55,18,32,66,7,6,13,11,9,1,54,25,37,14,4,3,1,13,45,1,6,3,12,8,6,3,1,1,41,9,43,33,1,56,3,1,5,1,70,48,13,24,27,25,22,1,4,18,56,16,30,8,50,41,3,3,40,3,23,1,4,1,12,9,1,67,4],\"xaxis\":\"x2\",\"yaxis\":\"y2\",\"type\":\"box\"}],                        {\"template\":{\"data\":{\"histogram2dcontour\":[{\"type\":\"histogram2dcontour\",\"colorbar\":{\"outlinewidth\":0,\"ticks\":\"\"},\"colorscale\":[[0.0,\"#0d0887\"],[0.1111111111111111,\"#46039f\"],[0.2222222222222222,\"#7201a8\"],[0.3333333333333333,\"#9c179e\"],[0.4444444444444444,\"#bd3786\"],[0.5555555555555556,\"#d8576b\"],[0.6666666666666666,\"#ed7953\"],[0.7777777777777778,\"#fb9f3a\"],[0.8888888888888888,\"#fdca26\"],[1.0,\"#f0f921\"]]}],\"choropleth\":[{\"type\":\"choropleth\",\"colorbar\":{\"outlinewidth\":0,\"ticks\":\"\"}}],\"histogram2d\":[{\"type\":\"histogram2d\",\"colorbar\":{\"outlinewidth\":0,\"ticks\":\"\"},\"colorscale\":[[0.0,\"#0d0887\"],[0.1111111111111111,\"#46039f\"],[0.2222222222222222,\"#7201a8\"],[0.3333333333333333,\"#9c179e\"],[0.4444444444444444,\"#bd3786\"],[0.5555555555555556,\"#d8576b\"],[0.6666666666666666,\"#ed7953\"],[0.7777777777777778,\"#fb9f3a\"],[0.8888888888888888,\"#fdca26\"],[1.0,\"#f0f921\"]]}],\"heatmap\":[{\"type\":\"heatmap\",\"colorbar\":{\"outlinewidth\":0,\"ticks\":\"\"},\"colorscale\":[[0.0,\"#0d0887\"],[0.1111111111111111,\"#46039f\"],[0.2222222222222222,\"#7201a8\"],[0.3333333333333333,\"#9c179e\"],[0.4444444444444444,\"#bd3786\"],[0.5555555555555556,\"#d8576b\"],[0.6666666666666666,\"#ed7953\"],[0.7777777777777778,\"#fb9f3a\"],[0.8888888888888888,\"#fdca26\"],[1.0,\"#f0f921\"]]}],\"heatmapgl\":[{\"type\":\"heatmapgl\",\"colorbar\":{\"outlinewidth\":0,\"ticks\":\"\"},\"colorscale\":[[0.0,\"#0d0887\"],[0.1111111111111111,\"#46039f\"],[0.2222222222222222,\"#7201a8\"],[0.3333333333333333,\"#9c179e\"],[0.4444444444444444,\"#bd3786\"],[0.5555555555555556,\"#d8576b\"],[0.6666666666666666,\"#ed7953\"],[0.7777777777777778,\"#fb9f3a\"],[0.8888888888888888,\"#fdca26\"],[1.0,\"#f0f921\"]]}],\"contourcarpet\":[{\"type\":\"contourcarpet\",\"colorbar\":{\"outlinewidth\":0,\"ticks\":\"\"}}],\"contour\":[{\"type\":\"contour\",\"colorbar\":{\"outlinewidth\":0,\"ticks\":\"\"},\"colorscale\":[[0.0,\"#0d0887\"],[0.1111111111111111,\"#46039f\"],[0.2222222222222222,\"#7201a8\"],[0.3333333333333333,\"#9c179e\"],[0.4444444444444444,\"#bd3786\"],[0.5555555555555556,\"#d8576b\"],[0.6666666666666666,\"#ed7953\"],[0.7777777777777778,\"#fb9f3a\"],[0.8888888888888888,\"#fdca26\"],[1.0,\"#f0f921\"]]}],\"surface\":[{\"type\":\"surface\",\"colorbar\":{\"outlinewidth\":0,\"ticks\":\"\"},\"colorscale\":[[0.0,\"#0d0887\"],[0.1111111111111111,\"#46039f\"],[0.2222222222222222,\"#7201a8\"],[0.3333333333333333,\"#9c179e\"],[0.4444444444444444,\"#bd3786\"],[0.5555555555555556,\"#d8576b\"],[0.6666666666666666,\"#ed7953\"],[0.7777777777777778,\"#fb9f3a\"],[0.8888888888888888,\"#fdca26\"],[1.0,\"#f0f921\"]]}],\"mesh3d\":[{\"type\":\"mesh3d\",\"colorbar\":{\"outlinewidth\":0,\"ticks\":\"\"}}],\"scatter\":[{\"fillpattern\":{\"fillmode\":\"overlay\",\"size\":10,\"solidity\":0.2},\"type\":\"scatter\"}],\"parcoords\":[{\"type\":\"parcoords\",\"line\":{\"colorbar\":{\"outlinewidth\":0,\"ticks\":\"\"}}}],\"scatterpolargl\":[{\"type\":\"scatterpolargl\",\"marker\":{\"colorbar\":{\"outlinewidth\":0,\"ticks\":\"\"}}}],\"bar\":[{\"error_x\":{\"color\":\"#2a3f5f\"},\"error_y\":{\"color\":\"#2a3f5f\"},\"marker\":{\"line\":{\"color\":\"#E5ECF6\",\"width\":0.5},\"pattern\":{\"fillmode\":\"overlay\",\"size\":10,\"solidity\":0.2}},\"type\":\"bar\"}],\"scattergeo\":[{\"type\":\"scattergeo\",\"marker\":{\"colorbar\":{\"outlinewidth\":0,\"ticks\":\"\"}}}],\"scatterpolar\":[{\"type\":\"scatterpolar\",\"marker\":{\"colorbar\":{\"outlinewidth\":0,\"ticks\":\"\"}}}],\"histogram\":[{\"marker\":{\"pattern\":{\"fillmode\":\"overlay\",\"size\":10,\"solidity\":0.2}},\"type\":\"histogram\"}],\"scattergl\":[{\"type\":\"scattergl\",\"marker\":{\"colorbar\":{\"outlinewidth\":0,\"ticks\":\"\"}}}],\"scatter3d\":[{\"type\":\"scatter3d\",\"line\":{\"colorbar\":{\"outlinewidth\":0,\"ticks\":\"\"}},\"marker\":{\"colorbar\":{\"outlinewidth\":0,\"ticks\":\"\"}}}],\"scattermapbox\":[{\"type\":\"scattermapbox\",\"marker\":{\"colorbar\":{\"outlinewidth\":0,\"ticks\":\"\"}}}],\"scatterternary\":[{\"type\":\"scatterternary\",\"marker\":{\"colorbar\":{\"outlinewidth\":0,\"ticks\":\"\"}}}],\"scattercarpet\":[{\"type\":\"scattercarpet\",\"marker\":{\"colorbar\":{\"outlinewidth\":0,\"ticks\":\"\"}}}],\"carpet\":[{\"aaxis\":{\"endlinecolor\":\"#2a3f5f\",\"gridcolor\":\"white\",\"linecolor\":\"white\",\"minorgridcolor\":\"white\",\"startlinecolor\":\"#2a3f5f\"},\"baxis\":{\"endlinecolor\":\"#2a3f5f\",\"gridcolor\":\"white\",\"linecolor\":\"white\",\"minorgridcolor\":\"white\",\"startlinecolor\":\"#2a3f5f\"},\"type\":\"carpet\"}],\"table\":[{\"cells\":{\"fill\":{\"color\":\"#EBF0F8\"},\"line\":{\"color\":\"white\"}},\"header\":{\"fill\":{\"color\":\"#C8D4E3\"},\"line\":{\"color\":\"white\"}},\"type\":\"table\"}],\"barpolar\":[{\"marker\":{\"line\":{\"color\":\"#E5ECF6\",\"width\":0.5},\"pattern\":{\"fillmode\":\"overlay\",\"size\":10,\"solidity\":0.2}},\"type\":\"barpolar\"}],\"pie\":[{\"automargin\":true,\"type\":\"pie\"}]},\"layout\":{\"autotypenumbers\":\"strict\",\"colorway\":[\"#636efa\",\"#EF553B\",\"#00cc96\",\"#ab63fa\",\"#FFA15A\",\"#19d3f3\",\"#FF6692\",\"#B6E880\",\"#FF97FF\",\"#FECB52\"],\"font\":{\"color\":\"#2a3f5f\"},\"hovermode\":\"closest\",\"hoverlabel\":{\"align\":\"left\"},\"paper_bgcolor\":\"white\",\"plot_bgcolor\":\"#E5ECF6\",\"polar\":{\"bgcolor\":\"#E5ECF6\",\"angularaxis\":{\"gridcolor\":\"white\",\"linecolor\":\"white\",\"ticks\":\"\"},\"radialaxis\":{\"gridcolor\":\"white\",\"linecolor\":\"white\",\"ticks\":\"\"}},\"ternary\":{\"bgcolor\":\"#E5ECF6\",\"aaxis\":{\"gridcolor\":\"white\",\"linecolor\":\"white\",\"ticks\":\"\"},\"baxis\":{\"gridcolor\":\"white\",\"linecolor\":\"white\",\"ticks\":\"\"},\"caxis\":{\"gridcolor\":\"white\",\"linecolor\":\"white\",\"ticks\":\"\"}},\"coloraxis\":{\"colorbar\":{\"outlinewidth\":0,\"ticks\":\"\"}},\"colorscale\":{\"sequential\":[[0.0,\"#0d0887\"],[0.1111111111111111,\"#46039f\"],[0.2222222222222222,\"#7201a8\"],[0.3333333333333333,\"#9c179e\"],[0.4444444444444444,\"#bd3786\"],[0.5555555555555556,\"#d8576b\"],[0.6666666666666666,\"#ed7953\"],[0.7777777777777778,\"#fb9f3a\"],[0.8888888888888888,\"#fdca26\"],[1.0,\"#f0f921\"]],\"sequentialminus\":[[0.0,\"#0d0887\"],[0.1111111111111111,\"#46039f\"],[0.2222222222222222,\"#7201a8\"],[0.3333333333333333,\"#9c179e\"],[0.4444444444444444,\"#bd3786\"],[0.5555555555555556,\"#d8576b\"],[0.6666666666666666,\"#ed7953\"],[0.7777777777777778,\"#fb9f3a\"],[0.8888888888888888,\"#fdca26\"],[1.0,\"#f0f921\"]],\"diverging\":[[0,\"#8e0152\"],[0.1,\"#c51b7d\"],[0.2,\"#de77ae\"],[0.3,\"#f1b6da\"],[0.4,\"#fde0ef\"],[0.5,\"#f7f7f7\"],[0.6,\"#e6f5d0\"],[0.7,\"#b8e186\"],[0.8,\"#7fbc41\"],[0.9,\"#4d9221\"],[1,\"#276419\"]]},\"xaxis\":{\"gridcolor\":\"white\",\"linecolor\":\"white\",\"ticks\":\"\",\"title\":{\"standoff\":15},\"zerolinecolor\":\"white\",\"automargin\":true,\"zerolinewidth\":2},\"yaxis\":{\"gridcolor\":\"white\",\"linecolor\":\"white\",\"ticks\":\"\",\"title\":{\"standoff\":15},\"zerolinecolor\":\"white\",\"automargin\":true,\"zerolinewidth\":2},\"scene\":{\"xaxis\":{\"backgroundcolor\":\"#E5ECF6\",\"gridcolor\":\"white\",\"linecolor\":\"white\",\"showbackground\":true,\"ticks\":\"\",\"zerolinecolor\":\"white\",\"gridwidth\":2},\"yaxis\":{\"backgroundcolor\":\"#E5ECF6\",\"gridcolor\":\"white\",\"linecolor\":\"white\",\"showbackground\":true,\"ticks\":\"\",\"zerolinecolor\":\"white\",\"gridwidth\":2},\"zaxis\":{\"backgroundcolor\":\"#E5ECF6\",\"gridcolor\":\"white\",\"linecolor\":\"white\",\"showbackground\":true,\"ticks\":\"\",\"zerolinecolor\":\"white\",\"gridwidth\":2}},\"shapedefaults\":{\"line\":{\"color\":\"#2a3f5f\"}},\"annotationdefaults\":{\"arrowcolor\":\"#2a3f5f\",\"arrowhead\":0,\"arrowwidth\":1},\"geo\":{\"bgcolor\":\"white\",\"landcolor\":\"#E5ECF6\",\"subunitcolor\":\"white\",\"showland\":true,\"showlakes\":true,\"lakecolor\":\"white\"},\"title\":{\"x\":0.05},\"mapbox\":{\"style\":\"light\"}}},\"xaxis\":{\"anchor\":\"y\",\"domain\":[0.0,1.0],\"title\":{\"text\":\"tenure\"}},\"yaxis\":{\"anchor\":\"x\",\"domain\":[0.0,0.7326],\"title\":{\"text\":\"count\"}},\"xaxis2\":{\"anchor\":\"y2\",\"domain\":[0.0,1.0],\"matches\":\"x\",\"showticklabels\":false,\"showgrid\":true},\"yaxis2\":{\"anchor\":\"x2\",\"domain\":[0.7426,1.0],\"matches\":\"y2\",\"showticklabels\":false,\"showline\":false,\"ticks\":\"\",\"showgrid\":false},\"legend\":{\"title\":{\"text\":\"Churn\"},\"tracegroupgap\":0},\"margin\":{\"t\":60},\"barmode\":\"relative\"},                        {\"responsive\": true}                    ).then(function(){\n",
              "                            \n",
              "var gd = document.getElementById('e6951e70-d7f3-47a4-9f72-31bd4bc6081e');\n",
              "var x = new MutationObserver(function (mutations, observer) {{\n",
              "        var display = window.getComputedStyle(gd).display;\n",
              "        if (!display || display === 'none') {{\n",
              "            console.log([gd, 'removed!']);\n",
              "            Plotly.purge(gd);\n",
              "            observer.disconnect();\n",
              "        }}\n",
              "}});\n",
              "\n",
              "// Listen for the removal of the full notebook cells\n",
              "var notebookContainer = gd.closest('#notebook-container');\n",
              "if (notebookContainer) {{\n",
              "    x.observe(notebookContainer, {childList: true});\n",
              "}}\n",
              "\n",
              "// Listen for the clearing of the current output cell\n",
              "var outputEl = gd.closest('.output');\n",
              "if (outputEl) {{\n",
              "    x.observe(outputEl, {childList: true});\n",
              "}}\n",
              "\n",
              "                        })                };                            </script>        </div>\n",
              "</body>\n",
              "</html>"
            ]
          },
          "metadata": {}
        }
      ]
    },
    {
      "cell_type": "code",
      "source": [
        "df.groupby('Churn')['tenure'].quantile([.50,.75,.90,.95])"
      ],
      "metadata": {
        "colab": {
          "base_uri": "https://localhost:8080/"
        },
        "id": "SYiyPX1UPfBa",
        "outputId": "501776f2-40ae-435f-e17f-e44bc7f892d3"
      },
      "execution_count": 73,
      "outputs": [
        {
          "output_type": "execute_result",
          "data": {
            "text/plain": [
              "Churn      \n",
              "No     0.50    38.0\n",
              "       0.75    61.0\n",
              "       0.90    71.0\n",
              "       0.95    72.0\n",
              "Yes    0.50    10.0\n",
              "       0.75    29.0\n",
              "       0.90    51.0\n",
              "       0.95    60.0\n",
              "Name: tenure, dtype: float64"
            ]
          },
          "metadata": {},
          "execution_count": 73
        }
      ]
    },
    {
      "cell_type": "code",
      "source": [
        "df.groupby('Churn')['tenure'].mean()"
      ],
      "metadata": {
        "colab": {
          "base_uri": "https://localhost:8080/"
        },
        "id": "D3xMbfgoPx8C",
        "outputId": "483091cf-b76f-451c-966e-dc63e5d45dfc"
      },
      "execution_count": 74,
      "outputs": [
        {
          "output_type": "execute_result",
          "data": {
            "text/plain": [
              "Churn\n",
              "No     37.569965\n",
              "Yes    17.979133\n",
              "Name: tenure, dtype: float64"
            ]
          },
          "metadata": {},
          "execution_count": 74
        }
      ]
    },
    {
      "cell_type": "markdown",
      "source": [
        "50% of the customers who left the service did so in the first 10 months.The number of clients in the churn ceases to decline sharply after 5 months in the service"
      ],
      "metadata": {
        "id": "xRq81AObQJfi"
      }
    },
    {
      "cell_type": "markdown",
      "source": [
        "**What were the reasons for the churn mentioned by customers?**\n",
        "\n",
        "Lets analyze our customer profile data to understand which type of customers are more likely to stop using our service\n",
        "\n",
        "**Contract types**\n",
        "\n",
        "Let's see what types of contacts there are in the service and how this affects the churn rate"
      ],
      "metadata": {
        "id": "GSf-yy2oQWEy"
      }
    },
    {
      "cell_type": "code",
      "source": [
        "df.info()"
      ],
      "metadata": {
        "colab": {
          "base_uri": "https://localhost:8080/"
        },
        "id": "9EEhftR0RTX5",
        "outputId": "76f9ecc3-1514-4734-ebc2-19f51e7c74c1"
      },
      "execution_count": 75,
      "outputs": [
        {
          "output_type": "stream",
          "name": "stdout",
          "text": [
            "<class 'pandas.core.frame.DataFrame'>\n",
            "RangeIndex: 7043 entries, 0 to 7042\n",
            "Data columns (total 21 columns):\n",
            " #   Column            Non-Null Count  Dtype  \n",
            "---  ------            --------------  -----  \n",
            " 0   customerID        7043 non-null   object \n",
            " 1   gender            7043 non-null   object \n",
            " 2   SeniorCitizen     7043 non-null   int64  \n",
            " 3   Partner           7043 non-null   object \n",
            " 4   Dependents        7043 non-null   object \n",
            " 5   tenure            7043 non-null   int64  \n",
            " 6   PhoneService      7043 non-null   object \n",
            " 7   MultipleLines     7043 non-null   object \n",
            " 8   InternetService   7043 non-null   object \n",
            " 9   OnlineSecurity    7043 non-null   object \n",
            " 10  OnlineBackup      7043 non-null   object \n",
            " 11  DeviceProtection  7043 non-null   object \n",
            " 12  TechSupport       7043 non-null   object \n",
            " 13  StreamingTV       7043 non-null   object \n",
            " 14  StreamingMovies   7043 non-null   object \n",
            " 15  Contract          7043 non-null   object \n",
            " 16  PaperlessBilling  7043 non-null   object \n",
            " 17  PaymentMethod     7043 non-null   object \n",
            " 18  MonthlyCharges    7043 non-null   float64\n",
            " 19  TotalCharges      7043 non-null   object \n",
            " 20  Churn             7043 non-null   object \n",
            "dtypes: float64(1), int64(2), object(18)\n",
            "memory usage: 1.1+ MB\n"
          ]
        }
      ]
    },
    {
      "cell_type": "code",
      "source": [
        "fig = px.histogram(df, x=\"Churn\", color=\"Contract\", barmode=\"group\",\n",
        "                   title=\"Number of customers by contract type\")\n",
        "fig.update_layout(width=700, height=500, bargap=0.1)\n",
        "fig.show()"
      ],
      "metadata": {
        "colab": {
          "base_uri": "https://localhost:8080/",
          "height": 517
        },
        "id": "Xm64woT7QCwy",
        "outputId": "29ef68c2-0296-4a7a-e0f8-6ea3520627ad"
      },
      "execution_count": 76,
      "outputs": [
        {
          "output_type": "display_data",
          "data": {
            "text/html": [
              "<html>\n",
              "<head><meta charset=\"utf-8\" /></head>\n",
              "<body>\n",
              "    <div>            <script src=\"https://cdnjs.cloudflare.com/ajax/libs/mathjax/2.7.5/MathJax.js?config=TeX-AMS-MML_SVG\"></script><script type=\"text/javascript\">if (window.MathJax && window.MathJax.Hub && window.MathJax.Hub.Config) {window.MathJax.Hub.Config({SVG: {font: \"STIX-Web\"}});}</script>                <script type=\"text/javascript\">window.PlotlyConfig = {MathJaxConfig: 'local'};</script>\n",
              "        <script charset=\"utf-8\" src=\"https://cdn.plot.ly/plotly-2.24.1.min.js\"></script>                <div id=\"25e95f0a-76b9-459c-810b-4a78fdfcf8cc\" class=\"plotly-graph-div\" style=\"height:500px; width:700px;\"></div>            <script type=\"text/javascript\">                                    window.PLOTLYENV=window.PLOTLYENV || {};                                    if (document.getElementById(\"25e95f0a-76b9-459c-810b-4a78fdfcf8cc\")) {                    Plotly.newPlot(                        \"25e95f0a-76b9-459c-810b-4a78fdfcf8cc\",                        [{\"alignmentgroup\":\"True\",\"bingroup\":\"x\",\"hovertemplate\":\"Contract=Month-to-month\\u003cbr\\u003eChurn=%{x}\\u003cbr\\u003ecount=%{y}\\u003cextra\\u003e\\u003c\\u002fextra\\u003e\",\"legendgroup\":\"Month-to-month\",\"marker\":{\"color\":\"#636efa\",\"pattern\":{\"shape\":\"\"}},\"name\":\"Month-to-month\",\"offsetgroup\":\"Month-to-month\",\"orientation\":\"v\",\"showlegend\":true,\"x\":[\"No\",\"Yes\",\"Yes\",\"Yes\",\"No\",\"No\",\"Yes\",\"No\",\"Yes\",\"No\",\"Yes\",\"No\",\"Yes\",\"Yes\",\"No\",\"No\",\"Yes\",\"Yes\",\"Yes\",\"No\",\"No\",\"No\",\"Yes\",\"No\",\"Yes\",\"Yes\",\"No\",\"No\",\"No\",\"Yes\",\"No\",\"Yes\",\"No\",\"Yes\",\"Yes\",\"No\",\"No\",\"Yes\",\"No\",\"No\",\"No\",\"No\",\"No\",\"No\",\"Yes\",\"No\",\"Yes\",\"No\",\"No\",\"No\",\"No\",\"No\",\"No\",\"Yes\",\"Yes\",\"Yes\",\"No\",\"No\",\"No\",\"Yes\",\"No\",\"Yes\",\"No\",\"Yes\",\"No\",\"No\",\"Yes\",\"No\",\"No\",\"Yes\",\"No\",\"No\",\"Yes\",\"Yes\",\"Yes\",\"No\",\"Yes\",\"Yes\",\"Yes\",\"No\",\"No\",\"Yes\",\"No\",\"No\",\"No\",\"No\",\"Yes\",\"No\",\"Yes\",\"Yes\",\"No\",\"Yes\",\"No\",\"Yes\",\"Yes\",\"No\",\"Yes\",\"No\",\"Yes\",\"Yes\",\"Yes\",\"No\",\"No\",\"No\",\"Yes\",\"No\",\"No\",\"No\",\"No\",\"No\",\"No\",\"Yes\",\"Yes\",\"Yes\",\"No\",\"No\",\"No\",\"No\",\"Yes\",\"Yes\",\"Yes\",\"No\",\"No\",\"Yes\",\"No\",\"Yes\",\"No\",\"Yes\",\"No\",\"No\",\"No\",\"Yes\",\"Yes\",\"Yes\",\"Yes\",\"No\",\"Yes\",\"No\",\"Yes\",\"Yes\",\"No\",\"No\",\"Yes\",\"Yes\",\"No\",\"Yes\",\"Yes\",\"Yes\",\"No\",\"No\",\"No\",\"No\",\"No\",\"No\",\"No\",\"Yes\",\"No\",\"Yes\",\"Yes\",\"Yes\",\"Yes\",\"No\",\"No\",\"No\",\"No\",\"No\",\"Yes\",\"Yes\",\"No\",\"No\",\"Yes\",\"No\",\"No\",\"No\",\"No\",\"Yes\",\"Yes\",\"No\",\"No\",\"No\",\"No\",\"Yes\",\"No\",\"No\",\"Yes\",\"Yes\",\"No\",\"Yes\",\"No\",\"No\",\"No\",\"Yes\",\"No\",\"No\",\"Yes\",\"Yes\",\"Yes\",\"No\",\"Yes\",\"No\",\"No\",\"Yes\",\"No\",\"No\",\"Yes\",\"No\",\"No\",\"Yes\",\"Yes\",\"Yes\",\"Yes\",\"Yes\",\"No\",\"No\",\"No\",\"No\",\"No\",\"No\",\"No\",\"No\",\"Yes\",\"No\",\"Yes\",\"No\",\"Yes\",\"Yes\",\"Yes\",\"No\",\"No\",\"No\",\"No\",\"Yes\",\"Yes\",\"No\",\"No\",\"No\",\"No\",\"No\",\"No\",\"Yes\",\"No\",\"Yes\",\"No\",\"No\",\"No\",\"No\",\"No\",\"No\",\"No\",\"Yes\",\"Yes\",\"No\",\"No\",\"No\",\"Yes\",\"No\",\"No\",\"No\",\"No\",\"No\",\"Yes\",\"Yes\",\"Yes\",\"Yes\",\"No\",\"No\",\"Yes\",\"Yes\",\"No\",\"No\",\"Yes\",\"Yes\",\"Yes\",\"No\",\"Yes\",\"No\",\"Yes\",\"No\",\"Yes\",\"No\",\"No\",\"Yes\",\"Yes\",\"No\",\"Yes\",\"No\",\"Yes\",\"Yes\",\"No\",\"No\",\"Yes\",\"No\",\"No\",\"Yes\",\"No\",\"Yes\",\"No\",\"No\",\"No\",\"Yes\",\"Yes\",\"No\",\"Yes\",\"No\",\"No\",\"No\",\"No\",\"Yes\",\"Yes\",\"Yes\",\"No\",\"Yes\",\"No\",\"No\",\"No\",\"No\",\"No\",\"No\",\"Yes\",\"No\",\"No\",\"No\",\"No\",\"Yes\",\"Yes\",\"Yes\",\"No\",\"No\",\"Yes\",\"No\",\"No\",\"Yes\",\"No\",\"No\",\"Yes\",\"Yes\",\"Yes\",\"No\",\"No\",\"No\",\"No\",\"No\",\"Yes\",\"No\",\"No\",\"Yes\",\"Yes\",\"No\",\"Yes\",\"Yes\",\"Yes\",\"Yes\",\"No\",\"Yes\",\"Yes\",\"Yes\",\"No\",\"Yes\",\"Yes\",\"No\",\"Yes\",\"No\",\"No\",\"Yes\",\"No\",\"No\",\"No\",\"Yes\",\"No\",\"Yes\",\"Yes\",\"No\",\"Yes\",\"Yes\",\"No\",\"No\",\"Yes\",\"No\",\"No\",\"No\",\"Yes\",\"No\",\"No\",\"Yes\",\"No\",\"Yes\",\"No\",\"No\",\"No\",\"No\",\"Yes\",\"No\",\"No\",\"Yes\",\"No\",\"No\",\"No\",\"No\",\"No\",\"No\",\"Yes\",\"Yes\",\"Yes\",\"No\",\"No\",\"Yes\",\"Yes\",\"No\",\"No\",\"No\",\"No\",\"No\",\"No\",\"Yes\",\"No\",\"No\",\"No\",\"No\",\"No\",\"Yes\",\"No\",\"Yes\",\"No\",\"Yes\",\"Yes\",\"No\",\"No\",\"No\",\"No\",\"Yes\",\"Yes\",\"Yes\",\"No\",\"Yes\",\"Yes\",\"No\",\"No\",\"Yes\",\"No\",\"No\",\"No\",\"No\",\"No\",\"Yes\",\"Yes\",\"No\",\"Yes\",\"Yes\",\"No\",\"No\",\"Yes\",\"Yes\",\"No\",\"No\",\"Yes\",\"Yes\",\"No\",\"No\",\"No\",\"Yes\",\"No\",\"Yes\",\"No\",\"No\",\"Yes\",\"No\",\"No\",\"Yes\",\"Yes\",\"Yes\",\"Yes\",\"Yes\",\"No\",\"Yes\",\"No\",\"Yes\",\"No\",\"Yes\",\"Yes\",\"No\",\"No\",\"Yes\",\"No\",\"Yes\",\"No\",\"Yes\",\"No\",\"Yes\",\"No\",\"No\",\"Yes\",\"Yes\",\"Yes\",\"No\",\"No\",\"Yes\",\"No\",\"Yes\",\"No\",\"No\",\"No\",\"No\",\"No\",\"No\",\"Yes\",\"Yes\",\"No\",\"Yes\",\"No\",\"Yes\",\"No\",\"No\",\"No\",\"No\",\"Yes\",\"No\",\"No\",\"Yes\",\"Yes\",\"No\",\"No\",\"No\",\"No\",\"Yes\",\"No\",\"No\",\"No\",\"No\",\"No\",\"Yes\",\"Yes\",\"Yes\",\"No\",\"Yes\",\"Yes\",\"No\",\"Yes\",\"Yes\",\"No\",\"No\",\"Yes\",\"Yes\",\"No\",\"No\",\"No\",\"Yes\",\"Yes\",\"Yes\",\"No\",\"Yes\",\"Yes\",\"No\",\"No\",\"Yes\",\"Yes\",\"Yes\",\"No\",\"No\",\"No\",\"Yes\",\"No\",\"No\",\"No\",\"No\",\"No\",\"No\",\"Yes\",\"Yes\",\"Yes\",\"No\",\"No\",\"Yes\",\"No\",\"Yes\",\"Yes\",\"No\",\"Yes\",\"No\",\"No\",\"Yes\",\"Yes\",\"No\",\"Yes\",\"Yes\",\"Yes\",\"Yes\",\"Yes\",\"Yes\",\"No\",\"No\",\"Yes\",\"No\",\"Yes\",\"Yes\",\"Yes\",\"Yes\",\"No\",\"No\",\"Yes\",\"No\",\"No\",\"Yes\",\"Yes\",\"Yes\",\"No\",\"Yes\",\"No\",\"No\",\"No\",\"No\",\"No\",\"No\",\"Yes\",\"No\",\"No\",\"Yes\",\"Yes\",\"No\",\"No\",\"No\",\"No\",\"Yes\",\"Yes\",\"No\",\"No\",\"Yes\",\"Yes\",\"No\",\"No\",\"No\",\"No\",\"No\",\"No\",\"Yes\",\"No\",\"No\",\"Yes\",\"Yes\",\"No\",\"No\",\"No\",\"No\",\"Yes\",\"No\",\"Yes\",\"Yes\",\"No\",\"No\",\"Yes\",\"No\",\"Yes\",\"Yes\",\"No\",\"Yes\",\"No\",\"No\",\"Yes\",\"No\",\"Yes\",\"No\",\"No\",\"No\",\"No\",\"No\",\"No\",\"Yes\",\"No\",\"No\",\"Yes\",\"Yes\",\"Yes\",\"No\",\"Yes\",\"Yes\",\"Yes\",\"No\",\"No\",\"No\",\"Yes\",\"Yes\",\"Yes\",\"No\",\"No\",\"No\",\"Yes\",\"Yes\",\"Yes\",\"No\",\"No\",\"No\",\"No\",\"Yes\",\"Yes\",\"No\",\"No\",\"Yes\",\"Yes\",\"Yes\",\"No\",\"Yes\",\"Yes\",\"No\",\"No\",\"No\",\"Yes\",\"No\",\"No\",\"No\",\"No\",\"Yes\",\"No\",\"Yes\",\"Yes\",\"No\",\"No\",\"Yes\",\"Yes\",\"No\",\"Yes\",\"Yes\",\"Yes\",\"Yes\",\"No\",\"No\",\"No\",\"Yes\",\"No\",\"Yes\",\"Yes\",\"No\",\"No\",\"Yes\",\"Yes\",\"No\",\"Yes\",\"Yes\",\"Yes\",\"No\",\"Yes\",\"Yes\",\"No\",\"No\",\"Yes\",\"No\",\"No\",\"No\",\"No\",\"Yes\",\"Yes\",\"Yes\",\"Yes\",\"Yes\",\"Yes\",\"No\",\"No\",\"Yes\",\"No\",\"No\",\"No\",\"No\",\"Yes\",\"Yes\",\"No\",\"Yes\",\"No\",\"No\",\"No\",\"No\",\"No\",\"Yes\",\"Yes\",\"No\",\"Yes\",\"No\",\"Yes\",\"No\",\"Yes\",\"No\",\"No\",\"No\",\"No\",\"Yes\",\"Yes\",\"No\",\"No\",\"Yes\",\"No\",\"No\",\"Yes\",\"No\",\"Yes\",\"No\",\"Yes\",\"No\",\"No\",\"No\",\"Yes\",\"No\",\"No\",\"No\",\"No\",\"No\",\"No\",\"No\",\"Yes\",\"Yes\",\"Yes\",\"No\",\"Yes\",\"No\",\"No\",\"No\",\"Yes\",\"No\",\"No\",\"Yes\",\"Yes\",\"No\",\"No\",\"Yes\",\"No\",\"Yes\",\"Yes\",\"No\",\"No\",\"Yes\",\"No\",\"No\",\"No\",\"No\",\"Yes\",\"No\",\"No\",\"No\",\"Yes\",\"No\",\"Yes\",\"No\",\"Yes\",\"No\",\"No\",\"Yes\",\"No\",\"Yes\",\"No\",\"No\",\"No\",\"No\",\"No\",\"Yes\",\"No\",\"No\",\"Yes\",\"No\",\"Yes\",\"No\",\"No\",\"Yes\",\"No\",\"No\",\"Yes\",\"No\",\"No\",\"No\",\"Yes\",\"No\",\"Yes\",\"No\",\"Yes\",\"No\",\"No\",\"Yes\",\"No\",\"No\",\"No\",\"No\",\"No\",\"Yes\",\"Yes\",\"Yes\",\"Yes\",\"No\",\"No\",\"No\",\"No\",\"Yes\",\"No\",\"Yes\",\"No\",\"Yes\",\"Yes\",\"Yes\",\"Yes\",\"No\",\"No\",\"Yes\",\"No\",\"Yes\",\"Yes\",\"No\",\"No\",\"No\",\"No\",\"Yes\",\"No\",\"Yes\",\"No\",\"No\",\"Yes\",\"Yes\",\"Yes\",\"No\",\"No\",\"Yes\",\"Yes\",\"No\",\"Yes\",\"No\",\"No\",\"Yes\",\"No\",\"No\",\"Yes\",\"Yes\",\"Yes\",\"No\",\"No\",\"No\",\"Yes\",\"Yes\",\"Yes\",\"No\",\"No\",\"No\",\"No\",\"Yes\",\"No\",\"No\",\"Yes\",\"Yes\",\"Yes\",\"No\",\"Yes\",\"No\",\"No\",\"Yes\",\"No\",\"No\",\"No\",\"No\",\"No\",\"Yes\",\"No\",\"No\",\"No\",\"No\",\"Yes\",\"Yes\",\"No\",\"Yes\",\"Yes\",\"No\",\"Yes\",\"No\",\"No\",\"Yes\",\"Yes\",\"No\",\"Yes\",\"No\",\"No\",\"No\",\"No\",\"No\",\"Yes\",\"Yes\",\"Yes\",\"No\",\"No\",\"No\",\"No\",\"Yes\",\"Yes\",\"Yes\",\"No\",\"Yes\",\"No\",\"Yes\",\"No\",\"Yes\",\"No\",\"No\",\"No\",\"Yes\",\"Yes\",\"Yes\",\"No\",\"No\",\"No\",\"No\",\"No\",\"Yes\",\"Yes\",\"Yes\",\"No\",\"No\",\"No\",\"No\",\"No\",\"Yes\",\"No\",\"Yes\",\"No\",\"Yes\",\"Yes\",\"No\",\"No\",\"Yes\",\"No\",\"Yes\",\"Yes\",\"Yes\",\"Yes\",\"Yes\",\"Yes\",\"Yes\",\"Yes\",\"No\",\"Yes\",\"No\",\"No\",\"No\",\"No\",\"Yes\",\"Yes\",\"No\",\"No\",\"Yes\",\"No\",\"Yes\",\"No\",\"Yes\",\"Yes\",\"No\",\"No\",\"No\",\"No\",\"Yes\",\"Yes\",\"No\",\"No\",\"Yes\",\"No\",\"No\",\"No\",\"No\",\"Yes\",\"No\",\"Yes\",\"No\",\"No\",\"No\",\"Yes\",\"Yes\",\"Yes\",\"No\",\"No\",\"No\",\"Yes\",\"No\",\"No\",\"No\",\"No\",\"Yes\",\"No\",\"Yes\",\"Yes\",\"No\",\"No\",\"Yes\",\"Yes\",\"No\",\"No\",\"No\",\"No\",\"No\",\"No\",\"Yes\",\"No\",\"Yes\",\"No\",\"Yes\",\"Yes\",\"No\",\"No\",\"Yes\",\"No\",\"Yes\",\"Yes\",\"Yes\",\"Yes\",\"No\",\"Yes\",\"Yes\",\"Yes\",\"Yes\",\"No\",\"No\",\"Yes\",\"Yes\",\"Yes\",\"Yes\",\"Yes\",\"No\",\"Yes\",\"No\",\"No\",\"Yes\",\"Yes\",\"No\",\"Yes\",\"No\",\"No\",\"Yes\",\"Yes\",\"No\",\"No\",\"No\",\"Yes\",\"Yes\",\"No\",\"No\",\"No\",\"No\",\"Yes\",\"No\",\"No\",\"Yes\",\"Yes\",\"No\",\"No\",\"Yes\",\"No\",\"Yes\",\"No\",\"No\",\"Yes\",\"Yes\",\"No\",\"Yes\",\"No\",\"Yes\",\"No\",\"No\",\"No\",\"Yes\",\"Yes\",\"Yes\",\"Yes\",\"Yes\",\"No\",\"No\",\"No\",\"Yes\",\"Yes\",\"No\",\"No\",\"No\",\"No\",\"No\",\"Yes\",\"Yes\",\"No\",\"No\",\"No\",\"No\",\"Yes\",\"No\",\"No\",\"No\",\"Yes\",\"No\",\"No\",\"Yes\",\"Yes\",\"No\",\"No\",\"No\",\"No\",\"Yes\",\"No\",\"No\",\"No\",\"No\",\"No\",\"No\",\"No\",\"No\",\"Yes\",\"Yes\",\"Yes\",\"No\",\"Yes\",\"Yes\",\"Yes\",\"No\",\"No\",\"No\",\"Yes\",\"No\",\"Yes\",\"Yes\",\"No\",\"Yes\",\"Yes\",\"No\",\"No\",\"Yes\",\"Yes\",\"Yes\",\"Yes\",\"No\",\"Yes\",\"No\",\"No\",\"No\",\"Yes\",\"Yes\",\"No\",\"Yes\",\"No\",\"No\",\"No\",\"No\",\"Yes\",\"No\",\"No\",\"No\",\"No\",\"Yes\",\"No\",\"Yes\",\"Yes\",\"Yes\",\"Yes\",\"Yes\",\"No\",\"No\",\"Yes\",\"Yes\",\"No\",\"Yes\",\"No\",\"No\",\"Yes\",\"Yes\",\"Yes\",\"No\",\"Yes\",\"No\",\"No\",\"Yes\",\"Yes\",\"Yes\",\"Yes\",\"No\",\"No\",\"Yes\",\"No\",\"No\",\"No\",\"No\",\"No\",\"No\",\"Yes\",\"Yes\",\"No\",\"No\",\"No\",\"No\",\"No\",\"No\",\"No\",\"Yes\",\"Yes\",\"No\",\"No\",\"No\",\"No\",\"No\",\"No\",\"No\",\"No\",\"No\",\"Yes\",\"No\",\"No\",\"No\",\"No\",\"Yes\",\"Yes\",\"No\",\"No\",\"No\",\"Yes\",\"Yes\",\"No\",\"No\",\"No\",\"No\",\"No\",\"No\",\"No\",\"No\",\"No\",\"Yes\",\"No\",\"No\",\"No\",\"No\",\"No\",\"Yes\",\"Yes\",\"Yes\",\"No\",\"Yes\",\"No\",\"No\",\"No\",\"No\",\"No\",\"No\",\"No\",\"Yes\",\"Yes\",\"Yes\",\"No\",\"No\",\"No\",\"No\",\"Yes\",\"No\",\"No\",\"Yes\",\"Yes\",\"No\",\"Yes\",\"No\",\"Yes\",\"No\",\"Yes\",\"No\",\"Yes\",\"No\",\"No\",\"No\",\"Yes\",\"Yes\",\"Yes\",\"Yes\",\"No\",\"No\",\"No\",\"No\",\"Yes\",\"No\",\"Yes\",\"No\",\"Yes\",\"No\",\"Yes\",\"No\",\"Yes\",\"No\",\"Yes\",\"No\",\"No\",\"Yes\",\"Yes\",\"Yes\",\"Yes\",\"Yes\",\"No\",\"No\",\"Yes\",\"Yes\",\"Yes\",\"Yes\",\"No\",\"Yes\",\"No\",\"No\",\"No\",\"No\",\"No\",\"No\",\"No\",\"No\",\"No\",\"Yes\",\"Yes\",\"Yes\",\"Yes\",\"Yes\",\"Yes\",\"No\",\"No\",\"Yes\",\"Yes\",\"No\",\"No\",\"No\",\"No\",\"No\",\"No\",\"Yes\",\"No\",\"No\",\"No\",\"No\",\"No\",\"No\",\"No\",\"Yes\",\"Yes\",\"Yes\",\"Yes\",\"Yes\",\"No\",\"Yes\",\"Yes\",\"Yes\",\"Yes\",\"No\",\"No\",\"No\",\"No\",\"No\",\"Yes\",\"Yes\",\"Yes\",\"Yes\",\"No\",\"No\",\"Yes\",\"Yes\",\"Yes\",\"No\",\"No\",\"No\",\"No\",\"Yes\",\"No\",\"Yes\",\"Yes\",\"No\",\"No\",\"Yes\",\"Yes\",\"Yes\",\"No\",\"Yes\",\"No\",\"Yes\",\"Yes\",\"Yes\",\"Yes\",\"Yes\",\"No\",\"Yes\",\"Yes\",\"No\",\"No\",\"No\",\"No\",\"No\",\"No\",\"Yes\",\"Yes\",\"Yes\",\"Yes\",\"No\",\"No\",\"No\",\"No\",\"No\",\"Yes\",\"Yes\",\"No\",\"No\",\"Yes\",\"Yes\",\"No\",\"No\",\"No\",\"No\",\"No\",\"No\",\"Yes\",\"Yes\",\"Yes\",\"No\",\"Yes\",\"No\",\"Yes\",\"Yes\",\"No\",\"No\",\"Yes\",\"No\",\"No\",\"Yes\",\"No\",\"No\",\"No\",\"No\",\"Yes\",\"Yes\",\"No\",\"No\",\"No\",\"Yes\",\"No\",\"Yes\",\"No\",\"No\",\"Yes\",\"No\",\"No\",\"No\",\"No\",\"Yes\",\"No\",\"Yes\",\"Yes\",\"No\",\"Yes\",\"No\",\"No\",\"Yes\",\"Yes\",\"No\",\"Yes\",\"Yes\",\"No\",\"No\",\"Yes\",\"Yes\",\"No\",\"Yes\",\"No\",\"No\",\"No\",\"Yes\",\"No\",\"No\",\"No\",\"No\",\"No\",\"No\",\"No\",\"No\",\"Yes\",\"Yes\",\"No\",\"No\",\"No\",\"No\",\"Yes\",\"Yes\",\"Yes\",\"Yes\",\"Yes\",\"No\",\"Yes\",\"No\",\"No\",\"No\",\"Yes\",\"Yes\",\"Yes\",\"Yes\",\"No\",\"Yes\",\"Yes\",\"No\",\"No\",\"Yes\",\"No\",\"Yes\",\"Yes\",\"Yes\",\"No\",\"No\",\"No\",\"Yes\",\"Yes\",\"No\",\"Yes\",\"No\",\"No\",\"No\",\"No\",\"Yes\",\"Yes\",\"No\",\"No\",\"No\",\"No\",\"Yes\",\"No\",\"No\",\"Yes\",\"Yes\",\"Yes\",\"No\",\"No\",\"No\",\"No\",\"Yes\",\"No\",\"Yes\",\"Yes\",\"No\",\"No\",\"Yes\",\"Yes\",\"Yes\",\"No\",\"No\",\"No\",\"No\",\"No\",\"Yes\",\"No\",\"No\",\"No\",\"No\",\"Yes\",\"No\",\"No\",\"Yes\",\"No\",\"Yes\",\"Yes\",\"No\",\"Yes\",\"Yes\",\"No\",\"No\",\"No\",\"Yes\",\"Yes\",\"No\",\"No\",\"No\",\"Yes\",\"No\",\"Yes\",\"Yes\",\"Yes\",\"Yes\",\"No\",\"No\",\"Yes\",\"Yes\",\"Yes\",\"Yes\",\"No\",\"Yes\",\"Yes\",\"No\",\"Yes\",\"Yes\",\"No\",\"No\",\"No\",\"No\",\"No\",\"Yes\",\"No\",\"No\",\"No\",\"Yes\",\"Yes\",\"Yes\",\"No\",\"Yes\",\"Yes\",\"No\",\"Yes\",\"Yes\",\"Yes\",\"No\",\"No\",\"Yes\",\"No\",\"No\",\"Yes\",\"Yes\",\"No\",\"No\",\"No\",\"No\",\"No\",\"Yes\",\"Yes\",\"Yes\",\"No\",\"No\",\"No\",\"Yes\",\"No\",\"No\",\"No\",\"Yes\",\"Yes\",\"Yes\",\"Yes\",\"No\",\"Yes\",\"Yes\",\"No\",\"No\",\"Yes\",\"Yes\",\"No\",\"No\",\"No\",\"No\",\"No\",\"No\",\"No\",\"No\",\"Yes\",\"Yes\",\"No\",\"No\",\"No\",\"No\",\"No\",\"Yes\",\"Yes\",\"Yes\",\"No\",\"Yes\",\"Yes\",\"No\",\"Yes\",\"No\",\"No\",\"Yes\",\"No\",\"Yes\",\"No\",\"No\",\"No\",\"Yes\",\"No\",\"No\",\"Yes\",\"No\",\"No\",\"No\",\"No\",\"Yes\",\"No\",\"No\",\"No\",\"Yes\",\"No\",\"No\",\"No\",\"No\",\"Yes\",\"No\",\"No\",\"Yes\",\"Yes\",\"Yes\",\"No\",\"Yes\",\"No\",\"No\",\"No\",\"No\",\"No\",\"Yes\",\"Yes\",\"No\",\"No\",\"Yes\",\"No\",\"Yes\",\"Yes\",\"Yes\",\"No\",\"Yes\",\"No\",\"Yes\",\"No\",\"No\",\"No\",\"No\",\"No\",\"Yes\",\"No\",\"No\",\"Yes\",\"Yes\",\"No\",\"No\",\"Yes\",\"No\",\"No\",\"No\",\"Yes\",\"Yes\",\"No\",\"Yes\",\"No\",\"No\",\"Yes\",\"No\",\"No\",\"Yes\",\"Yes\",\"Yes\",\"No\",\"No\",\"Yes\",\"Yes\",\"No\",\"Yes\",\"No\",\"Yes\",\"Yes\",\"Yes\",\"Yes\",\"No\",\"Yes\",\"Yes\",\"No\",\"No\",\"Yes\",\"No\",\"Yes\",\"Yes\",\"No\",\"No\",\"Yes\",\"No\",\"Yes\",\"Yes\",\"No\",\"No\",\"Yes\",\"Yes\",\"Yes\",\"Yes\",\"No\",\"No\",\"No\",\"No\",\"No\",\"No\",\"Yes\",\"No\",\"No\",\"Yes\",\"Yes\",\"Yes\",\"No\",\"No\",\"No\",\"No\",\"No\",\"Yes\",\"Yes\",\"Yes\",\"No\",\"Yes\",\"Yes\",\"No\",\"Yes\",\"No\",\"Yes\",\"No\",\"No\",\"Yes\",\"No\",\"Yes\",\"No\",\"No\",\"Yes\",\"No\",\"No\",\"No\",\"Yes\",\"No\",\"No\",\"No\",\"No\",\"Yes\",\"No\",\"No\",\"Yes\",\"No\",\"No\",\"No\",\"No\",\"Yes\",\"No\",\"Yes\",\"No\",\"No\",\"Yes\",\"Yes\",\"No\",\"No\",\"Yes\",\"Yes\",\"No\",\"No\",\"No\",\"No\",\"No\",\"No\",\"No\",\"Yes\",\"No\",\"No\",\"No\",\"Yes\",\"Yes\",\"Yes\",\"Yes\",\"Yes\",\"No\",\"No\",\"Yes\",\"No\",\"Yes\",\"No\",\"Yes\",\"No\",\"Yes\",\"Yes\",\"No\",\"Yes\",\"No\",\"No\",\"Yes\",\"Yes\",\"No\",\"Yes\",\"Yes\",\"No\",\"No\",\"No\",\"No\",\"No\",\"No\",\"No\",\"No\",\"Yes\",\"No\",\"No\",\"Yes\",\"Yes\",\"No\",\"No\",\"Yes\",\"Yes\",\"Yes\",\"No\",\"Yes\",\"Yes\",\"No\",\"No\",\"No\",\"Yes\",\"No\",\"No\",\"Yes\",\"No\",\"No\",\"Yes\",\"Yes\",\"No\",\"Yes\",\"Yes\",\"No\",\"No\",\"Yes\",\"No\",\"No\",\"No\",\"No\",\"Yes\",\"Yes\",\"No\",\"No\",\"No\",\"Yes\",\"Yes\",\"Yes\",\"No\",\"No\",\"No\",\"Yes\",\"No\",\"No\",\"No\",\"Yes\",\"No\",\"No\",\"Yes\",\"No\",\"No\",\"Yes\",\"Yes\",\"Yes\",\"No\",\"No\",\"No\",\"Yes\",\"Yes\",\"Yes\",\"Yes\",\"No\",\"Yes\",\"No\",\"Yes\",\"Yes\",\"No\",\"No\",\"Yes\",\"No\",\"No\",\"Yes\",\"Yes\",\"No\",\"No\",\"Yes\",\"No\",\"Yes\",\"No\",\"No\",\"No\",\"Yes\",\"No\",\"Yes\",\"Yes\",\"Yes\",\"Yes\",\"No\",\"No\",\"Yes\",\"No\",\"No\",\"No\",\"Yes\",\"Yes\",\"Yes\",\"No\",\"Yes\",\"No\",\"No\",\"No\",\"Yes\",\"Yes\",\"No\",\"Yes\",\"No\",\"No\",\"Yes\",\"No\",\"Yes\",\"No\",\"No\",\"Yes\",\"Yes\",\"Yes\",\"Yes\",\"No\",\"No\",\"No\",\"Yes\",\"Yes\",\"No\",\"No\",\"No\",\"No\",\"Yes\",\"No\",\"No\",\"No\",\"Yes\",\"No\",\"Yes\",\"Yes\",\"No\",\"No\",\"Yes\",\"No\",\"Yes\",\"No\",\"No\",\"No\",\"Yes\",\"No\",\"Yes\",\"No\",\"No\",\"Yes\",\"Yes\",\"No\",\"No\",\"No\",\"Yes\",\"No\",\"Yes\",\"Yes\",\"No\",\"No\",\"No\",\"No\",\"No\",\"No\",\"No\",\"No\",\"No\",\"No\",\"No\",\"Yes\",\"No\",\"Yes\",\"Yes\",\"No\",\"No\",\"No\",\"Yes\",\"No\",\"No\",\"No\",\"No\",\"Yes\",\"Yes\",\"No\",\"No\",\"No\",\"No\",\"No\",\"No\",\"Yes\",\"Yes\",\"No\",\"Yes\",\"Yes\",\"No\",\"Yes\",\"Yes\",\"Yes\",\"No\",\"No\",\"Yes\",\"No\",\"Yes\",\"No\",\"No\",\"Yes\",\"No\",\"No\",\"No\",\"No\",\"Yes\",\"No\",\"No\",\"Yes\",\"No\",\"Yes\",\"Yes\",\"No\",\"No\",\"Yes\",\"Yes\",\"No\",\"No\",\"Yes\",\"Yes\",\"No\",\"No\",\"Yes\",\"No\",\"No\",\"Yes\",\"Yes\",\"No\",\"Yes\",\"No\",\"Yes\",\"No\",\"Yes\",\"No\",\"No\",\"Yes\",\"Yes\",\"No\",\"Yes\",\"No\",\"Yes\",\"No\",\"Yes\",\"No\",\"No\",\"No\",\"Yes\",\"Yes\",\"No\",\"No\",\"Yes\",\"Yes\",\"No\",\"No\",\"No\",\"No\",\"No\",\"No\",\"No\",\"Yes\",\"No\",\"No\",\"Yes\",\"No\",\"No\",\"Yes\",\"Yes\",\"Yes\",\"No\",\"Yes\",\"Yes\",\"No\",\"Yes\",\"No\",\"No\",\"No\",\"Yes\",\"Yes\",\"No\",\"No\",\"No\",\"Yes\",\"Yes\",\"Yes\",\"No\",\"Yes\",\"Yes\",\"No\",\"No\",\"No\",\"No\",\"No\",\"No\",\"No\",\"No\",\"Yes\",\"No\",\"No\",\"No\",\"No\",\"Yes\",\"Yes\",\"No\",\"No\",\"Yes\",\"No\",\"No\",\"No\",\"No\",\"Yes\",\"No\",\"No\",\"Yes\",\"Yes\",\"No\",\"No\",\"No\",\"Yes\",\"No\",\"No\",\"Yes\",\"No\",\"No\",\"Yes\",\"No\",\"No\",\"No\",\"Yes\",\"No\",\"No\",\"No\",\"No\",\"No\",\"Yes\",\"Yes\",\"No\",\"No\",\"Yes\",\"No\",\"No\",\"Yes\",\"No\",\"Yes\",\"No\",\"Yes\",\"No\",\"Yes\",\"Yes\",\"No\",\"No\",\"No\",\"No\",\"No\",\"No\",\"No\",\"Yes\",\"Yes\",\"Yes\",\"Yes\",\"No\",\"No\",\"No\",\"No\",\"No\",\"Yes\",\"Yes\",\"Yes\",\"Yes\",\"No\",\"Yes\",\"Yes\",\"Yes\",\"No\",\"No\",\"No\",\"No\",\"No\",\"Yes\",\"No\",\"Yes\",\"Yes\",\"No\",\"Yes\",\"Yes\",\"Yes\",\"No\",\"Yes\",\"No\",\"No\",\"No\",\"No\",\"No\",\"No\",\"Yes\",\"Yes\",\"Yes\",\"Yes\",\"Yes\",\"No\",\"No\",\"No\",\"Yes\",\"No\",\"No\",\"Yes\",\"No\",\"Yes\",\"Yes\",\"No\",\"No\",\"No\",\"No\",\"Yes\",\"No\",\"No\",\"Yes\",\"Yes\",\"No\",\"No\",\"No\",\"No\",\"No\",\"No\",\"Yes\",\"Yes\",\"No\",\"Yes\",\"Yes\",\"No\",\"No\",\"No\",\"Yes\",\"No\",\"No\",\"No\",\"No\",\"No\",\"No\",\"No\",\"Yes\",\"Yes\",\"No\",\"No\",\"Yes\",\"No\",\"Yes\",\"No\",\"No\",\"No\",\"No\",\"No\",\"Yes\",\"No\",\"Yes\",\"Yes\",\"No\",\"No\",\"No\",\"Yes\",\"No\",\"No\",\"Yes\",\"No\",\"No\",\"No\",\"No\",\"Yes\",\"No\",\"No\",\"Yes\",\"No\",\"No\",\"No\",\"Yes\",\"No\",\"Yes\",\"No\",\"No\",\"No\",\"No\",\"No\",\"No\",\"Yes\",\"No\",\"Yes\",\"Yes\",\"No\",\"Yes\",\"Yes\",\"No\",\"Yes\",\"No\",\"Yes\",\"No\",\"Yes\",\"Yes\",\"No\",\"No\",\"Yes\",\"Yes\",\"Yes\",\"Yes\",\"Yes\",\"No\",\"Yes\",\"No\",\"No\",\"Yes\",\"No\",\"Yes\",\"No\",\"Yes\",\"No\",\"No\",\"Yes\",\"No\",\"No\",\"Yes\",\"Yes\",\"Yes\",\"Yes\",\"No\",\"No\",\"Yes\",\"No\",\"No\",\"No\",\"Yes\",\"Yes\",\"Yes\",\"No\",\"No\",\"Yes\",\"No\",\"No\",\"No\",\"No\",\"Yes\",\"Yes\",\"No\",\"Yes\",\"Yes\",\"No\",\"Yes\",\"No\",\"Yes\",\"No\",\"Yes\",\"No\",\"Yes\",\"No\",\"Yes\",\"No\",\"No\",\"No\",\"No\",\"Yes\",\"Yes\",\"No\",\"No\",\"Yes\",\"Yes\",\"No\",\"Yes\",\"No\",\"No\",\"No\",\"No\",\"No\",\"No\",\"No\",\"Yes\",\"No\",\"No\",\"No\",\"No\",\"Yes\",\"Yes\",\"No\",\"No\",\"No\",\"No\",\"No\",\"Yes\",\"No\",\"No\",\"No\",\"No\",\"Yes\",\"No\",\"No\",\"No\",\"Yes\",\"No\",\"No\",\"No\",\"No\",\"No\",\"Yes\",\"Yes\",\"No\",\"Yes\",\"No\",\"Yes\",\"No\",\"No\",\"No\",\"Yes\",\"No\",\"No\",\"No\",\"No\",\"Yes\",\"Yes\",\"No\",\"No\",\"No\",\"Yes\",\"No\",\"Yes\",\"Yes\",\"No\",\"No\",\"No\",\"No\",\"Yes\",\"No\",\"Yes\",\"No\",\"Yes\",\"Yes\",\"No\",\"Yes\",\"Yes\",\"No\",\"Yes\",\"No\",\"No\",\"No\",\"Yes\",\"No\",\"No\",\"No\",\"No\",\"No\",\"Yes\",\"No\",\"No\",\"Yes\",\"No\",\"Yes\",\"Yes\",\"Yes\",\"Yes\",\"No\",\"No\",\"Yes\",\"No\",\"Yes\",\"No\",\"No\",\"Yes\",\"Yes\",\"Yes\",\"Yes\",\"No\",\"No\",\"Yes\",\"Yes\",\"No\",\"No\",\"Yes\",\"Yes\",\"Yes\",\"No\",\"No\",\"No\",\"No\",\"No\",\"No\",\"Yes\",\"No\",\"Yes\",\"No\",\"No\",\"No\",\"No\",\"No\",\"Yes\",\"No\",\"No\",\"No\",\"Yes\",\"Yes\",\"Yes\",\"No\",\"Yes\",\"No\",\"Yes\",\"No\",\"Yes\",\"Yes\",\"No\",\"No\",\"No\",\"No\",\"Yes\",\"Yes\",\"No\",\"No\",\"Yes\",\"No\",\"Yes\",\"Yes\",\"Yes\",\"Yes\",\"No\",\"Yes\",\"No\",\"No\",\"No\",\"Yes\",\"No\",\"No\",\"Yes\",\"Yes\",\"Yes\",\"No\",\"No\",\"Yes\",\"No\",\"No\",\"No\",\"No\",\"No\",\"Yes\",\"No\",\"No\",\"No\",\"Yes\",\"Yes\",\"Yes\",\"Yes\",\"No\",\"Yes\",\"No\",\"Yes\",\"Yes\",\"No\",\"No\",\"No\",\"No\",\"No\",\"No\",\"Yes\",\"Yes\",\"No\",\"No\",\"No\",\"No\",\"Yes\",\"No\",\"No\",\"Yes\",\"Yes\",\"No\",\"Yes\",\"Yes\",\"No\",\"Yes\",\"Yes\",\"No\",\"No\",\"Yes\",\"Yes\",\"Yes\",\"No\",\"No\",\"Yes\",\"Yes\",\"No\",\"No\",\"Yes\",\"Yes\",\"No\",\"Yes\",\"No\",\"No\",\"No\",\"Yes\",\"Yes\",\"Yes\",\"Yes\",\"No\",\"No\",\"No\",\"No\",\"No\",\"Yes\",\"Yes\",\"Yes\",\"No\",\"Yes\",\"Yes\",\"No\",\"Yes\",\"No\",\"No\",\"No\",\"No\",\"No\",\"No\",\"Yes\",\"No\",\"Yes\",\"No\",\"Yes\",\"No\",\"Yes\",\"No\",\"No\",\"No\",\"No\",\"Yes\",\"Yes\",\"Yes\",\"No\",\"Yes\",\"No\",\"No\",\"No\",\"No\",\"Yes\",\"No\",\"No\",\"No\",\"No\",\"No\",\"Yes\",\"No\",\"Yes\",\"Yes\",\"Yes\",\"No\",\"Yes\",\"No\",\"No\",\"No\",\"No\",\"No\",\"No\",\"No\",\"No\",\"Yes\",\"Yes\",\"No\",\"No\",\"Yes\",\"Yes\",\"Yes\",\"No\",\"No\",\"No\",\"No\",\"No\",\"Yes\",\"Yes\",\"No\",\"Yes\",\"No\",\"No\",\"No\",\"Yes\",\"Yes\",\"No\",\"No\",\"No\",\"Yes\",\"Yes\",\"Yes\",\"Yes\",\"No\",\"No\",\"No\",\"No\",\"No\",\"No\",\"No\",\"No\",\"No\",\"No\",\"No\",\"Yes\",\"No\",\"No\",\"No\",\"No\",\"No\",\"No\",\"Yes\",\"Yes\",\"No\",\"No\",\"No\",\"Yes\",\"No\",\"Yes\",\"Yes\",\"Yes\",\"Yes\",\"No\",\"No\",\"No\",\"No\",\"Yes\",\"Yes\",\"No\",\"No\",\"No\",\"Yes\",\"No\",\"Yes\",\"No\",\"Yes\",\"Yes\",\"No\",\"No\",\"No\",\"No\",\"No\",\"No\",\"Yes\",\"No\",\"Yes\",\"No\",\"No\",\"Yes\",\"No\",\"Yes\",\"Yes\",\"No\",\"Yes\",\"No\",\"No\",\"Yes\",\"No\",\"No\",\"No\",\"No\",\"Yes\",\"No\",\"Yes\",\"Yes\",\"Yes\",\"No\",\"Yes\",\"No\",\"Yes\",\"Yes\",\"No\",\"Yes\",\"No\",\"No\",\"Yes\",\"Yes\",\"Yes\",\"No\",\"No\",\"No\",\"Yes\",\"No\",\"No\",\"Yes\",\"Yes\",\"No\",\"Yes\",\"Yes\",\"No\",\"Yes\",\"Yes\",\"Yes\",\"Yes\",\"No\",\"No\",\"No\",\"Yes\",\"Yes\",\"Yes\",\"No\",\"No\",\"No\",\"No\",\"No\",\"Yes\",\"Yes\",\"Yes\",\"Yes\",\"No\",\"No\",\"No\",\"Yes\",\"Yes\",\"No\",\"Yes\",\"Yes\",\"Yes\",\"No\",\"Yes\",\"No\",\"No\",\"Yes\",\"No\",\"Yes\",\"Yes\",\"No\",\"Yes\",\"Yes\",\"No\",\"No\",\"No\",\"Yes\",\"Yes\",\"No\",\"No\",\"No\",\"Yes\",\"No\",\"No\",\"Yes\",\"Yes\",\"Yes\",\"No\",\"No\",\"Yes\",\"Yes\",\"Yes\",\"No\",\"No\",\"No\",\"Yes\",\"No\",\"Yes\",\"Yes\",\"No\",\"Yes\",\"No\",\"Yes\",\"No\",\"Yes\",\"Yes\",\"No\",\"No\",\"No\",\"No\",\"No\",\"Yes\",\"Yes\",\"No\",\"No\",\"Yes\",\"Yes\",\"No\",\"No\",\"No\",\"No\",\"Yes\",\"Yes\",\"Yes\",\"Yes\",\"Yes\",\"No\",\"Yes\",\"No\",\"Yes\",\"No\",\"No\",\"No\",\"Yes\",\"Yes\",\"No\",\"No\",\"Yes\",\"No\",\"No\",\"No\",\"No\",\"Yes\",\"Yes\",\"Yes\",\"No\",\"Yes\",\"No\",\"No\",\"Yes\",\"Yes\",\"No\",\"Yes\",\"Yes\",\"No\",\"No\",\"No\",\"No\",\"No\",\"No\",\"Yes\",\"No\",\"Yes\",\"No\",\"Yes\",\"No\",\"Yes\",\"Yes\",\"Yes\",\"Yes\",\"Yes\",\"No\",\"Yes\",\"No\",\"No\",\"Yes\",\"Yes\",\"Yes\",\"Yes\",\"No\",\"No\",\"Yes\",\"Yes\",\"Yes\",\"No\",\"Yes\",\"No\",\"No\",\"No\",\"Yes\",\"Yes\",\"No\",\"No\",\"No\",\"No\",\"No\",\"Yes\",\"Yes\",\"Yes\",\"No\",\"No\",\"Yes\",\"No\",\"Yes\",\"Yes\",\"No\",\"Yes\",\"Yes\",\"Yes\",\"Yes\",\"No\",\"No\",\"Yes\",\"No\",\"Yes\",\"No\",\"No\",\"No\",\"No\",\"Yes\",\"No\",\"Yes\",\"No\",\"No\",\"No\",\"Yes\",\"No\",\"No\",\"Yes\",\"Yes\",\"Yes\",\"No\",\"Yes\",\"Yes\",\"No\",\"No\",\"Yes\",\"Yes\",\"No\",\"No\",\"No\",\"Yes\",\"No\",\"No\",\"Yes\",\"No\",\"No\",\"Yes\",\"No\",\"Yes\",\"Yes\",\"No\",\"Yes\",\"Yes\",\"No\",\"Yes\",\"Yes\",\"No\",\"No\",\"No\",\"No\",\"No\",\"Yes\",\"Yes\",\"Yes\",\"No\",\"Yes\",\"No\",\"No\",\"No\",\"No\",\"Yes\",\"No\",\"No\",\"No\",\"No\",\"No\",\"No\",\"No\",\"No\",\"Yes\",\"Yes\",\"No\",\"Yes\",\"No\",\"No\",\"No\",\"Yes\",\"No\",\"No\",\"No\",\"Yes\",\"Yes\",\"No\",\"No\",\"No\",\"Yes\",\"No\",\"Yes\",\"No\",\"Yes\",\"Yes\",\"No\",\"Yes\",\"No\",\"Yes\",\"No\",\"No\",\"Yes\",\"Yes\",\"No\",\"Yes\",\"Yes\",\"No\",\"No\",\"No\",\"No\",\"No\",\"No\",\"No\",\"Yes\",\"No\",\"Yes\",\"Yes\",\"No\",\"No\",\"No\",\"Yes\",\"Yes\",\"No\",\"Yes\",\"No\",\"No\",\"No\",\"Yes\",\"Yes\",\"Yes\",\"No\",\"Yes\",\"Yes\",\"Yes\",\"No\",\"No\",\"Yes\",\"No\",\"No\",\"Yes\",\"No\",\"No\",\"Yes\",\"Yes\",\"No\",\"No\",\"Yes\",\"No\",\"Yes\",\"No\",\"No\",\"Yes\",\"No\",\"No\",\"No\",\"No\",\"No\",\"No\",\"Yes\",\"Yes\",\"Yes\",\"Yes\",\"No\",\"Yes\",\"No\",\"No\",\"No\",\"Yes\",\"Yes\",\"Yes\",\"No\",\"No\",\"No\",\"No\",\"No\",\"No\",\"No\",\"Yes\",\"Yes\",\"No\",\"No\",\"No\",\"No\",\"Yes\",\"Yes\",\"No\",\"No\",\"Yes\",\"No\",\"Yes\",\"No\",\"No\",\"No\",\"Yes\",\"No\",\"Yes\",\"No\",\"Yes\",\"No\",\"Yes\",\"No\",\"No\",\"Yes\",\"No\",\"Yes\",\"No\",\"Yes\",\"No\",\"No\",\"No\",\"No\",\"Yes\",\"No\",\"No\",\"Yes\",\"No\",\"Yes\",\"No\",\"Yes\",\"Yes\",\"No\",\"Yes\",\"Yes\",\"No\",\"Yes\",\"No\",\"No\",\"No\",\"Yes\",\"No\",\"No\",\"Yes\",\"No\",\"No\",\"No\",\"No\",\"No\",\"No\",\"Yes\",\"Yes\",\"Yes\",\"No\",\"Yes\",\"No\",\"Yes\",\"No\",\"Yes\",\"No\",\"Yes\",\"Yes\",\"Yes\",\"Yes\",\"No\",\"No\",\"Yes\",\"No\",\"Yes\",\"No\",\"No\",\"No\",\"No\",\"No\",\"No\",\"No\",\"No\",\"Yes\",\"Yes\",\"No\",\"No\",\"Yes\",\"No\",\"No\",\"No\",\"Yes\",\"No\",\"No\",\"No\",\"Yes\",\"Yes\",\"No\",\"Yes\",\"No\",\"Yes\",\"Yes\",\"Yes\",\"No\",\"Yes\",\"No\",\"No\",\"No\",\"No\",\"Yes\",\"No\",\"Yes\",\"Yes\",\"No\",\"No\",\"Yes\",\"No\",\"Yes\",\"Yes\",\"Yes\",\"Yes\",\"No\",\"No\",\"Yes\",\"No\",\"No\",\"Yes\",\"Yes\",\"Yes\",\"No\",\"No\",\"Yes\",\"No\",\"Yes\",\"Yes\",\"Yes\",\"Yes\",\"No\",\"Yes\",\"Yes\",\"No\",\"Yes\",\"Yes\",\"No\",\"Yes\",\"No\",\"Yes\",\"No\",\"Yes\",\"Yes\",\"No\",\"No\",\"No\",\"No\",\"No\",\"Yes\",\"Yes\",\"No\",\"No\",\"Yes\",\"Yes\",\"No\",\"Yes\",\"Yes\",\"No\",\"Yes\",\"No\",\"No\",\"Yes\",\"No\",\"Yes\",\"No\",\"No\",\"Yes\",\"Yes\",\"Yes\",\"No\",\"No\",\"Yes\",\"No\",\"Yes\",\"No\",\"No\",\"Yes\",\"Yes\",\"No\",\"Yes\",\"No\",\"No\",\"No\",\"No\",\"Yes\",\"No\",\"Yes\",\"No\",\"Yes\",\"No\",\"Yes\",\"No\",\"No\",\"No\",\"Yes\",\"No\",\"No\",\"No\",\"Yes\",\"No\",\"No\",\"No\",\"Yes\",\"Yes\",\"Yes\",\"No\",\"Yes\",\"Yes\",\"Yes\",\"Yes\",\"No\",\"No\",\"Yes\",\"No\",\"Yes\",\"No\",\"No\",\"No\",\"No\",\"Yes\",\"No\",\"No\",\"Yes\",\"Yes\",\"No\",\"Yes\",\"No\",\"No\",\"Yes\",\"Yes\",\"No\",\"No\",\"No\",\"No\",\"No\",\"No\",\"No\",\"Yes\",\"No\",\"No\",\"No\",\"No\",\"Yes\",\"No\",\"Yes\",\"No\",\"No\",\"No\",\"Yes\",\"No\",\"Yes\",\"No\",\"No\",\"Yes\",\"No\",\"No\",\"Yes\",\"Yes\",\"Yes\",\"Yes\",\"No\",\"Yes\",\"Yes\",\"No\",\"Yes\",\"No\",\"No\",\"Yes\",\"Yes\",\"Yes\",\"Yes\",\"Yes\",\"No\",\"No\",\"Yes\",\"Yes\",\"No\",\"Yes\",\"Yes\",\"No\",\"Yes\",\"Yes\",\"Yes\",\"No\",\"No\",\"No\",\"Yes\",\"No\",\"Yes\",\"Yes\",\"Yes\",\"No\",\"No\",\"Yes\",\"Yes\",\"Yes\",\"Yes\",\"No\",\"Yes\",\"No\",\"No\",\"Yes\",\"Yes\",\"No\",\"No\",\"No\",\"No\",\"No\",\"No\",\"No\",\"No\",\"Yes\",\"Yes\",\"Yes\",\"No\",\"Yes\",\"Yes\",\"Yes\",\"No\",\"No\",\"No\",\"Yes\",\"Yes\",\"Yes\",\"No\",\"Yes\",\"No\",\"No\",\"Yes\",\"No\",\"No\",\"Yes\",\"Yes\",\"Yes\",\"Yes\",\"Yes\",\"No\",\"No\",\"Yes\",\"Yes\",\"Yes\",\"Yes\",\"No\",\"No\",\"No\",\"No\",\"No\",\"No\",\"No\",\"No\",\"Yes\",\"Yes\",\"Yes\",\"No\",\"No\",\"No\",\"Yes\",\"No\",\"No\",\"No\",\"No\",\"No\",\"No\",\"Yes\",\"No\",\"Yes\",\"No\",\"No\",\"No\",\"No\",\"Yes\",\"No\",\"No\",\"Yes\",\"No\",\"No\",\"No\",\"No\",\"No\",\"Yes\",\"Yes\",\"Yes\",\"No\",\"Yes\",\"No\",\"No\",\"No\",\"Yes\",\"No\",\"No\",\"Yes\",\"Yes\",\"No\",\"Yes\",\"Yes\",\"Yes\",\"No\",\"No\",\"No\",\"Yes\",\"No\",\"Yes\",\"Yes\",\"No\",\"No\",\"No\",\"Yes\",\"No\",\"No\",\"No\",\"No\",\"Yes\",\"No\",\"No\",\"Yes\",\"No\",\"No\",\"Yes\",\"Yes\",\"No\",\"Yes\",\"No\",\"No\",\"No\",\"No\",\"Yes\",\"Yes\",\"Yes\",\"No\",\"No\",\"Yes\",\"Yes\",\"No\",\"Yes\",\"Yes\",\"No\",\"Yes\",\"No\",\"No\",\"No\",\"Yes\",\"No\",\"Yes\",\"No\",\"Yes\",\"Yes\",\"No\",\"No\",\"Yes\",\"No\",\"No\",\"Yes\",\"No\",\"No\",\"No\",\"No\",\"Yes\",\"No\",\"No\",\"Yes\",\"Yes\",\"Yes\",\"Yes\",\"Yes\",\"Yes\",\"Yes\",\"No\",\"No\",\"No\",\"Yes\",\"Yes\",\"No\",\"No\",\"No\",\"Yes\",\"Yes\",\"Yes\",\"No\",\"No\",\"No\",\"Yes\",\"Yes\",\"Yes\",\"No\",\"Yes\",\"No\",\"No\",\"Yes\",\"Yes\",\"No\",\"No\",\"Yes\",\"No\",\"No\",\"No\",\"Yes\",\"Yes\",\"No\",\"No\",\"Yes\",\"No\",\"Yes\",\"Yes\",\"No\",\"Yes\",\"No\",\"No\",\"No\",\"Yes\",\"Yes\",\"No\",\"No\",\"No\",\"No\",\"Yes\",\"Yes\",\"No\",\"No\",\"Yes\",\"Yes\",\"Yes\",\"Yes\",\"Yes\",\"No\",\"No\",\"Yes\",\"No\",\"No\",\"No\",\"Yes\",\"No\",\"No\",\"Yes\",\"Yes\",\"No\",\"No\",\"Yes\",\"Yes\",\"No\",\"No\",\"Yes\",\"Yes\",\"Yes\",\"Yes\",\"Yes\",\"No\",\"No\",\"No\",\"No\",\"Yes\",\"No\",\"No\",\"No\",\"No\",\"Yes\",\"No\",\"No\",\"No\",\"Yes\",\"No\",\"Yes\",\"No\",\"No\",\"Yes\"],\"xaxis\":\"x\",\"yaxis\":\"y\",\"type\":\"histogram\"},{\"alignmentgroup\":\"True\",\"bingroup\":\"x\",\"hovertemplate\":\"Contract=One year\\u003cbr\\u003eChurn=%{x}\\u003cbr\\u003ecount=%{y}\\u003cextra\\u003e\\u003c\\u002fextra\\u003e\",\"legendgroup\":\"One year\",\"marker\":{\"color\":\"#EF553B\",\"pattern\":{\"shape\":\"\"}},\"name\":\"One year\",\"offsetgroup\":\"One year\",\"orientation\":\"v\",\"showlegend\":true,\"x\":[\"No\",\"No\",\"No\",\"No\",\"No\",\"No\",\"No\",\"No\",\"No\",\"No\",\"No\",\"No\",\"No\",\"No\",\"No\",\"No\",\"No\",\"No\",\"No\",\"No\",\"No\",\"No\",\"No\",\"No\",\"No\",\"No\",\"No\",\"No\",\"No\",\"No\",\"No\",\"No\",\"No\",\"No\",\"No\",\"Yes\",\"No\",\"No\",\"No\",\"No\",\"No\",\"No\",\"No\",\"No\",\"No\",\"No\",\"No\",\"No\",\"No\",\"No\",\"No\",\"No\",\"No\",\"No\",\"No\",\"No\",\"No\",\"No\",\"No\",\"No\",\"No\",\"No\",\"Yes\",\"Yes\",\"No\",\"No\",\"No\",\"Yes\",\"No\",\"No\",\"No\",\"No\",\"No\",\"No\",\"No\",\"No\",\"No\",\"No\",\"No\",\"No\",\"No\",\"No\",\"No\",\"No\",\"No\",\"No\",\"No\",\"No\",\"No\",\"No\",\"No\",\"No\",\"No\",\"No\",\"No\",\"No\",\"No\",\"No\",\"No\",\"Yes\",\"No\",\"No\",\"No\",\"No\",\"No\",\"No\",\"No\",\"No\",\"No\",\"No\",\"No\",\"No\",\"No\",\"No\",\"No\",\"No\",\"No\",\"No\",\"No\",\"Yes\",\"No\",\"No\",\"No\",\"No\",\"No\",\"No\",\"No\",\"No\",\"No\",\"No\",\"No\",\"No\",\"No\",\"No\",\"No\",\"Yes\",\"No\",\"No\",\"No\",\"Yes\",\"No\",\"No\",\"No\",\"No\",\"No\",\"No\",\"No\",\"No\",\"No\",\"No\",\"No\",\"No\",\"No\",\"No\",\"No\",\"Yes\",\"No\",\"No\",\"Yes\",\"No\",\"No\",\"No\",\"Yes\",\"Yes\",\"No\",\"No\",\"No\",\"Yes\",\"Yes\",\"No\",\"No\",\"Yes\",\"Yes\",\"No\",\"No\",\"Yes\",\"No\",\"No\",\"Yes\",\"No\",\"No\",\"No\",\"No\",\"No\",\"No\",\"No\",\"No\",\"No\",\"No\",\"No\",\"No\",\"No\",\"No\",\"No\",\"No\",\"No\",\"No\",\"No\",\"No\",\"No\",\"Yes\",\"No\",\"No\",\"No\",\"No\",\"No\",\"Yes\",\"No\",\"No\",\"No\",\"No\",\"No\",\"No\",\"No\",\"No\",\"No\",\"No\",\"No\",\"No\",\"No\",\"No\",\"No\",\"No\",\"No\",\"No\",\"Yes\",\"No\",\"No\",\"No\",\"No\",\"No\",\"Yes\",\"No\",\"No\",\"No\",\"No\",\"No\",\"No\",\"No\",\"No\",\"No\",\"No\",\"No\",\"Yes\",\"No\",\"No\",\"No\",\"No\",\"No\",\"No\",\"Yes\",\"No\",\"No\",\"No\",\"No\",\"No\",\"No\",\"No\",\"No\",\"Yes\",\"No\",\"Yes\",\"No\",\"No\",\"No\",\"No\",\"No\",\"No\",\"No\",\"Yes\",\"No\",\"No\",\"No\",\"Yes\",\"No\",\"No\",\"No\",\"Yes\",\"No\",\"No\",\"No\",\"No\",\"No\",\"No\",\"Yes\",\"No\",\"No\",\"No\",\"No\",\"Yes\",\"Yes\",\"No\",\"No\",\"No\",\"No\",\"No\",\"No\",\"No\",\"No\",\"No\",\"No\",\"No\",\"No\",\"No\",\"No\",\"No\",\"Yes\",\"No\",\"No\",\"No\",\"No\",\"No\",\"No\",\"Yes\",\"No\",\"No\",\"No\",\"No\",\"No\",\"Yes\",\"Yes\",\"No\",\"No\",\"No\",\"No\",\"Yes\",\"No\",\"No\",\"No\",\"No\",\"No\",\"No\",\"No\",\"No\",\"Yes\",\"No\",\"No\",\"Yes\",\"Yes\",\"No\",\"No\",\"No\",\"No\",\"No\",\"No\",\"No\",\"No\",\"No\",\"No\",\"No\",\"No\",\"No\",\"No\",\"Yes\",\"No\",\"No\",\"No\",\"No\",\"No\",\"No\",\"No\",\"No\",\"No\",\"No\",\"No\",\"No\",\"No\",\"No\",\"No\",\"Yes\",\"No\",\"No\",\"No\",\"No\",\"No\",\"No\",\"No\",\"No\",\"No\",\"No\",\"No\",\"No\",\"No\",\"No\",\"No\",\"No\",\"No\",\"No\",\"No\",\"No\",\"No\",\"No\",\"No\",\"No\",\"No\",\"No\",\"No\",\"No\",\"No\",\"No\",\"No\",\"No\",\"No\",\"No\",\"Yes\",\"No\",\"No\",\"No\",\"Yes\",\"No\",\"No\",\"Yes\",\"No\",\"Yes\",\"No\",\"No\",\"No\",\"No\",\"Yes\",\"No\",\"No\",\"No\",\"No\",\"No\",\"No\",\"No\",\"No\",\"No\",\"No\",\"Yes\",\"No\",\"No\",\"No\",\"No\",\"No\",\"Yes\",\"Yes\",\"No\",\"No\",\"No\",\"No\",\"No\",\"No\",\"No\",\"No\",\"No\",\"No\",\"No\",\"No\",\"No\",\"No\",\"No\",\"No\",\"No\",\"Yes\",\"No\",\"No\",\"No\",\"No\",\"No\",\"No\",\"No\",\"No\",\"Yes\",\"No\",\"No\",\"No\",\"No\",\"No\",\"No\",\"No\",\"Yes\",\"Yes\",\"No\",\"No\",\"No\",\"No\",\"No\",\"No\",\"No\",\"No\",\"No\",\"No\",\"Yes\",\"No\",\"No\",\"No\",\"No\",\"No\",\"No\",\"No\",\"No\",\"No\",\"No\",\"Yes\",\"No\",\"No\",\"No\",\"No\",\"No\",\"No\",\"Yes\",\"No\",\"No\",\"No\",\"No\",\"No\",\"No\",\"No\",\"No\",\"Yes\",\"No\",\"No\",\"No\",\"No\",\"No\",\"No\",\"No\",\"No\",\"No\",\"No\",\"No\",\"No\",\"No\",\"No\",\"No\",\"Yes\",\"No\",\"No\",\"Yes\",\"No\",\"No\",\"No\",\"No\",\"No\",\"Yes\",\"No\",\"No\",\"No\",\"No\",\"Yes\",\"No\",\"No\",\"No\",\"No\",\"Yes\",\"No\",\"No\",\"No\",\"No\",\"No\",\"No\",\"No\",\"No\",\"No\",\"No\",\"No\",\"No\",\"No\",\"No\",\"Yes\",\"No\",\"No\",\"No\",\"No\",\"No\",\"No\",\"No\",\"No\",\"No\",\"No\",\"No\",\"Yes\",\"No\",\"Yes\",\"No\",\"No\",\"No\",\"No\",\"Yes\",\"No\",\"No\",\"Yes\",\"No\",\"No\",\"No\",\"No\",\"No\",\"No\",\"No\",\"No\",\"No\",\"No\",\"No\",\"No\",\"Yes\",\"No\",\"No\",\"No\",\"No\",\"No\",\"No\",\"No\",\"No\",\"No\",\"No\",\"No\",\"No\",\"No\",\"No\",\"No\",\"No\",\"No\",\"No\",\"No\",\"No\",\"No\",\"No\",\"Yes\",\"No\",\"No\",\"No\",\"No\",\"No\",\"No\",\"No\",\"Yes\",\"No\",\"No\",\"No\",\"No\",\"No\",\"No\",\"No\",\"No\",\"No\",\"No\",\"No\",\"No\",\"No\",\"No\",\"No\",\"No\",\"No\",\"No\",\"No\",\"No\",\"No\",\"No\",\"No\",\"No\",\"No\",\"No\",\"No\",\"No\",\"No\",\"No\",\"Yes\",\"No\",\"No\",\"No\",\"No\",\"No\",\"No\",\"No\",\"No\",\"No\",\"No\",\"No\",\"Yes\",\"No\",\"No\",\"No\",\"No\",\"No\",\"No\",\"No\",\"No\",\"No\",\"No\",\"No\",\"Yes\",\"No\",\"No\",\"Yes\",\"No\",\"No\",\"No\",\"No\",\"No\",\"Yes\",\"No\",\"No\",\"No\",\"No\",\"No\",\"No\",\"No\",\"No\",\"No\",\"No\",\"No\",\"No\",\"No\",\"No\",\"No\",\"No\",\"No\",\"Yes\",\"No\",\"No\",\"No\",\"No\",\"No\",\"No\",\"No\",\"No\",\"No\",\"No\",\"No\",\"No\",\"No\",\"No\",\"No\",\"No\",\"No\",\"No\",\"No\",\"No\",\"No\",\"No\",\"No\",\"No\",\"No\",\"No\",\"No\",\"No\",\"Yes\",\"No\",\"No\",\"No\",\"No\",\"Yes\",\"No\",\"No\",\"No\",\"No\",\"No\",\"No\",\"No\",\"No\",\"No\",\"Yes\",\"No\",\"No\",\"No\",\"No\",\"No\",\"No\",\"No\",\"No\",\"No\",\"No\",\"No\",\"No\",\"No\",\"No\",\"No\",\"No\",\"No\",\"Yes\",\"No\",\"No\",\"Yes\",\"No\",\"No\",\"No\",\"No\",\"No\",\"No\",\"No\",\"No\",\"No\",\"No\",\"No\",\"No\",\"No\",\"No\",\"No\",\"No\",\"No\",\"No\",\"No\",\"No\",\"Yes\",\"No\",\"No\",\"No\",\"No\",\"No\",\"Yes\",\"No\",\"Yes\",\"No\",\"No\",\"Yes\",\"Yes\",\"No\",\"No\",\"No\",\"No\",\"Yes\",\"Yes\",\"No\",\"No\",\"No\",\"Yes\",\"No\",\"No\",\"No\",\"No\",\"No\",\"No\",\"Yes\",\"No\",\"No\",\"No\",\"No\",\"No\",\"No\",\"No\",\"No\",\"No\",\"No\",\"No\",\"No\",\"No\",\"Yes\",\"No\",\"No\",\"No\",\"No\",\"No\",\"No\",\"No\",\"No\",\"No\",\"No\",\"Yes\",\"Yes\",\"No\",\"No\",\"No\",\"No\",\"No\",\"No\",\"No\",\"No\",\"No\",\"No\",\"Yes\",\"No\",\"No\",\"No\",\"No\",\"No\",\"No\",\"No\",\"No\",\"No\",\"No\",\"Yes\",\"No\",\"No\",\"No\",\"No\",\"No\",\"No\",\"No\",\"No\",\"No\",\"No\",\"No\",\"No\",\"No\",\"Yes\",\"Yes\",\"No\",\"No\",\"Yes\",\"No\",\"No\",\"No\",\"No\",\"No\",\"Yes\",\"No\",\"No\",\"No\",\"No\",\"No\",\"No\",\"No\",\"No\",\"No\",\"Yes\",\"No\",\"No\",\"No\",\"No\",\"No\",\"No\",\"No\",\"No\",\"No\",\"No\",\"No\",\"No\",\"No\",\"No\",\"No\",\"Yes\",\"No\",\"No\",\"No\",\"No\",\"No\",\"No\",\"No\",\"No\",\"No\",\"No\",\"No\",\"No\",\"No\",\"No\",\"No\",\"No\",\"No\",\"No\",\"No\",\"No\",\"No\",\"No\",\"No\",\"No\",\"No\",\"No\",\"No\",\"No\",\"No\",\"Yes\",\"No\",\"No\",\"No\",\"No\",\"No\",\"No\",\"No\",\"Yes\",\"Yes\",\"No\",\"No\",\"No\",\"No\",\"No\",\"No\",\"No\",\"No\",\"No\",\"No\",\"No\",\"No\",\"Yes\",\"No\",\"No\",\"No\",\"No\",\"No\",\"No\",\"No\",\"No\",\"No\",\"No\",\"Yes\",\"No\",\"No\",\"Yes\",\"No\",\"Yes\",\"No\",\"No\",\"No\",\"Yes\",\"No\",\"No\",\"No\",\"No\",\"No\",\"No\",\"No\",\"No\",\"No\",\"No\",\"No\",\"No\",\"No\",\"No\",\"No\",\"No\",\"No\",\"No\",\"No\",\"No\",\"No\",\"No\",\"No\",\"No\",\"Yes\",\"No\",\"No\",\"No\",\"No\",\"No\",\"No\",\"No\",\"No\",\"Yes\",\"No\",\"Yes\",\"No\",\"Yes\",\"No\",\"No\",\"No\",\"No\",\"No\",\"No\",\"No\",\"No\",\"No\",\"No\",\"No\",\"No\",\"Yes\",\"No\",\"No\",\"Yes\",\"No\",\"No\",\"No\",\"Yes\",\"No\",\"No\",\"No\",\"Yes\",\"Yes\",\"No\",\"Yes\",\"No\",\"No\",\"No\",\"No\",\"No\",\"No\",\"No\",\"No\",\"No\",\"No\",\"No\",\"No\",\"No\",\"No\",\"No\",\"No\",\"Yes\",\"Yes\",\"No\",\"No\",\"No\",\"No\",\"No\",\"Yes\",\"No\",\"No\",\"No\",\"No\",\"No\",\"No\",\"No\",\"Yes\",\"No\",\"No\",\"No\",\"No\",\"No\",\"No\",\"No\",\"No\",\"No\",\"No\",\"No\",\"No\",\"No\",\"No\",\"No\",\"No\",\"No\",\"No\",\"No\",\"No\",\"No\",\"No\",\"No\",\"Yes\",\"No\",\"No\",\"Yes\",\"No\",\"No\",\"No\",\"No\",\"No\",\"No\",\"No\",\"No\",\"No\",\"Yes\",\"No\",\"No\",\"No\",\"No\",\"No\",\"No\",\"No\",\"No\",\"No\",\"No\",\"No\",\"Yes\",\"No\",\"No\",\"Yes\",\"No\",\"Yes\",\"No\",\"No\",\"No\",\"No\",\"No\",\"No\",\"No\",\"No\",\"No\",\"No\",\"No\",\"No\",\"No\",\"No\",\"No\",\"No\",\"No\",\"No\",\"No\",\"No\",\"No\",\"No\",\"No\",\"No\",\"No\",\"No\",\"No\",\"No\",\"No\",\"No\",\"No\",\"No\",\"No\",\"No\",\"No\",\"No\",\"No\",\"No\",\"No\",\"No\",\"No\",\"Yes\",\"No\",\"No\",\"No\",\"Yes\",\"No\",\"No\",\"No\",\"No\",\"No\",\"No\",\"Yes\",\"No\",\"No\",\"No\",\"Yes\",\"No\",\"No\",\"No\",\"No\",\"No\",\"No\",\"No\",\"Yes\",\"No\",\"No\",\"No\",\"No\",\"No\",\"No\",\"Yes\",\"No\",\"No\",\"Yes\",\"No\",\"Yes\",\"No\",\"No\",\"No\",\"No\",\"No\",\"No\",\"No\",\"Yes\",\"No\",\"No\",\"No\",\"Yes\",\"No\",\"No\",\"No\",\"Yes\",\"No\",\"No\",\"No\",\"No\",\"No\",\"No\",\"No\",\"Yes\",\"No\",\"No\",\"No\",\"Yes\",\"No\",\"No\",\"No\",\"No\",\"No\",\"No\",\"No\",\"No\",\"No\",\"No\",\"No\",\"No\",\"No\",\"No\",\"Yes\",\"No\",\"No\",\"No\",\"No\",\"No\",\"No\",\"No\",\"No\",\"No\",\"No\",\"No\",\"No\",\"No\",\"No\",\"No\",\"No\",\"Yes\",\"No\",\"No\",\"Yes\",\"No\",\"No\",\"No\",\"No\",\"No\",\"No\",\"No\",\"No\",\"No\",\"No\",\"No\",\"No\",\"No\",\"No\",\"No\",\"No\",\"No\",\"No\",\"No\",\"No\",\"No\",\"No\",\"No\",\"No\",\"No\",\"No\",\"No\",\"No\",\"Yes\",\"No\",\"No\",\"No\",\"No\",\"Yes\",\"No\",\"No\",\"No\",\"No\",\"Yes\",\"No\",\"No\",\"No\",\"No\",\"No\",\"Yes\",\"No\",\"No\",\"No\",\"No\",\"No\",\"No\",\"No\",\"No\",\"No\",\"No\",\"No\",\"No\",\"No\",\"Yes\",\"No\",\"No\",\"Yes\",\"No\",\"No\",\"No\",\"No\",\"No\",\"No\",\"No\",\"No\",\"No\",\"No\",\"No\",\"No\",\"No\",\"No\",\"No\",\"Yes\",\"No\",\"No\",\"No\",\"Yes\",\"Yes\",\"No\",\"No\",\"No\",\"No\",\"No\",\"No\",\"No\",\"No\",\"No\",\"No\",\"No\",\"No\",\"No\",\"No\",\"No\",\"Yes\",\"Yes\",\"No\",\"No\",\"No\",\"No\",\"No\",\"No\",\"No\",\"No\",\"No\",\"No\",\"No\",\"No\",\"No\",\"No\",\"No\",\"No\",\"No\",\"No\",\"No\",\"No\",\"No\",\"No\",\"No\",\"No\",\"No\",\"No\",\"No\",\"No\",\"No\",\"No\",\"No\",\"No\",\"Yes\",\"No\",\"No\",\"No\",\"Yes\",\"Yes\",\"Yes\",\"No\",\"No\",\"No\",\"No\",\"No\",\"No\",\"No\",\"Yes\",\"No\",\"No\",\"No\",\"No\",\"No\",\"No\",\"No\",\"No\",\"No\",\"No\",\"No\",\"Yes\",\"No\",\"No\",\"No\",\"No\",\"No\",\"No\",\"No\",\"No\",\"No\",\"No\",\"No\",\"No\",\"Yes\",\"No\",\"No\",\"No\",\"No\",\"No\",\"No\",\"No\",\"Yes\",\"No\",\"No\",\"Yes\",\"No\",\"No\",\"No\",\"No\",\"No\"],\"xaxis\":\"x\",\"yaxis\":\"y\",\"type\":\"histogram\"},{\"alignmentgroup\":\"True\",\"bingroup\":\"x\",\"hovertemplate\":\"Contract=Two year\\u003cbr\\u003eChurn=%{x}\\u003cbr\\u003ecount=%{y}\\u003cextra\\u003e\\u003c\\u002fextra\\u003e\",\"legendgroup\":\"Two year\",\"marker\":{\"color\":\"#00cc96\",\"pattern\":{\"shape\":\"\"}},\"name\":\"Two year\",\"offsetgroup\":\"Two year\",\"orientation\":\"v\",\"showlegend\":true,\"x\":[\"No\",\"No\",\"No\",\"No\",\"No\",\"No\",\"No\",\"No\",\"No\",\"No\",\"No\",\"No\",\"No\",\"No\",\"No\",\"No\",\"No\",\"No\",\"No\",\"No\",\"No\",\"No\",\"No\",\"No\",\"Yes\",\"No\",\"No\",\"No\",\"No\",\"No\",\"No\",\"No\",\"No\",\"No\",\"No\",\"No\",\"No\",\"No\",\"No\",\"No\",\"No\",\"No\",\"No\",\"No\",\"No\",\"No\",\"No\",\"No\",\"No\",\"No\",\"No\",\"No\",\"No\",\"No\",\"No\",\"No\",\"No\",\"No\",\"No\",\"No\",\"No\",\"No\",\"No\",\"No\",\"No\",\"No\",\"No\",\"No\",\"No\",\"No\",\"Yes\",\"No\",\"No\",\"No\",\"No\",\"No\",\"No\",\"No\",\"No\",\"No\",\"No\",\"No\",\"Yes\",\"No\",\"No\",\"No\",\"No\",\"No\",\"No\",\"No\",\"No\",\"No\",\"No\",\"No\",\"No\",\"No\",\"No\",\"No\",\"No\",\"No\",\"No\",\"No\",\"No\",\"No\",\"No\",\"No\",\"No\",\"No\",\"No\",\"No\",\"No\",\"No\",\"No\",\"No\",\"No\",\"No\",\"No\",\"No\",\"No\",\"No\",\"No\",\"No\",\"No\",\"No\",\"No\",\"No\",\"No\",\"No\",\"No\",\"No\",\"No\",\"No\",\"No\",\"No\",\"No\",\"No\",\"No\",\"No\",\"No\",\"No\",\"No\",\"No\",\"No\",\"No\",\"No\",\"No\",\"No\",\"No\",\"No\",\"No\",\"No\",\"No\",\"No\",\"No\",\"No\",\"No\",\"No\",\"No\",\"No\",\"No\",\"No\",\"No\",\"No\",\"No\",\"No\",\"No\",\"No\",\"No\",\"No\",\"No\",\"No\",\"No\",\"No\",\"No\",\"No\",\"No\",\"No\",\"No\",\"No\",\"No\",\"No\",\"No\",\"No\",\"No\",\"No\",\"No\",\"No\",\"No\",\"No\",\"No\",\"No\",\"No\",\"No\",\"No\",\"No\",\"No\",\"No\",\"No\",\"No\",\"Yes\",\"No\",\"No\",\"No\",\"No\",\"No\",\"No\",\"No\",\"No\",\"No\",\"No\",\"No\",\"No\",\"No\",\"No\",\"No\",\"No\",\"No\",\"No\",\"No\",\"No\",\"No\",\"No\",\"No\",\"No\",\"No\",\"No\",\"No\",\"No\",\"No\",\"No\",\"No\",\"No\",\"No\",\"No\",\"No\",\"No\",\"No\",\"No\",\"Yes\",\"No\",\"No\",\"No\",\"No\",\"No\",\"No\",\"No\",\"No\",\"No\",\"No\",\"No\",\"No\",\"No\",\"No\",\"No\",\"No\",\"No\",\"No\",\"No\",\"No\",\"No\",\"No\",\"No\",\"No\",\"No\",\"No\",\"No\",\"No\",\"No\",\"No\",\"No\",\"No\",\"No\",\"No\",\"No\",\"No\",\"No\",\"No\",\"No\",\"No\",\"No\",\"No\",\"No\",\"No\",\"No\",\"No\",\"No\",\"No\",\"No\",\"No\",\"No\",\"No\",\"No\",\"No\",\"No\",\"No\",\"No\",\"No\",\"No\",\"No\",\"No\",\"No\",\"No\",\"No\",\"No\",\"No\",\"No\",\"No\",\"No\",\"No\",\"No\",\"No\",\"No\",\"No\",\"No\",\"No\",\"No\",\"No\",\"No\",\"No\",\"No\",\"No\",\"No\",\"No\",\"No\",\"No\",\"No\",\"No\",\"No\",\"No\",\"No\",\"No\",\"No\",\"No\",\"No\",\"No\",\"No\",\"No\",\"No\",\"No\",\"No\",\"No\",\"No\",\"No\",\"No\",\"No\",\"No\",\"No\",\"No\",\"No\",\"No\",\"No\",\"No\",\"No\",\"No\",\"No\",\"No\",\"No\",\"No\",\"No\",\"No\",\"No\",\"No\",\"No\",\"No\",\"No\",\"No\",\"No\",\"No\",\"No\",\"No\",\"No\",\"No\",\"No\",\"No\",\"No\",\"No\",\"No\",\"No\",\"No\",\"No\",\"No\",\"No\",\"No\",\"No\",\"No\",\"No\",\"No\",\"No\",\"No\",\"No\",\"No\",\"No\",\"No\",\"No\",\"No\",\"No\",\"No\",\"No\",\"No\",\"No\",\"No\",\"No\",\"No\",\"No\",\"No\",\"No\",\"No\",\"No\",\"No\",\"No\",\"No\",\"No\",\"No\",\"No\",\"No\",\"No\",\"No\",\"No\",\"No\",\"No\",\"No\",\"No\",\"No\",\"No\",\"No\",\"No\",\"No\",\"No\",\"No\",\"No\",\"No\",\"No\",\"No\",\"No\",\"No\",\"No\",\"No\",\"No\",\"No\",\"No\",\"No\",\"No\",\"No\",\"No\",\"No\",\"No\",\"No\",\"Yes\",\"No\",\"No\",\"No\",\"No\",\"No\",\"No\",\"No\",\"No\",\"No\",\"No\",\"No\",\"No\",\"No\",\"No\",\"No\",\"No\",\"No\",\"No\",\"No\",\"No\",\"No\",\"No\",\"No\",\"No\",\"No\",\"No\",\"No\",\"No\",\"No\",\"No\",\"No\",\"No\",\"No\",\"No\",\"No\",\"No\",\"Yes\",\"No\",\"No\",\"No\",\"No\",\"No\",\"No\",\"No\",\"No\",\"No\",\"No\",\"No\",\"No\",\"No\",\"No\",\"No\",\"No\",\"No\",\"No\",\"No\",\"No\",\"No\",\"No\",\"No\",\"No\",\"No\",\"No\",\"No\",\"No\",\"No\",\"No\",\"No\",\"No\",\"No\",\"No\",\"No\",\"No\",\"No\",\"No\",\"No\",\"No\",\"No\",\"No\",\"No\",\"No\",\"No\",\"No\",\"No\",\"No\",\"No\",\"No\",\"No\",\"No\",\"No\",\"No\",\"No\",\"No\",\"No\",\"No\",\"No\",\"No\",\"No\",\"No\",\"No\",\"No\",\"No\",\"No\",\"No\",\"No\",\"No\",\"No\",\"No\",\"Yes\",\"No\",\"No\",\"No\",\"No\",\"No\",\"No\",\"No\",\"No\",\"No\",\"No\",\"No\",\"No\",\"No\",\"No\",\"No\",\"No\",\"No\",\"No\",\"No\",\"No\",\"No\",\"No\",\"No\",\"No\",\"No\",\"No\",\"No\",\"No\",\"No\",\"No\",\"Yes\",\"No\",\"No\",\"No\",\"No\",\"No\",\"No\",\"No\",\"No\",\"No\",\"No\",\"No\",\"No\",\"No\",\"No\",\"No\",\"No\",\"No\",\"No\",\"No\",\"No\",\"No\",\"No\",\"No\",\"No\",\"No\",\"No\",\"No\",\"No\",\"No\",\"No\",\"No\",\"No\",\"No\",\"No\",\"No\",\"No\",\"No\",\"No\",\"No\",\"No\",\"No\",\"No\",\"No\",\"No\",\"No\",\"No\",\"No\",\"No\",\"No\",\"No\",\"No\",\"No\",\"No\",\"No\",\"No\",\"No\",\"No\",\"No\",\"No\",\"No\",\"No\",\"No\",\"No\",\"No\",\"No\",\"No\",\"No\",\"No\",\"No\",\"No\",\"No\",\"No\",\"No\",\"No\",\"No\",\"No\",\"No\",\"No\",\"No\",\"No\",\"No\",\"No\",\"No\",\"No\",\"No\",\"No\",\"No\",\"No\",\"No\",\"No\",\"No\",\"No\",\"No\",\"No\",\"No\",\"No\",\"No\",\"Yes\",\"No\",\"No\",\"No\",\"No\",\"No\",\"No\",\"No\",\"No\",\"No\",\"No\",\"No\",\"No\",\"No\",\"No\",\"No\",\"No\",\"No\",\"No\",\"No\",\"No\",\"No\",\"No\",\"No\",\"No\",\"No\",\"No\",\"No\",\"No\",\"No\",\"No\",\"No\",\"No\",\"No\",\"No\",\"No\",\"No\",\"No\",\"No\",\"No\",\"No\",\"No\",\"No\",\"No\",\"No\",\"No\",\"No\",\"No\",\"No\",\"No\",\"No\",\"No\",\"No\",\"No\",\"No\",\"No\",\"No\",\"No\",\"No\",\"No\",\"No\",\"No\",\"No\",\"No\",\"No\",\"No\",\"No\",\"No\",\"No\",\"No\",\"Yes\",\"No\",\"No\",\"No\",\"No\",\"No\",\"No\",\"No\",\"No\",\"No\",\"No\",\"No\",\"No\",\"No\",\"Yes\",\"No\",\"No\",\"No\",\"No\",\"No\",\"No\",\"No\",\"No\",\"No\",\"No\",\"No\",\"No\",\"No\",\"No\",\"No\",\"No\",\"No\",\"No\",\"No\",\"No\",\"No\",\"No\",\"No\",\"No\",\"No\",\"No\",\"No\",\"No\",\"No\",\"No\",\"No\",\"No\",\"No\",\"No\",\"No\",\"No\",\"No\",\"No\",\"No\",\"No\",\"No\",\"No\",\"No\",\"No\",\"No\",\"No\",\"No\",\"No\",\"No\",\"No\",\"No\",\"No\",\"No\",\"No\",\"No\",\"No\",\"No\",\"No\",\"No\",\"No\",\"No\",\"No\",\"No\",\"No\",\"No\",\"No\",\"No\",\"No\",\"Yes\",\"No\",\"No\",\"No\",\"No\",\"No\",\"No\",\"No\",\"No\",\"No\",\"No\",\"No\",\"No\",\"No\",\"No\",\"No\",\"No\",\"No\",\"No\",\"No\",\"No\",\"No\",\"No\",\"No\",\"No\",\"No\",\"No\",\"No\",\"No\",\"No\",\"No\",\"No\",\"No\",\"No\",\"No\",\"No\",\"No\",\"No\",\"No\",\"No\",\"No\",\"No\",\"No\",\"No\",\"Yes\",\"No\",\"No\",\"No\",\"No\",\"No\",\"No\",\"No\",\"No\",\"No\",\"No\",\"No\",\"No\",\"No\",\"No\",\"No\",\"No\",\"No\",\"Yes\",\"No\",\"Yes\",\"No\",\"Yes\",\"No\",\"No\",\"No\",\"No\",\"No\",\"No\",\"No\",\"No\",\"No\",\"No\",\"Yes\",\"No\",\"No\",\"No\",\"No\",\"No\",\"No\",\"No\",\"No\",\"No\",\"No\",\"No\",\"No\",\"No\",\"No\",\"No\",\"No\",\"No\",\"No\",\"No\",\"No\",\"No\",\"No\",\"No\",\"No\",\"No\",\"No\",\"Yes\",\"No\",\"No\",\"No\",\"No\",\"No\",\"No\",\"No\",\"No\",\"No\",\"No\",\"No\",\"No\",\"No\",\"No\",\"No\",\"No\",\"No\",\"No\",\"No\",\"No\",\"No\",\"No\",\"No\",\"No\",\"No\",\"No\",\"No\",\"No\",\"No\",\"No\",\"No\",\"No\",\"No\",\"No\",\"No\",\"No\",\"No\",\"No\",\"No\",\"No\",\"No\",\"No\",\"No\",\"No\",\"No\",\"No\",\"No\",\"No\",\"Yes\",\"No\",\"No\",\"No\",\"No\",\"No\",\"No\",\"No\",\"No\",\"No\",\"No\",\"No\",\"No\",\"No\",\"No\",\"No\",\"No\",\"No\",\"No\",\"No\",\"No\",\"No\",\"No\",\"No\",\"No\",\"No\",\"No\",\"No\",\"No\",\"No\",\"No\",\"No\",\"No\",\"No\",\"Yes\",\"No\",\"No\",\"No\",\"No\",\"No\",\"No\",\"No\",\"No\",\"No\",\"No\",\"No\",\"No\",\"No\",\"No\",\"No\",\"No\",\"No\",\"No\",\"No\",\"No\",\"No\",\"No\",\"No\",\"Yes\",\"No\",\"No\",\"No\",\"No\",\"No\",\"No\",\"No\",\"No\",\"No\",\"No\",\"No\",\"No\",\"No\",\"No\",\"No\",\"No\",\"No\",\"No\",\"No\",\"No\",\"No\",\"No\",\"No\",\"No\",\"No\",\"No\",\"No\",\"No\",\"No\",\"No\",\"Yes\",\"No\",\"Yes\",\"No\",\"No\",\"Yes\",\"No\",\"No\",\"No\",\"No\",\"No\",\"No\",\"No\",\"No\",\"No\",\"No\",\"No\",\"No\",\"No\",\"No\",\"No\",\"No\",\"No\",\"No\",\"No\",\"No\",\"No\",\"No\",\"No\",\"No\",\"No\",\"Yes\",\"No\",\"No\",\"No\",\"No\",\"No\",\"No\",\"No\",\"No\",\"No\",\"No\",\"Yes\",\"No\",\"No\",\"No\",\"No\",\"No\",\"No\",\"No\",\"No\",\"No\",\"No\",\"No\",\"No\",\"No\",\"No\",\"No\",\"No\",\"No\",\"No\",\"No\",\"No\",\"No\",\"No\",\"No\",\"No\",\"No\",\"No\",\"No\",\"No\",\"No\",\"No\",\"No\",\"Yes\",\"No\",\"No\",\"No\",\"No\",\"No\",\"No\",\"No\",\"No\",\"No\",\"No\",\"No\",\"No\",\"No\",\"No\",\"No\",\"No\",\"No\",\"No\",\"No\",\"No\",\"No\",\"No\",\"No\",\"No\",\"No\",\"No\",\"No\",\"No\",\"No\",\"No\",\"No\",\"No\",\"No\",\"No\",\"No\",\"No\",\"No\",\"No\",\"No\",\"No\",\"No\",\"No\",\"No\",\"No\",\"No\",\"No\",\"No\",\"No\",\"No\",\"No\",\"Yes\",\"No\",\"No\",\"No\",\"No\",\"No\",\"No\",\"No\",\"No\",\"No\",\"No\",\"No\",\"No\",\"No\",\"No\",\"No\",\"No\",\"No\",\"No\",\"No\",\"No\",\"No\",\"No\",\"No\",\"No\",\"No\",\"No\",\"No\",\"No\",\"No\",\"No\",\"No\",\"No\",\"No\",\"No\",\"No\",\"No\",\"No\",\"No\",\"No\",\"No\",\"No\",\"No\",\"No\",\"No\",\"No\",\"Yes\",\"No\",\"No\",\"No\",\"No\",\"No\",\"No\",\"No\",\"No\",\"No\",\"No\",\"No\",\"No\",\"No\",\"No\",\"No\",\"No\",\"No\",\"No\",\"Yes\",\"No\",\"No\",\"No\",\"No\",\"No\",\"No\",\"No\",\"No\",\"No\",\"No\",\"No\",\"No\",\"No\",\"No\",\"No\",\"No\",\"No\",\"No\",\"No\",\"No\",\"No\",\"No\",\"No\",\"No\",\"No\",\"No\",\"No\",\"No\",\"No\",\"No\",\"Yes\",\"No\",\"No\",\"No\",\"No\",\"No\",\"No\",\"No\",\"No\",\"No\",\"No\",\"No\",\"No\",\"No\",\"No\",\"No\",\"No\",\"No\",\"No\",\"No\",\"No\",\"No\",\"No\",\"No\",\"Yes\",\"No\",\"No\",\"No\",\"No\",\"No\",\"No\",\"No\",\"No\",\"No\",\"Yes\",\"Yes\",\"No\",\"Yes\",\"No\",\"No\",\"No\",\"No\",\"No\",\"No\",\"No\",\"No\",\"No\",\"No\",\"No\",\"No\",\"No\",\"No\",\"No\",\"No\",\"No\",\"No\",\"No\",\"No\",\"No\",\"No\",\"No\",\"No\",\"No\",\"No\",\"No\",\"No\",\"No\",\"No\",\"No\",\"No\",\"No\",\"No\",\"No\",\"No\",\"No\",\"No\",\"No\",\"No\",\"No\",\"No\",\"No\",\"No\",\"No\",\"No\",\"No\",\"No\",\"No\",\"No\",\"No\",\"No\",\"No\",\"No\",\"No\",\"No\",\"No\",\"No\",\"No\",\"No\",\"No\",\"No\",\"No\",\"No\",\"No\",\"No\",\"No\",\"No\",\"No\",\"No\",\"No\",\"No\",\"No\",\"No\",\"No\",\"No\",\"No\",\"No\",\"No\",\"No\",\"No\",\"No\",\"No\",\"No\",\"No\",\"Yes\",\"No\",\"No\",\"No\",\"No\",\"No\",\"No\",\"No\",\"No\",\"No\",\"No\",\"No\",\"No\",\"No\",\"No\",\"No\",\"No\",\"No\",\"No\",\"No\",\"Yes\",\"No\",\"No\",\"No\",\"No\",\"No\",\"No\",\"No\",\"No\",\"No\",\"No\",\"No\",\"No\",\"No\",\"No\",\"No\",\"No\",\"No\",\"No\",\"No\",\"No\",\"No\",\"No\",\"No\",\"No\",\"No\",\"No\",\"No\",\"No\",\"No\",\"No\",\"No\",\"No\",\"No\",\"No\",\"No\",\"No\",\"No\",\"No\",\"No\",\"No\",\"No\",\"No\",\"No\",\"No\",\"No\",\"No\",\"No\",\"No\",\"No\",\"No\",\"No\",\"No\",\"No\",\"No\",\"No\",\"No\",\"No\",\"No\",\"No\",\"No\",\"No\",\"No\",\"No\",\"No\",\"Yes\",\"Yes\",\"No\",\"No\",\"No\",\"No\",\"No\",\"No\",\"No\",\"No\",\"No\",\"No\",\"No\",\"No\",\"No\",\"No\",\"No\",\"No\",\"No\",\"No\",\"No\",\"No\",\"No\",\"No\",\"No\",\"No\",\"No\",\"No\",\"No\",\"Yes\",\"No\",\"No\",\"No\",\"No\",\"Yes\",\"No\",\"No\",\"No\",\"No\",\"No\",\"Yes\",\"No\",\"No\",\"No\",\"No\",\"No\",\"No\",\"No\",\"No\",\"No\",\"No\",\"No\",\"No\",\"No\",\"No\",\"No\",\"No\",\"No\",\"No\",\"No\",\"No\",\"No\",\"No\",\"No\",\"No\",\"No\",\"No\",\"No\",\"No\",\"No\",\"No\",\"No\",\"No\",\"No\",\"No\",\"No\",\"No\",\"No\",\"No\",\"No\",\"No\",\"No\",\"No\",\"No\",\"No\",\"No\",\"No\",\"No\",\"No\",\"No\",\"No\",\"No\",\"No\",\"No\",\"No\",\"No\",\"No\",\"Yes\",\"No\",\"No\",\"No\",\"No\",\"No\",\"No\",\"No\",\"No\",\"No\",\"No\",\"No\",\"No\",\"No\",\"Yes\",\"No\",\"No\",\"No\",\"No\",\"No\",\"No\",\"No\",\"No\",\"No\",\"No\",\"No\",\"No\",\"No\",\"No\",\"No\",\"No\",\"No\",\"Yes\",\"No\",\"No\",\"No\",\"No\",\"No\",\"No\",\"No\",\"Yes\",\"No\",\"No\",\"No\",\"No\",\"No\",\"No\",\"No\",\"No\",\"No\",\"No\",\"No\",\"No\",\"No\",\"No\",\"No\",\"No\",\"No\",\"No\",\"No\",\"No\",\"No\",\"No\",\"No\",\"No\",\"No\",\"No\",\"No\",\"No\",\"No\",\"No\",\"No\",\"Yes\",\"No\",\"No\",\"No\",\"No\",\"No\",\"No\",\"No\",\"No\",\"No\",\"No\",\"No\",\"No\",\"No\",\"No\",\"No\",\"No\"],\"xaxis\":\"x\",\"yaxis\":\"y\",\"type\":\"histogram\"}],                        {\"template\":{\"data\":{\"histogram2dcontour\":[{\"type\":\"histogram2dcontour\",\"colorbar\":{\"outlinewidth\":0,\"ticks\":\"\"},\"colorscale\":[[0.0,\"#0d0887\"],[0.1111111111111111,\"#46039f\"],[0.2222222222222222,\"#7201a8\"],[0.3333333333333333,\"#9c179e\"],[0.4444444444444444,\"#bd3786\"],[0.5555555555555556,\"#d8576b\"],[0.6666666666666666,\"#ed7953\"],[0.7777777777777778,\"#fb9f3a\"],[0.8888888888888888,\"#fdca26\"],[1.0,\"#f0f921\"]]}],\"choropleth\":[{\"type\":\"choropleth\",\"colorbar\":{\"outlinewidth\":0,\"ticks\":\"\"}}],\"histogram2d\":[{\"type\":\"histogram2d\",\"colorbar\":{\"outlinewidth\":0,\"ticks\":\"\"},\"colorscale\":[[0.0,\"#0d0887\"],[0.1111111111111111,\"#46039f\"],[0.2222222222222222,\"#7201a8\"],[0.3333333333333333,\"#9c179e\"],[0.4444444444444444,\"#bd3786\"],[0.5555555555555556,\"#d8576b\"],[0.6666666666666666,\"#ed7953\"],[0.7777777777777778,\"#fb9f3a\"],[0.8888888888888888,\"#fdca26\"],[1.0,\"#f0f921\"]]}],\"heatmap\":[{\"type\":\"heatmap\",\"colorbar\":{\"outlinewidth\":0,\"ticks\":\"\"},\"colorscale\":[[0.0,\"#0d0887\"],[0.1111111111111111,\"#46039f\"],[0.2222222222222222,\"#7201a8\"],[0.3333333333333333,\"#9c179e\"],[0.4444444444444444,\"#bd3786\"],[0.5555555555555556,\"#d8576b\"],[0.6666666666666666,\"#ed7953\"],[0.7777777777777778,\"#fb9f3a\"],[0.8888888888888888,\"#fdca26\"],[1.0,\"#f0f921\"]]}],\"heatmapgl\":[{\"type\":\"heatmapgl\",\"colorbar\":{\"outlinewidth\":0,\"ticks\":\"\"},\"colorscale\":[[0.0,\"#0d0887\"],[0.1111111111111111,\"#46039f\"],[0.2222222222222222,\"#7201a8\"],[0.3333333333333333,\"#9c179e\"],[0.4444444444444444,\"#bd3786\"],[0.5555555555555556,\"#d8576b\"],[0.6666666666666666,\"#ed7953\"],[0.7777777777777778,\"#fb9f3a\"],[0.8888888888888888,\"#fdca26\"],[1.0,\"#f0f921\"]]}],\"contourcarpet\":[{\"type\":\"contourcarpet\",\"colorbar\":{\"outlinewidth\":0,\"ticks\":\"\"}}],\"contour\":[{\"type\":\"contour\",\"colorbar\":{\"outlinewidth\":0,\"ticks\":\"\"},\"colorscale\":[[0.0,\"#0d0887\"],[0.1111111111111111,\"#46039f\"],[0.2222222222222222,\"#7201a8\"],[0.3333333333333333,\"#9c179e\"],[0.4444444444444444,\"#bd3786\"],[0.5555555555555556,\"#d8576b\"],[0.6666666666666666,\"#ed7953\"],[0.7777777777777778,\"#fb9f3a\"],[0.8888888888888888,\"#fdca26\"],[1.0,\"#f0f921\"]]}],\"surface\":[{\"type\":\"surface\",\"colorbar\":{\"outlinewidth\":0,\"ticks\":\"\"},\"colorscale\":[[0.0,\"#0d0887\"],[0.1111111111111111,\"#46039f\"],[0.2222222222222222,\"#7201a8\"],[0.3333333333333333,\"#9c179e\"],[0.4444444444444444,\"#bd3786\"],[0.5555555555555556,\"#d8576b\"],[0.6666666666666666,\"#ed7953\"],[0.7777777777777778,\"#fb9f3a\"],[0.8888888888888888,\"#fdca26\"],[1.0,\"#f0f921\"]]}],\"mesh3d\":[{\"type\":\"mesh3d\",\"colorbar\":{\"outlinewidth\":0,\"ticks\":\"\"}}],\"scatter\":[{\"fillpattern\":{\"fillmode\":\"overlay\",\"size\":10,\"solidity\":0.2},\"type\":\"scatter\"}],\"parcoords\":[{\"type\":\"parcoords\",\"line\":{\"colorbar\":{\"outlinewidth\":0,\"ticks\":\"\"}}}],\"scatterpolargl\":[{\"type\":\"scatterpolargl\",\"marker\":{\"colorbar\":{\"outlinewidth\":0,\"ticks\":\"\"}}}],\"bar\":[{\"error_x\":{\"color\":\"#2a3f5f\"},\"error_y\":{\"color\":\"#2a3f5f\"},\"marker\":{\"line\":{\"color\":\"#E5ECF6\",\"width\":0.5},\"pattern\":{\"fillmode\":\"overlay\",\"size\":10,\"solidity\":0.2}},\"type\":\"bar\"}],\"scattergeo\":[{\"type\":\"scattergeo\",\"marker\":{\"colorbar\":{\"outlinewidth\":0,\"ticks\":\"\"}}}],\"scatterpolar\":[{\"type\":\"scatterpolar\",\"marker\":{\"colorbar\":{\"outlinewidth\":0,\"ticks\":\"\"}}}],\"histogram\":[{\"marker\":{\"pattern\":{\"fillmode\":\"overlay\",\"size\":10,\"solidity\":0.2}},\"type\":\"histogram\"}],\"scattergl\":[{\"type\":\"scattergl\",\"marker\":{\"colorbar\":{\"outlinewidth\":0,\"ticks\":\"\"}}}],\"scatter3d\":[{\"type\":\"scatter3d\",\"line\":{\"colorbar\":{\"outlinewidth\":0,\"ticks\":\"\"}},\"marker\":{\"colorbar\":{\"outlinewidth\":0,\"ticks\":\"\"}}}],\"scattermapbox\":[{\"type\":\"scattermapbox\",\"marker\":{\"colorbar\":{\"outlinewidth\":0,\"ticks\":\"\"}}}],\"scatterternary\":[{\"type\":\"scatterternary\",\"marker\":{\"colorbar\":{\"outlinewidth\":0,\"ticks\":\"\"}}}],\"scattercarpet\":[{\"type\":\"scattercarpet\",\"marker\":{\"colorbar\":{\"outlinewidth\":0,\"ticks\":\"\"}}}],\"carpet\":[{\"aaxis\":{\"endlinecolor\":\"#2a3f5f\",\"gridcolor\":\"white\",\"linecolor\":\"white\",\"minorgridcolor\":\"white\",\"startlinecolor\":\"#2a3f5f\"},\"baxis\":{\"endlinecolor\":\"#2a3f5f\",\"gridcolor\":\"white\",\"linecolor\":\"white\",\"minorgridcolor\":\"white\",\"startlinecolor\":\"#2a3f5f\"},\"type\":\"carpet\"}],\"table\":[{\"cells\":{\"fill\":{\"color\":\"#EBF0F8\"},\"line\":{\"color\":\"white\"}},\"header\":{\"fill\":{\"color\":\"#C8D4E3\"},\"line\":{\"color\":\"white\"}},\"type\":\"table\"}],\"barpolar\":[{\"marker\":{\"line\":{\"color\":\"#E5ECF6\",\"width\":0.5},\"pattern\":{\"fillmode\":\"overlay\",\"size\":10,\"solidity\":0.2}},\"type\":\"barpolar\"}],\"pie\":[{\"automargin\":true,\"type\":\"pie\"}]},\"layout\":{\"autotypenumbers\":\"strict\",\"colorway\":[\"#636efa\",\"#EF553B\",\"#00cc96\",\"#ab63fa\",\"#FFA15A\",\"#19d3f3\",\"#FF6692\",\"#B6E880\",\"#FF97FF\",\"#FECB52\"],\"font\":{\"color\":\"#2a3f5f\"},\"hovermode\":\"closest\",\"hoverlabel\":{\"align\":\"left\"},\"paper_bgcolor\":\"white\",\"plot_bgcolor\":\"#E5ECF6\",\"polar\":{\"bgcolor\":\"#E5ECF6\",\"angularaxis\":{\"gridcolor\":\"white\",\"linecolor\":\"white\",\"ticks\":\"\"},\"radialaxis\":{\"gridcolor\":\"white\",\"linecolor\":\"white\",\"ticks\":\"\"}},\"ternary\":{\"bgcolor\":\"#E5ECF6\",\"aaxis\":{\"gridcolor\":\"white\",\"linecolor\":\"white\",\"ticks\":\"\"},\"baxis\":{\"gridcolor\":\"white\",\"linecolor\":\"white\",\"ticks\":\"\"},\"caxis\":{\"gridcolor\":\"white\",\"linecolor\":\"white\",\"ticks\":\"\"}},\"coloraxis\":{\"colorbar\":{\"outlinewidth\":0,\"ticks\":\"\"}},\"colorscale\":{\"sequential\":[[0.0,\"#0d0887\"],[0.1111111111111111,\"#46039f\"],[0.2222222222222222,\"#7201a8\"],[0.3333333333333333,\"#9c179e\"],[0.4444444444444444,\"#bd3786\"],[0.5555555555555556,\"#d8576b\"],[0.6666666666666666,\"#ed7953\"],[0.7777777777777778,\"#fb9f3a\"],[0.8888888888888888,\"#fdca26\"],[1.0,\"#f0f921\"]],\"sequentialminus\":[[0.0,\"#0d0887\"],[0.1111111111111111,\"#46039f\"],[0.2222222222222222,\"#7201a8\"],[0.3333333333333333,\"#9c179e\"],[0.4444444444444444,\"#bd3786\"],[0.5555555555555556,\"#d8576b\"],[0.6666666666666666,\"#ed7953\"],[0.7777777777777778,\"#fb9f3a\"],[0.8888888888888888,\"#fdca26\"],[1.0,\"#f0f921\"]],\"diverging\":[[0,\"#8e0152\"],[0.1,\"#c51b7d\"],[0.2,\"#de77ae\"],[0.3,\"#f1b6da\"],[0.4,\"#fde0ef\"],[0.5,\"#f7f7f7\"],[0.6,\"#e6f5d0\"],[0.7,\"#b8e186\"],[0.8,\"#7fbc41\"],[0.9,\"#4d9221\"],[1,\"#276419\"]]},\"xaxis\":{\"gridcolor\":\"white\",\"linecolor\":\"white\",\"ticks\":\"\",\"title\":{\"standoff\":15},\"zerolinecolor\":\"white\",\"automargin\":true,\"zerolinewidth\":2},\"yaxis\":{\"gridcolor\":\"white\",\"linecolor\":\"white\",\"ticks\":\"\",\"title\":{\"standoff\":15},\"zerolinecolor\":\"white\",\"automargin\":true,\"zerolinewidth\":2},\"scene\":{\"xaxis\":{\"backgroundcolor\":\"#E5ECF6\",\"gridcolor\":\"white\",\"linecolor\":\"white\",\"showbackground\":true,\"ticks\":\"\",\"zerolinecolor\":\"white\",\"gridwidth\":2},\"yaxis\":{\"backgroundcolor\":\"#E5ECF6\",\"gridcolor\":\"white\",\"linecolor\":\"white\",\"showbackground\":true,\"ticks\":\"\",\"zerolinecolor\":\"white\",\"gridwidth\":2},\"zaxis\":{\"backgroundcolor\":\"#E5ECF6\",\"gridcolor\":\"white\",\"linecolor\":\"white\",\"showbackground\":true,\"ticks\":\"\",\"zerolinecolor\":\"white\",\"gridwidth\":2}},\"shapedefaults\":{\"line\":{\"color\":\"#2a3f5f\"}},\"annotationdefaults\":{\"arrowcolor\":\"#2a3f5f\",\"arrowhead\":0,\"arrowwidth\":1},\"geo\":{\"bgcolor\":\"white\",\"landcolor\":\"#E5ECF6\",\"subunitcolor\":\"white\",\"showland\":true,\"showlakes\":true,\"lakecolor\":\"white\"},\"title\":{\"x\":0.05},\"mapbox\":{\"style\":\"light\"}}},\"xaxis\":{\"anchor\":\"y\",\"domain\":[0.0,1.0],\"title\":{\"text\":\"Churn\"}},\"yaxis\":{\"anchor\":\"x\",\"domain\":[0.0,1.0],\"title\":{\"text\":\"count\"}},\"legend\":{\"title\":{\"text\":\"Contract\"},\"tracegroupgap\":0},\"title\":{\"text\":\"Number of customers by contract type\"},\"barmode\":\"group\",\"width\":700,\"height\":500,\"bargap\":0.1},                        {\"responsive\": true}                    ).then(function(){\n",
              "                            \n",
              "var gd = document.getElementById('25e95f0a-76b9-459c-810b-4a78fdfcf8cc');\n",
              "var x = new MutationObserver(function (mutations, observer) {{\n",
              "        var display = window.getComputedStyle(gd).display;\n",
              "        if (!display || display === 'none') {{\n",
              "            console.log([gd, 'removed!']);\n",
              "            Plotly.purge(gd);\n",
              "            observer.disconnect();\n",
              "        }}\n",
              "}});\n",
              "\n",
              "// Listen for the removal of the full notebook cells\n",
              "var notebookContainer = gd.closest('#notebook-container');\n",
              "if (notebookContainer) {{\n",
              "    x.observe(notebookContainer, {childList: true});\n",
              "}}\n",
              "\n",
              "// Listen for the clearing of the current output cell\n",
              "var outputEl = gd.closest('.output');\n",
              "if (outputEl) {{\n",
              "    x.observe(outputEl, {childList: true});\n",
              "}}\n",
              "\n",
              "                        })                };                            </script>        </div>\n",
              "</body>\n",
              "</html>"
            ]
          },
          "metadata": {}
        }
      ]
    },
    {
      "cell_type": "code",
      "source": [
        "fig = px.pie(df.groupby(['Contract', 'Churn'])['customerID'].count().reset_index(),\n",
        "             values='customerID',\n",
        "             names='Contract',\n",
        "             facet_col = 'Churn',\n",
        "             title = 'Churn rate by contact type')\n",
        "fig.show()"
      ],
      "metadata": {
        "colab": {
          "base_uri": "https://localhost:8080/",
          "height": 542
        },
        "id": "2anWiuZCRckp",
        "outputId": "8d2e4479-0ed1-4c77-e706-85f0d7f9f647"
      },
      "execution_count": 77,
      "outputs": [
        {
          "output_type": "display_data",
          "data": {
            "text/html": [
              "<html>\n",
              "<head><meta charset=\"utf-8\" /></head>\n",
              "<body>\n",
              "    <div>            <script src=\"https://cdnjs.cloudflare.com/ajax/libs/mathjax/2.7.5/MathJax.js?config=TeX-AMS-MML_SVG\"></script><script type=\"text/javascript\">if (window.MathJax && window.MathJax.Hub && window.MathJax.Hub.Config) {window.MathJax.Hub.Config({SVG: {font: \"STIX-Web\"}});}</script>                <script type=\"text/javascript\">window.PlotlyConfig = {MathJaxConfig: 'local'};</script>\n",
              "        <script charset=\"utf-8\" src=\"https://cdn.plot.ly/plotly-2.24.1.min.js\"></script>                <div id=\"3963f78d-401b-41d3-9fd2-4a7878471cd3\" class=\"plotly-graph-div\" style=\"height:525px; width:100%;\"></div>            <script type=\"text/javascript\">                                    window.PLOTLYENV=window.PLOTLYENV || {};                                    if (document.getElementById(\"3963f78d-401b-41d3-9fd2-4a7878471cd3\")) {                    Plotly.newPlot(                        \"3963f78d-401b-41d3-9fd2-4a7878471cd3\",                        [{\"domain\":{\"x\":[0.0,0.49],\"y\":[0.0,1.0]},\"hovertemplate\":\"Churn=No\\u003cbr\\u003eContract=%{label}\\u003cbr\\u003ecustomerID=%{value}\\u003cextra\\u003e\\u003c\\u002fextra\\u003e\",\"labels\":[\"Month-to-month\",\"One year\",\"Two year\"],\"legendgroup\":\"\",\"name\":\"\",\"showlegend\":true,\"values\":[2220,1307,1647],\"type\":\"pie\"},{\"domain\":{\"x\":[0.51,1.0],\"y\":[0.0,1.0]},\"hovertemplate\":\"Churn=Yes\\u003cbr\\u003eContract=%{label}\\u003cbr\\u003ecustomerID=%{value}\\u003cextra\\u003e\\u003c\\u002fextra\\u003e\",\"labels\":[\"Month-to-month\",\"One year\",\"Two year\"],\"legendgroup\":\"\",\"name\":\"\",\"showlegend\":true,\"values\":[1655,166,48],\"type\":\"pie\"}],                        {\"template\":{\"data\":{\"histogram2dcontour\":[{\"type\":\"histogram2dcontour\",\"colorbar\":{\"outlinewidth\":0,\"ticks\":\"\"},\"colorscale\":[[0.0,\"#0d0887\"],[0.1111111111111111,\"#46039f\"],[0.2222222222222222,\"#7201a8\"],[0.3333333333333333,\"#9c179e\"],[0.4444444444444444,\"#bd3786\"],[0.5555555555555556,\"#d8576b\"],[0.6666666666666666,\"#ed7953\"],[0.7777777777777778,\"#fb9f3a\"],[0.8888888888888888,\"#fdca26\"],[1.0,\"#f0f921\"]]}],\"choropleth\":[{\"type\":\"choropleth\",\"colorbar\":{\"outlinewidth\":0,\"ticks\":\"\"}}],\"histogram2d\":[{\"type\":\"histogram2d\",\"colorbar\":{\"outlinewidth\":0,\"ticks\":\"\"},\"colorscale\":[[0.0,\"#0d0887\"],[0.1111111111111111,\"#46039f\"],[0.2222222222222222,\"#7201a8\"],[0.3333333333333333,\"#9c179e\"],[0.4444444444444444,\"#bd3786\"],[0.5555555555555556,\"#d8576b\"],[0.6666666666666666,\"#ed7953\"],[0.7777777777777778,\"#fb9f3a\"],[0.8888888888888888,\"#fdca26\"],[1.0,\"#f0f921\"]]}],\"heatmap\":[{\"type\":\"heatmap\",\"colorbar\":{\"outlinewidth\":0,\"ticks\":\"\"},\"colorscale\":[[0.0,\"#0d0887\"],[0.1111111111111111,\"#46039f\"],[0.2222222222222222,\"#7201a8\"],[0.3333333333333333,\"#9c179e\"],[0.4444444444444444,\"#bd3786\"],[0.5555555555555556,\"#d8576b\"],[0.6666666666666666,\"#ed7953\"],[0.7777777777777778,\"#fb9f3a\"],[0.8888888888888888,\"#fdca26\"],[1.0,\"#f0f921\"]]}],\"heatmapgl\":[{\"type\":\"heatmapgl\",\"colorbar\":{\"outlinewidth\":0,\"ticks\":\"\"},\"colorscale\":[[0.0,\"#0d0887\"],[0.1111111111111111,\"#46039f\"],[0.2222222222222222,\"#7201a8\"],[0.3333333333333333,\"#9c179e\"],[0.4444444444444444,\"#bd3786\"],[0.5555555555555556,\"#d8576b\"],[0.6666666666666666,\"#ed7953\"],[0.7777777777777778,\"#fb9f3a\"],[0.8888888888888888,\"#fdca26\"],[1.0,\"#f0f921\"]]}],\"contourcarpet\":[{\"type\":\"contourcarpet\",\"colorbar\":{\"outlinewidth\":0,\"ticks\":\"\"}}],\"contour\":[{\"type\":\"contour\",\"colorbar\":{\"outlinewidth\":0,\"ticks\":\"\"},\"colorscale\":[[0.0,\"#0d0887\"],[0.1111111111111111,\"#46039f\"],[0.2222222222222222,\"#7201a8\"],[0.3333333333333333,\"#9c179e\"],[0.4444444444444444,\"#bd3786\"],[0.5555555555555556,\"#d8576b\"],[0.6666666666666666,\"#ed7953\"],[0.7777777777777778,\"#fb9f3a\"],[0.8888888888888888,\"#fdca26\"],[1.0,\"#f0f921\"]]}],\"surface\":[{\"type\":\"surface\",\"colorbar\":{\"outlinewidth\":0,\"ticks\":\"\"},\"colorscale\":[[0.0,\"#0d0887\"],[0.1111111111111111,\"#46039f\"],[0.2222222222222222,\"#7201a8\"],[0.3333333333333333,\"#9c179e\"],[0.4444444444444444,\"#bd3786\"],[0.5555555555555556,\"#d8576b\"],[0.6666666666666666,\"#ed7953\"],[0.7777777777777778,\"#fb9f3a\"],[0.8888888888888888,\"#fdca26\"],[1.0,\"#f0f921\"]]}],\"mesh3d\":[{\"type\":\"mesh3d\",\"colorbar\":{\"outlinewidth\":0,\"ticks\":\"\"}}],\"scatter\":[{\"fillpattern\":{\"fillmode\":\"overlay\",\"size\":10,\"solidity\":0.2},\"type\":\"scatter\"}],\"parcoords\":[{\"type\":\"parcoords\",\"line\":{\"colorbar\":{\"outlinewidth\":0,\"ticks\":\"\"}}}],\"scatterpolargl\":[{\"type\":\"scatterpolargl\",\"marker\":{\"colorbar\":{\"outlinewidth\":0,\"ticks\":\"\"}}}],\"bar\":[{\"error_x\":{\"color\":\"#2a3f5f\"},\"error_y\":{\"color\":\"#2a3f5f\"},\"marker\":{\"line\":{\"color\":\"#E5ECF6\",\"width\":0.5},\"pattern\":{\"fillmode\":\"overlay\",\"size\":10,\"solidity\":0.2}},\"type\":\"bar\"}],\"scattergeo\":[{\"type\":\"scattergeo\",\"marker\":{\"colorbar\":{\"outlinewidth\":0,\"ticks\":\"\"}}}],\"scatterpolar\":[{\"type\":\"scatterpolar\",\"marker\":{\"colorbar\":{\"outlinewidth\":0,\"ticks\":\"\"}}}],\"histogram\":[{\"marker\":{\"pattern\":{\"fillmode\":\"overlay\",\"size\":10,\"solidity\":0.2}},\"type\":\"histogram\"}],\"scattergl\":[{\"type\":\"scattergl\",\"marker\":{\"colorbar\":{\"outlinewidth\":0,\"ticks\":\"\"}}}],\"scatter3d\":[{\"type\":\"scatter3d\",\"line\":{\"colorbar\":{\"outlinewidth\":0,\"ticks\":\"\"}},\"marker\":{\"colorbar\":{\"outlinewidth\":0,\"ticks\":\"\"}}}],\"scattermapbox\":[{\"type\":\"scattermapbox\",\"marker\":{\"colorbar\":{\"outlinewidth\":0,\"ticks\":\"\"}}}],\"scatterternary\":[{\"type\":\"scatterternary\",\"marker\":{\"colorbar\":{\"outlinewidth\":0,\"ticks\":\"\"}}}],\"scattercarpet\":[{\"type\":\"scattercarpet\",\"marker\":{\"colorbar\":{\"outlinewidth\":0,\"ticks\":\"\"}}}],\"carpet\":[{\"aaxis\":{\"endlinecolor\":\"#2a3f5f\",\"gridcolor\":\"white\",\"linecolor\":\"white\",\"minorgridcolor\":\"white\",\"startlinecolor\":\"#2a3f5f\"},\"baxis\":{\"endlinecolor\":\"#2a3f5f\",\"gridcolor\":\"white\",\"linecolor\":\"white\",\"minorgridcolor\":\"white\",\"startlinecolor\":\"#2a3f5f\"},\"type\":\"carpet\"}],\"table\":[{\"cells\":{\"fill\":{\"color\":\"#EBF0F8\"},\"line\":{\"color\":\"white\"}},\"header\":{\"fill\":{\"color\":\"#C8D4E3\"},\"line\":{\"color\":\"white\"}},\"type\":\"table\"}],\"barpolar\":[{\"marker\":{\"line\":{\"color\":\"#E5ECF6\",\"width\":0.5},\"pattern\":{\"fillmode\":\"overlay\",\"size\":10,\"solidity\":0.2}},\"type\":\"barpolar\"}],\"pie\":[{\"automargin\":true,\"type\":\"pie\"}]},\"layout\":{\"autotypenumbers\":\"strict\",\"colorway\":[\"#636efa\",\"#EF553B\",\"#00cc96\",\"#ab63fa\",\"#FFA15A\",\"#19d3f3\",\"#FF6692\",\"#B6E880\",\"#FF97FF\",\"#FECB52\"],\"font\":{\"color\":\"#2a3f5f\"},\"hovermode\":\"closest\",\"hoverlabel\":{\"align\":\"left\"},\"paper_bgcolor\":\"white\",\"plot_bgcolor\":\"#E5ECF6\",\"polar\":{\"bgcolor\":\"#E5ECF6\",\"angularaxis\":{\"gridcolor\":\"white\",\"linecolor\":\"white\",\"ticks\":\"\"},\"radialaxis\":{\"gridcolor\":\"white\",\"linecolor\":\"white\",\"ticks\":\"\"}},\"ternary\":{\"bgcolor\":\"#E5ECF6\",\"aaxis\":{\"gridcolor\":\"white\",\"linecolor\":\"white\",\"ticks\":\"\"},\"baxis\":{\"gridcolor\":\"white\",\"linecolor\":\"white\",\"ticks\":\"\"},\"caxis\":{\"gridcolor\":\"white\",\"linecolor\":\"white\",\"ticks\":\"\"}},\"coloraxis\":{\"colorbar\":{\"outlinewidth\":0,\"ticks\":\"\"}},\"colorscale\":{\"sequential\":[[0.0,\"#0d0887\"],[0.1111111111111111,\"#46039f\"],[0.2222222222222222,\"#7201a8\"],[0.3333333333333333,\"#9c179e\"],[0.4444444444444444,\"#bd3786\"],[0.5555555555555556,\"#d8576b\"],[0.6666666666666666,\"#ed7953\"],[0.7777777777777778,\"#fb9f3a\"],[0.8888888888888888,\"#fdca26\"],[1.0,\"#f0f921\"]],\"sequentialminus\":[[0.0,\"#0d0887\"],[0.1111111111111111,\"#46039f\"],[0.2222222222222222,\"#7201a8\"],[0.3333333333333333,\"#9c179e\"],[0.4444444444444444,\"#bd3786\"],[0.5555555555555556,\"#d8576b\"],[0.6666666666666666,\"#ed7953\"],[0.7777777777777778,\"#fb9f3a\"],[0.8888888888888888,\"#fdca26\"],[1.0,\"#f0f921\"]],\"diverging\":[[0,\"#8e0152\"],[0.1,\"#c51b7d\"],[0.2,\"#de77ae\"],[0.3,\"#f1b6da\"],[0.4,\"#fde0ef\"],[0.5,\"#f7f7f7\"],[0.6,\"#e6f5d0\"],[0.7,\"#b8e186\"],[0.8,\"#7fbc41\"],[0.9,\"#4d9221\"],[1,\"#276419\"]]},\"xaxis\":{\"gridcolor\":\"white\",\"linecolor\":\"white\",\"ticks\":\"\",\"title\":{\"standoff\":15},\"zerolinecolor\":\"white\",\"automargin\":true,\"zerolinewidth\":2},\"yaxis\":{\"gridcolor\":\"white\",\"linecolor\":\"white\",\"ticks\":\"\",\"title\":{\"standoff\":15},\"zerolinecolor\":\"white\",\"automargin\":true,\"zerolinewidth\":2},\"scene\":{\"xaxis\":{\"backgroundcolor\":\"#E5ECF6\",\"gridcolor\":\"white\",\"linecolor\":\"white\",\"showbackground\":true,\"ticks\":\"\",\"zerolinecolor\":\"white\",\"gridwidth\":2},\"yaxis\":{\"backgroundcolor\":\"#E5ECF6\",\"gridcolor\":\"white\",\"linecolor\":\"white\",\"showbackground\":true,\"ticks\":\"\",\"zerolinecolor\":\"white\",\"gridwidth\":2},\"zaxis\":{\"backgroundcolor\":\"#E5ECF6\",\"gridcolor\":\"white\",\"linecolor\":\"white\",\"showbackground\":true,\"ticks\":\"\",\"zerolinecolor\":\"white\",\"gridwidth\":2}},\"shapedefaults\":{\"line\":{\"color\":\"#2a3f5f\"}},\"annotationdefaults\":{\"arrowcolor\":\"#2a3f5f\",\"arrowhead\":0,\"arrowwidth\":1},\"geo\":{\"bgcolor\":\"white\",\"landcolor\":\"#E5ECF6\",\"subunitcolor\":\"white\",\"showland\":true,\"showlakes\":true,\"lakecolor\":\"white\"},\"title\":{\"x\":0.05},\"mapbox\":{\"style\":\"light\"}}},\"annotations\":[{\"font\":{},\"showarrow\":false,\"text\":\"Churn=No\",\"x\":0.245,\"xanchor\":\"center\",\"xref\":\"paper\",\"y\":1.0,\"yanchor\":\"bottom\",\"yref\":\"paper\"},{\"font\":{},\"showarrow\":false,\"text\":\"Churn=Yes\",\"x\":0.755,\"xanchor\":\"center\",\"xref\":\"paper\",\"y\":1.0,\"yanchor\":\"bottom\",\"yref\":\"paper\"}],\"legend\":{\"tracegroupgap\":0},\"title\":{\"text\":\"Churn rate by contact type\"}},                        {\"responsive\": true}                    ).then(function(){\n",
              "                            \n",
              "var gd = document.getElementById('3963f78d-401b-41d3-9fd2-4a7878471cd3');\n",
              "var x = new MutationObserver(function (mutations, observer) {{\n",
              "        var display = window.getComputedStyle(gd).display;\n",
              "        if (!display || display === 'none') {{\n",
              "            console.log([gd, 'removed!']);\n",
              "            Plotly.purge(gd);\n",
              "            observer.disconnect();\n",
              "        }}\n",
              "}});\n",
              "\n",
              "// Listen for the removal of the full notebook cells\n",
              "var notebookContainer = gd.closest('#notebook-container');\n",
              "if (notebookContainer) {{\n",
              "    x.observe(notebookContainer, {childList: true});\n",
              "}}\n",
              "\n",
              "// Listen for the clearing of the current output cell\n",
              "var outputEl = gd.closest('.output');\n",
              "if (outputEl) {{\n",
              "    x.observe(outputEl, {childList: true});\n",
              "}}\n",
              "\n",
              "                        })                };                            </script>        </div>\n",
              "</body>\n",
              "</html>"
            ]
          },
          "metadata": {}
        }
      ]
    },
    {
      "cell_type": "markdown",
      "source": [
        "\n",
        "88.6% of customers who left the service had a Month-to-month contract type"
      ],
      "metadata": {
        "id": "FQZXkJ0nRrml"
      }
    },
    {
      "cell_type": "code",
      "source": [
        "df.groupby(['Contract','Churn'])['tenure'].mean()"
      ],
      "metadata": {
        "colab": {
          "base_uri": "https://localhost:8080/"
        },
        "id": "zQNg-ttcRqSp",
        "outputId": "067a98e8-16af-4da5-812f-578501251343"
      },
      "execution_count": 78,
      "outputs": [
        {
          "output_type": "execute_result",
          "data": {
            "text/plain": [
              "Contract        Churn\n",
              "Month-to-month  No       21.033333\n",
              "                Yes      14.016918\n",
              "One year        No       41.674063\n",
              "                Yes      44.963855\n",
              "Two year        No       56.602914\n",
              "                Yes      61.270833\n",
              "Name: tenure, dtype: float64"
            ]
          },
          "metadata": {},
          "execution_count": 78
        }
      ]
    },
    {
      "cell_type": "markdown",
      "source": [
        "#### Total charges and monthly charges"
      ],
      "metadata": {
        "id": "ESEzwYPmolU5"
      }
    },
    {
      "cell_type": "code",
      "source": [
        "\n",
        "df.loc[:, 'TotalCharges'] = pd.to_numeric(df['TotalCharges'], errors='coerce')\n",
        "df.loc[:, 'MonthlyCharges'] = pd.to_numeric(df['MonthlyCharges'], errors='coerce')\n"
      ],
      "metadata": {
        "id": "AQZRs_fKVdpC"
      },
      "execution_count": 79,
      "outputs": []
    },
    {
      "cell_type": "code",
      "source": [
        "df.info()"
      ],
      "metadata": {
        "colab": {
          "base_uri": "https://localhost:8080/"
        },
        "id": "9ygfapaNYbuu",
        "outputId": "fac6bf2e-b5f5-4c75-ffaa-1d4939622516"
      },
      "execution_count": 80,
      "outputs": [
        {
          "output_type": "stream",
          "name": "stdout",
          "text": [
            "<class 'pandas.core.frame.DataFrame'>\n",
            "RangeIndex: 7043 entries, 0 to 7042\n",
            "Data columns (total 21 columns):\n",
            " #   Column            Non-Null Count  Dtype  \n",
            "---  ------            --------------  -----  \n",
            " 0   customerID        7043 non-null   object \n",
            " 1   gender            7043 non-null   object \n",
            " 2   SeniorCitizen     7043 non-null   int64  \n",
            " 3   Partner           7043 non-null   object \n",
            " 4   Dependents        7043 non-null   object \n",
            " 5   tenure            7043 non-null   int64  \n",
            " 6   PhoneService      7043 non-null   object \n",
            " 7   MultipleLines     7043 non-null   object \n",
            " 8   InternetService   7043 non-null   object \n",
            " 9   OnlineSecurity    7043 non-null   object \n",
            " 10  OnlineBackup      7043 non-null   object \n",
            " 11  DeviceProtection  7043 non-null   object \n",
            " 12  TechSupport       7043 non-null   object \n",
            " 13  StreamingTV       7043 non-null   object \n",
            " 14  StreamingMovies   7043 non-null   object \n",
            " 15  Contract          7043 non-null   object \n",
            " 16  PaperlessBilling  7043 non-null   object \n",
            " 17  PaymentMethod     7043 non-null   object \n",
            " 18  MonthlyCharges    7043 non-null   float64\n",
            " 19  TotalCharges      7032 non-null   object \n",
            " 20  Churn             7043 non-null   object \n",
            "dtypes: float64(1), int64(2), object(18)\n",
            "memory usage: 1.1+ MB\n"
          ]
        }
      ]
    },
    {
      "cell_type": "code",
      "source": [
        "fig = px.histogram(df, x=\"TotalCharges\", color=\"Churn\",\n",
        "                   marginal=\"box\"\n",
        "                   )\n",
        "fig.show()"
      ],
      "metadata": {
        "colab": {
          "base_uri": "https://localhost:8080/",
          "height": 542
        },
        "id": "NQayujVhR-Tb",
        "outputId": "4141343d-a7b8-4f96-a9d0-664459223d5f"
      },
      "execution_count": 81,
      "outputs": [
        {
          "output_type": "display_data",
          "data": {
            "text/html": [
              "<html>\n",
              "<head><meta charset=\"utf-8\" /></head>\n",
              "<body>\n",
              "    <div>            <script src=\"https://cdnjs.cloudflare.com/ajax/libs/mathjax/2.7.5/MathJax.js?config=TeX-AMS-MML_SVG\"></script><script type=\"text/javascript\">if (window.MathJax && window.MathJax.Hub && window.MathJax.Hub.Config) {window.MathJax.Hub.Config({SVG: {font: \"STIX-Web\"}});}</script>                <script type=\"text/javascript\">window.PlotlyConfig = {MathJaxConfig: 'local'};</script>\n",
              "        <script charset=\"utf-8\" src=\"https://cdn.plot.ly/plotly-2.24.1.min.js\"></script>                <div id=\"0dd98ab8-d69a-4f06-a6f1-4161fc693a53\" class=\"plotly-graph-div\" style=\"height:525px; width:100%;\"></div>            <script type=\"text/javascript\">                                    window.PLOTLYENV=window.PLOTLYENV || {};                                    if (document.getElementById(\"0dd98ab8-d69a-4f06-a6f1-4161fc693a53\")) {                    Plotly.newPlot(                        \"0dd98ab8-d69a-4f06-a6f1-4161fc693a53\",                        [{\"alignmentgroup\":\"True\",\"bingroup\":\"x\",\"hovertemplate\":\"Churn=No\\u003cbr\\u003eTotalCharges=%{x}\\u003cbr\\u003ecount=%{y}\\u003cextra\\u003e\\u003c\\u002fextra\\u003e\",\"legendgroup\":\"No\",\"marker\":{\"color\":\"#636efa\",\"pattern\":{\"shape\":\"\"}},\"name\":\"No\",\"offsetgroup\":\"No\",\"orientation\":\"v\",\"showlegend\":true,\"x\":[29.85,1889.5,1840.75,1949.4,301.9,3487.95,587.45,326.8,5681.1,2686.05,7895.15,1022.95,7382.25,1862.9,202.25,3505.1,2970.3,1530.6,6369.45,6766.95,181.65,1874.45,20.2,45.25,7251.7,3548.3,475.7,4872.35,418.25,4861.45,981.45,3906.7,97.0,4217.8,4254.1,3838.75,1752.65,4456.35,6311.2,7076.35,894.3,7853.7,4707.1,5450.7,2962.0,957.1,244.1,3650.35,2497.2,930.9,887.35,49.05,1090.65,7099.0,1424.6,177.4,6139.5,2688.85,482.25,2111.3,1216.6,565.35,4327.5,973.35,918.75,2215.45,1057.0,927.1,1009.25,2570.2,74.7,5714.25,7107.0,7459.05,4748.7,1107.2,20.2,19.45,3605.6,3027.25,100.2,7303.05,927.65,3921.3,1363.25,3042.25,3954.1,3423.5,248.4,1126.35,835.15,2151.6,5515.45,112.75,350.35,62.9,3027.65,1723.95,19.75,3985.35,1215.65,3260.1,1188.2,1778.5,1277.75,1170.55,6425.65,5971.25,5289.05,1756.2,6416.7,61.35,1929.95,1071.4,564.35,7930.55,5215.25,113.5,1152.8,1821.95,419.9,1024.0,251.6,764.55,135.2,3958.25,233.9,1363.45,6254.45,321.4,3539.25,1181.75,654.55,780.2,1559.25,1252.0,45.3,2453.3,1023.85,82.15,244.8,2379.1,3173.35,1375.4,8129.3,1192.7,1901.65,587.4,6519.75,8041.65,20.75,2681.15,1112.3,7405.5,1033.95,2958.95,2684.85,4179.2,6654.1,25.25,1124.2,540.05,1975.85,3437.45,3139.8,3789.2,5324.5,624.6,1836.9,20.2,219.35,1288.75,2545.75,2723.15,4107.25,5760.65,4747.5,1566.9,702.0,299.05,1305.95,284.35,6350.5,7878.3,3187.65,6126.15,731.3,273.4,2531.8,4298.45,4619.55,2633.3,193.05,4103.9,7008.15,5791.1,1228.65,4925.35,1520.1,5032.25,5526.75,1195.25,2007.25,1732.95,3450.15,2172.05,1339.8,771.95,244.75,322.9,498.25,25.4,3687.75,1783.6,927.15,2021.2,1940.8,567.8,220.35,20.25,5436.45,3437.5,3015.75,1509.8,356.65,4109.0,3141.7,1229.1,2054.4,3741.85,3682.45,19.25,1886.25,4895.1,341.6,5686.4,1355.1,3236.35,4264.0,44.8,422.3,4176.7,5138.1,880.05,973.65,1470.05,739.35,161.95,4422.95,6148.45,3565.65,1830.1,6223.8,4508.65,1328.15,865.0,72.1,1303.5,996.85,6430.9,2278.75,681.4,574.35,889.0,6823.4,4016.75,83.75,3959.15,2878.55,945.7,1373.05,1406.0,19.15,6962.85,8126.65,690.25,830.8,5608.4,3646.8,3662.25,25.35,5308.7,1410.25,3339.05,4732.35,5067.45,2348.45,4063.0,44.0,2595.25,2309.55,89.3,367.55,3944.5,5965.95,3694.7,1803.7,415.1,624.15,237.7,3848.8,419.4,1468.75,5812.0,2861.45,1066.15,2149.05,4473.0,3545.05,1195.75,6858.9,1024.7,132.25,515.45,2830.45,1110.5,449.3,2838.55,5376.4,858.6,1395.05,3975.7,4784.45,119.5,899.45,1183.8,720.05,8468.2,3161.2,55.05,1882.55,5070.4,6049.5,1166.7,2937.65,1270.25,759.55,7611.55,1642.75,1545.4,3582.4,1417.9,2494.65,2768.35,2369.3,38.0,75.1,100.9,1614.05,8404.9,2799.75,6538.45,6588.95,868.1,330.6,564.4,1315.35,2747.2,554.05,225.75,1671.6,8003.8,6130.85,1415.0,6201.95,null,6597.25,114.15,3902.6,20.4,1785.65,1397.65,3899.05,5676.0,4543.15,4326.8,5502.55,851.8,19.85,1818.3,6300.15,5916.95,2852.4,1546.3,302.6,265.45,6989.45,1442.0,4713.4,4738.3,8399.15,5430.35,686.95,5706.3,490.65,1360.25,174.45,7379.8,1021.75,5029.05,1955.4,6744.2,4946.7,8248.5,601.6,19.55,2647.2,6744.25,5265.5,311.6,7966.9,8220.4,1153.25,514.75,3808.0,19.9,2708.2,760.05,49.3,6033.3,89.05,516.15,5861.75,445.95,4973.4,1667.25,5357.75,422.6,1103.25,2754.0,697.25,3204.4,4747.65,3082.1,597.9,3365.4,38.8,19.0,61.7,3342.45,85.1,7422.1,6668.05,8071.05,1174.8,5435.0,2438.6,45.6,916.15,237.2,4614.55,1414.45,1170.5,47.7,4859.25,4903.2,3608.0,6094.25,3084.9,2356.75,8306.05,1357.1,4860.35,3418.2,631.4,186.3,6976.75,4884.85,522.95,362.6,5755.8,3355.65,406.95,2395.7,1968.1,6819.45,7943.45,2473.95,6562.9,176.3,2236.2,3109.9,4911.35,1620.2,4287.2,394.85,3442.15,1732.6,655.3,475.25,865.1,6132.7,3597.5,697.65,428.7,20.05,4459.15,1167.6,238.1,1453.1,4039.3,1039.45,1336.1,493.4,7246.15,1203.95,313.6,3775.85,4616.05,195.65,4188.4,71.1,49.9,1266.4,1623.4,4149.45,20.45,2344.5,1013.05,417.0,20.65,6316.2,4018.05,4811.6,4189.7,2848.45,2516.2,33.6,208.45,3739.8,2964.0,2263.4,2211.8,1683.7,1519.0,1164.05,1710.9,4245.55,4145.9,2664.3,1277.5,5589.3,34.75,1305.95,204.55,605.9,356.1,4805.65,92.75,1901.05,5730.7,2423.4,1653.45,3327.05,7085.5,3344.1,6697.35,2879.9,137.1,1551.6,202.15,7882.25,8196.4,202.9,855.1,5817.0,1652.95,5600.15,515.75,null,190.5,1253.8,57.2,6563.4,20.8,4758.8,1292.6,363.15,1600.25,275.7,3089.1,1175.6,237.3,8065.65,92.5,6152.3,5154.5,220.45,1510.3,2588.95,3983.6,2003.6,1832.4,4908.25,3590.2,5023.0,146.6,2339.3,298.7,143.65,2548.65,507.4,20.0,5411.4,903.8,3009.5,5468.45,1058.1,7616.0,1108.2,938.65,94.15,2088.05,5656.75,5986.45,6751.35,3566.6,4889.3,318.1,1563.95,372.45,1442.6,963.95,5222.3,3340.55,5774.55,4487.3,2854.95,905.55,7589.8,394.1,295.95,5459.2,444.75,6782.15,6510.45,8476.5,4461.85,62.0,352.65,1424.9,6309.65,5898.6,4719.75,457.3,5822.3,2337.45,104.3,121.25,7015.9,5598.0,1269.1,4634.35,113.95,3077.0,4039.5,1665.2,504.2,7511.65,1782.0,20.05,609.65,2857.6,3247.55,2823.0,2619.25,4965.1,2679.7,8310.55,5682.25,4914.9,27.55,6068.65,5398.6,234.85,1231.85,170.9,7984.15,1288.3,7848.5,267.0,1798.9,1643.55,4807.45,2193.0,2239.4,1505.9,255.35,1189.4,4786.15,1820.9,2404.15,7039.45,2538.05,1212.85,2651.1,1304.8,435.45,308.05,null,7118.9,320.45,531.55,382.2,2001.0,4919.7,5645.8,77.6,2896.55,759.35,535.55,1253.15,955.15,2162.6,1813.35,245.15,2028.8,2723.75,220.45,365.8,551.95,4054.2,60.65,5550.1,4733.1,4048.95,4542.35,888.65,1916.0,413.0,808.95,1886.4,1679.25,540.95,19.75,537.35,678.8,4513.65,1423.85,555.4,225.55,268.45,1492.1,132.4,284.9,784.25,417.7,5016.25,485.2,160.85,4145.25,827.45,49.5,5585.4,1601.2,162.45,470.2,2066.0,1426.45,392.5,3861.45,2552.9,6668.35,4615.25,3557.7,1957.1,1416.75,5924.4,1697.7,7849.85,649.4,4557.5,360.35,1046.5,447.75,4209.95,3877.65,152.3,572.2,552.7,3208.65,620.75,505.9,8046.85,1815.3,612.95,795.15,973.1,2210.2,1055.9,1304.85,21.1,5580.8,1497.9,4590.35,200.2,614.45,4564.9,null,1012.4,2766.4,1129.35,5680.9,2243.9,4523.25,7159.7,2839.95,80.55,580.1,6038.55,259.4,324.15,417.65,5637.85,839.4,769.1,6253.0,1641.8,1678.05,2058.5,2424.5,6293.45,3145.9,2200.7,914.4,4577.75,4997.5,4144.8,1493.55,4179.1,1611.0,593.05,1533.8,529.8,3865.6,515.75,48.35,2070.05,8333.95,1209.25,1396.25,723.35,228.65,1161.75,98.35,775.3,1074.65,2324.7,1072.6,170.5,1677.85,18.85,370.4,3410.6,1138.8,5264.25,1005.7,5936.55,5475.9,2326.05,4991.5,5831.2,510.8,283.95,1295.4,19.65,3011.65,8093.15,3217.65,773.2,1029.35,3593.8,3953.15,1971.15,3196.0,4872.2,1500.5,3478.75,7413.55,3532.0,256.75,3887.25,2490.15,3510.3,765.45,1259.35,5538.35,340.85,844.45,1348.95,3778.0,611.65,1505.05,467.85,194.2,571.45,5253.95,521.35,1412.65,1090.6,1446.8,4300.45,1111.2,190.1,4447.75,1830.05,2820.65,4847.35,4729.3,4017.45,1398.6,1685.9,5826.65,6066.55,270.2,168.6,536.35,1888.45,629.35,2117.25,4730.9,2033.05,5744.35,19.45,4805.3,6110.75,1596.6,1046.2,92.75,194.55,612.1,6671.7,5264.3,303.7,4818.8,7159.05,1574.5,2879.2,86.05,4159.45,6638.35,3112.05,7168.25,1326.25,2234.55,495.15,8317.95,679.8,62.8,7544.0,1188.25,74.1,3242.5,1240.15,4111.35,5899.85,5193.2,7530.8,5460.2,1614.2,402.5,1367.75,7962.2,3810.8,3533.6,1396.9,1646.45,2680.15,2049.05,3629.2,202.3,147.5,86.35,579.0,3131.55,3928.3,187.75,1710.15,2151.6,1221.55,1496.45,1292.2,25.15,1713.1,1748.9,1114.55,609.1,null,141.6,4688.65,563.05,5985.0,373.5,2553.35,4322.85,250.8,4549.05,1359.5,178.85,633.85,5315.1,735.5,6474.4,4421.95,4904.85,4484.05,2033.85,538.2,2192.9,19.85,3858.05,854.8,5815.15,3970.4,3058.15,6145.2,129.2,1165.9,4904.25,5632.55,1643.25,740.55,4888.2,2440.25,620.55,20.35,6840.95,319.6,1938.05,294.5,58.3,546.45,797.1,1673.8,343.45,7412.25,4039.0,2948.6,6078.75,3418.2,6603.8,3166.9,865.75,6373.1,1177.05,5985.75,7869.05,936.7,741.4,6585.2,3122.4,1088.25,615.35,2908.2,739.9,593.85,7227.45,1291.35,2023.55,153.95,5458.8,5244.45,154.55,4507.15,2031.95,50.05,473.9,106.8,152.6,1199.4,2555.05,2979.2,654.85,3834.4,4586.15,5941.05,2234.95,666.75,547.8,74.6,571.15,1756.6,5731.45,156.85,2683.2,4456.65,6998.95,36.8,2265.0,1309.15,4754.3,1235.55,3562.5,7213.75,5914.4,51.25,1282.85,4738.85,19.55,795.65,4993.4,61.45,4018.55,6081.4,1478.85,243.65,2633.95,4735.35,1247.75,3794.5,1008.7,2130.55,5727.15,1372.9,1203.9,1215.1,2877.05,1579.7,5514.95,96.1,55.25,2443.3,335.4,7002.95,158.95,293.15,1493.75,1093.4,1057.85,882.55,300.4,1436.95,475.0,5388.15,5730.15,217.1,4896.35,1434.1,937.1,1474.9,6536.5,1128.1,2199.05,457.1,566.5,2471.6,3107.3,518.3,832.3,45.3,1790.6,246.6,261.65,4509.5,5480.25,653.15,1183.05,639.45,478.75,20.05,4391.45,270.6,3975.9,1497.05,780.15,3512.15,273.25,3517.9,3375.9,7508.55,1245.05,5347.95,493.65,1263.85,385.55,84.2,1638.7,120.25,4473.45,520.55,5717.85,4312.5,6511.25,1218.65,7447.7,279.5,5720.35,3121.45,6468.6,675.6,3521.7,923.1,1110.35,1611.65,5553.25,44.75,3231.05,5129.45,1191.2,866.4,2627.2,4741.45,4009.2,43.8,3707.6,220.45,1133.7,1983.15,5746.75,134.05,6230.1,573.05,3419.3,3801.3,4859.1,1439.35,592.75,1185.95,18.8,4921.2,901.25,4859.95,1139.2,7082.45,663.55,174.65,321.7,5125.5,548.9,7031.3,5016.65,611.45,319.85,153.3,7035.6,344.2,1431.65,1849.2,6083.1,426.65,1655.35,1943.9,314.95,804.85,465.7,6669.05,1161.75,947.75,8375.05,3770.0,4707.85,6152.4,958.1,943.0,425.1,5044.8,6743.55,196.4,2093.9,417.75,1725.4,1620.2,3169.55,5233.25,967.85,438.05,1421.9,323.15,318.6,163.7,2928.5,100.35,273.2,1608.15,1441.95,2168.15,3618.7,5692.65,5969.3,19.05,8100.55,313.45,6130.95,745.3,1212.1,1583.5,4162.05,1119.9,8013.55,1102.4,5832.0,4304.5,1421.75,6827.5,4698.05,654.5,3268.05,4362.05,1386.9,415.4,2614.1,1513.6,3161.6,80.95,4676.7,6526.65,583.3,8078.1,3503.5,6669.45,1292.65,48.75,7108.2,1802.55,1505.15,1859.1,168.5,6339.45,1652.4,6392.85,4599.15,1134.25,1621.35,2722.2,3058.3,1769.6,6293.75,1642.75,578.5,954.9,43.85,1490.4,280.0,1901.25,716.4,4720.0,930.95,6770.85,1835.3,1588.25,75.5,258.35,1502.25,19.2,6929.4,4453.3,3244.4,323.45,1401.15,1739.6,5931.0,2333.85,949.85,572.45,696.8,1381.8,47.95,45.0,4931.8,116.95,1261.7,3273.8,1415.85,3958.2,2492.25,279.2,1083.0,755.5,3252.0,936.85,3857.1,1378.45,2566.3,171.0,1597.4,4744.35,6721.6,44.05,1734.65,45.55,4539.35,804.25,5011.15,3574.5,8086.4,4563.0,6362.35,67.1,1156.55,1834.15,1477.65,1706.45,3953.7,1327.85,419.7,207.35,1083.7,2007.85,5882.75,2657.55,1612.2,76.65,260.7,6441.85,266.8,962.25,1382.9,571.05,1399.35,150.0,167.2,7657.4,865.05,6153.85,174.2,1269.6,6352.4,1348.5,471.55,5931.75,1404.65,726.1,1961.6,4194.85,81.05,76.95,5809.75,20.2,415.9,996.95,3145.15,265.3,20.9,21.05,4576.3,189.1,908.15,49.8,1500.95,5099.15,6385.95,6885.75,668.85,1916.2,4613.95,7261.25,2459.8,2048.8,163.55,2888.7,2421.6,2292.75,553.4,3465.7,1291.3,5200.8,3237.05,433.75,1868.4,5728.55,390.4,2845.15,3894.4,886.4,1021.55,268.4,2204.35,6398.05,1662.05,3600.65,1329.15,422.5,4627.65,6717.9,637.4,117.95,2460.55,5731.85,4616.1,589.25,750.1,1410.25,743.5,3865.45,6825.65,1340.1,1184.0,8477.7,7382.85,456.85,331.6,134.6,125.5,2511.3,2737.05,74.3,70.6,6404.0,165.35,1867.6,1043.3,128.6,7455.45,24.7,206.15,5869.4,3377.8,1346.2,4946.05,4964.7,4085.75,6224.8,3415.25,6325.25,1683.6,3966.3,608.5,2896.6,1514.85,6792.45,4669.2,6302.8,779.2,283.75,5594.0,772.85,857.8,7554.05,5981.65,1702.9,467.15,1941.5,1932.75,1423.05,970.85,5810.9,223.9,391.7,811.65,174.75,3126.85,6841.45,1406.65,834.7,3157.0,3092.0,2168.9,980.35,65.95,711.9,1952.8,4368.85,2647.1,8477.6,4528.0,1790.65,845.6,1210.3,20.45,854.45,2429.1,5229.45,44.45,3023.55,2032.3,436.9,20.15,5893.95,1430.05,313.0,3871.85,458.1,341.35,1336.8,2181.75,147.75,818.45,7133.45,348.8,128.6,4674.4,1737.45,1498.85,50.1,1797.75,498.1,5498.8,4845.4,369.1,6096.9,2684.35,6994.8,273.25,5483.9,4985.9,1258.35,111.4,43.95,308.1,383.65,1284.2,7550.3,1110.05,99.6,6707.15,4164.4,5873.75,109.25,862.4,8564.75,926.2,1718.2,5956.85,4824.45,1238.65,672.2,382.2,4264.6,1070.7,1345.85,1045.25,3003.55,7537.5,3343.15,161.15,7028.5,5232.9,225.85,274.7,3370.2,7111.3,5958.85,5999.85,1648.45,5753.25,4492.9,3956.7,1309.0,813.45,1108.8,7349.35,294.2,929.2,754.5,3883.3,1414.2,3211.2,371.6,1246.4,95.85,2545.7,6448.85,1468.9,1013.6,6690.75,7240.65,830.25,1588.7,829.3,302.45,712.25,1336.65,5360.75,6735.05,51.2,1010.0,4847.05,3019.7,161.65,2583.75,7711.25,5481.25,8124.2,827.3,3673.6,49.85,576.65,4495.65,340.35,1789.9,908.55,157.55,581.7,420.45,7576.7,4965.0,6151.9,45.2,5420.65,2627.35,743.75,6589.6,6733.15,3410.0,199.85,593.3,7288.4,5229.8,4464.8,5068.05,401.85,4451.85,6688.95,2661.1,73.05,1211.65,7030.65,1020.2,5597.65,6223.3,1024.65,82.9,7789.6,2067.0,3452.55,5468.95,1802.15,733.55,3021.45,3687.85,1391.15,274.35,1322.85,2196.3,7843.55,3211.9,130.15,692.35,85.5,6849.4,203.95,2117.2,6565.85,424.75,3306.85,168.9,253.8,197.4,3838.2,2065.15,5064.45,1140.05,2447.45,1263.9,1838.15,44.75,1185.0,1743.9,8529.5,6549.45,7806.5,25.7,6287.3,3251.85,50.6,7904.25,729.95,2654.05,5969.95,226.8,1082.75,565.75,4370.75,90.05,2169.4,550.6,55.45,6300.85,160.05,436.6,1781.35,5552.5,2835.5,3591.25,63.75,617.15,870.25,601.25,111.65,6046.1,3923.8,892.15,1682.05,3398.9,4984.85,305.55,507.9,2673.45,389.8,2401.05,651.55,156.1,2796.35,70.05,407.05,511.25,646.05,4903.15,1653.85,1306.3,463.6,60.65,824.85,2094.65,438.9,329.75,674.55,162.55,7887.25,1972.35,490.55,683.25,8058.85,294.45,1719.15,1160.45,5199.8,5163.3,162.3,883.35,1341.5,70.45,659.45,1205.05,4917.9,599.3,1733.15,4677.1,119.3,4849.1,5424.25,5878.9,244.85,220.75,4261.2,1501.75,89.75,255.5,2509.25,1440.75,5333.35,3895.35,869.9,512.25,814.75,388.6,93.45,1389.85,2894.55,4025.6,1354.4,1856.4,926.0,682.1,1778.7,1816.2,7069.25,1841.2,2656.7,1689.45,1054.75,7334.05,2404.85,171.45,2839.45,3942.45,873.4,1529.65,6991.6,715.0,1681.6,4016.2,3281.65,7317.1,6474.45,8164.1,1325.85,1654.85,7795.95,3952.45,2495.15,876.75,4263.45,1992.95,1982.1,562.7,33.7,1090.1,227.45,1250.85,37.2,892.7,487.75,3713.95,141.7,678.2,8425.3,7061.65,3364.55,332.5,5963.95,278.85,1871.85,4303.65,1753.0,617.65,5935.1,982.95,2974.5,198.7,1275.65,4003.0,3791.6,813.3,780.25,552.9,408.25,2191.15,5611.7,246.25,1296.15,7082.85,5662.25,1215.45,7854.15,525.0,5265.2,70.1,7129.45,7266.95,8496.7,2878.75,261.3,3205.6,1137.05,6697.2,505.45,1299.8,5564.85,1381.8,188.1,1077.05,4922.4,2911.5,826.1,83.4,5377.8,3617.1,6643.5,1559.3,7987.6,1547.35,2142.8,287.85,19.8,4534.45,40.9,2094.9,1584.8,1302.65,55.55,5437.75,2209.15,1912.15,255.55,5175.3,670.65,3177.25,6557.75,5791.85,3055.5,5196.1,8405.0,5000.05,6713.2,562.6,91.45,828.85,617.35,625.05,6029.9,1842.7,7386.05,7334.05,2626.15,8277.05,369.25,1049.05,1414.8,169.75,4354.45,2719.2,6365.35,51.6,3190.25,812.5,1143.8,44.0,3297.0,1887.0,2215.4,482.8,216.45,20.45,5064.85,996.45,839.65,6733.0,2618.3,4084.35,613.95,402.85,1244.8,46.4,581.85,1540.2,5168.1,6780.1,94.5,55.3,208.0,3829.75,5294.6,6889.8,3254.35,6383.9,4447.55,7321.05,4135.0,697.7,168.65,2753.8,69.25,434.8,107.25,851.2,5848.6,109.8,19.65,595.5,2513.5,5135.35,2000.2,931.75,7396.15,3958.85,260.9,816.8,4868.4,688.0,288.35,185.4,966.25,265.8,3297.0,4107.3,2809.05,1567.55,1851.45,6028.95,2072.75,4317.35,736.8,336.15,1522.65,4959.6,1001.5,442.6,6703.5,779.25,3483.45,4890.5,136.75,184.15,1315.0,6767.1,757.95,1657.4,3008.55,8165.1,875.55,220.65,1301.9,790.0,1237.65,378.6,592.65,50.15,20.45,3638.25,2921.75,4017.45,854.9,4174.35,4920.55,810.3,772.4,1936.85,79.8,202.25,1070.5,999.9,113.1,2015.8,1454.25,246.7,6017.9,5817.45,5595.3,4765.0,1201.65,867.3,50.15,3007.25,252.75,6306.5,6841.05,44.6,226.2,7082.5,1017.35,527.35,2146.5,5969.85,1014.25,1225.65,386.5,1850.65,1043.4,1910.75,716.1,1686.15,6716.45,7839.85,6236.75,2919.85,20.45,717.5,253.8,1110.05,348.8,3888.65,6843.15,450.9,432.25,1742.45,297.35,2444.25,949.8,2970.8,3334.95,2010.95,4684.3,2181.55,1303.25,371.4,2409.9,6155.4,4667.0,5153.5,8182.85,69.9,6683.4,1564.05,755.6,3465.05,6292.7,1664.3,198.1,6045.9,4108.15,5980.75,5043.2,7114.25,907.05,973.95,605.75,661.55,4116.9,4494.65,3282.75,55.7,1274.45,493.95,5038.15,324.2,19.55,2793.55,648.65,917.15,1346.9,672.7,6561.25,268.45,7337.55,5194.05,4478.85,196.9,439.2,19.5,2107.15,3035.8,1866.45,1430.95,1071.6,6457.15,684.05,3914.05,3842.6,670.35,7880.25,19.2,3371.75,442.45,20.4,2345.55,25.25,1156.35,144.8,414.95,181.8,2212.55,459.95,211.95,25.0,3162.65,210.65,3566.7,2080.1,4040.2,5186.0,1087.45,1672.15,1113.95,107.05,38.15,6339.3,184.1,1688.9,137.6,369.05,7553.6,1813.1,3321.35,707.5,7112.15,4641.1,49.9,3094.65,6518.35,82.7,6342.7,2030.75,6700.05,7244.7,3486.65,411.15,1559.15,970.4,828.2,3810.55,1493.2,45.8,777.3,4911.05,187.35,307.6,4318.35,4820.55,3038.55,2136.9,7472.15,2296.25,38.45,3043.6,1506.4,163.7,1640.0,3846.35,5646.6,79.05,1516.6,2224.5,888.75,4310.35,42.9,353.65,5073.1,4526.85,678.45,1237.3,1023.95,8182.75,4532.3,1444.05,19.1,7325.1,3474.2,392.65,3990.75,7475.85,835.5,1718.35,1193.55,1205.5,5776.45,78.9,1025.15,122.0,6602.9,1712.9,5682.25,74.3,3635.15,702.9,4454.25,1117.55,930.05,110.15,1669.4,3545.1,504.05,440.2,1151.55,2475.35,1249.25,317.75,535.05,461.3,335.75,3121.4,324.8,1394.55,3413.25,3143.65,439.75,664.4,4759.55,1033.0,3482.85,2688.45,435.25,307.0,2689.35,1281.25,3527.0,561.15,63.6,5129.3,4285.8,5894.5,1160.75,3091.75,272.95,3632.0,381.2,1035.5,52.0,653.9,71.2,4178.65,1821.8,4024.2,55.25,6520.8,854.9,8308.9,109.2,92.05,3420.5,4068.0,337.9,3168.75,1412.4,3974.7,3439.0,42.45,5461.45,571.75,5498.2,96.85,111.05,94.4,923.85,141.1,628.65,5576.3,1245.6,1287.85,1939.35,118.25,452.55,2696.55,875.35,1267.05,494.9,799.0,106.9,710.05,568.2,8012.75,551.3,184.95,1096.65,3684.95,1752.45,7210.85,5264.5,2157.3,24.4,433.95,5607.75,4433.3,964.35,1460.85,951.55,1821.2,1600.95,399.25,3634.8,292.4,218.55,5071.9,1423.35,3068.6,4690.65,6157.6,1442.65,3369.05,4671.65,272.35,3645.05,135.75,1319.85,229.4,370.25,5714.2,1233.25,3571.6,83.3,8035.95,579.4,7634.25,3653.0,241.3,3870.3,387.9,527.5,2104.55,20.3,19.2,3019.1,7051.95,1190.5,4448.8,1011.05,1714.95,535.35,75.55,6273.4,70.25,908.75,null,212.3,316.2,1079.05,564.65,6161.9,2106.05,2511.55,318.6,7323.15,186.05,454.0,7521.95,999.8,2369.7,6297.65,1461.45,416.4,4869.35,3265.95,358.15,2939.8,4652.4,4408.45,580.8,2495.2,5913.95,1389.35,19.4,1629.2,6033.1,44.4,3320.75,1867.7,3972.25,155.9,3673.15,70.6,1126.75,73.45,2413.05,6912.7,1581.95,5586.45,5846.65,6424.7,6018.65,3373.4,1537.9,1080.55,82.85,2016.45,5327.25,683.25,1263.05,7714.65,130.5,2621.75,1875.25,837.5,401.5,6118.95,6480.9,1800.05,7104.2,4214.25,1992.2,1948.35,1007.9,5036.9,6859.05,6521.9,617.85,157.75,516.3,2364.0,6239.05,2042.05,2807.1,4116.8,1317.95,4594.65,6332.75,3213.75,4976.15,7308.95,4555.2,44.95,6982.5,1025.15,5714.2,19.5,789.55,4834.0,3131.8,3369.25,2674.15,199.75,1790.8,19.7,1400.3,411.6,741.0,5841.35,5688.45,31.9,6674.65,1345.75,1843.05,1433.8,214.55,865.85,1358.6,3147.15,4535.85,1078.75,542.4,2312.55,3250.45,98.5,87.9,1952.25,153.8,5610.15,4519.5,2440.25,6860.6,1377.7,190.25,1651.95,78.3,7939.25,44.9,576.7,1279.0,1260.7,267.35,6586.85,934.15,19.45,3645.6,314.45,3053.0,677.05,7965.95,140.1,1108.0,295.55,198.25,6741.15,79.15,1355.45,7209.0,7726.35,2070.75,1636.95,7581.5,4729.75,6126.1,6333.4,6687.85,4158.25,7149.35,1429.65,472.65,113.5,1884.65,2568.15,470.0,278.4,2595.85,5825.5,4449.75,1956.4,310.6,290.55,2096.1,2665.0,543.8,20.35,3005.8,1623.15,2586.0,3292.3,4674.55,232.35,2448.5,658.1,3128.8,653.95,1825.5,943.1,359.4,2338.35,46.3,3541.1,1087.25,2522.4,717.3,1734.2,7069.3,742.9,6423.0,4220.35,1558.7,2743.45,4055.5,6055.55,2538.2,6129.2,1750.85,6652.45,2575.45,6019.35,1379.6,1284.2,296.15,653.25,412.6,1928.7,71.25,7845.8,1750.7,216.2,6029.0,3721.9,3121.1,990.45,1004.35,157.65,3219.75,572.85,4554.85,1847.55,1766.75,1462.05,2193.2,2433.5,641.15,2398.4,861.85,583.0,7332.4,249.55,4475.9,788.6,202.3,6994.6,2263.45,1374.35,4915.15,838.5,20.5,2044.75,30.55,1398.25,3778.2,3161.4,2188.45,3990.6,2635.0,235.0,2347.85,3089.6,2901.8,4949.1,2198.9,761.95,190.25,5163.0,4059.85,2281.6,1356.7,231.45,50.75,242.4,4264.25,2774.55,4069.9,874.2,1323.7,5497.05,534.7,2455.05,947.4,357.0,1476.25,5903.15,1201.65,146.65,1759.4,844.45,7774.05,134.05,140.95,1701.65,592.65,135.75,7732.65,4282.4,2018.1,224.85,3771.5,943.85,6572.85,3175.85,29.15,20.05,2762.75,49.55,232.5,5919.35,749.25,245.15,134.75,8240.85,4266.4,1077.5,1115.6,4079.55,2391.15,890.5,137.25,3119.9,529.5,966.55,6936.85,1929.0,5817.7,178.8,435.0,186.15,445.85,912.0,3581.6,4222.95,5930.05,20.0,797.25,1359.45,54.7,989.05,44.55,87.3,351.55,7297.75,6301.7,3822.45,1048.45,6393.65,1489.3,8061.5,518.75,5763.15,238.5,1031.7,null,34.8,1319.95,3950.85,827.05,533.5,3756.45,2599.95,284.3,1740.8,2462.55,411.75,198.6,103.7,4089.45,864.2,19.65,3249.4,5405.8,3363.8,7132.15,93.55,4138.9,5121.75,566.1,2715.3,1782.05,1742.5,24.0,485.9,1905.7,4858.7,3723.65,970.45,1782.0,405.7,2415.95,8297.5,2083.1,4681.75,176.2,1001.2,1594.75,212.4,7677.4,259.65,2386.85,340.35,419.35,7990.05,1402.25,749.35,8425.15,1171.5,5647.95,708.8,7567.2,29.9,4348.1,635.9,1682.4,6925.9,223.15,6758.45,1874.3,791.15,4639.45,143.9,6172.0,1559.45,6079.0,2658.4,383.55,1745.5,2230.85,7281.6,1837.7,180.7,411.45,1328.35,576.95,68.45,123.05,468.35,174.7,44.0,172.35,300.4,4968.0,992.7,5536.5,7806.6,1563.9,1332.4,6296.75,3645.5,161.45,226.95,1441.65,7511.3,5621.85,7919.8,593.2,1423.65,69.95,2763.35,2298.55,2640.55,2911.8,6705.7,237.65,1672.35,695.75,1654.6,1857.85,825.1,6424.25,4126.2,330.8,1337.45,5991.05,4891.5,487.05,4131.2,2301.15,4036.0,4900.65,5727.45,743.05,4804.65,1414.65,1443.65,2898.95,5309.5,20.4,451.55,117.05,5839.3,1893.5,45.35,1654.45,477.05,4546.0,163.2,849.9,189.95,8058.55,7049.75,2560.1,286.8,7982.5,5683.6,3994.05,369.15,4631.7,401.95,1534.05,1093.0,701.3,1980.3,2893.4,262.3,3886.85,5917.55,2139.1,5948.7,3624.35,4753.85,5780.7,6869.7,662.95,1765.95,2431.95,1859.2,3409.1,709.5,50.15,3665.55,5515.8,272.0,6668.0,4052.4,664.4,718.55,2546.85,6944.5,1346.3,765.15,692.55,1187.05,5401.9,247.0,49.9,1370.35,20.25,2215.25,74.0,214.4,1871.15,6171.2,161.45,1013.2,336.7,333.65,6511.8,393.45,7009.5,6921.7,600.25,4664.15,1441.8,5623.7,695.85,1028.75,4155.95,395.6,6330.4,2971.7,638.0,2034.25,3419.5,2427.35,1760.25,3551.65,122.9,1424.2,2909.95,374.0,5581.05,5676.65,3379.25,942.95,232.4,2088.45,1434.6,3870.0,2215.0,842.25,1901.0,601.6,605.45,3094.05,4929.55,595.05,8436.25,19.75,492.0,987.95,5496.9,1908.35,107.1,4575.35,4309.55,7922.75,522.35,587.7,3876.2,3778.85,8349.45,19.5,1066.9,1226.45,342.3,985.05,3948.45,828.05,6164.7,33.6,20.7,6590.5,717.95,4885.85,6871.7,405.6,208.25,1801.9,3062.45,1764.75,1816.75,1255.1,3921.1,1463.45,189.45,96.8,408.5,1846.65,8456.75,1011.5,4263.4,2549.1,3965.05,7840.6,6632.75,1013.35,152.95,3772.65,1026.35,19.3,5031.85,220.4,1416.5,158.35,5542.55,8443.7,5708.2,2016.3,326.65,5471.75,19.95,1061.6,1971.5,19.75,2460.35,856.5,1275.85,7467.5,7261.75,5116.6,660.05,6590.8,1208.15,1033.9,1885.15,2006.95,5025.0,3088.25,3134.7,8312.4,4863.85,6637.9,3165.6,6786.1,543.0,867.3,25.75,109.5,4692.95,546.85,1274.05,1782.4,5301.1,280.35,2897.95,3371.0,801.3,1079.45,6997.3,979.05,4119.4,3349.1,492.1,1718.95,605.25,1344.5,4267.15,1121.05,918.7,521.8,4469.1,1729.35,1073.3,4566.5,2603.1,1783.75,6322.1,57.4,4284.65,7138.65,1539.75,1058.1,123.8,2731.0,20.75,497.3,711.15,1898.1,3273.95,2929.75,838.7,1443.65,7746.7,6951.15,214.75,2669.45,235.2,3103.25,5330.2,1403.1,2727.8,5038.45,1462.6,150.6,5960.5,1192.3,314.55,56.0,330.8,877.35,2249.1,2807.65,1696.2,1032.05,4902.8,4995.35,5034.05,1857.75,1992.85,1714.95,343.6,20.15,520.1,1387.45,7383.7,4483.95,1706.45,1327.4,5974.3,null,179.85,5040.2,422.7,20.25,358.05,2936.25,1271.8,530.05,19.2,1144.6,7556.9,4858.7,6595.0,149.05,4972.1,2045.55,2187.15,2976.95,178.7,5025.85,3353.4,1461.15,2782.4,1699.15,452.2,4428.45,1322.55,139.75,1927.3,3000.25,3021.3,2245.4,944.65,1264.2,4917.75,5743.3,1864.65,1221.65,1390.85,302.35,1374.9,1336.9,1297.8,6067.4,1222.25,487.95,2548.55,835.5,44.75,6218.45,7320.9,6333.8,4200.25,5950.2,93.4,1614.9,1573.95,1468.75,2607.6,1523.4,3435.6,4549.45,322.5,5375.15,2510.7,3090.05,61.05,955.6,140.4,1493.1,1626.05,1784.9,70.35,6075.9,5500.6,73.1,3399.85,6431.05,19.75,1230.9,454.65,235.05,6595.9,5867.0,196.35,6449.15,762.45,785.75,1776.0,5396.25,574.5,400.3,2656.3,1445.95,5212.65,2244.95,1130.0,6463.15,6252.7,2062.15,587.1,720.45,2979.3,956.65,3973.2,447.9,1335.2,7555.0,49.0,836.35,20.95,2570.0,798.2,44.15,6487.2,1556.85,1988.05,5432.2,147.55,8424.9,2203.7,387.4,3045.75,130.5,767.9,446.8,8100.25,4689.15,6754.35,3540.65,2184.6,130.55,1540.35,6411.25,1432.55,7629.85,101.9,313.4,6312.9,629.55,2640.55,1372.45,1212.25,6237.05,6310.9,5031.0,8672.45,2196.45,3008.15,220.8,5779.6,222.65,914.6,246.3,5560.0,1633.0,969.85,2610.65,6567.9,4747.85,1759.55,101.1,6496.15,4234.15,300.7,59.55,4323.35,1466.1,1776.45,2933.95,144.35,4804.75,1125.2,39.85,422.4,8332.15,314.6,4331.4,6382.0,600.15,5538.8,7049.5,690.5,279.3,1427.55,1709.15,53.15,777.35,860.85,5012.1,2404.1,24.4,209.9,610.75,70.7,155.35,144.0,7875.0,911.6,478.1,761.85,2282.95,1615.1,1097.15,369.3,6725.3,6293.2,432.5,2434.45,532.1,375.25,125.95,1042.65,1620.25,659.35,1285.8,377.55,6058.95,964.9,2322.85,4854.3,7748.75,6470.1,57.4,2019.8,1522.7,1334.5,252.0,700.45,5655.45,6747.35,5174.35,105.6,2271.85,2966.95,61.15,494.95,5290.45,3346.8,5219.65,217.5,607.7,5431.4,6004.85,5957.9,5442.05,4370.25,4428.6,416.45,6688.1,4224.7,4042.2,3580.95,1198.8,1755.35,3772.5,2877.95,357.7,1397.3,959.9,3704.15,4620.4,8312.75,929.3,1285.05,1521.2,3389.25,1198.05,3414.65,754.0,467.15,373.0,481.1,1728.2,2964.05,2156.25,1051.9,5013.0,1738.9,2275.1,5511.65,1316.9,7993.3,19.85,1388.45,666.0,94.45,4134.7,4862.5,351.5,106.2,1413.0,1743.05,657.5,1050.5,426.35,4982.5,19.55,7634.8,235.05,3116.15,2633.4,49.65,4920.8,46.35,5276.1,8289.2,2659.45,196.75,5824.75,1517.5,3479.05,7365.7,1331.05,1195.95,3946.9,4299.95,20.3,4391.25,4213.9,19.9,5017.7,4916.4,2959.8,7559.55,7133.1,1799.3,1597.05,524.35,4191.45,711.95,2201.75,806.95,1620.45,6812.95,1837.9,7344.45,1500.25,2283.15,1376.5,755.4,825.4,488.65,2075.1,5299.65,1356.3,5042.75,812.4,6605.55,505.95,3509.4,6991.9,590.35,2789.7,1123.15,7953.25,349.8,1067.05,3527.3,1248.9,3035.35,4300.8,6065.3,144.95,2308.6,1882.8,3255.35,1067.65,2065.4,4136.4,3848.0,8022.85,173.15,781.25,4510.8,5317.8,4779.45,250.1,1745.2,4140.1,3670.5,1167.8,469.65,1381.2,3645.5,1158.85,6954.15,1672.1,4307.1,6141.65,1054.8,5430.65,849.9,151.75,299.4,1086.75,2692.75,1389.6,3767.4,3641.5,2535.55,6880.85,3753.2,637.55,5329.55,44.55,1539.8,2209.75,223.75,7751.7,1174.35,4385.05,2606.35,18.9,1261.35,5969.3,253.9,400.0,227.35,2357.75,198.5,554.25,251.65,5597.65,768.05,1215.8,3522.65,910.45,3656.25,52.0,150.85,389.25,1873.7,1261.0,7346.2,3708.4,469.65,1385.85,548.8,2536.55,6042.7,958.25,1730.65,459.6,201.95,285.2,1529.45,4664.5,3496.3,7053.35,301.55,312.7,2960.1,6953.4,541.5,116.85,7942.15,5321.25,4156.8,223.6,768.45,3765.05,2157.5,1391.65,1379.8,1273.3,810.45,1810.85,7782.85,1797.1,377.85,445.3,7624.2,355.1,906.85,1057.55,19.4,1388.75,1641.3,185.2,1826.7,417.5,344.5,2180.55,2835.9,45.15,2730.85,5437.1,5794.45,747.2,1267.95,3674.95,1275.6,5893.9,724.65,1536.75,607.3,4154.55,847.8,2390.45,1923.5,1493.2,75.35,2184.85,1031.4,921.3,3875.4,144.15,6689.0,1451.1,6368.2,3729.6,350.1,2847.2,452.35,1494.5,41.85,1272.05,475.1,150.75,3199.0,5844.65,2462.6,6263.8,3403.4,1672.1,7881.2,2320.8,370.5,3043.7,2723.4,1081.25,4097.05,632.2,8166.8,4113.7,3047.15,4193.4,3729.75,399.45,1964.6,1336.15,486.05,5925.75,4747.2,1028.9,4692.55,19.75,154.3,6382.55,7623.2,1261.45,89.25,86.05,6779.05,4345.0,82.85,1714.55,893.2,810.85,6347.55,1123.65,43.15,35.1,1388.0,3851.45,2638.1,946.95,1114.85,1777.6,684.85,74.35,1312.45,159.2,610.2,404.35,6363.45,4124.65,950.75,19.65,505.95,1149.65,169.65,393.15,1147.0,5718.2,4539.6,6397.6,280.4,5711.05,3478.15,4133.95,2917.65,54.3,2964.8,2198.3,1189.9,1914.5,5336.35,7238.6,7998.8,5703.25,7397.0,164.6,6555.2,225.65,955.75,3382.3,2313.8,780.85,7852.4,2763.0,1614.7,270.15,null,20.6,1734.5,7047.5,573.15,1538.6,4459.8,7459.0,306.05,639.7,348.15,5563.65,40.25,4228.55,784.45,3729.75,1406.9,1857.3,7322.5,6725.5,3627.3,1725.95,4192.15,1411.2,264.55,4671.7,1173.55,7713.55,2471.25,7842.3,2227.8,2351.45,2989.6,6077.75,4070.95,2479.05,2134.3,6000.1,2203.1,183.15,6194.1,638.95,831.75,1337.5,7181.95,2560.1,5953.0,1790.15,2531.4,4760.3,953.65,5705.05,20.55,6993.65,4122.65,5762.95,1537.85,2603.3,5566.4,5431.9,2258.25,1092.35,6401.25,616.9,1912.85,849.1,3460.3,90.1,5555.3,1278.8,2907.35,4952.95,4504.9,4520.15,2316.85,8075.35,2302.35,7251.9,2078.55,6225.4,1242.25,99.45,599.25,3462.1,2375.2,2813.05,6314.35,19.1,1003.05,1593.1,2509.95,3187.65,3330.1,5522.7,4798.4,8594.4,970.55,7665.8,3686.05,2537.0,1393.6,89.35,4445.3,978.6,1258.15,331.35,84.75,1715.1,1715.15,1250.1,3996.8,5215.1,673.2,1442.2,5222.35,7291.75,424.5,249.4,4415.75,5270.6,2884.9,253.0,436.2,118.4,3649.6,255.6,2395.05,5083.55,644.5,39.3,989.05,2406.1,638.55,191.1,4524.05,4664.2,3470.8,6910.3,4014.2,1288.0,6375.8,5251.75,1505.45,913.3,5535.8,815.55,1411.65,5602.25,8244.3,741.5,4375.8,5968.4,3096.9,3901.25,2613.4,5661.7,695.05,5552.05,3275.15,4236.6,54.5,962.9,1498.35,1233.15,4882.8,5411.65,148.05,3930.55,6895.5,6856.95,2658.8,3766.2,129.55,581.7,929.45,679.0,3846.75,4480.7,499.4,1553.2,219.5,5311.85,2576.8,6435.25,1993.25,1923.85,939.8,84.6,5986.55,5487.0,651.5,45.4,6856.45,50.75,4735.2,682.15,4525.8,321.05,335.65,1424.4,1748.55,1077.95,3694.45,382.8,746.75,368.85,20.2,1654.7,1940.85,1794.65,5289.8,501.2,6140.85,48.45,309.25,6179.35,55.7,4589.85,3735.45,477.55,2553.7,1342.15,1216.35,7578.05,2603.95,42.7,6056.9,2983.65,689.35,2025.1,1747.2,4657.95,8016.6,433.5,5883.85,1043.8,1857.25,146.4,1724.15,429.55,356.15,488.25,1298.7,1378.75,384.25,8543.25,389.95,5731.85,20.65,4275.75,84.5,1924.1,5784.3,5166.2,4060.55,3532.85,4914.8,5315.8,775.6,5445.95,1007.8,833.55,1004.5,1183.05,501.35,4126.35,477.6,265.75,2424.45,1849.95,61.05,1698.55,998.1,1383.6,493.4,1207.0,563.5,864.55,701.05,5749.8,2796.45,5165.7,5696.6,2076.05,44.2,215.25,1859.5,7470.1,2092.9,5629.55,469.85,733.95,485.25,78.25,1131.5,184.05,1178.75,5629.15,109.3,958.45,403.15,4392.5,3168.0,1096.6,669.45,2343.85,48.6,7511.9,1725.0,49.75,1691.9,2248.05,4479.2,3471.1,63.0,3314.15,852.7,1930.9,91.4,3949.15,4304.0,1554.9,3472.05,117.8,3210.35,207.4,19.75,3132.75,2106.3,35.0,903.7,3882.3,879.8,383.65,4390.25,68.2,452.8,5329.0,1758.9,5737.6,1219.85,2414.55,1155.6,1809.35,1564.4,19.65,84.4,864.85,228.75,7752.05,470.6,4060.9,108.65,3952.65,494.05,3416.85,1498.65,4807.35,471.35,1041.8,7689.8,1815.0,1311.3,199.45,1637.3,1326.35,6376.55,935.9,20.05,1611.15,6989.7,2779.5,8331.95,735.9,2283.3,1445.2,2333.05,1992.55,5890.0,1029.8,1796.55,33.7,454.05,1392.25,1049.6,734.6,475.1,1540.05,1978.65,3181.8,229.7,5625.55,1347.15,3808.2,3974.15,7661.8,2479.25,266.6,5601.4,1982.6,339.9,4828.05,5980.55,4808.7,20.3,1068.15,2383.6,1438.05,917.45,6096.45,99.95,475.2,2036.55,6444.05,767.55,7932.5,4040.65,2768.65,1672.35,1345.65,2425.4,2077.95,1663.5,1286.05,1094.35,7719.5,514.6,4932.5,5443.65,330.25,122.7,6631.85,8250.0,3561.15,1763.55,2419.0,470.2,5234.95,3097.0,1709.1,1848.8,723.3,577.15,6914.95,602.9,124.4,96.8,3827.9,533.05,2961.4,995.35,2815.25,154.8,257.6,5757.2,7517.7,1234.8,3836.3,6001.45,720.1,2832.75,472.25,1336.35,6388.65,677.9,1165.6,921.55,72.0,68.35,847.25,44.0,4295.35,1380.4,4386.2,52.05,2018.4,2727.3,263.65,275.4,538.5,948.9,846.8,2997.45,5897.4,524.5,269.65,2341.5,1789.65,1626.4,800.3,5060.85,466.6,4627.8,6838.6,85.0,44.3,4297.6,414.1,256.6,2274.1,1296.8,1268.85,8192.6,59.25,1147.85,4361.55,2006.1,2078.95,7609.75,487.05,1218.45,1416.2,483.3,1234.6,1311.6,5618.3,6185.15,788.35,756.4,3625.2,550.35,4793.8,1267.2,5567.45,5706.2,3085.35,24.7,3541.4,84.2,50.7,1165.55,4855.35,608.15,641.35,4959.15,35.9,1321.3,1663.75,3024.15,2188.5,2724.25,413.25,1374.2,6692.65,218.5,1004.75,1125.6,3847.6,978.0,1387.35,746.05,304.6,1098.85,4368.95,827.7,20.35,262.05,3512.5,151.75,8033.1,1253.65,552.65,1036.0,4025.5,928.4,24.9,6506.15,5598.3,4374.55,678.75,2191.7,239.75,609.05,683.75,5189.75,5060.9,233.65,291.45,689.75,3263.9,1993.2,254.5,347.65,967.9,1841.9,232.1,809.25,360.55,355.9,129.15,5835.5,7031.45,109.6,727.8,893.0,763.1,781.4,902.25,1016.7,5943.65,275.7,3126.45,1070.15,340.4,4299.2,1093.2,521.9,1630.4,713.6,1265.65,4003.85,1401.4,1510.5,264.8,4541.9,4976.15,7542.25,251.25,1595.5,685.55,3874.1,6891.4,4916.95,1373.0,49.8,1548.65,3440.25,4226.7,1023.75,7074.4,6849.75,3263.6,1252.85,67.55,70.2,5750.0,1549.75,1810.55,7467.55,5484.4,294.9,97.5,19.95,476.8,101.65,1130.85,3532.25,6891.45,1570.7,520.95,7854.9,3581.4,1447.9,8547.15,727.85,357.6,159.35,280.85,6069.25,3274.35,6109.65,1122.4,2020.9,3795.45,3579.15,49.7,276.5,8175.9,890.35,5588.8,50.6,58.0,938.95,2024.1,3623.95,3877.95,4577.9,25.85,2871.5,1270.55,7711.45,2193.65,31.2,38.25,3348.1,533.6,2907.55,1620.8,3480.35,293.85,4137.2,19.4,5348.65,3180.5,3023.85,1031.1,6471.85,6241.35,6501.35,2317.1,2237.55,5231.3,165.5,358.5,6614.9,2421.75,1294.6,1299.1,5733.4,7430.75,630.6,1222.65,374.8,7234.8,331.85,5088.4,4860.85,788.05,1266.35,688.2,387.7,845.25,4230.25,4983.05,4113.15,521.0,471.85,5976.9,4299.75,7548.6,1654.75,4551.5,6227.5,20.05,57.5,1474.35,3270.25,3919.15,7285.7,7658.3,5959.3,5295.7,4693.2,3512.9,5231.2,3603.45,217.45,6875.35,19.25,2021.35,2564.95,5611.75,7610.1,45.75,4543.95,450.4,1297.35,4442.75,1423.15,4378.35,74.2,450.65,1175.85,558.8,2220.1,3283.05,4939.25,4237.5,335.95,7188.5,926.25,1119.35,116.6,68.8,2341.55,1362.85,163.6,145.15,4786.1,3835.55,397.0,1027.25,1580.1,7222.75,3769.7,4233.95,1680.25,3725.5,7707.7,8309.55,601.55,139.25,1888.25,2773.9,5409.75,401.3,3238.4,1573.05,235.8,1364.75,1985.15,4335.2,647.5,2748.7,2483.65,6367.2,4904.2,2044.95,1794.8,7173.15,7039.05,921.4,4018.35,5448.6,20.25,2085.45,5135.15,730.1,118.25,1108.6,1815.65,730.4,75.45,4014.6,568.85,5860.7,7279.35,1064.95,5886.85,4238.45,418.3,136.05,708.2,788.55,4378.8,3442.8,7171.7,553.0,96.85,4122.9,1482.3,1240.8,6578.55,19.55,2802.3,857.75,184.4,6093.3,1861.1,1079.65,7475.1,2862.55,3069.45,2349.8,469.25,3301.05,3529.95,4144.9,4265.0,3246.45,8337.45,5731.4,6176.6,1905.4,931.9,776.25,5243.05,141.65,7679.65,1006.9,2540.1,3097.2,2484.0,5785.65,2619.15,1524.85,2790.65,1784.5,2276.1,2029.05,802.35,4653.25,275.9,343.45,2130.45,1191.4,2554.0,5589.45,467.7,3756.45,3334.9,920.5,3431.75,150.35,367.95,5125.75,4801.1,19.55,550.1,7862.25,1242.2,3190.65,2666.75,3533.6,792.15,295.65,1459.35,4297.95,4096.9,3454.6,1286.0,1387.0,786.3,641.25,705.45,345.5,345.9,5811.8,124.45,1375.6,3491.55,7920.7,6640.7,718.1,320.4,1334.45,3358.65,4764.0,5703.0,525.55,483.15,934.8,786.5,5364.8,20.3,770.4,6816.95,2419.55,4138.7,3457.45,4630.2,3221.25,688.5,867.1,4746.05,355.1,5764.7,428.45,1505.35,693.45,1177.95,1458.1,2298.9,1679.65,369.6,2998.0,5206.55,24.4,1959.5,2053.05,398.55,3425.35,1275.7,2965.75,1647.0,6109.75,3751.15,411.25,105.5,3320.6,5669.5,465.45,704.3,95.55,6375.2,8152.3,1566.75,130.25,162.15,110.05,1885.15,6302.85,2264.5,816.8,1253.5,41.2,5265.55,693.3,5997.1,3824.2,3886.05,7283.25,412.55,1070.25,817.95,1171.3,6548.65,625.65,1911.5,1507.0,299.3,5832.65,5567.55,4166.35,7898.45,3915.4,979.5,90.05,398.55,1958.45,63.15,1301.1,484.05,3887.85,2208.75,238.15,958.15,3845.45,1267.0,633.45,6129.65,1218.25,1405.3,533.9,676.15,3804.4,1118.8,5236.4,1386.8,1902.0,239.05,5673.7,39.8,997.75,5574.35,406.05,138.85,123.65,1801.1,689.0,790.7,1618.2,1173.35,900.9,6719.9,3784.0,1798.65,54.65,3886.45,1224.05,2310.2,3988.5,3554.6,null,6034.85,531.6,85.1,173.0,2511.95,3893.6,357.15,467.5,2288.7,6460.55,1931.3,402.6,2221.55,7758.9,224.5,7388.45,3460.95,1700.9,3090.65,1293.8,645.8,5224.95,500.1,2427.1,3488.15,1035.7,7565.35,2799.0,1601.5,6256.2,1232.9,19.9,1937.4,5059.75,3023.65,4889.2,2289.9,6503.2,1313.25,990.3,1864.2,5979.7,3902.45,7142.5,902.0,805.2,528.45,8349.7,4953.25,332.65,470.2,2259.35,1411.35,6328.7,1411.9,6841.4,20.35,238.5,4016.3,226.55,7110.75,1958.95,5528.9,1463.7,1025.05,552.1,3815.4,null,3313.4,1938.9,460.25,4839.15,19.9,5139.65,1673.4,309.35,3171.6,8670.1,916.0,299.75,702.05,19.65,4438.2,4819.75,92.25,1567.0,1242.45,559.2,531.15,1183.2,465.85,3782.4,460.2,1790.35,7767.25,876.15,4600.95,1793.25,886.7,7737.55,1686.85,1879.25,4013.8,434.5,7195.35,780.1,107.6,3801.7,3778.1,5438.95,5102.35,1872.2,213.35,5386.5,235.65,2272.8,83.75,4663.4,201.7,125.0,684.4,1146.05,1806.35,603.0,5798.3,497.6,19.3,266.95,257.0,2623.65,45.85,1082.8,147.8,2570.2,4378.9,3616.25,2924.05,32.7,2882.25,1509.9,5305.05,7985.9,2985.25,564.35,1311.75,3720.35,5025.8,5224.5,6185.8,1498.55,1208.6,6613.65,1818.9,1787.35,1051.05,7181.25,3688.6,821.6,239.45,244.45,3357.9,129.6,4977.2,2424.05,4981.15,2090.25,4905.75,2038.7,4014.0,2441.7,2751.0,1307.8,383.65,53.55,7882.5,1087.7,791.7,7493.05,6841.3,819.95,6052.25,4869.5,509.3,4308.25,221.1,3833.95,294.95,316.9,2651.2,471.7,5720.95,503.25,7365.3,7245.9,961.4,4615.9,3251.3,3880.05,3088.75,1396.0,53.05,2108.35,6770.5,4730.6,1151.05,232.55,1022.6,309.4,523.1,4250.1,770.5,246.7,3342.0,3930.6,897.75,2780.6,5895.45,2208.05,4871.45,4947.55,1558.65,4284.2,1218.25,5617.95,24.2,554.45,5237.4,2032.3,789.2,1525.35,3726.15,1652.1,1588.75,3366.05,7113.75,993.15,5012.35,2093.4,1011.8,1343.4,6794.75,1022.5,3691.2,486.2,4685.55,5150.55,3756.4,3645.75,2874.45,49.95,1020.75,826.0,239.0,7544.3,6479.4,3626.35,1679.4,931.55,4326.25,263.05,39.25,3316.1,2625.25,1495.1,743.3,1419.4,1990.5,7362.9,346.45,6844.5],\"xaxis\":\"x\",\"yaxis\":\"y\",\"type\":\"histogram\"},{\"alignmentgroup\":\"True\",\"hovertemplate\":\"Churn=No\\u003cbr\\u003eTotalCharges=%{x}\\u003cextra\\u003e\\u003c\\u002fextra\\u003e\",\"legendgroup\":\"No\",\"marker\":{\"color\":\"#636efa\"},\"name\":\"No\",\"notched\":true,\"offsetgroup\":\"No\",\"showlegend\":false,\"x\":[29.85,1889.5,1840.75,1949.4,301.9,3487.95,587.45,326.8,5681.1,2686.05,7895.15,1022.95,7382.25,1862.9,202.25,3505.1,2970.3,1530.6,6369.45,6766.95,181.65,1874.45,20.2,45.25,7251.7,3548.3,475.7,4872.35,418.25,4861.45,981.45,3906.7,97.0,4217.8,4254.1,3838.75,1752.65,4456.35,6311.2,7076.35,894.3,7853.7,4707.1,5450.7,2962.0,957.1,244.1,3650.35,2497.2,930.9,887.35,49.05,1090.65,7099.0,1424.6,177.4,6139.5,2688.85,482.25,2111.3,1216.6,565.35,4327.5,973.35,918.75,2215.45,1057.0,927.1,1009.25,2570.2,74.7,5714.25,7107.0,7459.05,4748.7,1107.2,20.2,19.45,3605.6,3027.25,100.2,7303.05,927.65,3921.3,1363.25,3042.25,3954.1,3423.5,248.4,1126.35,835.15,2151.6,5515.45,112.75,350.35,62.9,3027.65,1723.95,19.75,3985.35,1215.65,3260.1,1188.2,1778.5,1277.75,1170.55,6425.65,5971.25,5289.05,1756.2,6416.7,61.35,1929.95,1071.4,564.35,7930.55,5215.25,113.5,1152.8,1821.95,419.9,1024.0,251.6,764.55,135.2,3958.25,233.9,1363.45,6254.45,321.4,3539.25,1181.75,654.55,780.2,1559.25,1252.0,45.3,2453.3,1023.85,82.15,244.8,2379.1,3173.35,1375.4,8129.3,1192.7,1901.65,587.4,6519.75,8041.65,20.75,2681.15,1112.3,7405.5,1033.95,2958.95,2684.85,4179.2,6654.1,25.25,1124.2,540.05,1975.85,3437.45,3139.8,3789.2,5324.5,624.6,1836.9,20.2,219.35,1288.75,2545.75,2723.15,4107.25,5760.65,4747.5,1566.9,702.0,299.05,1305.95,284.35,6350.5,7878.3,3187.65,6126.15,731.3,273.4,2531.8,4298.45,4619.55,2633.3,193.05,4103.9,7008.15,5791.1,1228.65,4925.35,1520.1,5032.25,5526.75,1195.25,2007.25,1732.95,3450.15,2172.05,1339.8,771.95,244.75,322.9,498.25,25.4,3687.75,1783.6,927.15,2021.2,1940.8,567.8,220.35,20.25,5436.45,3437.5,3015.75,1509.8,356.65,4109.0,3141.7,1229.1,2054.4,3741.85,3682.45,19.25,1886.25,4895.1,341.6,5686.4,1355.1,3236.35,4264.0,44.8,422.3,4176.7,5138.1,880.05,973.65,1470.05,739.35,161.95,4422.95,6148.45,3565.65,1830.1,6223.8,4508.65,1328.15,865.0,72.1,1303.5,996.85,6430.9,2278.75,681.4,574.35,889.0,6823.4,4016.75,83.75,3959.15,2878.55,945.7,1373.05,1406.0,19.15,6962.85,8126.65,690.25,830.8,5608.4,3646.8,3662.25,25.35,5308.7,1410.25,3339.05,4732.35,5067.45,2348.45,4063.0,44.0,2595.25,2309.55,89.3,367.55,3944.5,5965.95,3694.7,1803.7,415.1,624.15,237.7,3848.8,419.4,1468.75,5812.0,2861.45,1066.15,2149.05,4473.0,3545.05,1195.75,6858.9,1024.7,132.25,515.45,2830.45,1110.5,449.3,2838.55,5376.4,858.6,1395.05,3975.7,4784.45,119.5,899.45,1183.8,720.05,8468.2,3161.2,55.05,1882.55,5070.4,6049.5,1166.7,2937.65,1270.25,759.55,7611.55,1642.75,1545.4,3582.4,1417.9,2494.65,2768.35,2369.3,38.0,75.1,100.9,1614.05,8404.9,2799.75,6538.45,6588.95,868.1,330.6,564.4,1315.35,2747.2,554.05,225.75,1671.6,8003.8,6130.85,1415.0,6201.95,null,6597.25,114.15,3902.6,20.4,1785.65,1397.65,3899.05,5676.0,4543.15,4326.8,5502.55,851.8,19.85,1818.3,6300.15,5916.95,2852.4,1546.3,302.6,265.45,6989.45,1442.0,4713.4,4738.3,8399.15,5430.35,686.95,5706.3,490.65,1360.25,174.45,7379.8,1021.75,5029.05,1955.4,6744.2,4946.7,8248.5,601.6,19.55,2647.2,6744.25,5265.5,311.6,7966.9,8220.4,1153.25,514.75,3808.0,19.9,2708.2,760.05,49.3,6033.3,89.05,516.15,5861.75,445.95,4973.4,1667.25,5357.75,422.6,1103.25,2754.0,697.25,3204.4,4747.65,3082.1,597.9,3365.4,38.8,19.0,61.7,3342.45,85.1,7422.1,6668.05,8071.05,1174.8,5435.0,2438.6,45.6,916.15,237.2,4614.55,1414.45,1170.5,47.7,4859.25,4903.2,3608.0,6094.25,3084.9,2356.75,8306.05,1357.1,4860.35,3418.2,631.4,186.3,6976.75,4884.85,522.95,362.6,5755.8,3355.65,406.95,2395.7,1968.1,6819.45,7943.45,2473.95,6562.9,176.3,2236.2,3109.9,4911.35,1620.2,4287.2,394.85,3442.15,1732.6,655.3,475.25,865.1,6132.7,3597.5,697.65,428.7,20.05,4459.15,1167.6,238.1,1453.1,4039.3,1039.45,1336.1,493.4,7246.15,1203.95,313.6,3775.85,4616.05,195.65,4188.4,71.1,49.9,1266.4,1623.4,4149.45,20.45,2344.5,1013.05,417.0,20.65,6316.2,4018.05,4811.6,4189.7,2848.45,2516.2,33.6,208.45,3739.8,2964.0,2263.4,2211.8,1683.7,1519.0,1164.05,1710.9,4245.55,4145.9,2664.3,1277.5,5589.3,34.75,1305.95,204.55,605.9,356.1,4805.65,92.75,1901.05,5730.7,2423.4,1653.45,3327.05,7085.5,3344.1,6697.35,2879.9,137.1,1551.6,202.15,7882.25,8196.4,202.9,855.1,5817.0,1652.95,5600.15,515.75,null,190.5,1253.8,57.2,6563.4,20.8,4758.8,1292.6,363.15,1600.25,275.7,3089.1,1175.6,237.3,8065.65,92.5,6152.3,5154.5,220.45,1510.3,2588.95,3983.6,2003.6,1832.4,4908.25,3590.2,5023.0,146.6,2339.3,298.7,143.65,2548.65,507.4,20.0,5411.4,903.8,3009.5,5468.45,1058.1,7616.0,1108.2,938.65,94.15,2088.05,5656.75,5986.45,6751.35,3566.6,4889.3,318.1,1563.95,372.45,1442.6,963.95,5222.3,3340.55,5774.55,4487.3,2854.95,905.55,7589.8,394.1,295.95,5459.2,444.75,6782.15,6510.45,8476.5,4461.85,62.0,352.65,1424.9,6309.65,5898.6,4719.75,457.3,5822.3,2337.45,104.3,121.25,7015.9,5598.0,1269.1,4634.35,113.95,3077.0,4039.5,1665.2,504.2,7511.65,1782.0,20.05,609.65,2857.6,3247.55,2823.0,2619.25,4965.1,2679.7,8310.55,5682.25,4914.9,27.55,6068.65,5398.6,234.85,1231.85,170.9,7984.15,1288.3,7848.5,267.0,1798.9,1643.55,4807.45,2193.0,2239.4,1505.9,255.35,1189.4,4786.15,1820.9,2404.15,7039.45,2538.05,1212.85,2651.1,1304.8,435.45,308.05,null,7118.9,320.45,531.55,382.2,2001.0,4919.7,5645.8,77.6,2896.55,759.35,535.55,1253.15,955.15,2162.6,1813.35,245.15,2028.8,2723.75,220.45,365.8,551.95,4054.2,60.65,5550.1,4733.1,4048.95,4542.35,888.65,1916.0,413.0,808.95,1886.4,1679.25,540.95,19.75,537.35,678.8,4513.65,1423.85,555.4,225.55,268.45,1492.1,132.4,284.9,784.25,417.7,5016.25,485.2,160.85,4145.25,827.45,49.5,5585.4,1601.2,162.45,470.2,2066.0,1426.45,392.5,3861.45,2552.9,6668.35,4615.25,3557.7,1957.1,1416.75,5924.4,1697.7,7849.85,649.4,4557.5,360.35,1046.5,447.75,4209.95,3877.65,152.3,572.2,552.7,3208.65,620.75,505.9,8046.85,1815.3,612.95,795.15,973.1,2210.2,1055.9,1304.85,21.1,5580.8,1497.9,4590.35,200.2,614.45,4564.9,null,1012.4,2766.4,1129.35,5680.9,2243.9,4523.25,7159.7,2839.95,80.55,580.1,6038.55,259.4,324.15,417.65,5637.85,839.4,769.1,6253.0,1641.8,1678.05,2058.5,2424.5,6293.45,3145.9,2200.7,914.4,4577.75,4997.5,4144.8,1493.55,4179.1,1611.0,593.05,1533.8,529.8,3865.6,515.75,48.35,2070.05,8333.95,1209.25,1396.25,723.35,228.65,1161.75,98.35,775.3,1074.65,2324.7,1072.6,170.5,1677.85,18.85,370.4,3410.6,1138.8,5264.25,1005.7,5936.55,5475.9,2326.05,4991.5,5831.2,510.8,283.95,1295.4,19.65,3011.65,8093.15,3217.65,773.2,1029.35,3593.8,3953.15,1971.15,3196.0,4872.2,1500.5,3478.75,7413.55,3532.0,256.75,3887.25,2490.15,3510.3,765.45,1259.35,5538.35,340.85,844.45,1348.95,3778.0,611.65,1505.05,467.85,194.2,571.45,5253.95,521.35,1412.65,1090.6,1446.8,4300.45,1111.2,190.1,4447.75,1830.05,2820.65,4847.35,4729.3,4017.45,1398.6,1685.9,5826.65,6066.55,270.2,168.6,536.35,1888.45,629.35,2117.25,4730.9,2033.05,5744.35,19.45,4805.3,6110.75,1596.6,1046.2,92.75,194.55,612.1,6671.7,5264.3,303.7,4818.8,7159.05,1574.5,2879.2,86.05,4159.45,6638.35,3112.05,7168.25,1326.25,2234.55,495.15,8317.95,679.8,62.8,7544.0,1188.25,74.1,3242.5,1240.15,4111.35,5899.85,5193.2,7530.8,5460.2,1614.2,402.5,1367.75,7962.2,3810.8,3533.6,1396.9,1646.45,2680.15,2049.05,3629.2,202.3,147.5,86.35,579.0,3131.55,3928.3,187.75,1710.15,2151.6,1221.55,1496.45,1292.2,25.15,1713.1,1748.9,1114.55,609.1,null,141.6,4688.65,563.05,5985.0,373.5,2553.35,4322.85,250.8,4549.05,1359.5,178.85,633.85,5315.1,735.5,6474.4,4421.95,4904.85,4484.05,2033.85,538.2,2192.9,19.85,3858.05,854.8,5815.15,3970.4,3058.15,6145.2,129.2,1165.9,4904.25,5632.55,1643.25,740.55,4888.2,2440.25,620.55,20.35,6840.95,319.6,1938.05,294.5,58.3,546.45,797.1,1673.8,343.45,7412.25,4039.0,2948.6,6078.75,3418.2,6603.8,3166.9,865.75,6373.1,1177.05,5985.75,7869.05,936.7,741.4,6585.2,3122.4,1088.25,615.35,2908.2,739.9,593.85,7227.45,1291.35,2023.55,153.95,5458.8,5244.45,154.55,4507.15,2031.95,50.05,473.9,106.8,152.6,1199.4,2555.05,2979.2,654.85,3834.4,4586.15,5941.05,2234.95,666.75,547.8,74.6,571.15,1756.6,5731.45,156.85,2683.2,4456.65,6998.95,36.8,2265.0,1309.15,4754.3,1235.55,3562.5,7213.75,5914.4,51.25,1282.85,4738.85,19.55,795.65,4993.4,61.45,4018.55,6081.4,1478.85,243.65,2633.95,4735.35,1247.75,3794.5,1008.7,2130.55,5727.15,1372.9,1203.9,1215.1,2877.05,1579.7,5514.95,96.1,55.25,2443.3,335.4,7002.95,158.95,293.15,1493.75,1093.4,1057.85,882.55,300.4,1436.95,475.0,5388.15,5730.15,217.1,4896.35,1434.1,937.1,1474.9,6536.5,1128.1,2199.05,457.1,566.5,2471.6,3107.3,518.3,832.3,45.3,1790.6,246.6,261.65,4509.5,5480.25,653.15,1183.05,639.45,478.75,20.05,4391.45,270.6,3975.9,1497.05,780.15,3512.15,273.25,3517.9,3375.9,7508.55,1245.05,5347.95,493.65,1263.85,385.55,84.2,1638.7,120.25,4473.45,520.55,5717.85,4312.5,6511.25,1218.65,7447.7,279.5,5720.35,3121.45,6468.6,675.6,3521.7,923.1,1110.35,1611.65,5553.25,44.75,3231.05,5129.45,1191.2,866.4,2627.2,4741.45,4009.2,43.8,3707.6,220.45,1133.7,1983.15,5746.75,134.05,6230.1,573.05,3419.3,3801.3,4859.1,1439.35,592.75,1185.95,18.8,4921.2,901.25,4859.95,1139.2,7082.45,663.55,174.65,321.7,5125.5,548.9,7031.3,5016.65,611.45,319.85,153.3,7035.6,344.2,1431.65,1849.2,6083.1,426.65,1655.35,1943.9,314.95,804.85,465.7,6669.05,1161.75,947.75,8375.05,3770.0,4707.85,6152.4,958.1,943.0,425.1,5044.8,6743.55,196.4,2093.9,417.75,1725.4,1620.2,3169.55,5233.25,967.85,438.05,1421.9,323.15,318.6,163.7,2928.5,100.35,273.2,1608.15,1441.95,2168.15,3618.7,5692.65,5969.3,19.05,8100.55,313.45,6130.95,745.3,1212.1,1583.5,4162.05,1119.9,8013.55,1102.4,5832.0,4304.5,1421.75,6827.5,4698.05,654.5,3268.05,4362.05,1386.9,415.4,2614.1,1513.6,3161.6,80.95,4676.7,6526.65,583.3,8078.1,3503.5,6669.45,1292.65,48.75,7108.2,1802.55,1505.15,1859.1,168.5,6339.45,1652.4,6392.85,4599.15,1134.25,1621.35,2722.2,3058.3,1769.6,6293.75,1642.75,578.5,954.9,43.85,1490.4,280.0,1901.25,716.4,4720.0,930.95,6770.85,1835.3,1588.25,75.5,258.35,1502.25,19.2,6929.4,4453.3,3244.4,323.45,1401.15,1739.6,5931.0,2333.85,949.85,572.45,696.8,1381.8,47.95,45.0,4931.8,116.95,1261.7,3273.8,1415.85,3958.2,2492.25,279.2,1083.0,755.5,3252.0,936.85,3857.1,1378.45,2566.3,171.0,1597.4,4744.35,6721.6,44.05,1734.65,45.55,4539.35,804.25,5011.15,3574.5,8086.4,4563.0,6362.35,67.1,1156.55,1834.15,1477.65,1706.45,3953.7,1327.85,419.7,207.35,1083.7,2007.85,5882.75,2657.55,1612.2,76.65,260.7,6441.85,266.8,962.25,1382.9,571.05,1399.35,150.0,167.2,7657.4,865.05,6153.85,174.2,1269.6,6352.4,1348.5,471.55,5931.75,1404.65,726.1,1961.6,4194.85,81.05,76.95,5809.75,20.2,415.9,996.95,3145.15,265.3,20.9,21.05,4576.3,189.1,908.15,49.8,1500.95,5099.15,6385.95,6885.75,668.85,1916.2,4613.95,7261.25,2459.8,2048.8,163.55,2888.7,2421.6,2292.75,553.4,3465.7,1291.3,5200.8,3237.05,433.75,1868.4,5728.55,390.4,2845.15,3894.4,886.4,1021.55,268.4,2204.35,6398.05,1662.05,3600.65,1329.15,422.5,4627.65,6717.9,637.4,117.95,2460.55,5731.85,4616.1,589.25,750.1,1410.25,743.5,3865.45,6825.65,1340.1,1184.0,8477.7,7382.85,456.85,331.6,134.6,125.5,2511.3,2737.05,74.3,70.6,6404.0,165.35,1867.6,1043.3,128.6,7455.45,24.7,206.15,5869.4,3377.8,1346.2,4946.05,4964.7,4085.75,6224.8,3415.25,6325.25,1683.6,3966.3,608.5,2896.6,1514.85,6792.45,4669.2,6302.8,779.2,283.75,5594.0,772.85,857.8,7554.05,5981.65,1702.9,467.15,1941.5,1932.75,1423.05,970.85,5810.9,223.9,391.7,811.65,174.75,3126.85,6841.45,1406.65,834.7,3157.0,3092.0,2168.9,980.35,65.95,711.9,1952.8,4368.85,2647.1,8477.6,4528.0,1790.65,845.6,1210.3,20.45,854.45,2429.1,5229.45,44.45,3023.55,2032.3,436.9,20.15,5893.95,1430.05,313.0,3871.85,458.1,341.35,1336.8,2181.75,147.75,818.45,7133.45,348.8,128.6,4674.4,1737.45,1498.85,50.1,1797.75,498.1,5498.8,4845.4,369.1,6096.9,2684.35,6994.8,273.25,5483.9,4985.9,1258.35,111.4,43.95,308.1,383.65,1284.2,7550.3,1110.05,99.6,6707.15,4164.4,5873.75,109.25,862.4,8564.75,926.2,1718.2,5956.85,4824.45,1238.65,672.2,382.2,4264.6,1070.7,1345.85,1045.25,3003.55,7537.5,3343.15,161.15,7028.5,5232.9,225.85,274.7,3370.2,7111.3,5958.85,5999.85,1648.45,5753.25,4492.9,3956.7,1309.0,813.45,1108.8,7349.35,294.2,929.2,754.5,3883.3,1414.2,3211.2,371.6,1246.4,95.85,2545.7,6448.85,1468.9,1013.6,6690.75,7240.65,830.25,1588.7,829.3,302.45,712.25,1336.65,5360.75,6735.05,51.2,1010.0,4847.05,3019.7,161.65,2583.75,7711.25,5481.25,8124.2,827.3,3673.6,49.85,576.65,4495.65,340.35,1789.9,908.55,157.55,581.7,420.45,7576.7,4965.0,6151.9,45.2,5420.65,2627.35,743.75,6589.6,6733.15,3410.0,199.85,593.3,7288.4,5229.8,4464.8,5068.05,401.85,4451.85,6688.95,2661.1,73.05,1211.65,7030.65,1020.2,5597.65,6223.3,1024.65,82.9,7789.6,2067.0,3452.55,5468.95,1802.15,733.55,3021.45,3687.85,1391.15,274.35,1322.85,2196.3,7843.55,3211.9,130.15,692.35,85.5,6849.4,203.95,2117.2,6565.85,424.75,3306.85,168.9,253.8,197.4,3838.2,2065.15,5064.45,1140.05,2447.45,1263.9,1838.15,44.75,1185.0,1743.9,8529.5,6549.45,7806.5,25.7,6287.3,3251.85,50.6,7904.25,729.95,2654.05,5969.95,226.8,1082.75,565.75,4370.75,90.05,2169.4,550.6,55.45,6300.85,160.05,436.6,1781.35,5552.5,2835.5,3591.25,63.75,617.15,870.25,601.25,111.65,6046.1,3923.8,892.15,1682.05,3398.9,4984.85,305.55,507.9,2673.45,389.8,2401.05,651.55,156.1,2796.35,70.05,407.05,511.25,646.05,4903.15,1653.85,1306.3,463.6,60.65,824.85,2094.65,438.9,329.75,674.55,162.55,7887.25,1972.35,490.55,683.25,8058.85,294.45,1719.15,1160.45,5199.8,5163.3,162.3,883.35,1341.5,70.45,659.45,1205.05,4917.9,599.3,1733.15,4677.1,119.3,4849.1,5424.25,5878.9,244.85,220.75,4261.2,1501.75,89.75,255.5,2509.25,1440.75,5333.35,3895.35,869.9,512.25,814.75,388.6,93.45,1389.85,2894.55,4025.6,1354.4,1856.4,926.0,682.1,1778.7,1816.2,7069.25,1841.2,2656.7,1689.45,1054.75,7334.05,2404.85,171.45,2839.45,3942.45,873.4,1529.65,6991.6,715.0,1681.6,4016.2,3281.65,7317.1,6474.45,8164.1,1325.85,1654.85,7795.95,3952.45,2495.15,876.75,4263.45,1992.95,1982.1,562.7,33.7,1090.1,227.45,1250.85,37.2,892.7,487.75,3713.95,141.7,678.2,8425.3,7061.65,3364.55,332.5,5963.95,278.85,1871.85,4303.65,1753.0,617.65,5935.1,982.95,2974.5,198.7,1275.65,4003.0,3791.6,813.3,780.25,552.9,408.25,2191.15,5611.7,246.25,1296.15,7082.85,5662.25,1215.45,7854.15,525.0,5265.2,70.1,7129.45,7266.95,8496.7,2878.75,261.3,3205.6,1137.05,6697.2,505.45,1299.8,5564.85,1381.8,188.1,1077.05,4922.4,2911.5,826.1,83.4,5377.8,3617.1,6643.5,1559.3,7987.6,1547.35,2142.8,287.85,19.8,4534.45,40.9,2094.9,1584.8,1302.65,55.55,5437.75,2209.15,1912.15,255.55,5175.3,670.65,3177.25,6557.75,5791.85,3055.5,5196.1,8405.0,5000.05,6713.2,562.6,91.45,828.85,617.35,625.05,6029.9,1842.7,7386.05,7334.05,2626.15,8277.05,369.25,1049.05,1414.8,169.75,4354.45,2719.2,6365.35,51.6,3190.25,812.5,1143.8,44.0,3297.0,1887.0,2215.4,482.8,216.45,20.45,5064.85,996.45,839.65,6733.0,2618.3,4084.35,613.95,402.85,1244.8,46.4,581.85,1540.2,5168.1,6780.1,94.5,55.3,208.0,3829.75,5294.6,6889.8,3254.35,6383.9,4447.55,7321.05,4135.0,697.7,168.65,2753.8,69.25,434.8,107.25,851.2,5848.6,109.8,19.65,595.5,2513.5,5135.35,2000.2,931.75,7396.15,3958.85,260.9,816.8,4868.4,688.0,288.35,185.4,966.25,265.8,3297.0,4107.3,2809.05,1567.55,1851.45,6028.95,2072.75,4317.35,736.8,336.15,1522.65,4959.6,1001.5,442.6,6703.5,779.25,3483.45,4890.5,136.75,184.15,1315.0,6767.1,757.95,1657.4,3008.55,8165.1,875.55,220.65,1301.9,790.0,1237.65,378.6,592.65,50.15,20.45,3638.25,2921.75,4017.45,854.9,4174.35,4920.55,810.3,772.4,1936.85,79.8,202.25,1070.5,999.9,113.1,2015.8,1454.25,246.7,6017.9,5817.45,5595.3,4765.0,1201.65,867.3,50.15,3007.25,252.75,6306.5,6841.05,44.6,226.2,7082.5,1017.35,527.35,2146.5,5969.85,1014.25,1225.65,386.5,1850.65,1043.4,1910.75,716.1,1686.15,6716.45,7839.85,6236.75,2919.85,20.45,717.5,253.8,1110.05,348.8,3888.65,6843.15,450.9,432.25,1742.45,297.35,2444.25,949.8,2970.8,3334.95,2010.95,4684.3,2181.55,1303.25,371.4,2409.9,6155.4,4667.0,5153.5,8182.85,69.9,6683.4,1564.05,755.6,3465.05,6292.7,1664.3,198.1,6045.9,4108.15,5980.75,5043.2,7114.25,907.05,973.95,605.75,661.55,4116.9,4494.65,3282.75,55.7,1274.45,493.95,5038.15,324.2,19.55,2793.55,648.65,917.15,1346.9,672.7,6561.25,268.45,7337.55,5194.05,4478.85,196.9,439.2,19.5,2107.15,3035.8,1866.45,1430.95,1071.6,6457.15,684.05,3914.05,3842.6,670.35,7880.25,19.2,3371.75,442.45,20.4,2345.55,25.25,1156.35,144.8,414.95,181.8,2212.55,459.95,211.95,25.0,3162.65,210.65,3566.7,2080.1,4040.2,5186.0,1087.45,1672.15,1113.95,107.05,38.15,6339.3,184.1,1688.9,137.6,369.05,7553.6,1813.1,3321.35,707.5,7112.15,4641.1,49.9,3094.65,6518.35,82.7,6342.7,2030.75,6700.05,7244.7,3486.65,411.15,1559.15,970.4,828.2,3810.55,1493.2,45.8,777.3,4911.05,187.35,307.6,4318.35,4820.55,3038.55,2136.9,7472.15,2296.25,38.45,3043.6,1506.4,163.7,1640.0,3846.35,5646.6,79.05,1516.6,2224.5,888.75,4310.35,42.9,353.65,5073.1,4526.85,678.45,1237.3,1023.95,8182.75,4532.3,1444.05,19.1,7325.1,3474.2,392.65,3990.75,7475.85,835.5,1718.35,1193.55,1205.5,5776.45,78.9,1025.15,122.0,6602.9,1712.9,5682.25,74.3,3635.15,702.9,4454.25,1117.55,930.05,110.15,1669.4,3545.1,504.05,440.2,1151.55,2475.35,1249.25,317.75,535.05,461.3,335.75,3121.4,324.8,1394.55,3413.25,3143.65,439.75,664.4,4759.55,1033.0,3482.85,2688.45,435.25,307.0,2689.35,1281.25,3527.0,561.15,63.6,5129.3,4285.8,5894.5,1160.75,3091.75,272.95,3632.0,381.2,1035.5,52.0,653.9,71.2,4178.65,1821.8,4024.2,55.25,6520.8,854.9,8308.9,109.2,92.05,3420.5,4068.0,337.9,3168.75,1412.4,3974.7,3439.0,42.45,5461.45,571.75,5498.2,96.85,111.05,94.4,923.85,141.1,628.65,5576.3,1245.6,1287.85,1939.35,118.25,452.55,2696.55,875.35,1267.05,494.9,799.0,106.9,710.05,568.2,8012.75,551.3,184.95,1096.65,3684.95,1752.45,7210.85,5264.5,2157.3,24.4,433.95,5607.75,4433.3,964.35,1460.85,951.55,1821.2,1600.95,399.25,3634.8,292.4,218.55,5071.9,1423.35,3068.6,4690.65,6157.6,1442.65,3369.05,4671.65,272.35,3645.05,135.75,1319.85,229.4,370.25,5714.2,1233.25,3571.6,83.3,8035.95,579.4,7634.25,3653.0,241.3,3870.3,387.9,527.5,2104.55,20.3,19.2,3019.1,7051.95,1190.5,4448.8,1011.05,1714.95,535.35,75.55,6273.4,70.25,908.75,null,212.3,316.2,1079.05,564.65,6161.9,2106.05,2511.55,318.6,7323.15,186.05,454.0,7521.95,999.8,2369.7,6297.65,1461.45,416.4,4869.35,3265.95,358.15,2939.8,4652.4,4408.45,580.8,2495.2,5913.95,1389.35,19.4,1629.2,6033.1,44.4,3320.75,1867.7,3972.25,155.9,3673.15,70.6,1126.75,73.45,2413.05,6912.7,1581.95,5586.45,5846.65,6424.7,6018.65,3373.4,1537.9,1080.55,82.85,2016.45,5327.25,683.25,1263.05,7714.65,130.5,2621.75,1875.25,837.5,401.5,6118.95,6480.9,1800.05,7104.2,4214.25,1992.2,1948.35,1007.9,5036.9,6859.05,6521.9,617.85,157.75,516.3,2364.0,6239.05,2042.05,2807.1,4116.8,1317.95,4594.65,6332.75,3213.75,4976.15,7308.95,4555.2,44.95,6982.5,1025.15,5714.2,19.5,789.55,4834.0,3131.8,3369.25,2674.15,199.75,1790.8,19.7,1400.3,411.6,741.0,5841.35,5688.45,31.9,6674.65,1345.75,1843.05,1433.8,214.55,865.85,1358.6,3147.15,4535.85,1078.75,542.4,2312.55,3250.45,98.5,87.9,1952.25,153.8,5610.15,4519.5,2440.25,6860.6,1377.7,190.25,1651.95,78.3,7939.25,44.9,576.7,1279.0,1260.7,267.35,6586.85,934.15,19.45,3645.6,314.45,3053.0,677.05,7965.95,140.1,1108.0,295.55,198.25,6741.15,79.15,1355.45,7209.0,7726.35,2070.75,1636.95,7581.5,4729.75,6126.1,6333.4,6687.85,4158.25,7149.35,1429.65,472.65,113.5,1884.65,2568.15,470.0,278.4,2595.85,5825.5,4449.75,1956.4,310.6,290.55,2096.1,2665.0,543.8,20.35,3005.8,1623.15,2586.0,3292.3,4674.55,232.35,2448.5,658.1,3128.8,653.95,1825.5,943.1,359.4,2338.35,46.3,3541.1,1087.25,2522.4,717.3,1734.2,7069.3,742.9,6423.0,4220.35,1558.7,2743.45,4055.5,6055.55,2538.2,6129.2,1750.85,6652.45,2575.45,6019.35,1379.6,1284.2,296.15,653.25,412.6,1928.7,71.25,7845.8,1750.7,216.2,6029.0,3721.9,3121.1,990.45,1004.35,157.65,3219.75,572.85,4554.85,1847.55,1766.75,1462.05,2193.2,2433.5,641.15,2398.4,861.85,583.0,7332.4,249.55,4475.9,788.6,202.3,6994.6,2263.45,1374.35,4915.15,838.5,20.5,2044.75,30.55,1398.25,3778.2,3161.4,2188.45,3990.6,2635.0,235.0,2347.85,3089.6,2901.8,4949.1,2198.9,761.95,190.25,5163.0,4059.85,2281.6,1356.7,231.45,50.75,242.4,4264.25,2774.55,4069.9,874.2,1323.7,5497.05,534.7,2455.05,947.4,357.0,1476.25,5903.15,1201.65,146.65,1759.4,844.45,7774.05,134.05,140.95,1701.65,592.65,135.75,7732.65,4282.4,2018.1,224.85,3771.5,943.85,6572.85,3175.85,29.15,20.05,2762.75,49.55,232.5,5919.35,749.25,245.15,134.75,8240.85,4266.4,1077.5,1115.6,4079.55,2391.15,890.5,137.25,3119.9,529.5,966.55,6936.85,1929.0,5817.7,178.8,435.0,186.15,445.85,912.0,3581.6,4222.95,5930.05,20.0,797.25,1359.45,54.7,989.05,44.55,87.3,351.55,7297.75,6301.7,3822.45,1048.45,6393.65,1489.3,8061.5,518.75,5763.15,238.5,1031.7,null,34.8,1319.95,3950.85,827.05,533.5,3756.45,2599.95,284.3,1740.8,2462.55,411.75,198.6,103.7,4089.45,864.2,19.65,3249.4,5405.8,3363.8,7132.15,93.55,4138.9,5121.75,566.1,2715.3,1782.05,1742.5,24.0,485.9,1905.7,4858.7,3723.65,970.45,1782.0,405.7,2415.95,8297.5,2083.1,4681.75,176.2,1001.2,1594.75,212.4,7677.4,259.65,2386.85,340.35,419.35,7990.05,1402.25,749.35,8425.15,1171.5,5647.95,708.8,7567.2,29.9,4348.1,635.9,1682.4,6925.9,223.15,6758.45,1874.3,791.15,4639.45,143.9,6172.0,1559.45,6079.0,2658.4,383.55,1745.5,2230.85,7281.6,1837.7,180.7,411.45,1328.35,576.95,68.45,123.05,468.35,174.7,44.0,172.35,300.4,4968.0,992.7,5536.5,7806.6,1563.9,1332.4,6296.75,3645.5,161.45,226.95,1441.65,7511.3,5621.85,7919.8,593.2,1423.65,69.95,2763.35,2298.55,2640.55,2911.8,6705.7,237.65,1672.35,695.75,1654.6,1857.85,825.1,6424.25,4126.2,330.8,1337.45,5991.05,4891.5,487.05,4131.2,2301.15,4036.0,4900.65,5727.45,743.05,4804.65,1414.65,1443.65,2898.95,5309.5,20.4,451.55,117.05,5839.3,1893.5,45.35,1654.45,477.05,4546.0,163.2,849.9,189.95,8058.55,7049.75,2560.1,286.8,7982.5,5683.6,3994.05,369.15,4631.7,401.95,1534.05,1093.0,701.3,1980.3,2893.4,262.3,3886.85,5917.55,2139.1,5948.7,3624.35,4753.85,5780.7,6869.7,662.95,1765.95,2431.95,1859.2,3409.1,709.5,50.15,3665.55,5515.8,272.0,6668.0,4052.4,664.4,718.55,2546.85,6944.5,1346.3,765.15,692.55,1187.05,5401.9,247.0,49.9,1370.35,20.25,2215.25,74.0,214.4,1871.15,6171.2,161.45,1013.2,336.7,333.65,6511.8,393.45,7009.5,6921.7,600.25,4664.15,1441.8,5623.7,695.85,1028.75,4155.95,395.6,6330.4,2971.7,638.0,2034.25,3419.5,2427.35,1760.25,3551.65,122.9,1424.2,2909.95,374.0,5581.05,5676.65,3379.25,942.95,232.4,2088.45,1434.6,3870.0,2215.0,842.25,1901.0,601.6,605.45,3094.05,4929.55,595.05,8436.25,19.75,492.0,987.95,5496.9,1908.35,107.1,4575.35,4309.55,7922.75,522.35,587.7,3876.2,3778.85,8349.45,19.5,1066.9,1226.45,342.3,985.05,3948.45,828.05,6164.7,33.6,20.7,6590.5,717.95,4885.85,6871.7,405.6,208.25,1801.9,3062.45,1764.75,1816.75,1255.1,3921.1,1463.45,189.45,96.8,408.5,1846.65,8456.75,1011.5,4263.4,2549.1,3965.05,7840.6,6632.75,1013.35,152.95,3772.65,1026.35,19.3,5031.85,220.4,1416.5,158.35,5542.55,8443.7,5708.2,2016.3,326.65,5471.75,19.95,1061.6,1971.5,19.75,2460.35,856.5,1275.85,7467.5,7261.75,5116.6,660.05,6590.8,1208.15,1033.9,1885.15,2006.95,5025.0,3088.25,3134.7,8312.4,4863.85,6637.9,3165.6,6786.1,543.0,867.3,25.75,109.5,4692.95,546.85,1274.05,1782.4,5301.1,280.35,2897.95,3371.0,801.3,1079.45,6997.3,979.05,4119.4,3349.1,492.1,1718.95,605.25,1344.5,4267.15,1121.05,918.7,521.8,4469.1,1729.35,1073.3,4566.5,2603.1,1783.75,6322.1,57.4,4284.65,7138.65,1539.75,1058.1,123.8,2731.0,20.75,497.3,711.15,1898.1,3273.95,2929.75,838.7,1443.65,7746.7,6951.15,214.75,2669.45,235.2,3103.25,5330.2,1403.1,2727.8,5038.45,1462.6,150.6,5960.5,1192.3,314.55,56.0,330.8,877.35,2249.1,2807.65,1696.2,1032.05,4902.8,4995.35,5034.05,1857.75,1992.85,1714.95,343.6,20.15,520.1,1387.45,7383.7,4483.95,1706.45,1327.4,5974.3,null,179.85,5040.2,422.7,20.25,358.05,2936.25,1271.8,530.05,19.2,1144.6,7556.9,4858.7,6595.0,149.05,4972.1,2045.55,2187.15,2976.95,178.7,5025.85,3353.4,1461.15,2782.4,1699.15,452.2,4428.45,1322.55,139.75,1927.3,3000.25,3021.3,2245.4,944.65,1264.2,4917.75,5743.3,1864.65,1221.65,1390.85,302.35,1374.9,1336.9,1297.8,6067.4,1222.25,487.95,2548.55,835.5,44.75,6218.45,7320.9,6333.8,4200.25,5950.2,93.4,1614.9,1573.95,1468.75,2607.6,1523.4,3435.6,4549.45,322.5,5375.15,2510.7,3090.05,61.05,955.6,140.4,1493.1,1626.05,1784.9,70.35,6075.9,5500.6,73.1,3399.85,6431.05,19.75,1230.9,454.65,235.05,6595.9,5867.0,196.35,6449.15,762.45,785.75,1776.0,5396.25,574.5,400.3,2656.3,1445.95,5212.65,2244.95,1130.0,6463.15,6252.7,2062.15,587.1,720.45,2979.3,956.65,3973.2,447.9,1335.2,7555.0,49.0,836.35,20.95,2570.0,798.2,44.15,6487.2,1556.85,1988.05,5432.2,147.55,8424.9,2203.7,387.4,3045.75,130.5,767.9,446.8,8100.25,4689.15,6754.35,3540.65,2184.6,130.55,1540.35,6411.25,1432.55,7629.85,101.9,313.4,6312.9,629.55,2640.55,1372.45,1212.25,6237.05,6310.9,5031.0,8672.45,2196.45,3008.15,220.8,5779.6,222.65,914.6,246.3,5560.0,1633.0,969.85,2610.65,6567.9,4747.85,1759.55,101.1,6496.15,4234.15,300.7,59.55,4323.35,1466.1,1776.45,2933.95,144.35,4804.75,1125.2,39.85,422.4,8332.15,314.6,4331.4,6382.0,600.15,5538.8,7049.5,690.5,279.3,1427.55,1709.15,53.15,777.35,860.85,5012.1,2404.1,24.4,209.9,610.75,70.7,155.35,144.0,7875.0,911.6,478.1,761.85,2282.95,1615.1,1097.15,369.3,6725.3,6293.2,432.5,2434.45,532.1,375.25,125.95,1042.65,1620.25,659.35,1285.8,377.55,6058.95,964.9,2322.85,4854.3,7748.75,6470.1,57.4,2019.8,1522.7,1334.5,252.0,700.45,5655.45,6747.35,5174.35,105.6,2271.85,2966.95,61.15,494.95,5290.45,3346.8,5219.65,217.5,607.7,5431.4,6004.85,5957.9,5442.05,4370.25,4428.6,416.45,6688.1,4224.7,4042.2,3580.95,1198.8,1755.35,3772.5,2877.95,357.7,1397.3,959.9,3704.15,4620.4,8312.75,929.3,1285.05,1521.2,3389.25,1198.05,3414.65,754.0,467.15,373.0,481.1,1728.2,2964.05,2156.25,1051.9,5013.0,1738.9,2275.1,5511.65,1316.9,7993.3,19.85,1388.45,666.0,94.45,4134.7,4862.5,351.5,106.2,1413.0,1743.05,657.5,1050.5,426.35,4982.5,19.55,7634.8,235.05,3116.15,2633.4,49.65,4920.8,46.35,5276.1,8289.2,2659.45,196.75,5824.75,1517.5,3479.05,7365.7,1331.05,1195.95,3946.9,4299.95,20.3,4391.25,4213.9,19.9,5017.7,4916.4,2959.8,7559.55,7133.1,1799.3,1597.05,524.35,4191.45,711.95,2201.75,806.95,1620.45,6812.95,1837.9,7344.45,1500.25,2283.15,1376.5,755.4,825.4,488.65,2075.1,5299.65,1356.3,5042.75,812.4,6605.55,505.95,3509.4,6991.9,590.35,2789.7,1123.15,7953.25,349.8,1067.05,3527.3,1248.9,3035.35,4300.8,6065.3,144.95,2308.6,1882.8,3255.35,1067.65,2065.4,4136.4,3848.0,8022.85,173.15,781.25,4510.8,5317.8,4779.45,250.1,1745.2,4140.1,3670.5,1167.8,469.65,1381.2,3645.5,1158.85,6954.15,1672.1,4307.1,6141.65,1054.8,5430.65,849.9,151.75,299.4,1086.75,2692.75,1389.6,3767.4,3641.5,2535.55,6880.85,3753.2,637.55,5329.55,44.55,1539.8,2209.75,223.75,7751.7,1174.35,4385.05,2606.35,18.9,1261.35,5969.3,253.9,400.0,227.35,2357.75,198.5,554.25,251.65,5597.65,768.05,1215.8,3522.65,910.45,3656.25,52.0,150.85,389.25,1873.7,1261.0,7346.2,3708.4,469.65,1385.85,548.8,2536.55,6042.7,958.25,1730.65,459.6,201.95,285.2,1529.45,4664.5,3496.3,7053.35,301.55,312.7,2960.1,6953.4,541.5,116.85,7942.15,5321.25,4156.8,223.6,768.45,3765.05,2157.5,1391.65,1379.8,1273.3,810.45,1810.85,7782.85,1797.1,377.85,445.3,7624.2,355.1,906.85,1057.55,19.4,1388.75,1641.3,185.2,1826.7,417.5,344.5,2180.55,2835.9,45.15,2730.85,5437.1,5794.45,747.2,1267.95,3674.95,1275.6,5893.9,724.65,1536.75,607.3,4154.55,847.8,2390.45,1923.5,1493.2,75.35,2184.85,1031.4,921.3,3875.4,144.15,6689.0,1451.1,6368.2,3729.6,350.1,2847.2,452.35,1494.5,41.85,1272.05,475.1,150.75,3199.0,5844.65,2462.6,6263.8,3403.4,1672.1,7881.2,2320.8,370.5,3043.7,2723.4,1081.25,4097.05,632.2,8166.8,4113.7,3047.15,4193.4,3729.75,399.45,1964.6,1336.15,486.05,5925.75,4747.2,1028.9,4692.55,19.75,154.3,6382.55,7623.2,1261.45,89.25,86.05,6779.05,4345.0,82.85,1714.55,893.2,810.85,6347.55,1123.65,43.15,35.1,1388.0,3851.45,2638.1,946.95,1114.85,1777.6,684.85,74.35,1312.45,159.2,610.2,404.35,6363.45,4124.65,950.75,19.65,505.95,1149.65,169.65,393.15,1147.0,5718.2,4539.6,6397.6,280.4,5711.05,3478.15,4133.95,2917.65,54.3,2964.8,2198.3,1189.9,1914.5,5336.35,7238.6,7998.8,5703.25,7397.0,164.6,6555.2,225.65,955.75,3382.3,2313.8,780.85,7852.4,2763.0,1614.7,270.15,null,20.6,1734.5,7047.5,573.15,1538.6,4459.8,7459.0,306.05,639.7,348.15,5563.65,40.25,4228.55,784.45,3729.75,1406.9,1857.3,7322.5,6725.5,3627.3,1725.95,4192.15,1411.2,264.55,4671.7,1173.55,7713.55,2471.25,7842.3,2227.8,2351.45,2989.6,6077.75,4070.95,2479.05,2134.3,6000.1,2203.1,183.15,6194.1,638.95,831.75,1337.5,7181.95,2560.1,5953.0,1790.15,2531.4,4760.3,953.65,5705.05,20.55,6993.65,4122.65,5762.95,1537.85,2603.3,5566.4,5431.9,2258.25,1092.35,6401.25,616.9,1912.85,849.1,3460.3,90.1,5555.3,1278.8,2907.35,4952.95,4504.9,4520.15,2316.85,8075.35,2302.35,7251.9,2078.55,6225.4,1242.25,99.45,599.25,3462.1,2375.2,2813.05,6314.35,19.1,1003.05,1593.1,2509.95,3187.65,3330.1,5522.7,4798.4,8594.4,970.55,7665.8,3686.05,2537.0,1393.6,89.35,4445.3,978.6,1258.15,331.35,84.75,1715.1,1715.15,1250.1,3996.8,5215.1,673.2,1442.2,5222.35,7291.75,424.5,249.4,4415.75,5270.6,2884.9,253.0,436.2,118.4,3649.6,255.6,2395.05,5083.55,644.5,39.3,989.05,2406.1,638.55,191.1,4524.05,4664.2,3470.8,6910.3,4014.2,1288.0,6375.8,5251.75,1505.45,913.3,5535.8,815.55,1411.65,5602.25,8244.3,741.5,4375.8,5968.4,3096.9,3901.25,2613.4,5661.7,695.05,5552.05,3275.15,4236.6,54.5,962.9,1498.35,1233.15,4882.8,5411.65,148.05,3930.55,6895.5,6856.95,2658.8,3766.2,129.55,581.7,929.45,679.0,3846.75,4480.7,499.4,1553.2,219.5,5311.85,2576.8,6435.25,1993.25,1923.85,939.8,84.6,5986.55,5487.0,651.5,45.4,6856.45,50.75,4735.2,682.15,4525.8,321.05,335.65,1424.4,1748.55,1077.95,3694.45,382.8,746.75,368.85,20.2,1654.7,1940.85,1794.65,5289.8,501.2,6140.85,48.45,309.25,6179.35,55.7,4589.85,3735.45,477.55,2553.7,1342.15,1216.35,7578.05,2603.95,42.7,6056.9,2983.65,689.35,2025.1,1747.2,4657.95,8016.6,433.5,5883.85,1043.8,1857.25,146.4,1724.15,429.55,356.15,488.25,1298.7,1378.75,384.25,8543.25,389.95,5731.85,20.65,4275.75,84.5,1924.1,5784.3,5166.2,4060.55,3532.85,4914.8,5315.8,775.6,5445.95,1007.8,833.55,1004.5,1183.05,501.35,4126.35,477.6,265.75,2424.45,1849.95,61.05,1698.55,998.1,1383.6,493.4,1207.0,563.5,864.55,701.05,5749.8,2796.45,5165.7,5696.6,2076.05,44.2,215.25,1859.5,7470.1,2092.9,5629.55,469.85,733.95,485.25,78.25,1131.5,184.05,1178.75,5629.15,109.3,958.45,403.15,4392.5,3168.0,1096.6,669.45,2343.85,48.6,7511.9,1725.0,49.75,1691.9,2248.05,4479.2,3471.1,63.0,3314.15,852.7,1930.9,91.4,3949.15,4304.0,1554.9,3472.05,117.8,3210.35,207.4,19.75,3132.75,2106.3,35.0,903.7,3882.3,879.8,383.65,4390.25,68.2,452.8,5329.0,1758.9,5737.6,1219.85,2414.55,1155.6,1809.35,1564.4,19.65,84.4,864.85,228.75,7752.05,470.6,4060.9,108.65,3952.65,494.05,3416.85,1498.65,4807.35,471.35,1041.8,7689.8,1815.0,1311.3,199.45,1637.3,1326.35,6376.55,935.9,20.05,1611.15,6989.7,2779.5,8331.95,735.9,2283.3,1445.2,2333.05,1992.55,5890.0,1029.8,1796.55,33.7,454.05,1392.25,1049.6,734.6,475.1,1540.05,1978.65,3181.8,229.7,5625.55,1347.15,3808.2,3974.15,7661.8,2479.25,266.6,5601.4,1982.6,339.9,4828.05,5980.55,4808.7,20.3,1068.15,2383.6,1438.05,917.45,6096.45,99.95,475.2,2036.55,6444.05,767.55,7932.5,4040.65,2768.65,1672.35,1345.65,2425.4,2077.95,1663.5,1286.05,1094.35,7719.5,514.6,4932.5,5443.65,330.25,122.7,6631.85,8250.0,3561.15,1763.55,2419.0,470.2,5234.95,3097.0,1709.1,1848.8,723.3,577.15,6914.95,602.9,124.4,96.8,3827.9,533.05,2961.4,995.35,2815.25,154.8,257.6,5757.2,7517.7,1234.8,3836.3,6001.45,720.1,2832.75,472.25,1336.35,6388.65,677.9,1165.6,921.55,72.0,68.35,847.25,44.0,4295.35,1380.4,4386.2,52.05,2018.4,2727.3,263.65,275.4,538.5,948.9,846.8,2997.45,5897.4,524.5,269.65,2341.5,1789.65,1626.4,800.3,5060.85,466.6,4627.8,6838.6,85.0,44.3,4297.6,414.1,256.6,2274.1,1296.8,1268.85,8192.6,59.25,1147.85,4361.55,2006.1,2078.95,7609.75,487.05,1218.45,1416.2,483.3,1234.6,1311.6,5618.3,6185.15,788.35,756.4,3625.2,550.35,4793.8,1267.2,5567.45,5706.2,3085.35,24.7,3541.4,84.2,50.7,1165.55,4855.35,608.15,641.35,4959.15,35.9,1321.3,1663.75,3024.15,2188.5,2724.25,413.25,1374.2,6692.65,218.5,1004.75,1125.6,3847.6,978.0,1387.35,746.05,304.6,1098.85,4368.95,827.7,20.35,262.05,3512.5,151.75,8033.1,1253.65,552.65,1036.0,4025.5,928.4,24.9,6506.15,5598.3,4374.55,678.75,2191.7,239.75,609.05,683.75,5189.75,5060.9,233.65,291.45,689.75,3263.9,1993.2,254.5,347.65,967.9,1841.9,232.1,809.25,360.55,355.9,129.15,5835.5,7031.45,109.6,727.8,893.0,763.1,781.4,902.25,1016.7,5943.65,275.7,3126.45,1070.15,340.4,4299.2,1093.2,521.9,1630.4,713.6,1265.65,4003.85,1401.4,1510.5,264.8,4541.9,4976.15,7542.25,251.25,1595.5,685.55,3874.1,6891.4,4916.95,1373.0,49.8,1548.65,3440.25,4226.7,1023.75,7074.4,6849.75,3263.6,1252.85,67.55,70.2,5750.0,1549.75,1810.55,7467.55,5484.4,294.9,97.5,19.95,476.8,101.65,1130.85,3532.25,6891.45,1570.7,520.95,7854.9,3581.4,1447.9,8547.15,727.85,357.6,159.35,280.85,6069.25,3274.35,6109.65,1122.4,2020.9,3795.45,3579.15,49.7,276.5,8175.9,890.35,5588.8,50.6,58.0,938.95,2024.1,3623.95,3877.95,4577.9,25.85,2871.5,1270.55,7711.45,2193.65,31.2,38.25,3348.1,533.6,2907.55,1620.8,3480.35,293.85,4137.2,19.4,5348.65,3180.5,3023.85,1031.1,6471.85,6241.35,6501.35,2317.1,2237.55,5231.3,165.5,358.5,6614.9,2421.75,1294.6,1299.1,5733.4,7430.75,630.6,1222.65,374.8,7234.8,331.85,5088.4,4860.85,788.05,1266.35,688.2,387.7,845.25,4230.25,4983.05,4113.15,521.0,471.85,5976.9,4299.75,7548.6,1654.75,4551.5,6227.5,20.05,57.5,1474.35,3270.25,3919.15,7285.7,7658.3,5959.3,5295.7,4693.2,3512.9,5231.2,3603.45,217.45,6875.35,19.25,2021.35,2564.95,5611.75,7610.1,45.75,4543.95,450.4,1297.35,4442.75,1423.15,4378.35,74.2,450.65,1175.85,558.8,2220.1,3283.05,4939.25,4237.5,335.95,7188.5,926.25,1119.35,116.6,68.8,2341.55,1362.85,163.6,145.15,4786.1,3835.55,397.0,1027.25,1580.1,7222.75,3769.7,4233.95,1680.25,3725.5,7707.7,8309.55,601.55,139.25,1888.25,2773.9,5409.75,401.3,3238.4,1573.05,235.8,1364.75,1985.15,4335.2,647.5,2748.7,2483.65,6367.2,4904.2,2044.95,1794.8,7173.15,7039.05,921.4,4018.35,5448.6,20.25,2085.45,5135.15,730.1,118.25,1108.6,1815.65,730.4,75.45,4014.6,568.85,5860.7,7279.35,1064.95,5886.85,4238.45,418.3,136.05,708.2,788.55,4378.8,3442.8,7171.7,553.0,96.85,4122.9,1482.3,1240.8,6578.55,19.55,2802.3,857.75,184.4,6093.3,1861.1,1079.65,7475.1,2862.55,3069.45,2349.8,469.25,3301.05,3529.95,4144.9,4265.0,3246.45,8337.45,5731.4,6176.6,1905.4,931.9,776.25,5243.05,141.65,7679.65,1006.9,2540.1,3097.2,2484.0,5785.65,2619.15,1524.85,2790.65,1784.5,2276.1,2029.05,802.35,4653.25,275.9,343.45,2130.45,1191.4,2554.0,5589.45,467.7,3756.45,3334.9,920.5,3431.75,150.35,367.95,5125.75,4801.1,19.55,550.1,7862.25,1242.2,3190.65,2666.75,3533.6,792.15,295.65,1459.35,4297.95,4096.9,3454.6,1286.0,1387.0,786.3,641.25,705.45,345.5,345.9,5811.8,124.45,1375.6,3491.55,7920.7,6640.7,718.1,320.4,1334.45,3358.65,4764.0,5703.0,525.55,483.15,934.8,786.5,5364.8,20.3,770.4,6816.95,2419.55,4138.7,3457.45,4630.2,3221.25,688.5,867.1,4746.05,355.1,5764.7,428.45,1505.35,693.45,1177.95,1458.1,2298.9,1679.65,369.6,2998.0,5206.55,24.4,1959.5,2053.05,398.55,3425.35,1275.7,2965.75,1647.0,6109.75,3751.15,411.25,105.5,3320.6,5669.5,465.45,704.3,95.55,6375.2,8152.3,1566.75,130.25,162.15,110.05,1885.15,6302.85,2264.5,816.8,1253.5,41.2,5265.55,693.3,5997.1,3824.2,3886.05,7283.25,412.55,1070.25,817.95,1171.3,6548.65,625.65,1911.5,1507.0,299.3,5832.65,5567.55,4166.35,7898.45,3915.4,979.5,90.05,398.55,1958.45,63.15,1301.1,484.05,3887.85,2208.75,238.15,958.15,3845.45,1267.0,633.45,6129.65,1218.25,1405.3,533.9,676.15,3804.4,1118.8,5236.4,1386.8,1902.0,239.05,5673.7,39.8,997.75,5574.35,406.05,138.85,123.65,1801.1,689.0,790.7,1618.2,1173.35,900.9,6719.9,3784.0,1798.65,54.65,3886.45,1224.05,2310.2,3988.5,3554.6,null,6034.85,531.6,85.1,173.0,2511.95,3893.6,357.15,467.5,2288.7,6460.55,1931.3,402.6,2221.55,7758.9,224.5,7388.45,3460.95,1700.9,3090.65,1293.8,645.8,5224.95,500.1,2427.1,3488.15,1035.7,7565.35,2799.0,1601.5,6256.2,1232.9,19.9,1937.4,5059.75,3023.65,4889.2,2289.9,6503.2,1313.25,990.3,1864.2,5979.7,3902.45,7142.5,902.0,805.2,528.45,8349.7,4953.25,332.65,470.2,2259.35,1411.35,6328.7,1411.9,6841.4,20.35,238.5,4016.3,226.55,7110.75,1958.95,5528.9,1463.7,1025.05,552.1,3815.4,null,3313.4,1938.9,460.25,4839.15,19.9,5139.65,1673.4,309.35,3171.6,8670.1,916.0,299.75,702.05,19.65,4438.2,4819.75,92.25,1567.0,1242.45,559.2,531.15,1183.2,465.85,3782.4,460.2,1790.35,7767.25,876.15,4600.95,1793.25,886.7,7737.55,1686.85,1879.25,4013.8,434.5,7195.35,780.1,107.6,3801.7,3778.1,5438.95,5102.35,1872.2,213.35,5386.5,235.65,2272.8,83.75,4663.4,201.7,125.0,684.4,1146.05,1806.35,603.0,5798.3,497.6,19.3,266.95,257.0,2623.65,45.85,1082.8,147.8,2570.2,4378.9,3616.25,2924.05,32.7,2882.25,1509.9,5305.05,7985.9,2985.25,564.35,1311.75,3720.35,5025.8,5224.5,6185.8,1498.55,1208.6,6613.65,1818.9,1787.35,1051.05,7181.25,3688.6,821.6,239.45,244.45,3357.9,129.6,4977.2,2424.05,4981.15,2090.25,4905.75,2038.7,4014.0,2441.7,2751.0,1307.8,383.65,53.55,7882.5,1087.7,791.7,7493.05,6841.3,819.95,6052.25,4869.5,509.3,4308.25,221.1,3833.95,294.95,316.9,2651.2,471.7,5720.95,503.25,7365.3,7245.9,961.4,4615.9,3251.3,3880.05,3088.75,1396.0,53.05,2108.35,6770.5,4730.6,1151.05,232.55,1022.6,309.4,523.1,4250.1,770.5,246.7,3342.0,3930.6,897.75,2780.6,5895.45,2208.05,4871.45,4947.55,1558.65,4284.2,1218.25,5617.95,24.2,554.45,5237.4,2032.3,789.2,1525.35,3726.15,1652.1,1588.75,3366.05,7113.75,993.15,5012.35,2093.4,1011.8,1343.4,6794.75,1022.5,3691.2,486.2,4685.55,5150.55,3756.4,3645.75,2874.45,49.95,1020.75,826.0,239.0,7544.3,6479.4,3626.35,1679.4,931.55,4326.25,263.05,39.25,3316.1,2625.25,1495.1,743.3,1419.4,1990.5,7362.9,346.45,6844.5],\"xaxis\":\"x2\",\"yaxis\":\"y2\",\"type\":\"box\"},{\"alignmentgroup\":\"True\",\"bingroup\":\"x\",\"hovertemplate\":\"Churn=Yes\\u003cbr\\u003eTotalCharges=%{x}\\u003cbr\\u003ecount=%{y}\\u003cextra\\u003e\\u003c\\u002fextra\\u003e\",\"legendgroup\":\"Yes\",\"marker\":{\"color\":\"#EF553B\",\"pattern\":{\"shape\":\"\"}},\"name\":\"Yes\",\"offsetgroup\":\"Yes\",\"orientation\":\"v\",\"showlegend\":true,\"x\":[108.15,151.65,820.5,3046.05,5036.3,528.35,39.65,20.15,4749.15,30.2,1093.1,316.9,3549.25,1105.4,144.15,1426.4,633.3,1752.55,857.25,79.35,496.9,927.35,113.85,2514.5,7611.85,5238.9,2868.15,1064.65,229.55,2135.5,1502.65,35.45,81.25,70.45,563.65,45.65,655.5,1592.35,273.0,2651.2,242.8,5000.2,1145.7,503.6,29.95,662.65,1111.65,24.8,531.0,79.9,1934.45,84.5,268.35,179.35,55.2,84.6,114.1,1120.3,1074.3,48.55,147.15,40.2,80.55,132.2,1364.3,1099.6,1511.2,24.8,70.6,401.1,5624.85,1779.95,70.0,606.55,435.4,1712.7,73.6,396.1,2303.35,415.55,3058.65,2231.05,4350.1,139.05,511.25,155.8,5293.95,4759.85,6603.0,168.2,371.9,840.1,846.0,805.1,492.55,181.5,2566.5,50.65,90.85,214.75,4874.7,2524.45,7007.6,19.9,19.6,233.7,1845.9,75.3,1182.55,518.9,6396.45,69.55,2227.1,385.9,673.25,734.35,55.0,74.7,1861.5,453.4,994.8,2145.0,680.05,74.35,139.4,903.6,131.05,1238.45,1782.4,167.5,502.85,334.8,4131.95,1929.35,1758.6,3480.0,85.0,834.1,597.0,3266.0,2596.15,3527.6,5614.45,233.55,75.3,346.2,85.7,713.75,6786.4,248.95,663.05,137.6,4547.25,4687.9,6985.65,5794.65,855.3,2499.3,89.55,1899.65,45.7,161.5,222.3,74.6,164.3,35.9,96.05,145.15,191.05,75.05,2550.9,62.25,80.0,91.1,270.7,168.15,2015.35,19.55,381.3,141.5,3105.55,2758.15,3941.7,1008.55,1842.8,1269.55,1907.85,208.85,1444.65,19.9,454.15,3036.75,184.65,89.5,52.2,4874.8,6125.4,1058.25,489.45,4113.1,69.55,6017.65,7250.15,178.7,2317.1,1430.25,644.35,5453.4,5610.7,292.8,44.4,5509.3,229.6,89.9,6413.65,50.8,1463.5,307.4,2104.55,319.15,5084.65,3027.4,1582.75,1043.3,497.55,6215.35,5017.9,24.6,1120.95,923.5,1625.65,918.6,688.65,73.55,205.05,952.3,360.1,434.5,215.8,3395.8,85.15,44.7,45.7,832.35,112.3,174.8,90.55,1359.7,7532.15,69.9,6383.35,86.6,2656.5,2917.5,2416.1,424.45,660.9,1893.95,1612.75,119.75,3204.65,990.85,696.35,819.4,2070.6,273.75,729.95,3013.05,1266.1,2347.9,19.65,526.95,210.75,3706.95,412.5,832.05,185.55,1943.2,2169.8,4853.75,144.55,91.1,713.0,4527.45,171.15,940.35,1047.7,1622.45,2178.6,168.15,387.2,2839.65,893.55,4284.8,544.55,941.0,1133.65,35.55,196.9,1162.85,224.05,31.35,1052.4,5610.25,19.85,669.45,1553.95,1236.15,60.15,593.45,4867.95,74.9,80.25,1149.65,740.8,1532.45,250.05,2282.55,143.35,45.85,810.2,2564.3,228.4,1529.2,45.3,289.3,987.95,45.05,75.8,523.15,59.05,4424.2,6127.6,6448.05,676.7,632.95,270.95,483.7,1345.55,8127.6,1281.0,1553.9,3207.55,5124.55,3474.45,19.45,76.35,69.25,5961.1,25.2,96.45,20.15,7133.25,169.45,1258.6,857.2,1639.3,889.9,1290.0,330.05,237.95,2452.7,813.85,79.2,347.4,49.95,1554.0,3217.55,3001.2,6254.2,442.85,553.0,76.0,170.85,1308.4,732.5,1504.05,50.45,1132.75,193.6,349.65,332.45,1534.75,20.55,424.15,281.0,3475.55,896.75,2407.3,6547.7,4346.4,2082.95,102.75,1775.8,145.0,1146.65,74.7,1313.55,25.8,72.4,1970.5,190.05,1025.95,819.55,330.15,6873.75,45.85,5769.75,91.7,1555.65,74.95,898.35,127.1,6710.5,1704.95,415.95,950.2,3384.0,165.4,88.8,2755.35,994.55,1169.35,5918.8,2293.6,3029.1,5508.35,655.9,1463.45,5082.8,770.6,3587.25,3541.35,868.5,85.8,79.1,134.5,5341.8,324.6,4812.75,4399.5,50.15,4594.95,2384.15,1616.15,34.7,264.8,6615.15,2200.25,99.75,299.7,639.65,59.85,69.6,418.8,19.5,69.9,183.75,264.85,1178.4,4689.5,1201.15,143.65,390.85,71.65,77.5,3264.5,947.3,1761.05,973.25,76.35,1676.95,2642.05,2661.1,2697.4,1424.5,2572.95,45.1,2122.45,20.05,6937.95,402.6,68.75,46.2,45.15,43.3,2250.65,1441.1,4338.6,45.95,247.25,70.05,165.45,3653.35,1194.3,21.0,45.1,1527.5,378.4,5124.6,3862.55,50.9,4872.45,5118.95,658.95,246.5,215.2,159.45,5940.85,75.35,75.45,1210.4,5356.45,576.65,825.7,93.55,5885.4,1259.0,309.1,2257.75,6287.25,1350.15,45.7,69.95,97.1,1710.45,5464.65,2165.05,4941.8,223.15,181.1,341.45,357.75,4533.7,830.85,45.3,7040.85,371.65,6056.15,1390.6,20.2,2361.8,1730.35,2030.3,4065.0,106.55,1742.75,340.25,95.6,2934.3,4600.7,71.35,20.15,69.75,2931.0,1400.85,137.85,79.95,19.3,3754.6,627.4,242.0,54.35,100.4,1716.45,75.3,4837.6,70.55,2745.7,2624.25,184.1,160.75,3004.15,1233.65,527.9,2555.9,179.25,1338.15,91.3,79.5,467.55,7482.1,5427.05,587.1,100.8,1180.95,2625.55,1233.4,740.0,2088.75,102.45,217.55,146.05,567.45,1384.75,70.9,220.95,2331.3,74.5,6941.2,1043.35,6822.15,71.55,5029.2,7318.2,633.4,321.65,1253.9,25.15,5893.15,5037.55,92.45,2933.2,1258.3,1214.05,5510.65,1973.75,45.95,70.15,85.55,2416.55,3520.75,3467.0,88.35,777.3,512.45,141.45,1445.3,3640.45,6465.0,35.9,3777.15,47.5,847.3,546.95,3186.65,1527.35,1531.4,2847.4,1133.9,461.7,77.15,35.25,201.0,5149.5,5574.75,4541.2,1072.0,1715.65,706.85,2636.05,189.2,74.25,2187.55,1581.2,69.5,3132.75,19.4,803.3,679.3,2791.5,676.35,1230.25,4154.8,2655.25,1425.45,5742.9,2866.45,54.75,3759.05,94.6,2911.3,231.8,69.75,279.25,6281.45,1131.3,738.2,80.2,6341.45,260.8,19.6,3655.45,140.7,665.45,84.8,5426.85,1127.35,4045.65,2757.85,600.0,2238.5,90.75,365.65,90.35,19.75,1789.25,2317.1,266.9,301.4,206.6,604.7,1471.75,412.1,583.45,50.1,151.8,293.65,1308.1,2598.95,765.5,793.55,462.8,169.8,44.4,477.7,86.05,174.3,1077.5,95.65,20.95,329.8,297.3,1515.1,3229.65,1178.25,758.6,1863.8,396.3,5551.15,622.9,329.95,1048.85,3351.55,259.8,6890.0,262.05,2649.15,74.4,3326.2,560.85,1060.2,20.5,347.65,81.95,451.1,455.3,1235.55,2362.1,1873.7,6010.05,7101.5,45.05,71.0,3309.25,79.7,1254.7,2896.4,69.25,1767.35,1820.45,1742.95,73.5,829.1,2602.9,824.75,1029.75,2854.55,4259.3,2239.65,480.75,635.6,2095.0,95.05,4242.35,331.9,6283.3,2659.4,298.45,6143.15,1059.55,2180.55,89.15,1036.75,2276.95,196.15,1206.05,1378.25,219.0,1067.15,79.55,3444.85,84.5,7690.9,1380.1,78.65,45.4,2585.95,58.85,425.9,3678.3,937.5,2483.5,556.35,389.1,187.45,261.25,299.2,323.25,762.1,53.5,25.1,2365.15,308.25,19.45,7372.65,1058.6,2628.6,1023.9,856.35,3734.25,1144.5,45.3,75.6,180.25,19.8,333.6,465.05,431.0,878.35,2448.75,1329.2,4348.65,93.7,25.05,365.55,2342.2,1498.2,5278.15,93.85,50.45,521.1,1046.1,5763.3,20.1,1900.25,159.15,856.65,4056.75,2435.15,2874.15,1974.8,1218.55,81.7,2171.15,317.25,3474.05,1875.55,69.1,69.6,3066.45,305.55,78.45,255.25,146.9,762.5,338.9,2497.35,4913.3,46.3,4443.45,1095.65,446.05,811.8,1056.95,44.15,834.15,85.45,239.55,59.2,1060.6,54.9,2254.2,180.3,158.4,104.2,95.1,438.0,325.45,1148.1,355.2,151.3,188.7,5549.4,5685.8,50.6,863.1,69.8,4750.95,2391.8,1687.95,7689.95,229.55,90.55,2274.35,602.55,449.75,4512.7,196.95,131.05,415.05,754.65,75.35,3198.6,20.9,123.65,7534.65,906.85,4888.7,237.25,74.6,342.4,892.65,4822.85,438.4,3019.5,3183.4,79.6,1734.5,2088.8,502.6,50.75,1208.35,2498.4,651.4,223.45,919.4,181.65,45.65,551.35,115.95,165.2,4146.05,81.0,3017.65,1164.3,2710.25,810.7,36.55,85.5,49.55,178.5,115.1,2745.2,25.25,416.45,4116.15,75.1,3715.65,4273.45,45.8,20.1,328.95,4680.05,69.1,999.45,1888.65,71.15,1240.25,7156.2,270.8,374.5,1520.9,3605.2,1145.35,38.7,70.8,1448.6,291.9,5921.35,249.95,219.65,669.0,68.95,196.75,318.9,24.45,631.85,307.4,55.8,79.05,95.0,25.2,4187.75,5154.6,3496.3,914.3,6110.2,28.3,2351.8,679.55,1994.3,1505.85,5638.3,71.65,2542.45,210.3,74.2,4388.4,420.2,2177.45,3913.3,443.9,3436.1,70.85,3110.1,280.85,6144.55,2983.8,1565.7,298.35,4534.9,1157.05,45.75,815.5,80.15,8109.8,108.95,78.8,5127.95,874.8,69.1,1776.55,536.4,80.85,4029.95,51.15,149.55,78.65,42.9,139.35,539.85,4718.25,434.1,545.2,1284.2,646.85,692.1,1727.5,86.6,2979.5,24.25,837.95,362.2,5373.1,2068.55,131.65,24.05,50.55,1415.55,20.5,321.9,482.8,914.0,1172.95,155.35,3303.05,134.35,70.5,953.45,19.75,937.6,5812.6,1544.05,69.6,4059.35,6851.65,78.05,520.0,706.6,20.2,2264.05,56.35,2510.2,2111.45,20.25,300.8,85.45,6137.0,2043.45,2576.2,3515.25,469.8,1457.25,185.6,973.55,41.85,2862.75,343.95,2890.65,1222.05,5743.05,2496.7,90.6,288.05,368.1,256.6,68.5,791.75,69.95,346.4,773.65,1422.05,2467.1,989.45,4830.25,59.75,94.55,6871.9,6529.25,1454.15,1327.15,2404.15,114.7,6975.25,257.05,40.1,2217.15,1129.1,2568.55,3580.3,293.3,2440.15,79.55,2781.85,89.1,1607.2,1490.95,92.65,606.25,19.1,80.3,74.9,751.65,66.95,4515.85,165.0,3046.4,1808.7,7446.9,25.1,1880.85,477.55,1496.9,70.45,3563.8,24.75,2012.7,242.05,63.75,260.9,2967.35,939.7,1037.75,50.45,3624.3,100.25,1422.1,69.85,858.6,324.3,399.6,3273.55,20.9,69.4,541.15,3229.4,70.1,909.25,5283.95,1617.5,84.3,6440.25,1131.2,585.95,19.95,2186.4,3201.55,661.25,1111.85,3046.15,69.35,272.2,5293.4,50.55,80.55,916.9,1855.65,116.65,2287.25,830.7,20.0,1054.6,85.05,2110.15,547.65,8684.8,4370.25,251.75,740.3,452.7,19.45,166.3,70.0,4820.15,3409.6,1270.2,1561.5,31.55,321.75,147.15,2387.75,2660.2,4211.55,990.9,193.8,790.15,2467.75,7262.0,1914.9,5688.05,5265.1,1772.25,44.45,3067.2,20.25,74.35,62.05,3182.95,541.9,971.3,162.45,216.9,245.2,302.75,60.1,78.95,98.5,244.65,2375.4,2431.35,1451.9,71.1,6979.8,1021.8,94.0,1424.95,193.6,620.55,1993.8,2597.6,1052.35,53.95,829.55,1312.15,69.8,545.15,494.05,2841.55,486.85,204.7,2995.45,137.95,3762.0,3233.6,5438.9,1081.45,221.9,74.9,58.9,333.55,3171.15,74.7,455.5,3152.5,2530.4,3186.7,35.75,181.6,1539.45,58.15,225.6,340.85,2515.3,305.95,365.4,90.85,69.4,742.95,20.15,4816.7,1834.95,305.1,155.65,108.7,44.1,712.75,6405.0,1637.4,6145.85,1740.7,552.95,93.7,1046.5,834.2,4134.85,899.8,108.05,70.3,851.75,575.45,1375.15,152.7,195.05,1660.0,20.2,6981.35,3615.6,2184.35,1852.85,77.15,338.1,3030.6,3124.5,930.45,673.1,208.7,237.75,221.35,75.3,4062.2,4042.3,164.85,70.4,331.3,1147.45,1078.9,7804.15,226.45,4364.1,2433.9,1217.25,1743.5,69.65,713.1,526.7,3021.6,191.35,2718.3,36.45,2001.5,3825.85,933.3,3184.25,764.95,145.4,156.25,1604.5,4533.9,1587.55,842.9,1761.45,164.5,2724.6,318.5,4990.25,3744.05,7220.35,2139.2,521.3,608.0,577.6,292.85,198.0,609.9,79.65,2812.2,80.05,2698.35,1465.75,146.3,51.25,45.6,267.35,288.05,853.0,934.1,1222.8,5293.2,74.45,2345.2,2335.3,1115.15,291.4,453.75,1597.25,235.5,5639.05,799.65,50.8,144.55,2447.95,3050.15,4517.25,19.9,1200.15,70.6,389.6,523.5,2277.65,24.8,6903.1,1008.7,853.1,794.25,160.8,1174.35,741.7,3019.25,4759.75,19.65,84.65,69.55,347.25,354.05,44.35,586.05,3092.65,415.55,73.65,2405.05,4458.15,474.9,668.4,926.25,2541.25,46.0,1156.1,1167.8,3912.9,221.7,201.1,2838.7,70.15,296.1,81.1,20.55,6428.4,6252.9,240.45,315.3,55.7,973.45,669.85,267.4,69.85,53.55,6579.05,7856.0,2169.75,896.9,19.3,49.65,2460.15,370.65,1910.6,890.6,529.5,48.6,2109.35,2265.25,220.6,20.2,229.5,2470.1,1244.5,20.05,3994.45,19.9,667.7,19.95,79.6,75.9,76.2,19.25,3588.4,522.95,70.25,865.55,409.9,60.0,649.65,20.85,2011.4,6205.5,503.6,1152.7,7674.55,2157.95,7548.1,75.7,1951.0,384.5,3432.9,463.05,2867.75,71.35,1132.35,20.6,1931.75,818.05,916.75,70.15,6581.9,3692.85,69.65,89.3,3078.1,1426.75,474.8,446.1,416.3,35.85,1451.6,71.0,746.5,44.4,70.3,79.35,809.75,1470.95,3264.45,246.3,1389.2,1474.75,1460.65,153.05,2119.5,135.0,1400.55,69.65,1060.2,86.0,5785.5,79.45,2816.65,4783.5,470.6,4740.0,1448.8,4254.85,1101.85,20.2,3969.35,1237.85,498.1,294.45,2381.55,613.4,442.2,84.85,654.85,3160.55,740.3,2806.9,1422.65,4138.05,102.5,872.65,757.1,608.8,1139.2,279.55,1483.25,4653.85,4400.75,460.25,5485.5,404.2,7176.55,242.95,866.45,2076.2,7299.65,2291.2,7491.75,7723.9,1032.0,70.75,130.75,2653.65,3457.9,45.3,178.1,480.6,23.45,29.7,6039.9,151.3,55.4,90.6,156.35,2952.85,5916.45,113.35,1359.0,1777.9,4504.55,259.8,5568.35,2203.65,2369.05,672.55,1573.7,126.05,64.55,3243.45,79.25,44.9,659.65,118.5,3365.85,195.3,997.65,5275.8,80.5,305.55,900.5,3856.75,1625.0,3959.35,3969.4,470.95,560.6,25.7,506.9,80.35,76.4,514.0,880.2,69.95,93.3,169.05,35.05,73.0,2716.3,70.1,142.35,33.2,287.4,2254.2,7752.3,6585.35,19.7,413.65,714.15,2497.2,5643.4,197.7,79.15,655.85,303.15,1574.45,6441.4,49.9,1358.85,2869.85,49.25,5071.05,5769.6,20.3,700.85,181.7,4016.85,74.3,44.65,1095.3,788.8,364.55,20.4,4213.35,7723.7,154.65,7348.8,2954.5,3807.35,3937.45,418.4,50.5,74.4,2587.7,6219.6,4871.05,4398.15,167.3,94.4,55.0,101.45,350.3,69.5,18.85,69.2,69.65,4086.3,82.3,267.6,1115.2,5435.6,4186.3,25.05,712.85,48.95,45.3,167.3,930.4,5069.65,324.25,156.4,3626.1,7968.85,152.45,1130.85,4323.45,703.55,56.25,2249.95,159.4,68.65,327.45,1369.8,1107.25,70.85,134.7,2978.3,450.8,1215.6,91.7,7432.05,4026.4,25.3,1193.05,20.1,69.9,4528.0,80.8,118.3,76.45,1094.5,573.75,2274.9,74.5,1068.85,762.25,582.5,2122.05,69.15,723.4,4627.85,289.1,172.85,85.5,1096.25,228.0,5746.15,209.1,4481.0,154.85,593.75,3233.85,1062.1,5440.9,235.1,85.0,3014.65,184.4,2010.55,69.2,2354.8,3473.4,220.1,6876.05,501.0,20.2,733.35,1334.0,113.55,1348.9,308.7,438.25,50.35,3147.5,70.3,5617.75,1776.95,2483.05,5224.35,620.35,519.15,1301.7,1129.75,865.8,79.55,6014.85,2368.4,3545.35,1301.0,372.45,77.75,95.45,1135.7,2319.8,69.7,573.3,99.75,871.4,780.5,365.35,334.65,43.95,45.1,2868.05,449.75,4414.3,3361.05,69.35,4092.85,216.75,69.6,385.0,30.5,6859.5,5121.3,1127.2,1747.85,2754.45,2196.15,1692.6,20.5,265.35,1836.25,6418.9,679.85,2804.45,778.1,4367.35,2728.6,106.85,130.1,4036.85,256.25,1917.1,74.45,272.15,70.65,727.8,403.35,75.75,6886.25,306.6],\"xaxis\":\"x\",\"yaxis\":\"y\",\"type\":\"histogram\"},{\"alignmentgroup\":\"True\",\"hovertemplate\":\"Churn=Yes\\u003cbr\\u003eTotalCharges=%{x}\\u003cextra\\u003e\\u003c\\u002fextra\\u003e\",\"legendgroup\":\"Yes\",\"marker\":{\"color\":\"#EF553B\"},\"name\":\"Yes\",\"notched\":true,\"offsetgroup\":\"Yes\",\"showlegend\":false,\"x\":[108.15,151.65,820.5,3046.05,5036.3,528.35,39.65,20.15,4749.15,30.2,1093.1,316.9,3549.25,1105.4,144.15,1426.4,633.3,1752.55,857.25,79.35,496.9,927.35,113.85,2514.5,7611.85,5238.9,2868.15,1064.65,229.55,2135.5,1502.65,35.45,81.25,70.45,563.65,45.65,655.5,1592.35,273.0,2651.2,242.8,5000.2,1145.7,503.6,29.95,662.65,1111.65,24.8,531.0,79.9,1934.45,84.5,268.35,179.35,55.2,84.6,114.1,1120.3,1074.3,48.55,147.15,40.2,80.55,132.2,1364.3,1099.6,1511.2,24.8,70.6,401.1,5624.85,1779.95,70.0,606.55,435.4,1712.7,73.6,396.1,2303.35,415.55,3058.65,2231.05,4350.1,139.05,511.25,155.8,5293.95,4759.85,6603.0,168.2,371.9,840.1,846.0,805.1,492.55,181.5,2566.5,50.65,90.85,214.75,4874.7,2524.45,7007.6,19.9,19.6,233.7,1845.9,75.3,1182.55,518.9,6396.45,69.55,2227.1,385.9,673.25,734.35,55.0,74.7,1861.5,453.4,994.8,2145.0,680.05,74.35,139.4,903.6,131.05,1238.45,1782.4,167.5,502.85,334.8,4131.95,1929.35,1758.6,3480.0,85.0,834.1,597.0,3266.0,2596.15,3527.6,5614.45,233.55,75.3,346.2,85.7,713.75,6786.4,248.95,663.05,137.6,4547.25,4687.9,6985.65,5794.65,855.3,2499.3,89.55,1899.65,45.7,161.5,222.3,74.6,164.3,35.9,96.05,145.15,191.05,75.05,2550.9,62.25,80.0,91.1,270.7,168.15,2015.35,19.55,381.3,141.5,3105.55,2758.15,3941.7,1008.55,1842.8,1269.55,1907.85,208.85,1444.65,19.9,454.15,3036.75,184.65,89.5,52.2,4874.8,6125.4,1058.25,489.45,4113.1,69.55,6017.65,7250.15,178.7,2317.1,1430.25,644.35,5453.4,5610.7,292.8,44.4,5509.3,229.6,89.9,6413.65,50.8,1463.5,307.4,2104.55,319.15,5084.65,3027.4,1582.75,1043.3,497.55,6215.35,5017.9,24.6,1120.95,923.5,1625.65,918.6,688.65,73.55,205.05,952.3,360.1,434.5,215.8,3395.8,85.15,44.7,45.7,832.35,112.3,174.8,90.55,1359.7,7532.15,69.9,6383.35,86.6,2656.5,2917.5,2416.1,424.45,660.9,1893.95,1612.75,119.75,3204.65,990.85,696.35,819.4,2070.6,273.75,729.95,3013.05,1266.1,2347.9,19.65,526.95,210.75,3706.95,412.5,832.05,185.55,1943.2,2169.8,4853.75,144.55,91.1,713.0,4527.45,171.15,940.35,1047.7,1622.45,2178.6,168.15,387.2,2839.65,893.55,4284.8,544.55,941.0,1133.65,35.55,196.9,1162.85,224.05,31.35,1052.4,5610.25,19.85,669.45,1553.95,1236.15,60.15,593.45,4867.95,74.9,80.25,1149.65,740.8,1532.45,250.05,2282.55,143.35,45.85,810.2,2564.3,228.4,1529.2,45.3,289.3,987.95,45.05,75.8,523.15,59.05,4424.2,6127.6,6448.05,676.7,632.95,270.95,483.7,1345.55,8127.6,1281.0,1553.9,3207.55,5124.55,3474.45,19.45,76.35,69.25,5961.1,25.2,96.45,20.15,7133.25,169.45,1258.6,857.2,1639.3,889.9,1290.0,330.05,237.95,2452.7,813.85,79.2,347.4,49.95,1554.0,3217.55,3001.2,6254.2,442.85,553.0,76.0,170.85,1308.4,732.5,1504.05,50.45,1132.75,193.6,349.65,332.45,1534.75,20.55,424.15,281.0,3475.55,896.75,2407.3,6547.7,4346.4,2082.95,102.75,1775.8,145.0,1146.65,74.7,1313.55,25.8,72.4,1970.5,190.05,1025.95,819.55,330.15,6873.75,45.85,5769.75,91.7,1555.65,74.95,898.35,127.1,6710.5,1704.95,415.95,950.2,3384.0,165.4,88.8,2755.35,994.55,1169.35,5918.8,2293.6,3029.1,5508.35,655.9,1463.45,5082.8,770.6,3587.25,3541.35,868.5,85.8,79.1,134.5,5341.8,324.6,4812.75,4399.5,50.15,4594.95,2384.15,1616.15,34.7,264.8,6615.15,2200.25,99.75,299.7,639.65,59.85,69.6,418.8,19.5,69.9,183.75,264.85,1178.4,4689.5,1201.15,143.65,390.85,71.65,77.5,3264.5,947.3,1761.05,973.25,76.35,1676.95,2642.05,2661.1,2697.4,1424.5,2572.95,45.1,2122.45,20.05,6937.95,402.6,68.75,46.2,45.15,43.3,2250.65,1441.1,4338.6,45.95,247.25,70.05,165.45,3653.35,1194.3,21.0,45.1,1527.5,378.4,5124.6,3862.55,50.9,4872.45,5118.95,658.95,246.5,215.2,159.45,5940.85,75.35,75.45,1210.4,5356.45,576.65,825.7,93.55,5885.4,1259.0,309.1,2257.75,6287.25,1350.15,45.7,69.95,97.1,1710.45,5464.65,2165.05,4941.8,223.15,181.1,341.45,357.75,4533.7,830.85,45.3,7040.85,371.65,6056.15,1390.6,20.2,2361.8,1730.35,2030.3,4065.0,106.55,1742.75,340.25,95.6,2934.3,4600.7,71.35,20.15,69.75,2931.0,1400.85,137.85,79.95,19.3,3754.6,627.4,242.0,54.35,100.4,1716.45,75.3,4837.6,70.55,2745.7,2624.25,184.1,160.75,3004.15,1233.65,527.9,2555.9,179.25,1338.15,91.3,79.5,467.55,7482.1,5427.05,587.1,100.8,1180.95,2625.55,1233.4,740.0,2088.75,102.45,217.55,146.05,567.45,1384.75,70.9,220.95,2331.3,74.5,6941.2,1043.35,6822.15,71.55,5029.2,7318.2,633.4,321.65,1253.9,25.15,5893.15,5037.55,92.45,2933.2,1258.3,1214.05,5510.65,1973.75,45.95,70.15,85.55,2416.55,3520.75,3467.0,88.35,777.3,512.45,141.45,1445.3,3640.45,6465.0,35.9,3777.15,47.5,847.3,546.95,3186.65,1527.35,1531.4,2847.4,1133.9,461.7,77.15,35.25,201.0,5149.5,5574.75,4541.2,1072.0,1715.65,706.85,2636.05,189.2,74.25,2187.55,1581.2,69.5,3132.75,19.4,803.3,679.3,2791.5,676.35,1230.25,4154.8,2655.25,1425.45,5742.9,2866.45,54.75,3759.05,94.6,2911.3,231.8,69.75,279.25,6281.45,1131.3,738.2,80.2,6341.45,260.8,19.6,3655.45,140.7,665.45,84.8,5426.85,1127.35,4045.65,2757.85,600.0,2238.5,90.75,365.65,90.35,19.75,1789.25,2317.1,266.9,301.4,206.6,604.7,1471.75,412.1,583.45,50.1,151.8,293.65,1308.1,2598.95,765.5,793.55,462.8,169.8,44.4,477.7,86.05,174.3,1077.5,95.65,20.95,329.8,297.3,1515.1,3229.65,1178.25,758.6,1863.8,396.3,5551.15,622.9,329.95,1048.85,3351.55,259.8,6890.0,262.05,2649.15,74.4,3326.2,560.85,1060.2,20.5,347.65,81.95,451.1,455.3,1235.55,2362.1,1873.7,6010.05,7101.5,45.05,71.0,3309.25,79.7,1254.7,2896.4,69.25,1767.35,1820.45,1742.95,73.5,829.1,2602.9,824.75,1029.75,2854.55,4259.3,2239.65,480.75,635.6,2095.0,95.05,4242.35,331.9,6283.3,2659.4,298.45,6143.15,1059.55,2180.55,89.15,1036.75,2276.95,196.15,1206.05,1378.25,219.0,1067.15,79.55,3444.85,84.5,7690.9,1380.1,78.65,45.4,2585.95,58.85,425.9,3678.3,937.5,2483.5,556.35,389.1,187.45,261.25,299.2,323.25,762.1,53.5,25.1,2365.15,308.25,19.45,7372.65,1058.6,2628.6,1023.9,856.35,3734.25,1144.5,45.3,75.6,180.25,19.8,333.6,465.05,431.0,878.35,2448.75,1329.2,4348.65,93.7,25.05,365.55,2342.2,1498.2,5278.15,93.85,50.45,521.1,1046.1,5763.3,20.1,1900.25,159.15,856.65,4056.75,2435.15,2874.15,1974.8,1218.55,81.7,2171.15,317.25,3474.05,1875.55,69.1,69.6,3066.45,305.55,78.45,255.25,146.9,762.5,338.9,2497.35,4913.3,46.3,4443.45,1095.65,446.05,811.8,1056.95,44.15,834.15,85.45,239.55,59.2,1060.6,54.9,2254.2,180.3,158.4,104.2,95.1,438.0,325.45,1148.1,355.2,151.3,188.7,5549.4,5685.8,50.6,863.1,69.8,4750.95,2391.8,1687.95,7689.95,229.55,90.55,2274.35,602.55,449.75,4512.7,196.95,131.05,415.05,754.65,75.35,3198.6,20.9,123.65,7534.65,906.85,4888.7,237.25,74.6,342.4,892.65,4822.85,438.4,3019.5,3183.4,79.6,1734.5,2088.8,502.6,50.75,1208.35,2498.4,651.4,223.45,919.4,181.65,45.65,551.35,115.95,165.2,4146.05,81.0,3017.65,1164.3,2710.25,810.7,36.55,85.5,49.55,178.5,115.1,2745.2,25.25,416.45,4116.15,75.1,3715.65,4273.45,45.8,20.1,328.95,4680.05,69.1,999.45,1888.65,71.15,1240.25,7156.2,270.8,374.5,1520.9,3605.2,1145.35,38.7,70.8,1448.6,291.9,5921.35,249.95,219.65,669.0,68.95,196.75,318.9,24.45,631.85,307.4,55.8,79.05,95.0,25.2,4187.75,5154.6,3496.3,914.3,6110.2,28.3,2351.8,679.55,1994.3,1505.85,5638.3,71.65,2542.45,210.3,74.2,4388.4,420.2,2177.45,3913.3,443.9,3436.1,70.85,3110.1,280.85,6144.55,2983.8,1565.7,298.35,4534.9,1157.05,45.75,815.5,80.15,8109.8,108.95,78.8,5127.95,874.8,69.1,1776.55,536.4,80.85,4029.95,51.15,149.55,78.65,42.9,139.35,539.85,4718.25,434.1,545.2,1284.2,646.85,692.1,1727.5,86.6,2979.5,24.25,837.95,362.2,5373.1,2068.55,131.65,24.05,50.55,1415.55,20.5,321.9,482.8,914.0,1172.95,155.35,3303.05,134.35,70.5,953.45,19.75,937.6,5812.6,1544.05,69.6,4059.35,6851.65,78.05,520.0,706.6,20.2,2264.05,56.35,2510.2,2111.45,20.25,300.8,85.45,6137.0,2043.45,2576.2,3515.25,469.8,1457.25,185.6,973.55,41.85,2862.75,343.95,2890.65,1222.05,5743.05,2496.7,90.6,288.05,368.1,256.6,68.5,791.75,69.95,346.4,773.65,1422.05,2467.1,989.45,4830.25,59.75,94.55,6871.9,6529.25,1454.15,1327.15,2404.15,114.7,6975.25,257.05,40.1,2217.15,1129.1,2568.55,3580.3,293.3,2440.15,79.55,2781.85,89.1,1607.2,1490.95,92.65,606.25,19.1,80.3,74.9,751.65,66.95,4515.85,165.0,3046.4,1808.7,7446.9,25.1,1880.85,477.55,1496.9,70.45,3563.8,24.75,2012.7,242.05,63.75,260.9,2967.35,939.7,1037.75,50.45,3624.3,100.25,1422.1,69.85,858.6,324.3,399.6,3273.55,20.9,69.4,541.15,3229.4,70.1,909.25,5283.95,1617.5,84.3,6440.25,1131.2,585.95,19.95,2186.4,3201.55,661.25,1111.85,3046.15,69.35,272.2,5293.4,50.55,80.55,916.9,1855.65,116.65,2287.25,830.7,20.0,1054.6,85.05,2110.15,547.65,8684.8,4370.25,251.75,740.3,452.7,19.45,166.3,70.0,4820.15,3409.6,1270.2,1561.5,31.55,321.75,147.15,2387.75,2660.2,4211.55,990.9,193.8,790.15,2467.75,7262.0,1914.9,5688.05,5265.1,1772.25,44.45,3067.2,20.25,74.35,62.05,3182.95,541.9,971.3,162.45,216.9,245.2,302.75,60.1,78.95,98.5,244.65,2375.4,2431.35,1451.9,71.1,6979.8,1021.8,94.0,1424.95,193.6,620.55,1993.8,2597.6,1052.35,53.95,829.55,1312.15,69.8,545.15,494.05,2841.55,486.85,204.7,2995.45,137.95,3762.0,3233.6,5438.9,1081.45,221.9,74.9,58.9,333.55,3171.15,74.7,455.5,3152.5,2530.4,3186.7,35.75,181.6,1539.45,58.15,225.6,340.85,2515.3,305.95,365.4,90.85,69.4,742.95,20.15,4816.7,1834.95,305.1,155.65,108.7,44.1,712.75,6405.0,1637.4,6145.85,1740.7,552.95,93.7,1046.5,834.2,4134.85,899.8,108.05,70.3,851.75,575.45,1375.15,152.7,195.05,1660.0,20.2,6981.35,3615.6,2184.35,1852.85,77.15,338.1,3030.6,3124.5,930.45,673.1,208.7,237.75,221.35,75.3,4062.2,4042.3,164.85,70.4,331.3,1147.45,1078.9,7804.15,226.45,4364.1,2433.9,1217.25,1743.5,69.65,713.1,526.7,3021.6,191.35,2718.3,36.45,2001.5,3825.85,933.3,3184.25,764.95,145.4,156.25,1604.5,4533.9,1587.55,842.9,1761.45,164.5,2724.6,318.5,4990.25,3744.05,7220.35,2139.2,521.3,608.0,577.6,292.85,198.0,609.9,79.65,2812.2,80.05,2698.35,1465.75,146.3,51.25,45.6,267.35,288.05,853.0,934.1,1222.8,5293.2,74.45,2345.2,2335.3,1115.15,291.4,453.75,1597.25,235.5,5639.05,799.65,50.8,144.55,2447.95,3050.15,4517.25,19.9,1200.15,70.6,389.6,523.5,2277.65,24.8,6903.1,1008.7,853.1,794.25,160.8,1174.35,741.7,3019.25,4759.75,19.65,84.65,69.55,347.25,354.05,44.35,586.05,3092.65,415.55,73.65,2405.05,4458.15,474.9,668.4,926.25,2541.25,46.0,1156.1,1167.8,3912.9,221.7,201.1,2838.7,70.15,296.1,81.1,20.55,6428.4,6252.9,240.45,315.3,55.7,973.45,669.85,267.4,69.85,53.55,6579.05,7856.0,2169.75,896.9,19.3,49.65,2460.15,370.65,1910.6,890.6,529.5,48.6,2109.35,2265.25,220.6,20.2,229.5,2470.1,1244.5,20.05,3994.45,19.9,667.7,19.95,79.6,75.9,76.2,19.25,3588.4,522.95,70.25,865.55,409.9,60.0,649.65,20.85,2011.4,6205.5,503.6,1152.7,7674.55,2157.95,7548.1,75.7,1951.0,384.5,3432.9,463.05,2867.75,71.35,1132.35,20.6,1931.75,818.05,916.75,70.15,6581.9,3692.85,69.65,89.3,3078.1,1426.75,474.8,446.1,416.3,35.85,1451.6,71.0,746.5,44.4,70.3,79.35,809.75,1470.95,3264.45,246.3,1389.2,1474.75,1460.65,153.05,2119.5,135.0,1400.55,69.65,1060.2,86.0,5785.5,79.45,2816.65,4783.5,470.6,4740.0,1448.8,4254.85,1101.85,20.2,3969.35,1237.85,498.1,294.45,2381.55,613.4,442.2,84.85,654.85,3160.55,740.3,2806.9,1422.65,4138.05,102.5,872.65,757.1,608.8,1139.2,279.55,1483.25,4653.85,4400.75,460.25,5485.5,404.2,7176.55,242.95,866.45,2076.2,7299.65,2291.2,7491.75,7723.9,1032.0,70.75,130.75,2653.65,3457.9,45.3,178.1,480.6,23.45,29.7,6039.9,151.3,55.4,90.6,156.35,2952.85,5916.45,113.35,1359.0,1777.9,4504.55,259.8,5568.35,2203.65,2369.05,672.55,1573.7,126.05,64.55,3243.45,79.25,44.9,659.65,118.5,3365.85,195.3,997.65,5275.8,80.5,305.55,900.5,3856.75,1625.0,3959.35,3969.4,470.95,560.6,25.7,506.9,80.35,76.4,514.0,880.2,69.95,93.3,169.05,35.05,73.0,2716.3,70.1,142.35,33.2,287.4,2254.2,7752.3,6585.35,19.7,413.65,714.15,2497.2,5643.4,197.7,79.15,655.85,303.15,1574.45,6441.4,49.9,1358.85,2869.85,49.25,5071.05,5769.6,20.3,700.85,181.7,4016.85,74.3,44.65,1095.3,788.8,364.55,20.4,4213.35,7723.7,154.65,7348.8,2954.5,3807.35,3937.45,418.4,50.5,74.4,2587.7,6219.6,4871.05,4398.15,167.3,94.4,55.0,101.45,350.3,69.5,18.85,69.2,69.65,4086.3,82.3,267.6,1115.2,5435.6,4186.3,25.05,712.85,48.95,45.3,167.3,930.4,5069.65,324.25,156.4,3626.1,7968.85,152.45,1130.85,4323.45,703.55,56.25,2249.95,159.4,68.65,327.45,1369.8,1107.25,70.85,134.7,2978.3,450.8,1215.6,91.7,7432.05,4026.4,25.3,1193.05,20.1,69.9,4528.0,80.8,118.3,76.45,1094.5,573.75,2274.9,74.5,1068.85,762.25,582.5,2122.05,69.15,723.4,4627.85,289.1,172.85,85.5,1096.25,228.0,5746.15,209.1,4481.0,154.85,593.75,3233.85,1062.1,5440.9,235.1,85.0,3014.65,184.4,2010.55,69.2,2354.8,3473.4,220.1,6876.05,501.0,20.2,733.35,1334.0,113.55,1348.9,308.7,438.25,50.35,3147.5,70.3,5617.75,1776.95,2483.05,5224.35,620.35,519.15,1301.7,1129.75,865.8,79.55,6014.85,2368.4,3545.35,1301.0,372.45,77.75,95.45,1135.7,2319.8,69.7,573.3,99.75,871.4,780.5,365.35,334.65,43.95,45.1,2868.05,449.75,4414.3,3361.05,69.35,4092.85,216.75,69.6,385.0,30.5,6859.5,5121.3,1127.2,1747.85,2754.45,2196.15,1692.6,20.5,265.35,1836.25,6418.9,679.85,2804.45,778.1,4367.35,2728.6,106.85,130.1,4036.85,256.25,1917.1,74.45,272.15,70.65,727.8,403.35,75.75,6886.25,306.6],\"xaxis\":\"x2\",\"yaxis\":\"y2\",\"type\":\"box\"}],                        {\"template\":{\"data\":{\"histogram2dcontour\":[{\"type\":\"histogram2dcontour\",\"colorbar\":{\"outlinewidth\":0,\"ticks\":\"\"},\"colorscale\":[[0.0,\"#0d0887\"],[0.1111111111111111,\"#46039f\"],[0.2222222222222222,\"#7201a8\"],[0.3333333333333333,\"#9c179e\"],[0.4444444444444444,\"#bd3786\"],[0.5555555555555556,\"#d8576b\"],[0.6666666666666666,\"#ed7953\"],[0.7777777777777778,\"#fb9f3a\"],[0.8888888888888888,\"#fdca26\"],[1.0,\"#f0f921\"]]}],\"choropleth\":[{\"type\":\"choropleth\",\"colorbar\":{\"outlinewidth\":0,\"ticks\":\"\"}}],\"histogram2d\":[{\"type\":\"histogram2d\",\"colorbar\":{\"outlinewidth\":0,\"ticks\":\"\"},\"colorscale\":[[0.0,\"#0d0887\"],[0.1111111111111111,\"#46039f\"],[0.2222222222222222,\"#7201a8\"],[0.3333333333333333,\"#9c179e\"],[0.4444444444444444,\"#bd3786\"],[0.5555555555555556,\"#d8576b\"],[0.6666666666666666,\"#ed7953\"],[0.7777777777777778,\"#fb9f3a\"],[0.8888888888888888,\"#fdca26\"],[1.0,\"#f0f921\"]]}],\"heatmap\":[{\"type\":\"heatmap\",\"colorbar\":{\"outlinewidth\":0,\"ticks\":\"\"},\"colorscale\":[[0.0,\"#0d0887\"],[0.1111111111111111,\"#46039f\"],[0.2222222222222222,\"#7201a8\"],[0.3333333333333333,\"#9c179e\"],[0.4444444444444444,\"#bd3786\"],[0.5555555555555556,\"#d8576b\"],[0.6666666666666666,\"#ed7953\"],[0.7777777777777778,\"#fb9f3a\"],[0.8888888888888888,\"#fdca26\"],[1.0,\"#f0f921\"]]}],\"heatmapgl\":[{\"type\":\"heatmapgl\",\"colorbar\":{\"outlinewidth\":0,\"ticks\":\"\"},\"colorscale\":[[0.0,\"#0d0887\"],[0.1111111111111111,\"#46039f\"],[0.2222222222222222,\"#7201a8\"],[0.3333333333333333,\"#9c179e\"],[0.4444444444444444,\"#bd3786\"],[0.5555555555555556,\"#d8576b\"],[0.6666666666666666,\"#ed7953\"],[0.7777777777777778,\"#fb9f3a\"],[0.8888888888888888,\"#fdca26\"],[1.0,\"#f0f921\"]]}],\"contourcarpet\":[{\"type\":\"contourcarpet\",\"colorbar\":{\"outlinewidth\":0,\"ticks\":\"\"}}],\"contour\":[{\"type\":\"contour\",\"colorbar\":{\"outlinewidth\":0,\"ticks\":\"\"},\"colorscale\":[[0.0,\"#0d0887\"],[0.1111111111111111,\"#46039f\"],[0.2222222222222222,\"#7201a8\"],[0.3333333333333333,\"#9c179e\"],[0.4444444444444444,\"#bd3786\"],[0.5555555555555556,\"#d8576b\"],[0.6666666666666666,\"#ed7953\"],[0.7777777777777778,\"#fb9f3a\"],[0.8888888888888888,\"#fdca26\"],[1.0,\"#f0f921\"]]}],\"surface\":[{\"type\":\"surface\",\"colorbar\":{\"outlinewidth\":0,\"ticks\":\"\"},\"colorscale\":[[0.0,\"#0d0887\"],[0.1111111111111111,\"#46039f\"],[0.2222222222222222,\"#7201a8\"],[0.3333333333333333,\"#9c179e\"],[0.4444444444444444,\"#bd3786\"],[0.5555555555555556,\"#d8576b\"],[0.6666666666666666,\"#ed7953\"],[0.7777777777777778,\"#fb9f3a\"],[0.8888888888888888,\"#fdca26\"],[1.0,\"#f0f921\"]]}],\"mesh3d\":[{\"type\":\"mesh3d\",\"colorbar\":{\"outlinewidth\":0,\"ticks\":\"\"}}],\"scatter\":[{\"fillpattern\":{\"fillmode\":\"overlay\",\"size\":10,\"solidity\":0.2},\"type\":\"scatter\"}],\"parcoords\":[{\"type\":\"parcoords\",\"line\":{\"colorbar\":{\"outlinewidth\":0,\"ticks\":\"\"}}}],\"scatterpolargl\":[{\"type\":\"scatterpolargl\",\"marker\":{\"colorbar\":{\"outlinewidth\":0,\"ticks\":\"\"}}}],\"bar\":[{\"error_x\":{\"color\":\"#2a3f5f\"},\"error_y\":{\"color\":\"#2a3f5f\"},\"marker\":{\"line\":{\"color\":\"#E5ECF6\",\"width\":0.5},\"pattern\":{\"fillmode\":\"overlay\",\"size\":10,\"solidity\":0.2}},\"type\":\"bar\"}],\"scattergeo\":[{\"type\":\"scattergeo\",\"marker\":{\"colorbar\":{\"outlinewidth\":0,\"ticks\":\"\"}}}],\"scatterpolar\":[{\"type\":\"scatterpolar\",\"marker\":{\"colorbar\":{\"outlinewidth\":0,\"ticks\":\"\"}}}],\"histogram\":[{\"marker\":{\"pattern\":{\"fillmode\":\"overlay\",\"size\":10,\"solidity\":0.2}},\"type\":\"histogram\"}],\"scattergl\":[{\"type\":\"scattergl\",\"marker\":{\"colorbar\":{\"outlinewidth\":0,\"ticks\":\"\"}}}],\"scatter3d\":[{\"type\":\"scatter3d\",\"line\":{\"colorbar\":{\"outlinewidth\":0,\"ticks\":\"\"}},\"marker\":{\"colorbar\":{\"outlinewidth\":0,\"ticks\":\"\"}}}],\"scattermapbox\":[{\"type\":\"scattermapbox\",\"marker\":{\"colorbar\":{\"outlinewidth\":0,\"ticks\":\"\"}}}],\"scatterternary\":[{\"type\":\"scatterternary\",\"marker\":{\"colorbar\":{\"outlinewidth\":0,\"ticks\":\"\"}}}],\"scattercarpet\":[{\"type\":\"scattercarpet\",\"marker\":{\"colorbar\":{\"outlinewidth\":0,\"ticks\":\"\"}}}],\"carpet\":[{\"aaxis\":{\"endlinecolor\":\"#2a3f5f\",\"gridcolor\":\"white\",\"linecolor\":\"white\",\"minorgridcolor\":\"white\",\"startlinecolor\":\"#2a3f5f\"},\"baxis\":{\"endlinecolor\":\"#2a3f5f\",\"gridcolor\":\"white\",\"linecolor\":\"white\",\"minorgridcolor\":\"white\",\"startlinecolor\":\"#2a3f5f\"},\"type\":\"carpet\"}],\"table\":[{\"cells\":{\"fill\":{\"color\":\"#EBF0F8\"},\"line\":{\"color\":\"white\"}},\"header\":{\"fill\":{\"color\":\"#C8D4E3\"},\"line\":{\"color\":\"white\"}},\"type\":\"table\"}],\"barpolar\":[{\"marker\":{\"line\":{\"color\":\"#E5ECF6\",\"width\":0.5},\"pattern\":{\"fillmode\":\"overlay\",\"size\":10,\"solidity\":0.2}},\"type\":\"barpolar\"}],\"pie\":[{\"automargin\":true,\"type\":\"pie\"}]},\"layout\":{\"autotypenumbers\":\"strict\",\"colorway\":[\"#636efa\",\"#EF553B\",\"#00cc96\",\"#ab63fa\",\"#FFA15A\",\"#19d3f3\",\"#FF6692\",\"#B6E880\",\"#FF97FF\",\"#FECB52\"],\"font\":{\"color\":\"#2a3f5f\"},\"hovermode\":\"closest\",\"hoverlabel\":{\"align\":\"left\"},\"paper_bgcolor\":\"white\",\"plot_bgcolor\":\"#E5ECF6\",\"polar\":{\"bgcolor\":\"#E5ECF6\",\"angularaxis\":{\"gridcolor\":\"white\",\"linecolor\":\"white\",\"ticks\":\"\"},\"radialaxis\":{\"gridcolor\":\"white\",\"linecolor\":\"white\",\"ticks\":\"\"}},\"ternary\":{\"bgcolor\":\"#E5ECF6\",\"aaxis\":{\"gridcolor\":\"white\",\"linecolor\":\"white\",\"ticks\":\"\"},\"baxis\":{\"gridcolor\":\"white\",\"linecolor\":\"white\",\"ticks\":\"\"},\"caxis\":{\"gridcolor\":\"white\",\"linecolor\":\"white\",\"ticks\":\"\"}},\"coloraxis\":{\"colorbar\":{\"outlinewidth\":0,\"ticks\":\"\"}},\"colorscale\":{\"sequential\":[[0.0,\"#0d0887\"],[0.1111111111111111,\"#46039f\"],[0.2222222222222222,\"#7201a8\"],[0.3333333333333333,\"#9c179e\"],[0.4444444444444444,\"#bd3786\"],[0.5555555555555556,\"#d8576b\"],[0.6666666666666666,\"#ed7953\"],[0.7777777777777778,\"#fb9f3a\"],[0.8888888888888888,\"#fdca26\"],[1.0,\"#f0f921\"]],\"sequentialminus\":[[0.0,\"#0d0887\"],[0.1111111111111111,\"#46039f\"],[0.2222222222222222,\"#7201a8\"],[0.3333333333333333,\"#9c179e\"],[0.4444444444444444,\"#bd3786\"],[0.5555555555555556,\"#d8576b\"],[0.6666666666666666,\"#ed7953\"],[0.7777777777777778,\"#fb9f3a\"],[0.8888888888888888,\"#fdca26\"],[1.0,\"#f0f921\"]],\"diverging\":[[0,\"#8e0152\"],[0.1,\"#c51b7d\"],[0.2,\"#de77ae\"],[0.3,\"#f1b6da\"],[0.4,\"#fde0ef\"],[0.5,\"#f7f7f7\"],[0.6,\"#e6f5d0\"],[0.7,\"#b8e186\"],[0.8,\"#7fbc41\"],[0.9,\"#4d9221\"],[1,\"#276419\"]]},\"xaxis\":{\"gridcolor\":\"white\",\"linecolor\":\"white\",\"ticks\":\"\",\"title\":{\"standoff\":15},\"zerolinecolor\":\"white\",\"automargin\":true,\"zerolinewidth\":2},\"yaxis\":{\"gridcolor\":\"white\",\"linecolor\":\"white\",\"ticks\":\"\",\"title\":{\"standoff\":15},\"zerolinecolor\":\"white\",\"automargin\":true,\"zerolinewidth\":2},\"scene\":{\"xaxis\":{\"backgroundcolor\":\"#E5ECF6\",\"gridcolor\":\"white\",\"linecolor\":\"white\",\"showbackground\":true,\"ticks\":\"\",\"zerolinecolor\":\"white\",\"gridwidth\":2},\"yaxis\":{\"backgroundcolor\":\"#E5ECF6\",\"gridcolor\":\"white\",\"linecolor\":\"white\",\"showbackground\":true,\"ticks\":\"\",\"zerolinecolor\":\"white\",\"gridwidth\":2},\"zaxis\":{\"backgroundcolor\":\"#E5ECF6\",\"gridcolor\":\"white\",\"linecolor\":\"white\",\"showbackground\":true,\"ticks\":\"\",\"zerolinecolor\":\"white\",\"gridwidth\":2}},\"shapedefaults\":{\"line\":{\"color\":\"#2a3f5f\"}},\"annotationdefaults\":{\"arrowcolor\":\"#2a3f5f\",\"arrowhead\":0,\"arrowwidth\":1},\"geo\":{\"bgcolor\":\"white\",\"landcolor\":\"#E5ECF6\",\"subunitcolor\":\"white\",\"showland\":true,\"showlakes\":true,\"lakecolor\":\"white\"},\"title\":{\"x\":0.05},\"mapbox\":{\"style\":\"light\"}}},\"xaxis\":{\"anchor\":\"y\",\"domain\":[0.0,1.0],\"title\":{\"text\":\"TotalCharges\"}},\"yaxis\":{\"anchor\":\"x\",\"domain\":[0.0,0.7326],\"title\":{\"text\":\"count\"}},\"xaxis2\":{\"anchor\":\"y2\",\"domain\":[0.0,1.0],\"matches\":\"x\",\"showticklabels\":false,\"showgrid\":true},\"yaxis2\":{\"anchor\":\"x2\",\"domain\":[0.7426,1.0],\"matches\":\"y2\",\"showticklabels\":false,\"showline\":false,\"ticks\":\"\",\"showgrid\":false},\"legend\":{\"title\":{\"text\":\"Churn\"},\"tracegroupgap\":0},\"margin\":{\"t\":60},\"barmode\":\"relative\"},                        {\"responsive\": true}                    ).then(function(){\n",
              "                            \n",
              "var gd = document.getElementById('0dd98ab8-d69a-4f06-a6f1-4161fc693a53');\n",
              "var x = new MutationObserver(function (mutations, observer) {{\n",
              "        var display = window.getComputedStyle(gd).display;\n",
              "        if (!display || display === 'none') {{\n",
              "            console.log([gd, 'removed!']);\n",
              "            Plotly.purge(gd);\n",
              "            observer.disconnect();\n",
              "        }}\n",
              "}});\n",
              "\n",
              "// Listen for the removal of the full notebook cells\n",
              "var notebookContainer = gd.closest('#notebook-container');\n",
              "if (notebookContainer) {{\n",
              "    x.observe(notebookContainer, {childList: true});\n",
              "}}\n",
              "\n",
              "// Listen for the clearing of the current output cell\n",
              "var outputEl = gd.closest('.output');\n",
              "if (outputEl) {{\n",
              "    x.observe(outputEl, {childList: true});\n",
              "}}\n",
              "\n",
              "                        })                };                            </script>        </div>\n",
              "</body>\n",
              "</html>"
            ]
          },
          "metadata": {}
        }
      ]
    },
    {
      "cell_type": "markdown",
      "source": [
        "The median charges of customers who have gone into churn are more than 2 times lower than the median charges of customers who use the service"
      ],
      "metadata": {
        "id": "-WbssGzySmuh"
      }
    },
    {
      "cell_type": "markdown",
      "source": [
        "**Monthly Charges**"
      ],
      "metadata": {
        "id": "GqbilXo4afLf"
      }
    },
    {
      "cell_type": "code",
      "source": [
        "fig = px.histogram(df, x=\"MonthlyCharges\", color=\"Churn\",\n",
        "                   marginal=\"box\"\n",
        "                  )\n",
        "fig.show()"
      ],
      "metadata": {
        "colab": {
          "base_uri": "https://localhost:8080/",
          "height": 542
        },
        "id": "YiKrDtCwSitW",
        "outputId": "41f0eb2d-3695-4a32-d822-4d58952ee8b8"
      },
      "execution_count": 82,
      "outputs": [
        {
          "output_type": "display_data",
          "data": {
            "text/html": [
              "<html>\n",
              "<head><meta charset=\"utf-8\" /></head>\n",
              "<body>\n",
              "    <div>            <script src=\"https://cdnjs.cloudflare.com/ajax/libs/mathjax/2.7.5/MathJax.js?config=TeX-AMS-MML_SVG\"></script><script type=\"text/javascript\">if (window.MathJax && window.MathJax.Hub && window.MathJax.Hub.Config) {window.MathJax.Hub.Config({SVG: {font: \"STIX-Web\"}});}</script>                <script type=\"text/javascript\">window.PlotlyConfig = {MathJaxConfig: 'local'};</script>\n",
              "        <script charset=\"utf-8\" src=\"https://cdn.plot.ly/plotly-2.24.1.min.js\"></script>                <div id=\"da6c6de4-e856-4fb6-b991-0484f735e59d\" class=\"plotly-graph-div\" style=\"height:525px; width:100%;\"></div>            <script type=\"text/javascript\">                                    window.PLOTLYENV=window.PLOTLYENV || {};                                    if (document.getElementById(\"da6c6de4-e856-4fb6-b991-0484f735e59d\")) {                    Plotly.newPlot(                        \"da6c6de4-e856-4fb6-b991-0484f735e59d\",                        [{\"alignmentgroup\":\"True\",\"bingroup\":\"x\",\"hovertemplate\":\"Churn=No\\u003cbr\\u003eMonthlyCharges=%{x}\\u003cbr\\u003ecount=%{y}\\u003cextra\\u003e\\u003c\\u002fextra\\u003e\",\"legendgroup\":\"No\",\"marker\":{\"color\":\"#636efa\",\"pattern\":{\"shape\":\"\"}},\"name\":\"No\",\"offsetgroup\":\"No\",\"orientation\":\"v\",\"showlegend\":true,\"x\":[29.85,56.95,42.3,89.1,29.75,56.15,49.95,18.95,100.35,105.5,113.25,20.65,106.7,90.05,19.8,59.9,59.6,55.3,90.25,96.35,95.5,66.15,20.2,45.25,99.9,74.8,49.55,69.2,20.75,79.85,76.2,84.5,49.25,79.75,64.15,90.25,69.5,74.85,99.65,108.45,24.95,107.5,100.5,89.9,42.1,54.4,75.3,78.9,79.2,20.15,79.85,49.05,20.4,111.6,24.25,64.5,110.5,55.65,54.65,74.75,25.9,50.55,103.8,20.15,99.3,62.15,20.65,19.95,33.75,82.05,74.7,84.0,111.05,100.9,66.85,21.0,20.2,19.45,95.0,45.55,24.3,104.15,30.15,94.35,19.4,57.95,91.65,54.6,89.85,31.05,20.65,85.2,99.8,20.7,50.7,20.85,88.95,23.55,19.75,56.45,85.95,50.55,25.7,75.0,20.2,19.6,88.05,101.05,84.3,23.95,99.05,19.6,64.5,69.5,68.55,108.15,86.1,19.7,80.9,84.15,20.15,64.25,25.7,56.0,69.7,73.9,20.6,19.9,89.05,20.4,84.25,81.95,20.55,24.7,105.35,20.55,45.3,74.75,51.8,30.4,19.65,56.6,71.9,19.75,109.7,19.3,96.55,24.1,111.35,112.25,20.75,101.9,80.05,105.55,78.3,68.85,79.95,55.45,102.45,25.25,19.75,20.0,86.8,58.75,45.25,56.6,84.2,80.0,24.75,20.2,19.35,50.6,81.15,89.9,85.3,108.0,93.5,20.25,25.15,29.6,73.15,19.75,86.6,109.2,74.7,94.4,54.8,75.35,65.0,99.0,93.5,83.7,19.85,59.55,115.1,114.35,45.0,89.85,49.85,113.3,88.1,24.9,105.0,24.25,59.75,107.05,64.95,55.0,50.55,55.15,51.2,25.4,54.45,76.0,44.35,61.2,86.8,89.35,19.7,20.25,76.05,100.8,74.55,64.9,90.4,60.3,81.85,24.8,75.55,101.15,78.75,19.25,89.05,115.05,69.35,110.05,19.9,91.5,60.0,44.8,48.6,60.05,102.7,82.9,35.9,82.65,19.85,19.2,94.9,88.15,94.8,54.65,85.75,67.45,20.5,20.25,72.1,19.45,44.95,97.0,62.8,44.6,89.15,54.1,105.25,97.1,20.2,98.8,50.3,20.55,75.9,59.95,19.15,98.65,112.6,20.6,35.75,99.75,96.1,85.1,25.35,89.65,86.75,86.2,64.8,108.1,54.75,90.4,44.0,95.6,84.8,44.3,19.9,95.05,90.05,109.9,54.6,20.05,19.75,20.05,55.9,19.7,19.8,95.4,93.95,24.45,74.95,87.35,70.65,73.25,98.7,24.8,24.3,69.85,100.55,25.7,40.7,51.65,105.1,85.95,75.6,58.25,65.2,53.45,19.75,44.45,20.85,114.05,89.85,55.05,112.95,101.55,114.65,64.8,80.4,25.05,94.75,105.5,24.7,69.75,60.2,24.4,104.15,92.9,80.8,20.0,75.1,19.65,69.45,116.05,40.05,102.1,89.7,19.9,20.65,70.05,53.6,76.05,75.7,19.65,81.45,108.5,84.5,100.15,88.6,52.55,104.8,59.0,64.05,20.4,60.9,19.8,116.25,80.7,65.2,84.05,79.45,78.0,19.85,94.3,106.45,105.45,95.0,54.3,70.05,20.05,105.4,51.6,85.5,91.25,115.75,94.7,19.6,99.9,21.1,20.05,79.95,107.15,89.55,81.55,58.45,95.65,80.6,113.1,58.95,19.55,78.95,105.05,101.9,19.75,110.3,115.6,19.35,25.6,68.75,19.9,70.6,70.2,49.3,107.25,23.6,69.7,99.5,64.3,70.85,101.9,73.5,40.4,19.25,59.6,64.9,110.85,81.05,98.05,70.5,94.55,19.65,19.0,20.0,63.25,20.1,99.15,90.4,111.9,24.9,83.5,84.3,45.6,54.85,65.55,90.35,20.4,74.55,19.95,74.25,108.65,109.55,86.65,81.0,47.85,114.55,20.55,109.8,69.5,48.85,25.25,102.85,87.55,78.55,34.55,92.05,85.05,19.7,95.15,84.25,104.6,111.65,55.0,89.85,20.35,54.55,99.45,70.9,25.4,89.85,25.25,69.65,70.0,20.1,24.8,95.1,88.85,78.8,20.35,45.25,20.05,69.55,19.5,74.75,30.2,57.8,19.85,25.55,24.85,110.35,24.55,107.95,81.4,73.8,64.4,103.75,71.1,49.9,24.6,30.1,83.4,20.45,75.25,20.55,20.05,20.65,85.15,84.95,66.5,63.3,83.15,84.9,20.55,49.25,59.6,104.65,75.3,80.1,81.0,24.7,86.0,25.4,89.15,58.25,85.65,50.35,80.35,20.2,20.55,21.25,26.25,80.85,74.2,20.35,75.5,79.05,90.15,50.6,110.45,101.0,79.35,89.85,65.0,80.45,24.1,44.05,110.8,114.95,75.05,19.25,90.05,56.7,80.15,71.35,20.25,90.35,19.7,19.85,90.35,20.8,66.85,19.9,35.8,78.85,20.4,74.25,64.8,20.45,110.65,40.3,107.0,73.35,44.8,54.75,40.6,55.3,60.85,78.4,69.65,59.85,76.9,19.85,67.65,45.0,64.2,81.7,25.55,20.0,75.65,23.8,64.2,76.8,55.2,108.55,25.25,30.4,20.05,84.6,103.7,88.0,106.35,79.15,103.1,63.95,25.8,25.55,44.85,25.05,74.1,88.8,93.25,71.4,79.2,20.4,105.0,30.85,20.55,84.85,33.15,92.0,89.8,115.8,85.15,24.85,64.35,20.5,86.05,89.0,64.8,19.8,93.4,39.0,20.5,26.4,98.2,97.55,19.95,99.7,34.8,60.15,64.75,54.65,19.3,111.25,35.8,20.05,84.35,110.5,91.2,89.3,81.1,81.2,94.3,116.1,105.55,94.4,19.5,105.6,81.35,56.4,65.35,19.95,111.25,89.0,106.1,20.05,25.2,75.4,65.55,80.7,104.55,24.15,20.45,75.4,79.7,81.7,76.3,103.75,86.45,75.1,80.6,19.3,33.6,83.25,80.85,108.05,19.9,21.05,30.15,79.85,65.5,104.1,20.5,91.35,20.5,75.6,55.1,58.95,95.1,25.45,56.75,81.75,86.1,29.8,20.5,60.9,73.25,20.85,77.35,93.85,70.1,75.95,75.25,54.95,19.5,19.6,47.85,23.75,43.8,19.75,19.15,19.6,80.3,24.35,25.25,26.1,20.0,20.7,70.3,69.55,19.85,20.0,95.85,20.75,50.15,58.65,95.9,49.5,80.1,24.4,40.05,19.5,51.05,54.35,84.7,86.1,70.35,110.0,94.9,69.75,71.6,23.65,81.85,25.1,114.7,49.15,80.9,19.3,70.2,54.25,99.3,74.0,50.25,19.8,35.5,80.75,19.55,20.05,112.4,50.2,62.25,55.7,19.65,89.25,54.0,56.75,21.1,96.65,24.5,79.2,69.55,20.05,98.85,25.75,19.6,87.65,74.75,107.45,75.35,64.95,100.45,68.5,80.55,81.25,89.55,55.7,24.8,20.0,105.2,19.55,79.75,97.45,24.25,24.6,50.15,39.6,89.85,98.85,53.85,24.25,89.45,105.25,59.5,70.55,82.5,61.6,49.05,66.25,19.4,86.05,19.15,19.25,81.95,114.65,20.0,19.8,65.15,19.65,88.95,20.2,75.2,56.8,75.5,35.6,60.25,40.35,18.85,54.85,64.3,24.65,76.1,18.7,97.95,94.1,95.1,72.35,82.7,19.9,53.8,51.55,19.65,44.05,114.0,100.4,54.25,80.0,79.2,94.3,49.8,53.75,93.45,87.9,61.05,104.05,99.25,85.7,104.85,69.15,74.45,50.45,60.0,85.25,19.45,20.75,78.9,104.5,49.4,25.0,25.55,70.15,69.4,93.15,69.55,20.2,20.4,23.75,70.45,65.75,24.6,69.25,24.65,90.4,100.85,75.35,87.2,64.4,24.7,105.85,98.3,19.45,58.7,20.15,64.5,28.5,90.45,105.15,83.15,103.2,19.45,88.8,85.9,34.2,20.15,50.3,80.15,51.25,95.2,94.8,80.25,76.1,115.55,24.65,53.6,19.45,88.2,101.15,56.8,99.4,20.1,60.7,20.95,114.85,19.25,62.8,105.5,19.85,74.1,107.5,19.55,68.8,84.45,84.5,111.2,80.6,80.7,75.6,57.6,110.6,58.2,81.0,19.7,59.55,75.55,45.1,70.95,20.9,19.95,24.6,66.7,94.8,65.85,19.95,24.65,51.25,54.25,19.4,56.25,25.15,23.95,35.4,75.35,20.4,56.05,20.0,73.05,20.5,100.75,19.95,49.65,65.65,20.45,60.95,20.35,19.5,75.2,111.45,70.15,92.0,85.5,82.15,84.4,60.9,20.25,95.3,19.85,84.35,19.85,82.3,66.8,44.6,98.45,70.7,24.95,102.5,86.55,24.3,58.35,68.75,85.8,20.1,20.35,110.8,82.85,84.35,19.55,19.95,66.25,23.3,25.3,44.55,104.1,92.55,101.45,94.55,95.5,100.3,55.5,49.85,89.55,19.15,99.8,113.05,19.95,74.15,92.0,73.85,24.45,24.8,64.85,20.75,68.95,109.4,49.0,50.25,19.9,97.8,100.3,55.8,111.15,98.55,50.05,20.85,19.5,19.35,69.5,48.8,94.5,20.65,106.05,108.3,99.65,95.9,20.0,64.95,74.6,49.2,73.75,92.3,19.2,88.65,95.95,105.4,20.25,49.05,35.55,65.1,96.85,69.75,99.2,106.8,51.25,57.75,70.85,19.55,79.5,98.15,20.25,79.15,94.25,40.2,19.95,55.35,102.15,71.1,54.1,19.65,88.45,80.4,19.25,84.8,19.5,68.6,92.6,100.55,20.55,19.6,67.45,43.55,109.85,20.65,95.4,21.0,56.2,18.4,25.75,19.6,19.8,64.2,75.75,78.95,50.3,80.3,19.85,21.1,50.0,104.75,19.85,85.9,80.8,25.25,80.55,81.5,20.9,67.25,20.35,45.05,34.65,69.35,81.55,75.4,67.8,111.4,46.3,20.4,20.05,96.1,19.65,60.65,71.7,36.0,65.2,48.95,53.5,80.45,109.05,26.3,106.8,64.95,19.35,21.1,18.85,26.0,70.35,96.9,19.55,80.4,94.65,95.75,19.55,104.1,20.1,111.55,60.5,90.95,19.7,50.95,20.05,19.4,59.45,81.5,29.05,70.6,97.2,59.2,75.9,90.05,70.95,102.6,43.8,59.0,69.95,24.35,29.45,84.4,20.65,87.1,19.85,90.35,65.5,80.95,56.15,34.4,20.75,18.8,90.8,25.6,70.8,25.4,108.8,76.85,20.25,24.8,115.65,74.6,103.15,72.1,25.1,80.15,25.4,105.4,45.75,24.45,25.0,85.25,19.6,50.15,70.55,26.4,20.15,58.85,97.55,19.65,25.25,114.45,70.7,75.55,84.8,20.65,20.45,35.65,90.45,97.65,73.85,69.1,82.75,24.4,55.25,61.35,76.75,19.4,54.75,19.7,19.9,107.95,83.8,56.4,20.1,94.9,94.2,49.9,71.05,81.65,89.45,99.0,19.05,114.45,44.25,90.55,20.4,71.4,24.85,104.45,19.8,116.45,20.05,110.75,89.7,48.7,96.6,74.3,54.3,74.85,79.95,20.05,19.4,54.9,24.45,89.65,45.4,75.7,110.65,20.55,115.15,58.55,93.25,19.35,48.75,109.05,25.0,54.9,24.75,91.15,104.35,66.05,92.2,105.2,19.6,30.4,61.5,69.4,24.75,91.05,73.65,19.4,26.2,43.85,69.7,38.55,53.1,20.65,64.45,25.1,95.15,79.35,96.65,75.5,19.7,20.5,19.2,98.35,74.35,51.35,45.65,20.3,54.2,90.65,50.9,25.05,74.85,20.5,63.55,47.95,45.0,90.05,25.3,24.3,75.95,19.7,66.4,35.75,18.8,19.4,19.3,67.45,20.1,58.9,19.45,50.5,25.1,60.7,99.0,104.4,44.05,24.1,45.55,93.8,19.7,70.65,86.45,114.1,95.2,88.55,20.75,44.65,60.2,55.45,70.3,60.4,55.8,31.1,50.95,69.1,43.95,86.5,69.95,90.95,19.9,20.15,90.6,92.0,24.85,36.0,78.5,19.95,20.65,30.5,106.1,20.5,95.5,64.6,51.1,89.1,54.95,20.45,85.95,60.35,19.8,85.35,72.1,81.05,20.5,111.8,20.2,19.7,19.85,60.5,19.55,20.9,21.05,71.5,54.65,19.2,49.8,20.5,90.4,90.25,104.6,50.2,95.5,95.4,101.3,53.1,84.85,34.25,88.6,60.15,99.95,70.7,54.8,54.8,100.3,53.6,19.35,85.6,80.8,19.6,90.7,69.75,20.0,95.25,19.95,80.85,93.3,46.35,78.75,83.55,19.6,67.85,105.65,75.5,20.15,45.2,79.25,85.7,20.1,61.8,49.9,20.4,75.4,108.15,86.25,95.7,116.85,105.75,20.15,19.6,60.95,25.05,60.3,63.95,74.3,70.6,90.55,19.45,64.45,69.65,19.5,110.5,24.7,77.4,85.4,47.6,19.4,103.85,108.45,81.0,86.65,92.95,90.35,25.15,76.4,19.55,85.35,24.8,103.15,100.75,94.1,19.35,19.9,101.05,59.1,55.85,106.05,84.1,75.3,24.7,55.8,39.7,29.5,20.15,79.55,24.8,19.65,94.05,90.75,78.85,99.5,80.55,70.2,59.45,93.35,44.95,26.1,20.2,21.25,59.4,95.0,61.9,118.65,64.45,80.15,20.2,21.0,20.45,75.85,80.45,75.5,44.45,74.55,48.15,19.65,20.15,106.6,91.0,25.4,69.95,66.85,20.15,64.85,74.85,50.5,72.9,115.05,19.0,19.55,101.1,84.1,24.15,50.1,74.6,19.75,106.8,84.5,25.05,83.7,96.6,101.1,20.2,94.05,81.0,60.25,60.85,43.95,86.05,20.25,19.4,102.65,19.9,19.55,95.5,84.15,103.2,50.2,19.95,116.25,31.2,24.45,84.2,85.65,21.2,25.55,20.2,63.85,61.95,25.75,58.2,85.85,104.9,99.85,19.55,104.0,104.4,19.5,25.25,49.85,108.95,89.9,82.0,89.95,79.35,64.05,101.15,39.1,34.6,19.55,104.45,70.5,20.35,19.45,69.9,59.7,78.35,71.45,45.85,95.85,35.7,89.55,24.95,24.85,100.8,105.35,19.65,54.45,70.5,20.1,69.35,19.8,74.4,93.05,51.2,65.6,80.55,52.7,20.85,52.15,114.95,104.45,113.65,20.6,91.55,49.85,19.8,104.15,48.2,25.1,100.15,55.9,64.4,85.3,107.45,91.3,85.95,45.2,79.2,55.5,90.25,91.25,100.9,97.7,69.85,65.6,104.65,90.45,63.7,104.5,20.1,104.3,93.25,73.45,20.7,25.25,100.5,90.6,89.4,95.45,20.45,19.95,109.15,85.7,102.05,94.7,64.4,26.8,66.05,65.2,85.05,55.8,19.95,45.0,114.9,106.4,46.1,39.7,20.05,95.75,24.4,33.6,90.45,84.0,67.4,19.7,80.35,19.6,54.2,45.2,75.1,19.7,72.75,20.05,39.2,44.75,82.65,93.9,117.15,99.25,112.55,25.7,90.3,49.4,19.4,109.7,61.25,55.3,103.75,19.5,39.5,26.05,91.05,29.65,50.2,105.3,55.45,85.45,19.8,59.25,90.7,79.05,90.7,95.0,30.25,49.85,93.0,54.55,19.7,84.8,94.45,20.85,60.0,80.45,84.95,49.65,20.2,100.5,35.75,86.45,53.8,38.55,39.9,70.05,20.1,20.3,35.65,82.95,55.65,25.2,50.8,19.65,59.8,73.55,61.4,19.9,19.45,81.5,109.55,74.4,74.9,59.65,110.45,74.45,24.55,24.55,90.65,105.05,20.45,19.55,19.7,70.45,85.65,20.55,97.95,20.0,25.25,70.9,19.85,106.35,99.5,84.7,86.05,44.55,75.85,25.0,45.0,20.5,90.45,60.45,78.45,100.55,20.35,90.75,20.25,20.05,19.6,53.8,70.2,75.5,20.35,26.05,20.6,20.1,24.3,24.5,110.5,25.25,90.1,68.75,19.2,115.1,99.65,91.45,84.75,78.75,20.25,19.9,97.75,100.4,24.45,101.1,50.9,107.2,92.2,113.4,40.55,26.0,111.95,53.8,72.1,78.85,70.75,76.15,39.1,69.95,20.05,20.05,19.45,26.9,19.2,50.0,60.0,84.55,45.45,20.05,115.55,99.0,50.55,25.0,91.55,19.35,24.85,100.4,25.0,19.25,108.25,20.15,101.3,20.0,105.3,69.85,65.25,19.8,19.6,20.05,49.4,88.4,100.6,19.45,20.3,107.65,80.45,58.85,109.6,75.15,73.0,70.1,98.65,111.45,114.9,100.55,20.4,104.35,80.45,91.35,19.9,68.35,79.1,51.0,80.55,66.7,86.4,50.05,25.7,83.4,84.65,64.75,100.15,25.25,113.0,40.65,94.95,59.9,19.8,81.8,20.0,59.6,25.0,84.35,55.55,75.35,59.3,66.1,18.8,86.45,52.1,47.4,109.15,94.95,93.55,79.5,115.05,95.15,105.4,20.1,20.05,20.7,20.35,19.7,85.45,40.4,105.2,100.65,91.0,116.75,59.1,49.8,19.3,19.65,81.4,38.9,87.95,19.85,96.35,24.15,19.1,44.0,60.6,25.65,53.95,20.4,29.35,20.45,95.1,25.25,44.9,92.65,43.7,72.6,18.95,20.5,19.95,24.5,20.6,61.05,106.65,108.25,20.4,55.3,20.25,72.95,89.45,104.65,75.2,101.15,68.75,111.05,99.0,21.0,19.4,77.2,19.45,24.85,41.35,19.6,84.45,20.25,19.65,20.65,99.3,81.05,67.6,70.15,115.0,84.8,19.7,63.15,74.0,29.1,50.05,20.0,74.65,44.4,85.4,94.1,108.9,56.2,26.1,85.45,88.95,74.35,48.85,80.1,56.05,89.8,19.1,20.35,106.05,19.65,59.85,86.1,19.45,97.1,36.65,103.9,19.75,24.55,48.7,109.55,20.65,55.2,24.05,20.45,19.25,26.35,43.8,50.15,20.45,61.4,70.75,61.15,20.25,63.85,98.7,20.0,19.3,84.4,25.1,48.25,19.85,94.2,62.15,79.3,56.25,20.3,99.0,90.6,85.9,79.2,70.35,19.35,50.15,63.8,20.55,88.55,101.4,44.6,63.75,109.25,84.6,20.45,85.75,107.95,22.95,19.45,19.7,87.0,79.95,64.0,64.9,25.75,90.15,116.1,104.95,50.0,20.45,19.85,19.95,26.45,63.4,53.95,95.1,74.1,35.5,79.2,48.8,55.45,25.4,93.5,63.9,64.85,63.8,44.45,19.95,43.35,49.65,85.1,89.8,103.05,116.0,69.9,95.1,40.25,25.75,105.35,113.6,24.0,19.4,86.1,102.65,92.85,97.75,97.95,19.95,24.6,50.95,75.6,80.75,90.4,60.25,20.2,64.15,20.25,99.0,80.3,19.55,100.75,53.75,25.6,58.35,46.35,113.75,90.4,109.3,90.3,65.25,60.65,24.1,19.5,85.95,53.5,25.45,20.5,20.85,89.9,26.0,113.2,69.05,20.1,109.65,19.2,90.0,34.0,20.4,38.6,25.25,60.6,74.75,20.6,20.4,81.7,20.3,20.0,25.0,80.45,19.75,65.65,71.0,89.2,86.75,61.5,25.1,34.05,19.95,19.95,89.7,20.4,26.3,20.7,19.45,110.8,69.3,49.35,20.35,105.6,64.45,49.9,65.65,103.3,44.45,89.9,55.05,104.1,106.6,70.5,19.6,24.05,38.1,34.25,100.05,68.65,45.8,75.75,96.4,20.55,50.95,90.5,79.4,58.75,59.45,105.7,53.3,24.3,59.9,23.95,20.15,95.65,81.0,82.45,20.5,54.4,58.6,84.8,61.4,20.4,20.15,94.45,79.8,74.05,49.15,19.4,113.65,106.0,25.95,19.1,100.55,95.4,75.15,89.15,107.9,19.5,24.95,19.5,69.95,82.85,19.0,38.85,20.35,95.0,74.4,78.45,74.3,51.05,19.2,109.1,76.45,72.8,18.95,101.75,75.45,64.1,25.65,75.1,95.85,54.4,72.75,19.85,19.05,94.85,46.25,19.35,69.6,90.7,101.4,20.25,48.8,74.35,19.35,68.75,100.2,20.85,19.35,45.0,25.5,48.9,19.6,20.0,81.3,95.2,83.3,20.3,89.85,19.8,54.65,29.35,19.15,19.1,80.55,20.25,106.0,25.5,79.6,55.25,88.05,20.4,117.6,20.0,19.65,70.55,65.8,20.05,80.0,35.4,79.6,80.25,20.45,79.6,24.7,77.3,29.75,44.9,29.8,71.95,20.75,56.3,105.25,19.55,84.45,53.65,29.9,19.7,43.7,55.3,19.85,19.65,49.45,20.45,39.7,54.5,111.6,55.55,20.55,62.1,104.5,101.8,110.6,84.9,93.2,24.4,70.55,85.0,85.8,91.1,20.1,20.05,74.8,24.8,100.85,105.1,20.4,20.0,79.4,57.2,58.6,94.8,102.5,20.35,84.9,69.2,20.85,88.5,35.0,55.15,50.95,64.0,80.2,49.3,84.35,20.05,117.2,20.1,109.95,94.75,80.0,79.65,25.2,19.9,44.8,20.3,19.2,80.05,107.35,47.85,70.8,59.1,25.55,20.25,75.55,95.3,70.25,50.3,19.85,19.35,25.0,20.3,75.35,88.0,43.8,62.05,20.1,101.35,84.05,20.9,105.9,85.05,44.1,90.2,53.45,19.95,74.65,57.5,19.65,93.8,89.25,94.15,55.6,48.7,104.9,19.9,19.4,25.05,84.45,19.3,79.85,25.55,68.4,20.65,55.15,70.6,19.95,19.0,44.1,107.6,61.55,90.7,99.25,91.7,100.7,78.45,84.3,19.55,20.45,55.6,86.8,20.95,20.05,113.65,59.5,87.8,41.9,69.85,56.3,109.55,92.15,69.5,97.0,58.35,70.4,94.3,19.55,95.95,94.8,107.75,54.6,71.3,19.5,56.3,90.55,60.8,98.8,98.15,35.35,103.15,107.75,81.4,95.7,104.8,70.95,44.95,97.65,35.65,85.25,19.5,25.1,100.05,55.7,91.15,83.85,45.9,25.1,19.7,91.5,51.3,21.1,104.75,85.75,20.3,100.75,74.15,78.55,19.85,50.7,45.0,77.8,83.45,94.8,20.1,59.9,90.1,70.95,29.2,46.6,74.3,69.3,94.3,76.45,54.0,104.25,19.95,24.95,84.75,19.75,113.65,44.9,75.25,24.6,25.0,20.95,110.6,55.5,19.45,84.85,19.6,53.45,19.8,112.1,74.2,69.0,19.35,19.8,109.2,79.15,53.65,100.2,108.65,40.65,55.35,105.6,95.7,83.2,90.05,97.65,68.05,102.1,23.4,71.05,19.45,59.45,92.2,19.85,43.9,90.5,90.45,84.6,99.15,19.95,20.5,62.1,79.5,19.55,20.35,51.7,23.3,65.1,81.2,74.5,80.5,60.3,75.0,90.15,69.05,59.7,19.85,40.75,95.7,46.3,81.3,20.0,66.15,19.6,49.8,101.75,55.15,103.95,99.65,73.7,50.05,60.25,87.3,54.25,85.3,50.0,90.95,72.25,96.1,19.85,55.3,20.1,69.5,25.15,79.65,71.25,113.8,24.55,19.7,100.5,74.45,104.1,19.05,25.0,19.05,81.9,69.7,90.15,25.35,24.65,19.55,60.0,89.9,19.4,49.8,24.1,54.25,109.9,35.5,87.55,88.4,50.8,99.0,96.55,59.75,111.5,24.25,20.5,70.4,30.55,84.9,54.5,75.35,44.45,98.05,63.9,69.15,64.65,98.85,89.6,83.25,70.25,24.5,20.1,73.0,61.4,84.3,19.9,20.4,50.75,20.45,75.75,65.4,59.75,78.5,48.95,99.65,18.25,54.55,40.65,20.45,24.8,88.8,20.05,69.8,77.15,35.05,108.1,84.05,20.2,49.2,24.6,71.65,104.9,106.5,75.5,58.5,78.9,79.2,109.45,59.2,29.15,20.05,66.5,49.55,73.6,82.65,49.0,25.2,25.45,110.9,77.75,26.2,19.9,80.85,56.35,19.3,50.4,55.25,19.1,84.05,105.2,75.75,95.3,19.85,69.1,20.25,54.75,81.45,80.2,100.3,90.95,20.0,79.85,73.55,19.3,20.15,44.55,54.45,19.65,105.0,88.7,75.15,20.25,109.1,30.75,112.9,94.05,78.85,55.3,19.35,25.35,20.45,19.35,78.65,74.75,19.9,58.35,100.5,20.05,25.65,95.0,45.45,20.0,49.2,83.25,19.25,19.65,72.8,109.65,65.0,114.1,20.65,86.95,94.75,25.35,105.45,25.4,102.55,24.0,25.6,73.5,98.25,54.4,103.1,34.2,43.75,100.65,116.05,82.0,65.15,44.8,79.8,88.85,74.95,106.85,19.3,56.1,19.7,51.3,118.6,24.15,20.3,115.5,25.05,109.1,19.65,111.3,29.9,80.6,20.8,89.95,116.05,19.55,115.25,24.8,19.9,81.25,69.95,86.4,66.3,94.65,72.1,34.7,95.95,44.8,109.4,71.05,19.7,40.25,19.85,68.25,20.15,50.95,25.15,20.25,44.0,20.25,55.8,88.9,57.65,79.15,108.05,94.8,45.9,102.6,61.35,57.55,29.25,19.6,111.75,106.5,107.7,19.3,20.05,69.95,63.7,50.9,60.4,79.25,110.1,90.7,25.3,85.2,24.35,25.1,54.55,96.6,81.15,38.5,92.9,84.7,66.0,20.75,61.45,54.5,99.75,109.75,80.85,20.3,67.8,19.8,25.7,56.15,86.7,20.4,19.65,54.35,108.1,54.45,45.35,59.0,69.45,64.95,18.85,19.8,25.05,114.3,109.2,45.05,51.0,110.45,84.65,60.05,44.65,93.25,20.25,25.45,20.6,94.1,34.8,60.75,51.35,64.05,84.8,50.15,94.6,59.75,100.25,98.9,97.7,60.25,56.25,46.2,24.9,63.35,50.1,50.15,64.65,79.6,19.5,99.55,74.0,38.9,79.55,46.3,99.35,95.8,78.15,26.1,40.35,79.2,20.9,49.9,68.9,20.25,76.0,74.0,82.3,89.4,99.15,29.45,19.8,59.15,44.75,90.8,49.55,106.7,94.45,19.45,67.95,65.25,99.45,20.35,19.95,77.4,19.7,99.7,74.8,19.15,78.95,62.85,71.55,94.95,86.1,19.55,24.8,84.05,36.25,98.6,103.65,92.9,19.9,20.1,80.5,39.85,60.5,103.85,67.8,24.85,19.35,89.0,55.0,76.15,20.3,117.35,19.75,45.2,25.2,89.75,75.0,49.95,65.7,67.05,110.9,87.95,19.8,75.7,62.15,115.15,19.5,86.55,20.4,19.8,45.65,56.4,73.3,101.35,33.6,20.7,104.05,20.25,73.7,108.75,20.15,19.75,25.95,70.05,24.05,84.75,23.05,59.95,19.55,19.6,20.05,85.55,78.6,116.8,43.55,60.8,54.9,65.2,108.2,92.0,75.1,25.05,75.15,19.5,19.3,112.2,70.3,19.6,20.25,80.65,115.75,80.6,59.55,19.05,95.65,19.95,19.4,36.1,19.75,64.1,19.75,19.7,110.2,106.35,90.55,65.9,104.5,52.5,56.1,88.75,26.0,99.4,73.15,54.65,115.55,104.45,91.15,89.7,92.4,19.9,18.85,25.75,20.95,97.05,25.4,19.7,35.0,101.25,70.2,90.95,73.85,88.05,20.1,110.3,85.15,60.95,73.55,46.0,58.55,24.6,19.75,86.35,25.5,19.0,19.55,110.1,69.75,50.6,65.6,82.1,79.1,90.65,20.55,75.75,110.0,20.85,80.35,70.15,67.45,20.75,69.9,51.1,25.55,60.0,90.55,76.4,84.95,110.1,99.65,45.4,69.0,48.65,59.85,80.65,20.55,66.4,100.2,44.55,20.35,91.8,20.2,50.35,18.8,20.45,64.75,98.7,89.45,58.75,20.7,85.6,80.3,79.8,79.85,54.1,80.9,24.5,20.15,20.05,19.6,114.3,100.3,80.0,20.85,89.95,20.0,48.75,80.0,20.35,20.25,19.4,100.4,57.95,59.5,19.2,59.55,103.95,68.95,103.1,24.7,110.2,62.45,89.55,78.9,20.35,71.45,46.35,94.65,49.9,25.45,20.75,66.1,75.4,21.05,69.35,88.85,97.0,66.4,69.2,79.5,100.65,79.7,61.4,69.8,40.55,75.65,90.7,80.5,60.6,101.15,24.95,20.3,60.0,20.25,44.75,98.0,107.7,104.7,93.9,86.45,19.4,24.95,75.0,78.2,94.2,50.05,69.55,90.1,44.65,80.35,98.1,53.35,19.55,48.95,54.2,24.45,40.15,25.6,70.35,91.7,89.2,24.1,53.85,115.6,19.75,24.05,25.3,84.3,89.75,97.95,20.0,103.9,20.7,20.15,26.0,77.35,66.05,19.9,68.15,80.85,75.5,80.6,83.2,87.55,109.4,45.55,20.7,75.3,93.4,73.75,88.15,49.2,19.65,105.15,49.0,49.8,20.95,79.3,19.5,44.15,105.5,92.7,26.25,96.95,20.45,115.8,108.2,20.2,54.9,20.15,90.35,55.75,114.6,66.8,100.3,105.35,85.2,18.95,69.8,106.15,20.55,105.75,25.25,19.75,104.85,60.95,81.15,19.1,20.8,90.15,90.1,74.1,118.75,85.9,95.0,20.15,101.3,21.2,24.2,20.3,85.3,89.6,56.25,50.95,115.85,103.65,26.1,35.1,99.1,67.25,25.0,59.55,77.8,55.1,24.15,45.25,20.25,64.75,54.6,20.7,94.75,115.8,49.45,83.8,95.35,74.05,89.6,116.6,54.2,19.3,65.05,24.05,18.75,20.15,20.0,71.0,93.6,24.4,65.25,50.55,70.7,45.25,70.3,108.95,26.45,19.65,19.05,74.75,75.8,25.1,44.45,104.3,89.0,20.15,36.15,19.2,19.25,61.2,20.45,35.05,44.0,50.35,20.0,86.4,58.4,94.1,108.9,107.4,90.85,19.9,66.4,100.7,25.6,19.85,20.75,95.8,94.65,106.65,45.85,104.35,55.45,61.15,78.95,109.2,61.3,96.85,40.55,19.8,108.25,105.05,90.45,86.4,66.9,110.7,20.0,102.1,70.15,80.05,49.2,20.5,38.25,54.95,96.6,19.9,19.9,84.6,85.25,81.25,115.5,79.0,94.65,20.8,59.5,20.05,100.45,20.6,20.3,39.55,20.45,25.25,91.25,72.45,19.7,75.1,25.0,69.15,91.55,35.8,113.15,19.85,19.8,19.9,19.7,59.1,91.15,68.95,51.55,24.4,96.8,70.05,19.5,78.75,69.2,19.55,103.65,54.7,54.15,84.85,20.0,99.25,19.35,94.75,114.05,74.9,19.8,80.85,54.65,91.7,118.6,24.55,19.45,116.15,80.6,20.3,99.8,75.0,19.9,80.3,84.3,54.05,104.9,97.25,83.05,41.1,45.0,74.55,40.2,70.5,19.75,24.65,104.25,78.35,109.7,33.45,94.6,20.2,20.3,39.4,69.15,51.35,100.05,20.3,94.45,46.4,104.05,24.9,59.6,108.5,40.55,58.95,20.75,113.15,48.8,63.05,100.85,80.55,64.4,75.2,84.9,19.3,74.65,59.05,69.1,20.55,76.55,62.5,94.9,111.65,19.9,20.45,106.05,113.45,92.55,65.6,84.35,71.1,85.15,49.7,30.2,56.35,107.55,19.85,95.9,23.85,83.85,84.8,76.1,74.55,39.2,79.55,19.6,19.55,39.15,20.1,99.95,59.8,49.75,108.5,60.15,19.05,84.0,44.55,103.45,80.65,57.2,110.75,24.7,97.05,76.35,18.9,74.45,84.4,24.4,20.05,55.5,84.3,100.2,19.4,20.4,94.75,44.35,74.55,73.6,50.1,53.0,19.85,24.35,19.55,25.05,93.8,103.75,56.75,20.8,24.45,25.6,59.65,83.3,79.55,24.45,19.2,29.8,45.5,30.05,65.65,74.05,110.75,19.7,49.5,43.95,111.15,20.6,19.65,115.8,88.65,94.5,20.1,34.65,52.3,65.0,35.45,19.7,95.6,19.85,81.85,109.3,25.4,69.8,20.0,109.9,50.3,101.5,89.15,19.4,29.9,78.8,19.3,96.8,20.65,19.8,104.6,80.05,45.15,73.15,99.1,105.35,45.65,79.95,54.45,25.1,84.7,75.85,48.8,35.2,76.25,24.9,54.3,66.3,20.9,75.35,104.45,49.45,19.45,92.15,19.85,100.25,95.7,93.15,69.7,19.8,71.35,20.75,40.6,20.35,19.75,54.4,20.45,66.15,89.85,45.05,86.85,96.75,106.65,110.15,82.85,20.1,59.45,58.6,49.7,65.85,73.5,113.65,83.4,65.65,61.35,85.9,75.65,70.9,49.85,20.1,103.05,99.7,81.9,66.2,19.75,72.6,116.5,106.8,24.95,89.25,19.25,104.55,87.2,30.75,25.7,86.2,30.1,99.35,19.2,20.1,20.35,25.65,94.55,94.4,56.1,68.25,24.75,76.25,74.35,54.15,19.45,34.95,53.65,104.0,70.35,64.85,19.65,45.9,20.0,44.8,20.35,45.8,108.95,64.35,90.8,24.95,84.7,70.8,104.4,101.5,54.3,103.95,91.1,19.95,26.45,75.1,108.1,110.15,111.5,106.5,19.9,111.1,70.7,24.85,91.2,65.6,59.45,109.95,38.5,92.55,24.5,19.7,20.6,58.0,107.45,65.5,25.45,100.15,104.45,21.15,96.2,44.4,94.35,20.3,105.75,81.15,89.55,54.75,53.75,105.75,105.85,64.2,87.7,89.3,20.15,20.05,67.2,94.55,107.5,73.0,114.75,76.05,77.9,90.65,110.45,68.7,44.85,29.8,88.9,58.75,19.85,86.9,59.65,66.4,20.15,108.1,56.9,109.6,25.15,79.15,66.75,48.8,80.7,20.55,115.1,59.7,86.45,33.7,80.1,104.05,108.75,41.1,20.35,105.9,65.5,40.45,70.45,78.8,90.1,82.45,20.25,66.25,89.7,64.55,93.65,73.6,109.75,61.45,106.4,81.9,105.2,54.6,20.55,19.7,66.05,54.05,58.9,96.9,19.1,50.0,45.4,85.45,84.1,66.25,76.9,74.6,116.95,40.65,114.35,69.7,98.65,61.65,89.35,95.4,35.4,19.95,19.25,20.4,24.75,25.35,20.0,59.75,82.5,20.35,90.8,104.95,105.25,23.75,61.3,75.8,98.0,52.0,64.4,45.8,30.5,69.15,49.25,39.35,105.1,20.1,19.75,19.75,70.4,20.45,20.35,86.2,95.65,103.8,97.2,63.55,24.95,99.0,85.55,94.0,50.3,95.0,61.4,80.55,78.5,114.3,20.05,62.65,92.7,100.45,75.2,84.75,79.5,19.8,100.9,95.3,90.95,54.5,49.6,25.0,45.45,107.75,89.1,44.75,101.6,103.15,95.65,75.1,61.35,19.7,51.0,88.85,20.05,65.1,70.15,20.75,56.05,19.95,98.6,79.0,89.45,74.2,81.0,49.6,84.6,84.2,106.3,69.05,45.4,99.35,50.75,87.1,20.15,98.7,25.2,55.7,65.35,25.3,24.25,60.5,25.1,20.05,30.25,20.2,59.9,25.15,101.3,76.95,55.3,92.45,48.45,19.35,86.7,55.7,84.25,64.65,69.2,54.65,24.75,23.95,105.0,59.85,20.05,92.15,44.8,20.9,95.4,80.35,85.1,115.05,19.95,86.15,78.85,86.55,42.4,24.25,20.5,19.6,20.25,20.6,19.8,80.2,116.4,31.65,94.15,20.65,76.85,20.15,55.25,82.15,103.0,95.1,95.15,79.8,74.8,20.45,78.35,19.1,20.0,19.95,24.0,19.15,91.3,19.15,19.75,75.5,83.75,19.4,26.5,19.15,40.9,80.25,70.8,60.2,55.2,54.15,100.4,62.55,70.45,85.5,54.5,20.75,20.35,91.0,104.8,51.1,89.8,20.55,64.05,74.85,25.0,20.3,26.35,54.7,90.25,20.65,25.45,19.5,66.15,69.1,39.1,20.05,59.8,48.6,105.35,25.1,49.75,94.75,93.0,71.9,77.55,19.85,95.25,25.05,53.15,20.15,101.25,100.55,25.3,71.8,19.7,49.85,69.6,19.75,80.8,64.2,35.0,19.2,90.65,20.0,74.65,61.2,19.95,54.8,73.45,51.45,80.45,85.3,79.3,76.5,25.4,86.85,19.65,45.55,78.1,19.3,110.5,20.3,81.35,55.3,56.55,19.7,104.05,52.85,80.65,24.65,21.3,110.2,51.05,19.8,19.9,87.3,19.85,89.4,20.0,20.05,83.25,102.9,39.1,114.5,20.2,55.8,24.2,72.8,99.85,99.5,20.25,26.0,19.9,19.05,96.5,19.85,25.7,20.3,91.55,39.4,105.7,70.25,93.75,60.0,59.8,90.65,109.0,68.1,20.4,81.95,60.55,65.6,82.5,82.3,68.15,20.3,20.2,89.2,74.8,20.2,84.4,25.15,19.8,50.85,102.4,55.5,109.75,106.4,60.0,88.8,80.05,75.55,49.55,23.9,66.4,18.8,108.4,85.95,80.9,111.8,20.6,44.6,105.1,115.15,59.8,26.3,70.55,20.05,79.85,90.05,24.45,59.95,25.35,34.3,105.05,19.3,19.15,51.4,71.85,75.4,49.7,78.75,81.6,70.4,76.1,94.0,103.95,19.95,110.8,96.1,48.8,50.55,44.65,19.45,89.3,19.25,70.5,19.65,20.85,19.65,19.35,44.0,94.4,75.4,71.0,21.2,61.05,79.95,19.7,20.3,24.35,19.75,50.3,50.25,85.35,51.65,24.0,59.85,25.45,23.9,24.15,75.7,50.85,91.6,98.9,85.0,44.3,80.2,60.9,34.2,87.15,54.3,19.1,112.75,19.95,19.5,65.55,78.8,78.2,105.25,89.25,20.65,68.7,78.65,24.75,19.75,89.1,84.7,59.9,19.95,108.9,33.6,85.85,34.85,95.3,84.6,44.95,24.7,100.3,25.45,50.7,55.0,68.4,55.05,19.8,84.45,35.9,80.75,78.65,61.75,63.7,87.6,89.15,20.0,104.4,20.05,34.3,20.65,84.25,19.65,79.85,20.2,19.8,50.35,74.6,79.15,20.35,21.05,94.7,74.95,111.95,19.85,89.75,20.05,108.95,19.65,24.9,93.2,84.8,71.75,30.35,54.85,19.5,24.2,19.35,100.65,94.1,74.55,56.15,20.35,80.55,61.25,20.45,18.9,19.6,45.2,19.45,25.45,94.9,29.3,20.25,110.5,109.4,19.95,19.6,76.6,19.6,85.3,65.85,20.05,99.4,20.0,78.45,25.1,55.0,71.1,61.55,45.9,40.3,87.1,49.5,73.8,19.2,25.0,35.3,76.75,81.0,105.55,18.8,24.9,64.9,61.35,113.95,90.15,54.1,49.8,24.4,95.0,69.9,39.95,103.25,94.25,47.05,20.55,19.65,70.2,81.0,75.9,24.7,110.25,85.0,19.75,23.9,19.95,25.15,54.15,59.8,83.85,104.9,75.3,66.65,109.5,73.85,19.3,118.2,51.45,59.45,19.5,19.55,93.55,59.3,109.8,78.1,39.9,64.9,53.4,24.9,44.7,114.0,20.25,83.85,20.2,19.95,20.35,90.0,54.2,99.1,66.9,25.85,91.05,20.95,109.2,85.8,19.65,20.5,89.65,74.35,49.45,89.1,75.15,70.65,90.05,19.4,88.75,91.0,90.8,18.95,102.4,99.9,88.7,54.3,55.7,103.95,20.15,20.05,91.95,55.65,74.7,104.15,83.65,110.05,25.5,19.5,80.7,105.1,25.15,95.65,80.8,24.85,54.75,50.75,20.15,20.05,71.6,81.45,58.4,53.7,19.6,89.4,84.2,106.1,25.75,64.95,85.45,20.05,20.7,25.3,100.6,74.0,99.4,107.45,83.6,99.05,80.1,65.3,89.55,60.8,74.5,99.15,19.25,39.45,44.85,97.2,110.55,19.9,76.95,35.4,20.45,96.75,54.2,100.1,45.25,20.85,33.45,20.2,85.9,61.0,86.9,69.4,20.35,104.3,44.95,49.45,20.6,19.55,93.5,54.55,20.05,79.45,79.85,100.0,19.6,20.2,50.4,113.35,80.0,80.95,24.9,54.9,109.25,116.3,19.9,70.35,25.6,44.45,100.15,73.85,70.1,25.25,21.05,24.95,64.5,105.95,75.85,43.6,91.25,89.75,104.4,90.15,40.3,105.25,104.0,69.65,74.3,100.9,20.25,96.9,104.1,20.1,56.55,68.6,69.05,19.7,20.05,94.4,54.95,93.7,110.25,98.9,80.45,79.4,62.8,74.9,74.85,25.85,68.3,48.4,105.05,25.15,19.5,92.95,20.7,19.35,104.35,19.55,74.05,40.1,20.1,83.55,56.85,19.55,106.15,78.95,49.75,92.4,58.2,91.95,65.25,73.1,59.75,59.8,116.6,109.3,101.4,50.65,56.15,19.2,83.0,70.1,108.3,25.25,45.35,43.9,79.3,84.9,79.25,71.05,53.75,24.25,44.25,50.05,20.15,69.35,19.35,19.15,61.0,20.5,50.2,79.6,24.9,106.9,101.35,55.35,50.55,19.5,90.65,89.85,79.0,19.55,19.9,116.25,87.75,81.3,44.3,70.35,44.45,49.15,29.45,85.3,69.1,70.35,20.6,74.15,75.05,44.6,21.45,43.45,20.05,94.15,19.55,75.9,64.15,109.55,110.8,53.45,69.95,97.0,90.6,73.55,94.35,19.4,19.75,54.6,29.8,103.05,20.3,35.1,105.7,56.25,60.35,59.8,99.65,50.65,60.9,59.65,64.7,54.85,91.35,25.1,34.0,45.9,20.5,20.35,36.1,65.8,20.35,105.8,96.75,24.4,73.05,64.35,20.5,54.75,51.15,41.95,54.35,96.0,61.45,19.65,19.0,100.0,98.7,19.8,73.8,20.05,106.2,116.55,99.7,19.7,19.5,29.15,55.0,90.8,51.0,90.1,59.05,20.3,72.95,73.55,84.3,78.0,72.1,106.75,19.25,20.55,20.0,24.65,103.5,23.85,25.8,59.45,20.05,82.55,81.25,74.3,109.7,96.35,66.6,44.5,80.1,69.05,20.4,19.7,50.1,83.45,86.65,20.15,19.4,60.05,20.35,94.05,84.1,78.75,55.55,20.1,70.3,53.65,20.75,103.4,50.8,79.0,74.6,96.5,20.1,19.4,77.55,20.05,19.85,20.2,67.45,18.55,29.75,24.2,23.55,20.45,92.3,53.65,39.65,54.65,104.8,29.3,83.85,103.65,99.05,73.35,100.05,20.35,43.95,23.5,70.7,94.3,29.15,20.85,37.7,92.45,44.15,36.05,50.25,109.75,20.3,112.35,94.3,41.15,74.65,48.25,76.15,71.1,96.55,79.3,89.6,20.5,106.3,100.35,85.6,106.15,51.1,19.9,25.7,99.4,69.7,98.35,85.45,95.9,100.75,89.2,25.75,84.1,79.3,107.05,20.05,19.5,45.3,115.15,72.95,19.65,19.55,89.55,50.35,87.25,20.8,109.25,20.35,55.9,79.2,24.0,101.35,35.45,79.4,35.2,19.65,49.85,68.75,61.9,79.9,89.75,19.4,93.65,19.9,72.9,25.6,19.75,55.7,117.5,19.85,78.9,20.65,19.65,79.75,79.95,29.9,19.75,45.0,44.8,51.1,53.15,24.7,109.95,20.8,25.6,108.4,19.55,85.1,69.05,70.15,111.15,89.35,89.1,91.25,90.35,105.55,19.1,20.4,100.45,85.7,94.0,69.85,25.85,71.1,93.35,50.55,81.3,20.7,79.05,19.05,19.6,20.2,20.9,103.6,38.8,88.4,79.7,19.3,55.75,19.95,89.65,45.85,55.95,69.0,83.55,65.7,94.9,61.9,20.0,67.7,25.15,92.85,111.3,60.6,65.5,19.95,74.6,94.6,81.15,89.05,49.2,19.45,104.3,86.05,25.2,35.15,99.65,105.35,24.3,80.7,89.85,61.1,29.05,99.7,46.0,80.4,100.05,94.0,68.95,68.45,69.0,43.85,44.5,18.7,53.55,114.6,20.1,85.5,108.75,97.85,19.55,84.05,89.4,19.7,79.85,74.45,74.1,18.8,64.4,55.8,20.05,99.15,56.75,104.15,110.8,35.75,69.9,89.2,55.65,50.7,20.0,19.1,45.55,101.05,103.7,36.25,49.4,19.9,19.8,45.05,64.55,86.25,19.75,89.1,95.55,102.6,56.3,94.2,43.05,94.0,98.85,64.35,72.0,49.7,80.7,24.2,65.45,74.35,83.2,25.0,40.2,108.35,69.5,76.0,93.6,100.55,24.45,89.55,76.1,80.5,20.55,105.4,35.75,95.1,19.3,63.1,84.95,93.4,89.2,85.2,49.95,20.65,20.15,19.2,104.95,103.5,84.8,95.05,73.35,64.1,44.4,20.05,60.0,69.5,78.7,60.65,21.15,84.8,103.2,29.6,105.65],\"xaxis\":\"x\",\"yaxis\":\"y\",\"type\":\"histogram\"},{\"alignmentgroup\":\"True\",\"hovertemplate\":\"Churn=No\\u003cbr\\u003eMonthlyCharges=%{x}\\u003cextra\\u003e\\u003c\\u002fextra\\u003e\",\"legendgroup\":\"No\",\"marker\":{\"color\":\"#636efa\"},\"name\":\"No\",\"notched\":true,\"offsetgroup\":\"No\",\"showlegend\":false,\"x\":[29.85,56.95,42.3,89.1,29.75,56.15,49.95,18.95,100.35,105.5,113.25,20.65,106.7,90.05,19.8,59.9,59.6,55.3,90.25,96.35,95.5,66.15,20.2,45.25,99.9,74.8,49.55,69.2,20.75,79.85,76.2,84.5,49.25,79.75,64.15,90.25,69.5,74.85,99.65,108.45,24.95,107.5,100.5,89.9,42.1,54.4,75.3,78.9,79.2,20.15,79.85,49.05,20.4,111.6,24.25,64.5,110.5,55.65,54.65,74.75,25.9,50.55,103.8,20.15,99.3,62.15,20.65,19.95,33.75,82.05,74.7,84.0,111.05,100.9,66.85,21.0,20.2,19.45,95.0,45.55,24.3,104.15,30.15,94.35,19.4,57.95,91.65,54.6,89.85,31.05,20.65,85.2,99.8,20.7,50.7,20.85,88.95,23.55,19.75,56.45,85.95,50.55,25.7,75.0,20.2,19.6,88.05,101.05,84.3,23.95,99.05,19.6,64.5,69.5,68.55,108.15,86.1,19.7,80.9,84.15,20.15,64.25,25.7,56.0,69.7,73.9,20.6,19.9,89.05,20.4,84.25,81.95,20.55,24.7,105.35,20.55,45.3,74.75,51.8,30.4,19.65,56.6,71.9,19.75,109.7,19.3,96.55,24.1,111.35,112.25,20.75,101.9,80.05,105.55,78.3,68.85,79.95,55.45,102.45,25.25,19.75,20.0,86.8,58.75,45.25,56.6,84.2,80.0,24.75,20.2,19.35,50.6,81.15,89.9,85.3,108.0,93.5,20.25,25.15,29.6,73.15,19.75,86.6,109.2,74.7,94.4,54.8,75.35,65.0,99.0,93.5,83.7,19.85,59.55,115.1,114.35,45.0,89.85,49.85,113.3,88.1,24.9,105.0,24.25,59.75,107.05,64.95,55.0,50.55,55.15,51.2,25.4,54.45,76.0,44.35,61.2,86.8,89.35,19.7,20.25,76.05,100.8,74.55,64.9,90.4,60.3,81.85,24.8,75.55,101.15,78.75,19.25,89.05,115.05,69.35,110.05,19.9,91.5,60.0,44.8,48.6,60.05,102.7,82.9,35.9,82.65,19.85,19.2,94.9,88.15,94.8,54.65,85.75,67.45,20.5,20.25,72.1,19.45,44.95,97.0,62.8,44.6,89.15,54.1,105.25,97.1,20.2,98.8,50.3,20.55,75.9,59.95,19.15,98.65,112.6,20.6,35.75,99.75,96.1,85.1,25.35,89.65,86.75,86.2,64.8,108.1,54.75,90.4,44.0,95.6,84.8,44.3,19.9,95.05,90.05,109.9,54.6,20.05,19.75,20.05,55.9,19.7,19.8,95.4,93.95,24.45,74.95,87.35,70.65,73.25,98.7,24.8,24.3,69.85,100.55,25.7,40.7,51.65,105.1,85.95,75.6,58.25,65.2,53.45,19.75,44.45,20.85,114.05,89.85,55.05,112.95,101.55,114.65,64.8,80.4,25.05,94.75,105.5,24.7,69.75,60.2,24.4,104.15,92.9,80.8,20.0,75.1,19.65,69.45,116.05,40.05,102.1,89.7,19.9,20.65,70.05,53.6,76.05,75.7,19.65,81.45,108.5,84.5,100.15,88.6,52.55,104.8,59.0,64.05,20.4,60.9,19.8,116.25,80.7,65.2,84.05,79.45,78.0,19.85,94.3,106.45,105.45,95.0,54.3,70.05,20.05,105.4,51.6,85.5,91.25,115.75,94.7,19.6,99.9,21.1,20.05,79.95,107.15,89.55,81.55,58.45,95.65,80.6,113.1,58.95,19.55,78.95,105.05,101.9,19.75,110.3,115.6,19.35,25.6,68.75,19.9,70.6,70.2,49.3,107.25,23.6,69.7,99.5,64.3,70.85,101.9,73.5,40.4,19.25,59.6,64.9,110.85,81.05,98.05,70.5,94.55,19.65,19.0,20.0,63.25,20.1,99.15,90.4,111.9,24.9,83.5,84.3,45.6,54.85,65.55,90.35,20.4,74.55,19.95,74.25,108.65,109.55,86.65,81.0,47.85,114.55,20.55,109.8,69.5,48.85,25.25,102.85,87.55,78.55,34.55,92.05,85.05,19.7,95.15,84.25,104.6,111.65,55.0,89.85,20.35,54.55,99.45,70.9,25.4,89.85,25.25,69.65,70.0,20.1,24.8,95.1,88.85,78.8,20.35,45.25,20.05,69.55,19.5,74.75,30.2,57.8,19.85,25.55,24.85,110.35,24.55,107.95,81.4,73.8,64.4,103.75,71.1,49.9,24.6,30.1,83.4,20.45,75.25,20.55,20.05,20.65,85.15,84.95,66.5,63.3,83.15,84.9,20.55,49.25,59.6,104.65,75.3,80.1,81.0,24.7,86.0,25.4,89.15,58.25,85.65,50.35,80.35,20.2,20.55,21.25,26.25,80.85,74.2,20.35,75.5,79.05,90.15,50.6,110.45,101.0,79.35,89.85,65.0,80.45,24.1,44.05,110.8,114.95,75.05,19.25,90.05,56.7,80.15,71.35,20.25,90.35,19.7,19.85,90.35,20.8,66.85,19.9,35.8,78.85,20.4,74.25,64.8,20.45,110.65,40.3,107.0,73.35,44.8,54.75,40.6,55.3,60.85,78.4,69.65,59.85,76.9,19.85,67.65,45.0,64.2,81.7,25.55,20.0,75.65,23.8,64.2,76.8,55.2,108.55,25.25,30.4,20.05,84.6,103.7,88.0,106.35,79.15,103.1,63.95,25.8,25.55,44.85,25.05,74.1,88.8,93.25,71.4,79.2,20.4,105.0,30.85,20.55,84.85,33.15,92.0,89.8,115.8,85.15,24.85,64.35,20.5,86.05,89.0,64.8,19.8,93.4,39.0,20.5,26.4,98.2,97.55,19.95,99.7,34.8,60.15,64.75,54.65,19.3,111.25,35.8,20.05,84.35,110.5,91.2,89.3,81.1,81.2,94.3,116.1,105.55,94.4,19.5,105.6,81.35,56.4,65.35,19.95,111.25,89.0,106.1,20.05,25.2,75.4,65.55,80.7,104.55,24.15,20.45,75.4,79.7,81.7,76.3,103.75,86.45,75.1,80.6,19.3,33.6,83.25,80.85,108.05,19.9,21.05,30.15,79.85,65.5,104.1,20.5,91.35,20.5,75.6,55.1,58.95,95.1,25.45,56.75,81.75,86.1,29.8,20.5,60.9,73.25,20.85,77.35,93.85,70.1,75.95,75.25,54.95,19.5,19.6,47.85,23.75,43.8,19.75,19.15,19.6,80.3,24.35,25.25,26.1,20.0,20.7,70.3,69.55,19.85,20.0,95.85,20.75,50.15,58.65,95.9,49.5,80.1,24.4,40.05,19.5,51.05,54.35,84.7,86.1,70.35,110.0,94.9,69.75,71.6,23.65,81.85,25.1,114.7,49.15,80.9,19.3,70.2,54.25,99.3,74.0,50.25,19.8,35.5,80.75,19.55,20.05,112.4,50.2,62.25,55.7,19.65,89.25,54.0,56.75,21.1,96.65,24.5,79.2,69.55,20.05,98.85,25.75,19.6,87.65,74.75,107.45,75.35,64.95,100.45,68.5,80.55,81.25,89.55,55.7,24.8,20.0,105.2,19.55,79.75,97.45,24.25,24.6,50.15,39.6,89.85,98.85,53.85,24.25,89.45,105.25,59.5,70.55,82.5,61.6,49.05,66.25,19.4,86.05,19.15,19.25,81.95,114.65,20.0,19.8,65.15,19.65,88.95,20.2,75.2,56.8,75.5,35.6,60.25,40.35,18.85,54.85,64.3,24.65,76.1,18.7,97.95,94.1,95.1,72.35,82.7,19.9,53.8,51.55,19.65,44.05,114.0,100.4,54.25,80.0,79.2,94.3,49.8,53.75,93.45,87.9,61.05,104.05,99.25,85.7,104.85,69.15,74.45,50.45,60.0,85.25,19.45,20.75,78.9,104.5,49.4,25.0,25.55,70.15,69.4,93.15,69.55,20.2,20.4,23.75,70.45,65.75,24.6,69.25,24.65,90.4,100.85,75.35,87.2,64.4,24.7,105.85,98.3,19.45,58.7,20.15,64.5,28.5,90.45,105.15,83.15,103.2,19.45,88.8,85.9,34.2,20.15,50.3,80.15,51.25,95.2,94.8,80.25,76.1,115.55,24.65,53.6,19.45,88.2,101.15,56.8,99.4,20.1,60.7,20.95,114.85,19.25,62.8,105.5,19.85,74.1,107.5,19.55,68.8,84.45,84.5,111.2,80.6,80.7,75.6,57.6,110.6,58.2,81.0,19.7,59.55,75.55,45.1,70.95,20.9,19.95,24.6,66.7,94.8,65.85,19.95,24.65,51.25,54.25,19.4,56.25,25.15,23.95,35.4,75.35,20.4,56.05,20.0,73.05,20.5,100.75,19.95,49.65,65.65,20.45,60.95,20.35,19.5,75.2,111.45,70.15,92.0,85.5,82.15,84.4,60.9,20.25,95.3,19.85,84.35,19.85,82.3,66.8,44.6,98.45,70.7,24.95,102.5,86.55,24.3,58.35,68.75,85.8,20.1,20.35,110.8,82.85,84.35,19.55,19.95,66.25,23.3,25.3,44.55,104.1,92.55,101.45,94.55,95.5,100.3,55.5,49.85,89.55,19.15,99.8,113.05,19.95,74.15,92.0,73.85,24.45,24.8,64.85,20.75,68.95,109.4,49.0,50.25,19.9,97.8,100.3,55.8,111.15,98.55,50.05,20.85,19.5,19.35,69.5,48.8,94.5,20.65,106.05,108.3,99.65,95.9,20.0,64.95,74.6,49.2,73.75,92.3,19.2,88.65,95.95,105.4,20.25,49.05,35.55,65.1,96.85,69.75,99.2,106.8,51.25,57.75,70.85,19.55,79.5,98.15,20.25,79.15,94.25,40.2,19.95,55.35,102.15,71.1,54.1,19.65,88.45,80.4,19.25,84.8,19.5,68.6,92.6,100.55,20.55,19.6,67.45,43.55,109.85,20.65,95.4,21.0,56.2,18.4,25.75,19.6,19.8,64.2,75.75,78.95,50.3,80.3,19.85,21.1,50.0,104.75,19.85,85.9,80.8,25.25,80.55,81.5,20.9,67.25,20.35,45.05,34.65,69.35,81.55,75.4,67.8,111.4,46.3,20.4,20.05,96.1,19.65,60.65,71.7,36.0,65.2,48.95,53.5,80.45,109.05,26.3,106.8,64.95,19.35,21.1,18.85,26.0,70.35,96.9,19.55,80.4,94.65,95.75,19.55,104.1,20.1,111.55,60.5,90.95,19.7,50.95,20.05,19.4,59.45,81.5,29.05,70.6,97.2,59.2,75.9,90.05,70.95,102.6,43.8,59.0,69.95,24.35,29.45,84.4,20.65,87.1,19.85,90.35,65.5,80.95,56.15,34.4,20.75,18.8,90.8,25.6,70.8,25.4,108.8,76.85,20.25,24.8,115.65,74.6,103.15,72.1,25.1,80.15,25.4,105.4,45.75,24.45,25.0,85.25,19.6,50.15,70.55,26.4,20.15,58.85,97.55,19.65,25.25,114.45,70.7,75.55,84.8,20.65,20.45,35.65,90.45,97.65,73.85,69.1,82.75,24.4,55.25,61.35,76.75,19.4,54.75,19.7,19.9,107.95,83.8,56.4,20.1,94.9,94.2,49.9,71.05,81.65,89.45,99.0,19.05,114.45,44.25,90.55,20.4,71.4,24.85,104.45,19.8,116.45,20.05,110.75,89.7,48.7,96.6,74.3,54.3,74.85,79.95,20.05,19.4,54.9,24.45,89.65,45.4,75.7,110.65,20.55,115.15,58.55,93.25,19.35,48.75,109.05,25.0,54.9,24.75,91.15,104.35,66.05,92.2,105.2,19.6,30.4,61.5,69.4,24.75,91.05,73.65,19.4,26.2,43.85,69.7,38.55,53.1,20.65,64.45,25.1,95.15,79.35,96.65,75.5,19.7,20.5,19.2,98.35,74.35,51.35,45.65,20.3,54.2,90.65,50.9,25.05,74.85,20.5,63.55,47.95,45.0,90.05,25.3,24.3,75.95,19.7,66.4,35.75,18.8,19.4,19.3,67.45,20.1,58.9,19.45,50.5,25.1,60.7,99.0,104.4,44.05,24.1,45.55,93.8,19.7,70.65,86.45,114.1,95.2,88.55,20.75,44.65,60.2,55.45,70.3,60.4,55.8,31.1,50.95,69.1,43.95,86.5,69.95,90.95,19.9,20.15,90.6,92.0,24.85,36.0,78.5,19.95,20.65,30.5,106.1,20.5,95.5,64.6,51.1,89.1,54.95,20.45,85.95,60.35,19.8,85.35,72.1,81.05,20.5,111.8,20.2,19.7,19.85,60.5,19.55,20.9,21.05,71.5,54.65,19.2,49.8,20.5,90.4,90.25,104.6,50.2,95.5,95.4,101.3,53.1,84.85,34.25,88.6,60.15,99.95,70.7,54.8,54.8,100.3,53.6,19.35,85.6,80.8,19.6,90.7,69.75,20.0,95.25,19.95,80.85,93.3,46.35,78.75,83.55,19.6,67.85,105.65,75.5,20.15,45.2,79.25,85.7,20.1,61.8,49.9,20.4,75.4,108.15,86.25,95.7,116.85,105.75,20.15,19.6,60.95,25.05,60.3,63.95,74.3,70.6,90.55,19.45,64.45,69.65,19.5,110.5,24.7,77.4,85.4,47.6,19.4,103.85,108.45,81.0,86.65,92.95,90.35,25.15,76.4,19.55,85.35,24.8,103.15,100.75,94.1,19.35,19.9,101.05,59.1,55.85,106.05,84.1,75.3,24.7,55.8,39.7,29.5,20.15,79.55,24.8,19.65,94.05,90.75,78.85,99.5,80.55,70.2,59.45,93.35,44.95,26.1,20.2,21.25,59.4,95.0,61.9,118.65,64.45,80.15,20.2,21.0,20.45,75.85,80.45,75.5,44.45,74.55,48.15,19.65,20.15,106.6,91.0,25.4,69.95,66.85,20.15,64.85,74.85,50.5,72.9,115.05,19.0,19.55,101.1,84.1,24.15,50.1,74.6,19.75,106.8,84.5,25.05,83.7,96.6,101.1,20.2,94.05,81.0,60.25,60.85,43.95,86.05,20.25,19.4,102.65,19.9,19.55,95.5,84.15,103.2,50.2,19.95,116.25,31.2,24.45,84.2,85.65,21.2,25.55,20.2,63.85,61.95,25.75,58.2,85.85,104.9,99.85,19.55,104.0,104.4,19.5,25.25,49.85,108.95,89.9,82.0,89.95,79.35,64.05,101.15,39.1,34.6,19.55,104.45,70.5,20.35,19.45,69.9,59.7,78.35,71.45,45.85,95.85,35.7,89.55,24.95,24.85,100.8,105.35,19.65,54.45,70.5,20.1,69.35,19.8,74.4,93.05,51.2,65.6,80.55,52.7,20.85,52.15,114.95,104.45,113.65,20.6,91.55,49.85,19.8,104.15,48.2,25.1,100.15,55.9,64.4,85.3,107.45,91.3,85.95,45.2,79.2,55.5,90.25,91.25,100.9,97.7,69.85,65.6,104.65,90.45,63.7,104.5,20.1,104.3,93.25,73.45,20.7,25.25,100.5,90.6,89.4,95.45,20.45,19.95,109.15,85.7,102.05,94.7,64.4,26.8,66.05,65.2,85.05,55.8,19.95,45.0,114.9,106.4,46.1,39.7,20.05,95.75,24.4,33.6,90.45,84.0,67.4,19.7,80.35,19.6,54.2,45.2,75.1,19.7,72.75,20.05,39.2,44.75,82.65,93.9,117.15,99.25,112.55,25.7,90.3,49.4,19.4,109.7,61.25,55.3,103.75,19.5,39.5,26.05,91.05,29.65,50.2,105.3,55.45,85.45,19.8,59.25,90.7,79.05,90.7,95.0,30.25,49.85,93.0,54.55,19.7,84.8,94.45,20.85,60.0,80.45,84.95,49.65,20.2,100.5,35.75,86.45,53.8,38.55,39.9,70.05,20.1,20.3,35.65,82.95,55.65,25.2,50.8,19.65,59.8,73.55,61.4,19.9,19.45,81.5,109.55,74.4,74.9,59.65,110.45,74.45,24.55,24.55,90.65,105.05,20.45,19.55,19.7,70.45,85.65,20.55,97.95,20.0,25.25,70.9,19.85,106.35,99.5,84.7,86.05,44.55,75.85,25.0,45.0,20.5,90.45,60.45,78.45,100.55,20.35,90.75,20.25,20.05,19.6,53.8,70.2,75.5,20.35,26.05,20.6,20.1,24.3,24.5,110.5,25.25,90.1,68.75,19.2,115.1,99.65,91.45,84.75,78.75,20.25,19.9,97.75,100.4,24.45,101.1,50.9,107.2,92.2,113.4,40.55,26.0,111.95,53.8,72.1,78.85,70.75,76.15,39.1,69.95,20.05,20.05,19.45,26.9,19.2,50.0,60.0,84.55,45.45,20.05,115.55,99.0,50.55,25.0,91.55,19.35,24.85,100.4,25.0,19.25,108.25,20.15,101.3,20.0,105.3,69.85,65.25,19.8,19.6,20.05,49.4,88.4,100.6,19.45,20.3,107.65,80.45,58.85,109.6,75.15,73.0,70.1,98.65,111.45,114.9,100.55,20.4,104.35,80.45,91.35,19.9,68.35,79.1,51.0,80.55,66.7,86.4,50.05,25.7,83.4,84.65,64.75,100.15,25.25,113.0,40.65,94.95,59.9,19.8,81.8,20.0,59.6,25.0,84.35,55.55,75.35,59.3,66.1,18.8,86.45,52.1,47.4,109.15,94.95,93.55,79.5,115.05,95.15,105.4,20.1,20.05,20.7,20.35,19.7,85.45,40.4,105.2,100.65,91.0,116.75,59.1,49.8,19.3,19.65,81.4,38.9,87.95,19.85,96.35,24.15,19.1,44.0,60.6,25.65,53.95,20.4,29.35,20.45,95.1,25.25,44.9,92.65,43.7,72.6,18.95,20.5,19.95,24.5,20.6,61.05,106.65,108.25,20.4,55.3,20.25,72.95,89.45,104.65,75.2,101.15,68.75,111.05,99.0,21.0,19.4,77.2,19.45,24.85,41.35,19.6,84.45,20.25,19.65,20.65,99.3,81.05,67.6,70.15,115.0,84.8,19.7,63.15,74.0,29.1,50.05,20.0,74.65,44.4,85.4,94.1,108.9,56.2,26.1,85.45,88.95,74.35,48.85,80.1,56.05,89.8,19.1,20.35,106.05,19.65,59.85,86.1,19.45,97.1,36.65,103.9,19.75,24.55,48.7,109.55,20.65,55.2,24.05,20.45,19.25,26.35,43.8,50.15,20.45,61.4,70.75,61.15,20.25,63.85,98.7,20.0,19.3,84.4,25.1,48.25,19.85,94.2,62.15,79.3,56.25,20.3,99.0,90.6,85.9,79.2,70.35,19.35,50.15,63.8,20.55,88.55,101.4,44.6,63.75,109.25,84.6,20.45,85.75,107.95,22.95,19.45,19.7,87.0,79.95,64.0,64.9,25.75,90.15,116.1,104.95,50.0,20.45,19.85,19.95,26.45,63.4,53.95,95.1,74.1,35.5,79.2,48.8,55.45,25.4,93.5,63.9,64.85,63.8,44.45,19.95,43.35,49.65,85.1,89.8,103.05,116.0,69.9,95.1,40.25,25.75,105.35,113.6,24.0,19.4,86.1,102.65,92.85,97.75,97.95,19.95,24.6,50.95,75.6,80.75,90.4,60.25,20.2,64.15,20.25,99.0,80.3,19.55,100.75,53.75,25.6,58.35,46.35,113.75,90.4,109.3,90.3,65.25,60.65,24.1,19.5,85.95,53.5,25.45,20.5,20.85,89.9,26.0,113.2,69.05,20.1,109.65,19.2,90.0,34.0,20.4,38.6,25.25,60.6,74.75,20.6,20.4,81.7,20.3,20.0,25.0,80.45,19.75,65.65,71.0,89.2,86.75,61.5,25.1,34.05,19.95,19.95,89.7,20.4,26.3,20.7,19.45,110.8,69.3,49.35,20.35,105.6,64.45,49.9,65.65,103.3,44.45,89.9,55.05,104.1,106.6,70.5,19.6,24.05,38.1,34.25,100.05,68.65,45.8,75.75,96.4,20.55,50.95,90.5,79.4,58.75,59.45,105.7,53.3,24.3,59.9,23.95,20.15,95.65,81.0,82.45,20.5,54.4,58.6,84.8,61.4,20.4,20.15,94.45,79.8,74.05,49.15,19.4,113.65,106.0,25.95,19.1,100.55,95.4,75.15,89.15,107.9,19.5,24.95,19.5,69.95,82.85,19.0,38.85,20.35,95.0,74.4,78.45,74.3,51.05,19.2,109.1,76.45,72.8,18.95,101.75,75.45,64.1,25.65,75.1,95.85,54.4,72.75,19.85,19.05,94.85,46.25,19.35,69.6,90.7,101.4,20.25,48.8,74.35,19.35,68.75,100.2,20.85,19.35,45.0,25.5,48.9,19.6,20.0,81.3,95.2,83.3,20.3,89.85,19.8,54.65,29.35,19.15,19.1,80.55,20.25,106.0,25.5,79.6,55.25,88.05,20.4,117.6,20.0,19.65,70.55,65.8,20.05,80.0,35.4,79.6,80.25,20.45,79.6,24.7,77.3,29.75,44.9,29.8,71.95,20.75,56.3,105.25,19.55,84.45,53.65,29.9,19.7,43.7,55.3,19.85,19.65,49.45,20.45,39.7,54.5,111.6,55.55,20.55,62.1,104.5,101.8,110.6,84.9,93.2,24.4,70.55,85.0,85.8,91.1,20.1,20.05,74.8,24.8,100.85,105.1,20.4,20.0,79.4,57.2,58.6,94.8,102.5,20.35,84.9,69.2,20.85,88.5,35.0,55.15,50.95,64.0,80.2,49.3,84.35,20.05,117.2,20.1,109.95,94.75,80.0,79.65,25.2,19.9,44.8,20.3,19.2,80.05,107.35,47.85,70.8,59.1,25.55,20.25,75.55,95.3,70.25,50.3,19.85,19.35,25.0,20.3,75.35,88.0,43.8,62.05,20.1,101.35,84.05,20.9,105.9,85.05,44.1,90.2,53.45,19.95,74.65,57.5,19.65,93.8,89.25,94.15,55.6,48.7,104.9,19.9,19.4,25.05,84.45,19.3,79.85,25.55,68.4,20.65,55.15,70.6,19.95,19.0,44.1,107.6,61.55,90.7,99.25,91.7,100.7,78.45,84.3,19.55,20.45,55.6,86.8,20.95,20.05,113.65,59.5,87.8,41.9,69.85,56.3,109.55,92.15,69.5,97.0,58.35,70.4,94.3,19.55,95.95,94.8,107.75,54.6,71.3,19.5,56.3,90.55,60.8,98.8,98.15,35.35,103.15,107.75,81.4,95.7,104.8,70.95,44.95,97.65,35.65,85.25,19.5,25.1,100.05,55.7,91.15,83.85,45.9,25.1,19.7,91.5,51.3,21.1,104.75,85.75,20.3,100.75,74.15,78.55,19.85,50.7,45.0,77.8,83.45,94.8,20.1,59.9,90.1,70.95,29.2,46.6,74.3,69.3,94.3,76.45,54.0,104.25,19.95,24.95,84.75,19.75,113.65,44.9,75.25,24.6,25.0,20.95,110.6,55.5,19.45,84.85,19.6,53.45,19.8,112.1,74.2,69.0,19.35,19.8,109.2,79.15,53.65,100.2,108.65,40.65,55.35,105.6,95.7,83.2,90.05,97.65,68.05,102.1,23.4,71.05,19.45,59.45,92.2,19.85,43.9,90.5,90.45,84.6,99.15,19.95,20.5,62.1,79.5,19.55,20.35,51.7,23.3,65.1,81.2,74.5,80.5,60.3,75.0,90.15,69.05,59.7,19.85,40.75,95.7,46.3,81.3,20.0,66.15,19.6,49.8,101.75,55.15,103.95,99.65,73.7,50.05,60.25,87.3,54.25,85.3,50.0,90.95,72.25,96.1,19.85,55.3,20.1,69.5,25.15,79.65,71.25,113.8,24.55,19.7,100.5,74.45,104.1,19.05,25.0,19.05,81.9,69.7,90.15,25.35,24.65,19.55,60.0,89.9,19.4,49.8,24.1,54.25,109.9,35.5,87.55,88.4,50.8,99.0,96.55,59.75,111.5,24.25,20.5,70.4,30.55,84.9,54.5,75.35,44.45,98.05,63.9,69.15,64.65,98.85,89.6,83.25,70.25,24.5,20.1,73.0,61.4,84.3,19.9,20.4,50.75,20.45,75.75,65.4,59.75,78.5,48.95,99.65,18.25,54.55,40.65,20.45,24.8,88.8,20.05,69.8,77.15,35.05,108.1,84.05,20.2,49.2,24.6,71.65,104.9,106.5,75.5,58.5,78.9,79.2,109.45,59.2,29.15,20.05,66.5,49.55,73.6,82.65,49.0,25.2,25.45,110.9,77.75,26.2,19.9,80.85,56.35,19.3,50.4,55.25,19.1,84.05,105.2,75.75,95.3,19.85,69.1,20.25,54.75,81.45,80.2,100.3,90.95,20.0,79.85,73.55,19.3,20.15,44.55,54.45,19.65,105.0,88.7,75.15,20.25,109.1,30.75,112.9,94.05,78.85,55.3,19.35,25.35,20.45,19.35,78.65,74.75,19.9,58.35,100.5,20.05,25.65,95.0,45.45,20.0,49.2,83.25,19.25,19.65,72.8,109.65,65.0,114.1,20.65,86.95,94.75,25.35,105.45,25.4,102.55,24.0,25.6,73.5,98.25,54.4,103.1,34.2,43.75,100.65,116.05,82.0,65.15,44.8,79.8,88.85,74.95,106.85,19.3,56.1,19.7,51.3,118.6,24.15,20.3,115.5,25.05,109.1,19.65,111.3,29.9,80.6,20.8,89.95,116.05,19.55,115.25,24.8,19.9,81.25,69.95,86.4,66.3,94.65,72.1,34.7,95.95,44.8,109.4,71.05,19.7,40.25,19.85,68.25,20.15,50.95,25.15,20.25,44.0,20.25,55.8,88.9,57.65,79.15,108.05,94.8,45.9,102.6,61.35,57.55,29.25,19.6,111.75,106.5,107.7,19.3,20.05,69.95,63.7,50.9,60.4,79.25,110.1,90.7,25.3,85.2,24.35,25.1,54.55,96.6,81.15,38.5,92.9,84.7,66.0,20.75,61.45,54.5,99.75,109.75,80.85,20.3,67.8,19.8,25.7,56.15,86.7,20.4,19.65,54.35,108.1,54.45,45.35,59.0,69.45,64.95,18.85,19.8,25.05,114.3,109.2,45.05,51.0,110.45,84.65,60.05,44.65,93.25,20.25,25.45,20.6,94.1,34.8,60.75,51.35,64.05,84.8,50.15,94.6,59.75,100.25,98.9,97.7,60.25,56.25,46.2,24.9,63.35,50.1,50.15,64.65,79.6,19.5,99.55,74.0,38.9,79.55,46.3,99.35,95.8,78.15,26.1,40.35,79.2,20.9,49.9,68.9,20.25,76.0,74.0,82.3,89.4,99.15,29.45,19.8,59.15,44.75,90.8,49.55,106.7,94.45,19.45,67.95,65.25,99.45,20.35,19.95,77.4,19.7,99.7,74.8,19.15,78.95,62.85,71.55,94.95,86.1,19.55,24.8,84.05,36.25,98.6,103.65,92.9,19.9,20.1,80.5,39.85,60.5,103.85,67.8,24.85,19.35,89.0,55.0,76.15,20.3,117.35,19.75,45.2,25.2,89.75,75.0,49.95,65.7,67.05,110.9,87.95,19.8,75.7,62.15,115.15,19.5,86.55,20.4,19.8,45.65,56.4,73.3,101.35,33.6,20.7,104.05,20.25,73.7,108.75,20.15,19.75,25.95,70.05,24.05,84.75,23.05,59.95,19.55,19.6,20.05,85.55,78.6,116.8,43.55,60.8,54.9,65.2,108.2,92.0,75.1,25.05,75.15,19.5,19.3,112.2,70.3,19.6,20.25,80.65,115.75,80.6,59.55,19.05,95.65,19.95,19.4,36.1,19.75,64.1,19.75,19.7,110.2,106.35,90.55,65.9,104.5,52.5,56.1,88.75,26.0,99.4,73.15,54.65,115.55,104.45,91.15,89.7,92.4,19.9,18.85,25.75,20.95,97.05,25.4,19.7,35.0,101.25,70.2,90.95,73.85,88.05,20.1,110.3,85.15,60.95,73.55,46.0,58.55,24.6,19.75,86.35,25.5,19.0,19.55,110.1,69.75,50.6,65.6,82.1,79.1,90.65,20.55,75.75,110.0,20.85,80.35,70.15,67.45,20.75,69.9,51.1,25.55,60.0,90.55,76.4,84.95,110.1,99.65,45.4,69.0,48.65,59.85,80.65,20.55,66.4,100.2,44.55,20.35,91.8,20.2,50.35,18.8,20.45,64.75,98.7,89.45,58.75,20.7,85.6,80.3,79.8,79.85,54.1,80.9,24.5,20.15,20.05,19.6,114.3,100.3,80.0,20.85,89.95,20.0,48.75,80.0,20.35,20.25,19.4,100.4,57.95,59.5,19.2,59.55,103.95,68.95,103.1,24.7,110.2,62.45,89.55,78.9,20.35,71.45,46.35,94.65,49.9,25.45,20.75,66.1,75.4,21.05,69.35,88.85,97.0,66.4,69.2,79.5,100.65,79.7,61.4,69.8,40.55,75.65,90.7,80.5,60.6,101.15,24.95,20.3,60.0,20.25,44.75,98.0,107.7,104.7,93.9,86.45,19.4,24.95,75.0,78.2,94.2,50.05,69.55,90.1,44.65,80.35,98.1,53.35,19.55,48.95,54.2,24.45,40.15,25.6,70.35,91.7,89.2,24.1,53.85,115.6,19.75,24.05,25.3,84.3,89.75,97.95,20.0,103.9,20.7,20.15,26.0,77.35,66.05,19.9,68.15,80.85,75.5,80.6,83.2,87.55,109.4,45.55,20.7,75.3,93.4,73.75,88.15,49.2,19.65,105.15,49.0,49.8,20.95,79.3,19.5,44.15,105.5,92.7,26.25,96.95,20.45,115.8,108.2,20.2,54.9,20.15,90.35,55.75,114.6,66.8,100.3,105.35,85.2,18.95,69.8,106.15,20.55,105.75,25.25,19.75,104.85,60.95,81.15,19.1,20.8,90.15,90.1,74.1,118.75,85.9,95.0,20.15,101.3,21.2,24.2,20.3,85.3,89.6,56.25,50.95,115.85,103.65,26.1,35.1,99.1,67.25,25.0,59.55,77.8,55.1,24.15,45.25,20.25,64.75,54.6,20.7,94.75,115.8,49.45,83.8,95.35,74.05,89.6,116.6,54.2,19.3,65.05,24.05,18.75,20.15,20.0,71.0,93.6,24.4,65.25,50.55,70.7,45.25,70.3,108.95,26.45,19.65,19.05,74.75,75.8,25.1,44.45,104.3,89.0,20.15,36.15,19.2,19.25,61.2,20.45,35.05,44.0,50.35,20.0,86.4,58.4,94.1,108.9,107.4,90.85,19.9,66.4,100.7,25.6,19.85,20.75,95.8,94.65,106.65,45.85,104.35,55.45,61.15,78.95,109.2,61.3,96.85,40.55,19.8,108.25,105.05,90.45,86.4,66.9,110.7,20.0,102.1,70.15,80.05,49.2,20.5,38.25,54.95,96.6,19.9,19.9,84.6,85.25,81.25,115.5,79.0,94.65,20.8,59.5,20.05,100.45,20.6,20.3,39.55,20.45,25.25,91.25,72.45,19.7,75.1,25.0,69.15,91.55,35.8,113.15,19.85,19.8,19.9,19.7,59.1,91.15,68.95,51.55,24.4,96.8,70.05,19.5,78.75,69.2,19.55,103.65,54.7,54.15,84.85,20.0,99.25,19.35,94.75,114.05,74.9,19.8,80.85,54.65,91.7,118.6,24.55,19.45,116.15,80.6,20.3,99.8,75.0,19.9,80.3,84.3,54.05,104.9,97.25,83.05,41.1,45.0,74.55,40.2,70.5,19.75,24.65,104.25,78.35,109.7,33.45,94.6,20.2,20.3,39.4,69.15,51.35,100.05,20.3,94.45,46.4,104.05,24.9,59.6,108.5,40.55,58.95,20.75,113.15,48.8,63.05,100.85,80.55,64.4,75.2,84.9,19.3,74.65,59.05,69.1,20.55,76.55,62.5,94.9,111.65,19.9,20.45,106.05,113.45,92.55,65.6,84.35,71.1,85.15,49.7,30.2,56.35,107.55,19.85,95.9,23.85,83.85,84.8,76.1,74.55,39.2,79.55,19.6,19.55,39.15,20.1,99.95,59.8,49.75,108.5,60.15,19.05,84.0,44.55,103.45,80.65,57.2,110.75,24.7,97.05,76.35,18.9,74.45,84.4,24.4,20.05,55.5,84.3,100.2,19.4,20.4,94.75,44.35,74.55,73.6,50.1,53.0,19.85,24.35,19.55,25.05,93.8,103.75,56.75,20.8,24.45,25.6,59.65,83.3,79.55,24.45,19.2,29.8,45.5,30.05,65.65,74.05,110.75,19.7,49.5,43.95,111.15,20.6,19.65,115.8,88.65,94.5,20.1,34.65,52.3,65.0,35.45,19.7,95.6,19.85,81.85,109.3,25.4,69.8,20.0,109.9,50.3,101.5,89.15,19.4,29.9,78.8,19.3,96.8,20.65,19.8,104.6,80.05,45.15,73.15,99.1,105.35,45.65,79.95,54.45,25.1,84.7,75.85,48.8,35.2,76.25,24.9,54.3,66.3,20.9,75.35,104.45,49.45,19.45,92.15,19.85,100.25,95.7,93.15,69.7,19.8,71.35,20.75,40.6,20.35,19.75,54.4,20.45,66.15,89.85,45.05,86.85,96.75,106.65,110.15,82.85,20.1,59.45,58.6,49.7,65.85,73.5,113.65,83.4,65.65,61.35,85.9,75.65,70.9,49.85,20.1,103.05,99.7,81.9,66.2,19.75,72.6,116.5,106.8,24.95,89.25,19.25,104.55,87.2,30.75,25.7,86.2,30.1,99.35,19.2,20.1,20.35,25.65,94.55,94.4,56.1,68.25,24.75,76.25,74.35,54.15,19.45,34.95,53.65,104.0,70.35,64.85,19.65,45.9,20.0,44.8,20.35,45.8,108.95,64.35,90.8,24.95,84.7,70.8,104.4,101.5,54.3,103.95,91.1,19.95,26.45,75.1,108.1,110.15,111.5,106.5,19.9,111.1,70.7,24.85,91.2,65.6,59.45,109.95,38.5,92.55,24.5,19.7,20.6,58.0,107.45,65.5,25.45,100.15,104.45,21.15,96.2,44.4,94.35,20.3,105.75,81.15,89.55,54.75,53.75,105.75,105.85,64.2,87.7,89.3,20.15,20.05,67.2,94.55,107.5,73.0,114.75,76.05,77.9,90.65,110.45,68.7,44.85,29.8,88.9,58.75,19.85,86.9,59.65,66.4,20.15,108.1,56.9,109.6,25.15,79.15,66.75,48.8,80.7,20.55,115.1,59.7,86.45,33.7,80.1,104.05,108.75,41.1,20.35,105.9,65.5,40.45,70.45,78.8,90.1,82.45,20.25,66.25,89.7,64.55,93.65,73.6,109.75,61.45,106.4,81.9,105.2,54.6,20.55,19.7,66.05,54.05,58.9,96.9,19.1,50.0,45.4,85.45,84.1,66.25,76.9,74.6,116.95,40.65,114.35,69.7,98.65,61.65,89.35,95.4,35.4,19.95,19.25,20.4,24.75,25.35,20.0,59.75,82.5,20.35,90.8,104.95,105.25,23.75,61.3,75.8,98.0,52.0,64.4,45.8,30.5,69.15,49.25,39.35,105.1,20.1,19.75,19.75,70.4,20.45,20.35,86.2,95.65,103.8,97.2,63.55,24.95,99.0,85.55,94.0,50.3,95.0,61.4,80.55,78.5,114.3,20.05,62.65,92.7,100.45,75.2,84.75,79.5,19.8,100.9,95.3,90.95,54.5,49.6,25.0,45.45,107.75,89.1,44.75,101.6,103.15,95.65,75.1,61.35,19.7,51.0,88.85,20.05,65.1,70.15,20.75,56.05,19.95,98.6,79.0,89.45,74.2,81.0,49.6,84.6,84.2,106.3,69.05,45.4,99.35,50.75,87.1,20.15,98.7,25.2,55.7,65.35,25.3,24.25,60.5,25.1,20.05,30.25,20.2,59.9,25.15,101.3,76.95,55.3,92.45,48.45,19.35,86.7,55.7,84.25,64.65,69.2,54.65,24.75,23.95,105.0,59.85,20.05,92.15,44.8,20.9,95.4,80.35,85.1,115.05,19.95,86.15,78.85,86.55,42.4,24.25,20.5,19.6,20.25,20.6,19.8,80.2,116.4,31.65,94.15,20.65,76.85,20.15,55.25,82.15,103.0,95.1,95.15,79.8,74.8,20.45,78.35,19.1,20.0,19.95,24.0,19.15,91.3,19.15,19.75,75.5,83.75,19.4,26.5,19.15,40.9,80.25,70.8,60.2,55.2,54.15,100.4,62.55,70.45,85.5,54.5,20.75,20.35,91.0,104.8,51.1,89.8,20.55,64.05,74.85,25.0,20.3,26.35,54.7,90.25,20.65,25.45,19.5,66.15,69.1,39.1,20.05,59.8,48.6,105.35,25.1,49.75,94.75,93.0,71.9,77.55,19.85,95.25,25.05,53.15,20.15,101.25,100.55,25.3,71.8,19.7,49.85,69.6,19.75,80.8,64.2,35.0,19.2,90.65,20.0,74.65,61.2,19.95,54.8,73.45,51.45,80.45,85.3,79.3,76.5,25.4,86.85,19.65,45.55,78.1,19.3,110.5,20.3,81.35,55.3,56.55,19.7,104.05,52.85,80.65,24.65,21.3,110.2,51.05,19.8,19.9,87.3,19.85,89.4,20.0,20.05,83.25,102.9,39.1,114.5,20.2,55.8,24.2,72.8,99.85,99.5,20.25,26.0,19.9,19.05,96.5,19.85,25.7,20.3,91.55,39.4,105.7,70.25,93.75,60.0,59.8,90.65,109.0,68.1,20.4,81.95,60.55,65.6,82.5,82.3,68.15,20.3,20.2,89.2,74.8,20.2,84.4,25.15,19.8,50.85,102.4,55.5,109.75,106.4,60.0,88.8,80.05,75.55,49.55,23.9,66.4,18.8,108.4,85.95,80.9,111.8,20.6,44.6,105.1,115.15,59.8,26.3,70.55,20.05,79.85,90.05,24.45,59.95,25.35,34.3,105.05,19.3,19.15,51.4,71.85,75.4,49.7,78.75,81.6,70.4,76.1,94.0,103.95,19.95,110.8,96.1,48.8,50.55,44.65,19.45,89.3,19.25,70.5,19.65,20.85,19.65,19.35,44.0,94.4,75.4,71.0,21.2,61.05,79.95,19.7,20.3,24.35,19.75,50.3,50.25,85.35,51.65,24.0,59.85,25.45,23.9,24.15,75.7,50.85,91.6,98.9,85.0,44.3,80.2,60.9,34.2,87.15,54.3,19.1,112.75,19.95,19.5,65.55,78.8,78.2,105.25,89.25,20.65,68.7,78.65,24.75,19.75,89.1,84.7,59.9,19.95,108.9,33.6,85.85,34.85,95.3,84.6,44.95,24.7,100.3,25.45,50.7,55.0,68.4,55.05,19.8,84.45,35.9,80.75,78.65,61.75,63.7,87.6,89.15,20.0,104.4,20.05,34.3,20.65,84.25,19.65,79.85,20.2,19.8,50.35,74.6,79.15,20.35,21.05,94.7,74.95,111.95,19.85,89.75,20.05,108.95,19.65,24.9,93.2,84.8,71.75,30.35,54.85,19.5,24.2,19.35,100.65,94.1,74.55,56.15,20.35,80.55,61.25,20.45,18.9,19.6,45.2,19.45,25.45,94.9,29.3,20.25,110.5,109.4,19.95,19.6,76.6,19.6,85.3,65.85,20.05,99.4,20.0,78.45,25.1,55.0,71.1,61.55,45.9,40.3,87.1,49.5,73.8,19.2,25.0,35.3,76.75,81.0,105.55,18.8,24.9,64.9,61.35,113.95,90.15,54.1,49.8,24.4,95.0,69.9,39.95,103.25,94.25,47.05,20.55,19.65,70.2,81.0,75.9,24.7,110.25,85.0,19.75,23.9,19.95,25.15,54.15,59.8,83.85,104.9,75.3,66.65,109.5,73.85,19.3,118.2,51.45,59.45,19.5,19.55,93.55,59.3,109.8,78.1,39.9,64.9,53.4,24.9,44.7,114.0,20.25,83.85,20.2,19.95,20.35,90.0,54.2,99.1,66.9,25.85,91.05,20.95,109.2,85.8,19.65,20.5,89.65,74.35,49.45,89.1,75.15,70.65,90.05,19.4,88.75,91.0,90.8,18.95,102.4,99.9,88.7,54.3,55.7,103.95,20.15,20.05,91.95,55.65,74.7,104.15,83.65,110.05,25.5,19.5,80.7,105.1,25.15,95.65,80.8,24.85,54.75,50.75,20.15,20.05,71.6,81.45,58.4,53.7,19.6,89.4,84.2,106.1,25.75,64.95,85.45,20.05,20.7,25.3,100.6,74.0,99.4,107.45,83.6,99.05,80.1,65.3,89.55,60.8,74.5,99.15,19.25,39.45,44.85,97.2,110.55,19.9,76.95,35.4,20.45,96.75,54.2,100.1,45.25,20.85,33.45,20.2,85.9,61.0,86.9,69.4,20.35,104.3,44.95,49.45,20.6,19.55,93.5,54.55,20.05,79.45,79.85,100.0,19.6,20.2,50.4,113.35,80.0,80.95,24.9,54.9,109.25,116.3,19.9,70.35,25.6,44.45,100.15,73.85,70.1,25.25,21.05,24.95,64.5,105.95,75.85,43.6,91.25,89.75,104.4,90.15,40.3,105.25,104.0,69.65,74.3,100.9,20.25,96.9,104.1,20.1,56.55,68.6,69.05,19.7,20.05,94.4,54.95,93.7,110.25,98.9,80.45,79.4,62.8,74.9,74.85,25.85,68.3,48.4,105.05,25.15,19.5,92.95,20.7,19.35,104.35,19.55,74.05,40.1,20.1,83.55,56.85,19.55,106.15,78.95,49.75,92.4,58.2,91.95,65.25,73.1,59.75,59.8,116.6,109.3,101.4,50.65,56.15,19.2,83.0,70.1,108.3,25.25,45.35,43.9,79.3,84.9,79.25,71.05,53.75,24.25,44.25,50.05,20.15,69.35,19.35,19.15,61.0,20.5,50.2,79.6,24.9,106.9,101.35,55.35,50.55,19.5,90.65,89.85,79.0,19.55,19.9,116.25,87.75,81.3,44.3,70.35,44.45,49.15,29.45,85.3,69.1,70.35,20.6,74.15,75.05,44.6,21.45,43.45,20.05,94.15,19.55,75.9,64.15,109.55,110.8,53.45,69.95,97.0,90.6,73.55,94.35,19.4,19.75,54.6,29.8,103.05,20.3,35.1,105.7,56.25,60.35,59.8,99.65,50.65,60.9,59.65,64.7,54.85,91.35,25.1,34.0,45.9,20.5,20.35,36.1,65.8,20.35,105.8,96.75,24.4,73.05,64.35,20.5,54.75,51.15,41.95,54.35,96.0,61.45,19.65,19.0,100.0,98.7,19.8,73.8,20.05,106.2,116.55,99.7,19.7,19.5,29.15,55.0,90.8,51.0,90.1,59.05,20.3,72.95,73.55,84.3,78.0,72.1,106.75,19.25,20.55,20.0,24.65,103.5,23.85,25.8,59.45,20.05,82.55,81.25,74.3,109.7,96.35,66.6,44.5,80.1,69.05,20.4,19.7,50.1,83.45,86.65,20.15,19.4,60.05,20.35,94.05,84.1,78.75,55.55,20.1,70.3,53.65,20.75,103.4,50.8,79.0,74.6,96.5,20.1,19.4,77.55,20.05,19.85,20.2,67.45,18.55,29.75,24.2,23.55,20.45,92.3,53.65,39.65,54.65,104.8,29.3,83.85,103.65,99.05,73.35,100.05,20.35,43.95,23.5,70.7,94.3,29.15,20.85,37.7,92.45,44.15,36.05,50.25,109.75,20.3,112.35,94.3,41.15,74.65,48.25,76.15,71.1,96.55,79.3,89.6,20.5,106.3,100.35,85.6,106.15,51.1,19.9,25.7,99.4,69.7,98.35,85.45,95.9,100.75,89.2,25.75,84.1,79.3,107.05,20.05,19.5,45.3,115.15,72.95,19.65,19.55,89.55,50.35,87.25,20.8,109.25,20.35,55.9,79.2,24.0,101.35,35.45,79.4,35.2,19.65,49.85,68.75,61.9,79.9,89.75,19.4,93.65,19.9,72.9,25.6,19.75,55.7,117.5,19.85,78.9,20.65,19.65,79.75,79.95,29.9,19.75,45.0,44.8,51.1,53.15,24.7,109.95,20.8,25.6,108.4,19.55,85.1,69.05,70.15,111.15,89.35,89.1,91.25,90.35,105.55,19.1,20.4,100.45,85.7,94.0,69.85,25.85,71.1,93.35,50.55,81.3,20.7,79.05,19.05,19.6,20.2,20.9,103.6,38.8,88.4,79.7,19.3,55.75,19.95,89.65,45.85,55.95,69.0,83.55,65.7,94.9,61.9,20.0,67.7,25.15,92.85,111.3,60.6,65.5,19.95,74.6,94.6,81.15,89.05,49.2,19.45,104.3,86.05,25.2,35.15,99.65,105.35,24.3,80.7,89.85,61.1,29.05,99.7,46.0,80.4,100.05,94.0,68.95,68.45,69.0,43.85,44.5,18.7,53.55,114.6,20.1,85.5,108.75,97.85,19.55,84.05,89.4,19.7,79.85,74.45,74.1,18.8,64.4,55.8,20.05,99.15,56.75,104.15,110.8,35.75,69.9,89.2,55.65,50.7,20.0,19.1,45.55,101.05,103.7,36.25,49.4,19.9,19.8,45.05,64.55,86.25,19.75,89.1,95.55,102.6,56.3,94.2,43.05,94.0,98.85,64.35,72.0,49.7,80.7,24.2,65.45,74.35,83.2,25.0,40.2,108.35,69.5,76.0,93.6,100.55,24.45,89.55,76.1,80.5,20.55,105.4,35.75,95.1,19.3,63.1,84.95,93.4,89.2,85.2,49.95,20.65,20.15,19.2,104.95,103.5,84.8,95.05,73.35,64.1,44.4,20.05,60.0,69.5,78.7,60.65,21.15,84.8,103.2,29.6,105.65],\"xaxis\":\"x2\",\"yaxis\":\"y2\",\"type\":\"box\"},{\"alignmentgroup\":\"True\",\"bingroup\":\"x\",\"hovertemplate\":\"Churn=Yes\\u003cbr\\u003eMonthlyCharges=%{x}\\u003cbr\\u003ecount=%{y}\\u003cextra\\u003e\\u003c\\u002fextra\\u003e\",\"legendgroup\":\"Yes\",\"marker\":{\"color\":\"#EF553B\",\"pattern\":{\"shape\":\"\"}},\"name\":\"Yes\",\"offsetgroup\":\"Yes\",\"orientation\":\"v\",\"showlegend\":true,\"x\":[53.85,70.7,99.65,104.8,103.7,55.2,39.65,20.15,99.35,30.2,64.7,69.7,106.35,97.85,80.65,99.1,80.65,95.45,94.4,79.35,75.15,78.95,21.05,98.5,110.0,96.75,76.5,100.25,74.4,78.05,58.6,35.45,44.35,70.45,71.15,45.65,95.0,82.4,70.9,45.3,104.4,94.85,74.45,76.45,29.95,84.5,79.25,24.8,91.0,79.9,106.6,46.0,70.15,50.05,55.2,84.6,54.4,95.0,74.4,48.55,70.4,40.2,44.6,41.15,106.9,19.35,94.45,24.8,70.6,85.4,105.05,95.15,70.0,74.5,44.85,76.1,73.6,95.45,74.9,80.6,80.3,93.15,82.45,70.35,73.85,80.6,75.8,104.6,103.4,90.4,84.8,41.9,80.25,30.75,96.5,85.65,104.95,50.65,90.85,19.95,85.45,73.95,99.45,19.9,19.6,81.35,83.3,75.3,19.4,45.4,105.9,69.55,81.05,101.15,99.8,55.95,55.0,74.7,80.25,96.1,69.0,45.3,83.55,74.35,74.4,43.75,28.45,99.7,94.1,94.2,80.5,74.35,104.8,75.2,75.6,100.05,85.0,86.05,45.55,86.3,80.35,100.25,100.3,19.0,75.3,89.2,85.7,61.65,105.25,29.95,65.0,20.0,90.05,110.75,105.5,104.55,85.25,56.15,89.55,94.55,45.7,89.5,69.55,74.6,19.65,19.85,24.25,69.65,45.65,75.05,49.15,34.7,80.0,49.25,75.1,50.15,79.85,19.55,85.95,45.35,94.5,91.7,87.25,98.55,98.55,85.9,89.25,70.3,93.35,19.9,88.9,95.8,82.0,45.35,52.2,110.0,96.75,98.5,85.35,101.3,69.55,103.25,104.0,86.2,111.2,89.45,95.6,90.95,108.55,78.85,44.4,100.0,19.8,89.9,100.15,50.8,73.65,95.1,94.65,80.6,85.55,50.8,105.1,110.1,83.9,100.55,103.85,24.6,98.9,98.3,93.85,100.5,72.85,73.55,79.4,81.15,84.6,79.05,74.4,99.05,44.95,44.7,45.7,100.3,19.25,96.0,90.55,30.35,108.05,69.9,103.75,86.6,80.6,85.3,70.0,94.3,95.35,75.5,90.1,68.95,99.55,57.45,53.65,100.6,83.75,88.3,92.1,79.45,90.45,69.75,19.65,43.65,39.5,97.1,80.0,84.7,89.55,90.6,90.05,99.05,69.75,49.05,98.05,114.5,80.95,74.3,89.7,100.45,90.4,56.15,94.4,78.95,44.85,105.65,74.65,64.7,104.05,35.55,95.15,96.65,80.4,31.35,89.75,94.4,19.85,109.9,101.35,60.05,60.15,90.45,94.25,74.9,80.25,69.0,66.35,86.0,80.3,90.55,75.9,45.85,49.95,78.3,76.95,96.15,45.3,19.4,90.15,45.05,75.8,79.3,30.9,95.25,89.6,110.15,89.5,75.0,44.75,44.05,85.6,115.55,86.6,85.2,97.65,109.55,89.55,19.45,20.35,69.25,99.5,25.2,45.0,20.15,105.0,54.7,87.25,79.95,88.35,94.75,95.05,78.45,70.2,41.05,85.6,79.2,70.0,49.95,69.25,94.25,73.0,100.05,99.8,35.0,76.0,93.85,84.3,84.4,101.1,50.45,99.95,91.4,75.55,80.8,100.0,20.55,85.3,70.4,98.8,74.4,98.75,106.0,104.7,96.7,55.05,88.2,19.75,75.65,74.7,76.65,25.8,42.6,68.85,90.0,75.35,100.85,69.95,107.5,45.85,106.1,91.7,95.6,74.95,95.35,45.0,99.5,98.6,59.5,80.45,77.95,74.7,88.8,90.25,64.65,89.05,87.4,94.75,86.45,98.25,75.75,85.35,106.1,45.05,109.8,84.65,79.5,85.8,79.1,44.3,105.95,69.75,94.65,96.05,50.15,113.6,78.9,60.05,34.7,85.3,102.45,104.4,99.75,74.4,74.25,59.85,69.6,45.4,19.5,69.9,87.15,84.75,89.95,113.2,90.5,79.0,20.15,71.65,20.35,84.25,78.1,89.65,98.7,76.35,79.15,85.0,85.3,86.55,73.85,44.85,45.1,96.0,20.05,108.65,45.55,35.1,46.2,45.15,43.3,57.15,73.2,85.35,45.95,83.75,70.05,86.0,100.5,72.65,21.0,45.1,50.4,78.95,94.45,84.8,50.9,99.8,107.35,19.55,79.1,25.5,80.75,91.85,75.35,75.45,49.55,78.6,81.1,74.95,93.55,102.1,90.9,29.2,89.15,108.85,84.75,45.7,69.95,44.6,74.95,95.25,89.85,100.45,47.15,80.2,87.1,75.9,98.75,86.45,45.3,104.1,81.0,90.6,88.15,20.2,90.8,79.35,96.8,83.35,49.4,79.2,48.7,95.6,59.75,108.15,71.35,20.15,69.75,93.2,80.85,33.65,79.95,19.3,99.2,85.2,75.25,54.35,24.95,42.35,75.3,94.8,70.55,86.15,85.0,80.55,75.8,98.5,95.25,74.4,85.15,88.55,54.75,91.3,79.5,70.1,111.3,95.25,86.25,100.8,86.3,89.95,76.45,70.0,64.4,102.45,80.1,80.2,98.15,112.95,70.9,86.85,99.85,74.5,109.15,65.2,99.5,71.55,93.9,108.4,48.75,85.65,106.7,25.15,110.35,103.25,47.8,98.6,83.05,70.4,104.75,94.25,45.95,70.15,85.55,70.3,106.35,103.7,88.35,94.2,96.25,70.7,33.55,94.55,112.95,35.9,99.25,24.45,103.35,84.8,99.95,90.0,104.85,106.1,74.2,89.35,77.15,35.25,48.55,98.4,93.85,100.7,80.45,55.25,54.45,75.35,75.7,74.25,89.7,96.4,69.5,85.25,19.4,83.3,80.1,62.7,25.3,98.15,93.7,105.95,82.0,95.75,94.05,54.75,95.65,94.6,98.9,76.05,69.75,34.5,105.55,30.1,70.3,80.2,94.35,44.6,19.6,110.45,70.7,99.25,84.8,105.0,54.45,85.3,83.35,33.5,90.35,90.75,89.6,49.25,19.75,95.15,101.35,70.05,74.65,50.4,79.65,79.85,78.75,80.45,50.1,76.4,98.7,100.8,90.1,51.55,79.25,94.85,85.7,44.4,89.5,86.05,44.55,35.4,95.65,20.95,34.7,19.75,92.55,60.05,74.3,85.35,74.3,98.1,109.65,74.55,100.95,94.9,104.9,24.1,104.05,88.35,94.65,74.4,79.9,69.7,98.1,20.5,99.6,81.95,69.35,91.1,86.1,94.7,85.1,99.15,102.95,45.05,71.0,70.55,79.7,59.0,60.35,69.25,70.95,89.0,99.4,73.5,95.5,92.35,74.55,83.8,54.45,99.8,105.85,75.45,93.85,100.75,31.0,80.0,70.25,100.15,94.5,33.9,89.95,84.45,79.5,89.15,74.95,74.4,55.3,55.15,84.95,43.25,48.35,79.55,71.05,84.5,108.6,30.3,30.4,45.4,84.15,19.75,85.4,75.2,55.85,106.4,84.4,56.25,85.55,68.65,77.85,105.35,87.05,53.5,25.1,79.65,54.2,19.45,103.4,84.45,85.95,59.4,30.6,99.55,70.0,45.3,29.85,95.1,19.8,76.65,99.15,44.95,49.55,95.9,81.5,84.1,36.45,25.05,49.85,55.55,69.5,104.3,93.85,50.45,74.65,94.2,106.55,20.1,83.8,55.15,86.65,106.75,78.45,87.45,70.75,101.35,81.7,68.25,79.15,95.45,100.95,69.1,69.6,103.45,77.95,78.45,29.5,70.75,84.45,85.65,70.15,97.8,46.3,106.3,89.4,83.15,74.15,99.5,44.15,53.9,85.45,50.85,59.2,83.2,54.9,103.9,19.25,75.45,54.85,95.1,75.5,73.75,96.05,88.95,50.7,53.4,101.9,83.0,50.6,89.5,69.8,93.8,101.05,94.7,104.15,61.45,90.55,88.8,85.2,91.4,106.15,45.3,73.25,51.05,85.35,75.35,75.2,20.9,43.3,109.5,84.8,95.05,50.35,74.6,19.7,59.45,105.2,45.15,93.8,96.2,79.6,85.25,80.5,89.8,50.75,89.65,65.4,72.9,40.0,99.45,86.25,45.65,70.1,70.2,55.35,84.2,45.85,75.25,100.15,105.75,48.35,24.4,20.95,49.55,20.25,50.15,95.9,25.25,45.15,84.4,75.1,70.15,101.75,45.8,20.1,40.65,101.0,69.1,75.0,100.0,71.15,54.15,108.75,49.15,19.4,79.15,80.4,102.0,20.65,70.8,89.05,96.6,104.5,50.6,49.35,94.25,68.95,93.85,76.05,24.45,89.35,80.35,55.8,79.05,95.0,25.2,98.4,79.4,101.4,89.8,109.75,19.3,91.25,49.1,65.25,85.45,94.1,71.65,104.65,74.25,74.2,101.0,100.2,89.05,70.1,105.65,96.5,70.85,85.95,73.9,109.45,100.2,74.05,101.55,111.95,55.95,45.75,74.95,80.15,109.25,35.2,78.8,106.4,49.4,69.1,90.2,93.55,80.85,82.05,20.55,78.55,78.65,42.9,34.25,58.5,96.2,74.4,105.3,73.85,84.55,24.75,85.8,24.45,105.7,24.25,76.5,93.5,101.5,74.9,69.6,24.05,50.55,100.55,20.5,74.8,24.45,71.0,40.3,50.6,84.85,65.7,70.5,94.85,19.75,65.45,98.7,67.5,69.6,84.35,100.2,78.05,73.6,74.75,20.2,93.55,25.05,95.55,39.3,20.25,23.9,85.45,99.9,84.8,75.2,49.35,74.9,101.25,18.95,28.6,24.35,98.65,79.9,103.3,96.2,104.15,102.95,90.6,50.8,90.05,75.85,68.5,73.5,69.95,70.05,94.0,61.15,84.45,75.3,109.55,19.6,66.4,100.05,102.0,90.2,25.15,79.85,49.6,105.95,91.85,40.1,73.9,89.8,72.25,96.55,40.1,101.25,79.55,84.05,89.1,94.4,78.25,44.15,75.75,19.1,80.3,74.9,80.85,24.75,90.85,79.7,57.55,86.5,103.95,25.1,48.95,83.55,89.15,70.45,60.3,24.75,103.3,78.5,19.85,79.9,99.7,58.6,98.5,50.45,94.65,100.25,88.45,69.85,81.7,79.9,25.4,83.75,20.9,69.4,74.9,74.15,70.1,78.3,96.8,94.4,84.3,92.45,99.55,81.25,19.95,99.25,80.45,79.35,79.75,100.05,69.35,85.8,79.7,50.55,80.55,84.5,84.3,67.75,85.25,80.05,20.0,48.8,85.05,102.8,99.95,117.8,79.5,79.65,94.7,92.5,19.45,75.55,70.0,74.8,104.4,86.2,51.2,19.5,74.9,74.9,100.25,102.8,100.0,99.85,94.2,83.85,88.3,104.05,94.7,100.65,80.55,78.85,44.45,84.9,20.25,74.35,62.05,80.0,104.1,39.1,76.5,49.2,23.15,80.85,60.1,78.95,45.15,79.4,53.95,99.3,80.65,71.1,106.25,20.8,94.0,89.85,46.0,66.25,90.0,70.45,19.75,53.95,105.5,81.0,69.8,73.75,54.55,76.25,93.9,70.4,91.15,70.95,99.5,83.9,117.45,104.4,29.4,44.65,25.25,84.05,85.7,74.7,90.8,106.15,85.35,90.85,35.75,46.0,89.4,19.8,50.9,81.0,98.35,51.0,91.65,90.85,69.4,94.45,20.15,95.7,74.95,47.95,63.6,36.85,44.1,50.75,104.4,39.3,106.45,96.05,75.1,44.7,55.0,74.35,104.7,55.7,19.85,70.3,85.55,94.5,85.35,79.65,79.6,90.6,20.2,106.05,99.15,55.9,82.35,40.4,75.35,85.15,93.8,20.4,94.7,30.5,77.0,20.1,75.3,99.2,85.5,20.05,70.4,49.75,75.3,94.0,118.35,30.45,96.1,104.25,80.2,104.2,69.65,80.8,80.3,84.1,69.35,79.6,36.45,89.4,80.35,40.65,60.45,84.9,73.55,20.15,34.7,107.55,98.75,101.15,88.7,79.75,94.55,69.05,96.25,101.1,104.7,55.25,90.1,53.75,89.3,95.2,45.7,74.5,79.65,101.3,80.05,89.2,83.65,19.5,51.25,45.6,49.65,20.0,34.0,92.5,88.35,107.95,74.45,64.75,89.8,95.5,29.65,84.5,90.7,70.3,103.95,74.75,50.8,80.25,78.9,84.75,85.45,19.9,99.45,70.6,81.0,84.85,89.15,24.8,105.65,80.85,89.45,72.15,76.4,61.6,79.9,96.15,65.3,19.65,84.65,69.55,31.05,51.0,44.35,79.7,55.0,84.85,73.65,73.9,77.75,84.35,84.95,73.85,51.8,46.0,79.4,71.8,88.4,46.0,51.75,94.4,70.15,34.7,81.1,20.55,106.6,106.75,89.45,97.9,55.7,79.8,39.05,83.9,69.85,53.55,93.9,113.15,84.95,80.5,19.3,49.65,54.35,88.45,90.5,94.85,69.95,48.6,55.8,80.15,75.5,20.2,74.75,104.05,96.65,20.05,103.45,19.9,46.35,19.95,79.6,75.9,76.2,19.25,84.3,79.0,70.25,84.6,24.1,60.0,86.55,20.85,50.75,105.5,85.15,54.2,109.5,104.4,105.1,75.7,90.8,97.95,108.15,80.5,104.3,71.35,89.4,20.6,99.95,81.0,70.15,70.15,96.55,95.55,69.65,89.3,87.55,96.3,85.2,35.1,81.3,19.6,85.45,71.0,85.05,44.4,70.3,79.35,90.8,70.45,45.25,75.8,71.3,69.1,88.25,70.0,97.35,25.9,55.65,69.65,100.6,86.0,106.95,29.6,59.9,95.6,41.6,100.85,40.2,84.5,78.95,20.2,85.2,98.0,94.45,105.0,93.85,84.0,48.75,84.85,56.65,73.9,24.5,89.9,78.55,99.45,25.2,74.05,55.0,89.75,85.15,94.6,94.25,72.45,105.2,82.85,103.85,83.6,108.45,91.5,80.85,49.05,105.3,88.95,110.85,114.2,36.5,70.75,40.15,94.45,97.35,45.3,94.95,44.55,23.45,29.7,101.1,50.65,55.4,90.6,86.85,99.05,111.25,55.1,102.25,95.9,95.05,53.85,104.2,50.25,99.5,71.0,93.2,19.35,19.85,104.2,79.25,44.9,70.1,29.65,77.85,54.3,95.15,110.85,80.5,72.2,51.5,89.55,77.5,95.25,85.0,85.75,98.25,25.7,69.0,46.05,76.4,100.5,40.05,69.95,93.3,49.15,35.05,73.0,83.85,70.1,70.65,20.35,99.0,83.95,116.2,93.7,19.7,75.55,77.65,95.0,105.4,95.85,79.15,19.65,79.0,91.85,106.0,49.9,100.35,74.95,49.25,103.7,89.75,20.3,101.95,94.0,89.3,74.3,44.65,84.05,80.7,101.7,20.4,102.6,106.0,55.1,106.5,91.05,77.5,54.2,69.25,50.5,74.4,79.45,104.65,100.05,100.55,95.65,94.4,55.0,101.45,67.95,69.5,18.85,69.2,69.65,101.85,82.3,79.25,84.6,93.4,94.2,25.05,25.1,48.95,45.3,85.85,95.2,100.6,55.3,74.85,102.35,115.65,79.85,76.0,104.75,74.65,56.25,106.1,79.75,68.65,20.25,100.2,74.9,70.85,69.8,54.55,70.75,94.1,29.7,110.9,105.0,25.3,55.15,20.1,69.9,101.4,80.8,62.05,76.45,91.3,95.75,62.65,74.5,102.1,50.15,86.5,81.45,69.15,79.55,95.5,91.05,79.2,45.25,74.3,74.1,100.6,75.0,70.2,70.75,50.25,79.2,96.0,100.1,56.5,85.0,59.3,49.4,55.0,69.2,62.3,92.5,69.65,111.6,48.55,20.2,39.65,24.9,56.7,105.95,74.95,29.7,50.35,47.85,70.3,98.8,99.85,80.3,80.45,86.8,84.2,99.0,100.75,91.75,79.55,111.1,89.1,101.9,91.65,88.85,25.3,95.45,91.1,54.15,69.7,89.5,35.15,73.75,101.35,55.9,105.9,43.95,45.1,70.25,55.35,103.0,103.75,69.35,73.85,75.15,69.6,80.15,30.5,98.3,107.4,82.0,75.4,101.25,89.5,74.4,20.5,74.35,99.75,111.95,39.0,94.1,95.65,88.05,66.5,35.45,49.9,104.5,75.05,81.0,74.45,60.4,70.65,59.8,44.2,75.75,102.95,74.4],\"xaxis\":\"x\",\"yaxis\":\"y\",\"type\":\"histogram\"},{\"alignmentgroup\":\"True\",\"hovertemplate\":\"Churn=Yes\\u003cbr\\u003eMonthlyCharges=%{x}\\u003cextra\\u003e\\u003c\\u002fextra\\u003e\",\"legendgroup\":\"Yes\",\"marker\":{\"color\":\"#EF553B\"},\"name\":\"Yes\",\"notched\":true,\"offsetgroup\":\"Yes\",\"showlegend\":false,\"x\":[53.85,70.7,99.65,104.8,103.7,55.2,39.65,20.15,99.35,30.2,64.7,69.7,106.35,97.85,80.65,99.1,80.65,95.45,94.4,79.35,75.15,78.95,21.05,98.5,110.0,96.75,76.5,100.25,74.4,78.05,58.6,35.45,44.35,70.45,71.15,45.65,95.0,82.4,70.9,45.3,104.4,94.85,74.45,76.45,29.95,84.5,79.25,24.8,91.0,79.9,106.6,46.0,70.15,50.05,55.2,84.6,54.4,95.0,74.4,48.55,70.4,40.2,44.6,41.15,106.9,19.35,94.45,24.8,70.6,85.4,105.05,95.15,70.0,74.5,44.85,76.1,73.6,95.45,74.9,80.6,80.3,93.15,82.45,70.35,73.85,80.6,75.8,104.6,103.4,90.4,84.8,41.9,80.25,30.75,96.5,85.65,104.95,50.65,90.85,19.95,85.45,73.95,99.45,19.9,19.6,81.35,83.3,75.3,19.4,45.4,105.9,69.55,81.05,101.15,99.8,55.95,55.0,74.7,80.25,96.1,69.0,45.3,83.55,74.35,74.4,43.75,28.45,99.7,94.1,94.2,80.5,74.35,104.8,75.2,75.6,100.05,85.0,86.05,45.55,86.3,80.35,100.25,100.3,19.0,75.3,89.2,85.7,61.65,105.25,29.95,65.0,20.0,90.05,110.75,105.5,104.55,85.25,56.15,89.55,94.55,45.7,89.5,69.55,74.6,19.65,19.85,24.25,69.65,45.65,75.05,49.15,34.7,80.0,49.25,75.1,50.15,79.85,19.55,85.95,45.35,94.5,91.7,87.25,98.55,98.55,85.9,89.25,70.3,93.35,19.9,88.9,95.8,82.0,45.35,52.2,110.0,96.75,98.5,85.35,101.3,69.55,103.25,104.0,86.2,111.2,89.45,95.6,90.95,108.55,78.85,44.4,100.0,19.8,89.9,100.15,50.8,73.65,95.1,94.65,80.6,85.55,50.8,105.1,110.1,83.9,100.55,103.85,24.6,98.9,98.3,93.85,100.5,72.85,73.55,79.4,81.15,84.6,79.05,74.4,99.05,44.95,44.7,45.7,100.3,19.25,96.0,90.55,30.35,108.05,69.9,103.75,86.6,80.6,85.3,70.0,94.3,95.35,75.5,90.1,68.95,99.55,57.45,53.65,100.6,83.75,88.3,92.1,79.45,90.45,69.75,19.65,43.65,39.5,97.1,80.0,84.7,89.55,90.6,90.05,99.05,69.75,49.05,98.05,114.5,80.95,74.3,89.7,100.45,90.4,56.15,94.4,78.95,44.85,105.65,74.65,64.7,104.05,35.55,95.15,96.65,80.4,31.35,89.75,94.4,19.85,109.9,101.35,60.05,60.15,90.45,94.25,74.9,80.25,69.0,66.35,86.0,80.3,90.55,75.9,45.85,49.95,78.3,76.95,96.15,45.3,19.4,90.15,45.05,75.8,79.3,30.9,95.25,89.6,110.15,89.5,75.0,44.75,44.05,85.6,115.55,86.6,85.2,97.65,109.55,89.55,19.45,20.35,69.25,99.5,25.2,45.0,20.15,105.0,54.7,87.25,79.95,88.35,94.75,95.05,78.45,70.2,41.05,85.6,79.2,70.0,49.95,69.25,94.25,73.0,100.05,99.8,35.0,76.0,93.85,84.3,84.4,101.1,50.45,99.95,91.4,75.55,80.8,100.0,20.55,85.3,70.4,98.8,74.4,98.75,106.0,104.7,96.7,55.05,88.2,19.75,75.65,74.7,76.65,25.8,42.6,68.85,90.0,75.35,100.85,69.95,107.5,45.85,106.1,91.7,95.6,74.95,95.35,45.0,99.5,98.6,59.5,80.45,77.95,74.7,88.8,90.25,64.65,89.05,87.4,94.75,86.45,98.25,75.75,85.35,106.1,45.05,109.8,84.65,79.5,85.8,79.1,44.3,105.95,69.75,94.65,96.05,50.15,113.6,78.9,60.05,34.7,85.3,102.45,104.4,99.75,74.4,74.25,59.85,69.6,45.4,19.5,69.9,87.15,84.75,89.95,113.2,90.5,79.0,20.15,71.65,20.35,84.25,78.1,89.65,98.7,76.35,79.15,85.0,85.3,86.55,73.85,44.85,45.1,96.0,20.05,108.65,45.55,35.1,46.2,45.15,43.3,57.15,73.2,85.35,45.95,83.75,70.05,86.0,100.5,72.65,21.0,45.1,50.4,78.95,94.45,84.8,50.9,99.8,107.35,19.55,79.1,25.5,80.75,91.85,75.35,75.45,49.55,78.6,81.1,74.95,93.55,102.1,90.9,29.2,89.15,108.85,84.75,45.7,69.95,44.6,74.95,95.25,89.85,100.45,47.15,80.2,87.1,75.9,98.75,86.45,45.3,104.1,81.0,90.6,88.15,20.2,90.8,79.35,96.8,83.35,49.4,79.2,48.7,95.6,59.75,108.15,71.35,20.15,69.75,93.2,80.85,33.65,79.95,19.3,99.2,85.2,75.25,54.35,24.95,42.35,75.3,94.8,70.55,86.15,85.0,80.55,75.8,98.5,95.25,74.4,85.15,88.55,54.75,91.3,79.5,70.1,111.3,95.25,86.25,100.8,86.3,89.95,76.45,70.0,64.4,102.45,80.1,80.2,98.15,112.95,70.9,86.85,99.85,74.5,109.15,65.2,99.5,71.55,93.9,108.4,48.75,85.65,106.7,25.15,110.35,103.25,47.8,98.6,83.05,70.4,104.75,94.25,45.95,70.15,85.55,70.3,106.35,103.7,88.35,94.2,96.25,70.7,33.55,94.55,112.95,35.9,99.25,24.45,103.35,84.8,99.95,90.0,104.85,106.1,74.2,89.35,77.15,35.25,48.55,98.4,93.85,100.7,80.45,55.25,54.45,75.35,75.7,74.25,89.7,96.4,69.5,85.25,19.4,83.3,80.1,62.7,25.3,98.15,93.7,105.95,82.0,95.75,94.05,54.75,95.65,94.6,98.9,76.05,69.75,34.5,105.55,30.1,70.3,80.2,94.35,44.6,19.6,110.45,70.7,99.25,84.8,105.0,54.45,85.3,83.35,33.5,90.35,90.75,89.6,49.25,19.75,95.15,101.35,70.05,74.65,50.4,79.65,79.85,78.75,80.45,50.1,76.4,98.7,100.8,90.1,51.55,79.25,94.85,85.7,44.4,89.5,86.05,44.55,35.4,95.65,20.95,34.7,19.75,92.55,60.05,74.3,85.35,74.3,98.1,109.65,74.55,100.95,94.9,104.9,24.1,104.05,88.35,94.65,74.4,79.9,69.7,98.1,20.5,99.6,81.95,69.35,91.1,86.1,94.7,85.1,99.15,102.95,45.05,71.0,70.55,79.7,59.0,60.35,69.25,70.95,89.0,99.4,73.5,95.5,92.35,74.55,83.8,54.45,99.8,105.85,75.45,93.85,100.75,31.0,80.0,70.25,100.15,94.5,33.9,89.95,84.45,79.5,89.15,74.95,74.4,55.3,55.15,84.95,43.25,48.35,79.55,71.05,84.5,108.6,30.3,30.4,45.4,84.15,19.75,85.4,75.2,55.85,106.4,84.4,56.25,85.55,68.65,77.85,105.35,87.05,53.5,25.1,79.65,54.2,19.45,103.4,84.45,85.95,59.4,30.6,99.55,70.0,45.3,29.85,95.1,19.8,76.65,99.15,44.95,49.55,95.9,81.5,84.1,36.45,25.05,49.85,55.55,69.5,104.3,93.85,50.45,74.65,94.2,106.55,20.1,83.8,55.15,86.65,106.75,78.45,87.45,70.75,101.35,81.7,68.25,79.15,95.45,100.95,69.1,69.6,103.45,77.95,78.45,29.5,70.75,84.45,85.65,70.15,97.8,46.3,106.3,89.4,83.15,74.15,99.5,44.15,53.9,85.45,50.85,59.2,83.2,54.9,103.9,19.25,75.45,54.85,95.1,75.5,73.75,96.05,88.95,50.7,53.4,101.9,83.0,50.6,89.5,69.8,93.8,101.05,94.7,104.15,61.45,90.55,88.8,85.2,91.4,106.15,45.3,73.25,51.05,85.35,75.35,75.2,20.9,43.3,109.5,84.8,95.05,50.35,74.6,19.7,59.45,105.2,45.15,93.8,96.2,79.6,85.25,80.5,89.8,50.75,89.65,65.4,72.9,40.0,99.45,86.25,45.65,70.1,70.2,55.35,84.2,45.85,75.25,100.15,105.75,48.35,24.4,20.95,49.55,20.25,50.15,95.9,25.25,45.15,84.4,75.1,70.15,101.75,45.8,20.1,40.65,101.0,69.1,75.0,100.0,71.15,54.15,108.75,49.15,19.4,79.15,80.4,102.0,20.65,70.8,89.05,96.6,104.5,50.6,49.35,94.25,68.95,93.85,76.05,24.45,89.35,80.35,55.8,79.05,95.0,25.2,98.4,79.4,101.4,89.8,109.75,19.3,91.25,49.1,65.25,85.45,94.1,71.65,104.65,74.25,74.2,101.0,100.2,89.05,70.1,105.65,96.5,70.85,85.95,73.9,109.45,100.2,74.05,101.55,111.95,55.95,45.75,74.95,80.15,109.25,35.2,78.8,106.4,49.4,69.1,90.2,93.55,80.85,82.05,20.55,78.55,78.65,42.9,34.25,58.5,96.2,74.4,105.3,73.85,84.55,24.75,85.8,24.45,105.7,24.25,76.5,93.5,101.5,74.9,69.6,24.05,50.55,100.55,20.5,74.8,24.45,71.0,40.3,50.6,84.85,65.7,70.5,94.85,19.75,65.45,98.7,67.5,69.6,84.35,100.2,78.05,73.6,74.75,20.2,93.55,25.05,95.55,39.3,20.25,23.9,85.45,99.9,84.8,75.2,49.35,74.9,101.25,18.95,28.6,24.35,98.65,79.9,103.3,96.2,104.15,102.95,90.6,50.8,90.05,75.85,68.5,73.5,69.95,70.05,94.0,61.15,84.45,75.3,109.55,19.6,66.4,100.05,102.0,90.2,25.15,79.85,49.6,105.95,91.85,40.1,73.9,89.8,72.25,96.55,40.1,101.25,79.55,84.05,89.1,94.4,78.25,44.15,75.75,19.1,80.3,74.9,80.85,24.75,90.85,79.7,57.55,86.5,103.95,25.1,48.95,83.55,89.15,70.45,60.3,24.75,103.3,78.5,19.85,79.9,99.7,58.6,98.5,50.45,94.65,100.25,88.45,69.85,81.7,79.9,25.4,83.75,20.9,69.4,74.9,74.15,70.1,78.3,96.8,94.4,84.3,92.45,99.55,81.25,19.95,99.25,80.45,79.35,79.75,100.05,69.35,85.8,79.7,50.55,80.55,84.5,84.3,67.75,85.25,80.05,20.0,48.8,85.05,102.8,99.95,117.8,79.5,79.65,94.7,92.5,19.45,75.55,70.0,74.8,104.4,86.2,51.2,19.5,74.9,74.9,100.25,102.8,100.0,99.85,94.2,83.85,88.3,104.05,94.7,100.65,80.55,78.85,44.45,84.9,20.25,74.35,62.05,80.0,104.1,39.1,76.5,49.2,23.15,80.85,60.1,78.95,45.15,79.4,53.95,99.3,80.65,71.1,106.25,20.8,94.0,89.85,46.0,66.25,90.0,70.45,19.75,53.95,105.5,81.0,69.8,73.75,54.55,76.25,93.9,70.4,91.15,70.95,99.5,83.9,117.45,104.4,29.4,44.65,25.25,84.05,85.7,74.7,90.8,106.15,85.35,90.85,35.75,46.0,89.4,19.8,50.9,81.0,98.35,51.0,91.65,90.85,69.4,94.45,20.15,95.7,74.95,47.95,63.6,36.85,44.1,50.75,104.4,39.3,106.45,96.05,75.1,44.7,55.0,74.35,104.7,55.7,19.85,70.3,85.55,94.5,85.35,79.65,79.6,90.6,20.2,106.05,99.15,55.9,82.35,40.4,75.35,85.15,93.8,20.4,94.7,30.5,77.0,20.1,75.3,99.2,85.5,20.05,70.4,49.75,75.3,94.0,118.35,30.45,96.1,104.25,80.2,104.2,69.65,80.8,80.3,84.1,69.35,79.6,36.45,89.4,80.35,40.65,60.45,84.9,73.55,20.15,34.7,107.55,98.75,101.15,88.7,79.75,94.55,69.05,96.25,101.1,104.7,55.25,90.1,53.75,89.3,95.2,45.7,74.5,79.65,101.3,80.05,89.2,83.65,19.5,51.25,45.6,49.65,20.0,34.0,92.5,88.35,107.95,74.45,64.75,89.8,95.5,29.65,84.5,90.7,70.3,103.95,74.75,50.8,80.25,78.9,84.75,85.45,19.9,99.45,70.6,81.0,84.85,89.15,24.8,105.65,80.85,89.45,72.15,76.4,61.6,79.9,96.15,65.3,19.65,84.65,69.55,31.05,51.0,44.35,79.7,55.0,84.85,73.65,73.9,77.75,84.35,84.95,73.85,51.8,46.0,79.4,71.8,88.4,46.0,51.75,94.4,70.15,34.7,81.1,20.55,106.6,106.75,89.45,97.9,55.7,79.8,39.05,83.9,69.85,53.55,93.9,113.15,84.95,80.5,19.3,49.65,54.35,88.45,90.5,94.85,69.95,48.6,55.8,80.15,75.5,20.2,74.75,104.05,96.65,20.05,103.45,19.9,46.35,19.95,79.6,75.9,76.2,19.25,84.3,79.0,70.25,84.6,24.1,60.0,86.55,20.85,50.75,105.5,85.15,54.2,109.5,104.4,105.1,75.7,90.8,97.95,108.15,80.5,104.3,71.35,89.4,20.6,99.95,81.0,70.15,70.15,96.55,95.55,69.65,89.3,87.55,96.3,85.2,35.1,81.3,19.6,85.45,71.0,85.05,44.4,70.3,79.35,90.8,70.45,45.25,75.8,71.3,69.1,88.25,70.0,97.35,25.9,55.65,69.65,100.6,86.0,106.95,29.6,59.9,95.6,41.6,100.85,40.2,84.5,78.95,20.2,85.2,98.0,94.45,105.0,93.85,84.0,48.75,84.85,56.65,73.9,24.5,89.9,78.55,99.45,25.2,74.05,55.0,89.75,85.15,94.6,94.25,72.45,105.2,82.85,103.85,83.6,108.45,91.5,80.85,49.05,105.3,88.95,110.85,114.2,36.5,70.75,40.15,94.45,97.35,45.3,94.95,44.55,23.45,29.7,101.1,50.65,55.4,90.6,86.85,99.05,111.25,55.1,102.25,95.9,95.05,53.85,104.2,50.25,99.5,71.0,93.2,19.35,19.85,104.2,79.25,44.9,70.1,29.65,77.85,54.3,95.15,110.85,80.5,72.2,51.5,89.55,77.5,95.25,85.0,85.75,98.25,25.7,69.0,46.05,76.4,100.5,40.05,69.95,93.3,49.15,35.05,73.0,83.85,70.1,70.65,20.35,99.0,83.95,116.2,93.7,19.7,75.55,77.65,95.0,105.4,95.85,79.15,19.65,79.0,91.85,106.0,49.9,100.35,74.95,49.25,103.7,89.75,20.3,101.95,94.0,89.3,74.3,44.65,84.05,80.7,101.7,20.4,102.6,106.0,55.1,106.5,91.05,77.5,54.2,69.25,50.5,74.4,79.45,104.65,100.05,100.55,95.65,94.4,55.0,101.45,67.95,69.5,18.85,69.2,69.65,101.85,82.3,79.25,84.6,93.4,94.2,25.05,25.1,48.95,45.3,85.85,95.2,100.6,55.3,74.85,102.35,115.65,79.85,76.0,104.75,74.65,56.25,106.1,79.75,68.65,20.25,100.2,74.9,70.85,69.8,54.55,70.75,94.1,29.7,110.9,105.0,25.3,55.15,20.1,69.9,101.4,80.8,62.05,76.45,91.3,95.75,62.65,74.5,102.1,50.15,86.5,81.45,69.15,79.55,95.5,91.05,79.2,45.25,74.3,74.1,100.6,75.0,70.2,70.75,50.25,79.2,96.0,100.1,56.5,85.0,59.3,49.4,55.0,69.2,62.3,92.5,69.65,111.6,48.55,20.2,39.65,24.9,56.7,105.95,74.95,29.7,50.35,47.85,70.3,98.8,99.85,80.3,80.45,86.8,84.2,99.0,100.75,91.75,79.55,111.1,89.1,101.9,91.65,88.85,25.3,95.45,91.1,54.15,69.7,89.5,35.15,73.75,101.35,55.9,105.9,43.95,45.1,70.25,55.35,103.0,103.75,69.35,73.85,75.15,69.6,80.15,30.5,98.3,107.4,82.0,75.4,101.25,89.5,74.4,20.5,74.35,99.75,111.95,39.0,94.1,95.65,88.05,66.5,35.45,49.9,104.5,75.05,81.0,74.45,60.4,70.65,59.8,44.2,75.75,102.95,74.4],\"xaxis\":\"x2\",\"yaxis\":\"y2\",\"type\":\"box\"}],                        {\"template\":{\"data\":{\"histogram2dcontour\":[{\"type\":\"histogram2dcontour\",\"colorbar\":{\"outlinewidth\":0,\"ticks\":\"\"},\"colorscale\":[[0.0,\"#0d0887\"],[0.1111111111111111,\"#46039f\"],[0.2222222222222222,\"#7201a8\"],[0.3333333333333333,\"#9c179e\"],[0.4444444444444444,\"#bd3786\"],[0.5555555555555556,\"#d8576b\"],[0.6666666666666666,\"#ed7953\"],[0.7777777777777778,\"#fb9f3a\"],[0.8888888888888888,\"#fdca26\"],[1.0,\"#f0f921\"]]}],\"choropleth\":[{\"type\":\"choropleth\",\"colorbar\":{\"outlinewidth\":0,\"ticks\":\"\"}}],\"histogram2d\":[{\"type\":\"histogram2d\",\"colorbar\":{\"outlinewidth\":0,\"ticks\":\"\"},\"colorscale\":[[0.0,\"#0d0887\"],[0.1111111111111111,\"#46039f\"],[0.2222222222222222,\"#7201a8\"],[0.3333333333333333,\"#9c179e\"],[0.4444444444444444,\"#bd3786\"],[0.5555555555555556,\"#d8576b\"],[0.6666666666666666,\"#ed7953\"],[0.7777777777777778,\"#fb9f3a\"],[0.8888888888888888,\"#fdca26\"],[1.0,\"#f0f921\"]]}],\"heatmap\":[{\"type\":\"heatmap\",\"colorbar\":{\"outlinewidth\":0,\"ticks\":\"\"},\"colorscale\":[[0.0,\"#0d0887\"],[0.1111111111111111,\"#46039f\"],[0.2222222222222222,\"#7201a8\"],[0.3333333333333333,\"#9c179e\"],[0.4444444444444444,\"#bd3786\"],[0.5555555555555556,\"#d8576b\"],[0.6666666666666666,\"#ed7953\"],[0.7777777777777778,\"#fb9f3a\"],[0.8888888888888888,\"#fdca26\"],[1.0,\"#f0f921\"]]}],\"heatmapgl\":[{\"type\":\"heatmapgl\",\"colorbar\":{\"outlinewidth\":0,\"ticks\":\"\"},\"colorscale\":[[0.0,\"#0d0887\"],[0.1111111111111111,\"#46039f\"],[0.2222222222222222,\"#7201a8\"],[0.3333333333333333,\"#9c179e\"],[0.4444444444444444,\"#bd3786\"],[0.5555555555555556,\"#d8576b\"],[0.6666666666666666,\"#ed7953\"],[0.7777777777777778,\"#fb9f3a\"],[0.8888888888888888,\"#fdca26\"],[1.0,\"#f0f921\"]]}],\"contourcarpet\":[{\"type\":\"contourcarpet\",\"colorbar\":{\"outlinewidth\":0,\"ticks\":\"\"}}],\"contour\":[{\"type\":\"contour\",\"colorbar\":{\"outlinewidth\":0,\"ticks\":\"\"},\"colorscale\":[[0.0,\"#0d0887\"],[0.1111111111111111,\"#46039f\"],[0.2222222222222222,\"#7201a8\"],[0.3333333333333333,\"#9c179e\"],[0.4444444444444444,\"#bd3786\"],[0.5555555555555556,\"#d8576b\"],[0.6666666666666666,\"#ed7953\"],[0.7777777777777778,\"#fb9f3a\"],[0.8888888888888888,\"#fdca26\"],[1.0,\"#f0f921\"]]}],\"surface\":[{\"type\":\"surface\",\"colorbar\":{\"outlinewidth\":0,\"ticks\":\"\"},\"colorscale\":[[0.0,\"#0d0887\"],[0.1111111111111111,\"#46039f\"],[0.2222222222222222,\"#7201a8\"],[0.3333333333333333,\"#9c179e\"],[0.4444444444444444,\"#bd3786\"],[0.5555555555555556,\"#d8576b\"],[0.6666666666666666,\"#ed7953\"],[0.7777777777777778,\"#fb9f3a\"],[0.8888888888888888,\"#fdca26\"],[1.0,\"#f0f921\"]]}],\"mesh3d\":[{\"type\":\"mesh3d\",\"colorbar\":{\"outlinewidth\":0,\"ticks\":\"\"}}],\"scatter\":[{\"fillpattern\":{\"fillmode\":\"overlay\",\"size\":10,\"solidity\":0.2},\"type\":\"scatter\"}],\"parcoords\":[{\"type\":\"parcoords\",\"line\":{\"colorbar\":{\"outlinewidth\":0,\"ticks\":\"\"}}}],\"scatterpolargl\":[{\"type\":\"scatterpolargl\",\"marker\":{\"colorbar\":{\"outlinewidth\":0,\"ticks\":\"\"}}}],\"bar\":[{\"error_x\":{\"color\":\"#2a3f5f\"},\"error_y\":{\"color\":\"#2a3f5f\"},\"marker\":{\"line\":{\"color\":\"#E5ECF6\",\"width\":0.5},\"pattern\":{\"fillmode\":\"overlay\",\"size\":10,\"solidity\":0.2}},\"type\":\"bar\"}],\"scattergeo\":[{\"type\":\"scattergeo\",\"marker\":{\"colorbar\":{\"outlinewidth\":0,\"ticks\":\"\"}}}],\"scatterpolar\":[{\"type\":\"scatterpolar\",\"marker\":{\"colorbar\":{\"outlinewidth\":0,\"ticks\":\"\"}}}],\"histogram\":[{\"marker\":{\"pattern\":{\"fillmode\":\"overlay\",\"size\":10,\"solidity\":0.2}},\"type\":\"histogram\"}],\"scattergl\":[{\"type\":\"scattergl\",\"marker\":{\"colorbar\":{\"outlinewidth\":0,\"ticks\":\"\"}}}],\"scatter3d\":[{\"type\":\"scatter3d\",\"line\":{\"colorbar\":{\"outlinewidth\":0,\"ticks\":\"\"}},\"marker\":{\"colorbar\":{\"outlinewidth\":0,\"ticks\":\"\"}}}],\"scattermapbox\":[{\"type\":\"scattermapbox\",\"marker\":{\"colorbar\":{\"outlinewidth\":0,\"ticks\":\"\"}}}],\"scatterternary\":[{\"type\":\"scatterternary\",\"marker\":{\"colorbar\":{\"outlinewidth\":0,\"ticks\":\"\"}}}],\"scattercarpet\":[{\"type\":\"scattercarpet\",\"marker\":{\"colorbar\":{\"outlinewidth\":0,\"ticks\":\"\"}}}],\"carpet\":[{\"aaxis\":{\"endlinecolor\":\"#2a3f5f\",\"gridcolor\":\"white\",\"linecolor\":\"white\",\"minorgridcolor\":\"white\",\"startlinecolor\":\"#2a3f5f\"},\"baxis\":{\"endlinecolor\":\"#2a3f5f\",\"gridcolor\":\"white\",\"linecolor\":\"white\",\"minorgridcolor\":\"white\",\"startlinecolor\":\"#2a3f5f\"},\"type\":\"carpet\"}],\"table\":[{\"cells\":{\"fill\":{\"color\":\"#EBF0F8\"},\"line\":{\"color\":\"white\"}},\"header\":{\"fill\":{\"color\":\"#C8D4E3\"},\"line\":{\"color\":\"white\"}},\"type\":\"table\"}],\"barpolar\":[{\"marker\":{\"line\":{\"color\":\"#E5ECF6\",\"width\":0.5},\"pattern\":{\"fillmode\":\"overlay\",\"size\":10,\"solidity\":0.2}},\"type\":\"barpolar\"}],\"pie\":[{\"automargin\":true,\"type\":\"pie\"}]},\"layout\":{\"autotypenumbers\":\"strict\",\"colorway\":[\"#636efa\",\"#EF553B\",\"#00cc96\",\"#ab63fa\",\"#FFA15A\",\"#19d3f3\",\"#FF6692\",\"#B6E880\",\"#FF97FF\",\"#FECB52\"],\"font\":{\"color\":\"#2a3f5f\"},\"hovermode\":\"closest\",\"hoverlabel\":{\"align\":\"left\"},\"paper_bgcolor\":\"white\",\"plot_bgcolor\":\"#E5ECF6\",\"polar\":{\"bgcolor\":\"#E5ECF6\",\"angularaxis\":{\"gridcolor\":\"white\",\"linecolor\":\"white\",\"ticks\":\"\"},\"radialaxis\":{\"gridcolor\":\"white\",\"linecolor\":\"white\",\"ticks\":\"\"}},\"ternary\":{\"bgcolor\":\"#E5ECF6\",\"aaxis\":{\"gridcolor\":\"white\",\"linecolor\":\"white\",\"ticks\":\"\"},\"baxis\":{\"gridcolor\":\"white\",\"linecolor\":\"white\",\"ticks\":\"\"},\"caxis\":{\"gridcolor\":\"white\",\"linecolor\":\"white\",\"ticks\":\"\"}},\"coloraxis\":{\"colorbar\":{\"outlinewidth\":0,\"ticks\":\"\"}},\"colorscale\":{\"sequential\":[[0.0,\"#0d0887\"],[0.1111111111111111,\"#46039f\"],[0.2222222222222222,\"#7201a8\"],[0.3333333333333333,\"#9c179e\"],[0.4444444444444444,\"#bd3786\"],[0.5555555555555556,\"#d8576b\"],[0.6666666666666666,\"#ed7953\"],[0.7777777777777778,\"#fb9f3a\"],[0.8888888888888888,\"#fdca26\"],[1.0,\"#f0f921\"]],\"sequentialminus\":[[0.0,\"#0d0887\"],[0.1111111111111111,\"#46039f\"],[0.2222222222222222,\"#7201a8\"],[0.3333333333333333,\"#9c179e\"],[0.4444444444444444,\"#bd3786\"],[0.5555555555555556,\"#d8576b\"],[0.6666666666666666,\"#ed7953\"],[0.7777777777777778,\"#fb9f3a\"],[0.8888888888888888,\"#fdca26\"],[1.0,\"#f0f921\"]],\"diverging\":[[0,\"#8e0152\"],[0.1,\"#c51b7d\"],[0.2,\"#de77ae\"],[0.3,\"#f1b6da\"],[0.4,\"#fde0ef\"],[0.5,\"#f7f7f7\"],[0.6,\"#e6f5d0\"],[0.7,\"#b8e186\"],[0.8,\"#7fbc41\"],[0.9,\"#4d9221\"],[1,\"#276419\"]]},\"xaxis\":{\"gridcolor\":\"white\",\"linecolor\":\"white\",\"ticks\":\"\",\"title\":{\"standoff\":15},\"zerolinecolor\":\"white\",\"automargin\":true,\"zerolinewidth\":2},\"yaxis\":{\"gridcolor\":\"white\",\"linecolor\":\"white\",\"ticks\":\"\",\"title\":{\"standoff\":15},\"zerolinecolor\":\"white\",\"automargin\":true,\"zerolinewidth\":2},\"scene\":{\"xaxis\":{\"backgroundcolor\":\"#E5ECF6\",\"gridcolor\":\"white\",\"linecolor\":\"white\",\"showbackground\":true,\"ticks\":\"\",\"zerolinecolor\":\"white\",\"gridwidth\":2},\"yaxis\":{\"backgroundcolor\":\"#E5ECF6\",\"gridcolor\":\"white\",\"linecolor\":\"white\",\"showbackground\":true,\"ticks\":\"\",\"zerolinecolor\":\"white\",\"gridwidth\":2},\"zaxis\":{\"backgroundcolor\":\"#E5ECF6\",\"gridcolor\":\"white\",\"linecolor\":\"white\",\"showbackground\":true,\"ticks\":\"\",\"zerolinecolor\":\"white\",\"gridwidth\":2}},\"shapedefaults\":{\"line\":{\"color\":\"#2a3f5f\"}},\"annotationdefaults\":{\"arrowcolor\":\"#2a3f5f\",\"arrowhead\":0,\"arrowwidth\":1},\"geo\":{\"bgcolor\":\"white\",\"landcolor\":\"#E5ECF6\",\"subunitcolor\":\"white\",\"showland\":true,\"showlakes\":true,\"lakecolor\":\"white\"},\"title\":{\"x\":0.05},\"mapbox\":{\"style\":\"light\"}}},\"xaxis\":{\"anchor\":\"y\",\"domain\":[0.0,1.0],\"title\":{\"text\":\"MonthlyCharges\"}},\"yaxis\":{\"anchor\":\"x\",\"domain\":[0.0,0.7326],\"title\":{\"text\":\"count\"}},\"xaxis2\":{\"anchor\":\"y2\",\"domain\":[0.0,1.0],\"matches\":\"x\",\"showticklabels\":false,\"showgrid\":true},\"yaxis2\":{\"anchor\":\"x2\",\"domain\":[0.7426,1.0],\"matches\":\"y2\",\"showticklabels\":false,\"showline\":false,\"ticks\":\"\",\"showgrid\":false},\"legend\":{\"title\":{\"text\":\"Churn\"},\"tracegroupgap\":0},\"margin\":{\"t\":60},\"barmode\":\"relative\"},                        {\"responsive\": true}                    ).then(function(){\n",
              "                            \n",
              "var gd = document.getElementById('da6c6de4-e856-4fb6-b991-0484f735e59d');\n",
              "var x = new MutationObserver(function (mutations, observer) {{\n",
              "        var display = window.getComputedStyle(gd).display;\n",
              "        if (!display || display === 'none') {{\n",
              "            console.log([gd, 'removed!']);\n",
              "            Plotly.purge(gd);\n",
              "            observer.disconnect();\n",
              "        }}\n",
              "}});\n",
              "\n",
              "// Listen for the removal of the full notebook cells\n",
              "var notebookContainer = gd.closest('#notebook-container');\n",
              "if (notebookContainer) {{\n",
              "    x.observe(notebookContainer, {childList: true});\n",
              "}}\n",
              "\n",
              "// Listen for the clearing of the current output cell\n",
              "var outputEl = gd.closest('.output');\n",
              "if (outputEl) {{\n",
              "    x.observe(outputEl, {childList: true});\n",
              "}}\n",
              "\n",
              "                        })                };                            </script>        </div>\n",
              "</body>\n",
              "</html>"
            ]
          },
          "metadata": {}
        }
      ]
    },
    {
      "cell_type": "code",
      "source": [
        "df.groupby('Churn')['MonthlyCharges'].quantile([.50,.75,.95,.99])"
      ],
      "metadata": {
        "colab": {
          "base_uri": "https://localhost:8080/"
        },
        "id": "lZUk87xZeZEq",
        "outputId": "b324f5a9-a2d6-4b11-b79e-d86dd2acfd8c"
      },
      "execution_count": 83,
      "outputs": [
        {
          "output_type": "execute_result",
          "data": {
            "text/plain": [
              "Churn      \n",
              "No     0.50     64.4250\n",
              "       0.75     88.4000\n",
              "       0.95    108.4175\n",
              "       0.99    115.1000\n",
              "Yes    0.50     79.6500\n",
              "       0.75     94.2000\n",
              "       0.95    105.6100\n",
              "       0.99    111.1320\n",
              "Name: MonthlyCharges, dtype: float64"
            ]
          },
          "metadata": {},
          "execution_count": 83
        }
      ]
    },
    {
      "cell_type": "markdown",
      "source": [
        "The median monthly charges of customers who have left the service are higher than those of customers who are still active"
      ],
      "metadata": {
        "id": "QZn2nIWGgXNz"
      }
    },
    {
      "cell_type": "markdown",
      "source": [
        "**Services used by the client**\n",
        "\n",
        "We have a flag for each service telling us which service the customer is using The lists is long but we will prioritize by looking at which varibales correlate with the churn variable"
      ],
      "metadata": {
        "id": "qknZuNSfgd0k"
      }
    },
    {
      "cell_type": "code",
      "source": [
        "corr_df = df.copy()"
      ],
      "metadata": {
        "id": "sJZcmf1Kf1ui"
      },
      "execution_count": 84,
      "outputs": []
    },
    {
      "cell_type": "code",
      "source": [
        "corr_df.info()"
      ],
      "metadata": {
        "colab": {
          "base_uri": "https://localhost:8080/"
        },
        "id": "JB2z9MLNhNpF",
        "outputId": "67027c09-948d-4dbe-f348-6bb238505de6"
      },
      "execution_count": 85,
      "outputs": [
        {
          "output_type": "stream",
          "name": "stdout",
          "text": [
            "<class 'pandas.core.frame.DataFrame'>\n",
            "RangeIndex: 7043 entries, 0 to 7042\n",
            "Data columns (total 21 columns):\n",
            " #   Column            Non-Null Count  Dtype  \n",
            "---  ------            --------------  -----  \n",
            " 0   customerID        7043 non-null   object \n",
            " 1   gender            7043 non-null   object \n",
            " 2   SeniorCitizen     7043 non-null   int64  \n",
            " 3   Partner           7043 non-null   object \n",
            " 4   Dependents        7043 non-null   object \n",
            " 5   tenure            7043 non-null   int64  \n",
            " 6   PhoneService      7043 non-null   object \n",
            " 7   MultipleLines     7043 non-null   object \n",
            " 8   InternetService   7043 non-null   object \n",
            " 9   OnlineSecurity    7043 non-null   object \n",
            " 10  OnlineBackup      7043 non-null   object \n",
            " 11  DeviceProtection  7043 non-null   object \n",
            " 12  TechSupport       7043 non-null   object \n",
            " 13  StreamingTV       7043 non-null   object \n",
            " 14  StreamingMovies   7043 non-null   object \n",
            " 15  Contract          7043 non-null   object \n",
            " 16  PaperlessBilling  7043 non-null   object \n",
            " 17  PaymentMethod     7043 non-null   object \n",
            " 18  MonthlyCharges    7043 non-null   float64\n",
            " 19  TotalCharges      7032 non-null   object \n",
            " 20  Churn             7043 non-null   object \n",
            "dtypes: float64(1), int64(2), object(18)\n",
            "memory usage: 1.1+ MB\n"
          ]
        }
      ]
    },
    {
      "cell_type": "code",
      "source": [
        "corr_df['Churn'].replace(to_replace='Yes', value=1, inplace=True)\n",
        "corr_df['Churn'].replace(to_replace='No',  value=0, inplace=True)"
      ],
      "metadata": {
        "id": "lQ9LrS7Jg4RA"
      },
      "execution_count": 86,
      "outputs": []
    },
    {
      "cell_type": "code",
      "source": [
        "df_dummies = pd.get_dummies(corr_df[['Churn','PhoneService','MultipleLines','InternetService','OnlineSecurity',\n",
        "                                 'OnlineBackup','DeviceProtection','TechSupport','StreamingTV',\n",
        "                                 'StreamingMovies']])\n",
        "df_dummies = df_dummies.astype(int)\n",
        "df_dummies.head()"
      ],
      "metadata": {
        "colab": {
          "base_uri": "https://localhost:8080/",
          "height": 290
        },
        "id": "JwD5aAAEhBHM",
        "outputId": "a45d98f3-3f1b-4160-993f-40ee7c28b679"
      },
      "execution_count": 87,
      "outputs": [
        {
          "output_type": "execute_result",
          "data": {
            "text/plain": [
              "   Churn  PhoneService_No  PhoneService_Yes  MultipleLines_No  \\\n",
              "0      0                1                 0                 0   \n",
              "1      0                0                 1                 1   \n",
              "2      1                0                 1                 1   \n",
              "3      0                1                 0                 0   \n",
              "4      1                0                 1                 1   \n",
              "\n",
              "   MultipleLines_No phone service  MultipleLines_Yes  InternetService_DSL  \\\n",
              "0                               1                  0                    1   \n",
              "1                               0                  0                    1   \n",
              "2                               0                  0                    1   \n",
              "3                               1                  0                    1   \n",
              "4                               0                  0                    0   \n",
              "\n",
              "   InternetService_Fiber optic  InternetService_No  OnlineSecurity_No  ...  \\\n",
              "0                            0                   0                  1  ...   \n",
              "1                            0                   0                  0  ...   \n",
              "2                            0                   0                  0  ...   \n",
              "3                            0                   0                  0  ...   \n",
              "4                            1                   0                  1  ...   \n",
              "\n",
              "   DeviceProtection_Yes  TechSupport_No  TechSupport_No internet service  \\\n",
              "0                     0               1                                0   \n",
              "1                     1               1                                0   \n",
              "2                     0               1                                0   \n",
              "3                     1               0                                0   \n",
              "4                     0               1                                0   \n",
              "\n",
              "   TechSupport_Yes  StreamingTV_No  StreamingTV_No internet service  \\\n",
              "0                0               1                                0   \n",
              "1                0               1                                0   \n",
              "2                0               1                                0   \n",
              "3                1               1                                0   \n",
              "4                0               1                                0   \n",
              "\n",
              "   StreamingTV_Yes  StreamingMovies_No  StreamingMovies_No internet service  \\\n",
              "0                0                   1                                    0   \n",
              "1                0                   1                                    0   \n",
              "2                0                   1                                    0   \n",
              "3                0                   1                                    0   \n",
              "4                0                   1                                    0   \n",
              "\n",
              "   StreamingMovies_Yes  \n",
              "0                    0  \n",
              "1                    0  \n",
              "2                    0  \n",
              "3                    0  \n",
              "4                    0  \n",
              "\n",
              "[5 rows x 27 columns]"
            ],
            "text/html": [
              "\n",
              "  <div id=\"df-6c46a0af-e07b-4f2a-af43-05bbcce17796\" class=\"colab-df-container\">\n",
              "    <div>\n",
              "<style scoped>\n",
              "    .dataframe tbody tr th:only-of-type {\n",
              "        vertical-align: middle;\n",
              "    }\n",
              "\n",
              "    .dataframe tbody tr th {\n",
              "        vertical-align: top;\n",
              "    }\n",
              "\n",
              "    .dataframe thead th {\n",
              "        text-align: right;\n",
              "    }\n",
              "</style>\n",
              "<table border=\"1\" class=\"dataframe\">\n",
              "  <thead>\n",
              "    <tr style=\"text-align: right;\">\n",
              "      <th></th>\n",
              "      <th>Churn</th>\n",
              "      <th>PhoneService_No</th>\n",
              "      <th>PhoneService_Yes</th>\n",
              "      <th>MultipleLines_No</th>\n",
              "      <th>MultipleLines_No phone service</th>\n",
              "      <th>MultipleLines_Yes</th>\n",
              "      <th>InternetService_DSL</th>\n",
              "      <th>InternetService_Fiber optic</th>\n",
              "      <th>InternetService_No</th>\n",
              "      <th>OnlineSecurity_No</th>\n",
              "      <th>...</th>\n",
              "      <th>DeviceProtection_Yes</th>\n",
              "      <th>TechSupport_No</th>\n",
              "      <th>TechSupport_No internet service</th>\n",
              "      <th>TechSupport_Yes</th>\n",
              "      <th>StreamingTV_No</th>\n",
              "      <th>StreamingTV_No internet service</th>\n",
              "      <th>StreamingTV_Yes</th>\n",
              "      <th>StreamingMovies_No</th>\n",
              "      <th>StreamingMovies_No internet service</th>\n",
              "      <th>StreamingMovies_Yes</th>\n",
              "    </tr>\n",
              "  </thead>\n",
              "  <tbody>\n",
              "    <tr>\n",
              "      <th>0</th>\n",
              "      <td>0</td>\n",
              "      <td>1</td>\n",
              "      <td>0</td>\n",
              "      <td>0</td>\n",
              "      <td>1</td>\n",
              "      <td>0</td>\n",
              "      <td>1</td>\n",
              "      <td>0</td>\n",
              "      <td>0</td>\n",
              "      <td>1</td>\n",
              "      <td>...</td>\n",
              "      <td>0</td>\n",
              "      <td>1</td>\n",
              "      <td>0</td>\n",
              "      <td>0</td>\n",
              "      <td>1</td>\n",
              "      <td>0</td>\n",
              "      <td>0</td>\n",
              "      <td>1</td>\n",
              "      <td>0</td>\n",
              "      <td>0</td>\n",
              "    </tr>\n",
              "    <tr>\n",
              "      <th>1</th>\n",
              "      <td>0</td>\n",
              "      <td>0</td>\n",
              "      <td>1</td>\n",
              "      <td>1</td>\n",
              "      <td>0</td>\n",
              "      <td>0</td>\n",
              "      <td>1</td>\n",
              "      <td>0</td>\n",
              "      <td>0</td>\n",
              "      <td>0</td>\n",
              "      <td>...</td>\n",
              "      <td>1</td>\n",
              "      <td>1</td>\n",
              "      <td>0</td>\n",
              "      <td>0</td>\n",
              "      <td>1</td>\n",
              "      <td>0</td>\n",
              "      <td>0</td>\n",
              "      <td>1</td>\n",
              "      <td>0</td>\n",
              "      <td>0</td>\n",
              "    </tr>\n",
              "    <tr>\n",
              "      <th>2</th>\n",
              "      <td>1</td>\n",
              "      <td>0</td>\n",
              "      <td>1</td>\n",
              "      <td>1</td>\n",
              "      <td>0</td>\n",
              "      <td>0</td>\n",
              "      <td>1</td>\n",
              "      <td>0</td>\n",
              "      <td>0</td>\n",
              "      <td>0</td>\n",
              "      <td>...</td>\n",
              "      <td>0</td>\n",
              "      <td>1</td>\n",
              "      <td>0</td>\n",
              "      <td>0</td>\n",
              "      <td>1</td>\n",
              "      <td>0</td>\n",
              "      <td>0</td>\n",
              "      <td>1</td>\n",
              "      <td>0</td>\n",
              "      <td>0</td>\n",
              "    </tr>\n",
              "    <tr>\n",
              "      <th>3</th>\n",
              "      <td>0</td>\n",
              "      <td>1</td>\n",
              "      <td>0</td>\n",
              "      <td>0</td>\n",
              "      <td>1</td>\n",
              "      <td>0</td>\n",
              "      <td>1</td>\n",
              "      <td>0</td>\n",
              "      <td>0</td>\n",
              "      <td>0</td>\n",
              "      <td>...</td>\n",
              "      <td>1</td>\n",
              "      <td>0</td>\n",
              "      <td>0</td>\n",
              "      <td>1</td>\n",
              "      <td>1</td>\n",
              "      <td>0</td>\n",
              "      <td>0</td>\n",
              "      <td>1</td>\n",
              "      <td>0</td>\n",
              "      <td>0</td>\n",
              "    </tr>\n",
              "    <tr>\n",
              "      <th>4</th>\n",
              "      <td>1</td>\n",
              "      <td>0</td>\n",
              "      <td>1</td>\n",
              "      <td>1</td>\n",
              "      <td>0</td>\n",
              "      <td>0</td>\n",
              "      <td>0</td>\n",
              "      <td>1</td>\n",
              "      <td>0</td>\n",
              "      <td>1</td>\n",
              "      <td>...</td>\n",
              "      <td>0</td>\n",
              "      <td>1</td>\n",
              "      <td>0</td>\n",
              "      <td>0</td>\n",
              "      <td>1</td>\n",
              "      <td>0</td>\n",
              "      <td>0</td>\n",
              "      <td>1</td>\n",
              "      <td>0</td>\n",
              "      <td>0</td>\n",
              "    </tr>\n",
              "  </tbody>\n",
              "</table>\n",
              "<p>5 rows × 27 columns</p>\n",
              "</div>\n",
              "    <div class=\"colab-df-buttons\">\n",
              "\n",
              "  <div class=\"colab-df-container\">\n",
              "    <button class=\"colab-df-convert\" onclick=\"convertToInteractive('df-6c46a0af-e07b-4f2a-af43-05bbcce17796')\"\n",
              "            title=\"Convert this dataframe to an interactive table.\"\n",
              "            style=\"display:none;\">\n",
              "\n",
              "  <svg xmlns=\"http://www.w3.org/2000/svg\" height=\"24px\" viewBox=\"0 -960 960 960\">\n",
              "    <path d=\"M120-120v-720h720v720H120Zm60-500h600v-160H180v160Zm220 220h160v-160H400v160Zm0 220h160v-160H400v160ZM180-400h160v-160H180v160Zm440 0h160v-160H620v160ZM180-180h160v-160H180v160Zm440 0h160v-160H620v160Z\"/>\n",
              "  </svg>\n",
              "    </button>\n",
              "\n",
              "  <style>\n",
              "    .colab-df-container {\n",
              "      display:flex;\n",
              "      gap: 12px;\n",
              "    }\n",
              "\n",
              "    .colab-df-convert {\n",
              "      background-color: #E8F0FE;\n",
              "      border: none;\n",
              "      border-radius: 50%;\n",
              "      cursor: pointer;\n",
              "      display: none;\n",
              "      fill: #1967D2;\n",
              "      height: 32px;\n",
              "      padding: 0 0 0 0;\n",
              "      width: 32px;\n",
              "    }\n",
              "\n",
              "    .colab-df-convert:hover {\n",
              "      background-color: #E2EBFA;\n",
              "      box-shadow: 0px 1px 2px rgba(60, 64, 67, 0.3), 0px 1px 3px 1px rgba(60, 64, 67, 0.15);\n",
              "      fill: #174EA6;\n",
              "    }\n",
              "\n",
              "    .colab-df-buttons div {\n",
              "      margin-bottom: 4px;\n",
              "    }\n",
              "\n",
              "    [theme=dark] .colab-df-convert {\n",
              "      background-color: #3B4455;\n",
              "      fill: #D2E3FC;\n",
              "    }\n",
              "\n",
              "    [theme=dark] .colab-df-convert:hover {\n",
              "      background-color: #434B5C;\n",
              "      box-shadow: 0px 1px 3px 1px rgba(0, 0, 0, 0.15);\n",
              "      filter: drop-shadow(0px 1px 2px rgba(0, 0, 0, 0.3));\n",
              "      fill: #FFFFFF;\n",
              "    }\n",
              "  </style>\n",
              "\n",
              "    <script>\n",
              "      const buttonEl =\n",
              "        document.querySelector('#df-6c46a0af-e07b-4f2a-af43-05bbcce17796 button.colab-df-convert');\n",
              "      buttonEl.style.display =\n",
              "        google.colab.kernel.accessAllowed ? 'block' : 'none';\n",
              "\n",
              "      async function convertToInteractive(key) {\n",
              "        const element = document.querySelector('#df-6c46a0af-e07b-4f2a-af43-05bbcce17796');\n",
              "        const dataTable =\n",
              "          await google.colab.kernel.invokeFunction('convertToInteractive',\n",
              "                                                    [key], {});\n",
              "        if (!dataTable) return;\n",
              "\n",
              "        const docLinkHtml = 'Like what you see? Visit the ' +\n",
              "          '<a target=\"_blank\" href=https://colab.research.google.com/notebooks/data_table.ipynb>data table notebook</a>'\n",
              "          + ' to learn more about interactive tables.';\n",
              "        element.innerHTML = '';\n",
              "        dataTable['output_type'] = 'display_data';\n",
              "        await google.colab.output.renderOutput(dataTable, element);\n",
              "        const docLink = document.createElement('div');\n",
              "        docLink.innerHTML = docLinkHtml;\n",
              "        element.appendChild(docLink);\n",
              "      }\n",
              "    </script>\n",
              "  </div>\n",
              "\n",
              "\n",
              "<div id=\"df-0d4f365f-074f-4569-9f41-d5adaebc4dc1\">\n",
              "  <button class=\"colab-df-quickchart\" onclick=\"quickchart('df-0d4f365f-074f-4569-9f41-d5adaebc4dc1')\"\n",
              "            title=\"Suggest charts\"\n",
              "            style=\"display:none;\">\n",
              "\n",
              "<svg xmlns=\"http://www.w3.org/2000/svg\" height=\"24px\"viewBox=\"0 0 24 24\"\n",
              "     width=\"24px\">\n",
              "    <g>\n",
              "        <path d=\"M19 3H5c-1.1 0-2 .9-2 2v14c0 1.1.9 2 2 2h14c1.1 0 2-.9 2-2V5c0-1.1-.9-2-2-2zM9 17H7v-7h2v7zm4 0h-2V7h2v10zm4 0h-2v-4h2v4z\"/>\n",
              "    </g>\n",
              "</svg>\n",
              "  </button>\n",
              "\n",
              "<style>\n",
              "  .colab-df-quickchart {\n",
              "      --bg-color: #E8F0FE;\n",
              "      --fill-color: #1967D2;\n",
              "      --hover-bg-color: #E2EBFA;\n",
              "      --hover-fill-color: #174EA6;\n",
              "      --disabled-fill-color: #AAA;\n",
              "      --disabled-bg-color: #DDD;\n",
              "  }\n",
              "\n",
              "  [theme=dark] .colab-df-quickchart {\n",
              "      --bg-color: #3B4455;\n",
              "      --fill-color: #D2E3FC;\n",
              "      --hover-bg-color: #434B5C;\n",
              "      --hover-fill-color: #FFFFFF;\n",
              "      --disabled-bg-color: #3B4455;\n",
              "      --disabled-fill-color: #666;\n",
              "  }\n",
              "\n",
              "  .colab-df-quickchart {\n",
              "    background-color: var(--bg-color);\n",
              "    border: none;\n",
              "    border-radius: 50%;\n",
              "    cursor: pointer;\n",
              "    display: none;\n",
              "    fill: var(--fill-color);\n",
              "    height: 32px;\n",
              "    padding: 0;\n",
              "    width: 32px;\n",
              "  }\n",
              "\n",
              "  .colab-df-quickchart:hover {\n",
              "    background-color: var(--hover-bg-color);\n",
              "    box-shadow: 0 1px 2px rgba(60, 64, 67, 0.3), 0 1px 3px 1px rgba(60, 64, 67, 0.15);\n",
              "    fill: var(--button-hover-fill-color);\n",
              "  }\n",
              "\n",
              "  .colab-df-quickchart-complete:disabled,\n",
              "  .colab-df-quickchart-complete:disabled:hover {\n",
              "    background-color: var(--disabled-bg-color);\n",
              "    fill: var(--disabled-fill-color);\n",
              "    box-shadow: none;\n",
              "  }\n",
              "\n",
              "  .colab-df-spinner {\n",
              "    border: 2px solid var(--fill-color);\n",
              "    border-color: transparent;\n",
              "    border-bottom-color: var(--fill-color);\n",
              "    animation:\n",
              "      spin 1s steps(1) infinite;\n",
              "  }\n",
              "\n",
              "  @keyframes spin {\n",
              "    0% {\n",
              "      border-color: transparent;\n",
              "      border-bottom-color: var(--fill-color);\n",
              "      border-left-color: var(--fill-color);\n",
              "    }\n",
              "    20% {\n",
              "      border-color: transparent;\n",
              "      border-left-color: var(--fill-color);\n",
              "      border-top-color: var(--fill-color);\n",
              "    }\n",
              "    30% {\n",
              "      border-color: transparent;\n",
              "      border-left-color: var(--fill-color);\n",
              "      border-top-color: var(--fill-color);\n",
              "      border-right-color: var(--fill-color);\n",
              "    }\n",
              "    40% {\n",
              "      border-color: transparent;\n",
              "      border-right-color: var(--fill-color);\n",
              "      border-top-color: var(--fill-color);\n",
              "    }\n",
              "    60% {\n",
              "      border-color: transparent;\n",
              "      border-right-color: var(--fill-color);\n",
              "    }\n",
              "    80% {\n",
              "      border-color: transparent;\n",
              "      border-right-color: var(--fill-color);\n",
              "      border-bottom-color: var(--fill-color);\n",
              "    }\n",
              "    90% {\n",
              "      border-color: transparent;\n",
              "      border-bottom-color: var(--fill-color);\n",
              "    }\n",
              "  }\n",
              "</style>\n",
              "\n",
              "  <script>\n",
              "    async function quickchart(key) {\n",
              "      const quickchartButtonEl =\n",
              "        document.querySelector('#' + key + ' button');\n",
              "      quickchartButtonEl.disabled = true;  // To prevent multiple clicks.\n",
              "      quickchartButtonEl.classList.add('colab-df-spinner');\n",
              "      try {\n",
              "        const charts = await google.colab.kernel.invokeFunction(\n",
              "            'suggestCharts', [key], {});\n",
              "      } catch (error) {\n",
              "        console.error('Error during call to suggestCharts:', error);\n",
              "      }\n",
              "      quickchartButtonEl.classList.remove('colab-df-spinner');\n",
              "      quickchartButtonEl.classList.add('colab-df-quickchart-complete');\n",
              "    }\n",
              "    (() => {\n",
              "      let quickchartButtonEl =\n",
              "        document.querySelector('#df-0d4f365f-074f-4569-9f41-d5adaebc4dc1 button');\n",
              "      quickchartButtonEl.style.display =\n",
              "        google.colab.kernel.accessAllowed ? 'block' : 'none';\n",
              "    })();\n",
              "  </script>\n",
              "</div>\n",
              "\n",
              "    </div>\n",
              "  </div>\n"
            ],
            "application/vnd.google.colaboratory.intrinsic+json": {
              "type": "dataframe",
              "variable_name": "df_dummies"
            }
          },
          "metadata": {},
          "execution_count": 87
        }
      ]
    },
    {
      "cell_type": "code",
      "source": [
        "pl.figure(figsize=(9, 7))\n",
        "sns.heatmap(df_dummies.corr(), annot=False, cmap='coolwarm')\n",
        "\n",
        "pl.show()"
      ],
      "metadata": {
        "colab": {
          "base_uri": "https://localhost:8080/",
          "height": 850
        },
        "id": "PNV2Hqj_hh9W",
        "outputId": "97d78b97-ac06-4352-9824-106db56f0a04"
      },
      "execution_count": 88,
      "outputs": [
        {
          "output_type": "display_data",
          "data": {
            "text/plain": [
              "<Figure size 900x700 with 2 Axes>"
            ],
            "image/png": "[encoded data removed]"
          },
          "metadata": {}
        }
      ]
    },
    {
      "cell_type": "code",
      "source": [
        "fig = px.bar(df_dummies.corr()['Churn'].sort_values(ascending = False),\n",
        "             color = 'value')\n",
        "fig.show()"
      ],
      "metadata": {
        "colab": {
          "base_uri": "https://localhost:8080/",
          "height": 542
        },
        "id": "vIsWyYeijQvm",
        "outputId": "f741b68b-3add-4457-b1b0-62f0ffb3d445"
      },
      "execution_count": 89,
      "outputs": [
        {
          "output_type": "display_data",
          "data": {
            "text/html": [
              "<html>\n",
              "<head><meta charset=\"utf-8\" /></head>\n",
              "<body>\n",
              "    <div>            <script src=\"https://cdnjs.cloudflare.com/ajax/libs/mathjax/2.7.5/MathJax.js?config=TeX-AMS-MML_SVG\"></script><script type=\"text/javascript\">if (window.MathJax && window.MathJax.Hub && window.MathJax.Hub.Config) {window.MathJax.Hub.Config({SVG: {font: \"STIX-Web\"}});}</script>                <script type=\"text/javascript\">window.PlotlyConfig = {MathJaxConfig: 'local'};</script>\n",
              "        <script charset=\"utf-8\" src=\"https://cdn.plot.ly/plotly-2.24.1.min.js\"></script>                <div id=\"ae5d5fa2-5802-4d0c-86e4-6022f3700265\" class=\"plotly-graph-div\" style=\"height:525px; width:100%;\"></div>            <script type=\"text/javascript\">                                    window.PLOTLYENV=window.PLOTLYENV || {};                                    if (document.getElementById(\"ae5d5fa2-5802-4d0c-86e4-6022f3700265\")) {                    Plotly.newPlot(                        \"ae5d5fa2-5802-4d0c-86e4-6022f3700265\",                        [{\"alignmentgroup\":\"True\",\"hovertemplate\":\"index=%{x}\\u003cbr\\u003evalue=%{marker.color}\\u003cextra\\u003e\\u003c\\u002fextra\\u003e\",\"legendgroup\":\"\",\"marker\":{\"color\":[1.0,0.3426367998511224,0.33728072773519846,0.3080197449448227,0.26800518096235926,0.2524813605956856,0.13084502938616802,0.12891588111510788,0.06322774611875735,0.06138154801518696,0.04010212769982612,0.011941980029003086,-0.011941980029003091,-0.011941980029003091,-0.03256857845019155,-0.06615979128028962,-0.08225486893814256,-0.12421382390260355,-0.16467355590159405,-0.17122629194855232,-0.22789044975609363,-0.22789044975609363,-0.22789044975609363,-0.22789044975609363,-0.22789044975609363,-0.22789044975609363,-0.22789044975609363],\"coloraxis\":\"coloraxis\",\"pattern\":{\"shape\":\"\"}},\"name\":\"\",\"offsetgroup\":\"\",\"orientation\":\"v\",\"showlegend\":false,\"textposition\":\"auto\",\"x\":[\"Churn\",\"OnlineSecurity_No\",\"TechSupport_No\",\"InternetService_Fiber optic\",\"OnlineBackup_No\",\"DeviceProtection_No\",\"StreamingMovies_No\",\"StreamingTV_No\",\"StreamingTV_Yes\",\"StreamingMovies_Yes\",\"MultipleLines_Yes\",\"PhoneService_Yes\",\"PhoneService_No\",\"MultipleLines_No phone service\",\"MultipleLines_No\",\"DeviceProtection_Yes\",\"OnlineBackup_Yes\",\"InternetService_DSL\",\"TechSupport_Yes\",\"OnlineSecurity_Yes\",\"StreamingTV_No internet service\",\"StreamingMovies_No internet service\",\"OnlineSecurity_No internet service\",\"TechSupport_No internet service\",\"DeviceProtection_No internet service\",\"InternetService_No\",\"OnlineBackup_No internet service\"],\"xaxis\":\"x\",\"y\":[1.0,0.3426367998511224,0.33728072773519846,0.3080197449448227,0.26800518096235926,0.2524813605956856,0.13084502938616802,0.12891588111510788,0.06322774611875735,0.06138154801518696,0.04010212769982612,0.011941980029003086,-0.011941980029003091,-0.011941980029003091,-0.03256857845019155,-0.06615979128028962,-0.08225486893814256,-0.12421382390260355,-0.16467355590159405,-0.17122629194855232,-0.22789044975609363,-0.22789044975609363,-0.22789044975609363,-0.22789044975609363,-0.22789044975609363,-0.22789044975609363,-0.22789044975609363],\"yaxis\":\"y\",\"type\":\"bar\"}],                        {\"template\":{\"data\":{\"histogram2dcontour\":[{\"type\":\"histogram2dcontour\",\"colorbar\":{\"outlinewidth\":0,\"ticks\":\"\"},\"colorscale\":[[0.0,\"#0d0887\"],[0.1111111111111111,\"#46039f\"],[0.2222222222222222,\"#7201a8\"],[0.3333333333333333,\"#9c179e\"],[0.4444444444444444,\"#bd3786\"],[0.5555555555555556,\"#d8576b\"],[0.6666666666666666,\"#ed7953\"],[0.7777777777777778,\"#fb9f3a\"],[0.8888888888888888,\"#fdca26\"],[1.0,\"#f0f921\"]]}],\"choropleth\":[{\"type\":\"choropleth\",\"colorbar\":{\"outlinewidth\":0,\"ticks\":\"\"}}],\"histogram2d\":[{\"type\":\"histogram2d\",\"colorbar\":{\"outlinewidth\":0,\"ticks\":\"\"},\"colorscale\":[[0.0,\"#0d0887\"],[0.1111111111111111,\"#46039f\"],[0.2222222222222222,\"#7201a8\"],[0.3333333333333333,\"#9c179e\"],[0.4444444444444444,\"#bd3786\"],[0.5555555555555556,\"#d8576b\"],[0.6666666666666666,\"#ed7953\"],[0.7777777777777778,\"#fb9f3a\"],[0.8888888888888888,\"#fdca26\"],[1.0,\"#f0f921\"]]}],\"heatmap\":[{\"type\":\"heatmap\",\"colorbar\":{\"outlinewidth\":0,\"ticks\":\"\"},\"colorscale\":[[0.0,\"#0d0887\"],[0.1111111111111111,\"#46039f\"],[0.2222222222222222,\"#7201a8\"],[0.3333333333333333,\"#9c179e\"],[0.4444444444444444,\"#bd3786\"],[0.5555555555555556,\"#d8576b\"],[0.6666666666666666,\"#ed7953\"],[0.7777777777777778,\"#fb9f3a\"],[0.8888888888888888,\"#fdca26\"],[1.0,\"#f0f921\"]]}],\"heatmapgl\":[{\"type\":\"heatmapgl\",\"colorbar\":{\"outlinewidth\":0,\"ticks\":\"\"},\"colorscale\":[[0.0,\"#0d0887\"],[0.1111111111111111,\"#46039f\"],[0.2222222222222222,\"#7201a8\"],[0.3333333333333333,\"#9c179e\"],[0.4444444444444444,\"#bd3786\"],[0.5555555555555556,\"#d8576b\"],[0.6666666666666666,\"#ed7953\"],[0.7777777777777778,\"#fb9f3a\"],[0.8888888888888888,\"#fdca26\"],[1.0,\"#f0f921\"]]}],\"contourcarpet\":[{\"type\":\"contourcarpet\",\"colorbar\":{\"outlinewidth\":0,\"ticks\":\"\"}}],\"contour\":[{\"type\":\"contour\",\"colorbar\":{\"outlinewidth\":0,\"ticks\":\"\"},\"colorscale\":[[0.0,\"#0d0887\"],[0.1111111111111111,\"#46039f\"],[0.2222222222222222,\"#7201a8\"],[0.3333333333333333,\"#9c179e\"],[0.4444444444444444,\"#bd3786\"],[0.5555555555555556,\"#d8576b\"],[0.6666666666666666,\"#ed7953\"],[0.7777777777777778,\"#fb9f3a\"],[0.8888888888888888,\"#fdca26\"],[1.0,\"#f0f921\"]]}],\"surface\":[{\"type\":\"surface\",\"colorbar\":{\"outlinewidth\":0,\"ticks\":\"\"},\"colorscale\":[[0.0,\"#0d0887\"],[0.1111111111111111,\"#46039f\"],[0.2222222222222222,\"#7201a8\"],[0.3333333333333333,\"#9c179e\"],[0.4444444444444444,\"#bd3786\"],[0.5555555555555556,\"#d8576b\"],[0.6666666666666666,\"#ed7953\"],[0.7777777777777778,\"#fb9f3a\"],[0.8888888888888888,\"#fdca26\"],[1.0,\"#f0f921\"]]}],\"mesh3d\":[{\"type\":\"mesh3d\",\"colorbar\":{\"outlinewidth\":0,\"ticks\":\"\"}}],\"scatter\":[{\"fillpattern\":{\"fillmode\":\"overlay\",\"size\":10,\"solidity\":0.2},\"type\":\"scatter\"}],\"parcoords\":[{\"type\":\"parcoords\",\"line\":{\"colorbar\":{\"outlinewidth\":0,\"ticks\":\"\"}}}],\"scatterpolargl\":[{\"type\":\"scatterpolargl\",\"marker\":{\"colorbar\":{\"outlinewidth\":0,\"ticks\":\"\"}}}],\"bar\":[{\"error_x\":{\"color\":\"#2a3f5f\"},\"error_y\":{\"color\":\"#2a3f5f\"},\"marker\":{\"line\":{\"color\":\"#E5ECF6\",\"width\":0.5},\"pattern\":{\"fillmode\":\"overlay\",\"size\":10,\"solidity\":0.2}},\"type\":\"bar\"}],\"scattergeo\":[{\"type\":\"scattergeo\",\"marker\":{\"colorbar\":{\"outlinewidth\":0,\"ticks\":\"\"}}}],\"scatterpolar\":[{\"type\":\"scatterpolar\",\"marker\":{\"colorbar\":{\"outlinewidth\":0,\"ticks\":\"\"}}}],\"histogram\":[{\"marker\":{\"pattern\":{\"fillmode\":\"overlay\",\"size\":10,\"solidity\":0.2}},\"type\":\"histogram\"}],\"scattergl\":[{\"type\":\"scattergl\",\"marker\":{\"colorbar\":{\"outlinewidth\":0,\"ticks\":\"\"}}}],\"scatter3d\":[{\"type\":\"scatter3d\",\"line\":{\"colorbar\":{\"outlinewidth\":0,\"ticks\":\"\"}},\"marker\":{\"colorbar\":{\"outlinewidth\":0,\"ticks\":\"\"}}}],\"scattermapbox\":[{\"type\":\"scattermapbox\",\"marker\":{\"colorbar\":{\"outlinewidth\":0,\"ticks\":\"\"}}}],\"scatterternary\":[{\"type\":\"scatterternary\",\"marker\":{\"colorbar\":{\"outlinewidth\":0,\"ticks\":\"\"}}}],\"scattercarpet\":[{\"type\":\"scattercarpet\",\"marker\":{\"colorbar\":{\"outlinewidth\":0,\"ticks\":\"\"}}}],\"carpet\":[{\"aaxis\":{\"endlinecolor\":\"#2a3f5f\",\"gridcolor\":\"white\",\"linecolor\":\"white\",\"minorgridcolor\":\"white\",\"startlinecolor\":\"#2a3f5f\"},\"baxis\":{\"endlinecolor\":\"#2a3f5f\",\"gridcolor\":\"white\",\"linecolor\":\"white\",\"minorgridcolor\":\"white\",\"startlinecolor\":\"#2a3f5f\"},\"type\":\"carpet\"}],\"table\":[{\"cells\":{\"fill\":{\"color\":\"#EBF0F8\"},\"line\":{\"color\":\"white\"}},\"header\":{\"fill\":{\"color\":\"#C8D4E3\"},\"line\":{\"color\":\"white\"}},\"type\":\"table\"}],\"barpolar\":[{\"marker\":{\"line\":{\"color\":\"#E5ECF6\",\"width\":0.5},\"pattern\":{\"fillmode\":\"overlay\",\"size\":10,\"solidity\":0.2}},\"type\":\"barpolar\"}],\"pie\":[{\"automargin\":true,\"type\":\"pie\"}]},\"layout\":{\"autotypenumbers\":\"strict\",\"colorway\":[\"#636efa\",\"#EF553B\",\"#00cc96\",\"#ab63fa\",\"#FFA15A\",\"#19d3f3\",\"#FF6692\",\"#B6E880\",\"#FF97FF\",\"#FECB52\"],\"font\":{\"color\":\"#2a3f5f\"},\"hovermode\":\"closest\",\"hoverlabel\":{\"align\":\"left\"},\"paper_bgcolor\":\"white\",\"plot_bgcolor\":\"#E5ECF6\",\"polar\":{\"bgcolor\":\"#E5ECF6\",\"angularaxis\":{\"gridcolor\":\"white\",\"linecolor\":\"white\",\"ticks\":\"\"},\"radialaxis\":{\"gridcolor\":\"white\",\"linecolor\":\"white\",\"ticks\":\"\"}},\"ternary\":{\"bgcolor\":\"#E5ECF6\",\"aaxis\":{\"gridcolor\":\"white\",\"linecolor\":\"white\",\"ticks\":\"\"},\"baxis\":{\"gridcolor\":\"white\",\"linecolor\":\"white\",\"ticks\":\"\"},\"caxis\":{\"gridcolor\":\"white\",\"linecolor\":\"white\",\"ticks\":\"\"}},\"coloraxis\":{\"colorbar\":{\"outlinewidth\":0,\"ticks\":\"\"}},\"colorscale\":{\"sequential\":[[0.0,\"#0d0887\"],[0.1111111111111111,\"#46039f\"],[0.2222222222222222,\"#7201a8\"],[0.3333333333333333,\"#9c179e\"],[0.4444444444444444,\"#bd3786\"],[0.5555555555555556,\"#d8576b\"],[0.6666666666666666,\"#ed7953\"],[0.7777777777777778,\"#fb9f3a\"],[0.8888888888888888,\"#fdca26\"],[1.0,\"#f0f921\"]],\"sequentialminus\":[[0.0,\"#0d0887\"],[0.1111111111111111,\"#46039f\"],[0.2222222222222222,\"#7201a8\"],[0.3333333333333333,\"#9c179e\"],[0.4444444444444444,\"#bd3786\"],[0.5555555555555556,\"#d8576b\"],[0.6666666666666666,\"#ed7953\"],[0.7777777777777778,\"#fb9f3a\"],[0.8888888888888888,\"#fdca26\"],[1.0,\"#f0f921\"]],\"diverging\":[[0,\"#8e0152\"],[0.1,\"#c51b7d\"],[0.2,\"#de77ae\"],[0.3,\"#f1b6da\"],[0.4,\"#fde0ef\"],[0.5,\"#f7f7f7\"],[0.6,\"#e6f5d0\"],[0.7,\"#b8e186\"],[0.8,\"#7fbc41\"],[0.9,\"#4d9221\"],[1,\"#276419\"]]},\"xaxis\":{\"gridcolor\":\"white\",\"linecolor\":\"white\",\"ticks\":\"\",\"title\":{\"standoff\":15},\"zerolinecolor\":\"white\",\"automargin\":true,\"zerolinewidth\":2},\"yaxis\":{\"gridcolor\":\"white\",\"linecolor\":\"white\",\"ticks\":\"\",\"title\":{\"standoff\":15},\"zerolinecolor\":\"white\",\"automargin\":true,\"zerolinewidth\":2},\"scene\":{\"xaxis\":{\"backgroundcolor\":\"#E5ECF6\",\"gridcolor\":\"white\",\"linecolor\":\"white\",\"showbackground\":true,\"ticks\":\"\",\"zerolinecolor\":\"white\",\"gridwidth\":2},\"yaxis\":{\"backgroundcolor\":\"#E5ECF6\",\"gridcolor\":\"white\",\"linecolor\":\"white\",\"showbackground\":true,\"ticks\":\"\",\"zerolinecolor\":\"white\",\"gridwidth\":2},\"zaxis\":{\"backgroundcolor\":\"#E5ECF6\",\"gridcolor\":\"white\",\"linecolor\":\"white\",\"showbackground\":true,\"ticks\":\"\",\"zerolinecolor\":\"white\",\"gridwidth\":2}},\"shapedefaults\":{\"line\":{\"color\":\"#2a3f5f\"}},\"annotationdefaults\":{\"arrowcolor\":\"#2a3f5f\",\"arrowhead\":0,\"arrowwidth\":1},\"geo\":{\"bgcolor\":\"white\",\"landcolor\":\"#E5ECF6\",\"subunitcolor\":\"white\",\"showland\":true,\"showlakes\":true,\"lakecolor\":\"white\"},\"title\":{\"x\":0.05},\"mapbox\":{\"style\":\"light\"}}},\"xaxis\":{\"anchor\":\"y\",\"domain\":[0.0,1.0],\"title\":{\"text\":\"index\"}},\"yaxis\":{\"anchor\":\"x\",\"domain\":[0.0,1.0],\"title\":{\"text\":\"value\"}},\"coloraxis\":{\"colorbar\":{\"title\":{\"text\":\"value\"}},\"colorscale\":[[0.0,\"#0d0887\"],[0.1111111111111111,\"#46039f\"],[0.2222222222222222,\"#7201a8\"],[0.3333333333333333,\"#9c179e\"],[0.4444444444444444,\"#bd3786\"],[0.5555555555555556,\"#d8576b\"],[0.6666666666666666,\"#ed7953\"],[0.7777777777777778,\"#fb9f3a\"],[0.8888888888888888,\"#fdca26\"],[1.0,\"#f0f921\"]]},\"legend\":{\"tracegroupgap\":0},\"margin\":{\"t\":60},\"barmode\":\"relative\"},                        {\"responsive\": true}                    ).then(function(){\n",
              "                            \n",
              "var gd = document.getElementById('ae5d5fa2-5802-4d0c-86e4-6022f3700265');\n",
              "var x = new MutationObserver(function (mutations, observer) {{\n",
              "        var display = window.getComputedStyle(gd).display;\n",
              "        if (!display || display === 'none') {{\n",
              "            console.log([gd, 'removed!']);\n",
              "            Plotly.purge(gd);\n",
              "            observer.disconnect();\n",
              "        }}\n",
              "}});\n",
              "\n",
              "// Listen for the removal of the full notebook cells\n",
              "var notebookContainer = gd.closest('#notebook-container');\n",
              "if (notebookContainer) {{\n",
              "    x.observe(notebookContainer, {childList: true});\n",
              "}}\n",
              "\n",
              "// Listen for the clearing of the current output cell\n",
              "var outputEl = gd.closest('.output');\n",
              "if (outputEl) {{\n",
              "    x.observe(outputEl, {childList: true});\n",
              "}}\n",
              "\n",
              "                        })                };                            </script>        </div>\n",
              "</body>\n",
              "</html>"
            ]
          },
          "metadata": {}
        }
      ]
    },
    {
      "cell_type": "markdown",
      "source": [
        "* fiber optic has a correlation with churn value\n",
        "* Same as online security and online backup services\n",
        "\n",
        "#### Internet Services\n",
        "\n",
        "Let's see what types of internet services customers have, and then let's see their impact on th churn rate\n"
      ],
      "metadata": {
        "id": "aXIJoy7BjZt1"
      }
    },
    {
      "cell_type": "code",
      "source": [
        "fig = px.bar(df.groupby('InternetService')['customerID'].count().reset_index(),\n",
        "             x='InternetService',\n",
        "             y='customerID',\n",
        "             color = 'InternetService',\n",
        "             text = 'customerID')\n",
        "fig.show()"
      ],
      "metadata": {
        "colab": {
          "base_uri": "https://localhost:8080/",
          "height": 542
        },
        "id": "m0JRmPFzjZKY",
        "outputId": "e094b226-7a1c-43b7-faee-551d7e5a1687"
      },
      "execution_count": 90,
      "outputs": [
        {
          "output_type": "display_data",
          "data": {
            "text/html": [
              "<html>\n",
              "<head><meta charset=\"utf-8\" /></head>\n",
              "<body>\n",
              "    <div>            <script src=\"https://cdnjs.cloudflare.com/ajax/libs/mathjax/2.7.5/MathJax.js?config=TeX-AMS-MML_SVG\"></script><script type=\"text/javascript\">if (window.MathJax && window.MathJax.Hub && window.MathJax.Hub.Config) {window.MathJax.Hub.Config({SVG: {font: \"STIX-Web\"}});}</script>                <script type=\"text/javascript\">window.PlotlyConfig = {MathJaxConfig: 'local'};</script>\n",
              "        <script charset=\"utf-8\" src=\"https://cdn.plot.ly/plotly-2.24.1.min.js\"></script>                <div id=\"ab416d14-46b4-46e3-a948-5fda82411d44\" class=\"plotly-graph-div\" style=\"height:525px; width:100%;\"></div>            <script type=\"text/javascript\">                                    window.PLOTLYENV=window.PLOTLYENV || {};                                    if (document.getElementById(\"ab416d14-46b4-46e3-a948-5fda82411d44\")) {                    Plotly.newPlot(                        \"ab416d14-46b4-46e3-a948-5fda82411d44\",                        [{\"alignmentgroup\":\"True\",\"hovertemplate\":\"InternetService=%{x}\\u003cbr\\u003ecustomerID=%{text}\\u003cextra\\u003e\\u003c\\u002fextra\\u003e\",\"legendgroup\":\"DSL\",\"marker\":{\"color\":\"#636efa\",\"pattern\":{\"shape\":\"\"}},\"name\":\"DSL\",\"offsetgroup\":\"DSL\",\"orientation\":\"v\",\"showlegend\":true,\"text\":[2421.0],\"textposition\":\"auto\",\"x\":[\"DSL\"],\"xaxis\":\"x\",\"y\":[2421],\"yaxis\":\"y\",\"type\":\"bar\"},{\"alignmentgroup\":\"True\",\"hovertemplate\":\"InternetService=%{x}\\u003cbr\\u003ecustomerID=%{text}\\u003cextra\\u003e\\u003c\\u002fextra\\u003e\",\"legendgroup\":\"Fiber optic\",\"marker\":{\"color\":\"#EF553B\",\"pattern\":{\"shape\":\"\"}},\"name\":\"Fiber optic\",\"offsetgroup\":\"Fiber optic\",\"orientation\":\"v\",\"showlegend\":true,\"text\":[3096.0],\"textposition\":\"auto\",\"x\":[\"Fiber optic\"],\"xaxis\":\"x\",\"y\":[3096],\"yaxis\":\"y\",\"type\":\"bar\"},{\"alignmentgroup\":\"True\",\"hovertemplate\":\"InternetService=%{x}\\u003cbr\\u003ecustomerID=%{text}\\u003cextra\\u003e\\u003c\\u002fextra\\u003e\",\"legendgroup\":\"No\",\"marker\":{\"color\":\"#00cc96\",\"pattern\":{\"shape\":\"\"}},\"name\":\"No\",\"offsetgroup\":\"No\",\"orientation\":\"v\",\"showlegend\":true,\"text\":[1526.0],\"textposition\":\"auto\",\"x\":[\"No\"],\"xaxis\":\"x\",\"y\":[1526],\"yaxis\":\"y\",\"type\":\"bar\"}],                        {\"template\":{\"data\":{\"histogram2dcontour\":[{\"type\":\"histogram2dcontour\",\"colorbar\":{\"outlinewidth\":0,\"ticks\":\"\"},\"colorscale\":[[0.0,\"#0d0887\"],[0.1111111111111111,\"#46039f\"],[0.2222222222222222,\"#7201a8\"],[0.3333333333333333,\"#9c179e\"],[0.4444444444444444,\"#bd3786\"],[0.5555555555555556,\"#d8576b\"],[0.6666666666666666,\"#ed7953\"],[0.7777777777777778,\"#fb9f3a\"],[0.8888888888888888,\"#fdca26\"],[1.0,\"#f0f921\"]]}],\"choropleth\":[{\"type\":\"choropleth\",\"colorbar\":{\"outlinewidth\":0,\"ticks\":\"\"}}],\"histogram2d\":[{\"type\":\"histogram2d\",\"colorbar\":{\"outlinewidth\":0,\"ticks\":\"\"},\"colorscale\":[[0.0,\"#0d0887\"],[0.1111111111111111,\"#46039f\"],[0.2222222222222222,\"#7201a8\"],[0.3333333333333333,\"#9c179e\"],[0.4444444444444444,\"#bd3786\"],[0.5555555555555556,\"#d8576b\"],[0.6666666666666666,\"#ed7953\"],[0.7777777777777778,\"#fb9f3a\"],[0.8888888888888888,\"#fdca26\"],[1.0,\"#f0f921\"]]}],\"heatmap\":[{\"type\":\"heatmap\",\"colorbar\":{\"outlinewidth\":0,\"ticks\":\"\"},\"colorscale\":[[0.0,\"#0d0887\"],[0.1111111111111111,\"#46039f\"],[0.2222222222222222,\"#7201a8\"],[0.3333333333333333,\"#9c179e\"],[0.4444444444444444,\"#bd3786\"],[0.5555555555555556,\"#d8576b\"],[0.6666666666666666,\"#ed7953\"],[0.7777777777777778,\"#fb9f3a\"],[0.8888888888888888,\"#fdca26\"],[1.0,\"#f0f921\"]]}],\"heatmapgl\":[{\"type\":\"heatmapgl\",\"colorbar\":{\"outlinewidth\":0,\"ticks\":\"\"},\"colorscale\":[[0.0,\"#0d0887\"],[0.1111111111111111,\"#46039f\"],[0.2222222222222222,\"#7201a8\"],[0.3333333333333333,\"#9c179e\"],[0.4444444444444444,\"#bd3786\"],[0.5555555555555556,\"#d8576b\"],[0.6666666666666666,\"#ed7953\"],[0.7777777777777778,\"#fb9f3a\"],[0.8888888888888888,\"#fdca26\"],[1.0,\"#f0f921\"]]}],\"contourcarpet\":[{\"type\":\"contourcarpet\",\"colorbar\":{\"outlinewidth\":0,\"ticks\":\"\"}}],\"contour\":[{\"type\":\"contour\",\"colorbar\":{\"outlinewidth\":0,\"ticks\":\"\"},\"colorscale\":[[0.0,\"#0d0887\"],[0.1111111111111111,\"#46039f\"],[0.2222222222222222,\"#7201a8\"],[0.3333333333333333,\"#9c179e\"],[0.4444444444444444,\"#bd3786\"],[0.5555555555555556,\"#d8576b\"],[0.6666666666666666,\"#ed7953\"],[0.7777777777777778,\"#fb9f3a\"],[0.8888888888888888,\"#fdca26\"],[1.0,\"#f0f921\"]]}],\"surface\":[{\"type\":\"surface\",\"colorbar\":{\"outlinewidth\":0,\"ticks\":\"\"},\"colorscale\":[[0.0,\"#0d0887\"],[0.1111111111111111,\"#46039f\"],[0.2222222222222222,\"#7201a8\"],[0.3333333333333333,\"#9c179e\"],[0.4444444444444444,\"#bd3786\"],[0.5555555555555556,\"#d8576b\"],[0.6666666666666666,\"#ed7953\"],[0.7777777777777778,\"#fb9f3a\"],[0.8888888888888888,\"#fdca26\"],[1.0,\"#f0f921\"]]}],\"mesh3d\":[{\"type\":\"mesh3d\",\"colorbar\":{\"outlinewidth\":0,\"ticks\":\"\"}}],\"scatter\":[{\"fillpattern\":{\"fillmode\":\"overlay\",\"size\":10,\"solidity\":0.2},\"type\":\"scatter\"}],\"parcoords\":[{\"type\":\"parcoords\",\"line\":{\"colorbar\":{\"outlinewidth\":0,\"ticks\":\"\"}}}],\"scatterpolargl\":[{\"type\":\"scatterpolargl\",\"marker\":{\"colorbar\":{\"outlinewidth\":0,\"ticks\":\"\"}}}],\"bar\":[{\"error_x\":{\"color\":\"#2a3f5f\"},\"error_y\":{\"color\":\"#2a3f5f\"},\"marker\":{\"line\":{\"color\":\"#E5ECF6\",\"width\":0.5},\"pattern\":{\"fillmode\":\"overlay\",\"size\":10,\"solidity\":0.2}},\"type\":\"bar\"}],\"scattergeo\":[{\"type\":\"scattergeo\",\"marker\":{\"colorbar\":{\"outlinewidth\":0,\"ticks\":\"\"}}}],\"scatterpolar\":[{\"type\":\"scatterpolar\",\"marker\":{\"colorbar\":{\"outlinewidth\":0,\"ticks\":\"\"}}}],\"histogram\":[{\"marker\":{\"pattern\":{\"fillmode\":\"overlay\",\"size\":10,\"solidity\":0.2}},\"type\":\"histogram\"}],\"scattergl\":[{\"type\":\"scattergl\",\"marker\":{\"colorbar\":{\"outlinewidth\":0,\"ticks\":\"\"}}}],\"scatter3d\":[{\"type\":\"scatter3d\",\"line\":{\"colorbar\":{\"outlinewidth\":0,\"ticks\":\"\"}},\"marker\":{\"colorbar\":{\"outlinewidth\":0,\"ticks\":\"\"}}}],\"scattermapbox\":[{\"type\":\"scattermapbox\",\"marker\":{\"colorbar\":{\"outlinewidth\":0,\"ticks\":\"\"}}}],\"scatterternary\":[{\"type\":\"scatterternary\",\"marker\":{\"colorbar\":{\"outlinewidth\":0,\"ticks\":\"\"}}}],\"scattercarpet\":[{\"type\":\"scattercarpet\",\"marker\":{\"colorbar\":{\"outlinewidth\":0,\"ticks\":\"\"}}}],\"carpet\":[{\"aaxis\":{\"endlinecolor\":\"#2a3f5f\",\"gridcolor\":\"white\",\"linecolor\":\"white\",\"minorgridcolor\":\"white\",\"startlinecolor\":\"#2a3f5f\"},\"baxis\":{\"endlinecolor\":\"#2a3f5f\",\"gridcolor\":\"white\",\"linecolor\":\"white\",\"minorgridcolor\":\"white\",\"startlinecolor\":\"#2a3f5f\"},\"type\":\"carpet\"}],\"table\":[{\"cells\":{\"fill\":{\"color\":\"#EBF0F8\"},\"line\":{\"color\":\"white\"}},\"header\":{\"fill\":{\"color\":\"#C8D4E3\"},\"line\":{\"color\":\"white\"}},\"type\":\"table\"}],\"barpolar\":[{\"marker\":{\"line\":{\"color\":\"#E5ECF6\",\"width\":0.5},\"pattern\":{\"fillmode\":\"overlay\",\"size\":10,\"solidity\":0.2}},\"type\":\"barpolar\"}],\"pie\":[{\"automargin\":true,\"type\":\"pie\"}]},\"layout\":{\"autotypenumbers\":\"strict\",\"colorway\":[\"#636efa\",\"#EF553B\",\"#00cc96\",\"#ab63fa\",\"#FFA15A\",\"#19d3f3\",\"#FF6692\",\"#B6E880\",\"#FF97FF\",\"#FECB52\"],\"font\":{\"color\":\"#2a3f5f\"},\"hovermode\":\"closest\",\"hoverlabel\":{\"align\":\"left\"},\"paper_bgcolor\":\"white\",\"plot_bgcolor\":\"#E5ECF6\",\"polar\":{\"bgcolor\":\"#E5ECF6\",\"angularaxis\":{\"gridcolor\":\"white\",\"linecolor\":\"white\",\"ticks\":\"\"},\"radialaxis\":{\"gridcolor\":\"white\",\"linecolor\":\"white\",\"ticks\":\"\"}},\"ternary\":{\"bgcolor\":\"#E5ECF6\",\"aaxis\":{\"gridcolor\":\"white\",\"linecolor\":\"white\",\"ticks\":\"\"},\"baxis\":{\"gridcolor\":\"white\",\"linecolor\":\"white\",\"ticks\":\"\"},\"caxis\":{\"gridcolor\":\"white\",\"linecolor\":\"white\",\"ticks\":\"\"}},\"coloraxis\":{\"colorbar\":{\"outlinewidth\":0,\"ticks\":\"\"}},\"colorscale\":{\"sequential\":[[0.0,\"#0d0887\"],[0.1111111111111111,\"#46039f\"],[0.2222222222222222,\"#7201a8\"],[0.3333333333333333,\"#9c179e\"],[0.4444444444444444,\"#bd3786\"],[0.5555555555555556,\"#d8576b\"],[0.6666666666666666,\"#ed7953\"],[0.7777777777777778,\"#fb9f3a\"],[0.8888888888888888,\"#fdca26\"],[1.0,\"#f0f921\"]],\"sequentialminus\":[[0.0,\"#0d0887\"],[0.1111111111111111,\"#46039f\"],[0.2222222222222222,\"#7201a8\"],[0.3333333333333333,\"#9c179e\"],[0.4444444444444444,\"#bd3786\"],[0.5555555555555556,\"#d8576b\"],[0.6666666666666666,\"#ed7953\"],[0.7777777777777778,\"#fb9f3a\"],[0.8888888888888888,\"#fdca26\"],[1.0,\"#f0f921\"]],\"diverging\":[[0,\"#8e0152\"],[0.1,\"#c51b7d\"],[0.2,\"#de77ae\"],[0.3,\"#f1b6da\"],[0.4,\"#fde0ef\"],[0.5,\"#f7f7f7\"],[0.6,\"#e6f5d0\"],[0.7,\"#b8e186\"],[0.8,\"#7fbc41\"],[0.9,\"#4d9221\"],[1,\"#276419\"]]},\"xaxis\":{\"gridcolor\":\"white\",\"linecolor\":\"white\",\"ticks\":\"\",\"title\":{\"standoff\":15},\"zerolinecolor\":\"white\",\"automargin\":true,\"zerolinewidth\":2},\"yaxis\":{\"gridcolor\":\"white\",\"linecolor\":\"white\",\"ticks\":\"\",\"title\":{\"standoff\":15},\"zerolinecolor\":\"white\",\"automargin\":true,\"zerolinewidth\":2},\"scene\":{\"xaxis\":{\"backgroundcolor\":\"#E5ECF6\",\"gridcolor\":\"white\",\"linecolor\":\"white\",\"showbackground\":true,\"ticks\":\"\",\"zerolinecolor\":\"white\",\"gridwidth\":2},\"yaxis\":{\"backgroundcolor\":\"#E5ECF6\",\"gridcolor\":\"white\",\"linecolor\":\"white\",\"showbackground\":true,\"ticks\":\"\",\"zerolinecolor\":\"white\",\"gridwidth\":2},\"zaxis\":{\"backgroundcolor\":\"#E5ECF6\",\"gridcolor\":\"white\",\"linecolor\":\"white\",\"showbackground\":true,\"ticks\":\"\",\"zerolinecolor\":\"white\",\"gridwidth\":2}},\"shapedefaults\":{\"line\":{\"color\":\"#2a3f5f\"}},\"annotationdefaults\":{\"arrowcolor\":\"#2a3f5f\",\"arrowhead\":0,\"arrowwidth\":1},\"geo\":{\"bgcolor\":\"white\",\"landcolor\":\"#E5ECF6\",\"subunitcolor\":\"white\",\"showland\":true,\"showlakes\":true,\"lakecolor\":\"white\"},\"title\":{\"x\":0.05},\"mapbox\":{\"style\":\"light\"}}},\"xaxis\":{\"anchor\":\"y\",\"domain\":[0.0,1.0],\"title\":{\"text\":\"InternetService\"},\"categoryorder\":\"array\",\"categoryarray\":[\"DSL\",\"Fiber optic\",\"No\"]},\"yaxis\":{\"anchor\":\"x\",\"domain\":[0.0,1.0],\"title\":{\"text\":\"customerID\"}},\"legend\":{\"title\":{\"text\":\"InternetService\"},\"tracegroupgap\":0},\"margin\":{\"t\":60},\"barmode\":\"relative\"},                        {\"responsive\": true}                    ).then(function(){\n",
              "                            \n",
              "var gd = document.getElementById('ab416d14-46b4-46e3-a948-5fda82411d44');\n",
              "var x = new MutationObserver(function (mutations, observer) {{\n",
              "        var display = window.getComputedStyle(gd).display;\n",
              "        if (!display || display === 'none') {{\n",
              "            console.log([gd, 'removed!']);\n",
              "            Plotly.purge(gd);\n",
              "            observer.disconnect();\n",
              "        }}\n",
              "}});\n",
              "\n",
              "// Listen for the removal of the full notebook cells\n",
              "var notebookContainer = gd.closest('#notebook-container');\n",
              "if (notebookContainer) {{\n",
              "    x.observe(notebookContainer, {childList: true});\n",
              "}}\n",
              "\n",
              "// Listen for the clearing of the current output cell\n",
              "var outputEl = gd.closest('.output');\n",
              "if (outputEl) {{\n",
              "    x.observe(outputEl, {childList: true});\n",
              "}}\n",
              "\n",
              "                        })                };                            </script>        </div>\n",
              "</body>\n",
              "</html>"
            ]
          },
          "metadata": {}
        }
      ]
    },
    {
      "cell_type": "markdown",
      "source": [
        "Most clients are connected to the fiber optic internet\n",
        "\n",
        "Let's see ehat internet services where used by customers who left the service:"
      ],
      "metadata": {
        "id": "MgPYhFEIkUDw"
      }
    },
    {
      "cell_type": "code",
      "source": [
        "fig = px.pie(df.groupby(['InternetService', 'Churn'])['customerID'].count().reset_index(),\n",
        "             values='customerID',\n",
        "             facet_col = 'Churn',\n",
        "             names='InternetService',\n",
        "             title = 'What type of internet was connected to the clients who left the service?')\n",
        "fig.show()"
      ],
      "metadata": {
        "colab": {
          "base_uri": "https://localhost:8080/",
          "height": 542
        },
        "id": "JZhGyuXakbwj",
        "outputId": "f5d37e74-7393-4c1d-c994-6c9896d7f106"
      },
      "execution_count": 91,
      "outputs": [
        {
          "output_type": "display_data",
          "data": {
            "text/html": [
              "<html>\n",
              "<head><meta charset=\"utf-8\" /></head>\n",
              "<body>\n",
              "    <div>            <script src=\"https://cdnjs.cloudflare.com/ajax/libs/mathjax/2.7.5/MathJax.js?config=TeX-AMS-MML_SVG\"></script><script type=\"text/javascript\">if (window.MathJax && window.MathJax.Hub && window.MathJax.Hub.Config) {window.MathJax.Hub.Config({SVG: {font: \"STIX-Web\"}});}</script>                <script type=\"text/javascript\">window.PlotlyConfig = {MathJaxConfig: 'local'};</script>\n",
              "        <script charset=\"utf-8\" src=\"https://cdn.plot.ly/plotly-2.24.1.min.js\"></script>                <div id=\"6d2a38c4-8180-466d-8620-ecd87b779d07\" class=\"plotly-graph-div\" style=\"height:525px; width:100%;\"></div>            <script type=\"text/javascript\">                                    window.PLOTLYENV=window.PLOTLYENV || {};                                    if (document.getElementById(\"6d2a38c4-8180-466d-8620-ecd87b779d07\")) {                    Plotly.newPlot(                        \"6d2a38c4-8180-466d-8620-ecd87b779d07\",                        [{\"domain\":{\"x\":[0.0,0.49],\"y\":[0.0,1.0]},\"hovertemplate\":\"Churn=No\\u003cbr\\u003eInternetService=%{label}\\u003cbr\\u003ecustomerID=%{value}\\u003cextra\\u003e\\u003c\\u002fextra\\u003e\",\"labels\":[\"DSL\",\"Fiber optic\",\"No\"],\"legendgroup\":\"\",\"name\":\"\",\"showlegend\":true,\"values\":[1962,1799,1413],\"type\":\"pie\"},{\"domain\":{\"x\":[0.51,1.0],\"y\":[0.0,1.0]},\"hovertemplate\":\"Churn=Yes\\u003cbr\\u003eInternetService=%{label}\\u003cbr\\u003ecustomerID=%{value}\\u003cextra\\u003e\\u003c\\u002fextra\\u003e\",\"labels\":[\"DSL\",\"Fiber optic\",\"No\"],\"legendgroup\":\"\",\"name\":\"\",\"showlegend\":true,\"values\":[459,1297,113],\"type\":\"pie\"}],                        {\"template\":{\"data\":{\"histogram2dcontour\":[{\"type\":\"histogram2dcontour\",\"colorbar\":{\"outlinewidth\":0,\"ticks\":\"\"},\"colorscale\":[[0.0,\"#0d0887\"],[0.1111111111111111,\"#46039f\"],[0.2222222222222222,\"#7201a8\"],[0.3333333333333333,\"#9c179e\"],[0.4444444444444444,\"#bd3786\"],[0.5555555555555556,\"#d8576b\"],[0.6666666666666666,\"#ed7953\"],[0.7777777777777778,\"#fb9f3a\"],[0.8888888888888888,\"#fdca26\"],[1.0,\"#f0f921\"]]}],\"choropleth\":[{\"type\":\"choropleth\",\"colorbar\":{\"outlinewidth\":0,\"ticks\":\"\"}}],\"histogram2d\":[{\"type\":\"histogram2d\",\"colorbar\":{\"outlinewidth\":0,\"ticks\":\"\"},\"colorscale\":[[0.0,\"#0d0887\"],[0.1111111111111111,\"#46039f\"],[0.2222222222222222,\"#7201a8\"],[0.3333333333333333,\"#9c179e\"],[0.4444444444444444,\"#bd3786\"],[0.5555555555555556,\"#d8576b\"],[0.6666666666666666,\"#ed7953\"],[0.7777777777777778,\"#fb9f3a\"],[0.8888888888888888,\"#fdca26\"],[1.0,\"#f0f921\"]]}],\"heatmap\":[{\"type\":\"heatmap\",\"colorbar\":{\"outlinewidth\":0,\"ticks\":\"\"},\"colorscale\":[[0.0,\"#0d0887\"],[0.1111111111111111,\"#46039f\"],[0.2222222222222222,\"#7201a8\"],[0.3333333333333333,\"#9c179e\"],[0.4444444444444444,\"#bd3786\"],[0.5555555555555556,\"#d8576b\"],[0.6666666666666666,\"#ed7953\"],[0.7777777777777778,\"#fb9f3a\"],[0.8888888888888888,\"#fdca26\"],[1.0,\"#f0f921\"]]}],\"heatmapgl\":[{\"type\":\"heatmapgl\",\"colorbar\":{\"outlinewidth\":0,\"ticks\":\"\"},\"colorscale\":[[0.0,\"#0d0887\"],[0.1111111111111111,\"#46039f\"],[0.2222222222222222,\"#7201a8\"],[0.3333333333333333,\"#9c179e\"],[0.4444444444444444,\"#bd3786\"],[0.5555555555555556,\"#d8576b\"],[0.6666666666666666,\"#ed7953\"],[0.7777777777777778,\"#fb9f3a\"],[0.8888888888888888,\"#fdca26\"],[1.0,\"#f0f921\"]]}],\"contourcarpet\":[{\"type\":\"contourcarpet\",\"colorbar\":{\"outlinewidth\":0,\"ticks\":\"\"}}],\"contour\":[{\"type\":\"contour\",\"colorbar\":{\"outlinewidth\":0,\"ticks\":\"\"},\"colorscale\":[[0.0,\"#0d0887\"],[0.1111111111111111,\"#46039f\"],[0.2222222222222222,\"#7201a8\"],[0.3333333333333333,\"#9c179e\"],[0.4444444444444444,\"#bd3786\"],[0.5555555555555556,\"#d8576b\"],[0.6666666666666666,\"#ed7953\"],[0.7777777777777778,\"#fb9f3a\"],[0.8888888888888888,\"#fdca26\"],[1.0,\"#f0f921\"]]}],\"surface\":[{\"type\":\"surface\",\"colorbar\":{\"outlinewidth\":0,\"ticks\":\"\"},\"colorscale\":[[0.0,\"#0d0887\"],[0.1111111111111111,\"#46039f\"],[0.2222222222222222,\"#7201a8\"],[0.3333333333333333,\"#9c179e\"],[0.4444444444444444,\"#bd3786\"],[0.5555555555555556,\"#d8576b\"],[0.6666666666666666,\"#ed7953\"],[0.7777777777777778,\"#fb9f3a\"],[0.8888888888888888,\"#fdca26\"],[1.0,\"#f0f921\"]]}],\"mesh3d\":[{\"type\":\"mesh3d\",\"colorbar\":{\"outlinewidth\":0,\"ticks\":\"\"}}],\"scatter\":[{\"fillpattern\":{\"fillmode\":\"overlay\",\"size\":10,\"solidity\":0.2},\"type\":\"scatter\"}],\"parcoords\":[{\"type\":\"parcoords\",\"line\":{\"colorbar\":{\"outlinewidth\":0,\"ticks\":\"\"}}}],\"scatterpolargl\":[{\"type\":\"scatterpolargl\",\"marker\":{\"colorbar\":{\"outlinewidth\":0,\"ticks\":\"\"}}}],\"bar\":[{\"error_x\":{\"color\":\"#2a3f5f\"},\"error_y\":{\"color\":\"#2a3f5f\"},\"marker\":{\"line\":{\"color\":\"#E5ECF6\",\"width\":0.5},\"pattern\":{\"fillmode\":\"overlay\",\"size\":10,\"solidity\":0.2}},\"type\":\"bar\"}],\"scattergeo\":[{\"type\":\"scattergeo\",\"marker\":{\"colorbar\":{\"outlinewidth\":0,\"ticks\":\"\"}}}],\"scatterpolar\":[{\"type\":\"scatterpolar\",\"marker\":{\"colorbar\":{\"outlinewidth\":0,\"ticks\":\"\"}}}],\"histogram\":[{\"marker\":{\"pattern\":{\"fillmode\":\"overlay\",\"size\":10,\"solidity\":0.2}},\"type\":\"histogram\"}],\"scattergl\":[{\"type\":\"scattergl\",\"marker\":{\"colorbar\":{\"outlinewidth\":0,\"ticks\":\"\"}}}],\"scatter3d\":[{\"type\":\"scatter3d\",\"line\":{\"colorbar\":{\"outlinewidth\":0,\"ticks\":\"\"}},\"marker\":{\"colorbar\":{\"outlinewidth\":0,\"ticks\":\"\"}}}],\"scattermapbox\":[{\"type\":\"scattermapbox\",\"marker\":{\"colorbar\":{\"outlinewidth\":0,\"ticks\":\"\"}}}],\"scatterternary\":[{\"type\":\"scatterternary\",\"marker\":{\"colorbar\":{\"outlinewidth\":0,\"ticks\":\"\"}}}],\"scattercarpet\":[{\"type\":\"scattercarpet\",\"marker\":{\"colorbar\":{\"outlinewidth\":0,\"ticks\":\"\"}}}],\"carpet\":[{\"aaxis\":{\"endlinecolor\":\"#2a3f5f\",\"gridcolor\":\"white\",\"linecolor\":\"white\",\"minorgridcolor\":\"white\",\"startlinecolor\":\"#2a3f5f\"},\"baxis\":{\"endlinecolor\":\"#2a3f5f\",\"gridcolor\":\"white\",\"linecolor\":\"white\",\"minorgridcolor\":\"white\",\"startlinecolor\":\"#2a3f5f\"},\"type\":\"carpet\"}],\"table\":[{\"cells\":{\"fill\":{\"color\":\"#EBF0F8\"},\"line\":{\"color\":\"white\"}},\"header\":{\"fill\":{\"color\":\"#C8D4E3\"},\"line\":{\"color\":\"white\"}},\"type\":\"table\"}],\"barpolar\":[{\"marker\":{\"line\":{\"color\":\"#E5ECF6\",\"width\":0.5},\"pattern\":{\"fillmode\":\"overlay\",\"size\":10,\"solidity\":0.2}},\"type\":\"barpolar\"}],\"pie\":[{\"automargin\":true,\"type\":\"pie\"}]},\"layout\":{\"autotypenumbers\":\"strict\",\"colorway\":[\"#636efa\",\"#EF553B\",\"#00cc96\",\"#ab63fa\",\"#FFA15A\",\"#19d3f3\",\"#FF6692\",\"#B6E880\",\"#FF97FF\",\"#FECB52\"],\"font\":{\"color\":\"#2a3f5f\"},\"hovermode\":\"closest\",\"hoverlabel\":{\"align\":\"left\"},\"paper_bgcolor\":\"white\",\"plot_bgcolor\":\"#E5ECF6\",\"polar\":{\"bgcolor\":\"#E5ECF6\",\"angularaxis\":{\"gridcolor\":\"white\",\"linecolor\":\"white\",\"ticks\":\"\"},\"radialaxis\":{\"gridcolor\":\"white\",\"linecolor\":\"white\",\"ticks\":\"\"}},\"ternary\":{\"bgcolor\":\"#E5ECF6\",\"aaxis\":{\"gridcolor\":\"white\",\"linecolor\":\"white\",\"ticks\":\"\"},\"baxis\":{\"gridcolor\":\"white\",\"linecolor\":\"white\",\"ticks\":\"\"},\"caxis\":{\"gridcolor\":\"white\",\"linecolor\":\"white\",\"ticks\":\"\"}},\"coloraxis\":{\"colorbar\":{\"outlinewidth\":0,\"ticks\":\"\"}},\"colorscale\":{\"sequential\":[[0.0,\"#0d0887\"],[0.1111111111111111,\"#46039f\"],[0.2222222222222222,\"#7201a8\"],[0.3333333333333333,\"#9c179e\"],[0.4444444444444444,\"#bd3786\"],[0.5555555555555556,\"#d8576b\"],[0.6666666666666666,\"#ed7953\"],[0.7777777777777778,\"#fb9f3a\"],[0.8888888888888888,\"#fdca26\"],[1.0,\"#f0f921\"]],\"sequentialminus\":[[0.0,\"#0d0887\"],[0.1111111111111111,\"#46039f\"],[0.2222222222222222,\"#7201a8\"],[0.3333333333333333,\"#9c179e\"],[0.4444444444444444,\"#bd3786\"],[0.5555555555555556,\"#d8576b\"],[0.6666666666666666,\"#ed7953\"],[0.7777777777777778,\"#fb9f3a\"],[0.8888888888888888,\"#fdca26\"],[1.0,\"#f0f921\"]],\"diverging\":[[0,\"#8e0152\"],[0.1,\"#c51b7d\"],[0.2,\"#de77ae\"],[0.3,\"#f1b6da\"],[0.4,\"#fde0ef\"],[0.5,\"#f7f7f7\"],[0.6,\"#e6f5d0\"],[0.7,\"#b8e186\"],[0.8,\"#7fbc41\"],[0.9,\"#4d9221\"],[1,\"#276419\"]]},\"xaxis\":{\"gridcolor\":\"white\",\"linecolor\":\"white\",\"ticks\":\"\",\"title\":{\"standoff\":15},\"zerolinecolor\":\"white\",\"automargin\":true,\"zerolinewidth\":2},\"yaxis\":{\"gridcolor\":\"white\",\"linecolor\":\"white\",\"ticks\":\"\",\"title\":{\"standoff\":15},\"zerolinecolor\":\"white\",\"automargin\":true,\"zerolinewidth\":2},\"scene\":{\"xaxis\":{\"backgroundcolor\":\"#E5ECF6\",\"gridcolor\":\"white\",\"linecolor\":\"white\",\"showbackground\":true,\"ticks\":\"\",\"zerolinecolor\":\"white\",\"gridwidth\":2},\"yaxis\":{\"backgroundcolor\":\"#E5ECF6\",\"gridcolor\":\"white\",\"linecolor\":\"white\",\"showbackground\":true,\"ticks\":\"\",\"zerolinecolor\":\"white\",\"gridwidth\":2},\"zaxis\":{\"backgroundcolor\":\"#E5ECF6\",\"gridcolor\":\"white\",\"linecolor\":\"white\",\"showbackground\":true,\"ticks\":\"\",\"zerolinecolor\":\"white\",\"gridwidth\":2}},\"shapedefaults\":{\"line\":{\"color\":\"#2a3f5f\"}},\"annotationdefaults\":{\"arrowcolor\":\"#2a3f5f\",\"arrowhead\":0,\"arrowwidth\":1},\"geo\":{\"bgcolor\":\"white\",\"landcolor\":\"#E5ECF6\",\"subunitcolor\":\"white\",\"showland\":true,\"showlakes\":true,\"lakecolor\":\"white\"},\"title\":{\"x\":0.05},\"mapbox\":{\"style\":\"light\"}}},\"annotations\":[{\"font\":{},\"showarrow\":false,\"text\":\"Churn=No\",\"x\":0.245,\"xanchor\":\"center\",\"xref\":\"paper\",\"y\":1.0,\"yanchor\":\"bottom\",\"yref\":\"paper\"},{\"font\":{},\"showarrow\":false,\"text\":\"Churn=Yes\",\"x\":0.755,\"xanchor\":\"center\",\"xref\":\"paper\",\"y\":1.0,\"yanchor\":\"bottom\",\"yref\":\"paper\"}],\"legend\":{\"tracegroupgap\":0},\"title\":{\"text\":\"What type of internet was connected to the clients who left the service?\"}},                        {\"responsive\": true}                    ).then(function(){\n",
              "                            \n",
              "var gd = document.getElementById('6d2a38c4-8180-466d-8620-ecd87b779d07');\n",
              "var x = new MutationObserver(function (mutations, observer) {{\n",
              "        var display = window.getComputedStyle(gd).display;\n",
              "        if (!display || display === 'none') {{\n",
              "            console.log([gd, 'removed!']);\n",
              "            Plotly.purge(gd);\n",
              "            observer.disconnect();\n",
              "        }}\n",
              "}});\n",
              "\n",
              "// Listen for the removal of the full notebook cells\n",
              "var notebookContainer = gd.closest('#notebook-container');\n",
              "if (notebookContainer) {{\n",
              "    x.observe(notebookContainer, {childList: true});\n",
              "}}\n",
              "\n",
              "// Listen for the clearing of the current output cell\n",
              "var outputEl = gd.closest('.output');\n",
              "if (outputEl) {{\n",
              "    x.observe(outputEl, {childList: true});\n",
              "}}\n",
              "\n",
              "                        })                };                            </script>        </div>\n",
              "</body>\n",
              "</html>"
            ]
          },
          "metadata": {}
        }
      ]
    },
    {
      "cell_type": "markdown",
      "source": [
        "69 percent of those who left the service were connected to the fibre optic internet\n",
        "\n",
        "**Tech support and online security**"
      ],
      "metadata": {
        "id": "6SWJdTDCk-AH"
      }
    },
    {
      "cell_type": "code",
      "source": [
        "# Grouping the data\n",
        "grouped_data = df.groupby(['InternetService', 'TechSupport', 'Churn'])['customerID'].count().reset_index()\n",
        "\n",
        "# Creating the plot\n",
        "fig = px.bar(grouped_data,\n",
        "             x=\"InternetService\",\n",
        "             y=\"customerID\",\n",
        "             color=\"Churn\",\n",
        "             text='customerID',\n",
        "             barmode=\"group\",\n",
        "             facet_col=\"TechSupport\"\n",
        "            )\n",
        "\n",
        "# Displaying the plot\n",
        "fig.show()"
      ],
      "metadata": {
        "colab": {
          "base_uri": "https://localhost:8080/",
          "height": 542
        },
        "id": "k4-lTmuglG17",
        "outputId": "3ac63cbd-1995-4bb7-d679-f5c7f595966a"
      },
      "execution_count": 92,
      "outputs": [
        {
          "output_type": "display_data",
          "data": {
            "text/html": [
              "<html>\n",
              "<head><meta charset=\"utf-8\" /></head>\n",
              "<body>\n",
              "    <div>            <script src=\"https://cdnjs.cloudflare.com/ajax/libs/mathjax/2.7.5/MathJax.js?config=TeX-AMS-MML_SVG\"></script><script type=\"text/javascript\">if (window.MathJax && window.MathJax.Hub && window.MathJax.Hub.Config) {window.MathJax.Hub.Config({SVG: {font: \"STIX-Web\"}});}</script>                <script type=\"text/javascript\">window.PlotlyConfig = {MathJaxConfig: 'local'};</script>\n",
              "        <script charset=\"utf-8\" src=\"https://cdn.plot.ly/plotly-2.24.1.min.js\"></script>                <div id=\"edeea036-8cfd-42d8-960e-91c1a3840ac5\" class=\"plotly-graph-div\" style=\"height:525px; width:100%;\"></div>            <script type=\"text/javascript\">                                    window.PLOTLYENV=window.PLOTLYENV || {};                                    if (document.getElementById(\"edeea036-8cfd-42d8-960e-91c1a3840ac5\")) {                    Plotly.newPlot(                        \"edeea036-8cfd-42d8-960e-91c1a3840ac5\",                        [{\"alignmentgroup\":\"True\",\"hovertemplate\":\"Churn=No\\u003cbr\\u003eTechSupport=No\\u003cbr\\u003eInternetService=%{x}\\u003cbr\\u003ecustomerID=%{text}\\u003cextra\\u003e\\u003c\\u002fextra\\u003e\",\"legendgroup\":\"No\",\"marker\":{\"color\":\"#636efa\",\"pattern\":{\"shape\":\"\"}},\"name\":\"No\",\"offsetgroup\":\"No\",\"orientation\":\"v\",\"showlegend\":true,\"text\":[898.0,1129.0],\"textposition\":\"auto\",\"x\":[\"DSL\",\"Fiber optic\"],\"xaxis\":\"x\",\"y\":[898,1129],\"yaxis\":\"y\",\"type\":\"bar\"},{\"alignmentgroup\":\"True\",\"hovertemplate\":\"Churn=No\\u003cbr\\u003eTechSupport=Yes\\u003cbr\\u003eInternetService=%{x}\\u003cbr\\u003ecustomerID=%{text}\\u003cextra\\u003e\\u003c\\u002fextra\\u003e\",\"legendgroup\":\"No\",\"marker\":{\"color\":\"#636efa\",\"pattern\":{\"shape\":\"\"}},\"name\":\"No\",\"offsetgroup\":\"No\",\"orientation\":\"v\",\"showlegend\":false,\"text\":[1064.0,670.0],\"textposition\":\"auto\",\"x\":[\"DSL\",\"Fiber optic\"],\"xaxis\":\"x2\",\"y\":[1064,670],\"yaxis\":\"y2\",\"type\":\"bar\"},{\"alignmentgroup\":\"True\",\"hovertemplate\":\"Churn=No\\u003cbr\\u003eTechSupport=No internet service\\u003cbr\\u003eInternetService=%{x}\\u003cbr\\u003ecustomerID=%{text}\\u003cextra\\u003e\\u003c\\u002fextra\\u003e\",\"legendgroup\":\"No\",\"marker\":{\"color\":\"#636efa\",\"pattern\":{\"shape\":\"\"}},\"name\":\"No\",\"offsetgroup\":\"No\",\"orientation\":\"v\",\"showlegend\":false,\"text\":[1413.0],\"textposition\":\"auto\",\"x\":[\"No\"],\"xaxis\":\"x3\",\"y\":[1413],\"yaxis\":\"y3\",\"type\":\"bar\"},{\"alignmentgroup\":\"True\",\"hovertemplate\":\"Churn=Yes\\u003cbr\\u003eTechSupport=No\\u003cbr\\u003eInternetService=%{x}\\u003cbr\\u003ecustomerID=%{text}\\u003cextra\\u003e\\u003c\\u002fextra\\u003e\",\"legendgroup\":\"Yes\",\"marker\":{\"color\":\"#EF553B\",\"pattern\":{\"shape\":\"\"}},\"name\":\"Yes\",\"offsetgroup\":\"Yes\",\"orientation\":\"v\",\"showlegend\":true,\"text\":[345.0,1101.0],\"textposition\":\"auto\",\"x\":[\"DSL\",\"Fiber optic\"],\"xaxis\":\"x\",\"y\":[345,1101],\"yaxis\":\"y\",\"type\":\"bar\"},{\"alignmentgroup\":\"True\",\"hovertemplate\":\"Churn=Yes\\u003cbr\\u003eTechSupport=Yes\\u003cbr\\u003eInternetService=%{x}\\u003cbr\\u003ecustomerID=%{text}\\u003cextra\\u003e\\u003c\\u002fextra\\u003e\",\"legendgroup\":\"Yes\",\"marker\":{\"color\":\"#EF553B\",\"pattern\":{\"shape\":\"\"}},\"name\":\"Yes\",\"offsetgroup\":\"Yes\",\"orientation\":\"v\",\"showlegend\":false,\"text\":[114.0,196.0],\"textposition\":\"auto\",\"x\":[\"DSL\",\"Fiber optic\"],\"xaxis\":\"x2\",\"y\":[114,196],\"yaxis\":\"y2\",\"type\":\"bar\"},{\"alignmentgroup\":\"True\",\"hovertemplate\":\"Churn=Yes\\u003cbr\\u003eTechSupport=No internet service\\u003cbr\\u003eInternetService=%{x}\\u003cbr\\u003ecustomerID=%{text}\\u003cextra\\u003e\\u003c\\u002fextra\\u003e\",\"legendgroup\":\"Yes\",\"marker\":{\"color\":\"#EF553B\",\"pattern\":{\"shape\":\"\"}},\"name\":\"Yes\",\"offsetgroup\":\"Yes\",\"orientation\":\"v\",\"showlegend\":false,\"text\":[113.0],\"textposition\":\"auto\",\"x\":[\"No\"],\"xaxis\":\"x3\",\"y\":[113],\"yaxis\":\"y3\",\"type\":\"bar\"}],                        {\"template\":{\"data\":{\"histogram2dcontour\":[{\"type\":\"histogram2dcontour\",\"colorbar\":{\"outlinewidth\":0,\"ticks\":\"\"},\"colorscale\":[[0.0,\"#0d0887\"],[0.1111111111111111,\"#46039f\"],[0.2222222222222222,\"#7201a8\"],[0.3333333333333333,\"#9c179e\"],[0.4444444444444444,\"#bd3786\"],[0.5555555555555556,\"#d8576b\"],[0.6666666666666666,\"#ed7953\"],[0.7777777777777778,\"#fb9f3a\"],[0.8888888888888888,\"#fdca26\"],[1.0,\"#f0f921\"]]}],\"choropleth\":[{\"type\":\"choropleth\",\"colorbar\":{\"outlinewidth\":0,\"ticks\":\"\"}}],\"histogram2d\":[{\"type\":\"histogram2d\",\"colorbar\":{\"outlinewidth\":0,\"ticks\":\"\"},\"colorscale\":[[0.0,\"#0d0887\"],[0.1111111111111111,\"#46039f\"],[0.2222222222222222,\"#7201a8\"],[0.3333333333333333,\"#9c179e\"],[0.4444444444444444,\"#bd3786\"],[0.5555555555555556,\"#d8576b\"],[0.6666666666666666,\"#ed7953\"],[0.7777777777777778,\"#fb9f3a\"],[0.8888888888888888,\"#fdca26\"],[1.0,\"#f0f921\"]]}],\"heatmap\":[{\"type\":\"heatmap\",\"colorbar\":{\"outlinewidth\":0,\"ticks\":\"\"},\"colorscale\":[[0.0,\"#0d0887\"],[0.1111111111111111,\"#46039f\"],[0.2222222222222222,\"#7201a8\"],[0.3333333333333333,\"#9c179e\"],[0.4444444444444444,\"#bd3786\"],[0.5555555555555556,\"#d8576b\"],[0.6666666666666666,\"#ed7953\"],[0.7777777777777778,\"#fb9f3a\"],[0.8888888888888888,\"#fdca26\"],[1.0,\"#f0f921\"]]}],\"heatmapgl\":[{\"type\":\"heatmapgl\",\"colorbar\":{\"outlinewidth\":0,\"ticks\":\"\"},\"colorscale\":[[0.0,\"#0d0887\"],[0.1111111111111111,\"#46039f\"],[0.2222222222222222,\"#7201a8\"],[0.3333333333333333,\"#9c179e\"],[0.4444444444444444,\"#bd3786\"],[0.5555555555555556,\"#d8576b\"],[0.6666666666666666,\"#ed7953\"],[0.7777777777777778,\"#fb9f3a\"],[0.8888888888888888,\"#fdca26\"],[1.0,\"#f0f921\"]]}],\"contourcarpet\":[{\"type\":\"contourcarpet\",\"colorbar\":{\"outlinewidth\":0,\"ticks\":\"\"}}],\"contour\":[{\"type\":\"contour\",\"colorbar\":{\"outlinewidth\":0,\"ticks\":\"\"},\"colorscale\":[[0.0,\"#0d0887\"],[0.1111111111111111,\"#46039f\"],[0.2222222222222222,\"#7201a8\"],[0.3333333333333333,\"#9c179e\"],[0.4444444444444444,\"#bd3786\"],[0.5555555555555556,\"#d8576b\"],[0.6666666666666666,\"#ed7953\"],[0.7777777777777778,\"#fb9f3a\"],[0.8888888888888888,\"#fdca26\"],[1.0,\"#f0f921\"]]}],\"surface\":[{\"type\":\"surface\",\"colorbar\":{\"outlinewidth\":0,\"ticks\":\"\"},\"colorscale\":[[0.0,\"#0d0887\"],[0.1111111111111111,\"#46039f\"],[0.2222222222222222,\"#7201a8\"],[0.3333333333333333,\"#9c179e\"],[0.4444444444444444,\"#bd3786\"],[0.5555555555555556,\"#d8576b\"],[0.6666666666666666,\"#ed7953\"],[0.7777777777777778,\"#fb9f3a\"],[0.8888888888888888,\"#fdca26\"],[1.0,\"#f0f921\"]]}],\"mesh3d\":[{\"type\":\"mesh3d\",\"colorbar\":{\"outlinewidth\":0,\"ticks\":\"\"}}],\"scatter\":[{\"fillpattern\":{\"fillmode\":\"overlay\",\"size\":10,\"solidity\":0.2},\"type\":\"scatter\"}],\"parcoords\":[{\"type\":\"parcoords\",\"line\":{\"colorbar\":{\"outlinewidth\":0,\"ticks\":\"\"}}}],\"scatterpolargl\":[{\"type\":\"scatterpolargl\",\"marker\":{\"colorbar\":{\"outlinewidth\":0,\"ticks\":\"\"}}}],\"bar\":[{\"error_x\":{\"color\":\"#2a3f5f\"},\"error_y\":{\"color\":\"#2a3f5f\"},\"marker\":{\"line\":{\"color\":\"#E5ECF6\",\"width\":0.5},\"pattern\":{\"fillmode\":\"overlay\",\"size\":10,\"solidity\":0.2}},\"type\":\"bar\"}],\"scattergeo\":[{\"type\":\"scattergeo\",\"marker\":{\"colorbar\":{\"outlinewidth\":0,\"ticks\":\"\"}}}],\"scatterpolar\":[{\"type\":\"scatterpolar\",\"marker\":{\"colorbar\":{\"outlinewidth\":0,\"ticks\":\"\"}}}],\"histogram\":[{\"marker\":{\"pattern\":{\"fillmode\":\"overlay\",\"size\":10,\"solidity\":0.2}},\"type\":\"histogram\"}],\"scattergl\":[{\"type\":\"scattergl\",\"marker\":{\"colorbar\":{\"outlinewidth\":0,\"ticks\":\"\"}}}],\"scatter3d\":[{\"type\":\"scatter3d\",\"line\":{\"colorbar\":{\"outlinewidth\":0,\"ticks\":\"\"}},\"marker\":{\"colorbar\":{\"outlinewidth\":0,\"ticks\":\"\"}}}],\"scattermapbox\":[{\"type\":\"scattermapbox\",\"marker\":{\"colorbar\":{\"outlinewidth\":0,\"ticks\":\"\"}}}],\"scatterternary\":[{\"type\":\"scatterternary\",\"marker\":{\"colorbar\":{\"outlinewidth\":0,\"ticks\":\"\"}}}],\"scattercarpet\":[{\"type\":\"scattercarpet\",\"marker\":{\"colorbar\":{\"outlinewidth\":0,\"ticks\":\"\"}}}],\"carpet\":[{\"aaxis\":{\"endlinecolor\":\"#2a3f5f\",\"gridcolor\":\"white\",\"linecolor\":\"white\",\"minorgridcolor\":\"white\",\"startlinecolor\":\"#2a3f5f\"},\"baxis\":{\"endlinecolor\":\"#2a3f5f\",\"gridcolor\":\"white\",\"linecolor\":\"white\",\"minorgridcolor\":\"white\",\"startlinecolor\":\"#2a3f5f\"},\"type\":\"carpet\"}],\"table\":[{\"cells\":{\"fill\":{\"color\":\"#EBF0F8\"},\"line\":{\"color\":\"white\"}},\"header\":{\"fill\":{\"color\":\"#C8D4E3\"},\"line\":{\"color\":\"white\"}},\"type\":\"table\"}],\"barpolar\":[{\"marker\":{\"line\":{\"color\":\"#E5ECF6\",\"width\":0.5},\"pattern\":{\"fillmode\":\"overlay\",\"size\":10,\"solidity\":0.2}},\"type\":\"barpolar\"}],\"pie\":[{\"automargin\":true,\"type\":\"pie\"}]},\"layout\":{\"autotypenumbers\":\"strict\",\"colorway\":[\"#636efa\",\"#EF553B\",\"#00cc96\",\"#ab63fa\",\"#FFA15A\",\"#19d3f3\",\"#FF6692\",\"#B6E880\",\"#FF97FF\",\"#FECB52\"],\"font\":{\"color\":\"#2a3f5f\"},\"hovermode\":\"closest\",\"hoverlabel\":{\"align\":\"left\"},\"paper_bgcolor\":\"white\",\"plot_bgcolor\":\"#E5ECF6\",\"polar\":{\"bgcolor\":\"#E5ECF6\",\"angularaxis\":{\"gridcolor\":\"white\",\"linecolor\":\"white\",\"ticks\":\"\"},\"radialaxis\":{\"gridcolor\":\"white\",\"linecolor\":\"white\",\"ticks\":\"\"}},\"ternary\":{\"bgcolor\":\"#E5ECF6\",\"aaxis\":{\"gridcolor\":\"white\",\"linecolor\":\"white\",\"ticks\":\"\"},\"baxis\":{\"gridcolor\":\"white\",\"linecolor\":\"white\",\"ticks\":\"\"},\"caxis\":{\"gridcolor\":\"white\",\"linecolor\":\"white\",\"ticks\":\"\"}},\"coloraxis\":{\"colorbar\":{\"outlinewidth\":0,\"ticks\":\"\"}},\"colorscale\":{\"sequential\":[[0.0,\"#0d0887\"],[0.1111111111111111,\"#46039f\"],[0.2222222222222222,\"#7201a8\"],[0.3333333333333333,\"#9c179e\"],[0.4444444444444444,\"#bd3786\"],[0.5555555555555556,\"#d8576b\"],[0.6666666666666666,\"#ed7953\"],[0.7777777777777778,\"#fb9f3a\"],[0.8888888888888888,\"#fdca26\"],[1.0,\"#f0f921\"]],\"sequentialminus\":[[0.0,\"#0d0887\"],[0.1111111111111111,\"#46039f\"],[0.2222222222222222,\"#7201a8\"],[0.3333333333333333,\"#9c179e\"],[0.4444444444444444,\"#bd3786\"],[0.5555555555555556,\"#d8576b\"],[0.6666666666666666,\"#ed7953\"],[0.7777777777777778,\"#fb9f3a\"],[0.8888888888888888,\"#fdca26\"],[1.0,\"#f0f921\"]],\"diverging\":[[0,\"#8e0152\"],[0.1,\"#c51b7d\"],[0.2,\"#de77ae\"],[0.3,\"#f1b6da\"],[0.4,\"#fde0ef\"],[0.5,\"#f7f7f7\"],[0.6,\"#e6f5d0\"],[0.7,\"#b8e186\"],[0.8,\"#7fbc41\"],[0.9,\"#4d9221\"],[1,\"#276419\"]]},\"xaxis\":{\"gridcolor\":\"white\",\"linecolor\":\"white\",\"ticks\":\"\",\"title\":{\"standoff\":15},\"zerolinecolor\":\"white\",\"automargin\":true,\"zerolinewidth\":2},\"yaxis\":{\"gridcolor\":\"white\",\"linecolor\":\"white\",\"ticks\":\"\",\"title\":{\"standoff\":15},\"zerolinecolor\":\"white\",\"automargin\":true,\"zerolinewidth\":2},\"scene\":{\"xaxis\":{\"backgroundcolor\":\"#E5ECF6\",\"gridcolor\":\"white\",\"linecolor\":\"white\",\"showbackground\":true,\"ticks\":\"\",\"zerolinecolor\":\"white\",\"gridwidth\":2},\"yaxis\":{\"backgroundcolor\":\"#E5ECF6\",\"gridcolor\":\"white\",\"linecolor\":\"white\",\"showbackground\":true,\"ticks\":\"\",\"zerolinecolor\":\"white\",\"gridwidth\":2},\"zaxis\":{\"backgroundcolor\":\"#E5ECF6\",\"gridcolor\":\"white\",\"linecolor\":\"white\",\"showbackground\":true,\"ticks\":\"\",\"zerolinecolor\":\"white\",\"gridwidth\":2}},\"shapedefaults\":{\"line\":{\"color\":\"#2a3f5f\"}},\"annotationdefaults\":{\"arrowcolor\":\"#2a3f5f\",\"arrowhead\":0,\"arrowwidth\":1},\"geo\":{\"bgcolor\":\"white\",\"landcolor\":\"#E5ECF6\",\"subunitcolor\":\"white\",\"showland\":true,\"showlakes\":true,\"lakecolor\":\"white\"},\"title\":{\"x\":0.05},\"mapbox\":{\"style\":\"light\"}}},\"xaxis\":{\"anchor\":\"y\",\"domain\":[0.0,0.31999999999999995],\"title\":{\"text\":\"InternetService\"}},\"yaxis\":{\"anchor\":\"x\",\"domain\":[0.0,1.0],\"title\":{\"text\":\"customerID\"}},\"xaxis2\":{\"anchor\":\"y2\",\"domain\":[0.33999999999999997,0.6599999999999999],\"matches\":\"x\",\"title\":{\"text\":\"InternetService\"}},\"yaxis2\":{\"anchor\":\"x2\",\"domain\":[0.0,1.0],\"matches\":\"y\",\"showticklabels\":false},\"xaxis3\":{\"anchor\":\"y3\",\"domain\":[0.6799999999999999,0.9999999999999999],\"matches\":\"x\",\"title\":{\"text\":\"InternetService\"}},\"yaxis3\":{\"anchor\":\"x3\",\"domain\":[0.0,1.0],\"matches\":\"y\",\"showticklabels\":false},\"annotations\":[{\"font\":{},\"showarrow\":false,\"text\":\"TechSupport=No\",\"x\":0.15999999999999998,\"xanchor\":\"center\",\"xref\":\"paper\",\"y\":1.0,\"yanchor\":\"bottom\",\"yref\":\"paper\"},{\"font\":{},\"showarrow\":false,\"text\":\"TechSupport=Yes\",\"x\":0.49999999999999994,\"xanchor\":\"center\",\"xref\":\"paper\",\"y\":1.0,\"yanchor\":\"bottom\",\"yref\":\"paper\"},{\"font\":{},\"showarrow\":false,\"text\":\"TechSupport=No internet service\",\"x\":0.8399999999999999,\"xanchor\":\"center\",\"xref\":\"paper\",\"y\":1.0,\"yanchor\":\"bottom\",\"yref\":\"paper\"}],\"legend\":{\"title\":{\"text\":\"Churn\"},\"tracegroupgap\":0},\"margin\":{\"t\":60},\"barmode\":\"group\"},                        {\"responsive\": true}                    ).then(function(){\n",
              "                            \n",
              "var gd = document.getElementById('edeea036-8cfd-42d8-960e-91c1a3840ac5');\n",
              "var x = new MutationObserver(function (mutations, observer) {{\n",
              "        var display = window.getComputedStyle(gd).display;\n",
              "        if (!display || display === 'none') {{\n",
              "            console.log([gd, 'removed!']);\n",
              "            Plotly.purge(gd);\n",
              "            observer.disconnect();\n",
              "        }}\n",
              "}});\n",
              "\n",
              "// Listen for the removal of the full notebook cells\n",
              "var notebookContainer = gd.closest('#notebook-container');\n",
              "if (notebookContainer) {{\n",
              "    x.observe(notebookContainer, {childList: true});\n",
              "}}\n",
              "\n",
              "// Listen for the clearing of the current output cell\n",
              "var outputEl = gd.closest('.output');\n",
              "if (outputEl) {{\n",
              "    x.observe(outputEl, {childList: true});\n",
              "}}\n",
              "\n",
              "                        })                };                            </script>        </div>\n",
              "</body>\n",
              "</html>"
            ]
          },
          "metadata": {}
        }
      ]
    },
    {
      "cell_type": "markdown",
      "source": [
        "Among the clients with fiber optics internet, the percentage of churn is lower for clients with the connected tech support option"
      ],
      "metadata": {
        "id": "3LVSKceOmekx"
      }
    },
    {
      "cell_type": "code",
      "source": [
        "fig = px.pie(df.groupby(['TechSupport','Churn'])['customerID'].count().reset_index(),\n",
        "             values='customerID',\n",
        "             facet_col = 'Churn',\n",
        "             hole = .5,\n",
        "             names='TechSupport',\n",
        "            title = 'Tech support option and churn')\n",
        "fig.show()"
      ],
      "metadata": {
        "colab": {
          "base_uri": "https://localhost:8080/",
          "height": 542
        },
        "id": "QTC8Ho9LmaQ8",
        "outputId": "ef90f578-a82a-4a35-e402-059f6a6a6b95"
      },
      "execution_count": 93,
      "outputs": [
        {
          "output_type": "display_data",
          "data": {
            "text/html": [
              "<html>\n",
              "<head><meta charset=\"utf-8\" /></head>\n",
              "<body>\n",
              "    <div>            <script src=\"https://cdnjs.cloudflare.com/ajax/libs/mathjax/2.7.5/MathJax.js?config=TeX-AMS-MML_SVG\"></script><script type=\"text/javascript\">if (window.MathJax && window.MathJax.Hub && window.MathJax.Hub.Config) {window.MathJax.Hub.Config({SVG: {font: \"STIX-Web\"}});}</script>                <script type=\"text/javascript\">window.PlotlyConfig = {MathJaxConfig: 'local'};</script>\n",
              "        <script charset=\"utf-8\" src=\"https://cdn.plot.ly/plotly-2.24.1.min.js\"></script>                <div id=\"2aca0e09-d73e-4b6f-ab4f-096317d90936\" class=\"plotly-graph-div\" style=\"height:525px; width:100%;\"></div>            <script type=\"text/javascript\">                                    window.PLOTLYENV=window.PLOTLYENV || {};                                    if (document.getElementById(\"2aca0e09-d73e-4b6f-ab4f-096317d90936\")) {                    Plotly.newPlot(                        \"2aca0e09-d73e-4b6f-ab4f-096317d90936\",                        [{\"domain\":{\"x\":[0.0,0.49],\"y\":[0.0,1.0]},\"hole\":0.5,\"hovertemplate\":\"Churn=No\\u003cbr\\u003eTechSupport=%{label}\\u003cbr\\u003ecustomerID=%{value}\\u003cextra\\u003e\\u003c\\u002fextra\\u003e\",\"labels\":[\"No\",\"No internet service\",\"Yes\"],\"legendgroup\":\"\",\"name\":\"\",\"showlegend\":true,\"values\":[2027,1413,1734],\"type\":\"pie\"},{\"domain\":{\"x\":[0.51,1.0],\"y\":[0.0,1.0]},\"hole\":0.5,\"hovertemplate\":\"Churn=Yes\\u003cbr\\u003eTechSupport=%{label}\\u003cbr\\u003ecustomerID=%{value}\\u003cextra\\u003e\\u003c\\u002fextra\\u003e\",\"labels\":[\"No\",\"No internet service\",\"Yes\"],\"legendgroup\":\"\",\"name\":\"\",\"showlegend\":true,\"values\":[1446,113,310],\"type\":\"pie\"}],                        {\"template\":{\"data\":{\"histogram2dcontour\":[{\"type\":\"histogram2dcontour\",\"colorbar\":{\"outlinewidth\":0,\"ticks\":\"\"},\"colorscale\":[[0.0,\"#0d0887\"],[0.1111111111111111,\"#46039f\"],[0.2222222222222222,\"#7201a8\"],[0.3333333333333333,\"#9c179e\"],[0.4444444444444444,\"#bd3786\"],[0.5555555555555556,\"#d8576b\"],[0.6666666666666666,\"#ed7953\"],[0.7777777777777778,\"#fb9f3a\"],[0.8888888888888888,\"#fdca26\"],[1.0,\"#f0f921\"]]}],\"choropleth\":[{\"type\":\"choropleth\",\"colorbar\":{\"outlinewidth\":0,\"ticks\":\"\"}}],\"histogram2d\":[{\"type\":\"histogram2d\",\"colorbar\":{\"outlinewidth\":0,\"ticks\":\"\"},\"colorscale\":[[0.0,\"#0d0887\"],[0.1111111111111111,\"#46039f\"],[0.2222222222222222,\"#7201a8\"],[0.3333333333333333,\"#9c179e\"],[0.4444444444444444,\"#bd3786\"],[0.5555555555555556,\"#d8576b\"],[0.6666666666666666,\"#ed7953\"],[0.7777777777777778,\"#fb9f3a\"],[0.8888888888888888,\"#fdca26\"],[1.0,\"#f0f921\"]]}],\"heatmap\":[{\"type\":\"heatmap\",\"colorbar\":{\"outlinewidth\":0,\"ticks\":\"\"},\"colorscale\":[[0.0,\"#0d0887\"],[0.1111111111111111,\"#46039f\"],[0.2222222222222222,\"#7201a8\"],[0.3333333333333333,\"#9c179e\"],[0.4444444444444444,\"#bd3786\"],[0.5555555555555556,\"#d8576b\"],[0.6666666666666666,\"#ed7953\"],[0.7777777777777778,\"#fb9f3a\"],[0.8888888888888888,\"#fdca26\"],[1.0,\"#f0f921\"]]}],\"heatmapgl\":[{\"type\":\"heatmapgl\",\"colorbar\":{\"outlinewidth\":0,\"ticks\":\"\"},\"colorscale\":[[0.0,\"#0d0887\"],[0.1111111111111111,\"#46039f\"],[0.2222222222222222,\"#7201a8\"],[0.3333333333333333,\"#9c179e\"],[0.4444444444444444,\"#bd3786\"],[0.5555555555555556,\"#d8576b\"],[0.6666666666666666,\"#ed7953\"],[0.7777777777777778,\"#fb9f3a\"],[0.8888888888888888,\"#fdca26\"],[1.0,\"#f0f921\"]]}],\"contourcarpet\":[{\"type\":\"contourcarpet\",\"colorbar\":{\"outlinewidth\":0,\"ticks\":\"\"}}],\"contour\":[{\"type\":\"contour\",\"colorbar\":{\"outlinewidth\":0,\"ticks\":\"\"},\"colorscale\":[[0.0,\"#0d0887\"],[0.1111111111111111,\"#46039f\"],[0.2222222222222222,\"#7201a8\"],[0.3333333333333333,\"#9c179e\"],[0.4444444444444444,\"#bd3786\"],[0.5555555555555556,\"#d8576b\"],[0.6666666666666666,\"#ed7953\"],[0.7777777777777778,\"#fb9f3a\"],[0.8888888888888888,\"#fdca26\"],[1.0,\"#f0f921\"]]}],\"surface\":[{\"type\":\"surface\",\"colorbar\":{\"outlinewidth\":0,\"ticks\":\"\"},\"colorscale\":[[0.0,\"#0d0887\"],[0.1111111111111111,\"#46039f\"],[0.2222222222222222,\"#7201a8\"],[0.3333333333333333,\"#9c179e\"],[0.4444444444444444,\"#bd3786\"],[0.5555555555555556,\"#d8576b\"],[0.6666666666666666,\"#ed7953\"],[0.7777777777777778,\"#fb9f3a\"],[0.8888888888888888,\"#fdca26\"],[1.0,\"#f0f921\"]]}],\"mesh3d\":[{\"type\":\"mesh3d\",\"colorbar\":{\"outlinewidth\":0,\"ticks\":\"\"}}],\"scatter\":[{\"fillpattern\":{\"fillmode\":\"overlay\",\"size\":10,\"solidity\":0.2},\"type\":\"scatter\"}],\"parcoords\":[{\"type\":\"parcoords\",\"line\":{\"colorbar\":{\"outlinewidth\":0,\"ticks\":\"\"}}}],\"scatterpolargl\":[{\"type\":\"scatterpolargl\",\"marker\":{\"colorbar\":{\"outlinewidth\":0,\"ticks\":\"\"}}}],\"bar\":[{\"error_x\":{\"color\":\"#2a3f5f\"},\"error_y\":{\"color\":\"#2a3f5f\"},\"marker\":{\"line\":{\"color\":\"#E5ECF6\",\"width\":0.5},\"pattern\":{\"fillmode\":\"overlay\",\"size\":10,\"solidity\":0.2}},\"type\":\"bar\"}],\"scattergeo\":[{\"type\":\"scattergeo\",\"marker\":{\"colorbar\":{\"outlinewidth\":0,\"ticks\":\"\"}}}],\"scatterpolar\":[{\"type\":\"scatterpolar\",\"marker\":{\"colorbar\":{\"outlinewidth\":0,\"ticks\":\"\"}}}],\"histogram\":[{\"marker\":{\"pattern\":{\"fillmode\":\"overlay\",\"size\":10,\"solidity\":0.2}},\"type\":\"histogram\"}],\"scattergl\":[{\"type\":\"scattergl\",\"marker\":{\"colorbar\":{\"outlinewidth\":0,\"ticks\":\"\"}}}],\"scatter3d\":[{\"type\":\"scatter3d\",\"line\":{\"colorbar\":{\"outlinewidth\":0,\"ticks\":\"\"}},\"marker\":{\"colorbar\":{\"outlinewidth\":0,\"ticks\":\"\"}}}],\"scattermapbox\":[{\"type\":\"scattermapbox\",\"marker\":{\"colorbar\":{\"outlinewidth\":0,\"ticks\":\"\"}}}],\"scatterternary\":[{\"type\":\"scatterternary\",\"marker\":{\"colorbar\":{\"outlinewidth\":0,\"ticks\":\"\"}}}],\"scattercarpet\":[{\"type\":\"scattercarpet\",\"marker\":{\"colorbar\":{\"outlinewidth\":0,\"ticks\":\"\"}}}],\"carpet\":[{\"aaxis\":{\"endlinecolor\":\"#2a3f5f\",\"gridcolor\":\"white\",\"linecolor\":\"white\",\"minorgridcolor\":\"white\",\"startlinecolor\":\"#2a3f5f\"},\"baxis\":{\"endlinecolor\":\"#2a3f5f\",\"gridcolor\":\"white\",\"linecolor\":\"white\",\"minorgridcolor\":\"white\",\"startlinecolor\":\"#2a3f5f\"},\"type\":\"carpet\"}],\"table\":[{\"cells\":{\"fill\":{\"color\":\"#EBF0F8\"},\"line\":{\"color\":\"white\"}},\"header\":{\"fill\":{\"color\":\"#C8D4E3\"},\"line\":{\"color\":\"white\"}},\"type\":\"table\"}],\"barpolar\":[{\"marker\":{\"line\":{\"color\":\"#E5ECF6\",\"width\":0.5},\"pattern\":{\"fillmode\":\"overlay\",\"size\":10,\"solidity\":0.2}},\"type\":\"barpolar\"}],\"pie\":[{\"automargin\":true,\"type\":\"pie\"}]},\"layout\":{\"autotypenumbers\":\"strict\",\"colorway\":[\"#636efa\",\"#EF553B\",\"#00cc96\",\"#ab63fa\",\"#FFA15A\",\"#19d3f3\",\"#FF6692\",\"#B6E880\",\"#FF97FF\",\"#FECB52\"],\"font\":{\"color\":\"#2a3f5f\"},\"hovermode\":\"closest\",\"hoverlabel\":{\"align\":\"left\"},\"paper_bgcolor\":\"white\",\"plot_bgcolor\":\"#E5ECF6\",\"polar\":{\"bgcolor\":\"#E5ECF6\",\"angularaxis\":{\"gridcolor\":\"white\",\"linecolor\":\"white\",\"ticks\":\"\"},\"radialaxis\":{\"gridcolor\":\"white\",\"linecolor\":\"white\",\"ticks\":\"\"}},\"ternary\":{\"bgcolor\":\"#E5ECF6\",\"aaxis\":{\"gridcolor\":\"white\",\"linecolor\":\"white\",\"ticks\":\"\"},\"baxis\":{\"gridcolor\":\"white\",\"linecolor\":\"white\",\"ticks\":\"\"},\"caxis\":{\"gridcolor\":\"white\",\"linecolor\":\"white\",\"ticks\":\"\"}},\"coloraxis\":{\"colorbar\":{\"outlinewidth\":0,\"ticks\":\"\"}},\"colorscale\":{\"sequential\":[[0.0,\"#0d0887\"],[0.1111111111111111,\"#46039f\"],[0.2222222222222222,\"#7201a8\"],[0.3333333333333333,\"#9c179e\"],[0.4444444444444444,\"#bd3786\"],[0.5555555555555556,\"#d8576b\"],[0.6666666666666666,\"#ed7953\"],[0.7777777777777778,\"#fb9f3a\"],[0.8888888888888888,\"#fdca26\"],[1.0,\"#f0f921\"]],\"sequentialminus\":[[0.0,\"#0d0887\"],[0.1111111111111111,\"#46039f\"],[0.2222222222222222,\"#7201a8\"],[0.3333333333333333,\"#9c179e\"],[0.4444444444444444,\"#bd3786\"],[0.5555555555555556,\"#d8576b\"],[0.6666666666666666,\"#ed7953\"],[0.7777777777777778,\"#fb9f3a\"],[0.8888888888888888,\"#fdca26\"],[1.0,\"#f0f921\"]],\"diverging\":[[0,\"#8e0152\"],[0.1,\"#c51b7d\"],[0.2,\"#de77ae\"],[0.3,\"#f1b6da\"],[0.4,\"#fde0ef\"],[0.5,\"#f7f7f7\"],[0.6,\"#e6f5d0\"],[0.7,\"#b8e186\"],[0.8,\"#7fbc41\"],[0.9,\"#4d9221\"],[1,\"#276419\"]]},\"xaxis\":{\"gridcolor\":\"white\",\"linecolor\":\"white\",\"ticks\":\"\",\"title\":{\"standoff\":15},\"zerolinecolor\":\"white\",\"automargin\":true,\"zerolinewidth\":2},\"yaxis\":{\"gridcolor\":\"white\",\"linecolor\":\"white\",\"ticks\":\"\",\"title\":{\"standoff\":15},\"zerolinecolor\":\"white\",\"automargin\":true,\"zerolinewidth\":2},\"scene\":{\"xaxis\":{\"backgroundcolor\":\"#E5ECF6\",\"gridcolor\":\"white\",\"linecolor\":\"white\",\"showbackground\":true,\"ticks\":\"\",\"zerolinecolor\":\"white\",\"gridwidth\":2},\"yaxis\":{\"backgroundcolor\":\"#E5ECF6\",\"gridcolor\":\"white\",\"linecolor\":\"white\",\"showbackground\":true,\"ticks\":\"\",\"zerolinecolor\":\"white\",\"gridwidth\":2},\"zaxis\":{\"backgroundcolor\":\"#E5ECF6\",\"gridcolor\":\"white\",\"linecolor\":\"white\",\"showbackground\":true,\"ticks\":\"\",\"zerolinecolor\":\"white\",\"gridwidth\":2}},\"shapedefaults\":{\"line\":{\"color\":\"#2a3f5f\"}},\"annotationdefaults\":{\"arrowcolor\":\"#2a3f5f\",\"arrowhead\":0,\"arrowwidth\":1},\"geo\":{\"bgcolor\":\"white\",\"landcolor\":\"#E5ECF6\",\"subunitcolor\":\"white\",\"showland\":true,\"showlakes\":true,\"lakecolor\":\"white\"},\"title\":{\"x\":0.05},\"mapbox\":{\"style\":\"light\"}}},\"annotations\":[{\"font\":{},\"showarrow\":false,\"text\":\"Churn=No\",\"x\":0.245,\"xanchor\":\"center\",\"xref\":\"paper\",\"y\":1.0,\"yanchor\":\"bottom\",\"yref\":\"paper\"},{\"font\":{},\"showarrow\":false,\"text\":\"Churn=Yes\",\"x\":0.755,\"xanchor\":\"center\",\"xref\":\"paper\",\"y\":1.0,\"yanchor\":\"bottom\",\"yref\":\"paper\"}],\"legend\":{\"tracegroupgap\":0},\"title\":{\"text\":\"Tech support option and churn\"}},                        {\"responsive\": true}                    ).then(function(){\n",
              "                            \n",
              "var gd = document.getElementById('2aca0e09-d73e-4b6f-ab4f-096317d90936');\n",
              "var x = new MutationObserver(function (mutations, observer) {{\n",
              "        var display = window.getComputedStyle(gd).display;\n",
              "        if (!display || display === 'none') {{\n",
              "            console.log([gd, 'removed!']);\n",
              "            Plotly.purge(gd);\n",
              "            observer.disconnect();\n",
              "        }}\n",
              "}});\n",
              "\n",
              "// Listen for the removal of the full notebook cells\n",
              "var notebookContainer = gd.closest('#notebook-container');\n",
              "if (notebookContainer) {{\n",
              "    x.observe(notebookContainer, {childList: true});\n",
              "}}\n",
              "\n",
              "// Listen for the clearing of the current output cell\n",
              "var outputEl = gd.closest('.output');\n",
              "if (outputEl) {{\n",
              "    x.observe(outputEl, {childList: true});\n",
              "}}\n",
              "\n",
              "                        })                };                            </script>        </div>\n",
              "</body>\n",
              "</html>"
            ]
          },
          "metadata": {}
        }
      ]
    },
    {
      "cell_type": "markdown",
      "source": [
        "77.5% of the customers who left the service did not have the tech support option enabled\n",
        "\n",
        "**Online Security**"
      ],
      "metadata": {
        "id": "SbgMlvaSm8w0"
      }
    },
    {
      "cell_type": "code",
      "source": [
        "fig = px.bar(df.groupby(['InternetService','OnlineSecurity',\n",
        "                                                'Churn'])['customerID'].count().reset_index(),\n",
        "             x=\"InternetService\",\n",
        "             y=\"customerID\",\n",
        "             color=\"Churn\",\n",
        "             #barmode=\"group\",\n",
        "             text = 'customerID',\n",
        "             facet_col = 'OnlineSecurity'\n",
        "            )\n",
        "fig.show()\n"
      ],
      "metadata": {
        "colab": {
          "base_uri": "https://localhost:8080/",
          "height": 542
        },
        "id": "Ka7_2DjunPrA",
        "outputId": "6bbcd71a-8c00-4eb4-a3b9-ea2b6f60ea96"
      },
      "execution_count": 94,
      "outputs": [
        {
          "output_type": "display_data",
          "data": {
            "text/html": [
              "<html>\n",
              "<head><meta charset=\"utf-8\" /></head>\n",
              "<body>\n",
              "    <div>            <script src=\"https://cdnjs.cloudflare.com/ajax/libs/mathjax/2.7.5/MathJax.js?config=TeX-AMS-MML_SVG\"></script><script type=\"text/javascript\">if (window.MathJax && window.MathJax.Hub && window.MathJax.Hub.Config) {window.MathJax.Hub.Config({SVG: {font: \"STIX-Web\"}});}</script>                <script type=\"text/javascript\">window.PlotlyConfig = {MathJaxConfig: 'local'};</script>\n",
              "        <script charset=\"utf-8\" src=\"https://cdn.plot.ly/plotly-2.24.1.min.js\"></script>                <div id=\"449f5c50-4bdd-4f68-a49a-a396036b0421\" class=\"plotly-graph-div\" style=\"height:525px; width:100%;\"></div>            <script type=\"text/javascript\">                                    window.PLOTLYENV=window.PLOTLYENV || {};                                    if (document.getElementById(\"449f5c50-4bdd-4f68-a49a-a396036b0421\")) {                    Plotly.newPlot(                        \"449f5c50-4bdd-4f68-a49a-a396036b0421\",                        [{\"alignmentgroup\":\"True\",\"hovertemplate\":\"Churn=No\\u003cbr\\u003eOnlineSecurity=No\\u003cbr\\u003eInternetService=%{x}\\u003cbr\\u003ecustomerID=%{text}\\u003cextra\\u003e\\u003c\\u002fextra\\u003e\",\"legendgroup\":\"No\",\"marker\":{\"color\":\"#636efa\",\"pattern\":{\"shape\":\"\"}},\"name\":\"No\",\"offsetgroup\":\"No\",\"orientation\":\"v\",\"showlegend\":true,\"text\":[894.0,1143.0],\"textposition\":\"auto\",\"x\":[\"DSL\",\"Fiber optic\"],\"xaxis\":\"x\",\"y\":[894,1143],\"yaxis\":\"y\",\"type\":\"bar\"},{\"alignmentgroup\":\"True\",\"hovertemplate\":\"Churn=No\\u003cbr\\u003eOnlineSecurity=Yes\\u003cbr\\u003eInternetService=%{x}\\u003cbr\\u003ecustomerID=%{text}\\u003cextra\\u003e\\u003c\\u002fextra\\u003e\",\"legendgroup\":\"No\",\"marker\":{\"color\":\"#636efa\",\"pattern\":{\"shape\":\"\"}},\"name\":\"No\",\"offsetgroup\":\"No\",\"orientation\":\"v\",\"showlegend\":false,\"text\":[1068.0,656.0],\"textposition\":\"auto\",\"x\":[\"DSL\",\"Fiber optic\"],\"xaxis\":\"x2\",\"y\":[1068,656],\"yaxis\":\"y2\",\"type\":\"bar\"},{\"alignmentgroup\":\"True\",\"hovertemplate\":\"Churn=No\\u003cbr\\u003eOnlineSecurity=No internet service\\u003cbr\\u003eInternetService=%{x}\\u003cbr\\u003ecustomerID=%{text}\\u003cextra\\u003e\\u003c\\u002fextra\\u003e\",\"legendgroup\":\"No\",\"marker\":{\"color\":\"#636efa\",\"pattern\":{\"shape\":\"\"}},\"name\":\"No\",\"offsetgroup\":\"No\",\"orientation\":\"v\",\"showlegend\":false,\"text\":[1413.0],\"textposition\":\"auto\",\"x\":[\"No\"],\"xaxis\":\"x3\",\"y\":[1413],\"yaxis\":\"y3\",\"type\":\"bar\"},{\"alignmentgroup\":\"True\",\"hovertemplate\":\"Churn=Yes\\u003cbr\\u003eOnlineSecurity=No\\u003cbr\\u003eInternetService=%{x}\\u003cbr\\u003ecustomerID=%{text}\\u003cextra\\u003e\\u003c\\u002fextra\\u003e\",\"legendgroup\":\"Yes\",\"marker\":{\"color\":\"#EF553B\",\"pattern\":{\"shape\":\"\"}},\"name\":\"Yes\",\"offsetgroup\":\"Yes\",\"orientation\":\"v\",\"showlegend\":true,\"text\":[347.0,1114.0],\"textposition\":\"auto\",\"x\":[\"DSL\",\"Fiber optic\"],\"xaxis\":\"x\",\"y\":[347,1114],\"yaxis\":\"y\",\"type\":\"bar\"},{\"alignmentgroup\":\"True\",\"hovertemplate\":\"Churn=Yes\\u003cbr\\u003eOnlineSecurity=Yes\\u003cbr\\u003eInternetService=%{x}\\u003cbr\\u003ecustomerID=%{text}\\u003cextra\\u003e\\u003c\\u002fextra\\u003e\",\"legendgroup\":\"Yes\",\"marker\":{\"color\":\"#EF553B\",\"pattern\":{\"shape\":\"\"}},\"name\":\"Yes\",\"offsetgroup\":\"Yes\",\"orientation\":\"v\",\"showlegend\":false,\"text\":[112.0,183.0],\"textposition\":\"auto\",\"x\":[\"DSL\",\"Fiber optic\"],\"xaxis\":\"x2\",\"y\":[112,183],\"yaxis\":\"y2\",\"type\":\"bar\"},{\"alignmentgroup\":\"True\",\"hovertemplate\":\"Churn=Yes\\u003cbr\\u003eOnlineSecurity=No internet service\\u003cbr\\u003eInternetService=%{x}\\u003cbr\\u003ecustomerID=%{text}\\u003cextra\\u003e\\u003c\\u002fextra\\u003e\",\"legendgroup\":\"Yes\",\"marker\":{\"color\":\"#EF553B\",\"pattern\":{\"shape\":\"\"}},\"name\":\"Yes\",\"offsetgroup\":\"Yes\",\"orientation\":\"v\",\"showlegend\":false,\"text\":[113.0],\"textposition\":\"auto\",\"x\":[\"No\"],\"xaxis\":\"x3\",\"y\":[113],\"yaxis\":\"y3\",\"type\":\"bar\"}],                        {\"template\":{\"data\":{\"histogram2dcontour\":[{\"type\":\"histogram2dcontour\",\"colorbar\":{\"outlinewidth\":0,\"ticks\":\"\"},\"colorscale\":[[0.0,\"#0d0887\"],[0.1111111111111111,\"#46039f\"],[0.2222222222222222,\"#7201a8\"],[0.3333333333333333,\"#9c179e\"],[0.4444444444444444,\"#bd3786\"],[0.5555555555555556,\"#d8576b\"],[0.6666666666666666,\"#ed7953\"],[0.7777777777777778,\"#fb9f3a\"],[0.8888888888888888,\"#fdca26\"],[1.0,\"#f0f921\"]]}],\"choropleth\":[{\"type\":\"choropleth\",\"colorbar\":{\"outlinewidth\":0,\"ticks\":\"\"}}],\"histogram2d\":[{\"type\":\"histogram2d\",\"colorbar\":{\"outlinewidth\":0,\"ticks\":\"\"},\"colorscale\":[[0.0,\"#0d0887\"],[0.1111111111111111,\"#46039f\"],[0.2222222222222222,\"#7201a8\"],[0.3333333333333333,\"#9c179e\"],[0.4444444444444444,\"#bd3786\"],[0.5555555555555556,\"#d8576b\"],[0.6666666666666666,\"#ed7953\"],[0.7777777777777778,\"#fb9f3a\"],[0.8888888888888888,\"#fdca26\"],[1.0,\"#f0f921\"]]}],\"heatmap\":[{\"type\":\"heatmap\",\"colorbar\":{\"outlinewidth\":0,\"ticks\":\"\"},\"colorscale\":[[0.0,\"#0d0887\"],[0.1111111111111111,\"#46039f\"],[0.2222222222222222,\"#7201a8\"],[0.3333333333333333,\"#9c179e\"],[0.4444444444444444,\"#bd3786\"],[0.5555555555555556,\"#d8576b\"],[0.6666666666666666,\"#ed7953\"],[0.7777777777777778,\"#fb9f3a\"],[0.8888888888888888,\"#fdca26\"],[1.0,\"#f0f921\"]]}],\"heatmapgl\":[{\"type\":\"heatmapgl\",\"colorbar\":{\"outlinewidth\":0,\"ticks\":\"\"},\"colorscale\":[[0.0,\"#0d0887\"],[0.1111111111111111,\"#46039f\"],[0.2222222222222222,\"#7201a8\"],[0.3333333333333333,\"#9c179e\"],[0.4444444444444444,\"#bd3786\"],[0.5555555555555556,\"#d8576b\"],[0.6666666666666666,\"#ed7953\"],[0.7777777777777778,\"#fb9f3a\"],[0.8888888888888888,\"#fdca26\"],[1.0,\"#f0f921\"]]}],\"contourcarpet\":[{\"type\":\"contourcarpet\",\"colorbar\":{\"outlinewidth\":0,\"ticks\":\"\"}}],\"contour\":[{\"type\":\"contour\",\"colorbar\":{\"outlinewidth\":0,\"ticks\":\"\"},\"colorscale\":[[0.0,\"#0d0887\"],[0.1111111111111111,\"#46039f\"],[0.2222222222222222,\"#7201a8\"],[0.3333333333333333,\"#9c179e\"],[0.4444444444444444,\"#bd3786\"],[0.5555555555555556,\"#d8576b\"],[0.6666666666666666,\"#ed7953\"],[0.7777777777777778,\"#fb9f3a\"],[0.8888888888888888,\"#fdca26\"],[1.0,\"#f0f921\"]]}],\"surface\":[{\"type\":\"surface\",\"colorbar\":{\"outlinewidth\":0,\"ticks\":\"\"},\"colorscale\":[[0.0,\"#0d0887\"],[0.1111111111111111,\"#46039f\"],[0.2222222222222222,\"#7201a8\"],[0.3333333333333333,\"#9c179e\"],[0.4444444444444444,\"#bd3786\"],[0.5555555555555556,\"#d8576b\"],[0.6666666666666666,\"#ed7953\"],[0.7777777777777778,\"#fb9f3a\"],[0.8888888888888888,\"#fdca26\"],[1.0,\"#f0f921\"]]}],\"mesh3d\":[{\"type\":\"mesh3d\",\"colorbar\":{\"outlinewidth\":0,\"ticks\":\"\"}}],\"scatter\":[{\"fillpattern\":{\"fillmode\":\"overlay\",\"size\":10,\"solidity\":0.2},\"type\":\"scatter\"}],\"parcoords\":[{\"type\":\"parcoords\",\"line\":{\"colorbar\":{\"outlinewidth\":0,\"ticks\":\"\"}}}],\"scatterpolargl\":[{\"type\":\"scatterpolargl\",\"marker\":{\"colorbar\":{\"outlinewidth\":0,\"ticks\":\"\"}}}],\"bar\":[{\"error_x\":{\"color\":\"#2a3f5f\"},\"error_y\":{\"color\":\"#2a3f5f\"},\"marker\":{\"line\":{\"color\":\"#E5ECF6\",\"width\":0.5},\"pattern\":{\"fillmode\":\"overlay\",\"size\":10,\"solidity\":0.2}},\"type\":\"bar\"}],\"scattergeo\":[{\"type\":\"scattergeo\",\"marker\":{\"colorbar\":{\"outlinewidth\":0,\"ticks\":\"\"}}}],\"scatterpolar\":[{\"type\":\"scatterpolar\",\"marker\":{\"colorbar\":{\"outlinewidth\":0,\"ticks\":\"\"}}}],\"histogram\":[{\"marker\":{\"pattern\":{\"fillmode\":\"overlay\",\"size\":10,\"solidity\":0.2}},\"type\":\"histogram\"}],\"scattergl\":[{\"type\":\"scattergl\",\"marker\":{\"colorbar\":{\"outlinewidth\":0,\"ticks\":\"\"}}}],\"scatter3d\":[{\"type\":\"scatter3d\",\"line\":{\"colorbar\":{\"outlinewidth\":0,\"ticks\":\"\"}},\"marker\":{\"colorbar\":{\"outlinewidth\":0,\"ticks\":\"\"}}}],\"scattermapbox\":[{\"type\":\"scattermapbox\",\"marker\":{\"colorbar\":{\"outlinewidth\":0,\"ticks\":\"\"}}}],\"scatterternary\":[{\"type\":\"scatterternary\",\"marker\":{\"colorbar\":{\"outlinewidth\":0,\"ticks\":\"\"}}}],\"scattercarpet\":[{\"type\":\"scattercarpet\",\"marker\":{\"colorbar\":{\"outlinewidth\":0,\"ticks\":\"\"}}}],\"carpet\":[{\"aaxis\":{\"endlinecolor\":\"#2a3f5f\",\"gridcolor\":\"white\",\"linecolor\":\"white\",\"minorgridcolor\":\"white\",\"startlinecolor\":\"#2a3f5f\"},\"baxis\":{\"endlinecolor\":\"#2a3f5f\",\"gridcolor\":\"white\",\"linecolor\":\"white\",\"minorgridcolor\":\"white\",\"startlinecolor\":\"#2a3f5f\"},\"type\":\"carpet\"}],\"table\":[{\"cells\":{\"fill\":{\"color\":\"#EBF0F8\"},\"line\":{\"color\":\"white\"}},\"header\":{\"fill\":{\"color\":\"#C8D4E3\"},\"line\":{\"color\":\"white\"}},\"type\":\"table\"}],\"barpolar\":[{\"marker\":{\"line\":{\"color\":\"#E5ECF6\",\"width\":0.5},\"pattern\":{\"fillmode\":\"overlay\",\"size\":10,\"solidity\":0.2}},\"type\":\"barpolar\"}],\"pie\":[{\"automargin\":true,\"type\":\"pie\"}]},\"layout\":{\"autotypenumbers\":\"strict\",\"colorway\":[\"#636efa\",\"#EF553B\",\"#00cc96\",\"#ab63fa\",\"#FFA15A\",\"#19d3f3\",\"#FF6692\",\"#B6E880\",\"#FF97FF\",\"#FECB52\"],\"font\":{\"color\":\"#2a3f5f\"},\"hovermode\":\"closest\",\"hoverlabel\":{\"align\":\"left\"},\"paper_bgcolor\":\"white\",\"plot_bgcolor\":\"#E5ECF6\",\"polar\":{\"bgcolor\":\"#E5ECF6\",\"angularaxis\":{\"gridcolor\":\"white\",\"linecolor\":\"white\",\"ticks\":\"\"},\"radialaxis\":{\"gridcolor\":\"white\",\"linecolor\":\"white\",\"ticks\":\"\"}},\"ternary\":{\"bgcolor\":\"#E5ECF6\",\"aaxis\":{\"gridcolor\":\"white\",\"linecolor\":\"white\",\"ticks\":\"\"},\"baxis\":{\"gridcolor\":\"white\",\"linecolor\":\"white\",\"ticks\":\"\"},\"caxis\":{\"gridcolor\":\"white\",\"linecolor\":\"white\",\"ticks\":\"\"}},\"coloraxis\":{\"colorbar\":{\"outlinewidth\":0,\"ticks\":\"\"}},\"colorscale\":{\"sequential\":[[0.0,\"#0d0887\"],[0.1111111111111111,\"#46039f\"],[0.2222222222222222,\"#7201a8\"],[0.3333333333333333,\"#9c179e\"],[0.4444444444444444,\"#bd3786\"],[0.5555555555555556,\"#d8576b\"],[0.6666666666666666,\"#ed7953\"],[0.7777777777777778,\"#fb9f3a\"],[0.8888888888888888,\"#fdca26\"],[1.0,\"#f0f921\"]],\"sequentialminus\":[[0.0,\"#0d0887\"],[0.1111111111111111,\"#46039f\"],[0.2222222222222222,\"#7201a8\"],[0.3333333333333333,\"#9c179e\"],[0.4444444444444444,\"#bd3786\"],[0.5555555555555556,\"#d8576b\"],[0.6666666666666666,\"#ed7953\"],[0.7777777777777778,\"#fb9f3a\"],[0.8888888888888888,\"#fdca26\"],[1.0,\"#f0f921\"]],\"diverging\":[[0,\"#8e0152\"],[0.1,\"#c51b7d\"],[0.2,\"#de77ae\"],[0.3,\"#f1b6da\"],[0.4,\"#fde0ef\"],[0.5,\"#f7f7f7\"],[0.6,\"#e6f5d0\"],[0.7,\"#b8e186\"],[0.8,\"#7fbc41\"],[0.9,\"#4d9221\"],[1,\"#276419\"]]},\"xaxis\":{\"gridcolor\":\"white\",\"linecolor\":\"white\",\"ticks\":\"\",\"title\":{\"standoff\":15},\"zerolinecolor\":\"white\",\"automargin\":true,\"zerolinewidth\":2},\"yaxis\":{\"gridcolor\":\"white\",\"linecolor\":\"white\",\"ticks\":\"\",\"title\":{\"standoff\":15},\"zerolinecolor\":\"white\",\"automargin\":true,\"zerolinewidth\":2},\"scene\":{\"xaxis\":{\"backgroundcolor\":\"#E5ECF6\",\"gridcolor\":\"white\",\"linecolor\":\"white\",\"showbackground\":true,\"ticks\":\"\",\"zerolinecolor\":\"white\",\"gridwidth\":2},\"yaxis\":{\"backgroundcolor\":\"#E5ECF6\",\"gridcolor\":\"white\",\"linecolor\":\"white\",\"showbackground\":true,\"ticks\":\"\",\"zerolinecolor\":\"white\",\"gridwidth\":2},\"zaxis\":{\"backgroundcolor\":\"#E5ECF6\",\"gridcolor\":\"white\",\"linecolor\":\"white\",\"showbackground\":true,\"ticks\":\"\",\"zerolinecolor\":\"white\",\"gridwidth\":2}},\"shapedefaults\":{\"line\":{\"color\":\"#2a3f5f\"}},\"annotationdefaults\":{\"arrowcolor\":\"#2a3f5f\",\"arrowhead\":0,\"arrowwidth\":1},\"geo\":{\"bgcolor\":\"white\",\"landcolor\":\"#E5ECF6\",\"subunitcolor\":\"white\",\"showland\":true,\"showlakes\":true,\"lakecolor\":\"white\"},\"title\":{\"x\":0.05},\"mapbox\":{\"style\":\"light\"}}},\"xaxis\":{\"anchor\":\"y\",\"domain\":[0.0,0.31999999999999995],\"title\":{\"text\":\"InternetService\"}},\"yaxis\":{\"anchor\":\"x\",\"domain\":[0.0,1.0],\"title\":{\"text\":\"customerID\"}},\"xaxis2\":{\"anchor\":\"y2\",\"domain\":[0.33999999999999997,0.6599999999999999],\"matches\":\"x\",\"title\":{\"text\":\"InternetService\"}},\"yaxis2\":{\"anchor\":\"x2\",\"domain\":[0.0,1.0],\"matches\":\"y\",\"showticklabels\":false},\"xaxis3\":{\"anchor\":\"y3\",\"domain\":[0.6799999999999999,0.9999999999999999],\"matches\":\"x\",\"title\":{\"text\":\"InternetService\"}},\"yaxis3\":{\"anchor\":\"x3\",\"domain\":[0.0,1.0],\"matches\":\"y\",\"showticklabels\":false},\"annotations\":[{\"font\":{},\"showarrow\":false,\"text\":\"OnlineSecurity=No\",\"x\":0.15999999999999998,\"xanchor\":\"center\",\"xref\":\"paper\",\"y\":1.0,\"yanchor\":\"bottom\",\"yref\":\"paper\"},{\"font\":{},\"showarrow\":false,\"text\":\"OnlineSecurity=Yes\",\"x\":0.49999999999999994,\"xanchor\":\"center\",\"xref\":\"paper\",\"y\":1.0,\"yanchor\":\"bottom\",\"yref\":\"paper\"},{\"font\":{},\"showarrow\":false,\"text\":\"OnlineSecurity=No internet service\",\"x\":0.8399999999999999,\"xanchor\":\"center\",\"xref\":\"paper\",\"y\":1.0,\"yanchor\":\"bottom\",\"yref\":\"paper\"}],\"legend\":{\"title\":{\"text\":\"Churn\"},\"tracegroupgap\":0},\"margin\":{\"t\":60},\"barmode\":\"relative\"},                        {\"responsive\": true}                    ).then(function(){\n",
              "                            \n",
              "var gd = document.getElementById('449f5c50-4bdd-4f68-a49a-a396036b0421');\n",
              "var x = new MutationObserver(function (mutations, observer) {{\n",
              "        var display = window.getComputedStyle(gd).display;\n",
              "        if (!display || display === 'none') {{\n",
              "            console.log([gd, 'removed!']);\n",
              "            Plotly.purge(gd);\n",
              "            observer.disconnect();\n",
              "        }}\n",
              "}});\n",
              "\n",
              "// Listen for the removal of the full notebook cells\n",
              "var notebookContainer = gd.closest('#notebook-container');\n",
              "if (notebookContainer) {{\n",
              "    x.observe(notebookContainer, {childList: true});\n",
              "}}\n",
              "\n",
              "// Listen for the clearing of the current output cell\n",
              "var outputEl = gd.closest('.output');\n",
              "if (outputEl) {{\n",
              "    x.observe(outputEl, {childList: true});\n",
              "}}\n",
              "\n",
              "                        })                };                            </script>        </div>\n",
              "</body>\n",
              "</html>"
            ]
          },
          "metadata": {}
        }
      ]
    },
    {
      "cell_type": "markdown",
      "source": [
        "* The lowest churn rate among customers without Internet services (but there are fewer such customers)\n",
        "\n",
        "* 69.2% of the clients in the churn were connected to the fiber optic Internet\n",
        "\n",
        "* The absence of connected technical support and online security options correlates with the churn variable"
      ],
      "metadata": {
        "id": "1iKsY3o-nutL"
      }
    },
    {
      "cell_type": "markdown",
      "source": [
        "#### Customer's payment method"
      ],
      "metadata": {
        "id": "5RGZV5K_oHIC"
      }
    },
    {
      "cell_type": "code",
      "source": [
        "df.info()"
      ],
      "metadata": {
        "colab": {
          "base_uri": "https://localhost:8080/"
        },
        "id": "uqZngBTDpLQg",
        "outputId": "2fbffb35-5891-4801-d455-01b821265925"
      },
      "execution_count": 95,
      "outputs": [
        {
          "output_type": "stream",
          "name": "stdout",
          "text": [
            "<class 'pandas.core.frame.DataFrame'>\n",
            "RangeIndex: 7043 entries, 0 to 7042\n",
            "Data columns (total 21 columns):\n",
            " #   Column            Non-Null Count  Dtype  \n",
            "---  ------            --------------  -----  \n",
            " 0   customerID        7043 non-null   object \n",
            " 1   gender            7043 non-null   object \n",
            " 2   SeniorCitizen     7043 non-null   int64  \n",
            " 3   Partner           7043 non-null   object \n",
            " 4   Dependents        7043 non-null   object \n",
            " 5   tenure            7043 non-null   int64  \n",
            " 6   PhoneService      7043 non-null   object \n",
            " 7   MultipleLines     7043 non-null   object \n",
            " 8   InternetService   7043 non-null   object \n",
            " 9   OnlineSecurity    7043 non-null   object \n",
            " 10  OnlineBackup      7043 non-null   object \n",
            " 11  DeviceProtection  7043 non-null   object \n",
            " 12  TechSupport       7043 non-null   object \n",
            " 13  StreamingTV       7043 non-null   object \n",
            " 14  StreamingMovies   7043 non-null   object \n",
            " 15  Contract          7043 non-null   object \n",
            " 16  PaperlessBilling  7043 non-null   object \n",
            " 17  PaymentMethod     7043 non-null   object \n",
            " 18  MonthlyCharges    7043 non-null   float64\n",
            " 19  TotalCharges      7032 non-null   object \n",
            " 20  Churn             7043 non-null   object \n",
            "dtypes: float64(1), int64(2), object(18)\n",
            "memory usage: 1.1+ MB\n"
          ]
        }
      ]
    },
    {
      "cell_type": "code",
      "source": [
        "fig = px.bar(df.groupby(['PaymentMethod',\n",
        "                                                'Churn'])['customerID'].count().reset_index(),\n",
        "             x=\"customerID\",\n",
        "             y=\"PaymentMethod\",\n",
        "             color=\"Churn\",\n",
        "             text = 'customerID'\n",
        "            )\n",
        "fig.show()\n"
      ],
      "metadata": {
        "colab": {
          "base_uri": "https://localhost:8080/",
          "height": 542
        },
        "id": "m7-wNogonuKZ",
        "outputId": "188f0a03-15de-41ab-b870-086b376f78ad"
      },
      "execution_count": 96,
      "outputs": [
        {
          "output_type": "display_data",
          "data": {
            "text/html": [
              "<html>\n",
              "<head><meta charset=\"utf-8\" /></head>\n",
              "<body>\n",
              "    <div>            <script src=\"https://cdnjs.cloudflare.com/ajax/libs/mathjax/2.7.5/MathJax.js?config=TeX-AMS-MML_SVG\"></script><script type=\"text/javascript\">if (window.MathJax && window.MathJax.Hub && window.MathJax.Hub.Config) {window.MathJax.Hub.Config({SVG: {font: \"STIX-Web\"}});}</script>                <script type=\"text/javascript\">window.PlotlyConfig = {MathJaxConfig: 'local'};</script>\n",
              "        <script charset=\"utf-8\" src=\"https://cdn.plot.ly/plotly-2.24.1.min.js\"></script>                <div id=\"030c91f8-afc7-4a6d-87b7-936ec91a2a95\" class=\"plotly-graph-div\" style=\"height:525px; width:100%;\"></div>            <script type=\"text/javascript\">                                    window.PLOTLYENV=window.PLOTLYENV || {};                                    if (document.getElementById(\"030c91f8-afc7-4a6d-87b7-936ec91a2a95\")) {                    Plotly.newPlot(                        \"030c91f8-afc7-4a6d-87b7-936ec91a2a95\",                        [{\"alignmentgroup\":\"True\",\"hovertemplate\":\"Churn=No\\u003cbr\\u003ecustomerID=%{text}\\u003cbr\\u003ePaymentMethod=%{y}\\u003cextra\\u003e\\u003c\\u002fextra\\u003e\",\"legendgroup\":\"No\",\"marker\":{\"color\":\"#636efa\",\"pattern\":{\"shape\":\"\"}},\"name\":\"No\",\"offsetgroup\":\"No\",\"orientation\":\"h\",\"showlegend\":true,\"text\":[1286.0,1290.0,1294.0,1304.0],\"textposition\":\"auto\",\"x\":[1286,1290,1294,1304],\"xaxis\":\"x\",\"y\":[\"Bank transfer (automatic)\",\"Credit card (automatic)\",\"Electronic check\",\"Mailed check\"],\"yaxis\":\"y\",\"type\":\"bar\"},{\"alignmentgroup\":\"True\",\"hovertemplate\":\"Churn=Yes\\u003cbr\\u003ecustomerID=%{text}\\u003cbr\\u003ePaymentMethod=%{y}\\u003cextra\\u003e\\u003c\\u002fextra\\u003e\",\"legendgroup\":\"Yes\",\"marker\":{\"color\":\"#EF553B\",\"pattern\":{\"shape\":\"\"}},\"name\":\"Yes\",\"offsetgroup\":\"Yes\",\"orientation\":\"h\",\"showlegend\":true,\"text\":[258.0,232.0,1071.0,308.0],\"textposition\":\"auto\",\"x\":[258,232,1071,308],\"xaxis\":\"x\",\"y\":[\"Bank transfer (automatic)\",\"Credit card (automatic)\",\"Electronic check\",\"Mailed check\"],\"yaxis\":\"y\",\"type\":\"bar\"}],                        {\"template\":{\"data\":{\"histogram2dcontour\":[{\"type\":\"histogram2dcontour\",\"colorbar\":{\"outlinewidth\":0,\"ticks\":\"\"},\"colorscale\":[[0.0,\"#0d0887\"],[0.1111111111111111,\"#46039f\"],[0.2222222222222222,\"#7201a8\"],[0.3333333333333333,\"#9c179e\"],[0.4444444444444444,\"#bd3786\"],[0.5555555555555556,\"#d8576b\"],[0.6666666666666666,\"#ed7953\"],[0.7777777777777778,\"#fb9f3a\"],[0.8888888888888888,\"#fdca26\"],[1.0,\"#f0f921\"]]}],\"choropleth\":[{\"type\":\"choropleth\",\"colorbar\":{\"outlinewidth\":0,\"ticks\":\"\"}}],\"histogram2d\":[{\"type\":\"histogram2d\",\"colorbar\":{\"outlinewidth\":0,\"ticks\":\"\"},\"colorscale\":[[0.0,\"#0d0887\"],[0.1111111111111111,\"#46039f\"],[0.2222222222222222,\"#7201a8\"],[0.3333333333333333,\"#9c179e\"],[0.4444444444444444,\"#bd3786\"],[0.5555555555555556,\"#d8576b\"],[0.6666666666666666,\"#ed7953\"],[0.7777777777777778,\"#fb9f3a\"],[0.8888888888888888,\"#fdca26\"],[1.0,\"#f0f921\"]]}],\"heatmap\":[{\"type\":\"heatmap\",\"colorbar\":{\"outlinewidth\":0,\"ticks\":\"\"},\"colorscale\":[[0.0,\"#0d0887\"],[0.1111111111111111,\"#46039f\"],[0.2222222222222222,\"#7201a8\"],[0.3333333333333333,\"#9c179e\"],[0.4444444444444444,\"#bd3786\"],[0.5555555555555556,\"#d8576b\"],[0.6666666666666666,\"#ed7953\"],[0.7777777777777778,\"#fb9f3a\"],[0.8888888888888888,\"#fdca26\"],[1.0,\"#f0f921\"]]}],\"heatmapgl\":[{\"type\":\"heatmapgl\",\"colorbar\":{\"outlinewidth\":0,\"ticks\":\"\"},\"colorscale\":[[0.0,\"#0d0887\"],[0.1111111111111111,\"#46039f\"],[0.2222222222222222,\"#7201a8\"],[0.3333333333333333,\"#9c179e\"],[0.4444444444444444,\"#bd3786\"],[0.5555555555555556,\"#d8576b\"],[0.6666666666666666,\"#ed7953\"],[0.7777777777777778,\"#fb9f3a\"],[0.8888888888888888,\"#fdca26\"],[1.0,\"#f0f921\"]]}],\"contourcarpet\":[{\"type\":\"contourcarpet\",\"colorbar\":{\"outlinewidth\":0,\"ticks\":\"\"}}],\"contour\":[{\"type\":\"contour\",\"colorbar\":{\"outlinewidth\":0,\"ticks\":\"\"},\"colorscale\":[[0.0,\"#0d0887\"],[0.1111111111111111,\"#46039f\"],[0.2222222222222222,\"#7201a8\"],[0.3333333333333333,\"#9c179e\"],[0.4444444444444444,\"#bd3786\"],[0.5555555555555556,\"#d8576b\"],[0.6666666666666666,\"#ed7953\"],[0.7777777777777778,\"#fb9f3a\"],[0.8888888888888888,\"#fdca26\"],[1.0,\"#f0f921\"]]}],\"surface\":[{\"type\":\"surface\",\"colorbar\":{\"outlinewidth\":0,\"ticks\":\"\"},\"colorscale\":[[0.0,\"#0d0887\"],[0.1111111111111111,\"#46039f\"],[0.2222222222222222,\"#7201a8\"],[0.3333333333333333,\"#9c179e\"],[0.4444444444444444,\"#bd3786\"],[0.5555555555555556,\"#d8576b\"],[0.6666666666666666,\"#ed7953\"],[0.7777777777777778,\"#fb9f3a\"],[0.8888888888888888,\"#fdca26\"],[1.0,\"#f0f921\"]]}],\"mesh3d\":[{\"type\":\"mesh3d\",\"colorbar\":{\"outlinewidth\":0,\"ticks\":\"\"}}],\"scatter\":[{\"fillpattern\":{\"fillmode\":\"overlay\",\"size\":10,\"solidity\":0.2},\"type\":\"scatter\"}],\"parcoords\":[{\"type\":\"parcoords\",\"line\":{\"colorbar\":{\"outlinewidth\":0,\"ticks\":\"\"}}}],\"scatterpolargl\":[{\"type\":\"scatterpolargl\",\"marker\":{\"colorbar\":{\"outlinewidth\":0,\"ticks\":\"\"}}}],\"bar\":[{\"error_x\":{\"color\":\"#2a3f5f\"},\"error_y\":{\"color\":\"#2a3f5f\"},\"marker\":{\"line\":{\"color\":\"#E5ECF6\",\"width\":0.5},\"pattern\":{\"fillmode\":\"overlay\",\"size\":10,\"solidity\":0.2}},\"type\":\"bar\"}],\"scattergeo\":[{\"type\":\"scattergeo\",\"marker\":{\"colorbar\":{\"outlinewidth\":0,\"ticks\":\"\"}}}],\"scatterpolar\":[{\"type\":\"scatterpolar\",\"marker\":{\"colorbar\":{\"outlinewidth\":0,\"ticks\":\"\"}}}],\"histogram\":[{\"marker\":{\"pattern\":{\"fillmode\":\"overlay\",\"size\":10,\"solidity\":0.2}},\"type\":\"histogram\"}],\"scattergl\":[{\"type\":\"scattergl\",\"marker\":{\"colorbar\":{\"outlinewidth\":0,\"ticks\":\"\"}}}],\"scatter3d\":[{\"type\":\"scatter3d\",\"line\":{\"colorbar\":{\"outlinewidth\":0,\"ticks\":\"\"}},\"marker\":{\"colorbar\":{\"outlinewidth\":0,\"ticks\":\"\"}}}],\"scattermapbox\":[{\"type\":\"scattermapbox\",\"marker\":{\"colorbar\":{\"outlinewidth\":0,\"ticks\":\"\"}}}],\"scatterternary\":[{\"type\":\"scatterternary\",\"marker\":{\"colorbar\":{\"outlinewidth\":0,\"ticks\":\"\"}}}],\"scattercarpet\":[{\"type\":\"scattercarpet\",\"marker\":{\"colorbar\":{\"outlinewidth\":0,\"ticks\":\"\"}}}],\"carpet\":[{\"aaxis\":{\"endlinecolor\":\"#2a3f5f\",\"gridcolor\":\"white\",\"linecolor\":\"white\",\"minorgridcolor\":\"white\",\"startlinecolor\":\"#2a3f5f\"},\"baxis\":{\"endlinecolor\":\"#2a3f5f\",\"gridcolor\":\"white\",\"linecolor\":\"white\",\"minorgridcolor\":\"white\",\"startlinecolor\":\"#2a3f5f\"},\"type\":\"carpet\"}],\"table\":[{\"cells\":{\"fill\":{\"color\":\"#EBF0F8\"},\"line\":{\"color\":\"white\"}},\"header\":{\"fill\":{\"color\":\"#C8D4E3\"},\"line\":{\"color\":\"white\"}},\"type\":\"table\"}],\"barpolar\":[{\"marker\":{\"line\":{\"color\":\"#E5ECF6\",\"width\":0.5},\"pattern\":{\"fillmode\":\"overlay\",\"size\":10,\"solidity\":0.2}},\"type\":\"barpolar\"}],\"pie\":[{\"automargin\":true,\"type\":\"pie\"}]},\"layout\":{\"autotypenumbers\":\"strict\",\"colorway\":[\"#636efa\",\"#EF553B\",\"#00cc96\",\"#ab63fa\",\"#FFA15A\",\"#19d3f3\",\"#FF6692\",\"#B6E880\",\"#FF97FF\",\"#FECB52\"],\"font\":{\"color\":\"#2a3f5f\"},\"hovermode\":\"closest\",\"hoverlabel\":{\"align\":\"left\"},\"paper_bgcolor\":\"white\",\"plot_bgcolor\":\"#E5ECF6\",\"polar\":{\"bgcolor\":\"#E5ECF6\",\"angularaxis\":{\"gridcolor\":\"white\",\"linecolor\":\"white\",\"ticks\":\"\"},\"radialaxis\":{\"gridcolor\":\"white\",\"linecolor\":\"white\",\"ticks\":\"\"}},\"ternary\":{\"bgcolor\":\"#E5ECF6\",\"aaxis\":{\"gridcolor\":\"white\",\"linecolor\":\"white\",\"ticks\":\"\"},\"baxis\":{\"gridcolor\":\"white\",\"linecolor\":\"white\",\"ticks\":\"\"},\"caxis\":{\"gridcolor\":\"white\",\"linecolor\":\"white\",\"ticks\":\"\"}},\"coloraxis\":{\"colorbar\":{\"outlinewidth\":0,\"ticks\":\"\"}},\"colorscale\":{\"sequential\":[[0.0,\"#0d0887\"],[0.1111111111111111,\"#46039f\"],[0.2222222222222222,\"#7201a8\"],[0.3333333333333333,\"#9c179e\"],[0.4444444444444444,\"#bd3786\"],[0.5555555555555556,\"#d8576b\"],[0.6666666666666666,\"#ed7953\"],[0.7777777777777778,\"#fb9f3a\"],[0.8888888888888888,\"#fdca26\"],[1.0,\"#f0f921\"]],\"sequentialminus\":[[0.0,\"#0d0887\"],[0.1111111111111111,\"#46039f\"],[0.2222222222222222,\"#7201a8\"],[0.3333333333333333,\"#9c179e\"],[0.4444444444444444,\"#bd3786\"],[0.5555555555555556,\"#d8576b\"],[0.6666666666666666,\"#ed7953\"],[0.7777777777777778,\"#fb9f3a\"],[0.8888888888888888,\"#fdca26\"],[1.0,\"#f0f921\"]],\"diverging\":[[0,\"#8e0152\"],[0.1,\"#c51b7d\"],[0.2,\"#de77ae\"],[0.3,\"#f1b6da\"],[0.4,\"#fde0ef\"],[0.5,\"#f7f7f7\"],[0.6,\"#e6f5d0\"],[0.7,\"#b8e186\"],[0.8,\"#7fbc41\"],[0.9,\"#4d9221\"],[1,\"#276419\"]]},\"xaxis\":{\"gridcolor\":\"white\",\"linecolor\":\"white\",\"ticks\":\"\",\"title\":{\"standoff\":15},\"zerolinecolor\":\"white\",\"automargin\":true,\"zerolinewidth\":2},\"yaxis\":{\"gridcolor\":\"white\",\"linecolor\":\"white\",\"ticks\":\"\",\"title\":{\"standoff\":15},\"zerolinecolor\":\"white\",\"automargin\":true,\"zerolinewidth\":2},\"scene\":{\"xaxis\":{\"backgroundcolor\":\"#E5ECF6\",\"gridcolor\":\"white\",\"linecolor\":\"white\",\"showbackground\":true,\"ticks\":\"\",\"zerolinecolor\":\"white\",\"gridwidth\":2},\"yaxis\":{\"backgroundcolor\":\"#E5ECF6\",\"gridcolor\":\"white\",\"linecolor\":\"white\",\"showbackground\":true,\"ticks\":\"\",\"zerolinecolor\":\"white\",\"gridwidth\":2},\"zaxis\":{\"backgroundcolor\":\"#E5ECF6\",\"gridcolor\":\"white\",\"linecolor\":\"white\",\"showbackground\":true,\"ticks\":\"\",\"zerolinecolor\":\"white\",\"gridwidth\":2}},\"shapedefaults\":{\"line\":{\"color\":\"#2a3f5f\"}},\"annotationdefaults\":{\"arrowcolor\":\"#2a3f5f\",\"arrowhead\":0,\"arrowwidth\":1},\"geo\":{\"bgcolor\":\"white\",\"landcolor\":\"#E5ECF6\",\"subunitcolor\":\"white\",\"showland\":true,\"showlakes\":true,\"lakecolor\":\"white\"},\"title\":{\"x\":0.05},\"mapbox\":{\"style\":\"light\"}}},\"xaxis\":{\"anchor\":\"y\",\"domain\":[0.0,1.0],\"title\":{\"text\":\"customerID\"}},\"yaxis\":{\"anchor\":\"x\",\"domain\":[0.0,1.0],\"title\":{\"text\":\"PaymentMethod\"}},\"legend\":{\"title\":{\"text\":\"Churn\"},\"tracegroupgap\":0},\"margin\":{\"t\":60},\"barmode\":\"relative\"},                        {\"responsive\": true}                    ).then(function(){\n",
              "                            \n",
              "var gd = document.getElementById('030c91f8-afc7-4a6d-87b7-936ec91a2a95');\n",
              "var x = new MutationObserver(function (mutations, observer) {{\n",
              "        var display = window.getComputedStyle(gd).display;\n",
              "        if (!display || display === 'none') {{\n",
              "            console.log([gd, 'removed!']);\n",
              "            Plotly.purge(gd);\n",
              "            observer.disconnect();\n",
              "        }}\n",
              "}});\n",
              "\n",
              "// Listen for the removal of the full notebook cells\n",
              "var notebookContainer = gd.closest('#notebook-container');\n",
              "if (notebookContainer) {{\n",
              "    x.observe(notebookContainer, {childList: true});\n",
              "}}\n",
              "\n",
              "// Listen for the clearing of the current output cell\n",
              "var outputEl = gd.closest('.output');\n",
              "if (outputEl) {{\n",
              "    x.observe(outputEl, {childList: true});\n",
              "}}\n",
              "\n",
              "                        })                };                            </script>        </div>\n",
              "</body>\n",
              "</html>"
            ]
          },
          "metadata": {}
        }
      ]
    },
    {
      "cell_type": "code",
      "source": [
        "fig = px.pie(df.groupby(['PaymentMethod','Churn'])['customerID'].count().reset_index(),\n",
        "            values='customerID',\n",
        "            names='Churn',\n",
        "            facet_col = 'PaymentMethod',\n",
        "            color = 'Churn',\n",
        "            title = 'Churn rate by customer payment method')\n",
        "\n",
        "fig.show()"
      ],
      "metadata": {
        "colab": {
          "base_uri": "https://localhost:8080/",
          "height": 542
        },
        "id": "bQBF4bxOpg5i",
        "outputId": "9b293896-85dc-48f5-a158-40de292a7bc9"
      },
      "execution_count": 97,
      "outputs": [
        {
          "output_type": "display_data",
          "data": {
            "text/html": [
              "<html>\n",
              "<head><meta charset=\"utf-8\" /></head>\n",
              "<body>\n",
              "    <div>            <script src=\"https://cdnjs.cloudflare.com/ajax/libs/mathjax/2.7.5/MathJax.js?config=TeX-AMS-MML_SVG\"></script><script type=\"text/javascript\">if (window.MathJax && window.MathJax.Hub && window.MathJax.Hub.Config) {window.MathJax.Hub.Config({SVG: {font: \"STIX-Web\"}});}</script>                <script type=\"text/javascript\">window.PlotlyConfig = {MathJaxConfig: 'local'};</script>\n",
              "        <script charset=\"utf-8\" src=\"https://cdn.plot.ly/plotly-2.24.1.min.js\"></script>                <div id=\"e2fdd85a-8002-4fae-9381-489905c46479\" class=\"plotly-graph-div\" style=\"height:525px; width:100%;\"></div>            <script type=\"text/javascript\">                                    window.PLOTLYENV=window.PLOTLYENV || {};                                    if (document.getElementById(\"e2fdd85a-8002-4fae-9381-489905c46479\")) {                    Plotly.newPlot(                        \"e2fdd85a-8002-4fae-9381-489905c46479\",                        [{\"customdata\":[[\"No\"],[\"Yes\"]],\"domain\":{\"x\":[0.0,0.235],\"y\":[0.0,1.0]},\"hovertemplate\":\"PaymentMethod=Bank transfer (automatic)\\u003cbr\\u003eChurn=%{customdata[0]}\\u003cbr\\u003ecustomerID=%{value}\\u003cextra\\u003e\\u003c\\u002fextra\\u003e\",\"labels\":[\"No\",\"Yes\"],\"legendgroup\":\"\",\"marker\":{\"colors\":[\"#636efa\",\"#EF553B\"]},\"name\":\"\",\"showlegend\":true,\"values\":[1286,258],\"type\":\"pie\"},{\"customdata\":[[\"No\"],[\"Yes\"]],\"domain\":{\"x\":[0.255,0.49],\"y\":[0.0,1.0]},\"hovertemplate\":\"PaymentMethod=Credit card (automatic)\\u003cbr\\u003eChurn=%{customdata[0]}\\u003cbr\\u003ecustomerID=%{value}\\u003cextra\\u003e\\u003c\\u002fextra\\u003e\",\"labels\":[\"No\",\"Yes\"],\"legendgroup\":\"\",\"marker\":{\"colors\":[\"#636efa\",\"#EF553B\"]},\"name\":\"\",\"showlegend\":true,\"values\":[1290,232],\"type\":\"pie\"},{\"customdata\":[[\"No\"],[\"Yes\"]],\"domain\":{\"x\":[0.51,0.745],\"y\":[0.0,1.0]},\"hovertemplate\":\"PaymentMethod=Electronic check\\u003cbr\\u003eChurn=%{customdata[0]}\\u003cbr\\u003ecustomerID=%{value}\\u003cextra\\u003e\\u003c\\u002fextra\\u003e\",\"labels\":[\"No\",\"Yes\"],\"legendgroup\":\"\",\"marker\":{\"colors\":[\"#636efa\",\"#EF553B\"]},\"name\":\"\",\"showlegend\":true,\"values\":[1294,1071],\"type\":\"pie\"},{\"customdata\":[[\"No\"],[\"Yes\"]],\"domain\":{\"x\":[0.7649999999999999,0.9999999999999999],\"y\":[0.0,1.0]},\"hovertemplate\":\"PaymentMethod=Mailed check\\u003cbr\\u003eChurn=%{customdata[0]}\\u003cbr\\u003ecustomerID=%{value}\\u003cextra\\u003e\\u003c\\u002fextra\\u003e\",\"labels\":[\"No\",\"Yes\"],\"legendgroup\":\"\",\"marker\":{\"colors\":[\"#636efa\",\"#EF553B\"]},\"name\":\"\",\"showlegend\":true,\"values\":[1304,308],\"type\":\"pie\"}],                        {\"template\":{\"data\":{\"histogram2dcontour\":[{\"type\":\"histogram2dcontour\",\"colorbar\":{\"outlinewidth\":0,\"ticks\":\"\"},\"colorscale\":[[0.0,\"#0d0887\"],[0.1111111111111111,\"#46039f\"],[0.2222222222222222,\"#7201a8\"],[0.3333333333333333,\"#9c179e\"],[0.4444444444444444,\"#bd3786\"],[0.5555555555555556,\"#d8576b\"],[0.6666666666666666,\"#ed7953\"],[0.7777777777777778,\"#fb9f3a\"],[0.8888888888888888,\"#fdca26\"],[1.0,\"#f0f921\"]]}],\"choropleth\":[{\"type\":\"choropleth\",\"colorbar\":{\"outlinewidth\":0,\"ticks\":\"\"}}],\"histogram2d\":[{\"type\":\"histogram2d\",\"colorbar\":{\"outlinewidth\":0,\"ticks\":\"\"},\"colorscale\":[[0.0,\"#0d0887\"],[0.1111111111111111,\"#46039f\"],[0.2222222222222222,\"#7201a8\"],[0.3333333333333333,\"#9c179e\"],[0.4444444444444444,\"#bd3786\"],[0.5555555555555556,\"#d8576b\"],[0.6666666666666666,\"#ed7953\"],[0.7777777777777778,\"#fb9f3a\"],[0.8888888888888888,\"#fdca26\"],[1.0,\"#f0f921\"]]}],\"heatmap\":[{\"type\":\"heatmap\",\"colorbar\":{\"outlinewidth\":0,\"ticks\":\"\"},\"colorscale\":[[0.0,\"#0d0887\"],[0.1111111111111111,\"#46039f\"],[0.2222222222222222,\"#7201a8\"],[0.3333333333333333,\"#9c179e\"],[0.4444444444444444,\"#bd3786\"],[0.5555555555555556,\"#d8576b\"],[0.6666666666666666,\"#ed7953\"],[0.7777777777777778,\"#fb9f3a\"],[0.8888888888888888,\"#fdca26\"],[1.0,\"#f0f921\"]]}],\"heatmapgl\":[{\"type\":\"heatmapgl\",\"colorbar\":{\"outlinewidth\":0,\"ticks\":\"\"},\"colorscale\":[[0.0,\"#0d0887\"],[0.1111111111111111,\"#46039f\"],[0.2222222222222222,\"#7201a8\"],[0.3333333333333333,\"#9c179e\"],[0.4444444444444444,\"#bd3786\"],[0.5555555555555556,\"#d8576b\"],[0.6666666666666666,\"#ed7953\"],[0.7777777777777778,\"#fb9f3a\"],[0.8888888888888888,\"#fdca26\"],[1.0,\"#f0f921\"]]}],\"contourcarpet\":[{\"type\":\"contourcarpet\",\"colorbar\":{\"outlinewidth\":0,\"ticks\":\"\"}}],\"contour\":[{\"type\":\"contour\",\"colorbar\":{\"outlinewidth\":0,\"ticks\":\"\"},\"colorscale\":[[0.0,\"#0d0887\"],[0.1111111111111111,\"#46039f\"],[0.2222222222222222,\"#7201a8\"],[0.3333333333333333,\"#9c179e\"],[0.4444444444444444,\"#bd3786\"],[0.5555555555555556,\"#d8576b\"],[0.6666666666666666,\"#ed7953\"],[0.7777777777777778,\"#fb9f3a\"],[0.8888888888888888,\"#fdca26\"],[1.0,\"#f0f921\"]]}],\"surface\":[{\"type\":\"surface\",\"colorbar\":{\"outlinewidth\":0,\"ticks\":\"\"},\"colorscale\":[[0.0,\"#0d0887\"],[0.1111111111111111,\"#46039f\"],[0.2222222222222222,\"#7201a8\"],[0.3333333333333333,\"#9c179e\"],[0.4444444444444444,\"#bd3786\"],[0.5555555555555556,\"#d8576b\"],[0.6666666666666666,\"#ed7953\"],[0.7777777777777778,\"#fb9f3a\"],[0.8888888888888888,\"#fdca26\"],[1.0,\"#f0f921\"]]}],\"mesh3d\":[{\"type\":\"mesh3d\",\"colorbar\":{\"outlinewidth\":0,\"ticks\":\"\"}}],\"scatter\":[{\"fillpattern\":{\"fillmode\":\"overlay\",\"size\":10,\"solidity\":0.2},\"type\":\"scatter\"}],\"parcoords\":[{\"type\":\"parcoords\",\"line\":{\"colorbar\":{\"outlinewidth\":0,\"ticks\":\"\"}}}],\"scatterpolargl\":[{\"type\":\"scatterpolargl\",\"marker\":{\"colorbar\":{\"outlinewidth\":0,\"ticks\":\"\"}}}],\"bar\":[{\"error_x\":{\"color\":\"#2a3f5f\"},\"error_y\":{\"color\":\"#2a3f5f\"},\"marker\":{\"line\":{\"color\":\"#E5ECF6\",\"width\":0.5},\"pattern\":{\"fillmode\":\"overlay\",\"size\":10,\"solidity\":0.2}},\"type\":\"bar\"}],\"scattergeo\":[{\"type\":\"scattergeo\",\"marker\":{\"colorbar\":{\"outlinewidth\":0,\"ticks\":\"\"}}}],\"scatterpolar\":[{\"type\":\"scatterpolar\",\"marker\":{\"colorbar\":{\"outlinewidth\":0,\"ticks\":\"\"}}}],\"histogram\":[{\"marker\":{\"pattern\":{\"fillmode\":\"overlay\",\"size\":10,\"solidity\":0.2}},\"type\":\"histogram\"}],\"scattergl\":[{\"type\":\"scattergl\",\"marker\":{\"colorbar\":{\"outlinewidth\":0,\"ticks\":\"\"}}}],\"scatter3d\":[{\"type\":\"scatter3d\",\"line\":{\"colorbar\":{\"outlinewidth\":0,\"ticks\":\"\"}},\"marker\":{\"colorbar\":{\"outlinewidth\":0,\"ticks\":\"\"}}}],\"scattermapbox\":[{\"type\":\"scattermapbox\",\"marker\":{\"colorbar\":{\"outlinewidth\":0,\"ticks\":\"\"}}}],\"scatterternary\":[{\"type\":\"scatterternary\",\"marker\":{\"colorbar\":{\"outlinewidth\":0,\"ticks\":\"\"}}}],\"scattercarpet\":[{\"type\":\"scattercarpet\",\"marker\":{\"colorbar\":{\"outlinewidth\":0,\"ticks\":\"\"}}}],\"carpet\":[{\"aaxis\":{\"endlinecolor\":\"#2a3f5f\",\"gridcolor\":\"white\",\"linecolor\":\"white\",\"minorgridcolor\":\"white\",\"startlinecolor\":\"#2a3f5f\"},\"baxis\":{\"endlinecolor\":\"#2a3f5f\",\"gridcolor\":\"white\",\"linecolor\":\"white\",\"minorgridcolor\":\"white\",\"startlinecolor\":\"#2a3f5f\"},\"type\":\"carpet\"}],\"table\":[{\"cells\":{\"fill\":{\"color\":\"#EBF0F8\"},\"line\":{\"color\":\"white\"}},\"header\":{\"fill\":{\"color\":\"#C8D4E3\"},\"line\":{\"color\":\"white\"}},\"type\":\"table\"}],\"barpolar\":[{\"marker\":{\"line\":{\"color\":\"#E5ECF6\",\"width\":0.5},\"pattern\":{\"fillmode\":\"overlay\",\"size\":10,\"solidity\":0.2}},\"type\":\"barpolar\"}],\"pie\":[{\"automargin\":true,\"type\":\"pie\"}]},\"layout\":{\"autotypenumbers\":\"strict\",\"colorway\":[\"#636efa\",\"#EF553B\",\"#00cc96\",\"#ab63fa\",\"#FFA15A\",\"#19d3f3\",\"#FF6692\",\"#B6E880\",\"#FF97FF\",\"#FECB52\"],\"font\":{\"color\":\"#2a3f5f\"},\"hovermode\":\"closest\",\"hoverlabel\":{\"align\":\"left\"},\"paper_bgcolor\":\"white\",\"plot_bgcolor\":\"#E5ECF6\",\"polar\":{\"bgcolor\":\"#E5ECF6\",\"angularaxis\":{\"gridcolor\":\"white\",\"linecolor\":\"white\",\"ticks\":\"\"},\"radialaxis\":{\"gridcolor\":\"white\",\"linecolor\":\"white\",\"ticks\":\"\"}},\"ternary\":{\"bgcolor\":\"#E5ECF6\",\"aaxis\":{\"gridcolor\":\"white\",\"linecolor\":\"white\",\"ticks\":\"\"},\"baxis\":{\"gridcolor\":\"white\",\"linecolor\":\"white\",\"ticks\":\"\"},\"caxis\":{\"gridcolor\":\"white\",\"linecolor\":\"white\",\"ticks\":\"\"}},\"coloraxis\":{\"colorbar\":{\"outlinewidth\":0,\"ticks\":\"\"}},\"colorscale\":{\"sequential\":[[0.0,\"#0d0887\"],[0.1111111111111111,\"#46039f\"],[0.2222222222222222,\"#7201a8\"],[0.3333333333333333,\"#9c179e\"],[0.4444444444444444,\"#bd3786\"],[0.5555555555555556,\"#d8576b\"],[0.6666666666666666,\"#ed7953\"],[0.7777777777777778,\"#fb9f3a\"],[0.8888888888888888,\"#fdca26\"],[1.0,\"#f0f921\"]],\"sequentialminus\":[[0.0,\"#0d0887\"],[0.1111111111111111,\"#46039f\"],[0.2222222222222222,\"#7201a8\"],[0.3333333333333333,\"#9c179e\"],[0.4444444444444444,\"#bd3786\"],[0.5555555555555556,\"#d8576b\"],[0.6666666666666666,\"#ed7953\"],[0.7777777777777778,\"#fb9f3a\"],[0.8888888888888888,\"#fdca26\"],[1.0,\"#f0f921\"]],\"diverging\":[[0,\"#8e0152\"],[0.1,\"#c51b7d\"],[0.2,\"#de77ae\"],[0.3,\"#f1b6da\"],[0.4,\"#fde0ef\"],[0.5,\"#f7f7f7\"],[0.6,\"#e6f5d0\"],[0.7,\"#b8e186\"],[0.8,\"#7fbc41\"],[0.9,\"#4d9221\"],[1,\"#276419\"]]},\"xaxis\":{\"gridcolor\":\"white\",\"linecolor\":\"white\",\"ticks\":\"\",\"title\":{\"standoff\":15},\"zerolinecolor\":\"white\",\"automargin\":true,\"zerolinewidth\":2},\"yaxis\":{\"gridcolor\":\"white\",\"linecolor\":\"white\",\"ticks\":\"\",\"title\":{\"standoff\":15},\"zerolinecolor\":\"white\",\"automargin\":true,\"zerolinewidth\":2},\"scene\":{\"xaxis\":{\"backgroundcolor\":\"#E5ECF6\",\"gridcolor\":\"white\",\"linecolor\":\"white\",\"showbackground\":true,\"ticks\":\"\",\"zerolinecolor\":\"white\",\"gridwidth\":2},\"yaxis\":{\"backgroundcolor\":\"#E5ECF6\",\"gridcolor\":\"white\",\"linecolor\":\"white\",\"showbackground\":true,\"ticks\":\"\",\"zerolinecolor\":\"white\",\"gridwidth\":2},\"zaxis\":{\"backgroundcolor\":\"#E5ECF6\",\"gridcolor\":\"white\",\"linecolor\":\"white\",\"showbackground\":true,\"ticks\":\"\",\"zerolinecolor\":\"white\",\"gridwidth\":2}},\"shapedefaults\":{\"line\":{\"color\":\"#2a3f5f\"}},\"annotationdefaults\":{\"arrowcolor\":\"#2a3f5f\",\"arrowhead\":0,\"arrowwidth\":1},\"geo\":{\"bgcolor\":\"white\",\"landcolor\":\"#E5ECF6\",\"subunitcolor\":\"white\",\"showland\":true,\"showlakes\":true,\"lakecolor\":\"white\"},\"title\":{\"x\":0.05},\"mapbox\":{\"style\":\"light\"}}},\"annotations\":[{\"font\":{},\"showarrow\":false,\"text\":\"PaymentMethod=Bank transfer (automatic)\",\"x\":0.1175,\"xanchor\":\"center\",\"xref\":\"paper\",\"y\":1.0,\"yanchor\":\"bottom\",\"yref\":\"paper\"},{\"font\":{},\"showarrow\":false,\"text\":\"PaymentMethod=Credit card (automatic)\",\"x\":0.3725,\"xanchor\":\"center\",\"xref\":\"paper\",\"y\":1.0,\"yanchor\":\"bottom\",\"yref\":\"paper\"},{\"font\":{},\"showarrow\":false,\"text\":\"PaymentMethod=Electronic check\",\"x\":0.6275,\"xanchor\":\"center\",\"xref\":\"paper\",\"y\":1.0,\"yanchor\":\"bottom\",\"yref\":\"paper\"},{\"font\":{},\"showarrow\":false,\"text\":\"PaymentMethod=Mailed check\",\"x\":0.8824999999999998,\"xanchor\":\"center\",\"xref\":\"paper\",\"y\":1.0,\"yanchor\":\"bottom\",\"yref\":\"paper\"}],\"legend\":{\"tracegroupgap\":0},\"title\":{\"text\":\"Churn rate by customer payment method\"}},                        {\"responsive\": true}                    ).then(function(){\n",
              "                            \n",
              "var gd = document.getElementById('e2fdd85a-8002-4fae-9381-489905c46479');\n",
              "var x = new MutationObserver(function (mutations, observer) {{\n",
              "        var display = window.getComputedStyle(gd).display;\n",
              "        if (!display || display === 'none') {{\n",
              "            console.log([gd, 'removed!']);\n",
              "            Plotly.purge(gd);\n",
              "            observer.disconnect();\n",
              "        }}\n",
              "}});\n",
              "\n",
              "// Listen for the removal of the full notebook cells\n",
              "var notebookContainer = gd.closest('#notebook-container');\n",
              "if (notebookContainer) {{\n",
              "    x.observe(notebookContainer, {childList: true});\n",
              "}}\n",
              "\n",
              "// Listen for the clearing of the current output cell\n",
              "var outputEl = gd.closest('.output');\n",
              "if (outputEl) {{\n",
              "    x.observe(outputEl, {childList: true});\n",
              "}}\n",
              "\n",
              "                        })                };                            </script>        </div>\n",
              "</body>\n",
              "</html>"
            ]
          },
          "metadata": {}
        }
      ]
    },
    {
      "cell_type": "markdown",
      "source": [
        "Customers with an electornic check as a payment method have a churn rate of 50%\n",
        "\n",
        "Let's see if some specific Internet service was used by customers with an electronic check as a means of payment"
      ],
      "metadata": {
        "id": "u2ZdP-zQp43P"
      }
    },
    {
      "cell_type": "code",
      "source": [
        "fig = px.bar(df.groupby(['PaymentMethod', 'InternetService'])['customerID'].count().reset_index(),\n",
        "             x='PaymentMethod',\n",
        "             y='customerID',\n",
        "             facet_col = 'InternetService',\n",
        "             color = 'customerID',\n",
        "             text = 'customerID')\n",
        "fig.show()"
      ],
      "metadata": {
        "colab": {
          "base_uri": "https://localhost:8080/",
          "height": 542
        },
        "id": "MVB-PgRQp-Sq",
        "outputId": "e2fee346-5832-408d-9398-aada3bcef3db"
      },
      "execution_count": 98,
      "outputs": [
        {
          "output_type": "display_data",
          "data": {
            "text/html": [
              "<html>\n",
              "<head><meta charset=\"utf-8\" /></head>\n",
              "<body>\n",
              "    <div>            <script src=\"https://cdnjs.cloudflare.com/ajax/libs/mathjax/2.7.5/MathJax.js?config=TeX-AMS-MML_SVG\"></script><script type=\"text/javascript\">if (window.MathJax && window.MathJax.Hub && window.MathJax.Hub.Config) {window.MathJax.Hub.Config({SVG: {font: \"STIX-Web\"}});}</script>                <script type=\"text/javascript\">window.PlotlyConfig = {MathJaxConfig: 'local'};</script>\n",
              "        <script charset=\"utf-8\" src=\"https://cdn.plot.ly/plotly-2.24.1.min.js\"></script>                <div id=\"6f3c39da-f869-43a5-9c06-db5f3bf5be96\" class=\"plotly-graph-div\" style=\"height:525px; width:100%;\"></div>            <script type=\"text/javascript\">                                    window.PLOTLYENV=window.PLOTLYENV || {};                                    if (document.getElementById(\"6f3c39da-f869-43a5-9c06-db5f3bf5be96\")) {                    Plotly.newPlot(                        \"6f3c39da-f869-43a5-9c06-db5f3bf5be96\",                        [{\"alignmentgroup\":\"True\",\"hovertemplate\":\"InternetService=DSL\\u003cbr\\u003ePaymentMethod=%{x}\\u003cbr\\u003ecustomerID=%{marker.color}\\u003cextra\\u003e\\u003c\\u002fextra\\u003e\",\"legendgroup\":\"\",\"marker\":{\"color\":[566,594,648,613],\"coloraxis\":\"coloraxis\",\"pattern\":{\"shape\":\"\"}},\"name\":\"\",\"offsetgroup\":\"\",\"orientation\":\"v\",\"showlegend\":false,\"text\":[566.0,594.0,648.0,613.0],\"textposition\":\"auto\",\"x\":[\"Bank transfer (automatic)\",\"Credit card (automatic)\",\"Electronic check\",\"Mailed check\"],\"xaxis\":\"x\",\"y\":[566,594,648,613],\"yaxis\":\"y\",\"type\":\"bar\"},{\"alignmentgroup\":\"True\",\"hovertemplate\":\"InternetService=Fiber optic\\u003cbr\\u003ePaymentMethod=%{x}\\u003cbr\\u003ecustomerID=%{marker.color}\\u003cextra\\u003e\\u003c\\u002fextra\\u003e\",\"legendgroup\":\"\",\"marker\":{\"color\":[646,597,1595,258],\"coloraxis\":\"coloraxis\",\"pattern\":{\"shape\":\"\"}},\"name\":\"\",\"offsetgroup\":\"\",\"orientation\":\"v\",\"showlegend\":false,\"text\":[646.0,597.0,1595.0,258.0],\"textposition\":\"auto\",\"x\":[\"Bank transfer (automatic)\",\"Credit card (automatic)\",\"Electronic check\",\"Mailed check\"],\"xaxis\":\"x2\",\"y\":[646,597,1595,258],\"yaxis\":\"y2\",\"type\":\"bar\"},{\"alignmentgroup\":\"True\",\"hovertemplate\":\"InternetService=No\\u003cbr\\u003ePaymentMethod=%{x}\\u003cbr\\u003ecustomerID=%{marker.color}\\u003cextra\\u003e\\u003c\\u002fextra\\u003e\",\"legendgroup\":\"\",\"marker\":{\"color\":[332,331,122,741],\"coloraxis\":\"coloraxis\",\"pattern\":{\"shape\":\"\"}},\"name\":\"\",\"offsetgroup\":\"\",\"orientation\":\"v\",\"showlegend\":false,\"text\":[332.0,331.0,122.0,741.0],\"textposition\":\"auto\",\"x\":[\"Bank transfer (automatic)\",\"Credit card (automatic)\",\"Electronic check\",\"Mailed check\"],\"xaxis\":\"x3\",\"y\":[332,331,122,741],\"yaxis\":\"y3\",\"type\":\"bar\"}],                        {\"template\":{\"data\":{\"histogram2dcontour\":[{\"type\":\"histogram2dcontour\",\"colorbar\":{\"outlinewidth\":0,\"ticks\":\"\"},\"colorscale\":[[0.0,\"#0d0887\"],[0.1111111111111111,\"#46039f\"],[0.2222222222222222,\"#7201a8\"],[0.3333333333333333,\"#9c179e\"],[0.4444444444444444,\"#bd3786\"],[0.5555555555555556,\"#d8576b\"],[0.6666666666666666,\"#ed7953\"],[0.7777777777777778,\"#fb9f3a\"],[0.8888888888888888,\"#fdca26\"],[1.0,\"#f0f921\"]]}],\"choropleth\":[{\"type\":\"choropleth\",\"colorbar\":{\"outlinewidth\":0,\"ticks\":\"\"}}],\"histogram2d\":[{\"type\":\"histogram2d\",\"colorbar\":{\"outlinewidth\":0,\"ticks\":\"\"},\"colorscale\":[[0.0,\"#0d0887\"],[0.1111111111111111,\"#46039f\"],[0.2222222222222222,\"#7201a8\"],[0.3333333333333333,\"#9c179e\"],[0.4444444444444444,\"#bd3786\"],[0.5555555555555556,\"#d8576b\"],[0.6666666666666666,\"#ed7953\"],[0.7777777777777778,\"#fb9f3a\"],[0.8888888888888888,\"#fdca26\"],[1.0,\"#f0f921\"]]}],\"heatmap\":[{\"type\":\"heatmap\",\"colorbar\":{\"outlinewidth\":0,\"ticks\":\"\"},\"colorscale\":[[0.0,\"#0d0887\"],[0.1111111111111111,\"#46039f\"],[0.2222222222222222,\"#7201a8\"],[0.3333333333333333,\"#9c179e\"],[0.4444444444444444,\"#bd3786\"],[0.5555555555555556,\"#d8576b\"],[0.6666666666666666,\"#ed7953\"],[0.7777777777777778,\"#fb9f3a\"],[0.8888888888888888,\"#fdca26\"],[1.0,\"#f0f921\"]]}],\"heatmapgl\":[{\"type\":\"heatmapgl\",\"colorbar\":{\"outlinewidth\":0,\"ticks\":\"\"},\"colorscale\":[[0.0,\"#0d0887\"],[0.1111111111111111,\"#46039f\"],[0.2222222222222222,\"#7201a8\"],[0.3333333333333333,\"#9c179e\"],[0.4444444444444444,\"#bd3786\"],[0.5555555555555556,\"#d8576b\"],[0.6666666666666666,\"#ed7953\"],[0.7777777777777778,\"#fb9f3a\"],[0.8888888888888888,\"#fdca26\"],[1.0,\"#f0f921\"]]}],\"contourcarpet\":[{\"type\":\"contourcarpet\",\"colorbar\":{\"outlinewidth\":0,\"ticks\":\"\"}}],\"contour\":[{\"type\":\"contour\",\"colorbar\":{\"outlinewidth\":0,\"ticks\":\"\"},\"colorscale\":[[0.0,\"#0d0887\"],[0.1111111111111111,\"#46039f\"],[0.2222222222222222,\"#7201a8\"],[0.3333333333333333,\"#9c179e\"],[0.4444444444444444,\"#bd3786\"],[0.5555555555555556,\"#d8576b\"],[0.6666666666666666,\"#ed7953\"],[0.7777777777777778,\"#fb9f3a\"],[0.8888888888888888,\"#fdca26\"],[1.0,\"#f0f921\"]]}],\"surface\":[{\"type\":\"surface\",\"colorbar\":{\"outlinewidth\":0,\"ticks\":\"\"},\"colorscale\":[[0.0,\"#0d0887\"],[0.1111111111111111,\"#46039f\"],[0.2222222222222222,\"#7201a8\"],[0.3333333333333333,\"#9c179e\"],[0.4444444444444444,\"#bd3786\"],[0.5555555555555556,\"#d8576b\"],[0.6666666666666666,\"#ed7953\"],[0.7777777777777778,\"#fb9f3a\"],[0.8888888888888888,\"#fdca26\"],[1.0,\"#f0f921\"]]}],\"mesh3d\":[{\"type\":\"mesh3d\",\"colorbar\":{\"outlinewidth\":0,\"ticks\":\"\"}}],\"scatter\":[{\"fillpattern\":{\"fillmode\":\"overlay\",\"size\":10,\"solidity\":0.2},\"type\":\"scatter\"}],\"parcoords\":[{\"type\":\"parcoords\",\"line\":{\"colorbar\":{\"outlinewidth\":0,\"ticks\":\"\"}}}],\"scatterpolargl\":[{\"type\":\"scatterpolargl\",\"marker\":{\"colorbar\":{\"outlinewidth\":0,\"ticks\":\"\"}}}],\"bar\":[{\"error_x\":{\"color\":\"#2a3f5f\"},\"error_y\":{\"color\":\"#2a3f5f\"},\"marker\":{\"line\":{\"color\":\"#E5ECF6\",\"width\":0.5},\"pattern\":{\"fillmode\":\"overlay\",\"size\":10,\"solidity\":0.2}},\"type\":\"bar\"}],\"scattergeo\":[{\"type\":\"scattergeo\",\"marker\":{\"colorbar\":{\"outlinewidth\":0,\"ticks\":\"\"}}}],\"scatterpolar\":[{\"type\":\"scatterpolar\",\"marker\":{\"colorbar\":{\"outlinewidth\":0,\"ticks\":\"\"}}}],\"histogram\":[{\"marker\":{\"pattern\":{\"fillmode\":\"overlay\",\"size\":10,\"solidity\":0.2}},\"type\":\"histogram\"}],\"scattergl\":[{\"type\":\"scattergl\",\"marker\":{\"colorbar\":{\"outlinewidth\":0,\"ticks\":\"\"}}}],\"scatter3d\":[{\"type\":\"scatter3d\",\"line\":{\"colorbar\":{\"outlinewidth\":0,\"ticks\":\"\"}},\"marker\":{\"colorbar\":{\"outlinewidth\":0,\"ticks\":\"\"}}}],\"scattermapbox\":[{\"type\":\"scattermapbox\",\"marker\":{\"colorbar\":{\"outlinewidth\":0,\"ticks\":\"\"}}}],\"scatterternary\":[{\"type\":\"scatterternary\",\"marker\":{\"colorbar\":{\"outlinewidth\":0,\"ticks\":\"\"}}}],\"scattercarpet\":[{\"type\":\"scattercarpet\",\"marker\":{\"colorbar\":{\"outlinewidth\":0,\"ticks\":\"\"}}}],\"carpet\":[{\"aaxis\":{\"endlinecolor\":\"#2a3f5f\",\"gridcolor\":\"white\",\"linecolor\":\"white\",\"minorgridcolor\":\"white\",\"startlinecolor\":\"#2a3f5f\"},\"baxis\":{\"endlinecolor\":\"#2a3f5f\",\"gridcolor\":\"white\",\"linecolor\":\"white\",\"minorgridcolor\":\"white\",\"startlinecolor\":\"#2a3f5f\"},\"type\":\"carpet\"}],\"table\":[{\"cells\":{\"fill\":{\"color\":\"#EBF0F8\"},\"line\":{\"color\":\"white\"}},\"header\":{\"fill\":{\"color\":\"#C8D4E3\"},\"line\":{\"color\":\"white\"}},\"type\":\"table\"}],\"barpolar\":[{\"marker\":{\"line\":{\"color\":\"#E5ECF6\",\"width\":0.5},\"pattern\":{\"fillmode\":\"overlay\",\"size\":10,\"solidity\":0.2}},\"type\":\"barpolar\"}],\"pie\":[{\"automargin\":true,\"type\":\"pie\"}]},\"layout\":{\"autotypenumbers\":\"strict\",\"colorway\":[\"#636efa\",\"#EF553B\",\"#00cc96\",\"#ab63fa\",\"#FFA15A\",\"#19d3f3\",\"#FF6692\",\"#B6E880\",\"#FF97FF\",\"#FECB52\"],\"font\":{\"color\":\"#2a3f5f\"},\"hovermode\":\"closest\",\"hoverlabel\":{\"align\":\"left\"},\"paper_bgcolor\":\"white\",\"plot_bgcolor\":\"#E5ECF6\",\"polar\":{\"bgcolor\":\"#E5ECF6\",\"angularaxis\":{\"gridcolor\":\"white\",\"linecolor\":\"white\",\"ticks\":\"\"},\"radialaxis\":{\"gridcolor\":\"white\",\"linecolor\":\"white\",\"ticks\":\"\"}},\"ternary\":{\"bgcolor\":\"#E5ECF6\",\"aaxis\":{\"gridcolor\":\"white\",\"linecolor\":\"white\",\"ticks\":\"\"},\"baxis\":{\"gridcolor\":\"white\",\"linecolor\":\"white\",\"ticks\":\"\"},\"caxis\":{\"gridcolor\":\"white\",\"linecolor\":\"white\",\"ticks\":\"\"}},\"coloraxis\":{\"colorbar\":{\"outlinewidth\":0,\"ticks\":\"\"}},\"colorscale\":{\"sequential\":[[0.0,\"#0d0887\"],[0.1111111111111111,\"#46039f\"],[0.2222222222222222,\"#7201a8\"],[0.3333333333333333,\"#9c179e\"],[0.4444444444444444,\"#bd3786\"],[0.5555555555555556,\"#d8576b\"],[0.6666666666666666,\"#ed7953\"],[0.7777777777777778,\"#fb9f3a\"],[0.8888888888888888,\"#fdca26\"],[1.0,\"#f0f921\"]],\"sequentialminus\":[[0.0,\"#0d0887\"],[0.1111111111111111,\"#46039f\"],[0.2222222222222222,\"#7201a8\"],[0.3333333333333333,\"#9c179e\"],[0.4444444444444444,\"#bd3786\"],[0.5555555555555556,\"#d8576b\"],[0.6666666666666666,\"#ed7953\"],[0.7777777777777778,\"#fb9f3a\"],[0.8888888888888888,\"#fdca26\"],[1.0,\"#f0f921\"]],\"diverging\":[[0,\"#8e0152\"],[0.1,\"#c51b7d\"],[0.2,\"#de77ae\"],[0.3,\"#f1b6da\"],[0.4,\"#fde0ef\"],[0.5,\"#f7f7f7\"],[0.6,\"#e6f5d0\"],[0.7,\"#b8e186\"],[0.8,\"#7fbc41\"],[0.9,\"#4d9221\"],[1,\"#276419\"]]},\"xaxis\":{\"gridcolor\":\"white\",\"linecolor\":\"white\",\"ticks\":\"\",\"title\":{\"standoff\":15},\"zerolinecolor\":\"white\",\"automargin\":true,\"zerolinewidth\":2},\"yaxis\":{\"gridcolor\":\"white\",\"linecolor\":\"white\",\"ticks\":\"\",\"title\":{\"standoff\":15},\"zerolinecolor\":\"white\",\"automargin\":true,\"zerolinewidth\":2},\"scene\":{\"xaxis\":{\"backgroundcolor\":\"#E5ECF6\",\"gridcolor\":\"white\",\"linecolor\":\"white\",\"showbackground\":true,\"ticks\":\"\",\"zerolinecolor\":\"white\",\"gridwidth\":2},\"yaxis\":{\"backgroundcolor\":\"#E5ECF6\",\"gridcolor\":\"white\",\"linecolor\":\"white\",\"showbackground\":true,\"ticks\":\"\",\"zerolinecolor\":\"white\",\"gridwidth\":2},\"zaxis\":{\"backgroundcolor\":\"#E5ECF6\",\"gridcolor\":\"white\",\"linecolor\":\"white\",\"showbackground\":true,\"ticks\":\"\",\"zerolinecolor\":\"white\",\"gridwidth\":2}},\"shapedefaults\":{\"line\":{\"color\":\"#2a3f5f\"}},\"annotationdefaults\":{\"arrowcolor\":\"#2a3f5f\",\"arrowhead\":0,\"arrowwidth\":1},\"geo\":{\"bgcolor\":\"white\",\"landcolor\":\"#E5ECF6\",\"subunitcolor\":\"white\",\"showland\":true,\"showlakes\":true,\"lakecolor\":\"white\"},\"title\":{\"x\":0.05},\"mapbox\":{\"style\":\"light\"}}},\"xaxis\":{\"anchor\":\"y\",\"domain\":[0.0,0.31999999999999995],\"title\":{\"text\":\"PaymentMethod\"}},\"yaxis\":{\"anchor\":\"x\",\"domain\":[0.0,1.0],\"title\":{\"text\":\"customerID\"}},\"xaxis2\":{\"anchor\":\"y2\",\"domain\":[0.33999999999999997,0.6599999999999999],\"matches\":\"x\",\"title\":{\"text\":\"PaymentMethod\"}},\"yaxis2\":{\"anchor\":\"x2\",\"domain\":[0.0,1.0],\"matches\":\"y\",\"showticklabels\":false},\"xaxis3\":{\"anchor\":\"y3\",\"domain\":[0.6799999999999999,0.9999999999999999],\"matches\":\"x\",\"title\":{\"text\":\"PaymentMethod\"}},\"yaxis3\":{\"anchor\":\"x3\",\"domain\":[0.0,1.0],\"matches\":\"y\",\"showticklabels\":false},\"annotations\":[{\"font\":{},\"showarrow\":false,\"text\":\"InternetService=DSL\",\"x\":0.15999999999999998,\"xanchor\":\"center\",\"xref\":\"paper\",\"y\":1.0,\"yanchor\":\"bottom\",\"yref\":\"paper\"},{\"font\":{},\"showarrow\":false,\"text\":\"InternetService=Fiber optic\",\"x\":0.49999999999999994,\"xanchor\":\"center\",\"xref\":\"paper\",\"y\":1.0,\"yanchor\":\"bottom\",\"yref\":\"paper\"},{\"font\":{},\"showarrow\":false,\"text\":\"InternetService=No\",\"x\":0.8399999999999999,\"xanchor\":\"center\",\"xref\":\"paper\",\"y\":1.0,\"yanchor\":\"bottom\",\"yref\":\"paper\"}],\"coloraxis\":{\"colorbar\":{\"title\":{\"text\":\"customerID\"}},\"colorscale\":[[0.0,\"#0d0887\"],[0.1111111111111111,\"#46039f\"],[0.2222222222222222,\"#7201a8\"],[0.3333333333333333,\"#9c179e\"],[0.4444444444444444,\"#bd3786\"],[0.5555555555555556,\"#d8576b\"],[0.6666666666666666,\"#ed7953\"],[0.7777777777777778,\"#fb9f3a\"],[0.8888888888888888,\"#fdca26\"],[1.0,\"#f0f921\"]]},\"legend\":{\"tracegroupgap\":0},\"margin\":{\"t\":60},\"barmode\":\"relative\"},                        {\"responsive\": true}                    ).then(function(){\n",
              "                            \n",
              "var gd = document.getElementById('6f3c39da-f869-43a5-9c06-db5f3bf5be96');\n",
              "var x = new MutationObserver(function (mutations, observer) {{\n",
              "        var display = window.getComputedStyle(gd).display;\n",
              "        if (!display || display === 'none') {{\n",
              "            console.log([gd, 'removed!']);\n",
              "            Plotly.purge(gd);\n",
              "            observer.disconnect();\n",
              "        }}\n",
              "}});\n",
              "\n",
              "// Listen for the removal of the full notebook cells\n",
              "var notebookContainer = gd.closest('#notebook-container');\n",
              "if (notebookContainer) {{\n",
              "    x.observe(notebookContainer, {childList: true});\n",
              "}}\n",
              "\n",
              "// Listen for the clearing of the current output cell\n",
              "var outputEl = gd.closest('.output');\n",
              "if (outputEl) {{\n",
              "    x.observe(outputEl, {childList: true});\n",
              "}}\n",
              "\n",
              "                        })                };                            </script>        </div>\n",
              "</body>\n",
              "</html>"
            ]
          },
          "metadata": {}
        }
      ]
    },
    {
      "cell_type": "markdown",
      "source": [
        "Most clients with optical fiber internet used electronic receipt as a means of payment Lets see what the churn rate looks like for the internet service and payment method together"
      ],
      "metadata": {
        "id": "WOOZCdAFqgfm"
      }
    },
    {
      "cell_type": "code",
      "source": [
        "churn_pm = df.assign(churn_clients = np.where(df['Churn']== 'Yes',df['customerID'],None))\\\n",
        "   .groupby(['PaymentMethod','InternetService']).agg({'churn_clients':'count'}).reset_index()\n"
      ],
      "metadata": {
        "id": "J4wpF2A_qjEi"
      },
      "execution_count": 99,
      "outputs": []
    },
    {
      "cell_type": "code",
      "source": [
        "pm_clients = df.groupby(['PaymentMethod','InternetService'])['customerID'].count().reset_index()\n"
      ],
      "metadata": {
        "id": "U54wNGAqq9JI"
      },
      "execution_count": 100,
      "outputs": []
    },
    {
      "cell_type": "code",
      "source": [
        "pm_data = pm_clients.join(churn_pm.set_index(['PaymentMethod','InternetService']), on=['PaymentMethod','InternetService'])\n"
      ],
      "metadata": {
        "id": "apVJQQbErGNR"
      },
      "execution_count": 101,
      "outputs": []
    },
    {
      "cell_type": "code",
      "source": [
        "pm_data"
      ],
      "metadata": {
        "colab": {
          "base_uri": "https://localhost:8080/",
          "height": 426
        },
        "id": "coKCnkxurQAa",
        "outputId": "a14485bb-ffc0-49f2-adec-c965f6925073"
      },
      "execution_count": 102,
      "outputs": [
        {
          "output_type": "execute_result",
          "data": {
            "text/plain": [
              "                PaymentMethod InternetService  customerID  churn_clients\n",
              "0   Bank transfer (automatic)             DSL         566             53\n",
              "1   Bank transfer (automatic)     Fiber optic         646            187\n",
              "2   Bank transfer (automatic)              No         332             18\n",
              "3     Credit card (automatic)             DSL         594             72\n",
              "4     Credit card (automatic)     Fiber optic         597            151\n",
              "5     Credit card (automatic)              No         331              9\n",
              "6            Electronic check             DSL         648            207\n",
              "7            Electronic check     Fiber optic        1595            849\n",
              "8            Electronic check              No         122             15\n",
              "9                Mailed check             DSL         613            127\n",
              "10               Mailed check     Fiber optic         258            110\n",
              "11               Mailed check              No         741             71"
            ],
            "text/html": [
              "\n",
              "  <div id=\"df-5610197f-eb58-4ef0-8bed-08b0188e4025\" class=\"colab-df-container\">\n",
              "    <div>\n",
              "<style scoped>\n",
              "    .dataframe tbody tr th:only-of-type {\n",
              "        vertical-align: middle;\n",
              "    }\n",
              "\n",
              "    .dataframe tbody tr th {\n",
              "        vertical-align: top;\n",
              "    }\n",
              "\n",
              "    .dataframe thead th {\n",
              "        text-align: right;\n",
              "    }\n",
              "</style>\n",
              "<table border=\"1\" class=\"dataframe\">\n",
              "  <thead>\n",
              "    <tr style=\"text-align: right;\">\n",
              "      <th></th>\n",
              "      <th>PaymentMethod</th>\n",
              "      <th>InternetService</th>\n",
              "      <th>customerID</th>\n",
              "      <th>churn_clients</th>\n",
              "    </tr>\n",
              "  </thead>\n",
              "  <tbody>\n",
              "    <tr>\n",
              "      <th>0</th>\n",
              "      <td>Bank transfer (automatic)</td>\n",
              "      <td>DSL</td>\n",
              "      <td>566</td>\n",
              "      <td>53</td>\n",
              "    </tr>\n",
              "    <tr>\n",
              "      <th>1</th>\n",
              "      <td>Bank transfer (automatic)</td>\n",
              "      <td>Fiber optic</td>\n",
              "      <td>646</td>\n",
              "      <td>187</td>\n",
              "    </tr>\n",
              "    <tr>\n",
              "      <th>2</th>\n",
              "      <td>Bank transfer (automatic)</td>\n",
              "      <td>No</td>\n",
              "      <td>332</td>\n",
              "      <td>18</td>\n",
              "    </tr>\n",
              "    <tr>\n",
              "      <th>3</th>\n",
              "      <td>Credit card (automatic)</td>\n",
              "      <td>DSL</td>\n",
              "      <td>594</td>\n",
              "      <td>72</td>\n",
              "    </tr>\n",
              "    <tr>\n",
              "      <th>4</th>\n",
              "      <td>Credit card (automatic)</td>\n",
              "      <td>Fiber optic</td>\n",
              "      <td>597</td>\n",
              "      <td>151</td>\n",
              "    </tr>\n",
              "    <tr>\n",
              "      <th>5</th>\n",
              "      <td>Credit card (automatic)</td>\n",
              "      <td>No</td>\n",
              "      <td>331</td>\n",
              "      <td>9</td>\n",
              "    </tr>\n",
              "    <tr>\n",
              "      <th>6</th>\n",
              "      <td>Electronic check</td>\n",
              "      <td>DSL</td>\n",
              "      <td>648</td>\n",
              "      <td>207</td>\n",
              "    </tr>\n",
              "    <tr>\n",
              "      <th>7</th>\n",
              "      <td>Electronic check</td>\n",
              "      <td>Fiber optic</td>\n",
              "      <td>1595</td>\n",
              "      <td>849</td>\n",
              "    </tr>\n",
              "    <tr>\n",
              "      <th>8</th>\n",
              "      <td>Electronic check</td>\n",
              "      <td>No</td>\n",
              "      <td>122</td>\n",
              "      <td>15</td>\n",
              "    </tr>\n",
              "    <tr>\n",
              "      <th>9</th>\n",
              "      <td>Mailed check</td>\n",
              "      <td>DSL</td>\n",
              "      <td>613</td>\n",
              "      <td>127</td>\n",
              "    </tr>\n",
              "    <tr>\n",
              "      <th>10</th>\n",
              "      <td>Mailed check</td>\n",
              "      <td>Fiber optic</td>\n",
              "      <td>258</td>\n",
              "      <td>110</td>\n",
              "    </tr>\n",
              "    <tr>\n",
              "      <th>11</th>\n",
              "      <td>Mailed check</td>\n",
              "      <td>No</td>\n",
              "      <td>741</td>\n",
              "      <td>71</td>\n",
              "    </tr>\n",
              "  </tbody>\n",
              "</table>\n",
              "</div>\n",
              "    <div class=\"colab-df-buttons\">\n",
              "\n",
              "  <div class=\"colab-df-container\">\n",
              "    <button class=\"colab-df-convert\" onclick=\"convertToInteractive('df-5610197f-eb58-4ef0-8bed-08b0188e4025')\"\n",
              "            title=\"Convert this dataframe to an interactive table.\"\n",
              "            style=\"display:none;\">\n",
              "\n",
              "  <svg xmlns=\"http://www.w3.org/2000/svg\" height=\"24px\" viewBox=\"0 -960 960 960\">\n",
              "    <path d=\"M120-120v-720h720v720H120Zm60-500h600v-160H180v160Zm220 220h160v-160H400v160Zm0 220h160v-160H400v160ZM180-400h160v-160H180v160Zm440 0h160v-160H620v160ZM180-180h160v-160H180v160Zm440 0h160v-160H620v160Z\"/>\n",
              "  </svg>\n",
              "    </button>\n",
              "\n",
              "  <style>\n",
              "    .colab-df-container {\n",
              "      display:flex;\n",
              "      gap: 12px;\n",
              "    }\n",
              "\n",
              "    .colab-df-convert {\n",
              "      background-color: #E8F0FE;\n",
              "      border: none;\n",
              "      border-radius: 50%;\n",
              "      cursor: pointer;\n",
              "      display: none;\n",
              "      fill: #1967D2;\n",
              "      height: 32px;\n",
              "      padding: 0 0 0 0;\n",
              "      width: 32px;\n",
              "    }\n",
              "\n",
              "    .colab-df-convert:hover {\n",
              "      background-color: #E2EBFA;\n",
              "      box-shadow: 0px 1px 2px rgba(60, 64, 67, 0.3), 0px 1px 3px 1px rgba(60, 64, 67, 0.15);\n",
              "      fill: #174EA6;\n",
              "    }\n",
              "\n",
              "    .colab-df-buttons div {\n",
              "      margin-bottom: 4px;\n",
              "    }\n",
              "\n",
              "    [theme=dark] .colab-df-convert {\n",
              "      background-color: #3B4455;\n",
              "      fill: #D2E3FC;\n",
              "    }\n",
              "\n",
              "    [theme=dark] .colab-df-convert:hover {\n",
              "      background-color: #434B5C;\n",
              "      box-shadow: 0px 1px 3px 1px rgba(0, 0, 0, 0.15);\n",
              "      filter: drop-shadow(0px 1px 2px rgba(0, 0, 0, 0.3));\n",
              "      fill: #FFFFFF;\n",
              "    }\n",
              "  </style>\n",
              "\n",
              "    <script>\n",
              "      const buttonEl =\n",
              "        document.querySelector('#df-5610197f-eb58-4ef0-8bed-08b0188e4025 button.colab-df-convert');\n",
              "      buttonEl.style.display =\n",
              "        google.colab.kernel.accessAllowed ? 'block' : 'none';\n",
              "\n",
              "      async function convertToInteractive(key) {\n",
              "        const element = document.querySelector('#df-5610197f-eb58-4ef0-8bed-08b0188e4025');\n",
              "        const dataTable =\n",
              "          await google.colab.kernel.invokeFunction('convertToInteractive',\n",
              "                                                    [key], {});\n",
              "        if (!dataTable) return;\n",
              "\n",
              "        const docLinkHtml = 'Like what you see? Visit the ' +\n",
              "          '<a target=\"_blank\" href=https://colab.research.google.com/notebooks/data_table.ipynb>data table notebook</a>'\n",
              "          + ' to learn more about interactive tables.';\n",
              "        element.innerHTML = '';\n",
              "        dataTable['output_type'] = 'display_data';\n",
              "        await google.colab.output.renderOutput(dataTable, element);\n",
              "        const docLink = document.createElement('div');\n",
              "        docLink.innerHTML = docLinkHtml;\n",
              "        element.appendChild(docLink);\n",
              "      }\n",
              "    </script>\n",
              "  </div>\n",
              "\n",
              "\n",
              "<div id=\"df-d77b785c-ad4f-4377-ba91-f082dd83dff8\">\n",
              "  <button class=\"colab-df-quickchart\" onclick=\"quickchart('df-d77b785c-ad4f-4377-ba91-f082dd83dff8')\"\n",
              "            title=\"Suggest charts\"\n",
              "            style=\"display:none;\">\n",
              "\n",
              "<svg xmlns=\"http://www.w3.org/2000/svg\" height=\"24px\"viewBox=\"0 0 24 24\"\n",
              "     width=\"24px\">\n",
              "    <g>\n",
              "        <path d=\"M19 3H5c-1.1 0-2 .9-2 2v14c0 1.1.9 2 2 2h14c1.1 0 2-.9 2-2V5c0-1.1-.9-2-2-2zM9 17H7v-7h2v7zm4 0h-2V7h2v10zm4 0h-2v-4h2v4z\"/>\n",
              "    </g>\n",
              "</svg>\n",
              "  </button>\n",
              "\n",
              "<style>\n",
              "  .colab-df-quickchart {\n",
              "      --bg-color: #E8F0FE;\n",
              "      --fill-color: #1967D2;\n",
              "      --hover-bg-color: #E2EBFA;\n",
              "      --hover-fill-color: #174EA6;\n",
              "      --disabled-fill-color: #AAA;\n",
              "      --disabled-bg-color: #DDD;\n",
              "  }\n",
              "\n",
              "  [theme=dark] .colab-df-quickchart {\n",
              "      --bg-color: #3B4455;\n",
              "      --fill-color: #D2E3FC;\n",
              "      --hover-bg-color: #434B5C;\n",
              "      --hover-fill-color: #FFFFFF;\n",
              "      --disabled-bg-color: #3B4455;\n",
              "      --disabled-fill-color: #666;\n",
              "  }\n",
              "\n",
              "  .colab-df-quickchart {\n",
              "    background-color: var(--bg-color);\n",
              "    border: none;\n",
              "    border-radius: 50%;\n",
              "    cursor: pointer;\n",
              "    display: none;\n",
              "    fill: var(--fill-color);\n",
              "    height: 32px;\n",
              "    padding: 0;\n",
              "    width: 32px;\n",
              "  }\n",
              "\n",
              "  .colab-df-quickchart:hover {\n",
              "    background-color: var(--hover-bg-color);\n",
              "    box-shadow: 0 1px 2px rgba(60, 64, 67, 0.3), 0 1px 3px 1px rgba(60, 64, 67, 0.15);\n",
              "    fill: var(--button-hover-fill-color);\n",
              "  }\n",
              "\n",
              "  .colab-df-quickchart-complete:disabled,\n",
              "  .colab-df-quickchart-complete:disabled:hover {\n",
              "    background-color: var(--disabled-bg-color);\n",
              "    fill: var(--disabled-fill-color);\n",
              "    box-shadow: none;\n",
              "  }\n",
              "\n",
              "  .colab-df-spinner {\n",
              "    border: 2px solid var(--fill-color);\n",
              "    border-color: transparent;\n",
              "    border-bottom-color: var(--fill-color);\n",
              "    animation:\n",
              "      spin 1s steps(1) infinite;\n",
              "  }\n",
              "\n",
              "  @keyframes spin {\n",
              "    0% {\n",
              "      border-color: transparent;\n",
              "      border-bottom-color: var(--fill-color);\n",
              "      border-left-color: var(--fill-color);\n",
              "    }\n",
              "    20% {\n",
              "      border-color: transparent;\n",
              "      border-left-color: var(--fill-color);\n",
              "      border-top-color: var(--fill-color);\n",
              "    }\n",
              "    30% {\n",
              "      border-color: transparent;\n",
              "      border-left-color: var(--fill-color);\n",
              "      border-top-color: var(--fill-color);\n",
              "      border-right-color: var(--fill-color);\n",
              "    }\n",
              "    40% {\n",
              "      border-color: transparent;\n",
              "      border-right-color: var(--fill-color);\n",
              "      border-top-color: var(--fill-color);\n",
              "    }\n",
              "    60% {\n",
              "      border-color: transparent;\n",
              "      border-right-color: var(--fill-color);\n",
              "    }\n",
              "    80% {\n",
              "      border-color: transparent;\n",
              "      border-right-color: var(--fill-color);\n",
              "      border-bottom-color: var(--fill-color);\n",
              "    }\n",
              "    90% {\n",
              "      border-color: transparent;\n",
              "      border-bottom-color: var(--fill-color);\n",
              "    }\n",
              "  }\n",
              "</style>\n",
              "\n",
              "  <script>\n",
              "    async function quickchart(key) {\n",
              "      const quickchartButtonEl =\n",
              "        document.querySelector('#' + key + ' button');\n",
              "      quickchartButtonEl.disabled = true;  // To prevent multiple clicks.\n",
              "      quickchartButtonEl.classList.add('colab-df-spinner');\n",
              "      try {\n",
              "        const charts = await google.colab.kernel.invokeFunction(\n",
              "            'suggestCharts', [key], {});\n",
              "      } catch (error) {\n",
              "        console.error('Error during call to suggestCharts:', error);\n",
              "      }\n",
              "      quickchartButtonEl.classList.remove('colab-df-spinner');\n",
              "      quickchartButtonEl.classList.add('colab-df-quickchart-complete');\n",
              "    }\n",
              "    (() => {\n",
              "      let quickchartButtonEl =\n",
              "        document.querySelector('#df-d77b785c-ad4f-4377-ba91-f082dd83dff8 button');\n",
              "      quickchartButtonEl.style.display =\n",
              "        google.colab.kernel.accessAllowed ? 'block' : 'none';\n",
              "    })();\n",
              "  </script>\n",
              "</div>\n",
              "\n",
              "  <div id=\"id_47446a03-2cfc-475f-93e8-2cc90c110ff3\">\n",
              "    <style>\n",
              "      .colab-df-generate {\n",
              "        background-color: #E8F0FE;\n",
              "        border: none;\n",
              "        border-radius: 50%;\n",
              "        cursor: pointer;\n",
              "        display: none;\n",
              "        fill: #1967D2;\n",
              "        height: 32px;\n",
              "        padding: 0 0 0 0;\n",
              "        width: 32px;\n",
              "      }\n",
              "\n",
              "      .colab-df-generate:hover {\n",
              "        background-color: #E2EBFA;\n",
              "        box-shadow: 0px 1px 2px rgba(60, 64, 67, 0.3), 0px 1px 3px 1px rgba(60, 64, 67, 0.15);\n",
              "        fill: #174EA6;\n",
              "      }\n",
              "\n",
              "      [theme=dark] .colab-df-generate {\n",
              "        background-color: #3B4455;\n",
              "        fill: #D2E3FC;\n",
              "      }\n",
              "\n",
              "      [theme=dark] .colab-df-generate:hover {\n",
              "        background-color: #434B5C;\n",
              "        box-shadow: 0px 1px 3px 1px rgba(0, 0, 0, 0.15);\n",
              "        filter: drop-shadow(0px 1px 2px rgba(0, 0, 0, 0.3));\n",
              "        fill: #FFFFFF;\n",
              "      }\n",
              "    </style>\n",
              "    <button class=\"colab-df-generate\" onclick=\"generateWithVariable('pm_data')\"\n",
              "            title=\"Generate code using this dataframe.\"\n",
              "            style=\"display:none;\">\n",
              "\n",
              "  <svg xmlns=\"http://www.w3.org/2000/svg\" height=\"24px\"viewBox=\"0 0 24 24\"\n",
              "       width=\"24px\">\n",
              "    <path d=\"M7,19H8.4L18.45,9,17,7.55,7,17.6ZM5,21V16.75L18.45,3.32a2,2,0,0,1,2.83,0l1.4,1.43a1.91,1.91,0,0,1,.58,1.4,1.91,1.91,0,0,1-.58,1.4L9.25,21ZM18.45,9,17,7.55Zm-12,3A5.31,5.31,0,0,0,4.9,8.1,5.31,5.31,0,0,0,1,6.5,5.31,5.31,0,0,0,4.9,4.9,5.31,5.31,0,0,0,6.5,1,5.31,5.31,0,0,0,8.1,4.9,5.31,5.31,0,0,0,12,6.5,5.46,5.46,0,0,0,6.5,12Z\"/>\n",
              "  </svg>\n",
              "    </button>\n",
              "    <script>\n",
              "      (() => {\n",
              "      const buttonEl =\n",
              "        document.querySelector('#id_47446a03-2cfc-475f-93e8-2cc90c110ff3 button.colab-df-generate');\n",
              "      buttonEl.style.display =\n",
              "        google.colab.kernel.accessAllowed ? 'block' : 'none';\n",
              "\n",
              "      buttonEl.onclick = () => {\n",
              "        google.colab.notebook.generateWithVariable('pm_data');\n",
              "      }\n",
              "      })();\n",
              "    </script>\n",
              "  </div>\n",
              "\n",
              "    </div>\n",
              "  </div>\n"
            ],
            "application/vnd.google.colaboratory.intrinsic+json": {
              "type": "dataframe",
              "variable_name": "pm_data",
              "summary": "{\n  \"name\": \"pm_data\",\n  \"rows\": 12,\n  \"fields\": [\n    {\n      \"column\": \"PaymentMethod\",\n      \"properties\": {\n        \"dtype\": \"category\",\n        \"num_unique_values\": 4,\n        \"samples\": [\n          \"Credit card (automatic)\",\n          \"Mailed check\",\n          \"Bank transfer (automatic)\"\n        ],\n        \"semantic_type\": \"\",\n        \"description\": \"\"\n      }\n    },\n    {\n      \"column\": \"InternetService\",\n      \"properties\": {\n        \"dtype\": \"category\",\n        \"num_unique_values\": 3,\n        \"samples\": [\n          \"DSL\",\n          \"Fiber optic\",\n          \"No\"\n        ],\n        \"semantic_type\": \"\",\n        \"description\": \"\"\n      }\n    },\n    {\n      \"column\": \"customerID\",\n      \"properties\": {\n        \"dtype\": \"number\",\n        \"std\": 369,\n        \"min\": 122,\n        \"max\": 1595,\n        \"num_unique_values\": 12,\n        \"samples\": [\n          258,\n          613,\n          566\n        ],\n        \"semantic_type\": \"\",\n        \"description\": \"\"\n      }\n    },\n    {\n      \"column\": \"churn_clients\",\n      \"properties\": {\n        \"dtype\": \"number\",\n        \"std\": 228,\n        \"min\": 9,\n        \"max\": 849,\n        \"num_unique_values\": 12,\n        \"samples\": [\n          110,\n          127,\n          53\n        ],\n        \"semantic_type\": \"\",\n        \"description\": \"\"\n      }\n    }\n  ]\n}"
            }
          },
          "metadata": {},
          "execution_count": 102
        }
      ]
    },
    {
      "cell_type": "code",
      "source": [
        "pm_data['churn_rate,%'] = round(((pm_data['churn_clients']/pm_data['customerID']) * 100),2)\n"
      ],
      "metadata": {
        "id": "wdoPKl1brT2s"
      },
      "execution_count": 103,
      "outputs": []
    },
    {
      "cell_type": "code",
      "source": [
        "fig = px.bar(pm_data.sort_values('churn_rate,%'),\n",
        "             x='churn_rate,%',\n",
        "             y='PaymentMethod',\n",
        "             facet_col = 'InternetService',\n",
        "             color = 'churn_rate,%',\n",
        "             text = 'churn_rate,%')\n",
        "fig.show()"
      ],
      "metadata": {
        "colab": {
          "base_uri": "https://localhost:8080/",
          "height": 542
        },
        "id": "nQPsFzPKrb_5",
        "outputId": "0f9171df-7b12-4c1c-b82f-a47222739a0f"
      },
      "execution_count": 104,
      "outputs": [
        {
          "output_type": "display_data",
          "data": {
            "text/html": [
              "<html>\n",
              "<head><meta charset=\"utf-8\" /></head>\n",
              "<body>\n",
              "    <div>            <script src=\"https://cdnjs.cloudflare.com/ajax/libs/mathjax/2.7.5/MathJax.js?config=TeX-AMS-MML_SVG\"></script><script type=\"text/javascript\">if (window.MathJax && window.MathJax.Hub && window.MathJax.Hub.Config) {window.MathJax.Hub.Config({SVG: {font: \"STIX-Web\"}});}</script>                <script type=\"text/javascript\">window.PlotlyConfig = {MathJaxConfig: 'local'};</script>\n",
              "        <script charset=\"utf-8\" src=\"https://cdn.plot.ly/plotly-2.24.1.min.js\"></script>                <div id=\"bd004755-7f93-4e83-a981-f78f736e5998\" class=\"plotly-graph-div\" style=\"height:525px; width:100%;\"></div>            <script type=\"text/javascript\">                                    window.PLOTLYENV=window.PLOTLYENV || {};                                    if (document.getElementById(\"bd004755-7f93-4e83-a981-f78f736e5998\")) {                    Plotly.newPlot(                        \"bd004755-7f93-4e83-a981-f78f736e5998\",                        [{\"alignmentgroup\":\"True\",\"hovertemplate\":\"InternetService=No\\u003cbr\\u003echurn_rate,%=%{marker.color}\\u003cbr\\u003ePaymentMethod=%{y}\\u003cextra\\u003e\\u003c\\u002fextra\\u003e\",\"legendgroup\":\"\",\"marker\":{\"color\":[2.72,5.42,9.58,12.3],\"coloraxis\":\"coloraxis\",\"pattern\":{\"shape\":\"\"}},\"name\":\"\",\"offsetgroup\":\"\",\"orientation\":\"h\",\"showlegend\":false,\"text\":[2.72,5.42,9.58,12.3],\"textposition\":\"auto\",\"x\":[2.72,5.42,9.58,12.3],\"xaxis\":\"x\",\"y\":[\"Credit card (automatic)\",\"Bank transfer (automatic)\",\"Mailed check\",\"Electronic check\"],\"yaxis\":\"y\",\"type\":\"bar\"},{\"alignmentgroup\":\"True\",\"hovertemplate\":\"InternetService=DSL\\u003cbr\\u003echurn_rate,%=%{marker.color}\\u003cbr\\u003ePaymentMethod=%{y}\\u003cextra\\u003e\\u003c\\u002fextra\\u003e\",\"legendgroup\":\"\",\"marker\":{\"color\":[9.36,12.12,20.72,31.94],\"coloraxis\":\"coloraxis\",\"pattern\":{\"shape\":\"\"}},\"name\":\"\",\"offsetgroup\":\"\",\"orientation\":\"h\",\"showlegend\":false,\"text\":[9.36,12.12,20.72,31.94],\"textposition\":\"auto\",\"x\":[9.36,12.12,20.72,31.94],\"xaxis\":\"x2\",\"y\":[\"Bank transfer (automatic)\",\"Credit card (automatic)\",\"Mailed check\",\"Electronic check\"],\"yaxis\":\"y2\",\"type\":\"bar\"},{\"alignmentgroup\":\"True\",\"hovertemplate\":\"InternetService=Fiber optic\\u003cbr\\u003echurn_rate,%=%{marker.color}\\u003cbr\\u003ePaymentMethod=%{y}\\u003cextra\\u003e\\u003c\\u002fextra\\u003e\",\"legendgroup\":\"\",\"marker\":{\"color\":[25.29,28.95,42.64,53.23],\"coloraxis\":\"coloraxis\",\"pattern\":{\"shape\":\"\"}},\"name\":\"\",\"offsetgroup\":\"\",\"orientation\":\"h\",\"showlegend\":false,\"text\":[25.29,28.95,42.64,53.23],\"textposition\":\"auto\",\"x\":[25.29,28.95,42.64,53.23],\"xaxis\":\"x3\",\"y\":[\"Credit card (automatic)\",\"Bank transfer (automatic)\",\"Mailed check\",\"Electronic check\"],\"yaxis\":\"y3\",\"type\":\"bar\"}],                        {\"template\":{\"data\":{\"histogram2dcontour\":[{\"type\":\"histogram2dcontour\",\"colorbar\":{\"outlinewidth\":0,\"ticks\":\"\"},\"colorscale\":[[0.0,\"#0d0887\"],[0.1111111111111111,\"#46039f\"],[0.2222222222222222,\"#7201a8\"],[0.3333333333333333,\"#9c179e\"],[0.4444444444444444,\"#bd3786\"],[0.5555555555555556,\"#d8576b\"],[0.6666666666666666,\"#ed7953\"],[0.7777777777777778,\"#fb9f3a\"],[0.8888888888888888,\"#fdca26\"],[1.0,\"#f0f921\"]]}],\"choropleth\":[{\"type\":\"choropleth\",\"colorbar\":{\"outlinewidth\":0,\"ticks\":\"\"}}],\"histogram2d\":[{\"type\":\"histogram2d\",\"colorbar\":{\"outlinewidth\":0,\"ticks\":\"\"},\"colorscale\":[[0.0,\"#0d0887\"],[0.1111111111111111,\"#46039f\"],[0.2222222222222222,\"#7201a8\"],[0.3333333333333333,\"#9c179e\"],[0.4444444444444444,\"#bd3786\"],[0.5555555555555556,\"#d8576b\"],[0.6666666666666666,\"#ed7953\"],[0.7777777777777778,\"#fb9f3a\"],[0.8888888888888888,\"#fdca26\"],[1.0,\"#f0f921\"]]}],\"heatmap\":[{\"type\":\"heatmap\",\"colorbar\":{\"outlinewidth\":0,\"ticks\":\"\"},\"colorscale\":[[0.0,\"#0d0887\"],[0.1111111111111111,\"#46039f\"],[0.2222222222222222,\"#7201a8\"],[0.3333333333333333,\"#9c179e\"],[0.4444444444444444,\"#bd3786\"],[0.5555555555555556,\"#d8576b\"],[0.6666666666666666,\"#ed7953\"],[0.7777777777777778,\"#fb9f3a\"],[0.8888888888888888,\"#fdca26\"],[1.0,\"#f0f921\"]]}],\"heatmapgl\":[{\"type\":\"heatmapgl\",\"colorbar\":{\"outlinewidth\":0,\"ticks\":\"\"},\"colorscale\":[[0.0,\"#0d0887\"],[0.1111111111111111,\"#46039f\"],[0.2222222222222222,\"#7201a8\"],[0.3333333333333333,\"#9c179e\"],[0.4444444444444444,\"#bd3786\"],[0.5555555555555556,\"#d8576b\"],[0.6666666666666666,\"#ed7953\"],[0.7777777777777778,\"#fb9f3a\"],[0.8888888888888888,\"#fdca26\"],[1.0,\"#f0f921\"]]}],\"contourcarpet\":[{\"type\":\"contourcarpet\",\"colorbar\":{\"outlinewidth\":0,\"ticks\":\"\"}}],\"contour\":[{\"type\":\"contour\",\"colorbar\":{\"outlinewidth\":0,\"ticks\":\"\"},\"colorscale\":[[0.0,\"#0d0887\"],[0.1111111111111111,\"#46039f\"],[0.2222222222222222,\"#7201a8\"],[0.3333333333333333,\"#9c179e\"],[0.4444444444444444,\"#bd3786\"],[0.5555555555555556,\"#d8576b\"],[0.6666666666666666,\"#ed7953\"],[0.7777777777777778,\"#fb9f3a\"],[0.8888888888888888,\"#fdca26\"],[1.0,\"#f0f921\"]]}],\"surface\":[{\"type\":\"surface\",\"colorbar\":{\"outlinewidth\":0,\"ticks\":\"\"},\"colorscale\":[[0.0,\"#0d0887\"],[0.1111111111111111,\"#46039f\"],[0.2222222222222222,\"#7201a8\"],[0.3333333333333333,\"#9c179e\"],[0.4444444444444444,\"#bd3786\"],[0.5555555555555556,\"#d8576b\"],[0.6666666666666666,\"#ed7953\"],[0.7777777777777778,\"#fb9f3a\"],[0.8888888888888888,\"#fdca26\"],[1.0,\"#f0f921\"]]}],\"mesh3d\":[{\"type\":\"mesh3d\",\"colorbar\":{\"outlinewidth\":0,\"ticks\":\"\"}}],\"scatter\":[{\"fillpattern\":{\"fillmode\":\"overlay\",\"size\":10,\"solidity\":0.2},\"type\":\"scatter\"}],\"parcoords\":[{\"type\":\"parcoords\",\"line\":{\"colorbar\":{\"outlinewidth\":0,\"ticks\":\"\"}}}],\"scatterpolargl\":[{\"type\":\"scatterpolargl\",\"marker\":{\"colorbar\":{\"outlinewidth\":0,\"ticks\":\"\"}}}],\"bar\":[{\"error_x\":{\"color\":\"#2a3f5f\"},\"error_y\":{\"color\":\"#2a3f5f\"},\"marker\":{\"line\":{\"color\":\"#E5ECF6\",\"width\":0.5},\"pattern\":{\"fillmode\":\"overlay\",\"size\":10,\"solidity\":0.2}},\"type\":\"bar\"}],\"scattergeo\":[{\"type\":\"scattergeo\",\"marker\":{\"colorbar\":{\"outlinewidth\":0,\"ticks\":\"\"}}}],\"scatterpolar\":[{\"type\":\"scatterpolar\",\"marker\":{\"colorbar\":{\"outlinewidth\":0,\"ticks\":\"\"}}}],\"histogram\":[{\"marker\":{\"pattern\":{\"fillmode\":\"overlay\",\"size\":10,\"solidity\":0.2}},\"type\":\"histogram\"}],\"scattergl\":[{\"type\":\"scattergl\",\"marker\":{\"colorbar\":{\"outlinewidth\":0,\"ticks\":\"\"}}}],\"scatter3d\":[{\"type\":\"scatter3d\",\"line\":{\"colorbar\":{\"outlinewidth\":0,\"ticks\":\"\"}},\"marker\":{\"colorbar\":{\"outlinewidth\":0,\"ticks\":\"\"}}}],\"scattermapbox\":[{\"type\":\"scattermapbox\",\"marker\":{\"colorbar\":{\"outlinewidth\":0,\"ticks\":\"\"}}}],\"scatterternary\":[{\"type\":\"scatterternary\",\"marker\":{\"colorbar\":{\"outlinewidth\":0,\"ticks\":\"\"}}}],\"scattercarpet\":[{\"type\":\"scattercarpet\",\"marker\":{\"colorbar\":{\"outlinewidth\":0,\"ticks\":\"\"}}}],\"carpet\":[{\"aaxis\":{\"endlinecolor\":\"#2a3f5f\",\"gridcolor\":\"white\",\"linecolor\":\"white\",\"minorgridcolor\":\"white\",\"startlinecolor\":\"#2a3f5f\"},\"baxis\":{\"endlinecolor\":\"#2a3f5f\",\"gridcolor\":\"white\",\"linecolor\":\"white\",\"minorgridcolor\":\"white\",\"startlinecolor\":\"#2a3f5f\"},\"type\":\"carpet\"}],\"table\":[{\"cells\":{\"fill\":{\"color\":\"#EBF0F8\"},\"line\":{\"color\":\"white\"}},\"header\":{\"fill\":{\"color\":\"#C8D4E3\"},\"line\":{\"color\":\"white\"}},\"type\":\"table\"}],\"barpolar\":[{\"marker\":{\"line\":{\"color\":\"#E5ECF6\",\"width\":0.5},\"pattern\":{\"fillmode\":\"overlay\",\"size\":10,\"solidity\":0.2}},\"type\":\"barpolar\"}],\"pie\":[{\"automargin\":true,\"type\":\"pie\"}]},\"layout\":{\"autotypenumbers\":\"strict\",\"colorway\":[\"#636efa\",\"#EF553B\",\"#00cc96\",\"#ab63fa\",\"#FFA15A\",\"#19d3f3\",\"#FF6692\",\"#B6E880\",\"#FF97FF\",\"#FECB52\"],\"font\":{\"color\":\"#2a3f5f\"},\"hovermode\":\"closest\",\"hoverlabel\":{\"align\":\"left\"},\"paper_bgcolor\":\"white\",\"plot_bgcolor\":\"#E5ECF6\",\"polar\":{\"bgcolor\":\"#E5ECF6\",\"angularaxis\":{\"gridcolor\":\"white\",\"linecolor\":\"white\",\"ticks\":\"\"},\"radialaxis\":{\"gridcolor\":\"white\",\"linecolor\":\"white\",\"ticks\":\"\"}},\"ternary\":{\"bgcolor\":\"#E5ECF6\",\"aaxis\":{\"gridcolor\":\"white\",\"linecolor\":\"white\",\"ticks\":\"\"},\"baxis\":{\"gridcolor\":\"white\",\"linecolor\":\"white\",\"ticks\":\"\"},\"caxis\":{\"gridcolor\":\"white\",\"linecolor\":\"white\",\"ticks\":\"\"}},\"coloraxis\":{\"colorbar\":{\"outlinewidth\":0,\"ticks\":\"\"}},\"colorscale\":{\"sequential\":[[0.0,\"#0d0887\"],[0.1111111111111111,\"#46039f\"],[0.2222222222222222,\"#7201a8\"],[0.3333333333333333,\"#9c179e\"],[0.4444444444444444,\"#bd3786\"],[0.5555555555555556,\"#d8576b\"],[0.6666666666666666,\"#ed7953\"],[0.7777777777777778,\"#fb9f3a\"],[0.8888888888888888,\"#fdca26\"],[1.0,\"#f0f921\"]],\"sequentialminus\":[[0.0,\"#0d0887\"],[0.1111111111111111,\"#46039f\"],[0.2222222222222222,\"#7201a8\"],[0.3333333333333333,\"#9c179e\"],[0.4444444444444444,\"#bd3786\"],[0.5555555555555556,\"#d8576b\"],[0.6666666666666666,\"#ed7953\"],[0.7777777777777778,\"#fb9f3a\"],[0.8888888888888888,\"#fdca26\"],[1.0,\"#f0f921\"]],\"diverging\":[[0,\"#8e0152\"],[0.1,\"#c51b7d\"],[0.2,\"#de77ae\"],[0.3,\"#f1b6da\"],[0.4,\"#fde0ef\"],[0.5,\"#f7f7f7\"],[0.6,\"#e6f5d0\"],[0.7,\"#b8e186\"],[0.8,\"#7fbc41\"],[0.9,\"#4d9221\"],[1,\"#276419\"]]},\"xaxis\":{\"gridcolor\":\"white\",\"linecolor\":\"white\",\"ticks\":\"\",\"title\":{\"standoff\":15},\"zerolinecolor\":\"white\",\"automargin\":true,\"zerolinewidth\":2},\"yaxis\":{\"gridcolor\":\"white\",\"linecolor\":\"white\",\"ticks\":\"\",\"title\":{\"standoff\":15},\"zerolinecolor\":\"white\",\"automargin\":true,\"zerolinewidth\":2},\"scene\":{\"xaxis\":{\"backgroundcolor\":\"#E5ECF6\",\"gridcolor\":\"white\",\"linecolor\":\"white\",\"showbackground\":true,\"ticks\":\"\",\"zerolinecolor\":\"white\",\"gridwidth\":2},\"yaxis\":{\"backgroundcolor\":\"#E5ECF6\",\"gridcolor\":\"white\",\"linecolor\":\"white\",\"showbackground\":true,\"ticks\":\"\",\"zerolinecolor\":\"white\",\"gridwidth\":2},\"zaxis\":{\"backgroundcolor\":\"#E5ECF6\",\"gridcolor\":\"white\",\"linecolor\":\"white\",\"showbackground\":true,\"ticks\":\"\",\"zerolinecolor\":\"white\",\"gridwidth\":2}},\"shapedefaults\":{\"line\":{\"color\":\"#2a3f5f\"}},\"annotationdefaults\":{\"arrowcolor\":\"#2a3f5f\",\"arrowhead\":0,\"arrowwidth\":1},\"geo\":{\"bgcolor\":\"white\",\"landcolor\":\"#E5ECF6\",\"subunitcolor\":\"white\",\"showland\":true,\"showlakes\":true,\"lakecolor\":\"white\"},\"title\":{\"x\":0.05},\"mapbox\":{\"style\":\"light\"}}},\"xaxis\":{\"anchor\":\"y\",\"domain\":[0.0,0.31999999999999995],\"title\":{\"text\":\"churn_rate,%\"}},\"yaxis\":{\"anchor\":\"x\",\"domain\":[0.0,1.0],\"title\":{\"text\":\"PaymentMethod\"}},\"xaxis2\":{\"anchor\":\"y2\",\"domain\":[0.33999999999999997,0.6599999999999999],\"matches\":\"x\",\"title\":{\"text\":\"churn_rate,%\"}},\"yaxis2\":{\"anchor\":\"x2\",\"domain\":[0.0,1.0],\"matches\":\"y\",\"showticklabels\":false},\"xaxis3\":{\"anchor\":\"y3\",\"domain\":[0.6799999999999999,0.9999999999999999],\"matches\":\"x\",\"title\":{\"text\":\"churn_rate,%\"}},\"yaxis3\":{\"anchor\":\"x3\",\"domain\":[0.0,1.0],\"matches\":\"y\",\"showticklabels\":false},\"annotations\":[{\"font\":{},\"showarrow\":false,\"text\":\"InternetService=No\",\"x\":0.15999999999999998,\"xanchor\":\"center\",\"xref\":\"paper\",\"y\":1.0,\"yanchor\":\"bottom\",\"yref\":\"paper\"},{\"font\":{},\"showarrow\":false,\"text\":\"InternetService=DSL\",\"x\":0.49999999999999994,\"xanchor\":\"center\",\"xref\":\"paper\",\"y\":1.0,\"yanchor\":\"bottom\",\"yref\":\"paper\"},{\"font\":{},\"showarrow\":false,\"text\":\"InternetService=Fiber optic\",\"x\":0.8399999999999999,\"xanchor\":\"center\",\"xref\":\"paper\",\"y\":1.0,\"yanchor\":\"bottom\",\"yref\":\"paper\"}],\"coloraxis\":{\"colorbar\":{\"title\":{\"text\":\"churn_rate,%\"}},\"colorscale\":[[0.0,\"#0d0887\"],[0.1111111111111111,\"#46039f\"],[0.2222222222222222,\"#7201a8\"],[0.3333333333333333,\"#9c179e\"],[0.4444444444444444,\"#bd3786\"],[0.5555555555555556,\"#d8576b\"],[0.6666666666666666,\"#ed7953\"],[0.7777777777777778,\"#fb9f3a\"],[0.8888888888888888,\"#fdca26\"],[1.0,\"#f0f921\"]]},\"legend\":{\"tracegroupgap\":0},\"margin\":{\"t\":60},\"barmode\":\"relative\"},                        {\"responsive\": true}                    ).then(function(){\n",
              "                            \n",
              "var gd = document.getElementById('bd004755-7f93-4e83-a981-f78f736e5998');\n",
              "var x = new MutationObserver(function (mutations, observer) {{\n",
              "        var display = window.getComputedStyle(gd).display;\n",
              "        if (!display || display === 'none') {{\n",
              "            console.log([gd, 'removed!']);\n",
              "            Plotly.purge(gd);\n",
              "            observer.disconnect();\n",
              "        }}\n",
              "}});\n",
              "\n",
              "// Listen for the removal of the full notebook cells\n",
              "var notebookContainer = gd.closest('#notebook-container');\n",
              "if (notebookContainer) {{\n",
              "    x.observe(notebookContainer, {childList: true});\n",
              "}}\n",
              "\n",
              "// Listen for the clearing of the current output cell\n",
              "var outputEl = gd.closest('.output');\n",
              "if (outputEl) {{\n",
              "    x.observe(outputEl, {childList: true});\n",
              "}}\n",
              "\n",
              "                        })                };                            </script>        </div>\n",
              "</body>\n",
              "</html>"
            ]
          },
          "metadata": {}
        }
      ]
    },
    {
      "cell_type": "markdown",
      "source": [
        "We see that for fiber optic internet, churn rates are higher for all payment methods, but the highest is for electronic and mailed checks.We also see that even for Internet DSL, the churn rate for these payment methods is increasing.\n",
        "\n",
        "At this stage, we found out that the highest churn rate is observed among customers with an electronic check as a means of payment. This behavior is observed for all types of online services, but it is still stronger among customers with optical fiber Internet.\n",
        "\n",
        "#### Gender and age of clients\n",
        "**Customer's gender**"
      ],
      "metadata": {
        "id": "BpGj2v8grp7X"
      }
    },
    {
      "cell_type": "code",
      "source": [
        "fig = px.pie(df.groupby('gender')['customerID'].count().reset_index(),\n",
        "             values='customerID',\n",
        "             names='gender',\n",
        "             color_discrete_sequence=px.colors.sequential.RdBu,\n",
        "             title = 'Distribution of the clients by gender')\n",
        "fig.show()"
      ],
      "metadata": {
        "colab": {
          "base_uri": "https://localhost:8080/",
          "height": 542
        },
        "id": "Yl3xgAbhr1TO",
        "outputId": "8ed5d4e5-4f1b-4162-84b7-631b27102bf4"
      },
      "execution_count": 105,
      "outputs": [
        {
          "output_type": "display_data",
          "data": {
            "text/html": [
              "<html>\n",
              "<head><meta charset=\"utf-8\" /></head>\n",
              "<body>\n",
              "    <div>            <script src=\"https://cdnjs.cloudflare.com/ajax/libs/mathjax/2.7.5/MathJax.js?config=TeX-AMS-MML_SVG\"></script><script type=\"text/javascript\">if (window.MathJax && window.MathJax.Hub && window.MathJax.Hub.Config) {window.MathJax.Hub.Config({SVG: {font: \"STIX-Web\"}});}</script>                <script type=\"text/javascript\">window.PlotlyConfig = {MathJaxConfig: 'local'};</script>\n",
              "        <script charset=\"utf-8\" src=\"https://cdn.plot.ly/plotly-2.24.1.min.js\"></script>                <div id=\"3e073773-8083-4b84-a645-ed0d446a9ba6\" class=\"plotly-graph-div\" style=\"height:525px; width:100%;\"></div>            <script type=\"text/javascript\">                                    window.PLOTLYENV=window.PLOTLYENV || {};                                    if (document.getElementById(\"3e073773-8083-4b84-a645-ed0d446a9ba6\")) {                    Plotly.newPlot(                        \"3e073773-8083-4b84-a645-ed0d446a9ba6\",                        [{\"domain\":{\"x\":[0.0,1.0],\"y\":[0.0,1.0]},\"hovertemplate\":\"gender=%{label}\\u003cbr\\u003ecustomerID=%{value}\\u003cextra\\u003e\\u003c\\u002fextra\\u003e\",\"labels\":[\"Female\",\"Male\"],\"legendgroup\":\"\",\"name\":\"\",\"showlegend\":true,\"values\":[3488,3555],\"type\":\"pie\"}],                        {\"template\":{\"data\":{\"histogram2dcontour\":[{\"type\":\"histogram2dcontour\",\"colorbar\":{\"outlinewidth\":0,\"ticks\":\"\"},\"colorscale\":[[0.0,\"#0d0887\"],[0.1111111111111111,\"#46039f\"],[0.2222222222222222,\"#7201a8\"],[0.3333333333333333,\"#9c179e\"],[0.4444444444444444,\"#bd3786\"],[0.5555555555555556,\"#d8576b\"],[0.6666666666666666,\"#ed7953\"],[0.7777777777777778,\"#fb9f3a\"],[0.8888888888888888,\"#fdca26\"],[1.0,\"#f0f921\"]]}],\"choropleth\":[{\"type\":\"choropleth\",\"colorbar\":{\"outlinewidth\":0,\"ticks\":\"\"}}],\"histogram2d\":[{\"type\":\"histogram2d\",\"colorbar\":{\"outlinewidth\":0,\"ticks\":\"\"},\"colorscale\":[[0.0,\"#0d0887\"],[0.1111111111111111,\"#46039f\"],[0.2222222222222222,\"#7201a8\"],[0.3333333333333333,\"#9c179e\"],[0.4444444444444444,\"#bd3786\"],[0.5555555555555556,\"#d8576b\"],[0.6666666666666666,\"#ed7953\"],[0.7777777777777778,\"#fb9f3a\"],[0.8888888888888888,\"#fdca26\"],[1.0,\"#f0f921\"]]}],\"heatmap\":[{\"type\":\"heatmap\",\"colorbar\":{\"outlinewidth\":0,\"ticks\":\"\"},\"colorscale\":[[0.0,\"#0d0887\"],[0.1111111111111111,\"#46039f\"],[0.2222222222222222,\"#7201a8\"],[0.3333333333333333,\"#9c179e\"],[0.4444444444444444,\"#bd3786\"],[0.5555555555555556,\"#d8576b\"],[0.6666666666666666,\"#ed7953\"],[0.7777777777777778,\"#fb9f3a\"],[0.8888888888888888,\"#fdca26\"],[1.0,\"#f0f921\"]]}],\"heatmapgl\":[{\"type\":\"heatmapgl\",\"colorbar\":{\"outlinewidth\":0,\"ticks\":\"\"},\"colorscale\":[[0.0,\"#0d0887\"],[0.1111111111111111,\"#46039f\"],[0.2222222222222222,\"#7201a8\"],[0.3333333333333333,\"#9c179e\"],[0.4444444444444444,\"#bd3786\"],[0.5555555555555556,\"#d8576b\"],[0.6666666666666666,\"#ed7953\"],[0.7777777777777778,\"#fb9f3a\"],[0.8888888888888888,\"#fdca26\"],[1.0,\"#f0f921\"]]}],\"contourcarpet\":[{\"type\":\"contourcarpet\",\"colorbar\":{\"outlinewidth\":0,\"ticks\":\"\"}}],\"contour\":[{\"type\":\"contour\",\"colorbar\":{\"outlinewidth\":0,\"ticks\":\"\"},\"colorscale\":[[0.0,\"#0d0887\"],[0.1111111111111111,\"#46039f\"],[0.2222222222222222,\"#7201a8\"],[0.3333333333333333,\"#9c179e\"],[0.4444444444444444,\"#bd3786\"],[0.5555555555555556,\"#d8576b\"],[0.6666666666666666,\"#ed7953\"],[0.7777777777777778,\"#fb9f3a\"],[0.8888888888888888,\"#fdca26\"],[1.0,\"#f0f921\"]]}],\"surface\":[{\"type\":\"surface\",\"colorbar\":{\"outlinewidth\":0,\"ticks\":\"\"},\"colorscale\":[[0.0,\"#0d0887\"],[0.1111111111111111,\"#46039f\"],[0.2222222222222222,\"#7201a8\"],[0.3333333333333333,\"#9c179e\"],[0.4444444444444444,\"#bd3786\"],[0.5555555555555556,\"#d8576b\"],[0.6666666666666666,\"#ed7953\"],[0.7777777777777778,\"#fb9f3a\"],[0.8888888888888888,\"#fdca26\"],[1.0,\"#f0f921\"]]}],\"mesh3d\":[{\"type\":\"mesh3d\",\"colorbar\":{\"outlinewidth\":0,\"ticks\":\"\"}}],\"scatter\":[{\"fillpattern\":{\"fillmode\":\"overlay\",\"size\":10,\"solidity\":0.2},\"type\":\"scatter\"}],\"parcoords\":[{\"type\":\"parcoords\",\"line\":{\"colorbar\":{\"outlinewidth\":0,\"ticks\":\"\"}}}],\"scatterpolargl\":[{\"type\":\"scatterpolargl\",\"marker\":{\"colorbar\":{\"outlinewidth\":0,\"ticks\":\"\"}}}],\"bar\":[{\"error_x\":{\"color\":\"#2a3f5f\"},\"error_y\":{\"color\":\"#2a3f5f\"},\"marker\":{\"line\":{\"color\":\"#E5ECF6\",\"width\":0.5},\"pattern\":{\"fillmode\":\"overlay\",\"size\":10,\"solidity\":0.2}},\"type\":\"bar\"}],\"scattergeo\":[{\"type\":\"scattergeo\",\"marker\":{\"colorbar\":{\"outlinewidth\":0,\"ticks\":\"\"}}}],\"scatterpolar\":[{\"type\":\"scatterpolar\",\"marker\":{\"colorbar\":{\"outlinewidth\":0,\"ticks\":\"\"}}}],\"histogram\":[{\"marker\":{\"pattern\":{\"fillmode\":\"overlay\",\"size\":10,\"solidity\":0.2}},\"type\":\"histogram\"}],\"scattergl\":[{\"type\":\"scattergl\",\"marker\":{\"colorbar\":{\"outlinewidth\":0,\"ticks\":\"\"}}}],\"scatter3d\":[{\"type\":\"scatter3d\",\"line\":{\"colorbar\":{\"outlinewidth\":0,\"ticks\":\"\"}},\"marker\":{\"colorbar\":{\"outlinewidth\":0,\"ticks\":\"\"}}}],\"scattermapbox\":[{\"type\":\"scattermapbox\",\"marker\":{\"colorbar\":{\"outlinewidth\":0,\"ticks\":\"\"}}}],\"scatterternary\":[{\"type\":\"scatterternary\",\"marker\":{\"colorbar\":{\"outlinewidth\":0,\"ticks\":\"\"}}}],\"scattercarpet\":[{\"type\":\"scattercarpet\",\"marker\":{\"colorbar\":{\"outlinewidth\":0,\"ticks\":\"\"}}}],\"carpet\":[{\"aaxis\":{\"endlinecolor\":\"#2a3f5f\",\"gridcolor\":\"white\",\"linecolor\":\"white\",\"minorgridcolor\":\"white\",\"startlinecolor\":\"#2a3f5f\"},\"baxis\":{\"endlinecolor\":\"#2a3f5f\",\"gridcolor\":\"white\",\"linecolor\":\"white\",\"minorgridcolor\":\"white\",\"startlinecolor\":\"#2a3f5f\"},\"type\":\"carpet\"}],\"table\":[{\"cells\":{\"fill\":{\"color\":\"#EBF0F8\"},\"line\":{\"color\":\"white\"}},\"header\":{\"fill\":{\"color\":\"#C8D4E3\"},\"line\":{\"color\":\"white\"}},\"type\":\"table\"}],\"barpolar\":[{\"marker\":{\"line\":{\"color\":\"#E5ECF6\",\"width\":0.5},\"pattern\":{\"fillmode\":\"overlay\",\"size\":10,\"solidity\":0.2}},\"type\":\"barpolar\"}],\"pie\":[{\"automargin\":true,\"type\":\"pie\"}]},\"layout\":{\"autotypenumbers\":\"strict\",\"colorway\":[\"#636efa\",\"#EF553B\",\"#00cc96\",\"#ab63fa\",\"#FFA15A\",\"#19d3f3\",\"#FF6692\",\"#B6E880\",\"#FF97FF\",\"#FECB52\"],\"font\":{\"color\":\"#2a3f5f\"},\"hovermode\":\"closest\",\"hoverlabel\":{\"align\":\"left\"},\"paper_bgcolor\":\"white\",\"plot_bgcolor\":\"#E5ECF6\",\"polar\":{\"bgcolor\":\"#E5ECF6\",\"angularaxis\":{\"gridcolor\":\"white\",\"linecolor\":\"white\",\"ticks\":\"\"},\"radialaxis\":{\"gridcolor\":\"white\",\"linecolor\":\"white\",\"ticks\":\"\"}},\"ternary\":{\"bgcolor\":\"#E5ECF6\",\"aaxis\":{\"gridcolor\":\"white\",\"linecolor\":\"white\",\"ticks\":\"\"},\"baxis\":{\"gridcolor\":\"white\",\"linecolor\":\"white\",\"ticks\":\"\"},\"caxis\":{\"gridcolor\":\"white\",\"linecolor\":\"white\",\"ticks\":\"\"}},\"coloraxis\":{\"colorbar\":{\"outlinewidth\":0,\"ticks\":\"\"}},\"colorscale\":{\"sequential\":[[0.0,\"#0d0887\"],[0.1111111111111111,\"#46039f\"],[0.2222222222222222,\"#7201a8\"],[0.3333333333333333,\"#9c179e\"],[0.4444444444444444,\"#bd3786\"],[0.5555555555555556,\"#d8576b\"],[0.6666666666666666,\"#ed7953\"],[0.7777777777777778,\"#fb9f3a\"],[0.8888888888888888,\"#fdca26\"],[1.0,\"#f0f921\"]],\"sequentialminus\":[[0.0,\"#0d0887\"],[0.1111111111111111,\"#46039f\"],[0.2222222222222222,\"#7201a8\"],[0.3333333333333333,\"#9c179e\"],[0.4444444444444444,\"#bd3786\"],[0.5555555555555556,\"#d8576b\"],[0.6666666666666666,\"#ed7953\"],[0.7777777777777778,\"#fb9f3a\"],[0.8888888888888888,\"#fdca26\"],[1.0,\"#f0f921\"]],\"diverging\":[[0,\"#8e0152\"],[0.1,\"#c51b7d\"],[0.2,\"#de77ae\"],[0.3,\"#f1b6da\"],[0.4,\"#fde0ef\"],[0.5,\"#f7f7f7\"],[0.6,\"#e6f5d0\"],[0.7,\"#b8e186\"],[0.8,\"#7fbc41\"],[0.9,\"#4d9221\"],[1,\"#276419\"]]},\"xaxis\":{\"gridcolor\":\"white\",\"linecolor\":\"white\",\"ticks\":\"\",\"title\":{\"standoff\":15},\"zerolinecolor\":\"white\",\"automargin\":true,\"zerolinewidth\":2},\"yaxis\":{\"gridcolor\":\"white\",\"linecolor\":\"white\",\"ticks\":\"\",\"title\":{\"standoff\":15},\"zerolinecolor\":\"white\",\"automargin\":true,\"zerolinewidth\":2},\"scene\":{\"xaxis\":{\"backgroundcolor\":\"#E5ECF6\",\"gridcolor\":\"white\",\"linecolor\":\"white\",\"showbackground\":true,\"ticks\":\"\",\"zerolinecolor\":\"white\",\"gridwidth\":2},\"yaxis\":{\"backgroundcolor\":\"#E5ECF6\",\"gridcolor\":\"white\",\"linecolor\":\"white\",\"showbackground\":true,\"ticks\":\"\",\"zerolinecolor\":\"white\",\"gridwidth\":2},\"zaxis\":{\"backgroundcolor\":\"#E5ECF6\",\"gridcolor\":\"white\",\"linecolor\":\"white\",\"showbackground\":true,\"ticks\":\"\",\"zerolinecolor\":\"white\",\"gridwidth\":2}},\"shapedefaults\":{\"line\":{\"color\":\"#2a3f5f\"}},\"annotationdefaults\":{\"arrowcolor\":\"#2a3f5f\",\"arrowhead\":0,\"arrowwidth\":1},\"geo\":{\"bgcolor\":\"white\",\"landcolor\":\"#E5ECF6\",\"subunitcolor\":\"white\",\"showland\":true,\"showlakes\":true,\"lakecolor\":\"white\"},\"title\":{\"x\":0.05},\"mapbox\":{\"style\":\"light\"}}},\"legend\":{\"tracegroupgap\":0},\"title\":{\"text\":\"Distribution of the clients by gender\"},\"piecolorway\":[\"rgb(103,0,31)\",\"rgb(178,24,43)\",\"rgb(214,96,77)\",\"rgb(244,165,130)\",\"rgb(253,219,199)\",\"rgb(247,247,247)\",\"rgb(209,229,240)\",\"rgb(146,197,222)\",\"rgb(67,147,195)\",\"rgb(33,102,172)\",\"rgb(5,48,97)\"]},                        {\"responsive\": true}                    ).then(function(){\n",
              "                            \n",
              "var gd = document.getElementById('3e073773-8083-4b84-a645-ed0d446a9ba6');\n",
              "var x = new MutationObserver(function (mutations, observer) {{\n",
              "        var display = window.getComputedStyle(gd).display;\n",
              "        if (!display || display === 'none') {{\n",
              "            console.log([gd, 'removed!']);\n",
              "            Plotly.purge(gd);\n",
              "            observer.disconnect();\n",
              "        }}\n",
              "}});\n",
              "\n",
              "// Listen for the removal of the full notebook cells\n",
              "var notebookContainer = gd.closest('#notebook-container');\n",
              "if (notebookContainer) {{\n",
              "    x.observe(notebookContainer, {childList: true});\n",
              "}}\n",
              "\n",
              "// Listen for the clearing of the current output cell\n",
              "var outputEl = gd.closest('.output');\n",
              "if (outputEl) {{\n",
              "    x.observe(outputEl, {childList: true});\n",
              "}}\n",
              "\n",
              "                        })                };                            </script>        </div>\n",
              "</body>\n",
              "</html>"
            ]
          },
          "metadata": {}
        }
      ]
    },
    {
      "cell_type": "markdown",
      "source": [
        "\n",
        "We almost have an equal number of mean and women in the dataset. Let's see of there is a difference in the churn rate"
      ],
      "metadata": {
        "id": "l2ywgIpksQ_U"
      }
    },
    {
      "cell_type": "code",
      "source": [
        "fig = px.bar(df.groupby(['gender',\n",
        "                                                'Churn'])['customerID'].count().reset_index(),\n",
        "             x=\"customerID\",\n",
        "             y=\"gender\",\n",
        "             color=\"Churn\",\n",
        "             text = 'customerID'\n",
        "            )\n",
        "fig.show()"
      ],
      "metadata": {
        "colab": {
          "base_uri": "https://localhost:8080/",
          "height": 542
        },
        "id": "8qo6nwk1sDts",
        "outputId": "4c89bdf2-4a52-4289-c7f2-1aad5382b980"
      },
      "execution_count": 106,
      "outputs": [
        {
          "output_type": "display_data",
          "data": {
            "text/html": [
              "<html>\n",
              "<head><meta charset=\"utf-8\" /></head>\n",
              "<body>\n",
              "    <div>            <script src=\"https://cdnjs.cloudflare.com/ajax/libs/mathjax/2.7.5/MathJax.js?config=TeX-AMS-MML_SVG\"></script><script type=\"text/javascript\">if (window.MathJax && window.MathJax.Hub && window.MathJax.Hub.Config) {window.MathJax.Hub.Config({SVG: {font: \"STIX-Web\"}});}</script>                <script type=\"text/javascript\">window.PlotlyConfig = {MathJaxConfig: 'local'};</script>\n",
              "        <script charset=\"utf-8\" src=\"https://cdn.plot.ly/plotly-2.24.1.min.js\"></script>                <div id=\"88bedf3f-b93c-4417-8276-604fb18ac1f2\" class=\"plotly-graph-div\" style=\"height:525px; width:100%;\"></div>            <script type=\"text/javascript\">                                    window.PLOTLYENV=window.PLOTLYENV || {};                                    if (document.getElementById(\"88bedf3f-b93c-4417-8276-604fb18ac1f2\")) {                    Plotly.newPlot(                        \"88bedf3f-b93c-4417-8276-604fb18ac1f2\",                        [{\"alignmentgroup\":\"True\",\"hovertemplate\":\"Churn=No\\u003cbr\\u003ecustomerID=%{text}\\u003cbr\\u003egender=%{y}\\u003cextra\\u003e\\u003c\\u002fextra\\u003e\",\"legendgroup\":\"No\",\"marker\":{\"color\":\"#636efa\",\"pattern\":{\"shape\":\"\"}},\"name\":\"No\",\"offsetgroup\":\"No\",\"orientation\":\"h\",\"showlegend\":true,\"text\":[2549.0,2625.0],\"textposition\":\"auto\",\"x\":[2549,2625],\"xaxis\":\"x\",\"y\":[\"Female\",\"Male\"],\"yaxis\":\"y\",\"type\":\"bar\"},{\"alignmentgroup\":\"True\",\"hovertemplate\":\"Churn=Yes\\u003cbr\\u003ecustomerID=%{text}\\u003cbr\\u003egender=%{y}\\u003cextra\\u003e\\u003c\\u002fextra\\u003e\",\"legendgroup\":\"Yes\",\"marker\":{\"color\":\"#EF553B\",\"pattern\":{\"shape\":\"\"}},\"name\":\"Yes\",\"offsetgroup\":\"Yes\",\"orientation\":\"h\",\"showlegend\":true,\"text\":[939.0,930.0],\"textposition\":\"auto\",\"x\":[939,930],\"xaxis\":\"x\",\"y\":[\"Female\",\"Male\"],\"yaxis\":\"y\",\"type\":\"bar\"}],                        {\"template\":{\"data\":{\"histogram2dcontour\":[{\"type\":\"histogram2dcontour\",\"colorbar\":{\"outlinewidth\":0,\"ticks\":\"\"},\"colorscale\":[[0.0,\"#0d0887\"],[0.1111111111111111,\"#46039f\"],[0.2222222222222222,\"#7201a8\"],[0.3333333333333333,\"#9c179e\"],[0.4444444444444444,\"#bd3786\"],[0.5555555555555556,\"#d8576b\"],[0.6666666666666666,\"#ed7953\"],[0.7777777777777778,\"#fb9f3a\"],[0.8888888888888888,\"#fdca26\"],[1.0,\"#f0f921\"]]}],\"choropleth\":[{\"type\":\"choropleth\",\"colorbar\":{\"outlinewidth\":0,\"ticks\":\"\"}}],\"histogram2d\":[{\"type\":\"histogram2d\",\"colorbar\":{\"outlinewidth\":0,\"ticks\":\"\"},\"colorscale\":[[0.0,\"#0d0887\"],[0.1111111111111111,\"#46039f\"],[0.2222222222222222,\"#7201a8\"],[0.3333333333333333,\"#9c179e\"],[0.4444444444444444,\"#bd3786\"],[0.5555555555555556,\"#d8576b\"],[0.6666666666666666,\"#ed7953\"],[0.7777777777777778,\"#fb9f3a\"],[0.8888888888888888,\"#fdca26\"],[1.0,\"#f0f921\"]]}],\"heatmap\":[{\"type\":\"heatmap\",\"colorbar\":{\"outlinewidth\":0,\"ticks\":\"\"},\"colorscale\":[[0.0,\"#0d0887\"],[0.1111111111111111,\"#46039f\"],[0.2222222222222222,\"#7201a8\"],[0.3333333333333333,\"#9c179e\"],[0.4444444444444444,\"#bd3786\"],[0.5555555555555556,\"#d8576b\"],[0.6666666666666666,\"#ed7953\"],[0.7777777777777778,\"#fb9f3a\"],[0.8888888888888888,\"#fdca26\"],[1.0,\"#f0f921\"]]}],\"heatmapgl\":[{\"type\":\"heatmapgl\",\"colorbar\":{\"outlinewidth\":0,\"ticks\":\"\"},\"colorscale\":[[0.0,\"#0d0887\"],[0.1111111111111111,\"#46039f\"],[0.2222222222222222,\"#7201a8\"],[0.3333333333333333,\"#9c179e\"],[0.4444444444444444,\"#bd3786\"],[0.5555555555555556,\"#d8576b\"],[0.6666666666666666,\"#ed7953\"],[0.7777777777777778,\"#fb9f3a\"],[0.8888888888888888,\"#fdca26\"],[1.0,\"#f0f921\"]]}],\"contourcarpet\":[{\"type\":\"contourcarpet\",\"colorbar\":{\"outlinewidth\":0,\"ticks\":\"\"}}],\"contour\":[{\"type\":\"contour\",\"colorbar\":{\"outlinewidth\":0,\"ticks\":\"\"},\"colorscale\":[[0.0,\"#0d0887\"],[0.1111111111111111,\"#46039f\"],[0.2222222222222222,\"#7201a8\"],[0.3333333333333333,\"#9c179e\"],[0.4444444444444444,\"#bd3786\"],[0.5555555555555556,\"#d8576b\"],[0.6666666666666666,\"#ed7953\"],[0.7777777777777778,\"#fb9f3a\"],[0.8888888888888888,\"#fdca26\"],[1.0,\"#f0f921\"]]}],\"surface\":[{\"type\":\"surface\",\"colorbar\":{\"outlinewidth\":0,\"ticks\":\"\"},\"colorscale\":[[0.0,\"#0d0887\"],[0.1111111111111111,\"#46039f\"],[0.2222222222222222,\"#7201a8\"],[0.3333333333333333,\"#9c179e\"],[0.4444444444444444,\"#bd3786\"],[0.5555555555555556,\"#d8576b\"],[0.6666666666666666,\"#ed7953\"],[0.7777777777777778,\"#fb9f3a\"],[0.8888888888888888,\"#fdca26\"],[1.0,\"#f0f921\"]]}],\"mesh3d\":[{\"type\":\"mesh3d\",\"colorbar\":{\"outlinewidth\":0,\"ticks\":\"\"}}],\"scatter\":[{\"fillpattern\":{\"fillmode\":\"overlay\",\"size\":10,\"solidity\":0.2},\"type\":\"scatter\"}],\"parcoords\":[{\"type\":\"parcoords\",\"line\":{\"colorbar\":{\"outlinewidth\":0,\"ticks\":\"\"}}}],\"scatterpolargl\":[{\"type\":\"scatterpolargl\",\"marker\":{\"colorbar\":{\"outlinewidth\":0,\"ticks\":\"\"}}}],\"bar\":[{\"error_x\":{\"color\":\"#2a3f5f\"},\"error_y\":{\"color\":\"#2a3f5f\"},\"marker\":{\"line\":{\"color\":\"#E5ECF6\",\"width\":0.5},\"pattern\":{\"fillmode\":\"overlay\",\"size\":10,\"solidity\":0.2}},\"type\":\"bar\"}],\"scattergeo\":[{\"type\":\"scattergeo\",\"marker\":{\"colorbar\":{\"outlinewidth\":0,\"ticks\":\"\"}}}],\"scatterpolar\":[{\"type\":\"scatterpolar\",\"marker\":{\"colorbar\":{\"outlinewidth\":0,\"ticks\":\"\"}}}],\"histogram\":[{\"marker\":{\"pattern\":{\"fillmode\":\"overlay\",\"size\":10,\"solidity\":0.2}},\"type\":\"histogram\"}],\"scattergl\":[{\"type\":\"scattergl\",\"marker\":{\"colorbar\":{\"outlinewidth\":0,\"ticks\":\"\"}}}],\"scatter3d\":[{\"type\":\"scatter3d\",\"line\":{\"colorbar\":{\"outlinewidth\":0,\"ticks\":\"\"}},\"marker\":{\"colorbar\":{\"outlinewidth\":0,\"ticks\":\"\"}}}],\"scattermapbox\":[{\"type\":\"scattermapbox\",\"marker\":{\"colorbar\":{\"outlinewidth\":0,\"ticks\":\"\"}}}],\"scatterternary\":[{\"type\":\"scatterternary\",\"marker\":{\"colorbar\":{\"outlinewidth\":0,\"ticks\":\"\"}}}],\"scattercarpet\":[{\"type\":\"scattercarpet\",\"marker\":{\"colorbar\":{\"outlinewidth\":0,\"ticks\":\"\"}}}],\"carpet\":[{\"aaxis\":{\"endlinecolor\":\"#2a3f5f\",\"gridcolor\":\"white\",\"linecolor\":\"white\",\"minorgridcolor\":\"white\",\"startlinecolor\":\"#2a3f5f\"},\"baxis\":{\"endlinecolor\":\"#2a3f5f\",\"gridcolor\":\"white\",\"linecolor\":\"white\",\"minorgridcolor\":\"white\",\"startlinecolor\":\"#2a3f5f\"},\"type\":\"carpet\"}],\"table\":[{\"cells\":{\"fill\":{\"color\":\"#EBF0F8\"},\"line\":{\"color\":\"white\"}},\"header\":{\"fill\":{\"color\":\"#C8D4E3\"},\"line\":{\"color\":\"white\"}},\"type\":\"table\"}],\"barpolar\":[{\"marker\":{\"line\":{\"color\":\"#E5ECF6\",\"width\":0.5},\"pattern\":{\"fillmode\":\"overlay\",\"size\":10,\"solidity\":0.2}},\"type\":\"barpolar\"}],\"pie\":[{\"automargin\":true,\"type\":\"pie\"}]},\"layout\":{\"autotypenumbers\":\"strict\",\"colorway\":[\"#636efa\",\"#EF553B\",\"#00cc96\",\"#ab63fa\",\"#FFA15A\",\"#19d3f3\",\"#FF6692\",\"#B6E880\",\"#FF97FF\",\"#FECB52\"],\"font\":{\"color\":\"#2a3f5f\"},\"hovermode\":\"closest\",\"hoverlabel\":{\"align\":\"left\"},\"paper_bgcolor\":\"white\",\"plot_bgcolor\":\"#E5ECF6\",\"polar\":{\"bgcolor\":\"#E5ECF6\",\"angularaxis\":{\"gridcolor\":\"white\",\"linecolor\":\"white\",\"ticks\":\"\"},\"radialaxis\":{\"gridcolor\":\"white\",\"linecolor\":\"white\",\"ticks\":\"\"}},\"ternary\":{\"bgcolor\":\"#E5ECF6\",\"aaxis\":{\"gridcolor\":\"white\",\"linecolor\":\"white\",\"ticks\":\"\"},\"baxis\":{\"gridcolor\":\"white\",\"linecolor\":\"white\",\"ticks\":\"\"},\"caxis\":{\"gridcolor\":\"white\",\"linecolor\":\"white\",\"ticks\":\"\"}},\"coloraxis\":{\"colorbar\":{\"outlinewidth\":0,\"ticks\":\"\"}},\"colorscale\":{\"sequential\":[[0.0,\"#0d0887\"],[0.1111111111111111,\"#46039f\"],[0.2222222222222222,\"#7201a8\"],[0.3333333333333333,\"#9c179e\"],[0.4444444444444444,\"#bd3786\"],[0.5555555555555556,\"#d8576b\"],[0.6666666666666666,\"#ed7953\"],[0.7777777777777778,\"#fb9f3a\"],[0.8888888888888888,\"#fdca26\"],[1.0,\"#f0f921\"]],\"sequentialminus\":[[0.0,\"#0d0887\"],[0.1111111111111111,\"#46039f\"],[0.2222222222222222,\"#7201a8\"],[0.3333333333333333,\"#9c179e\"],[0.4444444444444444,\"#bd3786\"],[0.5555555555555556,\"#d8576b\"],[0.6666666666666666,\"#ed7953\"],[0.7777777777777778,\"#fb9f3a\"],[0.8888888888888888,\"#fdca26\"],[1.0,\"#f0f921\"]],\"diverging\":[[0,\"#8e0152\"],[0.1,\"#c51b7d\"],[0.2,\"#de77ae\"],[0.3,\"#f1b6da\"],[0.4,\"#fde0ef\"],[0.5,\"#f7f7f7\"],[0.6,\"#e6f5d0\"],[0.7,\"#b8e186\"],[0.8,\"#7fbc41\"],[0.9,\"#4d9221\"],[1,\"#276419\"]]},\"xaxis\":{\"gridcolor\":\"white\",\"linecolor\":\"white\",\"ticks\":\"\",\"title\":{\"standoff\":15},\"zerolinecolor\":\"white\",\"automargin\":true,\"zerolinewidth\":2},\"yaxis\":{\"gridcolor\":\"white\",\"linecolor\":\"white\",\"ticks\":\"\",\"title\":{\"standoff\":15},\"zerolinecolor\":\"white\",\"automargin\":true,\"zerolinewidth\":2},\"scene\":{\"xaxis\":{\"backgroundcolor\":\"#E5ECF6\",\"gridcolor\":\"white\",\"linecolor\":\"white\",\"showbackground\":true,\"ticks\":\"\",\"zerolinecolor\":\"white\",\"gridwidth\":2},\"yaxis\":{\"backgroundcolor\":\"#E5ECF6\",\"gridcolor\":\"white\",\"linecolor\":\"white\",\"showbackground\":true,\"ticks\":\"\",\"zerolinecolor\":\"white\",\"gridwidth\":2},\"zaxis\":{\"backgroundcolor\":\"#E5ECF6\",\"gridcolor\":\"white\",\"linecolor\":\"white\",\"showbackground\":true,\"ticks\":\"\",\"zerolinecolor\":\"white\",\"gridwidth\":2}},\"shapedefaults\":{\"line\":{\"color\":\"#2a3f5f\"}},\"annotationdefaults\":{\"arrowcolor\":\"#2a3f5f\",\"arrowhead\":0,\"arrowwidth\":1},\"geo\":{\"bgcolor\":\"white\",\"landcolor\":\"#E5ECF6\",\"subunitcolor\":\"white\",\"showland\":true,\"showlakes\":true,\"lakecolor\":\"white\"},\"title\":{\"x\":0.05},\"mapbox\":{\"style\":\"light\"}}},\"xaxis\":{\"anchor\":\"y\",\"domain\":[0.0,1.0],\"title\":{\"text\":\"customerID\"}},\"yaxis\":{\"anchor\":\"x\",\"domain\":[0.0,1.0],\"title\":{\"text\":\"gender\"}},\"legend\":{\"title\":{\"text\":\"Churn\"},\"tracegroupgap\":0},\"margin\":{\"t\":60},\"barmode\":\"relative\"},                        {\"responsive\": true}                    ).then(function(){\n",
              "                            \n",
              "var gd = document.getElementById('88bedf3f-b93c-4417-8276-604fb18ac1f2');\n",
              "var x = new MutationObserver(function (mutations, observer) {{\n",
              "        var display = window.getComputedStyle(gd).display;\n",
              "        if (!display || display === 'none') {{\n",
              "            console.log([gd, 'removed!']);\n",
              "            Plotly.purge(gd);\n",
              "            observer.disconnect();\n",
              "        }}\n",
              "}});\n",
              "\n",
              "// Listen for the removal of the full notebook cells\n",
              "var notebookContainer = gd.closest('#notebook-container');\n",
              "if (notebookContainer) {{\n",
              "    x.observe(notebookContainer, {childList: true});\n",
              "}}\n",
              "\n",
              "// Listen for the clearing of the current output cell\n",
              "var outputEl = gd.closest('.output');\n",
              "if (outputEl) {{\n",
              "    x.observe(outputEl, {childList: true});\n",
              "}}\n",
              "\n",
              "                        })                };                            </script>        </div>\n",
              "</body>\n",
              "</html>"
            ]
          },
          "metadata": {}
        }
      ]
    },
    {
      "cell_type": "markdown",
      "source": [
        "There's not great difference\n",
        "\n",
        "**Senior Citizen or not(Age)**"
      ],
      "metadata": {
        "id": "a-I11hVTwsMn"
      }
    },
    {
      "cell_type": "code",
      "source": [
        "fig = px.pie(df.groupby(['SeniorCitizen','Churn'])['customerID'].count().reset_index(),\n",
        "            values='customerID',\n",
        "            names='Churn',\n",
        "            facet_col = 'SeniorCitizen',\n",
        "            color = 'Churn',\n",
        "            title = 'Churn rate by customer age')\n",
        "\n",
        "fig.show()"
      ],
      "metadata": {
        "colab": {
          "base_uri": "https://localhost:8080/",
          "height": 542
        },
        "id": "0Qc18oEMw2xT",
        "outputId": "b9b42b3e-59ac-4c08-8644-0995d1a6e9dc"
      },
      "execution_count": 107,
      "outputs": [
        {
          "output_type": "display_data",
          "data": {
            "text/html": [
              "<html>\n",
              "<head><meta charset=\"utf-8\" /></head>\n",
              "<body>\n",
              "    <div>            <script src=\"https://cdnjs.cloudflare.com/ajax/libs/mathjax/2.7.5/MathJax.js?config=TeX-AMS-MML_SVG\"></script><script type=\"text/javascript\">if (window.MathJax && window.MathJax.Hub && window.MathJax.Hub.Config) {window.MathJax.Hub.Config({SVG: {font: \"STIX-Web\"}});}</script>                <script type=\"text/javascript\">window.PlotlyConfig = {MathJaxConfig: 'local'};</script>\n",
              "        <script charset=\"utf-8\" src=\"https://cdn.plot.ly/plotly-2.24.1.min.js\"></script>                <div id=\"a3db8136-0cd0-432f-9568-d00f368a93a3\" class=\"plotly-graph-div\" style=\"height:525px; width:100%;\"></div>            <script type=\"text/javascript\">                                    window.PLOTLYENV=window.PLOTLYENV || {};                                    if (document.getElementById(\"a3db8136-0cd0-432f-9568-d00f368a93a3\")) {                    Plotly.newPlot(                        \"a3db8136-0cd0-432f-9568-d00f368a93a3\",                        [{\"customdata\":[[\"No\"],[\"Yes\"]],\"domain\":{\"x\":[0.0,0.49],\"y\":[0.0,1.0]},\"hovertemplate\":\"SeniorCitizen=0\\u003cbr\\u003eChurn=%{customdata[0]}\\u003cbr\\u003ecustomerID=%{value}\\u003cextra\\u003e\\u003c\\u002fextra\\u003e\",\"labels\":[\"No\",\"Yes\"],\"legendgroup\":\"\",\"marker\":{\"colors\":[\"#636efa\",\"#EF553B\"]},\"name\":\"\",\"showlegend\":true,\"values\":[4508,1393],\"type\":\"pie\"},{\"customdata\":[[\"No\"],[\"Yes\"]],\"domain\":{\"x\":[0.51,1.0],\"y\":[0.0,1.0]},\"hovertemplate\":\"SeniorCitizen=1\\u003cbr\\u003eChurn=%{customdata[0]}\\u003cbr\\u003ecustomerID=%{value}\\u003cextra\\u003e\\u003c\\u002fextra\\u003e\",\"labels\":[\"No\",\"Yes\"],\"legendgroup\":\"\",\"marker\":{\"colors\":[\"#636efa\",\"#EF553B\"]},\"name\":\"\",\"showlegend\":true,\"values\":[666,476],\"type\":\"pie\"}],                        {\"template\":{\"data\":{\"histogram2dcontour\":[{\"type\":\"histogram2dcontour\",\"colorbar\":{\"outlinewidth\":0,\"ticks\":\"\"},\"colorscale\":[[0.0,\"#0d0887\"],[0.1111111111111111,\"#46039f\"],[0.2222222222222222,\"#7201a8\"],[0.3333333333333333,\"#9c179e\"],[0.4444444444444444,\"#bd3786\"],[0.5555555555555556,\"#d8576b\"],[0.6666666666666666,\"#ed7953\"],[0.7777777777777778,\"#fb9f3a\"],[0.8888888888888888,\"#fdca26\"],[1.0,\"#f0f921\"]]}],\"choropleth\":[{\"type\":\"choropleth\",\"colorbar\":{\"outlinewidth\":0,\"ticks\":\"\"}}],\"histogram2d\":[{\"type\":\"histogram2d\",\"colorbar\":{\"outlinewidth\":0,\"ticks\":\"\"},\"colorscale\":[[0.0,\"#0d0887\"],[0.1111111111111111,\"#46039f\"],[0.2222222222222222,\"#7201a8\"],[0.3333333333333333,\"#9c179e\"],[0.4444444444444444,\"#bd3786\"],[0.5555555555555556,\"#d8576b\"],[0.6666666666666666,\"#ed7953\"],[0.7777777777777778,\"#fb9f3a\"],[0.8888888888888888,\"#fdca26\"],[1.0,\"#f0f921\"]]}],\"heatmap\":[{\"type\":\"heatmap\",\"colorbar\":{\"outlinewidth\":0,\"ticks\":\"\"},\"colorscale\":[[0.0,\"#0d0887\"],[0.1111111111111111,\"#46039f\"],[0.2222222222222222,\"#7201a8\"],[0.3333333333333333,\"#9c179e\"],[0.4444444444444444,\"#bd3786\"],[0.5555555555555556,\"#d8576b\"],[0.6666666666666666,\"#ed7953\"],[0.7777777777777778,\"#fb9f3a\"],[0.8888888888888888,\"#fdca26\"],[1.0,\"#f0f921\"]]}],\"heatmapgl\":[{\"type\":\"heatmapgl\",\"colorbar\":{\"outlinewidth\":0,\"ticks\":\"\"},\"colorscale\":[[0.0,\"#0d0887\"],[0.1111111111111111,\"#46039f\"],[0.2222222222222222,\"#7201a8\"],[0.3333333333333333,\"#9c179e\"],[0.4444444444444444,\"#bd3786\"],[0.5555555555555556,\"#d8576b\"],[0.6666666666666666,\"#ed7953\"],[0.7777777777777778,\"#fb9f3a\"],[0.8888888888888888,\"#fdca26\"],[1.0,\"#f0f921\"]]}],\"contourcarpet\":[{\"type\":\"contourcarpet\",\"colorbar\":{\"outlinewidth\":0,\"ticks\":\"\"}}],\"contour\":[{\"type\":\"contour\",\"colorbar\":{\"outlinewidth\":0,\"ticks\":\"\"},\"colorscale\":[[0.0,\"#0d0887\"],[0.1111111111111111,\"#46039f\"],[0.2222222222222222,\"#7201a8\"],[0.3333333333333333,\"#9c179e\"],[0.4444444444444444,\"#bd3786\"],[0.5555555555555556,\"#d8576b\"],[0.6666666666666666,\"#ed7953\"],[0.7777777777777778,\"#fb9f3a\"],[0.8888888888888888,\"#fdca26\"],[1.0,\"#f0f921\"]]}],\"surface\":[{\"type\":\"surface\",\"colorbar\":{\"outlinewidth\":0,\"ticks\":\"\"},\"colorscale\":[[0.0,\"#0d0887\"],[0.1111111111111111,\"#46039f\"],[0.2222222222222222,\"#7201a8\"],[0.3333333333333333,\"#9c179e\"],[0.4444444444444444,\"#bd3786\"],[0.5555555555555556,\"#d8576b\"],[0.6666666666666666,\"#ed7953\"],[0.7777777777777778,\"#fb9f3a\"],[0.8888888888888888,\"#fdca26\"],[1.0,\"#f0f921\"]]}],\"mesh3d\":[{\"type\":\"mesh3d\",\"colorbar\":{\"outlinewidth\":0,\"ticks\":\"\"}}],\"scatter\":[{\"fillpattern\":{\"fillmode\":\"overlay\",\"size\":10,\"solidity\":0.2},\"type\":\"scatter\"}],\"parcoords\":[{\"type\":\"parcoords\",\"line\":{\"colorbar\":{\"outlinewidth\":0,\"ticks\":\"\"}}}],\"scatterpolargl\":[{\"type\":\"scatterpolargl\",\"marker\":{\"colorbar\":{\"outlinewidth\":0,\"ticks\":\"\"}}}],\"bar\":[{\"error_x\":{\"color\":\"#2a3f5f\"},\"error_y\":{\"color\":\"#2a3f5f\"},\"marker\":{\"line\":{\"color\":\"#E5ECF6\",\"width\":0.5},\"pattern\":{\"fillmode\":\"overlay\",\"size\":10,\"solidity\":0.2}},\"type\":\"bar\"}],\"scattergeo\":[{\"type\":\"scattergeo\",\"marker\":{\"colorbar\":{\"outlinewidth\":0,\"ticks\":\"\"}}}],\"scatterpolar\":[{\"type\":\"scatterpolar\",\"marker\":{\"colorbar\":{\"outlinewidth\":0,\"ticks\":\"\"}}}],\"histogram\":[{\"marker\":{\"pattern\":{\"fillmode\":\"overlay\",\"size\":10,\"solidity\":0.2}},\"type\":\"histogram\"}],\"scattergl\":[{\"type\":\"scattergl\",\"marker\":{\"colorbar\":{\"outlinewidth\":0,\"ticks\":\"\"}}}],\"scatter3d\":[{\"type\":\"scatter3d\",\"line\":{\"colorbar\":{\"outlinewidth\":0,\"ticks\":\"\"}},\"marker\":{\"colorbar\":{\"outlinewidth\":0,\"ticks\":\"\"}}}],\"scattermapbox\":[{\"type\":\"scattermapbox\",\"marker\":{\"colorbar\":{\"outlinewidth\":0,\"ticks\":\"\"}}}],\"scatterternary\":[{\"type\":\"scatterternary\",\"marker\":{\"colorbar\":{\"outlinewidth\":0,\"ticks\":\"\"}}}],\"scattercarpet\":[{\"type\":\"scattercarpet\",\"marker\":{\"colorbar\":{\"outlinewidth\":0,\"ticks\":\"\"}}}],\"carpet\":[{\"aaxis\":{\"endlinecolor\":\"#2a3f5f\",\"gridcolor\":\"white\",\"linecolor\":\"white\",\"minorgridcolor\":\"white\",\"startlinecolor\":\"#2a3f5f\"},\"baxis\":{\"endlinecolor\":\"#2a3f5f\",\"gridcolor\":\"white\",\"linecolor\":\"white\",\"minorgridcolor\":\"white\",\"startlinecolor\":\"#2a3f5f\"},\"type\":\"carpet\"}],\"table\":[{\"cells\":{\"fill\":{\"color\":\"#EBF0F8\"},\"line\":{\"color\":\"white\"}},\"header\":{\"fill\":{\"color\":\"#C8D4E3\"},\"line\":{\"color\":\"white\"}},\"type\":\"table\"}],\"barpolar\":[{\"marker\":{\"line\":{\"color\":\"#E5ECF6\",\"width\":0.5},\"pattern\":{\"fillmode\":\"overlay\",\"size\":10,\"solidity\":0.2}},\"type\":\"barpolar\"}],\"pie\":[{\"automargin\":true,\"type\":\"pie\"}]},\"layout\":{\"autotypenumbers\":\"strict\",\"colorway\":[\"#636efa\",\"#EF553B\",\"#00cc96\",\"#ab63fa\",\"#FFA15A\",\"#19d3f3\",\"#FF6692\",\"#B6E880\",\"#FF97FF\",\"#FECB52\"],\"font\":{\"color\":\"#2a3f5f\"},\"hovermode\":\"closest\",\"hoverlabel\":{\"align\":\"left\"},\"paper_bgcolor\":\"white\",\"plot_bgcolor\":\"#E5ECF6\",\"polar\":{\"bgcolor\":\"#E5ECF6\",\"angularaxis\":{\"gridcolor\":\"white\",\"linecolor\":\"white\",\"ticks\":\"\"},\"radialaxis\":{\"gridcolor\":\"white\",\"linecolor\":\"white\",\"ticks\":\"\"}},\"ternary\":{\"bgcolor\":\"#E5ECF6\",\"aaxis\":{\"gridcolor\":\"white\",\"linecolor\":\"white\",\"ticks\":\"\"},\"baxis\":{\"gridcolor\":\"white\",\"linecolor\":\"white\",\"ticks\":\"\"},\"caxis\":{\"gridcolor\":\"white\",\"linecolor\":\"white\",\"ticks\":\"\"}},\"coloraxis\":{\"colorbar\":{\"outlinewidth\":0,\"ticks\":\"\"}},\"colorscale\":{\"sequential\":[[0.0,\"#0d0887\"],[0.1111111111111111,\"#46039f\"],[0.2222222222222222,\"#7201a8\"],[0.3333333333333333,\"#9c179e\"],[0.4444444444444444,\"#bd3786\"],[0.5555555555555556,\"#d8576b\"],[0.6666666666666666,\"#ed7953\"],[0.7777777777777778,\"#fb9f3a\"],[0.8888888888888888,\"#fdca26\"],[1.0,\"#f0f921\"]],\"sequentialminus\":[[0.0,\"#0d0887\"],[0.1111111111111111,\"#46039f\"],[0.2222222222222222,\"#7201a8\"],[0.3333333333333333,\"#9c179e\"],[0.4444444444444444,\"#bd3786\"],[0.5555555555555556,\"#d8576b\"],[0.6666666666666666,\"#ed7953\"],[0.7777777777777778,\"#fb9f3a\"],[0.8888888888888888,\"#fdca26\"],[1.0,\"#f0f921\"]],\"diverging\":[[0,\"#8e0152\"],[0.1,\"#c51b7d\"],[0.2,\"#de77ae\"],[0.3,\"#f1b6da\"],[0.4,\"#fde0ef\"],[0.5,\"#f7f7f7\"],[0.6,\"#e6f5d0\"],[0.7,\"#b8e186\"],[0.8,\"#7fbc41\"],[0.9,\"#4d9221\"],[1,\"#276419\"]]},\"xaxis\":{\"gridcolor\":\"white\",\"linecolor\":\"white\",\"ticks\":\"\",\"title\":{\"standoff\":15},\"zerolinecolor\":\"white\",\"automargin\":true,\"zerolinewidth\":2},\"yaxis\":{\"gridcolor\":\"white\",\"linecolor\":\"white\",\"ticks\":\"\",\"title\":{\"standoff\":15},\"zerolinecolor\":\"white\",\"automargin\":true,\"zerolinewidth\":2},\"scene\":{\"xaxis\":{\"backgroundcolor\":\"#E5ECF6\",\"gridcolor\":\"white\",\"linecolor\":\"white\",\"showbackground\":true,\"ticks\":\"\",\"zerolinecolor\":\"white\",\"gridwidth\":2},\"yaxis\":{\"backgroundcolor\":\"#E5ECF6\",\"gridcolor\":\"white\",\"linecolor\":\"white\",\"showbackground\":true,\"ticks\":\"\",\"zerolinecolor\":\"white\",\"gridwidth\":2},\"zaxis\":{\"backgroundcolor\":\"#E5ECF6\",\"gridcolor\":\"white\",\"linecolor\":\"white\",\"showbackground\":true,\"ticks\":\"\",\"zerolinecolor\":\"white\",\"gridwidth\":2}},\"shapedefaults\":{\"line\":{\"color\":\"#2a3f5f\"}},\"annotationdefaults\":{\"arrowcolor\":\"#2a3f5f\",\"arrowhead\":0,\"arrowwidth\":1},\"geo\":{\"bgcolor\":\"white\",\"landcolor\":\"#E5ECF6\",\"subunitcolor\":\"white\",\"showland\":true,\"showlakes\":true,\"lakecolor\":\"white\"},\"title\":{\"x\":0.05},\"mapbox\":{\"style\":\"light\"}}},\"annotations\":[{\"font\":{},\"showarrow\":false,\"text\":\"SeniorCitizen=0\",\"x\":0.245,\"xanchor\":\"center\",\"xref\":\"paper\",\"y\":1.0,\"yanchor\":\"bottom\",\"yref\":\"paper\"},{\"font\":{},\"showarrow\":false,\"text\":\"SeniorCitizen=1\",\"x\":0.755,\"xanchor\":\"center\",\"xref\":\"paper\",\"y\":1.0,\"yanchor\":\"bottom\",\"yref\":\"paper\"}],\"legend\":{\"tracegroupgap\":0},\"title\":{\"text\":\"Churn rate by customer age\"}},                        {\"responsive\": true}                    ).then(function(){\n",
              "                            \n",
              "var gd = document.getElementById('a3db8136-0cd0-432f-9568-d00f368a93a3');\n",
              "var x = new MutationObserver(function (mutations, observer) {{\n",
              "        var display = window.getComputedStyle(gd).display;\n",
              "        if (!display || display === 'none') {{\n",
              "            console.log([gd, 'removed!']);\n",
              "            Plotly.purge(gd);\n",
              "            observer.disconnect();\n",
              "        }}\n",
              "}});\n",
              "\n",
              "// Listen for the removal of the full notebook cells\n",
              "var notebookContainer = gd.closest('#notebook-container');\n",
              "if (notebookContainer) {{\n",
              "    x.observe(notebookContainer, {childList: true});\n",
              "}}\n",
              "\n",
              "// Listen for the clearing of the current output cell\n",
              "var outputEl = gd.closest('.output');\n",
              "if (outputEl) {{\n",
              "    x.observe(outputEl, {childList: true});\n",
              "}}\n",
              "\n",
              "                        })                };                            </script>        </div>\n",
              "</body>\n",
              "</html>"
            ]
          },
          "metadata": {}
        }
      ]
    },
    {
      "cell_type": "markdown",
      "source": [
        "The churn rate among senior citizens is almost twice as high as among non-senior citizens. However, there are also much fewer such customers"
      ],
      "metadata": {
        "id": "S_7N_c-9xSXp"
      }
    },
    {
      "cell_type": "code",
      "source": [
        "df.groupby('SeniorCitizen')['customerID'].count()"
      ],
      "metadata": {
        "colab": {
          "base_uri": "https://localhost:8080/"
        },
        "id": "hn9NNGG5xR2m",
        "outputId": "1c7ff528-925c-48c3-ee68-0f5347e53862"
      },
      "execution_count": 108,
      "outputs": [
        {
          "output_type": "execute_result",
          "data": {
            "text/plain": [
              "SeniorCitizen\n",
              "0    5901\n",
              "1    1142\n",
              "Name: customerID, dtype: int64"
            ]
          },
          "metadata": {},
          "execution_count": 108
        }
      ]
    },
    {
      "cell_type": "markdown",
      "source": [
        "#### Imapct of having a partner or dependants"
      ],
      "metadata": {
        "id": "4YKyY7hsxg3z"
      }
    },
    {
      "cell_type": "code",
      "source": [
        "fig = px.bar(df.groupby(['SeniorCitizen','Partner',\n",
        "                                        'Dependents','Churn'])['customerID'].count().reset_index(),\n",
        "             x=\"SeniorCitizen\",\n",
        "             y=\"customerID\",\n",
        "             color=\"Churn\",\n",
        "             #barmode=\"group\",\n",
        "             facet_row=\"Partner\",\n",
        "             facet_col = 'Dependents'\n",
        "            )\n",
        "fig.show()"
      ],
      "metadata": {
        "colab": {
          "base_uri": "https://localhost:8080/",
          "height": 542
        },
        "id": "-Er_HmS5xegM",
        "outputId": "99e6c1e7-fa1b-4f0e-9bf3-de6daf11f216"
      },
      "execution_count": 109,
      "outputs": [
        {
          "output_type": "display_data",
          "data": {
            "text/html": [
              "<html>\n",
              "<head><meta charset=\"utf-8\" /></head>\n",
              "<body>\n",
              "    <div>            <script src=\"https://cdnjs.cloudflare.com/ajax/libs/mathjax/2.7.5/MathJax.js?config=TeX-AMS-MML_SVG\"></script><script type=\"text/javascript\">if (window.MathJax && window.MathJax.Hub && window.MathJax.Hub.Config) {window.MathJax.Hub.Config({SVG: {font: \"STIX-Web\"}});}</script>                <script type=\"text/javascript\">window.PlotlyConfig = {MathJaxConfig: 'local'};</script>\n",
              "        <script charset=\"utf-8\" src=\"https://cdn.plot.ly/plotly-2.24.1.min.js\"></script>                <div id=\"2ca9607a-e0bd-4579-91c4-8c702d75a5f4\" class=\"plotly-graph-div\" style=\"height:525px; width:100%;\"></div>            <script type=\"text/javascript\">                                    window.PLOTLYENV=window.PLOTLYENV || {};                                    if (document.getElementById(\"2ca9607a-e0bd-4579-91c4-8c702d75a5f4\")) {                    Plotly.newPlot(                        \"2ca9607a-e0bd-4579-91c4-8c702d75a5f4\",                        [{\"alignmentgroup\":\"True\",\"hovertemplate\":\"Churn=No\\u003cbr\\u003ePartner=No\\u003cbr\\u003eDependents=No\\u003cbr\\u003eSeniorCitizen=%{x}\\u003cbr\\u003ecustomerID=%{y}\\u003cextra\\u003e\\u003c\\u002fextra\\u003e\",\"legendgroup\":\"No\",\"marker\":{\"color\":\"#636efa\",\"pattern\":{\"shape\":\"\"}},\"name\":\"No\",\"offsetgroup\":\"No\",\"orientation\":\"v\",\"showlegend\":true,\"textposition\":\"auto\",\"x\":[0,1],\"xaxis\":\"x3\",\"y\":[1872,285],\"yaxis\":\"y3\",\"type\":\"bar\"},{\"alignmentgroup\":\"True\",\"hovertemplate\":\"Churn=No\\u003cbr\\u003ePartner=No\\u003cbr\\u003eDependents=Yes\\u003cbr\\u003eSeniorCitizen=%{x}\\u003cbr\\u003ecustomerID=%{y}\\u003cextra\\u003e\\u003c\\u002fextra\\u003e\",\"legendgroup\":\"No\",\"marker\":{\"color\":\"#636efa\",\"pattern\":{\"shape\":\"\"}},\"name\":\"No\",\"offsetgroup\":\"No\",\"orientation\":\"v\",\"showlegend\":false,\"textposition\":\"auto\",\"x\":[0,1],\"xaxis\":\"x4\",\"y\":[278,6],\"yaxis\":\"y4\",\"type\":\"bar\"},{\"alignmentgroup\":\"True\",\"hovertemplate\":\"Churn=No\\u003cbr\\u003ePartner=Yes\\u003cbr\\u003eDependents=No\\u003cbr\\u003eSeniorCitizen=%{x}\\u003cbr\\u003ecustomerID=%{y}\\u003cextra\\u003e\\u003c\\u002fextra\\u003e\",\"legendgroup\":\"No\",\"marker\":{\"color\":\"#636efa\",\"pattern\":{\"shape\":\"\"}},\"name\":\"No\",\"offsetgroup\":\"No\",\"orientation\":\"v\",\"showlegend\":false,\"textposition\":\"auto\",\"x\":[0,1],\"xaxis\":\"x\",\"y\":[921,312],\"yaxis\":\"y\",\"type\":\"bar\"},{\"alignmentgroup\":\"True\",\"hovertemplate\":\"Churn=No\\u003cbr\\u003ePartner=Yes\\u003cbr\\u003eDependents=Yes\\u003cbr\\u003eSeniorCitizen=%{x}\\u003cbr\\u003ecustomerID=%{y}\\u003cextra\\u003e\\u003c\\u002fextra\\u003e\",\"legendgroup\":\"No\",\"marker\":{\"color\":\"#636efa\",\"pattern\":{\"shape\":\"\"}},\"name\":\"No\",\"offsetgroup\":\"No\",\"orientation\":\"v\",\"showlegend\":false,\"textposition\":\"auto\",\"x\":[0,1],\"xaxis\":\"x2\",\"y\":[1437,63],\"yaxis\":\"y2\",\"type\":\"bar\"},{\"alignmentgroup\":\"True\",\"hovertemplate\":\"Churn=Yes\\u003cbr\\u003ePartner=No\\u003cbr\\u003eDependents=No\\u003cbr\\u003eSeniorCitizen=%{x}\\u003cbr\\u003ecustomerID=%{y}\\u003cextra\\u003e\\u003c\\u002fextra\\u003e\",\"legendgroup\":\"Yes\",\"marker\":{\"color\":\"#EF553B\",\"pattern\":{\"shape\":\"\"}},\"name\":\"Yes\",\"offsetgroup\":\"Yes\",\"orientation\":\"v\",\"showlegend\":true,\"textposition\":\"auto\",\"x\":[0,1],\"xaxis\":\"x3\",\"y\":[847,276],\"yaxis\":\"y3\",\"type\":\"bar\"},{\"alignmentgroup\":\"True\",\"hovertemplate\":\"Churn=Yes\\u003cbr\\u003ePartner=No\\u003cbr\\u003eDependents=Yes\\u003cbr\\u003eSeniorCitizen=%{x}\\u003cbr\\u003ecustomerID=%{y}\\u003cextra\\u003e\\u003c\\u002fextra\\u003e\",\"legendgroup\":\"Yes\",\"marker\":{\"color\":\"#EF553B\",\"pattern\":{\"shape\":\"\"}},\"name\":\"Yes\",\"offsetgroup\":\"Yes\",\"orientation\":\"v\",\"showlegend\":false,\"textposition\":\"auto\",\"x\":[0,1],\"xaxis\":\"x4\",\"y\":[75,2],\"yaxis\":\"y4\",\"type\":\"bar\"},{\"alignmentgroup\":\"True\",\"hovertemplate\":\"Churn=Yes\\u003cbr\\u003ePartner=Yes\\u003cbr\\u003eDependents=No\\u003cbr\\u003eSeniorCitizen=%{x}\\u003cbr\\u003ecustomerID=%{y}\\u003cextra\\u003e\\u003c\\u002fextra\\u003e\",\"legendgroup\":\"Yes\",\"marker\":{\"color\":\"#EF553B\",\"pattern\":{\"shape\":\"\"}},\"name\":\"Yes\",\"offsetgroup\":\"Yes\",\"orientation\":\"v\",\"showlegend\":false,\"textposition\":\"auto\",\"x\":[0,1],\"xaxis\":\"x\",\"y\":[242,178],\"yaxis\":\"y\",\"type\":\"bar\"},{\"alignmentgroup\":\"True\",\"hovertemplate\":\"Churn=Yes\\u003cbr\\u003ePartner=Yes\\u003cbr\\u003eDependents=Yes\\u003cbr\\u003eSeniorCitizen=%{x}\\u003cbr\\u003ecustomerID=%{y}\\u003cextra\\u003e\\u003c\\u002fextra\\u003e\",\"legendgroup\":\"Yes\",\"marker\":{\"color\":\"#EF553B\",\"pattern\":{\"shape\":\"\"}},\"name\":\"Yes\",\"offsetgroup\":\"Yes\",\"orientation\":\"v\",\"showlegend\":false,\"textposition\":\"auto\",\"x\":[0,1],\"xaxis\":\"x2\",\"y\":[229,20],\"yaxis\":\"y2\",\"type\":\"bar\"}],                        {\"template\":{\"data\":{\"histogram2dcontour\":[{\"type\":\"histogram2dcontour\",\"colorbar\":{\"outlinewidth\":0,\"ticks\":\"\"},\"colorscale\":[[0.0,\"#0d0887\"],[0.1111111111111111,\"#46039f\"],[0.2222222222222222,\"#7201a8\"],[0.3333333333333333,\"#9c179e\"],[0.4444444444444444,\"#bd3786\"],[0.5555555555555556,\"#d8576b\"],[0.6666666666666666,\"#ed7953\"],[0.7777777777777778,\"#fb9f3a\"],[0.8888888888888888,\"#fdca26\"],[1.0,\"#f0f921\"]]}],\"choropleth\":[{\"type\":\"choropleth\",\"colorbar\":{\"outlinewidth\":0,\"ticks\":\"\"}}],\"histogram2d\":[{\"type\":\"histogram2d\",\"colorbar\":{\"outlinewidth\":0,\"ticks\":\"\"},\"colorscale\":[[0.0,\"#0d0887\"],[0.1111111111111111,\"#46039f\"],[0.2222222222222222,\"#7201a8\"],[0.3333333333333333,\"#9c179e\"],[0.4444444444444444,\"#bd3786\"],[0.5555555555555556,\"#d8576b\"],[0.6666666666666666,\"#ed7953\"],[0.7777777777777778,\"#fb9f3a\"],[0.8888888888888888,\"#fdca26\"],[1.0,\"#f0f921\"]]}],\"heatmap\":[{\"type\":\"heatmap\",\"colorbar\":{\"outlinewidth\":0,\"ticks\":\"\"},\"colorscale\":[[0.0,\"#0d0887\"],[0.1111111111111111,\"#46039f\"],[0.2222222222222222,\"#7201a8\"],[0.3333333333333333,\"#9c179e\"],[0.4444444444444444,\"#bd3786\"],[0.5555555555555556,\"#d8576b\"],[0.6666666666666666,\"#ed7953\"],[0.7777777777777778,\"#fb9f3a\"],[0.8888888888888888,\"#fdca26\"],[1.0,\"#f0f921\"]]}],\"heatmapgl\":[{\"type\":\"heatmapgl\",\"colorbar\":{\"outlinewidth\":0,\"ticks\":\"\"},\"colorscale\":[[0.0,\"#0d0887\"],[0.1111111111111111,\"#46039f\"],[0.2222222222222222,\"#7201a8\"],[0.3333333333333333,\"#9c179e\"],[0.4444444444444444,\"#bd3786\"],[0.5555555555555556,\"#d8576b\"],[0.6666666666666666,\"#ed7953\"],[0.7777777777777778,\"#fb9f3a\"],[0.8888888888888888,\"#fdca26\"],[1.0,\"#f0f921\"]]}],\"contourcarpet\":[{\"type\":\"contourcarpet\",\"colorbar\":{\"outlinewidth\":0,\"ticks\":\"\"}}],\"contour\":[{\"type\":\"contour\",\"colorbar\":{\"outlinewidth\":0,\"ticks\":\"\"},\"colorscale\":[[0.0,\"#0d0887\"],[0.1111111111111111,\"#46039f\"],[0.2222222222222222,\"#7201a8\"],[0.3333333333333333,\"#9c179e\"],[0.4444444444444444,\"#bd3786\"],[0.5555555555555556,\"#d8576b\"],[0.6666666666666666,\"#ed7953\"],[0.7777777777777778,\"#fb9f3a\"],[0.8888888888888888,\"#fdca26\"],[1.0,\"#f0f921\"]]}],\"surface\":[{\"type\":\"surface\",\"colorbar\":{\"outlinewidth\":0,\"ticks\":\"\"},\"colorscale\":[[0.0,\"#0d0887\"],[0.1111111111111111,\"#46039f\"],[0.2222222222222222,\"#7201a8\"],[0.3333333333333333,\"#9c179e\"],[0.4444444444444444,\"#bd3786\"],[0.5555555555555556,\"#d8576b\"],[0.6666666666666666,\"#ed7953\"],[0.7777777777777778,\"#fb9f3a\"],[0.8888888888888888,\"#fdca26\"],[1.0,\"#f0f921\"]]}],\"mesh3d\":[{\"type\":\"mesh3d\",\"colorbar\":{\"outlinewidth\":0,\"ticks\":\"\"}}],\"scatter\":[{\"fillpattern\":{\"fillmode\":\"overlay\",\"size\":10,\"solidity\":0.2},\"type\":\"scatter\"}],\"parcoords\":[{\"type\":\"parcoords\",\"line\":{\"colorbar\":{\"outlinewidth\":0,\"ticks\":\"\"}}}],\"scatterpolargl\":[{\"type\":\"scatterpolargl\",\"marker\":{\"colorbar\":{\"outlinewidth\":0,\"ticks\":\"\"}}}],\"bar\":[{\"error_x\":{\"color\":\"#2a3f5f\"},\"error_y\":{\"color\":\"#2a3f5f\"},\"marker\":{\"line\":{\"color\":\"#E5ECF6\",\"width\":0.5},\"pattern\":{\"fillmode\":\"overlay\",\"size\":10,\"solidity\":0.2}},\"type\":\"bar\"}],\"scattergeo\":[{\"type\":\"scattergeo\",\"marker\":{\"colorbar\":{\"outlinewidth\":0,\"ticks\":\"\"}}}],\"scatterpolar\":[{\"type\":\"scatterpolar\",\"marker\":{\"colorbar\":{\"outlinewidth\":0,\"ticks\":\"\"}}}],\"histogram\":[{\"marker\":{\"pattern\":{\"fillmode\":\"overlay\",\"size\":10,\"solidity\":0.2}},\"type\":\"histogram\"}],\"scattergl\":[{\"type\":\"scattergl\",\"marker\":{\"colorbar\":{\"outlinewidth\":0,\"ticks\":\"\"}}}],\"scatter3d\":[{\"type\":\"scatter3d\",\"line\":{\"colorbar\":{\"outlinewidth\":0,\"ticks\":\"\"}},\"marker\":{\"colorbar\":{\"outlinewidth\":0,\"ticks\":\"\"}}}],\"scattermapbox\":[{\"type\":\"scattermapbox\",\"marker\":{\"colorbar\":{\"outlinewidth\":0,\"ticks\":\"\"}}}],\"scatterternary\":[{\"type\":\"scatterternary\",\"marker\":{\"colorbar\":{\"outlinewidth\":0,\"ticks\":\"\"}}}],\"scattercarpet\":[{\"type\":\"scattercarpet\",\"marker\":{\"colorbar\":{\"outlinewidth\":0,\"ticks\":\"\"}}}],\"carpet\":[{\"aaxis\":{\"endlinecolor\":\"#2a3f5f\",\"gridcolor\":\"white\",\"linecolor\":\"white\",\"minorgridcolor\":\"white\",\"startlinecolor\":\"#2a3f5f\"},\"baxis\":{\"endlinecolor\":\"#2a3f5f\",\"gridcolor\":\"white\",\"linecolor\":\"white\",\"minorgridcolor\":\"white\",\"startlinecolor\":\"#2a3f5f\"},\"type\":\"carpet\"}],\"table\":[{\"cells\":{\"fill\":{\"color\":\"#EBF0F8\"},\"line\":{\"color\":\"white\"}},\"header\":{\"fill\":{\"color\":\"#C8D4E3\"},\"line\":{\"color\":\"white\"}},\"type\":\"table\"}],\"barpolar\":[{\"marker\":{\"line\":{\"color\":\"#E5ECF6\",\"width\":0.5},\"pattern\":{\"fillmode\":\"overlay\",\"size\":10,\"solidity\":0.2}},\"type\":\"barpolar\"}],\"pie\":[{\"automargin\":true,\"type\":\"pie\"}]},\"layout\":{\"autotypenumbers\":\"strict\",\"colorway\":[\"#636efa\",\"#EF553B\",\"#00cc96\",\"#ab63fa\",\"#FFA15A\",\"#19d3f3\",\"#FF6692\",\"#B6E880\",\"#FF97FF\",\"#FECB52\"],\"font\":{\"color\":\"#2a3f5f\"},\"hovermode\":\"closest\",\"hoverlabel\":{\"align\":\"left\"},\"paper_bgcolor\":\"white\",\"plot_bgcolor\":\"#E5ECF6\",\"polar\":{\"bgcolor\":\"#E5ECF6\",\"angularaxis\":{\"gridcolor\":\"white\",\"linecolor\":\"white\",\"ticks\":\"\"},\"radialaxis\":{\"gridcolor\":\"white\",\"linecolor\":\"white\",\"ticks\":\"\"}},\"ternary\":{\"bgcolor\":\"#E5ECF6\",\"aaxis\":{\"gridcolor\":\"white\",\"linecolor\":\"white\",\"ticks\":\"\"},\"baxis\":{\"gridcolor\":\"white\",\"linecolor\":\"white\",\"ticks\":\"\"},\"caxis\":{\"gridcolor\":\"white\",\"linecolor\":\"white\",\"ticks\":\"\"}},\"coloraxis\":{\"colorbar\":{\"outlinewidth\":0,\"ticks\":\"\"}},\"colorscale\":{\"sequential\":[[0.0,\"#0d0887\"],[0.1111111111111111,\"#46039f\"],[0.2222222222222222,\"#7201a8\"],[0.3333333333333333,\"#9c179e\"],[0.4444444444444444,\"#bd3786\"],[0.5555555555555556,\"#d8576b\"],[0.6666666666666666,\"#ed7953\"],[0.7777777777777778,\"#fb9f3a\"],[0.8888888888888888,\"#fdca26\"],[1.0,\"#f0f921\"]],\"sequentialminus\":[[0.0,\"#0d0887\"],[0.1111111111111111,\"#46039f\"],[0.2222222222222222,\"#7201a8\"],[0.3333333333333333,\"#9c179e\"],[0.4444444444444444,\"#bd3786\"],[0.5555555555555556,\"#d8576b\"],[0.6666666666666666,\"#ed7953\"],[0.7777777777777778,\"#fb9f3a\"],[0.8888888888888888,\"#fdca26\"],[1.0,\"#f0f921\"]],\"diverging\":[[0,\"#8e0152\"],[0.1,\"#c51b7d\"],[0.2,\"#de77ae\"],[0.3,\"#f1b6da\"],[0.4,\"#fde0ef\"],[0.5,\"#f7f7f7\"],[0.6,\"#e6f5d0\"],[0.7,\"#b8e186\"],[0.8,\"#7fbc41\"],[0.9,\"#4d9221\"],[1,\"#276419\"]]},\"xaxis\":{\"gridcolor\":\"white\",\"linecolor\":\"white\",\"ticks\":\"\",\"title\":{\"standoff\":15},\"zerolinecolor\":\"white\",\"automargin\":true,\"zerolinewidth\":2},\"yaxis\":{\"gridcolor\":\"white\",\"linecolor\":\"white\",\"ticks\":\"\",\"title\":{\"standoff\":15},\"zerolinecolor\":\"white\",\"automargin\":true,\"zerolinewidth\":2},\"scene\":{\"xaxis\":{\"backgroundcolor\":\"#E5ECF6\",\"gridcolor\":\"white\",\"linecolor\":\"white\",\"showbackground\":true,\"ticks\":\"\",\"zerolinecolor\":\"white\",\"gridwidth\":2},\"yaxis\":{\"backgroundcolor\":\"#E5ECF6\",\"gridcolor\":\"white\",\"linecolor\":\"white\",\"showbackground\":true,\"ticks\":\"\",\"zerolinecolor\":\"white\",\"gridwidth\":2},\"zaxis\":{\"backgroundcolor\":\"#E5ECF6\",\"gridcolor\":\"white\",\"linecolor\":\"white\",\"showbackground\":true,\"ticks\":\"\",\"zerolinecolor\":\"white\",\"gridwidth\":2}},\"shapedefaults\":{\"line\":{\"color\":\"#2a3f5f\"}},\"annotationdefaults\":{\"arrowcolor\":\"#2a3f5f\",\"arrowhead\":0,\"arrowwidth\":1},\"geo\":{\"bgcolor\":\"white\",\"landcolor\":\"#E5ECF6\",\"subunitcolor\":\"white\",\"showland\":true,\"showlakes\":true,\"lakecolor\":\"white\"},\"title\":{\"x\":0.05},\"mapbox\":{\"style\":\"light\"}}},\"xaxis\":{\"anchor\":\"y\",\"domain\":[0.0,0.48],\"title\":{\"text\":\"SeniorCitizen\"}},\"yaxis\":{\"anchor\":\"x\",\"domain\":[0.0,0.485],\"title\":{\"text\":\"customerID\"}},\"xaxis2\":{\"anchor\":\"y2\",\"domain\":[0.5,0.98],\"matches\":\"x\",\"title\":{\"text\":\"SeniorCitizen\"}},\"yaxis2\":{\"anchor\":\"x2\",\"domain\":[0.0,0.485],\"matches\":\"y\",\"showticklabels\":false},\"xaxis3\":{\"anchor\":\"y3\",\"domain\":[0.0,0.48],\"matches\":\"x\",\"showticklabels\":false},\"yaxis3\":{\"anchor\":\"x3\",\"domain\":[0.515,1.0],\"matches\":\"y\",\"title\":{\"text\":\"customerID\"}},\"xaxis4\":{\"anchor\":\"y4\",\"domain\":[0.5,0.98],\"matches\":\"x\",\"showticklabels\":false},\"yaxis4\":{\"anchor\":\"x4\",\"domain\":[0.515,1.0],\"matches\":\"y\",\"showticklabels\":false},\"annotations\":[{\"font\":{},\"showarrow\":false,\"text\":\"Dependents=No\",\"x\":0.24,\"xanchor\":\"center\",\"xref\":\"paper\",\"y\":1.0,\"yanchor\":\"bottom\",\"yref\":\"paper\"},{\"font\":{},\"showarrow\":false,\"text\":\"Dependents=Yes\",\"x\":0.74,\"xanchor\":\"center\",\"xref\":\"paper\",\"y\":1.0,\"yanchor\":\"bottom\",\"yref\":\"paper\"},{\"font\":{},\"showarrow\":false,\"text\":\"Partner=Yes\",\"textangle\":90,\"x\":0.98,\"xanchor\":\"left\",\"xref\":\"paper\",\"y\":0.2425,\"yanchor\":\"middle\",\"yref\":\"paper\"},{\"font\":{},\"showarrow\":false,\"text\":\"Partner=No\",\"textangle\":90,\"x\":0.98,\"xanchor\":\"left\",\"xref\":\"paper\",\"y\":0.7575000000000001,\"yanchor\":\"middle\",\"yref\":\"paper\"}],\"legend\":{\"title\":{\"text\":\"Churn\"},\"tracegroupgap\":0},\"margin\":{\"t\":60},\"barmode\":\"relative\"},                        {\"responsive\": true}                    ).then(function(){\n",
              "                            \n",
              "var gd = document.getElementById('2ca9607a-e0bd-4579-91c4-8c702d75a5f4');\n",
              "var x = new MutationObserver(function (mutations, observer) {{\n",
              "        var display = window.getComputedStyle(gd).display;\n",
              "        if (!display || display === 'none') {{\n",
              "            console.log([gd, 'removed!']);\n",
              "            Plotly.purge(gd);\n",
              "            observer.disconnect();\n",
              "        }}\n",
              "}});\n",
              "\n",
              "// Listen for the removal of the full notebook cells\n",
              "var notebookContainer = gd.closest('#notebook-container');\n",
              "if (notebookContainer) {{\n",
              "    x.observe(notebookContainer, {childList: true});\n",
              "}}\n",
              "\n",
              "// Listen for the clearing of the current output cell\n",
              "var outputEl = gd.closest('.output');\n",
              "if (outputEl) {{\n",
              "    x.observe(outputEl, {childList: true});\n",
              "}}\n",
              "\n",
              "                        })                };                            </script>        </div>\n",
              "</body>\n",
              "</html>"
            ]
          },
          "metadata": {}
        }
      ]
    },
    {
      "cell_type": "markdown",
      "source": [
        "Let's see which services were used by senior citizens and move on to summarizing and building a model for churn prediction"
      ],
      "metadata": {
        "id": "DxnFFv71x6Rb"
      }
    },
    {
      "cell_type": "code",
      "source": [
        "fig = px.bar(df.groupby(['SeniorCitizen','InternetService','Churn'])['customerID'].count().reset_index(),\n",
        "             x=\"InternetService\",\n",
        "             y=\"customerID\",\n",
        "             color=\"Churn\",\n",
        "             barmode=\"group\",\n",
        "             facet_col = 'SeniorCitizen'\n",
        "            )\n",
        "fig.show()"
      ],
      "metadata": {
        "colab": {
          "base_uri": "https://localhost:8080/",
          "height": 542
        },
        "id": "01D0_HkmyAtt",
        "outputId": "34874e70-fbb1-440d-fc0d-11bbce6cbbd4"
      },
      "execution_count": 110,
      "outputs": [
        {
          "output_type": "display_data",
          "data": {
            "text/html": [
              "<html>\n",
              "<head><meta charset=\"utf-8\" /></head>\n",
              "<body>\n",
              "    <div>            <script src=\"https://cdnjs.cloudflare.com/ajax/libs/mathjax/2.7.5/MathJax.js?config=TeX-AMS-MML_SVG\"></script><script type=\"text/javascript\">if (window.MathJax && window.MathJax.Hub && window.MathJax.Hub.Config) {window.MathJax.Hub.Config({SVG: {font: \"STIX-Web\"}});}</script>                <script type=\"text/javascript\">window.PlotlyConfig = {MathJaxConfig: 'local'};</script>\n",
              "        <script charset=\"utf-8\" src=\"https://cdn.plot.ly/plotly-2.24.1.min.js\"></script>                <div id=\"b7c318aa-ff96-4486-bdcc-2067ba831716\" class=\"plotly-graph-div\" style=\"height:525px; width:100%;\"></div>            <script type=\"text/javascript\">                                    window.PLOTLYENV=window.PLOTLYENV || {};                                    if (document.getElementById(\"b7c318aa-ff96-4486-bdcc-2067ba831716\")) {                    Plotly.newPlot(                        \"b7c318aa-ff96-4486-bdcc-2067ba831716\",                        [{\"alignmentgroup\":\"True\",\"hovertemplate\":\"Churn=No\\u003cbr\\u003eSeniorCitizen=0\\u003cbr\\u003eInternetService=%{x}\\u003cbr\\u003ecustomerID=%{y}\\u003cextra\\u003e\\u003c\\u002fextra\\u003e\",\"legendgroup\":\"No\",\"marker\":{\"color\":\"#636efa\",\"pattern\":{\"shape\":\"\"}},\"name\":\"No\",\"offsetgroup\":\"No\",\"orientation\":\"v\",\"showlegend\":true,\"textposition\":\"auto\",\"x\":[\"DSL\",\"Fiber optic\",\"No\"],\"xaxis\":\"x\",\"y\":[1781,1361,1366],\"yaxis\":\"y\",\"type\":\"bar\"},{\"alignmentgroup\":\"True\",\"hovertemplate\":\"Churn=No\\u003cbr\\u003eSeniorCitizen=1\\u003cbr\\u003eInternetService=%{x}\\u003cbr\\u003ecustomerID=%{y}\\u003cextra\\u003e\\u003c\\u002fextra\\u003e\",\"legendgroup\":\"No\",\"marker\":{\"color\":\"#636efa\",\"pattern\":{\"shape\":\"\"}},\"name\":\"No\",\"offsetgroup\":\"No\",\"orientation\":\"v\",\"showlegend\":false,\"textposition\":\"auto\",\"x\":[\"DSL\",\"Fiber optic\",\"No\"],\"xaxis\":\"x2\",\"y\":[181,438,47],\"yaxis\":\"y2\",\"type\":\"bar\"},{\"alignmentgroup\":\"True\",\"hovertemplate\":\"Churn=Yes\\u003cbr\\u003eSeniorCitizen=0\\u003cbr\\u003eInternetService=%{x}\\u003cbr\\u003ecustomerID=%{y}\\u003cextra\\u003e\\u003c\\u002fextra\\u003e\",\"legendgroup\":\"Yes\",\"marker\":{\"color\":\"#EF553B\",\"pattern\":{\"shape\":\"\"}},\"name\":\"Yes\",\"offsetgroup\":\"Yes\",\"orientation\":\"v\",\"showlegend\":true,\"textposition\":\"auto\",\"x\":[\"DSL\",\"Fiber optic\",\"No\"],\"xaxis\":\"x\",\"y\":[381,904,108],\"yaxis\":\"y\",\"type\":\"bar\"},{\"alignmentgroup\":\"True\",\"hovertemplate\":\"Churn=Yes\\u003cbr\\u003eSeniorCitizen=1\\u003cbr\\u003eInternetService=%{x}\\u003cbr\\u003ecustomerID=%{y}\\u003cextra\\u003e\\u003c\\u002fextra\\u003e\",\"legendgroup\":\"Yes\",\"marker\":{\"color\":\"#EF553B\",\"pattern\":{\"shape\":\"\"}},\"name\":\"Yes\",\"offsetgroup\":\"Yes\",\"orientation\":\"v\",\"showlegend\":false,\"textposition\":\"auto\",\"x\":[\"DSL\",\"Fiber optic\",\"No\"],\"xaxis\":\"x2\",\"y\":[78,393,5],\"yaxis\":\"y2\",\"type\":\"bar\"}],                        {\"template\":{\"data\":{\"histogram2dcontour\":[{\"type\":\"histogram2dcontour\",\"colorbar\":{\"outlinewidth\":0,\"ticks\":\"\"},\"colorscale\":[[0.0,\"#0d0887\"],[0.1111111111111111,\"#46039f\"],[0.2222222222222222,\"#7201a8\"],[0.3333333333333333,\"#9c179e\"],[0.4444444444444444,\"#bd3786\"],[0.5555555555555556,\"#d8576b\"],[0.6666666666666666,\"#ed7953\"],[0.7777777777777778,\"#fb9f3a\"],[0.8888888888888888,\"#fdca26\"],[1.0,\"#f0f921\"]]}],\"choropleth\":[{\"type\":\"choropleth\",\"colorbar\":{\"outlinewidth\":0,\"ticks\":\"\"}}],\"histogram2d\":[{\"type\":\"histogram2d\",\"colorbar\":{\"outlinewidth\":0,\"ticks\":\"\"},\"colorscale\":[[0.0,\"#0d0887\"],[0.1111111111111111,\"#46039f\"],[0.2222222222222222,\"#7201a8\"],[0.3333333333333333,\"#9c179e\"],[0.4444444444444444,\"#bd3786\"],[0.5555555555555556,\"#d8576b\"],[0.6666666666666666,\"#ed7953\"],[0.7777777777777778,\"#fb9f3a\"],[0.8888888888888888,\"#fdca26\"],[1.0,\"#f0f921\"]]}],\"heatmap\":[{\"type\":\"heatmap\",\"colorbar\":{\"outlinewidth\":0,\"ticks\":\"\"},\"colorscale\":[[0.0,\"#0d0887\"],[0.1111111111111111,\"#46039f\"],[0.2222222222222222,\"#7201a8\"],[0.3333333333333333,\"#9c179e\"],[0.4444444444444444,\"#bd3786\"],[0.5555555555555556,\"#d8576b\"],[0.6666666666666666,\"#ed7953\"],[0.7777777777777778,\"#fb9f3a\"],[0.8888888888888888,\"#fdca26\"],[1.0,\"#f0f921\"]]}],\"heatmapgl\":[{\"type\":\"heatmapgl\",\"colorbar\":{\"outlinewidth\":0,\"ticks\":\"\"},\"colorscale\":[[0.0,\"#0d0887\"],[0.1111111111111111,\"#46039f\"],[0.2222222222222222,\"#7201a8\"],[0.3333333333333333,\"#9c179e\"],[0.4444444444444444,\"#bd3786\"],[0.5555555555555556,\"#d8576b\"],[0.6666666666666666,\"#ed7953\"],[0.7777777777777778,\"#fb9f3a\"],[0.8888888888888888,\"#fdca26\"],[1.0,\"#f0f921\"]]}],\"contourcarpet\":[{\"type\":\"contourcarpet\",\"colorbar\":{\"outlinewidth\":0,\"ticks\":\"\"}}],\"contour\":[{\"type\":\"contour\",\"colorbar\":{\"outlinewidth\":0,\"ticks\":\"\"},\"colorscale\":[[0.0,\"#0d0887\"],[0.1111111111111111,\"#46039f\"],[0.2222222222222222,\"#7201a8\"],[0.3333333333333333,\"#9c179e\"],[0.4444444444444444,\"#bd3786\"],[0.5555555555555556,\"#d8576b\"],[0.6666666666666666,\"#ed7953\"],[0.7777777777777778,\"#fb9f3a\"],[0.8888888888888888,\"#fdca26\"],[1.0,\"#f0f921\"]]}],\"surface\":[{\"type\":\"surface\",\"colorbar\":{\"outlinewidth\":0,\"ticks\":\"\"},\"colorscale\":[[0.0,\"#0d0887\"],[0.1111111111111111,\"#46039f\"],[0.2222222222222222,\"#7201a8\"],[0.3333333333333333,\"#9c179e\"],[0.4444444444444444,\"#bd3786\"],[0.5555555555555556,\"#d8576b\"],[0.6666666666666666,\"#ed7953\"],[0.7777777777777778,\"#fb9f3a\"],[0.8888888888888888,\"#fdca26\"],[1.0,\"#f0f921\"]]}],\"mesh3d\":[{\"type\":\"mesh3d\",\"colorbar\":{\"outlinewidth\":0,\"ticks\":\"\"}}],\"scatter\":[{\"fillpattern\":{\"fillmode\":\"overlay\",\"size\":10,\"solidity\":0.2},\"type\":\"scatter\"}],\"parcoords\":[{\"type\":\"parcoords\",\"line\":{\"colorbar\":{\"outlinewidth\":0,\"ticks\":\"\"}}}],\"scatterpolargl\":[{\"type\":\"scatterpolargl\",\"marker\":{\"colorbar\":{\"outlinewidth\":0,\"ticks\":\"\"}}}],\"bar\":[{\"error_x\":{\"color\":\"#2a3f5f\"},\"error_y\":{\"color\":\"#2a3f5f\"},\"marker\":{\"line\":{\"color\":\"#E5ECF6\",\"width\":0.5},\"pattern\":{\"fillmode\":\"overlay\",\"size\":10,\"solidity\":0.2}},\"type\":\"bar\"}],\"scattergeo\":[{\"type\":\"scattergeo\",\"marker\":{\"colorbar\":{\"outlinewidth\":0,\"ticks\":\"\"}}}],\"scatterpolar\":[{\"type\":\"scatterpolar\",\"marker\":{\"colorbar\":{\"outlinewidth\":0,\"ticks\":\"\"}}}],\"histogram\":[{\"marker\":{\"pattern\":{\"fillmode\":\"overlay\",\"size\":10,\"solidity\":0.2}},\"type\":\"histogram\"}],\"scattergl\":[{\"type\":\"scattergl\",\"marker\":{\"colorbar\":{\"outlinewidth\":0,\"ticks\":\"\"}}}],\"scatter3d\":[{\"type\":\"scatter3d\",\"line\":{\"colorbar\":{\"outlinewidth\":0,\"ticks\":\"\"}},\"marker\":{\"colorbar\":{\"outlinewidth\":0,\"ticks\":\"\"}}}],\"scattermapbox\":[{\"type\":\"scattermapbox\",\"marker\":{\"colorbar\":{\"outlinewidth\":0,\"ticks\":\"\"}}}],\"scatterternary\":[{\"type\":\"scatterternary\",\"marker\":{\"colorbar\":{\"outlinewidth\":0,\"ticks\":\"\"}}}],\"scattercarpet\":[{\"type\":\"scattercarpet\",\"marker\":{\"colorbar\":{\"outlinewidth\":0,\"ticks\":\"\"}}}],\"carpet\":[{\"aaxis\":{\"endlinecolor\":\"#2a3f5f\",\"gridcolor\":\"white\",\"linecolor\":\"white\",\"minorgridcolor\":\"white\",\"startlinecolor\":\"#2a3f5f\"},\"baxis\":{\"endlinecolor\":\"#2a3f5f\",\"gridcolor\":\"white\",\"linecolor\":\"white\",\"minorgridcolor\":\"white\",\"startlinecolor\":\"#2a3f5f\"},\"type\":\"carpet\"}],\"table\":[{\"cells\":{\"fill\":{\"color\":\"#EBF0F8\"},\"line\":{\"color\":\"white\"}},\"header\":{\"fill\":{\"color\":\"#C8D4E3\"},\"line\":{\"color\":\"white\"}},\"type\":\"table\"}],\"barpolar\":[{\"marker\":{\"line\":{\"color\":\"#E5ECF6\",\"width\":0.5},\"pattern\":{\"fillmode\":\"overlay\",\"size\":10,\"solidity\":0.2}},\"type\":\"barpolar\"}],\"pie\":[{\"automargin\":true,\"type\":\"pie\"}]},\"layout\":{\"autotypenumbers\":\"strict\",\"colorway\":[\"#636efa\",\"#EF553B\",\"#00cc96\",\"#ab63fa\",\"#FFA15A\",\"#19d3f3\",\"#FF6692\",\"#B6E880\",\"#FF97FF\",\"#FECB52\"],\"font\":{\"color\":\"#2a3f5f\"},\"hovermode\":\"closest\",\"hoverlabel\":{\"align\":\"left\"},\"paper_bgcolor\":\"white\",\"plot_bgcolor\":\"#E5ECF6\",\"polar\":{\"bgcolor\":\"#E5ECF6\",\"angularaxis\":{\"gridcolor\":\"white\",\"linecolor\":\"white\",\"ticks\":\"\"},\"radialaxis\":{\"gridcolor\":\"white\",\"linecolor\":\"white\",\"ticks\":\"\"}},\"ternary\":{\"bgcolor\":\"#E5ECF6\",\"aaxis\":{\"gridcolor\":\"white\",\"linecolor\":\"white\",\"ticks\":\"\"},\"baxis\":{\"gridcolor\":\"white\",\"linecolor\":\"white\",\"ticks\":\"\"},\"caxis\":{\"gridcolor\":\"white\",\"linecolor\":\"white\",\"ticks\":\"\"}},\"coloraxis\":{\"colorbar\":{\"outlinewidth\":0,\"ticks\":\"\"}},\"colorscale\":{\"sequential\":[[0.0,\"#0d0887\"],[0.1111111111111111,\"#46039f\"],[0.2222222222222222,\"#7201a8\"],[0.3333333333333333,\"#9c179e\"],[0.4444444444444444,\"#bd3786\"],[0.5555555555555556,\"#d8576b\"],[0.6666666666666666,\"#ed7953\"],[0.7777777777777778,\"#fb9f3a\"],[0.8888888888888888,\"#fdca26\"],[1.0,\"#f0f921\"]],\"sequentialminus\":[[0.0,\"#0d0887\"],[0.1111111111111111,\"#46039f\"],[0.2222222222222222,\"#7201a8\"],[0.3333333333333333,\"#9c179e\"],[0.4444444444444444,\"#bd3786\"],[0.5555555555555556,\"#d8576b\"],[0.6666666666666666,\"#ed7953\"],[0.7777777777777778,\"#fb9f3a\"],[0.8888888888888888,\"#fdca26\"],[1.0,\"#f0f921\"]],\"diverging\":[[0,\"#8e0152\"],[0.1,\"#c51b7d\"],[0.2,\"#de77ae\"],[0.3,\"#f1b6da\"],[0.4,\"#fde0ef\"],[0.5,\"#f7f7f7\"],[0.6,\"#e6f5d0\"],[0.7,\"#b8e186\"],[0.8,\"#7fbc41\"],[0.9,\"#4d9221\"],[1,\"#276419\"]]},\"xaxis\":{\"gridcolor\":\"white\",\"linecolor\":\"white\",\"ticks\":\"\",\"title\":{\"standoff\":15},\"zerolinecolor\":\"white\",\"automargin\":true,\"zerolinewidth\":2},\"yaxis\":{\"gridcolor\":\"white\",\"linecolor\":\"white\",\"ticks\":\"\",\"title\":{\"standoff\":15},\"zerolinecolor\":\"white\",\"automargin\":true,\"zerolinewidth\":2},\"scene\":{\"xaxis\":{\"backgroundcolor\":\"#E5ECF6\",\"gridcolor\":\"white\",\"linecolor\":\"white\",\"showbackground\":true,\"ticks\":\"\",\"zerolinecolor\":\"white\",\"gridwidth\":2},\"yaxis\":{\"backgroundcolor\":\"#E5ECF6\",\"gridcolor\":\"white\",\"linecolor\":\"white\",\"showbackground\":true,\"ticks\":\"\",\"zerolinecolor\":\"white\",\"gridwidth\":2},\"zaxis\":{\"backgroundcolor\":\"#E5ECF6\",\"gridcolor\":\"white\",\"linecolor\":\"white\",\"showbackground\":true,\"ticks\":\"\",\"zerolinecolor\":\"white\",\"gridwidth\":2}},\"shapedefaults\":{\"line\":{\"color\":\"#2a3f5f\"}},\"annotationdefaults\":{\"arrowcolor\":\"#2a3f5f\",\"arrowhead\":0,\"arrowwidth\":1},\"geo\":{\"bgcolor\":\"white\",\"landcolor\":\"#E5ECF6\",\"subunitcolor\":\"white\",\"showland\":true,\"showlakes\":true,\"lakecolor\":\"white\"},\"title\":{\"x\":0.05},\"mapbox\":{\"style\":\"light\"}}},\"xaxis\":{\"anchor\":\"y\",\"domain\":[0.0,0.49],\"title\":{\"text\":\"InternetService\"}},\"yaxis\":{\"anchor\":\"x\",\"domain\":[0.0,1.0],\"title\":{\"text\":\"customerID\"}},\"xaxis2\":{\"anchor\":\"y2\",\"domain\":[0.51,1.0],\"matches\":\"x\",\"title\":{\"text\":\"InternetService\"}},\"yaxis2\":{\"anchor\":\"x2\",\"domain\":[0.0,1.0],\"matches\":\"y\",\"showticklabels\":false},\"annotations\":[{\"font\":{},\"showarrow\":false,\"text\":\"SeniorCitizen=0\",\"x\":0.245,\"xanchor\":\"center\",\"xref\":\"paper\",\"y\":1.0,\"yanchor\":\"bottom\",\"yref\":\"paper\"},{\"font\":{},\"showarrow\":false,\"text\":\"SeniorCitizen=1\",\"x\":0.755,\"xanchor\":\"center\",\"xref\":\"paper\",\"y\":1.0,\"yanchor\":\"bottom\",\"yref\":\"paper\"}],\"legend\":{\"title\":{\"text\":\"Churn\"},\"tracegroupgap\":0},\"margin\":{\"t\":60},\"barmode\":\"group\"},                        {\"responsive\": true}                    ).then(function(){\n",
              "                            \n",
              "var gd = document.getElementById('b7c318aa-ff96-4486-bdcc-2067ba831716');\n",
              "var x = new MutationObserver(function (mutations, observer) {{\n",
              "        var display = window.getComputedStyle(gd).display;\n",
              "        if (!display || display === 'none') {{\n",
              "            console.log([gd, 'removed!']);\n",
              "            Plotly.purge(gd);\n",
              "            observer.disconnect();\n",
              "        }}\n",
              "}});\n",
              "\n",
              "// Listen for the removal of the full notebook cells\n",
              "var notebookContainer = gd.closest('#notebook-container');\n",
              "if (notebookContainer) {{\n",
              "    x.observe(notebookContainer, {childList: true});\n",
              "}}\n",
              "\n",
              "// Listen for the clearing of the current output cell\n",
              "var outputEl = gd.closest('.output');\n",
              "if (outputEl) {{\n",
              "    x.observe(outputEl, {childList: true});\n",
              "}}\n",
              "\n",
              "                        })                };                            </script>        </div>\n",
              "</body>\n",
              "</html>"
            ]
          },
          "metadata": {}
        }
      ]
    },
    {
      "cell_type": "markdown",
      "source": [
        "Among senior citizens, a larger percentage was connected to the optical fiber Internet, and for these customers we see the highest churn rate.\n",
        "\n",
        "Let's summarize everything we learned after analyzing the data:\n",
        "\n",
        "* The lowest churn rate among customers without Internet services (but there are fewer such customers)\n",
        "* 69.2% of the clients in the churn were connected to the fiber optic Internet the absence of connected technical support and online security options correlates with the churn variable\n",
        "* If we look at the context of customers' payment methods, the highest churn rate is for customers with an electronic check, regardless of the type of Internet services\n",
        "* The сhurn rate for senior citizens is almost twice as high as for non-senior citizens"
      ],
      "metadata": {
        "id": "9NQh727Vyato"
      }
    },
    {
      "cell_type": "markdown",
      "source": [
        "## Preparing data for the model\n",
        "**Changing categorical variables to numeric**"
      ],
      "metadata": {
        "id": "uMNk2Z3Mylyy"
      }
    },
    {
      "cell_type": "code",
      "source": [
        "df.head()"
      ],
      "metadata": {
        "colab": {
          "base_uri": "https://localhost:8080/",
          "height": 342
        },
        "id": "GGjgDB5D2pty",
        "outputId": "83e09d37-7d7d-45ed-a35e-f67bf52e2c4f"
      },
      "execution_count": 111,
      "outputs": [
        {
          "output_type": "execute_result",
          "data": {
            "text/plain": [
              "   customerID  gender  SeniorCitizen Partner Dependents  tenure PhoneService  \\\n",
              "0  7590-VHVEG  Female              0     Yes         No       1           No   \n",
              "1  5575-GNVDE    Male              0      No         No      34          Yes   \n",
              "2  3668-QPYBK    Male              0      No         No       2          Yes   \n",
              "3  7795-CFOCW    Male              0      No         No      45           No   \n",
              "4  9237-HQITU  Female              0      No         No       2          Yes   \n",
              "\n",
              "      MultipleLines InternetService OnlineSecurity  ... DeviceProtection  \\\n",
              "0  No phone service             DSL             No  ...               No   \n",
              "1                No             DSL            Yes  ...              Yes   \n",
              "2                No             DSL            Yes  ...               No   \n",
              "3  No phone service             DSL            Yes  ...              Yes   \n",
              "4                No     Fiber optic             No  ...               No   \n",
              "\n",
              "  TechSupport StreamingTV StreamingMovies        Contract PaperlessBilling  \\\n",
              "0          No          No              No  Month-to-month              Yes   \n",
              "1          No          No              No        One year               No   \n",
              "2          No          No              No  Month-to-month              Yes   \n",
              "3         Yes          No              No        One year               No   \n",
              "4          No          No              No  Month-to-month              Yes   \n",
              "\n",
              "               PaymentMethod MonthlyCharges  TotalCharges Churn  \n",
              "0           Electronic check          29.85         29.85    No  \n",
              "1               Mailed check          56.95        1889.5    No  \n",
              "2               Mailed check          53.85        108.15   Yes  \n",
              "3  Bank transfer (automatic)          42.30       1840.75    No  \n",
              "4           Electronic check          70.70        151.65   Yes  \n",
              "\n",
              "[5 rows x 21 columns]"
            ],
            "text/html": [
              "\n",
              "  <div id=\"df-8a8260bf-05f2-4a5c-b64c-fefdfd0fe2c0\" class=\"colab-df-container\">\n",
              "    <div>\n",
              "<style scoped>\n",
              "    .dataframe tbody tr th:only-of-type {\n",
              "        vertical-align: middle;\n",
              "    }\n",
              "\n",
              "    .dataframe tbody tr th {\n",
              "        vertical-align: top;\n",
              "    }\n",
              "\n",
              "    .dataframe thead th {\n",
              "        text-align: right;\n",
              "    }\n",
              "</style>\n",
              "<table border=\"1\" class=\"dataframe\">\n",
              "  <thead>\n",
              "    <tr style=\"text-align: right;\">\n",
              "      <th></th>\n",
              "      <th>customerID</th>\n",
              "      <th>gender</th>\n",
              "      <th>SeniorCitizen</th>\n",
              "      <th>Partner</th>\n",
              "      <th>Dependents</th>\n",
              "      <th>tenure</th>\n",
              "      <th>PhoneService</th>\n",
              "      <th>MultipleLines</th>\n",
              "      <th>InternetService</th>\n",
              "      <th>OnlineSecurity</th>\n",
              "      <th>...</th>\n",
              "      <th>DeviceProtection</th>\n",
              "      <th>TechSupport</th>\n",
              "      <th>StreamingTV</th>\n",
              "      <th>StreamingMovies</th>\n",
              "      <th>Contract</th>\n",
              "      <th>PaperlessBilling</th>\n",
              "      <th>PaymentMethod</th>\n",
              "      <th>MonthlyCharges</th>\n",
              "      <th>TotalCharges</th>\n",
              "      <th>Churn</th>\n",
              "    </tr>\n",
              "  </thead>\n",
              "  <tbody>\n",
              "    <tr>\n",
              "      <th>0</th>\n",
              "      <td>7590-VHVEG</td>\n",
              "      <td>Female</td>\n",
              "      <td>0</td>\n",
              "      <td>Yes</td>\n",
              "      <td>No</td>\n",
              "      <td>1</td>\n",
              "      <td>No</td>\n",
              "      <td>No phone service</td>\n",
              "      <td>DSL</td>\n",
              "      <td>No</td>\n",
              "      <td>...</td>\n",
              "      <td>No</td>\n",
              "      <td>No</td>\n",
              "      <td>No</td>\n",
              "      <td>No</td>\n",
              "      <td>Month-to-month</td>\n",
              "      <td>Yes</td>\n",
              "      <td>Electronic check</td>\n",
              "      <td>29.85</td>\n",
              "      <td>29.85</td>\n",
              "      <td>No</td>\n",
              "    </tr>\n",
              "    <tr>\n",
              "      <th>1</th>\n",
              "      <td>5575-GNVDE</td>\n",
              "      <td>Male</td>\n",
              "      <td>0</td>\n",
              "      <td>No</td>\n",
              "      <td>No</td>\n",
              "      <td>34</td>\n",
              "      <td>Yes</td>\n",
              "      <td>No</td>\n",
              "      <td>DSL</td>\n",
              "      <td>Yes</td>\n",
              "      <td>...</td>\n",
              "      <td>Yes</td>\n",
              "      <td>No</td>\n",
              "      <td>No</td>\n",
              "      <td>No</td>\n",
              "      <td>One year</td>\n",
              "      <td>No</td>\n",
              "      <td>Mailed check</td>\n",
              "      <td>56.95</td>\n",
              "      <td>1889.5</td>\n",
              "      <td>No</td>\n",
              "    </tr>\n",
              "    <tr>\n",
              "      <th>2</th>\n",
              "      <td>3668-QPYBK</td>\n",
              "      <td>Male</td>\n",
              "      <td>0</td>\n",
              "      <td>No</td>\n",
              "      <td>No</td>\n",
              "      <td>2</td>\n",
              "      <td>Yes</td>\n",
              "      <td>No</td>\n",
              "      <td>DSL</td>\n",
              "      <td>Yes</td>\n",
              "      <td>...</td>\n",
              "      <td>No</td>\n",
              "      <td>No</td>\n",
              "      <td>No</td>\n",
              "      <td>No</td>\n",
              "      <td>Month-to-month</td>\n",
              "      <td>Yes</td>\n",
              "      <td>Mailed check</td>\n",
              "      <td>53.85</td>\n",
              "      <td>108.15</td>\n",
              "      <td>Yes</td>\n",
              "    </tr>\n",
              "    <tr>\n",
              "      <th>3</th>\n",
              "      <td>7795-CFOCW</td>\n",
              "      <td>Male</td>\n",
              "      <td>0</td>\n",
              "      <td>No</td>\n",
              "      <td>No</td>\n",
              "      <td>45</td>\n",
              "      <td>No</td>\n",
              "      <td>No phone service</td>\n",
              "      <td>DSL</td>\n",
              "      <td>Yes</td>\n",
              "      <td>...</td>\n",
              "      <td>Yes</td>\n",
              "      <td>Yes</td>\n",
              "      <td>No</td>\n",
              "      <td>No</td>\n",
              "      <td>One year</td>\n",
              "      <td>No</td>\n",
              "      <td>Bank transfer (automatic)</td>\n",
              "      <td>42.30</td>\n",
              "      <td>1840.75</td>\n",
              "      <td>No</td>\n",
              "    </tr>\n",
              "    <tr>\n",
              "      <th>4</th>\n",
              "      <td>9237-HQITU</td>\n",
              "      <td>Female</td>\n",
              "      <td>0</td>\n",
              "      <td>No</td>\n",
              "      <td>No</td>\n",
              "      <td>2</td>\n",
              "      <td>Yes</td>\n",
              "      <td>No</td>\n",
              "      <td>Fiber optic</td>\n",
              "      <td>No</td>\n",
              "      <td>...</td>\n",
              "      <td>No</td>\n",
              "      <td>No</td>\n",
              "      <td>No</td>\n",
              "      <td>No</td>\n",
              "      <td>Month-to-month</td>\n",
              "      <td>Yes</td>\n",
              "      <td>Electronic check</td>\n",
              "      <td>70.70</td>\n",
              "      <td>151.65</td>\n",
              "      <td>Yes</td>\n",
              "    </tr>\n",
              "  </tbody>\n",
              "</table>\n",
              "<p>5 rows × 21 columns</p>\n",
              "</div>\n",
              "    <div class=\"colab-df-buttons\">\n",
              "\n",
              "  <div class=\"colab-df-container\">\n",
              "    <button class=\"colab-df-convert\" onclick=\"convertToInteractive('df-8a8260bf-05f2-4a5c-b64c-fefdfd0fe2c0')\"\n",
              "            title=\"Convert this dataframe to an interactive table.\"\n",
              "            style=\"display:none;\">\n",
              "\n",
              "  <svg xmlns=\"http://www.w3.org/2000/svg\" height=\"24px\" viewBox=\"0 -960 960 960\">\n",
              "    <path d=\"M120-120v-720h720v720H120Zm60-500h600v-160H180v160Zm220 220h160v-160H400v160Zm0 220h160v-160H400v160ZM180-400h160v-160H180v160Zm440 0h160v-160H620v160ZM180-180h160v-160H180v160Zm440 0h160v-160H620v160Z\"/>\n",
              "  </svg>\n",
              "    </button>\n",
              "\n",
              "  <style>\n",
              "    .colab-df-container {\n",
              "      display:flex;\n",
              "      gap: 12px;\n",
              "    }\n",
              "\n",
              "    .colab-df-convert {\n",
              "      background-color: #E8F0FE;\n",
              "      border: none;\n",
              "      border-radius: 50%;\n",
              "      cursor: pointer;\n",
              "      display: none;\n",
              "      fill: #1967D2;\n",
              "      height: 32px;\n",
              "      padding: 0 0 0 0;\n",
              "      width: 32px;\n",
              "    }\n",
              "\n",
              "    .colab-df-convert:hover {\n",
              "      background-color: #E2EBFA;\n",
              "      box-shadow: 0px 1px 2px rgba(60, 64, 67, 0.3), 0px 1px 3px 1px rgba(60, 64, 67, 0.15);\n",
              "      fill: #174EA6;\n",
              "    }\n",
              "\n",
              "    .colab-df-buttons div {\n",
              "      margin-bottom: 4px;\n",
              "    }\n",
              "\n",
              "    [theme=dark] .colab-df-convert {\n",
              "      background-color: #3B4455;\n",
              "      fill: #D2E3FC;\n",
              "    }\n",
              "\n",
              "    [theme=dark] .colab-df-convert:hover {\n",
              "      background-color: #434B5C;\n",
              "      box-shadow: 0px 1px 3px 1px rgba(0, 0, 0, 0.15);\n",
              "      filter: drop-shadow(0px 1px 2px rgba(0, 0, 0, 0.3));\n",
              "      fill: #FFFFFF;\n",
              "    }\n",
              "  </style>\n",
              "\n",
              "    <script>\n",
              "      const buttonEl =\n",
              "        document.querySelector('#df-8a8260bf-05f2-4a5c-b64c-fefdfd0fe2c0 button.colab-df-convert');\n",
              "      buttonEl.style.display =\n",
              "        google.colab.kernel.accessAllowed ? 'block' : 'none';\n",
              "\n",
              "      async function convertToInteractive(key) {\n",
              "        const element = document.querySelector('#df-8a8260bf-05f2-4a5c-b64c-fefdfd0fe2c0');\n",
              "        const dataTable =\n",
              "          await google.colab.kernel.invokeFunction('convertToInteractive',\n",
              "                                                    [key], {});\n",
              "        if (!dataTable) return;\n",
              "\n",
              "        const docLinkHtml = 'Like what you see? Visit the ' +\n",
              "          '<a target=\"_blank\" href=https://colab.research.google.com/notebooks/data_table.ipynb>data table notebook</a>'\n",
              "          + ' to learn more about interactive tables.';\n",
              "        element.innerHTML = '';\n",
              "        dataTable['output_type'] = 'display_data';\n",
              "        await google.colab.output.renderOutput(dataTable, element);\n",
              "        const docLink = document.createElement('div');\n",
              "        docLink.innerHTML = docLinkHtml;\n",
              "        element.appendChild(docLink);\n",
              "      }\n",
              "    </script>\n",
              "  </div>\n",
              "\n",
              "\n",
              "<div id=\"df-d1b5889f-181f-408b-85da-5474a9a9634d\">\n",
              "  <button class=\"colab-df-quickchart\" onclick=\"quickchart('df-d1b5889f-181f-408b-85da-5474a9a9634d')\"\n",
              "            title=\"Suggest charts\"\n",
              "            style=\"display:none;\">\n",
              "\n",
              "<svg xmlns=\"http://www.w3.org/2000/svg\" height=\"24px\"viewBox=\"0 0 24 24\"\n",
              "     width=\"24px\">\n",
              "    <g>\n",
              "        <path d=\"M19 3H5c-1.1 0-2 .9-2 2v14c0 1.1.9 2 2 2h14c1.1 0 2-.9 2-2V5c0-1.1-.9-2-2-2zM9 17H7v-7h2v7zm4 0h-2V7h2v10zm4 0h-2v-4h2v4z\"/>\n",
              "    </g>\n",
              "</svg>\n",
              "  </button>\n",
              "\n",
              "<style>\n",
              "  .colab-df-quickchart {\n",
              "      --bg-color: #E8F0FE;\n",
              "      --fill-color: #1967D2;\n",
              "      --hover-bg-color: #E2EBFA;\n",
              "      --hover-fill-color: #174EA6;\n",
              "      --disabled-fill-color: #AAA;\n",
              "      --disabled-bg-color: #DDD;\n",
              "  }\n",
              "\n",
              "  [theme=dark] .colab-df-quickchart {\n",
              "      --bg-color: #3B4455;\n",
              "      --fill-color: #D2E3FC;\n",
              "      --hover-bg-color: #434B5C;\n",
              "      --hover-fill-color: #FFFFFF;\n",
              "      --disabled-bg-color: #3B4455;\n",
              "      --disabled-fill-color: #666;\n",
              "  }\n",
              "\n",
              "  .colab-df-quickchart {\n",
              "    background-color: var(--bg-color);\n",
              "    border: none;\n",
              "    border-radius: 50%;\n",
              "    cursor: pointer;\n",
              "    display: none;\n",
              "    fill: var(--fill-color);\n",
              "    height: 32px;\n",
              "    padding: 0;\n",
              "    width: 32px;\n",
              "  }\n",
              "\n",
              "  .colab-df-quickchart:hover {\n",
              "    background-color: var(--hover-bg-color);\n",
              "    box-shadow: 0 1px 2px rgba(60, 64, 67, 0.3), 0 1px 3px 1px rgba(60, 64, 67, 0.15);\n",
              "    fill: var(--button-hover-fill-color);\n",
              "  }\n",
              "\n",
              "  .colab-df-quickchart-complete:disabled,\n",
              "  .colab-df-quickchart-complete:disabled:hover {\n",
              "    background-color: var(--disabled-bg-color);\n",
              "    fill: var(--disabled-fill-color);\n",
              "    box-shadow: none;\n",
              "  }\n",
              "\n",
              "  .colab-df-spinner {\n",
              "    border: 2px solid var(--fill-color);\n",
              "    border-color: transparent;\n",
              "    border-bottom-color: var(--fill-color);\n",
              "    animation:\n",
              "      spin 1s steps(1) infinite;\n",
              "  }\n",
              "\n",
              "  @keyframes spin {\n",
              "    0% {\n",
              "      border-color: transparent;\n",
              "      border-bottom-color: var(--fill-color);\n",
              "      border-left-color: var(--fill-color);\n",
              "    }\n",
              "    20% {\n",
              "      border-color: transparent;\n",
              "      border-left-color: var(--fill-color);\n",
              "      border-top-color: var(--fill-color);\n",
              "    }\n",
              "    30% {\n",
              "      border-color: transparent;\n",
              "      border-left-color: var(--fill-color);\n",
              "      border-top-color: var(--fill-color);\n",
              "      border-right-color: var(--fill-color);\n",
              "    }\n",
              "    40% {\n",
              "      border-color: transparent;\n",
              "      border-right-color: var(--fill-color);\n",
              "      border-top-color: var(--fill-color);\n",
              "    }\n",
              "    60% {\n",
              "      border-color: transparent;\n",
              "      border-right-color: var(--fill-color);\n",
              "    }\n",
              "    80% {\n",
              "      border-color: transparent;\n",
              "      border-right-color: var(--fill-color);\n",
              "      border-bottom-color: var(--fill-color);\n",
              "    }\n",
              "    90% {\n",
              "      border-color: transparent;\n",
              "      border-bottom-color: var(--fill-color);\n",
              "    }\n",
              "  }\n",
              "</style>\n",
              "\n",
              "  <script>\n",
              "    async function quickchart(key) {\n",
              "      const quickchartButtonEl =\n",
              "        document.querySelector('#' + key + ' button');\n",
              "      quickchartButtonEl.disabled = true;  // To prevent multiple clicks.\n",
              "      quickchartButtonEl.classList.add('colab-df-spinner');\n",
              "      try {\n",
              "        const charts = await google.colab.kernel.invokeFunction(\n",
              "            'suggestCharts', [key], {});\n",
              "      } catch (error) {\n",
              "        console.error('Error during call to suggestCharts:', error);\n",
              "      }\n",
              "      quickchartButtonEl.classList.remove('colab-df-spinner');\n",
              "      quickchartButtonEl.classList.add('colab-df-quickchart-complete');\n",
              "    }\n",
              "    (() => {\n",
              "      let quickchartButtonEl =\n",
              "        document.querySelector('#df-d1b5889f-181f-408b-85da-5474a9a9634d button');\n",
              "      quickchartButtonEl.style.display =\n",
              "        google.colab.kernel.accessAllowed ? 'block' : 'none';\n",
              "    })();\n",
              "  </script>\n",
              "</div>\n",
              "\n",
              "    </div>\n",
              "  </div>\n"
            ],
            "application/vnd.google.colaboratory.intrinsic+json": {
              "type": "dataframe",
              "variable_name": "df"
            }
          },
          "metadata": {},
          "execution_count": 111
        }
      ]
    },
    {
      "cell_type": "code",
      "source": [
        "df.info()"
      ],
      "metadata": {
        "colab": {
          "base_uri": "https://localhost:8080/"
        },
        "id": "VSzTkByh3GsS",
        "outputId": "d9f94d77-695c-4bd5-ccf8-00508f814743"
      },
      "execution_count": 112,
      "outputs": [
        {
          "output_type": "stream",
          "name": "stdout",
          "text": [
            "<class 'pandas.core.frame.DataFrame'>\n",
            "RangeIndex: 7043 entries, 0 to 7042\n",
            "Data columns (total 21 columns):\n",
            " #   Column            Non-Null Count  Dtype  \n",
            "---  ------            --------------  -----  \n",
            " 0   customerID        7043 non-null   object \n",
            " 1   gender            7043 non-null   object \n",
            " 2   SeniorCitizen     7043 non-null   int64  \n",
            " 3   Partner           7043 non-null   object \n",
            " 4   Dependents        7043 non-null   object \n",
            " 5   tenure            7043 non-null   int64  \n",
            " 6   PhoneService      7043 non-null   object \n",
            " 7   MultipleLines     7043 non-null   object \n",
            " 8   InternetService   7043 non-null   object \n",
            " 9   OnlineSecurity    7043 non-null   object \n",
            " 10  OnlineBackup      7043 non-null   object \n",
            " 11  DeviceProtection  7043 non-null   object \n",
            " 12  TechSupport       7043 non-null   object \n",
            " 13  StreamingTV       7043 non-null   object \n",
            " 14  StreamingMovies   7043 non-null   object \n",
            " 15  Contract          7043 non-null   object \n",
            " 16  PaperlessBilling  7043 non-null   object \n",
            " 17  PaymentMethod     7043 non-null   object \n",
            " 18  MonthlyCharges    7043 non-null   float64\n",
            " 19  TotalCharges      7032 non-null   object \n",
            " 20  Churn             7043 non-null   object \n",
            "dtypes: float64(1), int64(2), object(18)\n",
            "memory usage: 1.1+ MB\n"
          ]
        }
      ]
    },
    {
      "cell_type": "code",
      "source": [
        "df['Churn'].replace(to_replace='Yes', value=1, inplace=True)\n",
        "df['Churn'].replace(to_replace='No',  value=0, inplace=True)\n"
      ],
      "metadata": {
        "id": "bFtIPWmUykc8"
      },
      "execution_count": 114,
      "outputs": []
    },
    {
      "cell_type": "code",
      "source": [
        "def encode_data(dataframe_series):\n",
        "    if dataframe_series.dtype=='object':\n",
        "        dataframe_series = LabelEncoder().fit_transform(dataframe_series)\n",
        "    return dataframe_series"
      ],
      "metadata": {
        "id": "W_LT0ppGzuSw"
      },
      "execution_count": 115,
      "outputs": []
    },
    {
      "cell_type": "code",
      "source": [
        "data = df.apply(lambda x: encode_data(x))\n",
        "data.head()"
      ],
      "metadata": {
        "colab": {
          "base_uri": "https://localhost:8080/",
          "height": 256
        },
        "id": "IZPfIaTj57IU",
        "outputId": "83a5a434-15cf-46bf-e1d3-c549c26c1022"
      },
      "execution_count": 117,
      "outputs": [
        {
          "output_type": "execute_result",
          "data": {
            "text/plain": [
              "   customerID  gender  SeniorCitizen  Partner  Dependents  tenure  \\\n",
              "0        5375       0              0        1           0       1   \n",
              "1        3962       1              0        0           0      34   \n",
              "2        2564       1              0        0           0       2   \n",
              "3        5535       1              0        0           0      45   \n",
              "4        6511       0              0        0           0       2   \n",
              "\n",
              "   PhoneService  MultipleLines  InternetService  OnlineSecurity  ...  \\\n",
              "0             0              1                0               0  ...   \n",
              "1             1              0                0               2  ...   \n",
              "2             1              0                0               2  ...   \n",
              "3             0              1                0               2  ...   \n",
              "4             1              0                1               0  ...   \n",
              "\n",
              "   DeviceProtection  TechSupport  StreamingTV  StreamingMovies  Contract  \\\n",
              "0                 0            0            0                0         0   \n",
              "1                 2            0            0                0         1   \n",
              "2                 0            0            0                0         0   \n",
              "3                 2            2            0                0         1   \n",
              "4                 0            0            0                0         0   \n",
              "\n",
              "   PaperlessBilling  PaymentMethod  MonthlyCharges  TotalCharges  Churn  \n",
              "0                 1              2           29.85            74      0  \n",
              "1                 0              3           56.95          3624      0  \n",
              "2                 1              3           53.85           536      1  \n",
              "3                 0              0           42.30          3570      0  \n",
              "4                 1              2           70.70           674      1  \n",
              "\n",
              "[5 rows x 21 columns]"
            ],
            "text/html": [
              "\n",
              "  <div id=\"df-6a5857d0-39f2-4835-837c-6c7c0b55043c\" class=\"colab-df-container\">\n",
              "    <div>\n",
              "<style scoped>\n",
              "    .dataframe tbody tr th:only-of-type {\n",
              "        vertical-align: middle;\n",
              "    }\n",
              "\n",
              "    .dataframe tbody tr th {\n",
              "        vertical-align: top;\n",
              "    }\n",
              "\n",
              "    .dataframe thead th {\n",
              "        text-align: right;\n",
              "    }\n",
              "</style>\n",
              "<table border=\"1\" class=\"dataframe\">\n",
              "  <thead>\n",
              "    <tr style=\"text-align: right;\">\n",
              "      <th></th>\n",
              "      <th>customerID</th>\n",
              "      <th>gender</th>\n",
              "      <th>SeniorCitizen</th>\n",
              "      <th>Partner</th>\n",
              "      <th>Dependents</th>\n",
              "      <th>tenure</th>\n",
              "      <th>PhoneService</th>\n",
              "      <th>MultipleLines</th>\n",
              "      <th>InternetService</th>\n",
              "      <th>OnlineSecurity</th>\n",
              "      <th>...</th>\n",
              "      <th>DeviceProtection</th>\n",
              "      <th>TechSupport</th>\n",
              "      <th>StreamingTV</th>\n",
              "      <th>StreamingMovies</th>\n",
              "      <th>Contract</th>\n",
              "      <th>PaperlessBilling</th>\n",
              "      <th>PaymentMethod</th>\n",
              "      <th>MonthlyCharges</th>\n",
              "      <th>TotalCharges</th>\n",
              "      <th>Churn</th>\n",
              "    </tr>\n",
              "  </thead>\n",
              "  <tbody>\n",
              "    <tr>\n",
              "      <th>0</th>\n",
              "      <td>5375</td>\n",
              "      <td>0</td>\n",
              "      <td>0</td>\n",
              "      <td>1</td>\n",
              "      <td>0</td>\n",
              "      <td>1</td>\n",
              "      <td>0</td>\n",
              "      <td>1</td>\n",
              "      <td>0</td>\n",
              "      <td>0</td>\n",
              "      <td>...</td>\n",
              "      <td>0</td>\n",
              "      <td>0</td>\n",
              "      <td>0</td>\n",
              "      <td>0</td>\n",
              "      <td>0</td>\n",
              "      <td>1</td>\n",
              "      <td>2</td>\n",
              "      <td>29.85</td>\n",
              "      <td>74</td>\n",
              "      <td>0</td>\n",
              "    </tr>\n",
              "    <tr>\n",
              "      <th>1</th>\n",
              "      <td>3962</td>\n",
              "      <td>1</td>\n",
              "      <td>0</td>\n",
              "      <td>0</td>\n",
              "      <td>0</td>\n",
              "      <td>34</td>\n",
              "      <td>1</td>\n",
              "      <td>0</td>\n",
              "      <td>0</td>\n",
              "      <td>2</td>\n",
              "      <td>...</td>\n",
              "      <td>2</td>\n",
              "      <td>0</td>\n",
              "      <td>0</td>\n",
              "      <td>0</td>\n",
              "      <td>1</td>\n",
              "      <td>0</td>\n",
              "      <td>3</td>\n",
              "      <td>56.95</td>\n",
              "      <td>3624</td>\n",
              "      <td>0</td>\n",
              "    </tr>\n",
              "    <tr>\n",
              "      <th>2</th>\n",
              "      <td>2564</td>\n",
              "      <td>1</td>\n",
              "      <td>0</td>\n",
              "      <td>0</td>\n",
              "      <td>0</td>\n",
              "      <td>2</td>\n",
              "      <td>1</td>\n",
              "      <td>0</td>\n",
              "      <td>0</td>\n",
              "      <td>2</td>\n",
              "      <td>...</td>\n",
              "      <td>0</td>\n",
              "      <td>0</td>\n",
              "      <td>0</td>\n",
              "      <td>0</td>\n",
              "      <td>0</td>\n",
              "      <td>1</td>\n",
              "      <td>3</td>\n",
              "      <td>53.85</td>\n",
              "      <td>536</td>\n",
              "      <td>1</td>\n",
              "    </tr>\n",
              "    <tr>\n",
              "      <th>3</th>\n",
              "      <td>5535</td>\n",
              "      <td>1</td>\n",
              "      <td>0</td>\n",
              "      <td>0</td>\n",
              "      <td>0</td>\n",
              "      <td>45</td>\n",
              "      <td>0</td>\n",
              "      <td>1</td>\n",
              "      <td>0</td>\n",
              "      <td>2</td>\n",
              "      <td>...</td>\n",
              "      <td>2</td>\n",
              "      <td>2</td>\n",
              "      <td>0</td>\n",
              "      <td>0</td>\n",
              "      <td>1</td>\n",
              "      <td>0</td>\n",
              "      <td>0</td>\n",
              "      <td>42.30</td>\n",
              "      <td>3570</td>\n",
              "      <td>0</td>\n",
              "    </tr>\n",
              "    <tr>\n",
              "      <th>4</th>\n",
              "      <td>6511</td>\n",
              "      <td>0</td>\n",
              "      <td>0</td>\n",
              "      <td>0</td>\n",
              "      <td>0</td>\n",
              "      <td>2</td>\n",
              "      <td>1</td>\n",
              "      <td>0</td>\n",
              "      <td>1</td>\n",
              "      <td>0</td>\n",
              "      <td>...</td>\n",
              "      <td>0</td>\n",
              "      <td>0</td>\n",
              "      <td>0</td>\n",
              "      <td>0</td>\n",
              "      <td>0</td>\n",
              "      <td>1</td>\n",
              "      <td>2</td>\n",
              "      <td>70.70</td>\n",
              "      <td>674</td>\n",
              "      <td>1</td>\n",
              "    </tr>\n",
              "  </tbody>\n",
              "</table>\n",
              "<p>5 rows × 21 columns</p>\n",
              "</div>\n",
              "    <div class=\"colab-df-buttons\">\n",
              "\n",
              "  <div class=\"colab-df-container\">\n",
              "    <button class=\"colab-df-convert\" onclick=\"convertToInteractive('df-6a5857d0-39f2-4835-837c-6c7c0b55043c')\"\n",
              "            title=\"Convert this dataframe to an interactive table.\"\n",
              "            style=\"display:none;\">\n",
              "\n",
              "  <svg xmlns=\"http://www.w3.org/2000/svg\" height=\"24px\" viewBox=\"0 -960 960 960\">\n",
              "    <path d=\"M120-120v-720h720v720H120Zm60-500h600v-160H180v160Zm220 220h160v-160H400v160Zm0 220h160v-160H400v160ZM180-400h160v-160H180v160Zm440 0h160v-160H620v160ZM180-180h160v-160H180v160Zm440 0h160v-160H620v160Z\"/>\n",
              "  </svg>\n",
              "    </button>\n",
              "\n",
              "  <style>\n",
              "    .colab-df-container {\n",
              "      display:flex;\n",
              "      gap: 12px;\n",
              "    }\n",
              "\n",
              "    .colab-df-convert {\n",
              "      background-color: #E8F0FE;\n",
              "      border: none;\n",
              "      border-radius: 50%;\n",
              "      cursor: pointer;\n",
              "      display: none;\n",
              "      fill: #1967D2;\n",
              "      height: 32px;\n",
              "      padding: 0 0 0 0;\n",
              "      width: 32px;\n",
              "    }\n",
              "\n",
              "    .colab-df-convert:hover {\n",
              "      background-color: #E2EBFA;\n",
              "      box-shadow: 0px 1px 2px rgba(60, 64, 67, 0.3), 0px 1px 3px 1px rgba(60, 64, 67, 0.15);\n",
              "      fill: #174EA6;\n",
              "    }\n",
              "\n",
              "    .colab-df-buttons div {\n",
              "      margin-bottom: 4px;\n",
              "    }\n",
              "\n",
              "    [theme=dark] .colab-df-convert {\n",
              "      background-color: #3B4455;\n",
              "      fill: #D2E3FC;\n",
              "    }\n",
              "\n",
              "    [theme=dark] .colab-df-convert:hover {\n",
              "      background-color: #434B5C;\n",
              "      box-shadow: 0px 1px 3px 1px rgba(0, 0, 0, 0.15);\n",
              "      filter: drop-shadow(0px 1px 2px rgba(0, 0, 0, 0.3));\n",
              "      fill: #FFFFFF;\n",
              "    }\n",
              "  </style>\n",
              "\n",
              "    <script>\n",
              "      const buttonEl =\n",
              "        document.querySelector('#df-6a5857d0-39f2-4835-837c-6c7c0b55043c button.colab-df-convert');\n",
              "      buttonEl.style.display =\n",
              "        google.colab.kernel.accessAllowed ? 'block' : 'none';\n",
              "\n",
              "      async function convertToInteractive(key) {\n",
              "        const element = document.querySelector('#df-6a5857d0-39f2-4835-837c-6c7c0b55043c');\n",
              "        const dataTable =\n",
              "          await google.colab.kernel.invokeFunction('convertToInteractive',\n",
              "                                                    [key], {});\n",
              "        if (!dataTable) return;\n",
              "\n",
              "        const docLinkHtml = 'Like what you see? Visit the ' +\n",
              "          '<a target=\"_blank\" href=https://colab.research.google.com/notebooks/data_table.ipynb>data table notebook</a>'\n",
              "          + ' to learn more about interactive tables.';\n",
              "        element.innerHTML = '';\n",
              "        dataTable['output_type'] = 'display_data';\n",
              "        await google.colab.output.renderOutput(dataTable, element);\n",
              "        const docLink = document.createElement('div');\n",
              "        docLink.innerHTML = docLinkHtml;\n",
              "        element.appendChild(docLink);\n",
              "      }\n",
              "    </script>\n",
              "  </div>\n",
              "\n",
              "\n",
              "<div id=\"df-422f64e3-690f-435b-9d2b-d65653702d5a\">\n",
              "  <button class=\"colab-df-quickchart\" onclick=\"quickchart('df-422f64e3-690f-435b-9d2b-d65653702d5a')\"\n",
              "            title=\"Suggest charts\"\n",
              "            style=\"display:none;\">\n",
              "\n",
              "<svg xmlns=\"http://www.w3.org/2000/svg\" height=\"24px\"viewBox=\"0 0 24 24\"\n",
              "     width=\"24px\">\n",
              "    <g>\n",
              "        <path d=\"M19 3H5c-1.1 0-2 .9-2 2v14c0 1.1.9 2 2 2h14c1.1 0 2-.9 2-2V5c0-1.1-.9-2-2-2zM9 17H7v-7h2v7zm4 0h-2V7h2v10zm4 0h-2v-4h2v4z\"/>\n",
              "    </g>\n",
              "</svg>\n",
              "  </button>\n",
              "\n",
              "<style>\n",
              "  .colab-df-quickchart {\n",
              "      --bg-color: #E8F0FE;\n",
              "      --fill-color: #1967D2;\n",
              "      --hover-bg-color: #E2EBFA;\n",
              "      --hover-fill-color: #174EA6;\n",
              "      --disabled-fill-color: #AAA;\n",
              "      --disabled-bg-color: #DDD;\n",
              "  }\n",
              "\n",
              "  [theme=dark] .colab-df-quickchart {\n",
              "      --bg-color: #3B4455;\n",
              "      --fill-color: #D2E3FC;\n",
              "      --hover-bg-color: #434B5C;\n",
              "      --hover-fill-color: #FFFFFF;\n",
              "      --disabled-bg-color: #3B4455;\n",
              "      --disabled-fill-color: #666;\n",
              "  }\n",
              "\n",
              "  .colab-df-quickchart {\n",
              "    background-color: var(--bg-color);\n",
              "    border: none;\n",
              "    border-radius: 50%;\n",
              "    cursor: pointer;\n",
              "    display: none;\n",
              "    fill: var(--fill-color);\n",
              "    height: 32px;\n",
              "    padding: 0;\n",
              "    width: 32px;\n",
              "  }\n",
              "\n",
              "  .colab-df-quickchart:hover {\n",
              "    background-color: var(--hover-bg-color);\n",
              "    box-shadow: 0 1px 2px rgba(60, 64, 67, 0.3), 0 1px 3px 1px rgba(60, 64, 67, 0.15);\n",
              "    fill: var(--button-hover-fill-color);\n",
              "  }\n",
              "\n",
              "  .colab-df-quickchart-complete:disabled,\n",
              "  .colab-df-quickchart-complete:disabled:hover {\n",
              "    background-color: var(--disabled-bg-color);\n",
              "    fill: var(--disabled-fill-color);\n",
              "    box-shadow: none;\n",
              "  }\n",
              "\n",
              "  .colab-df-spinner {\n",
              "    border: 2px solid var(--fill-color);\n",
              "    border-color: transparent;\n",
              "    border-bottom-color: var(--fill-color);\n",
              "    animation:\n",
              "      spin 1s steps(1) infinite;\n",
              "  }\n",
              "\n",
              "  @keyframes spin {\n",
              "    0% {\n",
              "      border-color: transparent;\n",
              "      border-bottom-color: var(--fill-color);\n",
              "      border-left-color: var(--fill-color);\n",
              "    }\n",
              "    20% {\n",
              "      border-color: transparent;\n",
              "      border-left-color: var(--fill-color);\n",
              "      border-top-color: var(--fill-color);\n",
              "    }\n",
              "    30% {\n",
              "      border-color: transparent;\n",
              "      border-left-color: var(--fill-color);\n",
              "      border-top-color: var(--fill-color);\n",
              "      border-right-color: var(--fill-color);\n",
              "    }\n",
              "    40% {\n",
              "      border-color: transparent;\n",
              "      border-right-color: var(--fill-color);\n",
              "      border-top-color: var(--fill-color);\n",
              "    }\n",
              "    60% {\n",
              "      border-color: transparent;\n",
              "      border-right-color: var(--fill-color);\n",
              "    }\n",
              "    80% {\n",
              "      border-color: transparent;\n",
              "      border-right-color: var(--fill-color);\n",
              "      border-bottom-color: var(--fill-color);\n",
              "    }\n",
              "    90% {\n",
              "      border-color: transparent;\n",
              "      border-bottom-color: var(--fill-color);\n",
              "    }\n",
              "  }\n",
              "</style>\n",
              "\n",
              "  <script>\n",
              "    async function quickchart(key) {\n",
              "      const quickchartButtonEl =\n",
              "        document.querySelector('#' + key + ' button');\n",
              "      quickchartButtonEl.disabled = true;  // To prevent multiple clicks.\n",
              "      quickchartButtonEl.classList.add('colab-df-spinner');\n",
              "      try {\n",
              "        const charts = await google.colab.kernel.invokeFunction(\n",
              "            'suggestCharts', [key], {});\n",
              "      } catch (error) {\n",
              "        console.error('Error during call to suggestCharts:', error);\n",
              "      }\n",
              "      quickchartButtonEl.classList.remove('colab-df-spinner');\n",
              "      quickchartButtonEl.classList.add('colab-df-quickchart-complete');\n",
              "    }\n",
              "    (() => {\n",
              "      let quickchartButtonEl =\n",
              "        document.querySelector('#df-422f64e3-690f-435b-9d2b-d65653702d5a button');\n",
              "      quickchartButtonEl.style.display =\n",
              "        google.colab.kernel.accessAllowed ? 'block' : 'none';\n",
              "    })();\n",
              "  </script>\n",
              "</div>\n",
              "\n",
              "    </div>\n",
              "  </div>\n"
            ],
            "application/vnd.google.colaboratory.intrinsic+json": {
              "type": "dataframe",
              "variable_name": "data"
            }
          },
          "metadata": {},
          "execution_count": 117
        }
      ]
    },
    {
      "cell_type": "code",
      "source": [
        "fig = px.bar(data.corr()['Churn'].sort_values(ascending = False),\n",
        "             color = 'value')\n",
        "fig.show()"
      ],
      "metadata": {
        "colab": {
          "base_uri": "https://localhost:8080/",
          "height": 542
        },
        "id": "qjwLuby95-Gw",
        "outputId": "c4222a47-0038-4393-f40e-4888fd272e31"
      },
      "execution_count": 119,
      "outputs": [
        {
          "output_type": "display_data",
          "data": {
            "text/html": [
              "<html>\n",
              "<head><meta charset=\"utf-8\" /></head>\n",
              "<body>\n",
              "    <div>            <script src=\"https://cdnjs.cloudflare.com/ajax/libs/mathjax/2.7.5/MathJax.js?config=TeX-AMS-MML_SVG\"></script><script type=\"text/javascript\">if (window.MathJax && window.MathJax.Hub && window.MathJax.Hub.Config) {window.MathJax.Hub.Config({SVG: {font: \"STIX-Web\"}});}</script>                <script type=\"text/javascript\">window.PlotlyConfig = {MathJaxConfig: 'local'};</script>\n",
              "        <script charset=\"utf-8\" src=\"https://cdn.plot.ly/plotly-2.24.1.min.js\"></script>                <div id=\"eaac7356-717a-4da3-9b5f-c64dd56ef0ba\" class=\"plotly-graph-div\" style=\"height:525px; width:100%;\"></div>            <script type=\"text/javascript\">                                    window.PLOTLYENV=window.PLOTLYENV || {};                                    if (document.getElementById(\"eaac7356-717a-4da3-9b5f-c64dd56ef0ba\")) {                    Plotly.newPlot(                        \"eaac7356-717a-4da3-9b5f-c64dd56ef0ba\",                        [{\"alignmentgroup\":\"True\",\"hovertemplate\":\"index=%{x}\\u003cbr\\u003evalue=%{marker.color}\\u003cextra\\u003e\\u003c\\u002fextra\\u003e\",\"legendgroup\":\"\",\"marker\":{\"color\":[1.0,0.19335642223784716,0.19182533166646878,0.15088932817647233,0.10706200587340331,0.03803688560618697,0.011941980029003084,-0.00861209507899784,-0.017447211416579483,-0.03658099337318685,-0.03849162851988731,-0.04729138768314237,-0.15044754495917623,-0.1642214015797254,-0.1781338610668767,-0.19552501409217554,-0.23187267319811972,-0.2824916082046515,-0.28930899612232397,-0.35222867011307885,-0.39671262920984274],\"coloraxis\":\"coloraxis\",\"pattern\":{\"shape\":\"\"}},\"name\":\"\",\"offsetgroup\":\"\",\"orientation\":\"v\",\"showlegend\":false,\"textposition\":\"auto\",\"x\":[\"Churn\",\"MonthlyCharges\",\"PaperlessBilling\",\"SeniorCitizen\",\"PaymentMethod\",\"MultipleLines\",\"PhoneService\",\"gender\",\"customerID\",\"StreamingTV\",\"StreamingMovies\",\"InternetService\",\"Partner\",\"Dependents\",\"DeviceProtection\",\"OnlineBackup\",\"TotalCharges\",\"TechSupport\",\"OnlineSecurity\",\"tenure\",\"Contract\"],\"xaxis\":\"x\",\"y\":[1.0,0.19335642223784716,0.19182533166646878,0.15088932817647233,0.10706200587340331,0.03803688560618697,0.011941980029003084,-0.00861209507899784,-0.017447211416579483,-0.03658099337318685,-0.03849162851988731,-0.04729138768314237,-0.15044754495917623,-0.1642214015797254,-0.1781338610668767,-0.19552501409217554,-0.23187267319811972,-0.2824916082046515,-0.28930899612232397,-0.35222867011307885,-0.39671262920984274],\"yaxis\":\"y\",\"type\":\"bar\"}],                        {\"template\":{\"data\":{\"histogram2dcontour\":[{\"type\":\"histogram2dcontour\",\"colorbar\":{\"outlinewidth\":0,\"ticks\":\"\"},\"colorscale\":[[0.0,\"#0d0887\"],[0.1111111111111111,\"#46039f\"],[0.2222222222222222,\"#7201a8\"],[0.3333333333333333,\"#9c179e\"],[0.4444444444444444,\"#bd3786\"],[0.5555555555555556,\"#d8576b\"],[0.6666666666666666,\"#ed7953\"],[0.7777777777777778,\"#fb9f3a\"],[0.8888888888888888,\"#fdca26\"],[1.0,\"#f0f921\"]]}],\"choropleth\":[{\"type\":\"choropleth\",\"colorbar\":{\"outlinewidth\":0,\"ticks\":\"\"}}],\"histogram2d\":[{\"type\":\"histogram2d\",\"colorbar\":{\"outlinewidth\":0,\"ticks\":\"\"},\"colorscale\":[[0.0,\"#0d0887\"],[0.1111111111111111,\"#46039f\"],[0.2222222222222222,\"#7201a8\"],[0.3333333333333333,\"#9c179e\"],[0.4444444444444444,\"#bd3786\"],[0.5555555555555556,\"#d8576b\"],[0.6666666666666666,\"#ed7953\"],[0.7777777777777778,\"#fb9f3a\"],[0.8888888888888888,\"#fdca26\"],[1.0,\"#f0f921\"]]}],\"heatmap\":[{\"type\":\"heatmap\",\"colorbar\":{\"outlinewidth\":0,\"ticks\":\"\"},\"colorscale\":[[0.0,\"#0d0887\"],[0.1111111111111111,\"#46039f\"],[0.2222222222222222,\"#7201a8\"],[0.3333333333333333,\"#9c179e\"],[0.4444444444444444,\"#bd3786\"],[0.5555555555555556,\"#d8576b\"],[0.6666666666666666,\"#ed7953\"],[0.7777777777777778,\"#fb9f3a\"],[0.8888888888888888,\"#fdca26\"],[1.0,\"#f0f921\"]]}],\"heatmapgl\":[{\"type\":\"heatmapgl\",\"colorbar\":{\"outlinewidth\":0,\"ticks\":\"\"},\"colorscale\":[[0.0,\"#0d0887\"],[0.1111111111111111,\"#46039f\"],[0.2222222222222222,\"#7201a8\"],[0.3333333333333333,\"#9c179e\"],[0.4444444444444444,\"#bd3786\"],[0.5555555555555556,\"#d8576b\"],[0.6666666666666666,\"#ed7953\"],[0.7777777777777778,\"#fb9f3a\"],[0.8888888888888888,\"#fdca26\"],[1.0,\"#f0f921\"]]}],\"contourcarpet\":[{\"type\":\"contourcarpet\",\"colorbar\":{\"outlinewidth\":0,\"ticks\":\"\"}}],\"contour\":[{\"type\":\"contour\",\"colorbar\":{\"outlinewidth\":0,\"ticks\":\"\"},\"colorscale\":[[0.0,\"#0d0887\"],[0.1111111111111111,\"#46039f\"],[0.2222222222222222,\"#7201a8\"],[0.3333333333333333,\"#9c179e\"],[0.4444444444444444,\"#bd3786\"],[0.5555555555555556,\"#d8576b\"],[0.6666666666666666,\"#ed7953\"],[0.7777777777777778,\"#fb9f3a\"],[0.8888888888888888,\"#fdca26\"],[1.0,\"#f0f921\"]]}],\"surface\":[{\"type\":\"surface\",\"colorbar\":{\"outlinewidth\":0,\"ticks\":\"\"},\"colorscale\":[[0.0,\"#0d0887\"],[0.1111111111111111,\"#46039f\"],[0.2222222222222222,\"#7201a8\"],[0.3333333333333333,\"#9c179e\"],[0.4444444444444444,\"#bd3786\"],[0.5555555555555556,\"#d8576b\"],[0.6666666666666666,\"#ed7953\"],[0.7777777777777778,\"#fb9f3a\"],[0.8888888888888888,\"#fdca26\"],[1.0,\"#f0f921\"]]}],\"mesh3d\":[{\"type\":\"mesh3d\",\"colorbar\":{\"outlinewidth\":0,\"ticks\":\"\"}}],\"scatter\":[{\"fillpattern\":{\"fillmode\":\"overlay\",\"size\":10,\"solidity\":0.2},\"type\":\"scatter\"}],\"parcoords\":[{\"type\":\"parcoords\",\"line\":{\"colorbar\":{\"outlinewidth\":0,\"ticks\":\"\"}}}],\"scatterpolargl\":[{\"type\":\"scatterpolargl\",\"marker\":{\"colorbar\":{\"outlinewidth\":0,\"ticks\":\"\"}}}],\"bar\":[{\"error_x\":{\"color\":\"#2a3f5f\"},\"error_y\":{\"color\":\"#2a3f5f\"},\"marker\":{\"line\":{\"color\":\"#E5ECF6\",\"width\":0.5},\"pattern\":{\"fillmode\":\"overlay\",\"size\":10,\"solidity\":0.2}},\"type\":\"bar\"}],\"scattergeo\":[{\"type\":\"scattergeo\",\"marker\":{\"colorbar\":{\"outlinewidth\":0,\"ticks\":\"\"}}}],\"scatterpolar\":[{\"type\":\"scatterpolar\",\"marker\":{\"colorbar\":{\"outlinewidth\":0,\"ticks\":\"\"}}}],\"histogram\":[{\"marker\":{\"pattern\":{\"fillmode\":\"overlay\",\"size\":10,\"solidity\":0.2}},\"type\":\"histogram\"}],\"scattergl\":[{\"type\":\"scattergl\",\"marker\":{\"colorbar\":{\"outlinewidth\":0,\"ticks\":\"\"}}}],\"scatter3d\":[{\"type\":\"scatter3d\",\"line\":{\"colorbar\":{\"outlinewidth\":0,\"ticks\":\"\"}},\"marker\":{\"colorbar\":{\"outlinewidth\":0,\"ticks\":\"\"}}}],\"scattermapbox\":[{\"type\":\"scattermapbox\",\"marker\":{\"colorbar\":{\"outlinewidth\":0,\"ticks\":\"\"}}}],\"scatterternary\":[{\"type\":\"scatterternary\",\"marker\":{\"colorbar\":{\"outlinewidth\":0,\"ticks\":\"\"}}}],\"scattercarpet\":[{\"type\":\"scattercarpet\",\"marker\":{\"colorbar\":{\"outlinewidth\":0,\"ticks\":\"\"}}}],\"carpet\":[{\"aaxis\":{\"endlinecolor\":\"#2a3f5f\",\"gridcolor\":\"white\",\"linecolor\":\"white\",\"minorgridcolor\":\"white\",\"startlinecolor\":\"#2a3f5f\"},\"baxis\":{\"endlinecolor\":\"#2a3f5f\",\"gridcolor\":\"white\",\"linecolor\":\"white\",\"minorgridcolor\":\"white\",\"startlinecolor\":\"#2a3f5f\"},\"type\":\"carpet\"}],\"table\":[{\"cells\":{\"fill\":{\"color\":\"#EBF0F8\"},\"line\":{\"color\":\"white\"}},\"header\":{\"fill\":{\"color\":\"#C8D4E3\"},\"line\":{\"color\":\"white\"}},\"type\":\"table\"}],\"barpolar\":[{\"marker\":{\"line\":{\"color\":\"#E5ECF6\",\"width\":0.5},\"pattern\":{\"fillmode\":\"overlay\",\"size\":10,\"solidity\":0.2}},\"type\":\"barpolar\"}],\"pie\":[{\"automargin\":true,\"type\":\"pie\"}]},\"layout\":{\"autotypenumbers\":\"strict\",\"colorway\":[\"#636efa\",\"#EF553B\",\"#00cc96\",\"#ab63fa\",\"#FFA15A\",\"#19d3f3\",\"#FF6692\",\"#B6E880\",\"#FF97FF\",\"#FECB52\"],\"font\":{\"color\":\"#2a3f5f\"},\"hovermode\":\"closest\",\"hoverlabel\":{\"align\":\"left\"},\"paper_bgcolor\":\"white\",\"plot_bgcolor\":\"#E5ECF6\",\"polar\":{\"bgcolor\":\"#E5ECF6\",\"angularaxis\":{\"gridcolor\":\"white\",\"linecolor\":\"white\",\"ticks\":\"\"},\"radialaxis\":{\"gridcolor\":\"white\",\"linecolor\":\"white\",\"ticks\":\"\"}},\"ternary\":{\"bgcolor\":\"#E5ECF6\",\"aaxis\":{\"gridcolor\":\"white\",\"linecolor\":\"white\",\"ticks\":\"\"},\"baxis\":{\"gridcolor\":\"white\",\"linecolor\":\"white\",\"ticks\":\"\"},\"caxis\":{\"gridcolor\":\"white\",\"linecolor\":\"white\",\"ticks\":\"\"}},\"coloraxis\":{\"colorbar\":{\"outlinewidth\":0,\"ticks\":\"\"}},\"colorscale\":{\"sequential\":[[0.0,\"#0d0887\"],[0.1111111111111111,\"#46039f\"],[0.2222222222222222,\"#7201a8\"],[0.3333333333333333,\"#9c179e\"],[0.4444444444444444,\"#bd3786\"],[0.5555555555555556,\"#d8576b\"],[0.6666666666666666,\"#ed7953\"],[0.7777777777777778,\"#fb9f3a\"],[0.8888888888888888,\"#fdca26\"],[1.0,\"#f0f921\"]],\"sequentialminus\":[[0.0,\"#0d0887\"],[0.1111111111111111,\"#46039f\"],[0.2222222222222222,\"#7201a8\"],[0.3333333333333333,\"#9c179e\"],[0.4444444444444444,\"#bd3786\"],[0.5555555555555556,\"#d8576b\"],[0.6666666666666666,\"#ed7953\"],[0.7777777777777778,\"#fb9f3a\"],[0.8888888888888888,\"#fdca26\"],[1.0,\"#f0f921\"]],\"diverging\":[[0,\"#8e0152\"],[0.1,\"#c51b7d\"],[0.2,\"#de77ae\"],[0.3,\"#f1b6da\"],[0.4,\"#fde0ef\"],[0.5,\"#f7f7f7\"],[0.6,\"#e6f5d0\"],[0.7,\"#b8e186\"],[0.8,\"#7fbc41\"],[0.9,\"#4d9221\"],[1,\"#276419\"]]},\"xaxis\":{\"gridcolor\":\"white\",\"linecolor\":\"white\",\"ticks\":\"\",\"title\":{\"standoff\":15},\"zerolinecolor\":\"white\",\"automargin\":true,\"zerolinewidth\":2},\"yaxis\":{\"gridcolor\":\"white\",\"linecolor\":\"white\",\"ticks\":\"\",\"title\":{\"standoff\":15},\"zerolinecolor\":\"white\",\"automargin\":true,\"zerolinewidth\":2},\"scene\":{\"xaxis\":{\"backgroundcolor\":\"#E5ECF6\",\"gridcolor\":\"white\",\"linecolor\":\"white\",\"showbackground\":true,\"ticks\":\"\",\"zerolinecolor\":\"white\",\"gridwidth\":2},\"yaxis\":{\"backgroundcolor\":\"#E5ECF6\",\"gridcolor\":\"white\",\"linecolor\":\"white\",\"showbackground\":true,\"ticks\":\"\",\"zerolinecolor\":\"white\",\"gridwidth\":2},\"zaxis\":{\"backgroundcolor\":\"#E5ECF6\",\"gridcolor\":\"white\",\"linecolor\":\"white\",\"showbackground\":true,\"ticks\":\"\",\"zerolinecolor\":\"white\",\"gridwidth\":2}},\"shapedefaults\":{\"line\":{\"color\":\"#2a3f5f\"}},\"annotationdefaults\":{\"arrowcolor\":\"#2a3f5f\",\"arrowhead\":0,\"arrowwidth\":1},\"geo\":{\"bgcolor\":\"white\",\"landcolor\":\"#E5ECF6\",\"subunitcolor\":\"white\",\"showland\":true,\"showlakes\":true,\"lakecolor\":\"white\"},\"title\":{\"x\":0.05},\"mapbox\":{\"style\":\"light\"}}},\"xaxis\":{\"anchor\":\"y\",\"domain\":[0.0,1.0],\"title\":{\"text\":\"index\"}},\"yaxis\":{\"anchor\":\"x\",\"domain\":[0.0,1.0],\"title\":{\"text\":\"value\"}},\"coloraxis\":{\"colorbar\":{\"title\":{\"text\":\"value\"}},\"colorscale\":[[0.0,\"#0d0887\"],[0.1111111111111111,\"#46039f\"],[0.2222222222222222,\"#7201a8\"],[0.3333333333333333,\"#9c179e\"],[0.4444444444444444,\"#bd3786\"],[0.5555555555555556,\"#d8576b\"],[0.6666666666666666,\"#ed7953\"],[0.7777777777777778,\"#fb9f3a\"],[0.8888888888888888,\"#fdca26\"],[1.0,\"#f0f921\"]]},\"legend\":{\"tracegroupgap\":0},\"margin\":{\"t\":60},\"barmode\":\"relative\"},                        {\"responsive\": true}                    ).then(function(){\n",
              "                            \n",
              "var gd = document.getElementById('eaac7356-717a-4da3-9b5f-c64dd56ef0ba');\n",
              "var x = new MutationObserver(function (mutations, observer) {{\n",
              "        var display = window.getComputedStyle(gd).display;\n",
              "        if (!display || display === 'none') {{\n",
              "            console.log([gd, 'removed!']);\n",
              "            Plotly.purge(gd);\n",
              "            observer.disconnect();\n",
              "        }}\n",
              "}});\n",
              "\n",
              "// Listen for the removal of the full notebook cells\n",
              "var notebookContainer = gd.closest('#notebook-container');\n",
              "if (notebookContainer) {{\n",
              "    x.observe(notebookContainer, {childList: true});\n",
              "}}\n",
              "\n",
              "// Listen for the clearing of the current output cell\n",
              "var outputEl = gd.closest('.output');\n",
              "if (outputEl) {{\n",
              "    x.observe(outputEl, {childList: true});\n",
              "}}\n",
              "\n",
              "                        })                };                            </script>        </div>\n",
              "</body>\n",
              "</html>"
            ]
          },
          "metadata": {}
        }
      ]
    },
    {
      "cell_type": "markdown",
      "source": [
        "**Balancing the data**"
      ],
      "metadata": {
        "id": "kDrSsGjk6Lfa"
      }
    },
    {
      "cell_type": "markdown",
      "source": [
        "We see that our data is unbalanced and we have more data about customers who are not in churn."
      ],
      "metadata": {
        "id": "zA4OXqrK6QP7"
      }
    },
    {
      "cell_type": "code",
      "source": [
        "data.groupby('Churn')['Churn'].count()"
      ],
      "metadata": {
        "colab": {
          "base_uri": "https://localhost:8080/"
        },
        "id": "2tqHR2xM6Im_",
        "outputId": "2b34d46a-d87e-4ad5-dc72-f31af81b5ae8"
      },
      "execution_count": 120,
      "outputs": [
        {
          "output_type": "execute_result",
          "data": {
            "text/plain": [
              "Churn\n",
              "0    5174\n",
              "1    1869\n",
              "Name: Churn, dtype: int64"
            ]
          },
          "metadata": {},
          "execution_count": 120
        }
      ]
    },
    {
      "cell_type": "markdown",
      "source": [
        "Unbalanced data is not good for binary classification because it can lead to biased model performance and inaccurate predictions. If the data is unbalanced, a classifier that always predicts the majority class can achieve a high accuracy rate, but such a model may not be useful in practice. To address this issue, various techniques can be used to balance the data, such as undersampling the majority class or oversampling the minority class. These techniques can help to ensure that the classifier is trained on a more balanced set of data and is therefore better equipped to make accurate predictions on new, unseen data.\n",
        "\n",
        "We will use the Synthetic Minority Oversampling technique in order to balance our classes"
      ],
      "metadata": {
        "id": "HO46KoRO6cel"
      }
    },
    {
      "cell_type": "code",
      "source": [
        "over = SMOTE(sampling_strategy = 1)\n",
        "\n",
        "x = data.drop(\"Churn\", axis = 1).values\n",
        "y = data['Churn'].values"
      ],
      "metadata": {
        "id": "O6MMlBzb6ZYJ"
      },
      "execution_count": 121,
      "outputs": []
    },
    {
      "cell_type": "code",
      "source": [
        "x,y = over.fit_resample(x,y)"
      ],
      "metadata": {
        "id": "ebctGmCb6mA3"
      },
      "execution_count": 122,
      "outputs": []
    },
    {
      "cell_type": "markdown",
      "source": [
        "#### Build a model"
      ],
      "metadata": {
        "id": "mvLXuCEw6ust"
      }
    },
    {
      "cell_type": "code",
      "source": [
        "X_train, X_test, y_train, y_test = train_test_split(x, y, random_state=2, test_size = 0.2)\n",
        ""
      ],
      "metadata": {
        "id": "kxjdg-Nk6uTf"
      },
      "execution_count": 123,
      "outputs": []
    },
    {
      "cell_type": "code",
      "source": [
        "def model(method, x_train, y_train, x_test, y_test):\n",
        "  # Train the model\n",
        "  method.fit(X_train, y_train)\n",
        "  # Make predictions on the test data and calculate confusion matrix\n",
        "  predictions = method.predict(X_test)\n",
        "  c_matrix = confusion_matrix(y_test, predictions)\n",
        "\n",
        "  # Calculate label percentages and create label strings with counts and percentages\n",
        "  percentages = (c_matrix / np.sum(c_matrix, axis = 1)[:, np.newaxis]).round(2) * 100\n",
        "  labels = [[f\"{c_matrix[i, j]}({percentages[i, j]:.2f}%)\" for j in range(c_matrix.shape[1])] for i in range(c_matrix.shape[0])]\n",
        "  labels = np.asarray(labels)\n",
        "\n",
        "  # Plot confusion matrix with labeled counts and percentages\n",
        "  sns.heatmap(c_matrix, annot=labels, fmt='', cmap='Blues')\n",
        "\n",
        "  # Evaluate model perfomance and print results\n",
        "  print(\"ROC AUC: \", '{:.2%}'.format(roc_auc_score(y_test, predictions)))\n",
        "  print(\"Model accuracy: \", '{:.2%}'.format(accuracy_score(y_test, predictions)))\n",
        "  print(classification_report(y_test, predictions))"
      ],
      "metadata": {
        "id": "AsavGoXS66bt"
      },
      "execution_count": 127,
      "outputs": []
    },
    {
      "cell_type": "markdown",
      "source": [
        "We will use Extreme Gradient Boosting Classifier"
      ],
      "metadata": {
        "id": "eUQHN1qP7Gup"
      }
    },
    {
      "cell_type": "code",
      "source": [
        "\n",
        "xgb = XGBClassifier(learning_rate= 0.001, max_depth = 3, n_estimators = 1000)"
      ],
      "metadata": {
        "id": "5oCkDI-N7ERE"
      },
      "execution_count": 128,
      "outputs": []
    },
    {
      "cell_type": "code",
      "source": [
        "model(xgb, X_train,y_train,X_test,y_test)"
      ],
      "metadata": {
        "colab": {
          "base_uri": "https://localhost:8080/",
          "height": 621
        },
        "id": "BGSd0kgD7N3Y",
        "outputId": "c51c9ec4-2343-4238-d053-ba0573f9cb6a"
      },
      "execution_count": 129,
      "outputs": [
        {
          "output_type": "stream",
          "name": "stdout",
          "text": [
            "ROC AUC:  82.07%\n",
            "Model accuracy:  82.03%\n",
            "              precision    recall  f1-score   support\n",
            "\n",
            "           0       0.89      0.74      0.80      1040\n",
            "           1       0.77      0.90      0.83      1030\n",
            "\n",
            "    accuracy                           0.82      2070\n",
            "   macro avg       0.83      0.82      0.82      2070\n",
            "weighted avg       0.83      0.82      0.82      2070\n",
            "\n"
          ]
        },
        {
          "output_type": "display_data",
          "data": {
            "text/plain": [
              "<Figure size 640x480 with 2 Axes>"
            ],
            "image/png": "[encoded data removed]"
          },
          "metadata": {}
        }
      ]
    },
    {
      "cell_type": "markdown",
      "source": [
        "**Random Forest Classifier**"
      ],
      "metadata": {
        "id": "S3Q-kdwK8Rb2"
      }
    },
    {
      "cell_type": "code",
      "source": [
        "rf = RandomForestClassifier(n_estimators=100, random_state=2)\n",
        "model(rf, X_train, y_train, X_test, y_test)"
      ],
      "metadata": {
        "colab": {
          "base_uri": "https://localhost:8080/",
          "height": 621
        },
        "id": "1f8ki_Lj7lNY",
        "outputId": "faaeca8d-eabd-4e58-ccda-15b8f44de58a"
      },
      "execution_count": 130,
      "outputs": [
        {
          "output_type": "stream",
          "name": "stdout",
          "text": [
            "ROC AUC:  86.95%\n",
            "Model accuracy:  86.96%\n",
            "              precision    recall  f1-score   support\n",
            "\n",
            "           0       0.86      0.89      0.87      1040\n",
            "           1       0.89      0.85      0.87      1030\n",
            "\n",
            "    accuracy                           0.87      2070\n",
            "   macro avg       0.87      0.87      0.87      2070\n",
            "weighted avg       0.87      0.87      0.87      2070\n",
            "\n"
          ]
        },
        {
          "output_type": "display_data",
          "data": {
            "text/plain": [
              "<Figure size 640x480 with 2 Axes>"
            ],
            "image/png": "[encoded data removed]"
          },
          "metadata": {}
        }
      ]
    },
    {
      "cell_type": "markdown",
      "source": [
        "**Decision Tree Classifier**"
      ],
      "metadata": {
        "id": "rd6rc996850T"
      }
    },
    {
      "cell_type": "code",
      "source": [
        "dt = DecisionTreeClassifier(random_state=2)\n",
        "model(dt, X_train, y_train, X_test, y_test)"
      ],
      "metadata": {
        "colab": {
          "base_uri": "https://localhost:8080/",
          "height": 621
        },
        "id": "-RZ8O-BA8-pb",
        "outputId": "47273619-4e8a-41a7-f6d1-a154f8be2f41"
      },
      "execution_count": 131,
      "outputs": [
        {
          "output_type": "stream",
          "name": "stdout",
          "text": [
            "ROC AUC:  81.31%\n",
            "Model accuracy:  81.30%\n",
            "              precision    recall  f1-score   support\n",
            "\n",
            "           0       0.82      0.80      0.81      1040\n",
            "           1       0.81      0.82      0.81      1030\n",
            "\n",
            "    accuracy                           0.81      2070\n",
            "   macro avg       0.81      0.81      0.81      2070\n",
            "weighted avg       0.81      0.81      0.81      2070\n",
            "\n"
          ]
        },
        {
          "output_type": "display_data",
          "data": {
            "text/plain": [
              "<Figure size 640x480 with 2 Axes>"
            ],
            "image/png": "[encoded data removed]"
          },
          "metadata": {}
        }
      ]
    },
    {
      "cell_type": "markdown",
      "source": [
        "## Conclusion\n",
        "\n",
        "Our models perfomed fairly good with Random forest classifier having the highest accuracy.\n",
        "\n",
        "In general, for churn prediction, minimizing false negatives (i.e., correctly identifying all customers who are likely to churn) may be more important than minimizing false positives (i.e., incorrectly identifying customers as likely to churn when they are not). So we for business could be more useful to look at F1 score than accuracy, for example. An F1 score of 86% is generally considered to be a good score for a binary classification model. But not perfect and there are a lot of ways to improve it, especially with real customer data.\n",
        "\n"
      ],
      "metadata": {
        "id": "iO9CSgQJ9qWW"
      }
    },
    {
      "cell_type": "code",
      "source": [],
      "metadata": {
        "id": "cmWFWzrQ-F15"
      },
      "execution_count": null,
      "outputs": []
    }
  ]
}